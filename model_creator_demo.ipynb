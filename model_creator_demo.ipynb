{
 "cells": [
  {
   "cell_type": "markdown",
   "id": "961a88a6",
   "metadata": {},
   "source": [
    "## Import Libraries"
   ]
  },
  {
   "cell_type": "code",
   "execution_count": 1,
   "id": "7a6a2c6f",
   "metadata": {},
   "outputs": [],
   "source": [
    "import json\n",
    "import uuid\n",
    "import io\n",
    "import copy\n",
    "import re"
   ]
  },
  {
   "cell_type": "code",
   "execution_count": 2,
   "id": "8a05123d",
   "metadata": {},
   "outputs": [],
   "source": [
    "import importlib\n",
    "cim_profile = 'rc4_2021'\n",
    "cim = importlib.import_module('cimlab.data_profile.' + cim_profile)\n",
    "sparql = importlib.import_module('cimlab.loaders.sparql.' + cim_profile)"
   ]
  },
  {
   "cell_type": "code",
   "execution_count": 3,
   "id": "898eedc6",
   "metadata": {},
   "outputs": [],
   "source": [
    "from cimgraph.loaders import Parameter, ConnectionParameters\n",
    "from cimgraph.loaders.blazegraph.blazegraph import BlazegraphConnection\n",
    "from cimgraph.models.model_parsers import add_to_catalog, add_to_typed_catalog, cim_dump, item_dump\n",
    "\n",
    "from cimgraph.models import NewModel"
   ]
  },
  {
   "cell_type": "code",
   "execution_count": 4,
   "id": "dc1f21b0",
   "metadata": {},
   "outputs": [],
   "source": [
    "# Blazegraph connection for running outside the container\n",
    "params = ConnectionParameters([Parameter(key=\"url\", value=\"http://localhost:8889/bigdata/namespace/kb/sparql\")])\n",
    "bg = BlazegraphConnection(params, 'rc4_2021')"
   ]
  },
  {
   "cell_type": "markdown",
   "id": "89436ff7",
   "metadata": {},
   "source": [
    "## Create New Feeder Model"
   ]
  },
  {
   "cell_type": "code",
   "execution_count": 5,
   "id": "3ed99208",
   "metadata": {},
   "outputs": [],
   "source": [
    "reg = cim.GeographicalRegion(name = 'demo_region', mRID = str(uuid.uuid4()))\n",
    "subreg = cim.SubGeographicalRegion(name = 'demo_subregion', mRID = str(uuid.uuid4()), Region=reg)\n",
    "sub = cim.Substation(name = 'demo_sub', mRID = str(uuid.uuid4()), Region=subreg)\n",
    "fdr = cim.Feeder(name = 'demo_feeder', mRID = str(uuid.uuid4()), NormalEnergizingSubstation=sub)"
   ]
  },
  {
   "cell_type": "code",
   "execution_count": 6,
   "id": "d8ecb158",
   "metadata": {},
   "outputs": [],
   "source": [
    "network = NewModel(bg)\n",
    "network.Feeder = fdr\n",
    "network.add_to_typed_catalog([reg, subreg, sub, fdr])"
   ]
  },
  {
   "cell_type": "code",
   "execution_count": 7,
   "id": "5cd72aa9",
   "metadata": {},
   "outputs": [],
   "source": [
    "def create_line(network, name:str, bus1:str, bus2:str):\n",
    "    line = cim.ACLineSegment(name = name, mRID = str(uuid.uuid4()), EquipmentContainer=network.Feeder)\n",
    "    node1 = cim.ConnectivityNode(name = bus1, mRID = str(uuid.uuid4()), ConnectivityNodeContainer=network.Feeder)\n",
    "    node2 = cim.ConnectivityNode(name = bus2, mRID = str(uuid.uuid4()), ConnectivityNodeContainer=network.Feeder)\n",
    "    term1 = cim.Terminal(mRID = str(uuid.uuid4()))\n",
    "    term2 = cim.Terminal(mRID = str(uuid.uuid4()))\n",
    "\n",
    "    term1.ConnectivityNode = node1\n",
    "    term2.ConnectivityNode = node2\n",
    "    term1.ConductingEquipment = line\n",
    "    term2.ConductingEquipment = line\n",
    "    node1.Terminals.append(term1)\n",
    "    node2.Terminals.append(term2)\n",
    "    line.Terminals.append(term1)\n",
    "    line.Terminals.append(term2)\n",
    "\n",
    "    network.add_to_typed_catalog([line, node1, node2, term1, term2])"
   ]
  },
  {
   "cell_type": "code",
   "execution_count": 8,
   "id": "adeab3d2",
   "metadata": {},
   "outputs": [],
   "source": [
    "name = 'line_1'\n",
    "bus1 = 'bus_1'\n",
    "bus2 = 'bus_2'\n",
    "\n",
    "create_line(network, name, bus1, bus2)\n",
    "\n",
    "for line in network.typed_catalog[cim.ACLineSegment].values():\n",
    "    line.r = 0.004\n",
    "    line.x = 0.080\n",
    "    line.b = 0.006"
   ]
  },
  {
   "cell_type": "markdown",
   "id": "3d3019bb",
   "metadata": {},
   "source": [
    "## Export and Upload"
   ]
  },
  {
   "cell_type": "code",
   "execution_count": null,
   "id": "e7e2d92a",
   "metadata": {},
   "outputs": [],
   "source": [
    "network.write_xml('demo_feeder.xml', \"http://iec.ch/TC57/CIM100#\")"
   ]
  },
  {
   "cell_type": "code",
   "execution_count": null,
   "id": "6e8e334a",
   "metadata": {},
   "outputs": [],
   "source": [
    "network."
   ]
  },
  {
   "cell_type": "code",
   "execution_count": null,
   "id": "a47c2568",
   "metadata": {},
   "outputs": [],
   "source": [
    "network.upload()"
   ]
  },
  {
   "cell_type": "code",
   "execution_count": null,
   "id": "0b65684b",
   "metadata": {},
   "outputs": [],
   "source": [
    "!python3 /home/ande188/CIMHub/src_python/cimhub/ListFeeders.py"
   ]
  },
  {
   "cell_type": "code",
   "execution_count": null,
   "id": "db09bb31",
   "metadata": {},
   "outputs": [],
   "source": [
    "cim.Measurement.PowerSystemResource\n",
    "cim.ACLineSegment."
   ]
  },
  {
   "cell_type": "code",
   "execution_count": null,
   "id": "7e579000",
   "metadata": {},
   "outputs": [],
   "source": [
    "cim.LinearShuntCompensator().ShuntCompensatorPhase"
   ]
  },
  {
   "cell_type": "code",
   "execution_count": null,
   "id": "54231450",
   "metadata": {},
   "outputs": [],
   "source": [
    "cim.ACLineSegment().ACLineSegmentPhases"
   ]
  }
 ],
 "metadata": {
  "kernelspec": {
   "display_name": "Python 3 (ipykernel)",
   "language": "python",
   "name": "python3"
  },
  "language_info": {
   "codemirror_mode": {
    "name": "ipython",
    "version": 3
   },
   "file_extension": ".py",
   "mimetype": "text/x-python",
   "name": "python",
   "nbconvert_exporter": "python",
   "pygments_lexer": "ipython3",
   "version": "3.10.12"
  }
 },
 "nbformat": 4,
 "nbformat_minor": 5
}
