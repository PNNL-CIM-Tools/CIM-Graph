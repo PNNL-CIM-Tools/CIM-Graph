{
 "cells": [
  {
   "cell_type": "markdown",
   "id": "961a88a6",
   "metadata": {},
   "source": [
    "## Import Libraries"
   ]
  },
  {
   "cell_type": "code",
   "execution_count": 1,
   "id": "7a6a2c6f",
   "metadata": {},
   "outputs": [],
   "source": [
    "import json\n",
    "import uuid\n",
    "import io\n",
    "import copy\n",
    "import re"
   ]
  },
  {
   "cell_type": "code",
   "execution_count": 2,
   "id": "8a05123d",
   "metadata": {},
   "outputs": [],
   "source": [
    "import importlib\n",
    "cim_profile = 'rc4_2021'\n",
    "cim = importlib.import_module('cimlab.data_profile.' + cim_profile)\n",
    "sparql = importlib.import_module('cimlab.loaders.sparql.' + cim_profile)"
   ]
  },
  {
   "cell_type": "code",
   "execution_count": 3,
   "id": "898eedc6",
   "metadata": {},
   "outputs": [],
   "source": [
    "from cimgraph.loaders import Parameter, ConnectionParameters\n",
    "from cimgraph.loaders.blazegraph.blazegraph import BlazegraphConnection\n",
    "from cimgraph.models.model_parsers import add_to_catalog, add_to_typed_catalog, cim_dump, item_dump\n",
    "\n",
    "from cimgraph.models import NewModel"
   ]
  },
  {
   "cell_type": "code",
   "execution_count": 4,
   "id": "dc1f21b0",
   "metadata": {},
   "outputs": [],
   "source": [
    "# Blazegraph connection for running outside the container\n",
    "params = ConnectionParameters([Parameter(key=\"url\", value=\"http://localhost:8889/bigdata/namespace/kb/sparql\")])\n",
    "bg = BlazegraphConnection(params, 'rc4_2021')"
   ]
  },
  {
   "cell_type": "markdown",
   "id": "89436ff7",
   "metadata": {},
   "source": [
    "## Create New Feeder Model"
   ]
  },
  {
   "cell_type": "code",
   "execution_count": 5,
   "id": "3ed99208",
   "metadata": {},
   "outputs": [],
   "source": [
    "reg = cim.GeographicalRegion(name = 'demo_region', mRID = str(uuid.uuid4()))\n",
    "subreg = cim.SubGeographicalRegion(name = 'demo_subregion', mRID = str(uuid.uuid4()), Region=reg)\n",
    "sub = cim.Substation(name = 'demo_sub', mRID = str(uuid.uuid4()), Region=subreg)\n",
    "fdr = cim.Feeder(name = 'demo_feeder', mRID = str(uuid.uuid4()), NormalEnergizingSubstation=sub)"
   ]
  },
  {
   "cell_type": "code",
   "execution_count": 6,
   "id": "d8ecb158",
   "metadata": {},
   "outputs": [],
   "source": [
    "network = NewModel(bg)\n",
    "network.Feeder = fdr\n",
    "network.add_to_typed_catalog([reg, subreg, sub, fdr])"
   ]
  },
  {
   "cell_type": "code",
   "execution_count": 7,
   "id": "5cd72aa9",
   "metadata": {},
   "outputs": [],
   "source": [
    "def create_line(network, name:str, bus1:str, bus2:str):\n",
    "    line = cim.ACLineSegment(name = name, mRID = str(uuid.uuid4()), EquipmentContainer=network.Feeder)\n",
    "    node1 = cim.ConnectivityNode(name = bus1, mRID = str(uuid.uuid4()), ConnectivityNodeContainer=network.Feeder)\n",
    "    node2 = cim.ConnectivityNode(name = bus2, mRID = str(uuid.uuid4()), ConnectivityNodeContainer=network.Feeder)\n",
    "    term1 = cim.Terminal(mRID = str(uuid.uuid4()))\n",
    "    term2 = cim.Terminal(mRID = str(uuid.uuid4()))\n",
    "\n",
    "    term1.ConnectivityNode = node1\n",
    "    term2.ConnectivityNode = node2\n",
    "    term1.ConductingEquipment = line\n",
    "    term2.ConductingEquipment = line\n",
    "    node1.Terminals.append(term1)\n",
    "    node2.Terminals.append(term2)\n",
    "    line.Terminals.append(term1)\n",
    "    line.Terminals.append(term2)\n",
    "\n",
    "    network.add_to_typed_catalog([line, node1, node2, term1, term2])"
   ]
  },
  {
   "cell_type": "code",
   "execution_count": 8,
   "id": "adeab3d2",
   "metadata": {},
   "outputs": [],
   "source": [
    "name = 'line_1'\n",
    "bus1 = 'bus_1'\n",
    "bus2 = 'bus_2'\n",
    "\n",
    "create_line(network, name, bus1, bus2)\n",
    "\n",
    "for line in network.typed_catalog[cim.ACLineSegment].values():\n",
    "    line.r = 0.004\n",
    "    line.x = 0.080\n",
    "    line.b = 0.006"
   ]
  },
  {
   "cell_type": "markdown",
   "id": "3d3019bb",
   "metadata": {},
   "source": [
    "## Export and Upload"
   ]
  },
  {
   "cell_type": "code",
   "execution_count": null,
   "id": "e7e2d92a",
   "metadata": {},
   "outputs": [],
   "source": [
    "network.write_xml('demo_feeder.xml', \"http://iec.ch/TC57/CIM100#\")"
   ]
  },
  {
   "cell_type": "code",
   "execution_count": null,
   "id": "a47c2568",
   "metadata": {},
   "outputs": [],
   "source": [
    "network.upload()"
   ]
  },
  {
   "cell_type": "code",
   "execution_count": 11,
   "id": "0b65684b",
   "metadata": {},
   "outputs": [
    {
     "name": "stdout",
     "output_type": "stream",
     "text": [
      "Feeder names and mRIDs:\r\n",
      "ieee123 _C1C3E687-6FFD-C753-582B-632A27E28507\r\n",
      "ieee123pv _E407CBB6-8C8D-9BC9-589C-AB83FBF0826D\r\n",
      "ieee13nodeckt _49AD8E07-3BF9-A4E2-CB8F-C3722F837B62\r\n",
      "ieee13nodecktassets _5B816B93-7A5F-B64C-8460-47C17D6E4B0F\r\n",
      "ieee13ochre _13AD8E07-3BF9-A4E2-CB8F-C3722F837B62\r\n",
      "ieee8500 _4F76A5F9-271D-9EB8-5E31-AA362D86F2C3\r\n",
      "j1 _67AB291F-DCCD-31B7-B499-338206B9828F\r\n",
      "ieee123transactive _503D6E20-F499-4CC7-8051-971E23D0BF79\r\n",
      "final9500node _EE71F6C9-56F0-4167-A14E-7F4C71F10EAA\r\n",
      "test9500new _AAE94E4A-2465-6F5E-37B1-3E72183A4E44\r\n",
      "acep_psil _77966920-E1EC-EE8A-23EE-4EFD23B205BD\r\n",
      "sourceckt _9CE150A8-8CC5-A0F9-B67E-BBD8C79D3095\r\n"
     ]
    }
   ],
   "source": [
    "!python3 /home/ande188/CIMHub/src_python/cimhub/ListFeeders.py"
   ]
  },
  {
   "cell_type": "code",
   "execution_count": 9,
   "id": "db09bb31",
   "metadata": {},
   "outputs": [
    {
     "ename": "AttributeError",
     "evalue": "type object 'ACLineSegment' has no attribute 'Measurements'",
     "output_type": "error",
     "traceback": [
      "\u001b[0;31m---------------------------------------------------------------------------\u001b[0m",
      "\u001b[0;31mAttributeError\u001b[0m                            Traceback (most recent call last)",
      "\u001b[0;32m/tmp/ipykernel_301516/1690797506.py\u001b[0m in \u001b[0;36m<module>\u001b[0;34m\u001b[0m\n\u001b[1;32m      1\u001b[0m \u001b[0mcim\u001b[0m\u001b[0;34m.\u001b[0m\u001b[0mMeasurement\u001b[0m\u001b[0;34m.\u001b[0m\u001b[0mPowerSystemResource\u001b[0m\u001b[0;34m\u001b[0m\u001b[0;34m\u001b[0m\u001b[0m\n\u001b[0;32m----> 2\u001b[0;31m \u001b[0mcim\u001b[0m\u001b[0;34m.\u001b[0m\u001b[0mACLineSegment\u001b[0m\u001b[0;34m.\u001b[0m\u001b[0mMeasurements\u001b[0m\u001b[0;34m\u001b[0m\u001b[0;34m\u001b[0m\u001b[0m\n\u001b[0m",
      "\u001b[0;31mAttributeError\u001b[0m: type object 'ACLineSegment' has no attribute 'Measurements'"
     ]
    }
   ],
   "source": [
    "cim.Measurement.PowerSystemResource\n",
    "cim.ACLineSegment."
   ]
  },
  {
   "cell_type": "code",
   "execution_count": 10,
   "id": "7e579000",
   "metadata": {},
   "outputs": [
    {
     "data": {
      "text/plain": [
       "[]"
      ]
     },
     "execution_count": 10,
     "metadata": {},
     "output_type": "execute_result"
    }
   ],
   "source": [
    "cim.LinearShuntCompensator().ShuntCompensatorPhase"
   ]
  },
  {
   "cell_type": "code",
   "execution_count": 11,
   "id": "54231450",
   "metadata": {},
   "outputs": [
    {
     "data": {
      "text/plain": [
       "[]"
      ]
     },
     "execution_count": 11,
     "metadata": {},
     "output_type": "execute_result"
    }
   ],
   "source": [
    "cim.ACLineSegment().ACLineSegmentPhases"
   ]
  }
 ],
 "metadata": {
  "kernelspec": {
   "display_name": "Python 3 (ipykernel)",
   "language": "python",
   "name": "python3"
  },
  "language_info": {
   "codemirror_mode": {
    "name": "ipython",
    "version": 3
   },
   "file_extension": ".py",
   "mimetype": "text/x-python",
   "name": "python",
   "nbconvert_exporter": "python",
   "pygments_lexer": "ipython3",
   "version": "3.10.6"
  }
 },
 "nbformat": 4,
 "nbformat_minor": 5
}
