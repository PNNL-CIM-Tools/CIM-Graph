{
 "cells": [
  {
   "cell_type": "code",
   "execution_count": null,
   "metadata": {},
   "outputs": [],
   "source": [
    "from cimgraph.databases import ConnectionParameters\n",
    "from cimgraph.databases import RDFlibConnection\n",
    "from cimgraph.models import BusBranchModel\n",
    "\n",
    "import importlib\n",
    "import cimgraph.utils as utils"
   ]
  },
  {
   "cell_type": "code",
   "execution_count": null,
   "metadata": {},
   "outputs": [],
   "source": [
    "cim_profile = 'cimhub_2023'\n",
    "cim = importlib.import_module('cimgraph.data_profile.' + cim_profile)\n",
    "\n",
    "# RDFLib File Reader Connection\n",
    "params = ConnectionParameters(filename=\"../cimgraph/tests/test_models/IEEE118_CIM.xml\", cim_profile='cimhub_2023', iec61970_301=8)\n",
    "rdf = RDFlibConnection(params)\n",
    "\n",
    "model_mrid = \"1783D2A8-1204-4781-A0B4-7A73A2FA6038\" #IEEE 118 Bus\"\n",
    "container = cim.ConnectivityNodeContainer(mRID = model_mrid)\n",
    "network = BusBranchModel(connection=rdf, container=container, distributed=False)"
   ]
  },
  {
   "cell_type": "code",
   "execution_count": null,
   "metadata": {},
   "outputs": [],
   "source": [
    "network.get_all_edges(cim.ACLineSegment)\n",
    "network.get_all_edges(cim.ConnectivityNode)\n",
    "network.get_all_edges(cim.Terminal)"
   ]
  },
  {
   "cell_type": "code",
   "execution_count": null,
   "metadata": {},
   "outputs": [],
   "source": [
    "for line in network.graph[cim.ACLineSegment].values():\n",
    "    # print('\\n line mrid: ',line.mRID)\n",
    "    print('line name:', line.name)\n",
    "    print('bus 1: ', line.Terminals[0].ConnectivityNode.name)\n",
    "    print('bus 2: ', line.Terminals[1].ConnectivityNode.name)"
   ]
  },
  {
   "cell_type": "code",
   "execution_count": null,
   "metadata": {},
   "outputs": [],
   "source": [
    "for node in network.graph[cim.ConnectivityNode].values():\n",
    "    print(\"\\n listing equipment for node\", node.name)\n",
    "    for terminal in node.Terminals:\n",
    "        equipment = terminal.ConductingEquipment\n",
    "        print(equipment.__class__.__name__, equipment.mRID)"
   ]
  },
  {
   "cell_type": "code",
   "execution_count": null,
   "metadata": {},
   "outputs": [],
   "source": [
    "network.get_all_edges(cim.EnergyConsumer)\n",
    "network.get_all_edges(cim.ConformLoad)\n",
    "network.get_all_edges(cim.NonConformLoad)\n",
    "\n",
    "for load in network.graph[cim.EnergyConsumer].values():\n",
    "    print(f\"name:{load.name}, bus:{load.Terminals[0].ConnectivityNode.name}, p:{float(load.p)/1e6} MW, q:{float(load.q)/1e6} MVAr\")\n"
   ]
  },
  {
   "cell_type": "code",
   "execution_count": null,
   "metadata": {},
   "outputs": [],
   "source": []
  }
 ],
 "metadata": {
  "kernelspec": {
   "display_name": ".venv",
   "language": "python",
   "name": "python3"
  },
  "language_info": {
   "codemirror_mode": {
    "name": "ipython",
    "version": 3
   },
   "file_extension": ".py",
   "mimetype": "text/x-python",
   "name": "python",
   "nbconvert_exporter": "python",
   "pygments_lexer": "ipython3",
   "version": "3.10.12"
  }
 },
 "nbformat": 4,
 "nbformat_minor": 2
}
