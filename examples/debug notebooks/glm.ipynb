{
 "cells": [
  {
   "cell_type": "code",
   "execution_count": 1,
   "metadata": {},
   "outputs": [],
   "source": [
    "from cimgraph.databases import ConnectionParameters, RDFlibConnection, BlazegraphConnection, Neo4jConnection\n",
    "from cimgraph.models import NodeBreakerModel, BusBranchModel, FeederModel\n",
    "from cimgraph.models.graph_model import new_mrid\n",
    "import importlib"
   ]
  },
  {
   "cell_type": "code",
   "execution_count": 2,
   "metadata": {},
   "outputs": [],
   "source": [
    "data_profile = 'gridlabd'\n",
    "glm = importlib.import_module('cimgraph.data_profile.' + data_profile)\n",
    "\n",
    "cim_profile = 'cimhub_2023'\n",
    "cim = importlib.import_module('cimgraph.data_profile.' + cim_profile)"
   ]
  },
  {
   "cell_type": "code",
   "execution_count": 3,
   "metadata": {},
   "outputs": [],
   "source": [
    "# Neo4J Connection\n",
    "params = ConnectionParameters(url = \"neo4j://localhost:7687/neo4j\", database=\"neo4j\", cim_profile=data_profile)\n",
    "neo4j = Neo4jConnection(params)\n",
    "\n",
    "feeder_mrid = 'demo'\n",
    "feeder = cim.Feeder(mRID = feeder_mrid)\n",
    "network = FeederModel(connection=neo4j, container=feeder, distributed=False)"
   ]
  },
  {
   "cell_type": "code",
   "execution_count": 4,
   "metadata": {},
   "outputs": [
    {
     "data": {
      "text/plain": [
       "node(name=None, phases=None, mRID=None, bustype=None, nominal_voltage=None, voltage_A=None, voltage_B=None, voltage_C=None, overhead_line=[], recloser=[])"
      ]
     },
     "execution_count": 4,
     "metadata": {},
     "output_type": "execute_result"
    }
   ],
   "source": [
    "glm.node()"
   ]
  },
  {
   "cell_type": "code",
   "execution_count": 5,
   "metadata": {},
   "outputs": [],
   "source": [
    "node1 = glm.node(name='node1', mRID = new_mrid())\n",
    "node2 = glm.node(name='node2', mRID = new_mrid())\n",
    "\n",
    "network.add_to_graph(node1)\n",
    "network.add_to_graph(node2)\n"
   ]
  },
  {
   "cell_type": "code",
   "execution_count": 8,
   "metadata": {},
   "outputs": [],
   "source": [
    "node1.nominal_voltage = 4160\n",
    "node1.phases = cim.OrderedPhaseCodeKind.ABCN"
   ]
  },
  {
   "cell_type": "code",
   "execution_count": 11,
   "metadata": {},
   "outputs": [],
   "source": [
    "line = glm.overhead_line(name='new_line',_from=node1, to=node2)\n",
    "network.add_to_graph(line)"
   ]
  },
  {
   "cell_type": "code",
   "execution_count": 12,
   "metadata": {},
   "outputs": [
    {
     "name": "stdout",
     "output_type": "stream",
     "text": [
      "{\n",
      "    \"null\": {\n",
      "        \"name\": \"new_line\",\n",
      "        \"_from\": \"61141626-c03f-4b6e-95a3-cf338fa11dc2\",\n",
      "        \"to\": \"d926ab4b-5309-454c-8a35-4640cb7d3632\"\n",
      "    }\n",
      "}\n"
     ]
    }
   ],
   "source": [
    "network.pprint(glm.overhead_line)"
   ]
  },
  {
   "cell_type": "code",
   "execution_count": null,
   "metadata": {},
   "outputs": [],
   "source": [
    "line."
   ]
  }
 ],
 "metadata": {
  "kernelspec": {
   "display_name": ".venv",
   "language": "python",
   "name": "python3"
  },
  "language_info": {
   "codemirror_mode": {
    "name": "ipython",
    "version": 3
   },
   "file_extension": ".py",
   "mimetype": "text/x-python",
   "name": "python",
   "nbconvert_exporter": "python",
   "pygments_lexer": "ipython3",
   "version": "3.10.12"
  }
 },
 "nbformat": 4,
 "nbformat_minor": 2
}
