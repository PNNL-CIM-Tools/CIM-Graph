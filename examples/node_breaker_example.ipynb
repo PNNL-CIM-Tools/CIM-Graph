{
 "cells": [
  {
   "cell_type": "code",
   "execution_count": 1,
   "metadata": {},
   "outputs": [],
   "source": [
    "import importlib\n",
    "cim_profile = \"rc4_2021\"\n",
    "cim = importlib.import_module(\"cimgraph.data_profile.\" + cim_profile)"
   ]
  },
  {
   "cell_type": "code",
   "execution_count": 2,
   "metadata": {},
   "outputs": [],
   "source": [
    "from cimgraph.databases import ConnectionParameters\n",
    "from cimgraph.databases import RDFlibConnection\n",
    "from cimgraph.models import NodeBreakerModel\n",
    "import json"
   ]
  },
  {
   "cell_type": "code",
   "execution_count": 3,
   "metadata": {},
   "outputs": [],
   "source": [
    "# RDFLib File Reader Connection\n",
    "params = ConnectionParameters(filename=\"../cimgraph/tests/test_models/maple10nodebreaker.xml\", cim_profile=cim_profile, iec61970_301=7)\n",
    "rdf = RDFlibConnection(params)"
   ]
  },
  {
   "cell_type": "code",
   "execution_count": 4,
   "metadata": {},
   "outputs": [],
   "source": [
    "geo_region_id = \"_EE4C60AE-550D-4599-92F4-022DF3118B3C\"\n",
    "geo_region = cim.GeographicalRegion(mRID = geo_region_id)"
   ]
  },
  {
   "cell_type": "code",
   "execution_count": 5,
   "metadata": {},
   "outputs": [],
   "source": [
    "network = NodeBreakerModel(connection=rdf, container=geo_region, distributed=False)"
   ]
  },
  {
   "cell_type": "code",
   "execution_count": 6,
   "metadata": {},
   "outputs": [],
   "source": [
    "network = NodeBreakerModel(connection=rdf, container=geo_region, distributed=True)"
   ]
  },
  {
   "cell_type": "code",
   "execution_count": 20,
   "metadata": {},
   "outputs": [
    {
     "name": "stdout",
     "output_type": "stream",
     "text": [
      "subregion small\n",
      "substation maple10bus_sub2\n",
      "voltage level SUB2_115.0_B1\n",
      "voltage level SUB2_4.16_B1\n",
      "voltage level SUB2_34.5_B1\n",
      "voltage level SUB2_230.0_B1\n",
      "feeder feeder_11 contains PV aggregates\n",
      "s10_der_ag2 1.0 MW\n",
      "feeder feeder_9 contains PV aggregates\n",
      "s9_der_ag2 2.0 MW\n",
      "feeder feeder_8 contains PV aggregates\n",
      "s9_der_ag1 1.0 MW\n",
      "feeder feeder_10 contains PV aggregates\n",
      "s10_der_ag1 5.0 MW\n",
      "substation maple10bus_sub1\n",
      "voltage level SUB1_230.0_B1\n",
      "voltage level SUB1_115.0_B1\n",
      "voltage level SUB1_12.47_B1\n",
      "voltage level SUB1_34.5_B1\n",
      "feeder feeder_4 contains PV aggregates\n",
      "s7_der_ag4 1.0 MW\n",
      "feeder feeder_1 contains PV aggregates\n",
      "s7_der_ag1 2.0 MW\n",
      "feeder feeder_5 contains PV aggregates\n",
      "s8_der_ag1 5.0 MW\n",
      "feeder feeder_6 contains PV aggregates\n",
      "s8_der_ag2 2.0 MW\n",
      "feeder feeder_3 contains PV aggregates\n",
      "s7_der_ag3 2.0 MW\n",
      "feeder feeder_7 contains PV aggregates\n",
      "s8_der_ag3 6.0 MW\n",
      "feeder feeder_2 contains PV aggregates\n",
      "none\n"
     ]
    }
   ],
   "source": [
    "for sr_area in network.distributed_areas[cim.SubGeographicalRegion].values():\n",
    "    print(\"subregion\", sr_area.container.name)\n",
    "    for sub_area in sr_area.distributed_areas[cim.Substation].values():\n",
    "        print(\"substation\", sub_area.container.name)\n",
    "\n",
    "        for vl_area in sub_area.distributed_areas[cim.VoltageLevel].values():\n",
    "            print(\"voltage level\", vl_area.container.name)\n",
    "            \n",
    "        for feeder_area in sub_area.distributed_areas[cim.Feeder].values():\n",
    "            print(\"feeder\", feeder_area.container.name, \"contains PV aggregates\")\n",
    "            feeder_area.get_all_edges(cim.PowerElectronicsConnection)\n",
    "            feeder_area.get_all_edges(cim.PhotovoltaicUnit)\n",
    "            if cim.PowerElectronicsConnection in feeder_area.graph:\n",
    "                for pv in feeder_area.graph[cim.PowerElectronicsConnection].values():\n",
    "                    print(pv.name, float(pv.p)/1000000, \"MW\")\n",
    "            else:\n",
    "                print(\"none\")\n"
   ]
  }
 ],
 "metadata": {
  "kernelspec": {
   "display_name": ".venv",
   "language": "python",
   "name": "python3"
  },
  "language_info": {
   "codemirror_mode": {
    "name": "ipython",
    "version": 3
   },
   "file_extension": ".py",
   "mimetype": "text/x-python",
   "name": "python",
   "nbconvert_exporter": "python",
   "pygments_lexer": "ipython3",
   "version": "3.10.12"
  }
 },
 "nbformat": 4,
 "nbformat_minor": 2
}
