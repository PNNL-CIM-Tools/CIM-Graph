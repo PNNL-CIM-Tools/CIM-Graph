{
 "cells": [
  {
   "cell_type": "code",
   "execution_count": 1,
   "metadata": {},
   "outputs": [
    {
     "name": "stdout",
     "output_type": "stream",
     "text": [
      "HTTP/1.1 100 Continue\n",
      "\n",
      "HTTP/1.1 200 OK\n",
      "Content-Type: application/xml;charset=iso-8859-1\n",
      "Content-Length: 62\n",
      "Server: Jetty(9.4.18.v20190429)\n",
      "\n",
      "<?xml version=\"1.0\"?><data modified=\"2615\" milliseconds=\"22\"/>"
     ]
    },
    {
     "data": {
      "text/plain": [
       "0"
      ]
     },
     "execution_count": 1,
     "metadata": {},
     "output_type": "execute_result"
    }
   ],
   "source": [
    "import subprocess\n",
    "filename = \"./maple10busnodebreaker.xml\"\n",
    "url = \"http://localhost:8889/bigdata/namespace/kb/sparql\"\n",
    "subprocess.call([\"curl\", \"-s\", \"-D-\", \"-H\", \"Content-Type: application/xml\", \"--upload-file\", filename, \"-X\", \"Post\", url])\n"
   ]
  },
  {
   "cell_type": "code",
   "execution_count": 2,
   "metadata": {},
   "outputs": [],
   "source": [
    "import importlib\n",
    "cim_profile = \"rc4_2021\"\n",
    "cim = importlib.import_module(\"cimgraph.data_profile.\" + cim_profile)"
   ]
  },
  {
   "cell_type": "code",
   "execution_count": 3,
   "metadata": {},
   "outputs": [],
   "source": [
    "from cimgraph.databases import Parameter, ConnectionParameters\n",
    "from cimgraph.databases.blazegraph.blazegraph import BlazegraphConnection\n",
    "# from cimgraph.databases.gridappsd import GridappsdConnection, get_topology_response\n",
    "from cimgraph.models import NodeBreakerModel\n",
    "import json\n",
    "import time"
   ]
  },
  {
   "cell_type": "code",
   "execution_count": 4,
   "metadata": {},
   "outputs": [],
   "source": [
    "params = ConnectionParameters(url = \"http://localhost:8889/bigdata/namespace/kb/sparql\",  cim_profile=cim_profile)\n",
    "bg = BlazegraphConnection(params)"
   ]
  },
  {
   "cell_type": "code",
   "execution_count": 5,
   "metadata": {},
   "outputs": [],
   "source": [
    "geo_region_id = \"_EE4C60AE-550D-4599-92F4-022DF3118B3C\"\n",
    "geo_region = cim.GeographicalRegion(mRID = geo_region_id)"
   ]
  },
  {
   "cell_type": "code",
   "execution_count": 6,
   "metadata": {},
   "outputs": [],
   "source": [
    "network = NodeBreakerModel(connection=bg, container=geo_region, distributed=False)\n",
    "network.add_to_graph(geo_region)"
   ]
  },
  {
   "cell_type": "code",
   "execution_count": 7,
   "metadata": {},
   "outputs": [],
   "source": [
    "cim_class = cim.SubGeographicalRegion"
   ]
  },
  {
   "cell_type": "code",
   "execution_count": 8,
   "metadata": {},
   "outputs": [
    {
     "name": "stdout",
     "output_type": "stream",
     "text": [
      "{}\n"
     ]
    }
   ],
   "source": [
    "network.get_all_edges(cim_class)\n",
    "network.pprint(cim_class)"
   ]
  },
  {
   "cell_type": "code",
   "execution_count": null,
   "metadata": {},
   "outputs": [],
   "source": []
  },
  {
   "cell_type": "code",
   "execution_count": 9,
   "metadata": {},
   "outputs": [
    {
     "name": "stdout",
     "output_type": "stream",
     "text": [
      "[\n",
      "    {\n",
      "        \"container\": \"GeographicalRegion\",\n",
      "        \"contains\": [\n",
      "            {\n",
      "                \"container\": \"SubGeographicalRegion\",\n",
      "                \"contains\": [\n",
      "                    {\n",
      "                        \"container\": \"Substation\",\n",
      "                        \"contains\": [\n",
      "                            {\n",
      "                                \"container\": \"VoltageLevel\",\n",
      "                                \"contains\": [\n",
      "                                    {\n",
      "                                        \"container\": \"Bay\",\n",
      "                                        \"contains\": []\n",
      "                                    }\n",
      "                                ]\n",
      "                            },\n",
      "                            {\n",
      "                                \"container\": \"Feeder\",\n",
      "                                \"contains\": []\n",
      "                            }\n",
      "                        ]\n",
      "                    }\n",
      "                ]\n",
      "            }\n",
      "        ]\n",
      "    }\n",
      "]\n"
     ]
    }
   ],
   "source": [
    "feeder = {}\n",
    "feeder[\"container\"] = \"Feeder\"\n",
    "feeder[\"contains\"] = []\n",
    "\n",
    "bay = {}\n",
    "bay[\"container\"] = \"Bay\"\n",
    "bay[\"contains\"] = []\n",
    "\n",
    "voltage_level = {}\n",
    "voltage_level[\"container\"] = \"VoltageLevel\"\n",
    "voltage_level[\"contains\"] = [bay]\n",
    "\n",
    "sub_area = {}\n",
    "sub_area[\"container\"] = \"Substation\"\n",
    "sub_area[\"contains\"] = [voltage_level, feeder]\n",
    "\n",
    "subregion = {}\n",
    "subregion[\"container\"] = \"SubGeographicalRegion\"\n",
    "subregion[\"contains\"] = [sub_area]\n",
    "\n",
    "region = {}\n",
    "region[\"container\"] = \"GeographicalRegion\"\n",
    "region[\"contains\"] = [subregion]\n",
    "\n",
    "distributed_hierarchy = [region]\n",
    "\n",
    "print(json.dumps(distributed_hierarchy, indent=4))"
   ]
  },
  {
   "cell_type": "code",
   "execution_count": 10,
   "metadata": {},
   "outputs": [],
   "source": [
    "network = NodeBreakerModel(connection=bg, container=geo_region, distributed=True, distributed_hierarchy=distributed_hierarchy)"
   ]
  },
  {
   "cell_type": "code",
   "execution_count": 14,
   "metadata": {},
   "outputs": [
    {
     "name": "stdout",
     "output_type": "stream",
     "text": [
      "subregion small\n",
      "substation maple10bus_sub1\n",
      "voltage level SUB1_230.0_B1\n",
      "voltage level SUB1_34.5_B1\n",
      "voltage level SUB1_115.0_B1\n",
      "voltage level SUB1_12.47_B1\n",
      "substation maple10bus_sub2\n",
      "voltage level SUB2_34.5_B1\n",
      "voltage level SUB2_4.16_B1\n",
      "voltage level SUB2_115.0_B1\n",
      "voltage level SUB2_230.0_B1\n"
     ]
    }
   ],
   "source": [
    "\n",
    "for sr_area in network.distributed_areas[cim.SubGeographicalRegion].values():\n",
    "    print(\"subregion\", sr_area.container.name)\n",
    "    for sub_area in sr_area.distributed_areas[cim.Substation].values():\n",
    "        print(\"substation\", sub_area.container.name)\n",
    "        for vl_area in sub_area.distributed_areas[cim.VoltageLevel].values():\n",
    "            print(\"voltage level\", vl_area.container.name)\n",
    "        sub_area.get_all_edges(cim.Substation)\n",
    "            \n"
   ]
  },
  {
   "cell_type": "code",
   "execution_count": 12,
   "metadata": {},
   "outputs": [
    {
     "data": {
      "text/plain": [
       "1"
      ]
     },
     "execution_count": 12,
     "metadata": {},
     "output_type": "execute_result"
    }
   ],
   "source": [
    "len(network.distributed_areas[cim.SubGeographicalRegion])"
   ]
  },
  {
   "cell_type": "code",
   "execution_count": 13,
   "metadata": {},
   "outputs": [
    {
     "name": "stdout",
     "output_type": "stream",
     "text": [
      "\n",
      "        PREFIX r:  <http://www.w3.org/1999/02/22-rdf-syntax-ns#>\n",
      "        PREFIX cim:  <http://iec.ch/TC57/CIM100#>\n",
      "        SELECT DISTINCT ?mRID ?attribute ?value ?edge\n",
      "        WHERE {          \n",
      "          ?eq r:type cim:Substation.\n",
      "        VALUES ?mRID { \"_FBE667A8-D26D-4B6B-AF9D-74AE20E96041\" \n",
      "               } \n",
      "        ?eq cim:IdentifiedObject.mRID ?mRID.        \n",
      "        {?eq (cim:|!cim:) ?val.\n",
      "         ?eq ?attr ?val.}\n",
      "        UNION\n",
      "        {?val (cim:|!cim:) ?eq.\n",
      "         ?val ?attr ?eq.}\n",
      "        \n",
      "        {bind(strafter(str(?attr),\"#\") as ?attribute)}\n",
      "        {bind(strafter(str(?val),\"#\") as ?uri)}\n",
      "        {bind(if(?uri = \"\", ?val, ?uri) as ?value)}\n",
      "          \n",
      "        OPTIONAL {?val a ?classraw.\n",
      "                  bind(strafter(str(?classraw),\"http://iec.ch/TC57/CIM100#\") as ?edge_class)\n",
      "                  {bind(strafter(str(?val),\"#\") as ?uri)}\n",
      "                  OPTIONAL {?val cim:IdentifiedObject.mRID ?edge_id.}\n",
      "                  bind(exists{?val cim:IdentifiedObject.mRID ?edge_id} as ?mRID_exists)\n",
      "                 {bind(if(?mRID_exists, ?edge_id, ?uri) as ?edge_mRID)}.\n",
      "\n",
      "                  bind(concat(\"{\\\"@id\\\":\\\"\", ?edge_mRID,\"\\\",\\\"@type\\\":\\\"\", ?edge_class, \"\\\"}\") as ?edge)}\n",
      "        }\n",
      "\n",
      "        ORDER by  ?mRID ?attribute\n",
      "        \n"
     ]
    }
   ],
   "source": [
    "print(sub_area.get_edges_query(cim.Substation))"
   ]
  },
  {
   "cell_type": "code",
   "execution_count": null,
   "metadata": {},
   "outputs": [],
   "source": []
  }
 ],
 "metadata": {
  "kernelspec": {
   "display_name": ".venv",
   "language": "python",
   "name": "python3"
  },
  "language_info": {
   "codemirror_mode": {
    "name": "ipython",
    "version": 3
   },
   "file_extension": ".py",
   "mimetype": "text/x-python",
   "name": "python",
   "nbconvert_exporter": "python",
   "pygments_lexer": "ipython3",
   "version": "3.10.12"
  }
 },
 "nbformat": 4,
 "nbformat_minor": 2
}
