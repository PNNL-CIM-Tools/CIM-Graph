{
 "cells": [
  {
   "cell_type": "code",
   "execution_count": 1,
   "metadata": {},
   "outputs": [],
   "source": [
    "import importlib\n",
    "cim_profile = 'cimhub_2023'\n",
    "cim = importlib.import_module('cimgraph.data_profile.' + cim_profile)"
   ]
  },
  {
   "cell_type": "code",
   "execution_count": 2,
   "metadata": {},
   "outputs": [],
   "source": [
    "from cimgraph.databases import ConnectionParameters\n",
    "from cimgraph.databases import RDFlibConnection\n",
    "from cimgraph.models import FeederModel\n",
    "from cimgraph.models import NodeBreakerModel\n",
    "from cimgraph.models import BusBranchModel\n",
    "from cimgraph.tests.test_get_all_edges import test_get_all_edges"
   ]
  },
  {
   "cell_type": "code",
   "execution_count": 4,
   "metadata": {},
   "outputs": [],
   "source": [
    "cim_profile = 'cimhub_2023'\n",
    "cim = importlib.import_module('cimgraph.data_profile.' + cim_profile)\n",
    "\n",
    "# RDFLib File Reader Connection\n",
    "params = ConnectionParameters(filename=\"../cimgraph/tests/test_models/ieee13.xml\", cim_profile='cimhub_2023', iec61970_301=8)\n",
    "rdf = RDFlibConnection(params)\n",
    "\n",
    "feeder_mrid = \"49AD8E07-3BF9-A4E2-CB8F-C3722F837B62\"\n",
    "feeder = cim.Feeder(mRID = feeder_mrid)\n",
    "network = FeederModel(connection=rdf, container=feeder, distributed=False)\n",
    "\n"
   ]
  },
  {
   "cell_type": "code",
   "execution_count": 17,
   "metadata": {},
   "outputs": [],
   "source": [
    "# Get everything related to buses\n",
    "network.get_all_edges(cim.Terminal)\n",
    "network.get_all_edges(cim.ConnectivityNode)\n",
    "network.get_all_edges(cim.Location)\n",
    "network.get_all_edges(cim.PositionPoint)\n",
    "network.get_all_edges(cim.Feeder)\n",
    "network.get_all_edges(cim.Substation)"
   ]
  },
  {
   "cell_type": "code",
   "execution_count": 11,
   "metadata": {},
   "outputs": [],
   "source": [
    "import logging\n",
    "_log = logging.getLogger(__name__)"
   ]
  },
  {
   "cell_type": "code",
   "execution_count": 15,
   "metadata": {},
   "outputs": [],
   "source": [
    "# Get capacitor data\n",
    "network.get_all_edges(cim.LinearShuntCompensator)\n",
    "network.get_all_edges(cim.LinearShuntCompensatorPhase)\n",
    "network.get_all_edges(cim.RegulatingControl)"
   ]
  },
  {
   "cell_type": "code",
   "execution_count": 21,
   "metadata": {},
   "outputs": [
    {
     "data": {
      "text/plain": [
       "41.6666664"
      ]
     },
     "execution_count": 21,
     "metadata": {},
     "output_type": "execute_result"
    }
   ],
   "source": []
  },
  {
   "cell_type": "code",
   "execution_count": null,
   "metadata": {},
   "outputs": [],
   "source": []
  },
  {
   "cell_type": "code",
   "execution_count": 22,
   "metadata": {},
   "outputs": [],
   "source": [
    "# get ditto capacitor info\n",
    "\n",
    "for element in network.graph[cim.LinearShuntCompensator].values():\n",
    "    susceptance = float(element.bPerSection)\n",
    "    conductance = float(element.gPerSection)\n",
    "    # resistance = 1 / conductance #not in CIM\n",
    "    susceptance0 = float(element.b0PerSection)\n",
    "    conductance0 = float(element.g0PerSection)\n",
    "    # resistance0 = 1 / conductance0\n",
    "    connecting_element = element.Terminals[0].ConnectivityNode\n",
    "\n",
    "    if element.RegulatingControl is not None:\n",
    "        high = element.RegulatingControl #TODO should  be vmax in opendss -- figure out Tom's converter \n",
    "        low = element.RegulatingControl #TODO should  be vmax in opendss -- figure out Tom's converter \n",
    "        mode = element.RegulatingControl.mode #enum\n",
    "    delay = float(element.aVRDelay)\n",
    "    nominal_voltage = float(element.nomU)\n",
    "\n",
    "    positions = element.Location.PositionPoints\n",
    "\n",
    "    measuring_element = None #TODO associate with OpenDSS line object meas\n",
    "    \n",
    "    pt_ratio = None #missing?\n",
    "    pt_phase = None\n",
    "    ct_ratio = None #missing?\n",
    "    \n",
    "\n",
    "    connection_type = element.phaseConnection\n",
    "\n",
    "    container = element.EquipmentContainer\n",
    "    if container.__class__.__name__ == \"Feeder\":\n",
    "        feeder_name = container.name\n",
    "        substation_name = container.NormalEnergizingSubstation.name\n",
    "        is_substation = False\n",
    "    elif container.__class__.__name__ == \"Substation\":\n",
    "        feeder_name = None\n",
    "        substation_name = container.name\n",
    "        is_substation = True\n",
    "    else:\n",
    "        feeder_name = None\n",
    "        try:\n",
    "            substation_name = container.Substation.name\n",
    "        except:\n",
    "            _log.warning(\"could not identify feeder or substation\")\n",
    "\n",
    "    for phase in element.ShuntCompensatorPhase:\n",
    "        switch = phase.sections #TODO: figure out difference between switch and sections\n",
    "        sections = phase.sections \n",
    "        normalsections = phase.normalSections\n",
    "        var = nominal_voltage * nominal_voltage * float(phase.bPerSection)\n",
    "\n",
    "        \n",
    "\n"
   ]
  },
  {
   "cell_type": "code",
   "execution_count": 36,
   "metadata": {},
   "outputs": [
    {
     "data": {
      "text/plain": [
       "99999.99935999999"
      ]
     },
     "execution_count": 36,
     "metadata": {},
     "output_type": "execute_result"
    }
   ],
   "source": [
    "nominal_voltage * nominal_voltage * float(phase.bPerSection)\n"
   ]
  },
  {
   "cell_type": "code",
   "execution_count": 9,
   "metadata": {},
   "outputs": [
    {
     "name": "stdout",
     "output_type": "stream",
     "text": [
      "{\n",
      "    \"A9DE8829-58CB-4750-B2A2-672846A89753\": {\n",
      "        \"mRID\": \"A9DE8829-58CB-4750-B2A2-672846A89753\",\n",
      "        \"aliasName\": \"\",\n",
      "        \"description\": \"\",\n",
      "        \"name\": \"cap1\",\n",
      "        \"Names\": \"\",\n",
      "        \"AssetDatasheet\": \"\",\n",
      "        \"Assets\": \"\",\n",
      "        \"ConfigurationEvent\": \"\",\n",
      "        \"Controls\": \"\",\n",
      "        \"Location\": \"62A249A4-4BF9-42BB-9E0A-06D132216D9A\",\n",
      "        \"Measurements\": \"\",\n",
      "        \"OperatingShare\": \"\",\n",
      "        \"PSRType\": \"\",\n",
      "        \"ReportingGroup\": \"\",\n",
      "        \"aggregate\": \"\",\n",
      "        \"inService\": \"\",\n",
      "        \"networkAnalysisEnabled\": \"\",\n",
      "        \"normallyInService\": \"\",\n",
      "        \"AdditionalEquipmentContainer\": \"\",\n",
      "        \"EquipmentContainer\": \"49AD8E07-3BF9-A4E2-CB8F-C3722F837B62\",\n",
      "        \"Faults\": \"\",\n",
      "        \"OperationalLimitSet\": \"\",\n",
      "        \"UsagePoints\": \"\",\n",
      "        \"BaseVoltage\": \"2A158E0C-CD01-4A50-AEBA-59D761FCF15D\",\n",
      "        \"SvStatus\": \"\",\n",
      "        \"Terminals\": \"['5B38070B-E918-4EAA-8BDB-8B3CE4F8A917']\",\n",
      "        \"EnergyConnectionProfile\": \"\",\n",
      "        \"controlEnabled\": \"\",\n",
      "        \"RegulatingControl\": \"\",\n",
      "        \"aVRDelay\": \"0\",\n",
      "        \"grounded\": \"true\",\n",
      "        \"maximumSections\": \"1\",\n",
      "        \"nomU\": \"4160\",\n",
      "        \"normalSections\": \"1\",\n",
      "        \"phaseConnection\": \"PhaseShuntConnectionKind.Y\",\n",
      "        \"sections\": \"1\",\n",
      "        \"ShuntCompensatorPhase\": \"\",\n",
      "        \"SvShuntCompensatorSections\": \"\",\n",
      "        \"b0PerSection\": \"0.034670858\",\n",
      "        \"bPerSection\": \"0.034670858\",\n",
      "        \"g0PerSection\": \"0\",\n",
      "        \"gPerSection\": \"0\"\n",
      "    },\n",
      "    \"9D725810-BFD6-44C6-961A-2BC027F6FC95\": {\n",
      "        \"mRID\": \"9D725810-BFD6-44C6-961A-2BC027F6FC95\",\n",
      "        \"aliasName\": \"\",\n",
      "        \"description\": \"\",\n",
      "        \"name\": \"cap2\",\n",
      "        \"Names\": \"\",\n",
      "        \"AssetDatasheet\": \"\",\n",
      "        \"Assets\": \"\",\n",
      "        \"ConfigurationEvent\": \"\",\n",
      "        \"Controls\": \"\",\n",
      "        \"Location\": \"FC53E92B-32FE-4DE3-B77D-BE8D4364B5F8\",\n",
      "        \"Measurements\": \"\",\n",
      "        \"OperatingShare\": \"\",\n",
      "        \"PSRType\": \"\",\n",
      "        \"ReportingGroup\": \"\",\n",
      "        \"aggregate\": \"\",\n",
      "        \"inService\": \"\",\n",
      "        \"networkAnalysisEnabled\": \"\",\n",
      "        \"normallyInService\": \"\",\n",
      "        \"AdditionalEquipmentContainer\": \"\",\n",
      "        \"EquipmentContainer\": \"49AD8E07-3BF9-A4E2-CB8F-C3722F837B62\",\n",
      "        \"Faults\": \"\",\n",
      "        \"OperationalLimitSet\": \"\",\n",
      "        \"UsagePoints\": \"\",\n",
      "        \"BaseVoltage\": \"2A158E0C-CD01-4A50-AEBA-59D761FCF15D\",\n",
      "        \"SvStatus\": \"\",\n",
      "        \"Terminals\": \"['FD3834FF-6C3B-434F-A41D-77EB8237F53D']\",\n",
      "        \"EnergyConnectionProfile\": \"\",\n",
      "        \"controlEnabled\": \"\",\n",
      "        \"RegulatingControl\": \"\",\n",
      "        \"aVRDelay\": \"0\",\n",
      "        \"grounded\": \"true\",\n",
      "        \"maximumSections\": \"1\",\n",
      "        \"nomU\": \"2400\",\n",
      "        \"normalSections\": \"1\",\n",
      "        \"phaseConnection\": \"PhaseShuntConnectionKind.Y\",\n",
      "        \"sections\": \"1\",\n",
      "        \"ShuntCompensatorPhase\": \"['F0354E54-66FE-4ED2-BF73-0E9BA72DC51F']\",\n",
      "        \"SvShuntCompensatorSections\": \"\",\n",
      "        \"b0PerSection\": \"0.017361111\",\n",
      "        \"bPerSection\": \"0.017361111\",\n",
      "        \"g0PerSection\": \"0\",\n",
      "        \"gPerSection\": \"0\"\n",
      "    }\n",
      "}\n"
     ]
    }
   ],
   "source": [
    "network.pprint(cim.LinearShuntCompensator, show_empty=True)"
   ]
  },
  {
   "cell_type": "code",
   "execution_count": null,
   "metadata": {},
   "outputs": [],
   "source": []
  },
  {
   "cell_type": "code",
   "execution_count": 5,
   "metadata": {},
   "outputs": [],
   "source": [
    "# Get everything related to transformers\n",
    "network.get_all_edges(cim.PowerTransformer)\n",
    "network.get_all_edges(cim.TransformerTank)\n",
    "network.get_all_edges(cim.TransformerTankEnd)\n",
    "network.get_all_edges(cim.TransformerTankInfo)\n",
    "network.get_all_edges(cim.TransformerEndInfo)\n",
    "network.get_all_edges(cim.PowerTransformerEnd)\n",
    "network.get_all_edges(cim.PowerTransformerInfo)\n",
    "network.get_all_edges(cim.TransformerCoreAdmittance)\n",
    "network.get_all_edges(cim.TransformerMeshImpedance)\n",
    "network.get_all_edges(cim.TransformerStarImpedance)\n",
    "network.get_all_edges(cim.ShortCircuitTest)\n",
    "network.get_all_edges(cim.NoLoadTest)\n",
    "network.get_all_edges(cim.RatioTapChanger)\n",
    "network.get_all_edges(cim.TapChanger)\n",
    "network.get_all_edges(cim.TapChangerControl)\n",
    "network.get_all_edges(cim.TapChangerInfo)"
   ]
  },
  {
   "cell_type": "code",
   "execution_count": null,
   "metadata": {},
   "outputs": [],
   "source": [
    "# Power Transformer stuff\n",
    "#element\n",
    "for element in network.graph[cim.PowerTransformer]:\n",
    "    for winding in element.PowerTransformerEnds:\n",
    "        to_element = winding.Terminals[0].ConnectivityNode #obj\n",
    "        to_element_connection_index = winding.endNumber #float, 1 is high-side\n",
    "        from_element = winding.Terminals[1].ConnectivityNode #obj\n",
    "    \n",
    "    feeder_name = element.EquipmentContainer.name #str\n",
    "\n"
   ]
  }
 ],
 "metadata": {
  "kernelspec": {
   "display_name": ".venv",
   "language": "python",
   "name": "python3"
  },
  "language_info": {
   "codemirror_mode": {
    "name": "ipython",
    "version": 3
   },
   "file_extension": ".py",
   "mimetype": "text/x-python",
   "name": "python",
   "nbconvert_exporter": "python",
   "pygments_lexer": "ipython3",
   "version": "3.10.12"
  }
 },
 "nbformat": 4,
 "nbformat_minor": 2
}
