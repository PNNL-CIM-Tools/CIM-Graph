{
 "cells": [
  {
   "cell_type": "code",
   "execution_count": 1,
   "metadata": {},
   "outputs": [],
   "source": [
    "import importlib\n",
    "cim_profile = 'rc4_2021'\n",
    "cim = importlib.import_module('cimgraph.data_profile.' + cim_profile)"
   ]
  },
  {
   "cell_type": "code",
   "execution_count": 2,
   "metadata": {},
   "outputs": [],
   "source": [
    "from cimgraph.databases import ConnectionParameters\n",
    "from cimgraph.databases.blazegraph import BlazegraphConnection\n",
    "from cimgraph.models import FeederModel\n",
    "from cimgraph.models.graph_model import new_mrid"
   ]
  },
  {
   "cell_type": "code",
   "execution_count": 3,
   "metadata": {},
   "outputs": [],
   "source": [
    "feeder_mrid = \"49AD8E07-3BF9-A4E2-CB8F-C3722F837B62\"  # 13 bus\n",
    "feeder = cim.Feeder(mRID=feeder_mrid)"
   ]
  },
  {
   "cell_type": "code",
   "execution_count": 4,
   "metadata": {},
   "outputs": [],
   "source": [
    "# Blazegraph connection for running outside the container\n",
    "params = ConnectionParameters(url = \"http://localhost:8889/bigdata/namespace/kb/sparql\",\n",
    "                              cim_profile='rc4_2021', iec61970_301=7)\n",
    "bg = BlazegraphConnection(params)\n"
   ]
  },
  {
   "cell_type": "code",
   "execution_count": 5,
   "metadata": {},
   "outputs": [],
   "source": [
    "network = FeederModel(connection=bg, container=feeder, distributed=False)\n"
   ]
  },
  {
   "cell_type": "code",
   "execution_count": 6,
   "metadata": {},
   "outputs": [
    {
     "name": "stdout",
     "output_type": "stream",
     "text": [
      "{}\n"
     ]
    }
   ],
   "source": [
    "network.pprint(cim.PowerElectronicsConnection)"
   ]
  },
  {
   "cell_type": "code",
   "execution_count": null,
   "metadata": {},
   "outputs": [],
   "source": []
  },
  {
   "cell_type": "code",
   "execution_count": 7,
   "metadata": {},
   "outputs": [],
   "source": [
    "new_inv = cim.PowerElectronicsConnection(mRID=new_mrid(), name = \"new_inv\")"
   ]
  },
  {
   "cell_type": "code",
   "execution_count": 8,
   "metadata": {},
   "outputs": [],
   "source": [
    "new_inv.EquipmentContainer = feeder"
   ]
  },
  {
   "cell_type": "code",
   "execution_count": 14,
   "metadata": {},
   "outputs": [
    {
     "ename": "AttributeError",
     "evalue": "module 'cimgraph.data_profile.rc4_2021' has no attribute 'ConverterControlModeKind'",
     "output_type": "error",
     "traceback": [
      "\u001b[0;31m---------------------------------------------------------------------------\u001b[0m",
      "\u001b[0;31mAttributeError\u001b[0m                            Traceback (most recent call last)",
      "\u001b[0;32m/tmp/ipykernel_24455/210700192.py\u001b[0m in \u001b[0;36m<module>\u001b[0;34m\u001b[0m\n\u001b[1;32m      1\u001b[0m \u001b[0mnew_inv\u001b[0m\u001b[0;34m.\u001b[0m\u001b[0mratedS\u001b[0m \u001b[0;34m=\u001b[0m \u001b[0;36m2000\u001b[0m\u001b[0;34m\u001b[0m\u001b[0;34m\u001b[0m\u001b[0m\n\u001b[1;32m      2\u001b[0m \u001b[0mnew_inv\u001b[0m\u001b[0;34m.\u001b[0m\u001b[0mratedU\u001b[0m \u001b[0;34m=\u001b[0m \u001b[0;36m120\u001b[0m\u001b[0;34m\u001b[0m\u001b[0;34m\u001b[0m\u001b[0m\n\u001b[0;32m----> 3\u001b[0;31m \u001b[0mnew_inv\u001b[0m\u001b[0;34m.\u001b[0m\u001b[0minverterMode\u001b[0m \u001b[0;34m=\u001b[0m \u001b[0mcim\u001b[0m\u001b[0;34m.\u001b[0m\u001b[0mConverterControlModeKind\u001b[0m\u001b[0;34m.\u001b[0m\u001b[0mconstantPowerFactor\u001b[0m\u001b[0;34m\u001b[0m\u001b[0;34m\u001b[0m\u001b[0m\n\u001b[0m",
      "\u001b[0;31mAttributeError\u001b[0m: module 'cimgraph.data_profile.rc4_2021' has no attribute 'ConverterControlModeKind'"
     ]
    }
   ],
   "source": [
    "new_inv.ratedS = 2000\n",
    "new_inv.ratedU = 120\n",
    "new_inv.inverterMode = cim.ConverterControlModeKind.constantPowerFactor"
   ]
  },
  {
   "cell_type": "code",
   "execution_count": 10,
   "metadata": {},
   "outputs": [],
   "source": [
    "network.add_to_graph(new_inv)"
   ]
  },
  {
   "cell_type": "code",
   "execution_count": 11,
   "metadata": {},
   "outputs": [
    {
     "name": "stdout",
     "output_type": "stream",
     "text": [
      "{\n",
      "    \"3ac7658a-f657-41e7-867e-8fc4cbdffc31\": {\n",
      "        \"mRID\": \"3ac7658a-f657-41e7-867e-8fc4cbdffc31\",\n",
      "        \"name\": \"new_inv\",\n",
      "        \"EquipmentContainer\": \"49AD8E07-3BF9-A4E2-CB8F-C3722F837B62\",\n",
      "        \"ratedS\": \"2000\",\n",
      "        \"ratedU\": \"120\"\n",
      "    }\n",
      "}\n"
     ]
    }
   ],
   "source": [
    "network.pprint(cim.PowerElectronicsConnection)"
   ]
  },
  {
   "cell_type": "code",
   "execution_count": 12,
   "metadata": {},
   "outputs": [
    {
     "ename": "KeyError",
     "evalue": "<class 'cimgraph.data_profile.rc4_2021.gridappsd_cim_profile_rc4_2021.PhotovoltaicUnit'>",
     "output_type": "error",
     "traceback": [
      "\u001b[0;31m---------------------------------------------------------------------------\u001b[0m",
      "\u001b[0;31mKeyError\u001b[0m                                  Traceback (most recent call last)",
      "\u001b[0;32m/tmp/ipykernel_24455/1420059026.py\u001b[0m in \u001b[0;36m<module>\u001b[0;34m\u001b[0m\n\u001b[1;32m      2\u001b[0m \u001b[0mnetwork\u001b[0m\u001b[0;34m.\u001b[0m\u001b[0mget_all_edges\u001b[0m\u001b[0;34m(\u001b[0m\u001b[0mcim\u001b[0m\u001b[0;34m.\u001b[0m\u001b[0mPowerElectronicsConnection\u001b[0m\u001b[0;34m)\u001b[0m\u001b[0;34m\u001b[0m\u001b[0;34m\u001b[0m\u001b[0m\n\u001b[1;32m      3\u001b[0m \u001b[0mnetwork\u001b[0m\u001b[0;34m.\u001b[0m\u001b[0mget_all_edges\u001b[0m\u001b[0;34m(\u001b[0m\u001b[0mcim\u001b[0m\u001b[0;34m.\u001b[0m\u001b[0mPhotovoltaicUnit\u001b[0m\u001b[0;34m)\u001b[0m\u001b[0;34m\u001b[0m\u001b[0;34m\u001b[0m\u001b[0m\n\u001b[0;32m----> 4\u001b[0;31m \u001b[0;32mfor\u001b[0m \u001b[0mpv\u001b[0m \u001b[0;32min\u001b[0m \u001b[0mnetwork\u001b[0m\u001b[0;34m.\u001b[0m\u001b[0mgraph\u001b[0m\u001b[0;34m[\u001b[0m\u001b[0mcim\u001b[0m\u001b[0;34m.\u001b[0m\u001b[0mPhotovoltaicUnit\u001b[0m\u001b[0;34m]\u001b[0m\u001b[0;34m.\u001b[0m\u001b[0mvalues\u001b[0m\u001b[0;34m(\u001b[0m\u001b[0;34m)\u001b[0m\u001b[0;34m:\u001b[0m\u001b[0;34m\u001b[0m\u001b[0;34m\u001b[0m\u001b[0m\n\u001b[0m\u001b[1;32m      5\u001b[0m     \u001b[0mtotal_p\u001b[0m \u001b[0;34m=\u001b[0m \u001b[0mtotal_p\u001b[0m \u001b[0;34m+\u001b[0m \u001b[0mfloat\u001b[0m\u001b[0;34m(\u001b[0m\u001b[0mpv\u001b[0m\u001b[0;34m.\u001b[0m\u001b[0mmaxP\u001b[0m\u001b[0;34m)\u001b[0m\u001b[0;34m\u001b[0m\u001b[0;34m\u001b[0m\u001b[0m\n\u001b[1;32m      6\u001b[0m \u001b[0;34m\u001b[0m\u001b[0m\n",
      "\u001b[0;31mKeyError\u001b[0m: <class 'cimgraph.data_profile.rc4_2021.gridappsd_cim_profile_rc4_2021.PhotovoltaicUnit'>"
     ]
    }
   ],
   "source": [
    "total_p = 0\n",
    "network.get_all_edges(cim.PowerElectronicsConnection)\n",
    "network.get_all_edges(cim.PhotovoltaicUnit)\n",
    "for pv in network.graph[cim.PhotovoltaicUnit].values():\n",
    "    total_p = total_p + float(pv.maxP)\n",
    "\n",
    "print(total_p)"
   ]
  },
  {
   "cell_type": "code",
   "execution_count": null,
   "metadata": {},
   "outputs": [],
   "source": [
    "\n",
    "for line in network.graph[cim.ACLineSegment].values():\n",
    "    for phs in line.phases:\n",
    "        if phs.phases == \"A\":\n",
    "            total_a_length += line.length"
   ]
  },
  {
   "cell_type": "code",
   "execution_count": 13,
   "metadata": {},
   "outputs": [
    {
     "name": "stderr",
     "output_type": "stream",
     "text": [
      "/home/ande188/.local/lib/python3.10/site-packages/SPARQLWrapper/Wrapper.py:1215: RuntimeWarning: unknown response content type 'text/html;charset=utf-8' returning raw response...\n",
      "  warnings.warn(\n"
     ]
    }
   ],
   "source": [
    "network.upload()"
   ]
  },
  {
   "cell_type": "code",
   "execution_count": null,
   "metadata": {},
   "outputs": [],
   "source": [
    "print(\"\"\"PREFIX rdf: <http://www.w3.org/1999/02/22-rdf-syntax-ns#>\\n        PREFIX cim: <http://iec.ch/TC57/CIM100#>\\n        PREFIX xsd: <http://www.w3.org/2001/XMLSchema#>\\n         INSERT DATA { \\n        <http://localhost:8889/bigdata/namespace/kb/sparql#_8d5aef93-928a-479d-a706-8038aea11278> a cim:PowerElectronicsConnection.\\n                \\n        <http://localhost:8889/bigdata/namespace/kb/sparql#_8d5aef93-928a-479d-a706-8038aea11278> cim:PowerElectronicsConnection.ratedS \"2000\".\\n                                     \\n        <http://localhost:8889/bigdata/namespace/kb/sparql#_8d5aef93-928a-479d-a706-8038aea11278> cim:PowerElectronicsConnection.ratedU \"120\".\\n                                     \\n        <http://localhost:8889/bigdata/namespace/kb/sparql#_8d5aef93-928a-479d-a706-8038aea11278> cim:Equipment.EquipmentContainer <rdf:resource=\"#49AD8E07-3BF9-A4E2-CB8F-C3722F837B62\">.\\n                                        \\n        <http://localhost:8889/bigdata/namespace/kb/sparql#_8d5aef93-928a-479d-a706-8038aea11278> cim:IdentifiedObject.mRID \"8d5aef93-928a-479d-a706-8038aea11278\".\\n                                     \\n        <http://localhost:8889/bigdata/namespace/kb/sparql#_8d5aef93-928a-479d-a706-8038aea11278> cim:IdentifiedObject.name \"new_inv\".\\n                                     }\"\"\")"
   ]
  },
  {
   "cell_type": "code",
   "execution_count": null,
   "metadata": {},
   "outputs": [],
   "source": []
  }
 ],
 "metadata": {
  "kernelspec": {
   "display_name": "Python 3 (ipykernel)",
   "language": "python",
   "name": "python3"
  },
  "language_info": {
   "codemirror_mode": {
    "name": "ipython",
    "version": 3
   },
   "file_extension": ".py",
   "mimetype": "text/x-python",
   "name": "python",
   "nbconvert_exporter": "python",
   "pygments_lexer": "ipython3",
   "version": "3.10.12"
  }
 },
 "nbformat": 4,
 "nbformat_minor": 2
}
