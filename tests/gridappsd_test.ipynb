{
 "cells": [
  {
   "cell_type": "code",
   "execution_count": 1,
   "metadata": {},
   "outputs": [],
   "source": [
    "import json\n",
    "import importlib\n",
    "cim_profile = 'cim17v40'\n",
    "from uuid import UUID\n",
    "# cim = importlib.import_module('cimgraph.data_profile.' + cim_profile)\n",
    "import cimgraph.data_profile.cim17v40 as cim"
   ]
  },
  {
   "cell_type": "code",
   "execution_count": 2,
   "metadata": {},
   "outputs": [],
   "source": [
    "from cimgraph.databases import ConnectionParameters\n",
    "from cimgraph.databases import GridappsdConnection\n",
    "from cimgraph.models import FeederModel\n",
    "import cimgraph.queries.sparql as sparql\n",
    "\n",
    "# from cimgraph.models import DistributedArea"
   ]
  },
  {
   "cell_type": "code",
   "execution_count": 3,
   "metadata": {},
   "outputs": [],
   "source": [
    "import cimgraph.utils as utils"
   ]
  },
  {
   "cell_type": "code",
   "execution_count": 4,
   "metadata": {},
   "outputs": [],
   "source": [
    "params = ConnectionParameters(host = \"localhost\", port = \"61613\", cim_profile=cim_profile, iec61970_301=7)\n",
    "gapps = GridappsdConnection(params)"
   ]
  },
  {
   "cell_type": "code",
   "execution_count": 5,
   "metadata": {},
   "outputs": [
    {
     "ename": "AttributeError",
     "evalue": "module 'cimgraph.utils' has no attribute 'g'",
     "output_type": "error",
     "traceback": [
      "\u001b[0;31m---------------------------------------------------------------------------\u001b[0m",
      "\u001b[0;31mAttributeError\u001b[0m                            Traceback (most recent call last)",
      "Cell \u001b[0;32mIn[5], line 1\u001b[0m\n\u001b[0;32m----> 1\u001b[0m \u001b[43mutils\u001b[49m\u001b[38;5;241;43m.\u001b[39;49m\u001b[43mg\u001b[49m\n",
      "\u001b[0;31mAttributeError\u001b[0m: module 'cimgraph.utils' has no attribute 'g'"
     ]
    }
   ],
   "source": [
    "utils.g"
   ]
  },
  {
   "cell_type": "code",
   "execution_count": null,
   "metadata": {},
   "outputs": [],
   "source": [
    "feeder_mrid = \"_49AD8E07-3BF9-A4E2-CB8F-C3722F837B62\"\n",
    "feeder = cim.Feeder(mRID = feeder_mrid)\n",
    "network = FeederModel(connection=gapps, container=feeder, distributed=False)\n"
   ]
  },
  {
   "cell_type": "code",
   "execution_count": null,
   "metadata": {},
   "outputs": [],
   "source": [
    "# feeder_mrids = [\"_49AD8E07-3BF9-A4E2-CB8F-C3722F837B62\", # 13 bus\n",
    "#                 \"_C1C3E687-6FFD-C753-582B-632A27E28507\",  # 123 bus\n",
    "#                 \"5B816B93-7A5F-B64C-8460-47C17D6E4B0F\", # 13 bus asets\n",
    "#                 \"_4F76A5F9-271D-9EB8-5E31-AA362D86F2C3\",  # 8500 node\n",
    "#                 \"_67AB291F-DCCD-31B7-B499-338206B9828F\", # J1\n",
    "#                 \"_9CE150A8-8CC5-A0F9-B67E-BBD8C79D3095\"]  # R2 12.47 3\n",
    "# # feeder_mrid = \"_EE71F6C9-56F0-4167-A14E-7F4C71F10EAA\" #9500 node\n",
    "# # feeder_mrid = \"_9E985101-27AD-4FE4-B36A-EBECC98CDFAB\" #MAPLE 10 bus\n",
    "# for feeder_mrid in feeder_mrids:\n",
    "#     feeder = cim.Feeder(mRID = feeder_mrid)\n",
    "#     network = FeederModel(connection=gapps, container=feeder, distributed=False)\n",
    "#     test_get_all_edges(network, cim)"
   ]
  },
  {
   "cell_type": "code",
   "execution_count": null,
   "metadata": {},
   "outputs": [],
   "source": [
    "with open(\"topo_message.json\") as topo:\n",
    "    topo_msg = json.load(topo)"
   ]
  },
  {
   "cell_type": "code",
   "execution_count": null,
   "metadata": {},
   "outputs": [],
   "source": [
    "# central_network = FeederModel(connection=gapps, container=feeder, distributed=False)\n",
    "\n",
    "# dist_network_2 =  FeederModel(connection=gapps, container=feeder, distributed=True)\n",
    "\n",
    "# dist_network_3 =  FeederModel(connection=gapps, container=feeder, distributed=True, topology_message=topo_msg)"
   ]
  },
  {
   "cell_type": "code",
   "execution_count": null,
   "metadata": {},
   "outputs": [],
   "source": [
    "# for switch_area in dist_network_2.distributed_areas:\n",
    "#     test_get_all_edges(switch_area, cim)\n",
    "#     for sec_area in switch_area.distributed_areas:\n",
    "#         test_get_all_edges(sec_area, cim)"
   ]
  },
  {
   "cell_type": "code",
   "execution_count": null,
   "metadata": {},
   "outputs": [],
   "source": [
    "# for switch_area in dist_network_3.distributed_areas:\n",
    "#     test_get_all_edges(switch_area, cim)\n",
    "#     for sec_area in switch_area.distributed_areas:\n",
    "#         test_get_all_edges(sec_area, cim)"
   ]
  },
  {
   "cell_type": "code",
   "execution_count": null,
   "metadata": {},
   "outputs": [],
   "source": [
    "# from cimgraph.models import DistributedArea\n",
    "\n",
    "# container = cim.EquipmentContainer(mRID=feeder_mrid)\n",
    "# feeder_area = DistributedArea(container, gapps, distributed=True)\n",
    "# feeder_area.build_from_topo_message(topo_msg['feeders'])\n",
    "\n",
    "# feeder_area.get_all_edges(cim.ConnectivityNode)\n",
    "# for node in feeder_area.graph[cim.ConnectivityNode].values():\n",
    "#     print(node.name)"
   ]
  },
  {
   "cell_type": "code",
   "execution_count": null,
   "metadata": {},
   "outputs": [],
   "source": [
    "# counter = 0\n",
    "# for switch_topo in topo_msg['feeders']['switch_areas']:\n",
    "#     print('switch area', counter)\n",
    "#     container = cim.EquipmentContainer(mRID=feeder_mrid+'.'+str(counter))\n",
    "#     SwitchArea = DistributedArea(container, gapps, distributed=True)\n",
    "#     SwitchArea.build_from_topo_message(switch_topo)\n",
    "#     counter = counter + 1\n",
    "\n",
    "#     SwitchArea.get_all_edges(cim.ConnectivityNode)\n",
    "#     for node in SwitchArea.graph[cim.ConnectivityNode].values():\n",
    "#         print(node.name)"
   ]
  },
  {
   "cell_type": "code",
   "execution_count": null,
   "metadata": {},
   "outputs": [],
   "source": [
    "# sw_counter = -1\n",
    "# for switch_topo in topo_msg['feeders']['switch_areas']:\n",
    "#     sw_counter +=1\n",
    "#     sa_counter = -1\n",
    "#     for sec_topo in switch_topo['secondary_areas']:\n",
    "#         sa_counter +=1\n",
    "#         area_id = str(sw_counter) + '.' + str(sa_counter)\n",
    "#         print('sec area', area_id)\n",
    "#         container = cim.EquipmentContainer(mRID=area_id)\n",
    "#         SecondaryArea = DistributedArea(container, gapps, distributed=True)\n",
    "#         SecondaryArea.build_from_topo_message(sec_topo)\n",
    "\n",
    "#         SecondaryArea.get_all_edges(cim.ConnectivityNode)\n",
    "#         for node in SecondaryArea.graph[cim.ConnectivityNode].values():\n",
    "#             print(node.name)"
   ]
  },
  {
   "cell_type": "code",
   "execution_count": null,
   "metadata": {},
   "outputs": [],
   "source": [
    "utils.get_all_line_data(network)\n",
    "for phs in network.graph[cim.ACLineSegmentPhase].values():\n",
    "    print(type(phs.phase))"
   ]
  },
  {
   "cell_type": "code",
   "execution_count": null,
   "metadata": {},
   "outputs": [],
   "source": [
    "# network.get_all_edges(cim.ACLineSegment)\n",
    "network.get_all_edges(cim.PerLengthPhaseImpedance)"
   ]
  },
  {
   "cell_type": "code",
   "execution_count": null,
   "metadata": {},
   "outputs": [],
   "source": [
    "network.graph[cim.ACLineSegmentPhase][UUID('94fcafff-e5f7-4f97-b697-35c46656edca')].pprint()"
   ]
  },
  {
   "cell_type": "code",
   "execution_count": null,
   "metadata": {},
   "outputs": [],
   "source": [
    "network.get_all_edges(cim.PerLengthImpedance)"
   ]
  },
  {
   "cell_type": "code",
   "execution_count": null,
   "metadata": {},
   "outputs": [],
   "source": [
    "utils.get_all_data(network)"
   ]
  },
  {
   "cell_type": "code",
   "execution_count": null,
   "metadata": {},
   "outputs": [],
   "source": [
    "query = (network.get_edges_query(cim.PerLengthPhaseImpedance))\n",
    "print(query)"
   ]
  },
  {
   "cell_type": "code",
   "execution_count": null,
   "metadata": {},
   "outputs": [],
   "source": [
    "x = cim.PhaseImpedanceData()\n",
    "x."
   ]
  },
  {
   "cell_type": "code",
   "execution_count": null,
   "metadata": {},
   "outputs": [],
   "source": []
  }
 ],
 "metadata": {
  "kernelspec": {
   "display_name": ".venv",
   "language": "python",
   "name": "python3"
  },
  "language_info": {
   "codemirror_mode": {
    "name": "ipython",
    "version": 3
   },
   "file_extension": ".py",
   "mimetype": "text/x-python",
   "name": "python",
   "nbconvert_exporter": "python",
   "pygments_lexer": "ipython3",
   "version": "3.10.12"
  }
 },
 "nbformat": 4,
 "nbformat_minor": 2
}
