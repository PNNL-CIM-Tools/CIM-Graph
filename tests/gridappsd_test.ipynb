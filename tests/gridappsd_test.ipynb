{
 "cells": [
  {
   "cell_type": "code",
   "execution_count": 1,
   "metadata": {},
   "outputs": [],
   "source": [
    "import json\n",
    "import importlib\n",
    "cim_profile = 'rc4_2021'\n",
    "cim = importlib.import_module('cimgraph.data_profile.' + cim_profile)"
   ]
  },
  {
   "cell_type": "code",
   "execution_count": 2,
   "metadata": {},
   "outputs": [],
   "source": [
    "from cimgraph.databases import ConnectionParameters\n",
    "from cimgraph.databases import GridappsdConnection\n",
    "from cimgraph.models import FeederModel\n",
    "# from cimgraph.models import DistributedArea"
   ]
  },
  {
   "cell_type": "code",
   "execution_count": 3,
   "metadata": {},
   "outputs": [],
   "source": [
    "import cimgraph.utils as utils"
   ]
  },
  {
   "cell_type": "code",
   "execution_count": 4,
   "metadata": {},
   "outputs": [],
   "source": [
    "params = ConnectionParameters(host = \"localhost\", port = \"61613\", cim_profile='rc4_2021', iec61970_301=7)\n",
    "gapps = GridappsdConnection(params)"
   ]
  },
  {
   "cell_type": "code",
   "execution_count": 5,
   "metadata": {},
   "outputs": [],
   "source": [
    "feeder_mrid = \"_49AD8E07-3BF9-A4E2-CB8F-C3722F837B62\"\n",
    "feeder = cim.Feeder(mRID = feeder_mrid)\n",
    "network = FeederModel(connection=gapps, container=feeder, distributed=False)\n"
   ]
  },
  {
   "cell_type": "code",
   "execution_count": 6,
   "metadata": {},
   "outputs": [],
   "source": [
    "# feeder_mrids = [\"_49AD8E07-3BF9-A4E2-CB8F-C3722F837B62\", # 13 bus\n",
    "#                 \"_C1C3E687-6FFD-C753-582B-632A27E28507\",  # 123 bus\n",
    "#                 \"5B816B93-7A5F-B64C-8460-47C17D6E4B0F\", # 13 bus asets\n",
    "#                 \"_4F76A5F9-271D-9EB8-5E31-AA362D86F2C3\",  # 8500 node\n",
    "#                 \"_67AB291F-DCCD-31B7-B499-338206B9828F\", # J1\n",
    "#                 \"_9CE150A8-8CC5-A0F9-B67E-BBD8C79D3095\"]  # R2 12.47 3\n",
    "# # feeder_mrid = \"_EE71F6C9-56F0-4167-A14E-7F4C71F10EAA\" #9500 node\n",
    "# # feeder_mrid = \"_9E985101-27AD-4FE4-B36A-EBECC98CDFAB\" #MAPLE 10 bus\n",
    "# for feeder_mrid in feeder_mrids:\n",
    "#     feeder = cim.Feeder(mRID = feeder_mrid)\n",
    "#     network = FeederModel(connection=gapps, container=feeder, distributed=False)\n",
    "#     test_get_all_edges(network, cim)"
   ]
  },
  {
   "cell_type": "code",
   "execution_count": 7,
   "metadata": {},
   "outputs": [],
   "source": [
    "with open(\"topo_message.json\") as topo:\n",
    "    topo_msg = json.load(topo)"
   ]
  },
  {
   "cell_type": "code",
   "execution_count": 8,
   "metadata": {},
   "outputs": [],
   "source": [
    "# central_network = FeederModel(connection=gapps, container=feeder, distributed=False)\n",
    "\n",
    "# dist_network_2 =  FeederModel(connection=gapps, container=feeder, distributed=True)\n",
    "\n",
    "# dist_network_3 =  FeederModel(connection=gapps, container=feeder, distributed=True, topology_message=topo_msg)"
   ]
  },
  {
   "cell_type": "code",
   "execution_count": 9,
   "metadata": {},
   "outputs": [],
   "source": [
    "# for switch_area in dist_network_2.distributed_areas:\n",
    "#     test_get_all_edges(switch_area, cim)\n",
    "#     for sec_area in switch_area.distributed_areas:\n",
    "#         test_get_all_edges(sec_area, cim)"
   ]
  },
  {
   "cell_type": "code",
   "execution_count": 10,
   "metadata": {},
   "outputs": [],
   "source": [
    "# for switch_area in dist_network_3.distributed_areas:\n",
    "#     test_get_all_edges(switch_area, cim)\n",
    "#     for sec_area in switch_area.distributed_areas:\n",
    "#         test_get_all_edges(sec_area, cim)"
   ]
  },
  {
   "cell_type": "code",
   "execution_count": 11,
   "metadata": {},
   "outputs": [],
   "source": [
    "# from cimgraph.models import DistributedArea\n",
    "\n",
    "# container = cim.EquipmentContainer(mRID=feeder_mrid)\n",
    "# feeder_area = DistributedArea(container, gapps, distributed=True)\n",
    "# feeder_area.build_from_topo_message(topo_msg['feeders'])\n",
    "\n",
    "# feeder_area.get_all_edges(cim.ConnectivityNode)\n",
    "# for node in feeder_area.graph[cim.ConnectivityNode].values():\n",
    "#     print(node.name)"
   ]
  },
  {
   "cell_type": "code",
   "execution_count": 12,
   "metadata": {},
   "outputs": [],
   "source": [
    "# counter = 0\n",
    "# for switch_topo in topo_msg['feeders']['switch_areas']:\n",
    "#     print('switch area', counter)\n",
    "#     container = cim.EquipmentContainer(mRID=feeder_mrid+'.'+str(counter))\n",
    "#     SwitchArea = DistributedArea(container, gapps, distributed=True)\n",
    "#     SwitchArea.build_from_topo_message(switch_topo)\n",
    "#     counter = counter + 1\n",
    "\n",
    "#     SwitchArea.get_all_edges(cim.ConnectivityNode)\n",
    "#     for node in SwitchArea.graph[cim.ConnectivityNode].values():\n",
    "#         print(node.name)"
   ]
  },
  {
   "cell_type": "code",
   "execution_count": 13,
   "metadata": {},
   "outputs": [],
   "source": [
    "# sw_counter = -1\n",
    "# for switch_topo in topo_msg['feeders']['switch_areas']:\n",
    "#     sw_counter +=1\n",
    "#     sa_counter = -1\n",
    "#     for sec_topo in switch_topo['secondary_areas']:\n",
    "#         sa_counter +=1\n",
    "#         area_id = str(sw_counter) + '.' + str(sa_counter)\n",
    "#         print('sec area', area_id)\n",
    "#         container = cim.EquipmentContainer(mRID=area_id)\n",
    "#         SecondaryArea = DistributedArea(container, gapps, distributed=True)\n",
    "#         SecondaryArea.build_from_topo_message(sec_topo)\n",
    "\n",
    "#         SecondaryArea.get_all_edges(cim.ConnectivityNode)\n",
    "#         for node in SecondaryArea.graph[cim.ConnectivityNode].values():\n",
    "#             print(node.name)"
   ]
  },
  {
   "cell_type": "code",
   "execution_count": 14,
   "metadata": {},
   "outputs": [
    {
     "name": "stdout",
     "output_type": "stream",
     "text": [
      "<enum 'SinglePhaseKind'>\n",
      "<enum 'SinglePhaseKind'>\n",
      "<enum 'SinglePhaseKind'>\n",
      "<enum 'SinglePhaseKind'>\n",
      "<enum 'SinglePhaseKind'>\n",
      "<enum 'SinglePhaseKind'>\n",
      "<enum 'SinglePhaseKind'>\n",
      "<enum 'SinglePhaseKind'>\n",
      "<enum 'SinglePhaseKind'>\n",
      "<enum 'SinglePhaseKind'>\n",
      "<enum 'SinglePhaseKind'>\n",
      "<enum 'SinglePhaseKind'>\n",
      "<enum 'SinglePhaseKind'>\n",
      "<enum 'SinglePhaseKind'>\n",
      "<enum 'SinglePhaseKind'>\n",
      "<enum 'SinglePhaseKind'>\n",
      "<enum 'SinglePhaseKind'>\n",
      "<enum 'SinglePhaseKind'>\n",
      "<enum 'SinglePhaseKind'>\n",
      "<enum 'SinglePhaseKind'>\n",
      "<enum 'SinglePhaseKind'>\n",
      "<enum 'SinglePhaseKind'>\n",
      "<enum 'SinglePhaseKind'>\n",
      "<enum 'SinglePhaseKind'>\n",
      "<enum 'SinglePhaseKind'>\n",
      "<enum 'SinglePhaseKind'>\n"
     ]
    }
   ],
   "source": [
    "utils.get_all_line_data(network)\n",
    "for phs in network.graph[cim.ACLineSegmentPhase].values():\n",
    "    print(type(phs.phase))"
   ]
  },
  {
   "cell_type": "code",
   "execution_count": 15,
   "metadata": {},
   "outputs": [],
   "source": [
    "network.get_all_edges(cim.ACLineSegment)"
   ]
  },
  {
   "cell_type": "code",
   "execution_count": 16,
   "metadata": {},
   "outputs": [
    {
     "name": "stdout",
     "output_type": "stream",
     "text": [
      "\n",
      "        PREFIX r:  <http://www.w3.org/1999/02/22-rdf-syntax-ns#>\n",
      "        PREFIX cim:  <http://iec.ch/TC57/CIM100#>\n",
      "        SELECT DISTINCT ?mRID ?attribute ?value ?edge\n",
      "        WHERE {\n",
      "          ?eq r:type cim:ACLineSegmentPhase.\n",
      "        VALUES ?mRID { \"_94FCAFFF-E5F7-4F97-B697-35C46656EDCA\" \n",
      " \"_CE2AFB05-A1B1-4082-B4EB-2AD8A1D3422D\" \n",
      " \"_D9C9CEA6-B3F0-4E02-9911-3DFA192B4D01\" \n",
      " \"_19B6044B-6915-4245-9DD1-6AB0444D42A6\" \n",
      " \"_E295A13C-1B49-4D5A-8BB6-6D106AE0D436\" \n",
      " \"_5092EC91-3F74-4829-ABF1-AF5C6AFD1A50\" \n",
      " \"_5AFA6BC8-9FCE-4931-A83B-C8CA2EC15551\" \n",
      " \"_1B6C674F-B22C-4D39-9294-98BB4634ED96\" \n",
      " \"_A28877AB-3D74-4950-AA8C-45D962BD7331\" \n",
      " \"_A539F769-AF0F-4203-99CE-6FF4B9D07F70\" \n",
      " \"_216C7BCA-22B0-4B68-81F5-33AB8A4E6DA7\" \n",
      " \"_5D4FC857-8FD9-4BE9-8C1F-11CF7E38AA46\" \n",
      " \"_BD4212B3-1635-421A-BDD8-767B6738FA80\" \n",
      " \"_AA2FE477-C2D1-4206-9A8E-742D27976105\" \n",
      " \"_2A5A1025-AD81-4BFA-A7F0-ED70F7F43DAA\" \n",
      " \"_2D60B241-DE87-48BD-A8D3-FE4B705B40ED\" \n",
      " \"_A66508A9-C9C1-4DB5-8FFD-F081E5E9E14D\" \n",
      " \"_28DAC6BE-8DD5-4C61-958E-ADB4E8A91EF8\" \n",
      " \"_4894C0CB-632C-454A-B9A2-1C2E41FB25FF\" \n",
      " \"_CF8E1FD4-BF1D-49B6-905C-8D0F9587FEF7\" \n",
      " \"_D78E30EA-6215-4365-A330-A13FADA79F4F\" \n",
      " \"_22182853-3560-4EE4-8BA2-0730C5F5AF94\" \n",
      " \"_5143B56C-5AF7-4D47-A6B1-5F952B891190\" \n",
      " \"_18F23724-C3EE-498E-96A7-98FE210A523C\" \n",
      " \"_30E5A294-2F25-480D-BDDA-777F59ED5AF3\" \n",
      " \"_5830B397-557C-41B5-A94D-95A3841505D0\" \n",
      "               }\n",
      "        ?eq cim:IdentifiedObject.mRID ?mRID.\n",
      "        {?eq (cim:|!cim:) ?val.\n",
      "         ?eq ?attr ?val.}\n",
      "        UNION\n",
      "        {?val (cim:|!cim:) ?eq.\n",
      "         ?val ?attr ?eq.}\n",
      "\n",
      "        {bind(strafter(str(?attr),\"#\") as ?attribute)}\n",
      "        {bind(strafter(str(?val),\"http://localhost:8889/bigdata/namespace/kb/sparql#\") as ?uri)}\n",
      "        {bind(if(?uri = \"\", ?val, ?uri) as ?value)}\n",
      "\n",
      "        OPTIONAL {?val a ?classraw.\n",
      "                  bind(strafter(str(?classraw),\"http://iec.ch/TC57/CIM100#\") as ?edge_class)\n",
      "                  {bind(strafter(str(?val),\"http://localhost:8889/bigdata/namespace/kb/sparql#\") as ?uri)}\n",
      "                  OPTIONAL {?val cim:IdentifiedObject.mRID ?edge_id.}\n",
      "                  bind(exists{?val cim:IdentifiedObject.mRID ?edge_id} as ?mRID_exists)\n",
      "                 {bind(if(?mRID_exists, ?edge_id, ?uri) as ?edge_mRID)}.\n",
      "\n",
      "                  bind(concat(\"{\\\"@id\\\":\\\"\", ?edge_mRID,\"\\\",\\\"@type\\\":\\\"\", ?edge_class, \"\\\"}\") as ?edge)}\n",
      "        }\n",
      "\n",
      "        ORDER by  ?mRID ?attribute\n",
      "        \n"
     ]
    }
   ],
   "source": [
    "query = (network.get_edges_query(cim.ACLineSegmentPhase))\n",
    "print(query)"
   ]
  },
  {
   "cell_type": "code",
   "execution_count": 18,
   "metadata": {},
   "outputs": [],
   "source": []
  },
  {
   "cell_type": "code",
   "execution_count": null,
   "metadata": {},
   "outputs": [],
   "source": []
  }
 ],
 "metadata": {
  "kernelspec": {
   "display_name": ".venv",
   "language": "python",
   "name": "python3"
  },
  "language_info": {
   "codemirror_mode": {
    "name": "ipython",
    "version": 3
   },
   "file_extension": ".py",
   "mimetype": "text/x-python",
   "name": "python",
   "nbconvert_exporter": "python",
   "pygments_lexer": "ipython3",
   "version": "3.10.12"
  }
 },
 "nbformat": 4,
 "nbformat_minor": 2
}
