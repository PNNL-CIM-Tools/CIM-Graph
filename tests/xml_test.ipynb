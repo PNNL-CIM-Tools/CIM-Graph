{
 "cells": [
  {
   "cell_type": "code",
   "execution_count": 1,
   "metadata": {},
   "outputs": [],
   "source": [
    "import os\n",
    "os.environ['CIMGRAPH_TIME'] = '1'\n",
    "from cimgraph.utils.timing import print_timing, clear_timing\n",
    "print_timing()\n",
    "clear_timing()"
   ]
  },
  {
   "cell_type": "code",
   "execution_count": 2,
   "metadata": {},
   "outputs": [],
   "source": [
    "import cimgraph.data_profile.cimhub_2023 as cim\n",
    "from uuid import UUID\n",
    "from cimgraph.databases import ConnectionParameters\n",
    "from cimgraph.databases import BlazegraphConnection\n",
    "from cimgraph.models import FeederModel\n",
    "from cimgraph.models import DistributedArea\n",
    "import cimgraph.queries.sparql as sparql\n",
    "import cimgraph.utils as utils\n",
    "from defusedxml.ElementTree import parse\n",
    "cim_profile = 'cimhub_2023'"
   ]
  },
  {
   "cell_type": "code",
   "execution_count": null,
   "metadata": {},
   "outputs": [],
   "source": []
  },
  {
   "cell_type": "code",
   "execution_count": 3,
   "metadata": {},
   "outputs": [
    {
     "name": "stdout",
     "output_type": "stream",
     "text": [
      "__post_init__ Counts(hits=69308, total=0.5859436988830566)\n",
      "uuid Counts(hits=138615, total=0.5399641990661621)\n",
      "initialize_centralized_model Counts(hits=1, total=50.15216255187988)\n",
      "create_new_graph Counts(hits=1, total=50.15215277671814)\n",
      "parse_nodes Counts(hits=69307, total=1.5157294273376465)\n",
      "parse_edges Counts(hits=69307, total=98.35190558433533)\n",
      "__repr__ Counts(hits=102235381, total=29.52589511871338)\n"
     ]
    }
   ],
   "source": [
    "\n",
    "\n",
    "from cimgraph.databases.fileparsers import XMLFile\n",
    "params = ConnectionParameters(filename=\"./test_models/ieee9500bal.xml\", cim_profile=cim_profile, iec61970_301=8)\n",
    "xml_file = XMLFile(params)\n",
    "feeder = cim.Feeder()\n",
    "network = FeederModel(connection=xml_file, container=feeder, distributed=False)\n",
    "print_timing()\n",
    "clear_timing()"
   ]
  },
  {
   "cell_type": "code",
   "execution_count": 4,
   "metadata": {},
   "outputs": [
    {
     "data": {
      "text/plain": [
       "'{\"@id\": \"77493b32-8328-406a-a245-331192596371\", \"@type\": \"Feeder\"}'"
      ]
     },
     "execution_count": 4,
     "metadata": {},
     "output_type": "execute_result"
    }
   ],
   "source": [
    "self = feeder\n",
    "feeder.__repr__()\n"
   ]
  },
  {
   "cell_type": "code",
   "execution_count": 5,
   "metadata": {},
   "outputs": [
    {
     "data": {
      "text/plain": [
       "'\"@id\": \"77493b32-8328-406a-a245-331192596371\", \"@type\": \"Feeder\"'"
      ]
     },
     "execution_count": 5,
     "metadata": {},
     "output_type": "execute_result"
    }
   ],
   "source": [
    "f'\"@id\": \"{self.__uuid__.uuid_str}\", \"@type\": \"{self.__class__.__name__}\"'"
   ]
  },
  {
   "cell_type": "code",
   "execution_count": 6,
   "metadata": {},
   "outputs": [
    {
     "name": "stdout",
     "output_type": "stream",
     "text": [
      "         5177531 function calls (5108223 primitive calls) in 135.178 seconds\n",
      "\n",
      "   Ordered by: call count\n",
      "\n",
      "   ncalls  tottime  percall  cumtime  percall filename:lineno(function)\n",
      "   415842    0.040    0.000    0.040    0.000 {method 'replace' of 'str' objects}\n",
      "   277228    0.018    0.000    0.018    0.000 {method 'strip' of 'str' objects}\n",
      "   208997    0.110    0.000    0.110    0.000 {method '__exit__' of '_thread.lock' objects}\n",
      "   208631    1.609    0.000  106.370    0.001 threading.py:264(__enter__)\n",
      "   208631    0.407    0.000    0.507    0.000 threading.py:267(__exit__)\n",
      "   207921    0.015    0.000    0.015    0.000 {built-in method builtins.hash}\n",
      "   207921    0.013    0.000    0.013    0.000 {built-in method builtins.isinstance}\n",
      "   207921    0.033    0.000    0.045    0.000 uuid.py:239(__eq__)\n",
      "   207921    0.028    0.000    0.043    0.000 uuid.py:267(__hash__)\n",
      "   150483    0.011    0.000    0.011    0.000 {built-in method builtins.len}\n",
      "   138634    0.007    0.000    0.007    0.000 {method '__exit__' of '_thread.RLock' objects}\n",
      "   138618    0.011    0.000    0.011    0.000 {built-in method time.time}\n",
      "   138614    0.019    0.000    0.019    0.000 {method 'split' of 'str' objects}\n",
      "   138614    0.011    0.000    0.011    0.000 {method 'lower' of 'str' objects}\n",
      "   138614    0.011    0.000    0.011    0.000 {method 'count' of 'list' objects}\n",
      "   138614    0.020    0.000    0.020    0.000 {method '__enter__' of '_thread.RLock' objects}\n",
      "   138614    0.165    0.000    0.235    0.000 uuid.py:138(__init__)\n",
      "    78940    0.008    0.000    0.008    0.000 {method 'remove' of 'set' objects}\n",
      "    70017  104.742    0.001  104.742    0.001 {method '__enter__' of '_thread.lock' objects}\n",
      "    69653    1.484    0.000    2.511    0.000 _base.py:179(_yield_finished_futures)\n",
      "    69329    1.198    0.000    1.603    0.000 threading.py:236(__init__)\n",
      "  69309/1    0.071    0.000  135.192  135.192 timing.py:24(wrap)\n",
      "    69308    0.031    0.000    0.031    0.000 {method 'put' of '_queue.SimpleQueue' objects}\n",
      "    69308   16.391    0.000   20.326    0.000 _base.py:201(as_completed)\n",
      "    69307    0.004    0.000    0.004    0.000 {method 'append' of 'list' objects}\n",
      "    69307    0.004    0.000    0.004    0.000 {method 'pop' of 'list' objects}\n",
      "    69307    0.007    0.000    0.007    0.000 {method 'remove' of 'list' objects}\n",
      "    69307    0.242    0.000    0.257    0.000 {built-in method builtins.eval}\n",
      "    69307    0.012    0.000    0.012    0.000 {method 'acquire' of '_thread.RLock' objects}\n",
      "    69307    0.011    0.000    0.011    0.000 {method 'release' of '_thread.RLock' objects}\n",
      "    69307    0.026    0.000    0.026    0.000 {method 'get' of 'xml.etree.ElementTree.Element' objects}\n",
      "    69307    0.081    0.000    0.258    0.000 __init__.py:183(create_object)\n",
      "    69307    2.161    0.000  111.304    0.002 thread.py:161(submit)\n",
      "    69307    0.220    0.000  106.494    0.002 thread.py:180(_adjust_thread_count)\n",
      "    69307    0.134    0.000    0.134    0.000 thread.py:47(__init__)\n",
      "    69307    0.197    0.000    0.923    0.000 xml_parser.py:101(parse_nodes)\n",
      "    69307    0.869    0.000    2.471    0.000 _base.py:330(__init__)\n",
      "    69307    0.176    0.000    0.176    0.000 _base.py:400(__get_result)\n",
      "    69307    1.313    0.000    2.119    0.000 _base.py:430(result)\n",
      "    69307    0.404    0.000    0.404    0.000 threading.py:90(RLock)\n",
      "    69307    0.371    0.000  106.072    0.002 threading.py:428(acquire)\n",
      "    59675    0.018    0.000    0.018    0.000 _base.py:225(<genexpr>)\n",
      "    48956    1.249    0.000    1.249    0.000 {method 'acquire' of '_thread.lock' objects}\n",
      "    23739    0.002    0.000    0.002    0.000 {built-in method time.monotonic}\n",
      "    12258    0.002    0.000    0.002    0.000 {built-in method _thread.allocate_lock}\n",
      "    12254    0.001    0.000    0.001    0.000 {method 'release' of '_thread.lock' objects}\n",
      "    12234    0.001    0.000    0.001    0.000 {method 'append' of 'collections.deque' objects}\n",
      "    12234    0.193    0.000    0.194    0.000 threading.py:273(_release_save)\n",
      "    12234    0.136    0.000    0.167    0.000 threading.py:276(_acquire_restore)\n",
      "    12234    0.002    0.000    0.004    0.000 threading.py:279(_is_owned)\n",
      "    12234    0.096    0.000    1.680    0.000 threading.py:288(wait)\n",
      "    11870    0.001    0.000    0.001    0.000 {method 'remove' of 'collections.deque' objects}\n",
      "      365    0.001    0.000    1.220    0.003 threading.py:589(wait)\n",
      "      345    0.000    0.000    0.000    0.000 {method 'reverse' of 'list' objects}\n",
      "      345    0.001    0.000    0.002    0.000 threading.py:579(clear)\n",
      "      110    0.000    0.000    0.000    0.000 {method 'locked' of '_thread.lock' objects}\n",
      "       40    0.000    0.000    0.000    0.000 {method 'add' of 'set' objects}\n",
      "       40    0.000    0.000    0.000    0.000 {built-in method _thread.get_ident}\n",
      "       40    0.000    0.000    0.000    0.000 threading.py:553(is_set)\n",
      "       40    0.000    0.000    0.000    0.000 threading.py:1183(daemon)\n",
      "       40    0.000    0.000    0.000    0.000 threading.py:1430(current_thread)\n",
      "       21    0.000    0.000    0.000    0.000 threading.py:545(__init__)\n",
      "       20    0.000    0.000    0.000    0.000 {method 'discard' of 'set' objects}\n",
      "       20    0.000    0.000    0.000    0.000 {method 'difference_update' of 'set' objects}\n",
      "       20    0.001    0.000    0.001    0.000 {built-in method _thread.start_new_thread}\n",
      "       20    0.000    0.000    0.000    0.000 weakref.py:370(remove)\n",
      "       20    0.000    0.000    0.000    0.000 weakref.py:428(__setitem__)\n",
      "       20    0.000    0.000    0.000    0.000 threading.py:810(<listcomp>)\n",
      "       20    0.000    0.000    0.000    0.000 threading.py:800(_maintain_shutdown_locks)\n",
      "       20    0.000    0.000    0.000    0.000 threading.py:827(__init__)\n",
      "       20    0.000    0.000    0.201    0.010 threading.py:916(start)\n",
      "       20    0.000    0.000    0.000    0.000 threading.py:1028(_stop)\n",
      "       20    0.000    0.000    0.002    0.000 threading.py:1064(join)\n",
      "       20    0.000    0.000    0.002    0.000 threading.py:1102(_wait_for_tstate_lock)\n",
      "       20    0.000    0.000    0.000    0.000 threading.py:1301(_make_invoke_excepthook)\n",
      "       20    0.000    0.000    0.000    0.000 _weakrefset.py:39(_remove)\n",
      "       20    0.000    0.000    0.000    0.000 _weakrefset.py:86(add)\n",
      "        1    0.000    0.000  135.192  135.192 {built-in method builtins.exec}\n",
      "        1    0.006    0.006    0.006    0.006 {built-in method builtins.sorted}\n",
      "        1    0.000    0.000    0.000    0.000 {built-in method posix.cpu_count}\n",
      "        1    0.000    0.000    0.000    0.000 <string>:1(<module>)\n",
      "        1    0.000    0.000    0.000    0.000 thread.py:123(__init__)\n",
      "        1    0.000    0.000    0.002    0.002 thread.py:216(shutdown)\n",
      "        1    0.215    0.215  111.519  111.519 xml_parser.py:85(<listcomp>)\n",
      "        1    0.202    0.202   22.648   22.648 xml_parser.py:86(<listcomp>)\n",
      "        1    0.017    0.017  135.171  135.171 xml_parser.py:77(create_new_graph)\n",
      "        1    0.000    0.000  135.192  135.192 feeder_model.py:36(__post_init__)\n",
      "        1    0.000    0.000  135.192  135.192 feeder_model.py:48(initialize_centralized_model)\n",
      "        1    0.000    0.000  135.192  135.192 <string>:2(__init__)\n",
      "        1    0.000    0.000    0.000    0.000 {method 'disable' of '_lsprof.Profiler' objects}\n",
      "        1    0.000    0.000    0.000    0.000 _base.py:63(__init__)\n",
      "        1    0.000    0.000    0.000    0.000 _base.py:79(__init__)\n",
      "        1    0.134    0.134    0.140    0.140 _base.py:146(__init__)\n",
      "        1    0.113    0.113    0.124    0.124 _base.py:149(__enter__)\n",
      "        1    0.078    0.078    0.089    0.089 _base.py:153(__exit__)\n",
      "        1    0.022    0.022    0.026    0.026 _base.py:157(_create_and_install_waiters)\n",
      "        1    0.000    0.000    0.000    0.000 _base.py:645(__enter__)\n",
      "        1    0.000    0.000    0.002    0.002 _base.py:648(__exit__)\n",
      "        1    0.000    0.000    0.000    0.000 threading.py:422(__init__)\n",
      "\n",
      "\n"
     ]
    }
   ],
   "source": [
    "import cProfile\n",
    "cProfile.run('network = FeederModel(connection=xml_file, container=feeder, distributed=False)',sort=0)"
   ]
  },
  {
   "cell_type": "code",
   "execution_count": 7,
   "metadata": {},
   "outputs": [
    {
     "name": "stdout",
     "output_type": "stream",
     "text": [
      "__repr__ Counts(hits=306854370, total=113.21073317527771)\n",
      "initialize_centralized_model Counts(hits=1, total=135.1844460964203)\n",
      "create_new_graph Counts(hits=1, total=135.18443298339844)\n",
      "parse_nodes Counts(hits=69307, total=0.9502754211425781)\n",
      "parse_edges Counts(hits=69307, total=313.27987241744995)\n"
     ]
    }
   ],
   "source": [
    "print_timing()\n",
    "clear_timing()"
   ]
  },
  {
   "cell_type": "code",
   "execution_count": 8,
   "metadata": {},
   "outputs": [
    {
     "ename": "KeyError",
     "evalue": "UUID('a04cdfb1-e951-4fc4-8882-0323cd70ae3c')",
     "output_type": "error",
     "traceback": [
      "\u001b[0;31m---------------------------------------------------------------------------\u001b[0m",
      "\u001b[0;31mKeyError\u001b[0m                                  Traceback (most recent call last)",
      "Cell \u001b[0;32mIn[8], line 1\u001b[0m\n\u001b[0;32m----> 1\u001b[0m \u001b[43mnetwork\u001b[49m\u001b[38;5;241;43m.\u001b[39;49m\u001b[43mgraph\u001b[49m\u001b[43m[\u001b[49m\u001b[43mcim\u001b[49m\u001b[38;5;241;43m.\u001b[39;49m\u001b[43mACLineSegment\u001b[49m\u001b[43m]\u001b[49m\u001b[43m[\u001b[49m\u001b[43mUUID\u001b[49m\u001b[43m(\u001b[49m\u001b[38;5;124;43m'\u001b[39;49m\u001b[38;5;124;43ma04cdfb1-e951-4fc4-8882-0323cd70ae3c\u001b[39;49m\u001b[38;5;124;43m'\u001b[39;49m\u001b[43m)\u001b[49m\u001b[43m]\u001b[49m\u001b[38;5;241m.\u001b[39m\u001b[38;5;21m__str__\u001b[39m()\n",
      "\u001b[0;31mKeyError\u001b[0m: UUID('a04cdfb1-e951-4fc4-8882-0323cd70ae3c')"
     ]
    }
   ],
   "source": [
    "network.graph[cim.ACLineSegment][UUID('a04cdfb1-e951-4fc4-8882-0323cd70ae3c')].__str__()"
   ]
  },
  {
   "cell_type": "code",
   "execution_count": null,
   "metadata": {},
   "outputs": [],
   "source": [
    "print(network.get_edges_query(cim.OperationalLimitType))"
   ]
  },
  {
   "cell_type": "code",
   "execution_count": null,
   "metadata": {},
   "outputs": [],
   "source": [
    "network.graph[cim.OperationalLimitType][UUID('ec7f968e-2ede-4007-b5ab-6db38e4113fb')].pprint()"
   ]
  },
  {
   "cell_type": "code",
   "execution_count": null,
   "metadata": {},
   "outputs": [],
   "source": [
    "network.graph[cim.PhotovoltaicUnit][UUID('15eee173-cc90-4888-b9b8-43916d56890c')].__str__()"
   ]
  },
  {
   "cell_type": "code",
   "execution_count": null,
   "metadata": {},
   "outputs": [],
   "source": [
    "uuid = UUID('15eee173-cc90-4888-b9b8-43916d56890c')\n",
    "\n",
    "network.graph[cim.PhotovoltaicUnit][uuid].name"
   ]
  },
  {
   "cell_type": "code",
   "execution_count": null,
   "metadata": {},
   "outputs": [],
   "source": [
    "import re\n",
    "\n",
    "def upper_camel_to_lower_snake(name):\n",
    "    # Add an underscore before each uppercase letter (except the first one)\n",
    "    # and convert the whole string to lowercase\n",
    "    s1 = re.sub('(.)([A-Z][a-z]+)', r'\\1_\\2', name)\n",
    "    s2 = re.sub('([a-z0-9])([A-Z])', r'\\1_\\2', s1)\n",
    "    \n",
    "    return s2.lower()\n",
    "\n",
    "# Example usage\n",
    "upper_camel_word = \"UpperCamelCase\"\n",
    "lower_snake_case_word = upper_camel_to_lower_snake(upper_camel_word)\n",
    "print(lower_snake_case_word)"
   ]
  },
  {
   "cell_type": "code",
   "execution_count": null,
   "metadata": {},
   "outputs": [],
   "source": [
    "cim_class = cim.PhotovoltaicUnit\n",
    "attribute = 'maxP'\n",
    "question = f\"Using the CIM-Graph python library, how do I write an API call to find the attribute {attribute} of a particular {cim_class.__name__} instance?\"\n",
    "answer = f\"\"\"To get the values of {cim_class.__name__}.{attribute}, you would call CIM-Graph as follows:\n",
    "```python\n",
    "{upper_camel_to_lower_snake(cim_class.__name__)} = network.graph[cim.{cim_class.__name__}][uuid]\n",
    "result = {upper_camel_to_lower_snake(cim_class.__name__)}.{attribute}\n",
    "```\"\"\"\n",
    "import json\n",
    "print(question)\n",
    "print(json.dumps(answer))"
   ]
  },
  {
   "cell_type": "code",
   "execution_count": null,
   "metadata": {},
   "outputs": [],
   "source": [
    "\n",
    "file = open('ieee13.csv', 'w')\n",
    "for cim_class in network.graph:\n",
    "    for cim_obj in network.graph[cim_class].values():\n",
    "        question = f'Can you create an example of a CIM {cim_class.__name__} object with mRID {cim_obj.uri()}?'\n",
    "        answer = cim_obj.__str__().replace(',', '\\n')\n",
    "        row = question + ','\n",
    "        file.write()"
   ]
  },
  {
   "cell_type": "code",
   "execution_count": null,
   "metadata": {},
   "outputs": [],
   "source": []
  },
  {
   "cell_type": "code",
   "execution_count": null,
   "metadata": {},
   "outputs": [],
   "source": [
    "utils.write_xml(network, 'out13.xml')"
   ]
  },
  {
   "cell_type": "code",
   "execution_count": null,
   "metadata": {},
   "outputs": [],
   "source": [
    "from cimgraph.databases.fileparsers import XMLFile\n",
    "params2 = ConnectionParameters(filename=\"/home/ande188/CIM-Graph/tests/test_models/ieee13.xml\", cim_profile=cim_profile, iec61970_301=8)\n",
    "xml_file2 = XMLFile(params2)\n",
    "feeder_mrid = \"49AD8E07-3BF9-A4E2-CB8F-C3722F837B62\"\n",
    "feeder2 = cim.Feeder(mRID = feeder_mrid)\n",
    "network2 = FeederModel(connection=xml_file2, container=feeder2, distributed=False)"
   ]
  },
  {
   "cell_type": "code",
   "execution_count": null,
   "metadata": {},
   "outputs": [],
   "source": [
    "for cim_class in network.graph:\n",
    "    if cim_class not in network2.graph:\n",
    "        print(f'{cim_class.__name__} not in new')\n",
    "    else:\n",
    "        for uuid in network.graph[cim_class]:\n",
    "            if uuid not in network2.graph[cim_class]:\n",
    "                print(f'{cim_class.__name__} : {str(uuid)} not in new')\n",
    "            else:\n",
    "                for attribute in cim_class.__dataclass_fields__:\n",
    "                    value1 = str(getattr(network.graph[cim_class][uuid], attribute))\n",
    "                    value2 = str(getattr(network2.graph[cim_class][uuid], attribute))\n",
    "                    if value1 != value2:\n",
    "                        print(f'{cim_class.__name__} : {str(uuid)}')\n",
    "                        print(value1)\n",
    "                        print(value2)\n",
    "                        print()\n"
   ]
  },
  {
   "cell_type": "code",
   "execution_count": null,
   "metadata": {},
   "outputs": [],
   "source": []
  },
  {
   "cell_type": "code",
   "execution_count": null,
   "metadata": {},
   "outputs": [],
   "source": [
    "graph = {}\n",
    "params = ConnectionParameters(url = \"http://localhost:8889/bigdata/namespace/kb/sparql\", cim_profile=cim_profile, iec61970_301=7)\n",
    "database = BlazegraphConnection(params)"
   ]
  },
  {
   "cell_type": "code",
   "execution_count": null,
   "metadata": {},
   "outputs": [],
   "source": [
    "rdf = '''{http://www.w3.org/1999/02/22-rdf-syntax-ns#}'''\n",
    "# Parse the XML file\n",
    "# tree = parse('./test_models/ieee13_assets.xml')\n",
    "tree = parse('/home/ande188/CIM-Graph/tests/test_models/ieee9500bal.xml')\n",
    "root = tree.getroot()\n",
    "\n",
    "class_index = {}\n",
    "\n",
    "# # Function to extract tag without namespace\n",
    "# def extract_tag(tag):\n",
    "#     return tag.split('}')[-1]\n",
    "\n",
    "# Iterate over the elements and create dataclass instances\n",
    "for element in root:\n",
    "\n",
    "    class_name = element.tag.split('{'+params.namespace+'}')[1]\n",
    "    cim_class = eval(f'cim.{class_name}')\n",
    "\n",
    "    if class_name in cim.__all__:\n",
    "        uri = element.get(f'{rdf}about')\n",
    "        identifier = UUID(uri.strip('_').lower())\n",
    "        uri = uri.split(':')[-1]  # Extract UUID from the full URI\n",
    "        class_index[identifier] = cim_class\n",
    "        obj = database.create_object(graph, cim_class, uri)\n",
    "\n",
    "# for element in root:      \n",
    "#     class_name = element.tag.split('{'+params.namespace+'}')[1]\n",
    "#     cim_class = eval(f'cim.{class_name}')\n",
    "\n",
    "#     if class_name in cim.__all__:\n",
    "#         uri = element.get(f'{rdf}about')\n",
    "        \n",
    "#         identifier = UUID(uri.strip('_').lower())\n",
    "#         uri = uri.split(':')[-1]  # Extract UUID from the full URI\n",
    "        \n",
    "#         obj = graph[cim_class][UUID(uri)]\n",
    "#         for sub_element in element:\n",
    "#             sub_tag = sub_element.tag.split('}')[-1]\n",
    "#             association = database.check_attribute(cim_class, sub_tag)\n",
    "#             try:\n",
    "#                 edge_uri = sub_element.attrib[f'{rdf}resource'].split('uuid:')[-1]\n",
    "#             except:\n",
    "#                 edge_uri = None\n",
    "\n",
    "#             if edge_uri is not None:\n",
    "#                 if database.namespace not in edge_uri:\n",
    "#                     edge_uuid = UUID(edge_uri.strip('_').lower())                  \n",
    "#                     edge_class = class_index[edge_uuid]\n",
    "#                     database.create_edge(graph, cim_class, identifier, sub_tag, edge_class, edge_uri)\n",
    "#                     reverse = cim_class.__dataclass_fields__[association].metadata['inverse']\n",
    "#                     database.create_edge(graph, edge_class, edge_uuid, reverse, cim_class, graph[cim_class][identifier].uri())\n",
    "#                 else:\n",
    "#                     enum_text = edge_uri.split(database.namespace)[1]\n",
    "#                     enum_text = enum_text.split('>')[0]\n",
    "#                     enum_class = enum_text.split('.')[0]\n",
    "#                     enum_value = enum_text.split('.')[1]\n",
    "#                     edge_enum = eval(f'cim.{enum_class}(enum_value)')\n",
    "#                     if association is not None:\n",
    "#                         setattr(graph[cim_class][identifier], association, edge_enum)\n",
    "#             else:\n",
    "#                 if association is not None:\n",
    "#                     setattr(obj, association, sub_element.text)\n"
   ]
  },
  {
   "cell_type": "code",
   "execution_count": null,
   "metadata": {},
   "outputs": [],
   "source": []
  },
  {
   "cell_type": "code",
   "execution_count": null,
   "metadata": {},
   "outputs": [],
   "source": [
    "len(graph[cim.ACLineSegment].keys())"
   ]
  },
  {
   "cell_type": "code",
   "execution_count": null,
   "metadata": {},
   "outputs": [],
   "source": [
    "import multiprocessing\n",
    "import defusedxml.ElementTree as ET\n",
    "\n",
    "# Parse the XML file\n",
    "def parse_xml_file(file_path):\n",
    "    tree = ET.parse(file_path)\n",
    "    return tree.getroot()\n",
    "\n",
    "# Extract tag without namespace\n",
    "def extract_tag(tag):\n",
    "    return tag.split('}')[-1]\n",
    "\n",
    "# Function to create the object and set attributes\n",
    "def process_element(element, element_to_class, graph, lock):\n",
    "    tag = extract_tag(element.tag)\n",
    "    data_class = element_to_class.get(tag)\n",
    "    if data_class:\n",
    "        uuid = element.get('{http://www.w3.org/1999/02/22-rdf-syntax-ns#}about')\n",
    "        uuid = uuid.split(':')[-1]  # Extract UUID from the full URI\n",
    "        with lock:\n",
    "            if uuid not in graph:\n",
    "                graph[uuid] = xml_file.create_object(graph, data_class, uuid) #data_class(mRID=uuid)\n",
    "        obj = graph[uuid]\n",
    "\n",
    "        data_class in cim.__all__\n",
    "        \n",
    "        for sub_element in element:\n",
    "            sub_tag = extract_tag(sub_element.tag)\n",
    "            if sub_tag.startswith('IdentifiedObject.'):\n",
    "                attribute = sub_tag.split('.')[-1]\n",
    "                with lock:\n",
    "                    setattr(obj, attribute, sub_element.text)\n",
    "                    \n",
    "            elif sub_tag.startswith(tag + '.'):\n",
    "                attribute = sub_tag.split('.')[-1]\n",
    "                with lock:\n",
    "                    setattr(obj, attribute, sub_element.get('{http://www.w3.org/1999/02/22-rdf-syntax-ns#}resource'))\n"
   ]
  },
  {
   "cell_type": "code",
   "execution_count": null,
   "metadata": {},
   "outputs": [],
   "source": [
    "def parse_nodes(graph, element, lock):\n",
    "        # Iterate over the elements and create dataclass instances\n",
    "        # for element in self.root:\n",
    "        class_name = element.tag.split('{'+self.namespace+'}')[1]\n",
    "\n",
    "        if class_name in self.cim.__all__:\n",
    "            print(class_name)\n",
    "            cim_class = eval(f'self.cim.{class_name}')\n",
    "            uri = element.get(f'{self.rdf}about')\n",
    "            identifier = UUID(uri.strip('_').lower())\n",
    "            uri = uri.split(':')[-1]  # Extract UUID from the full URI\n",
    "            self.class_index[identifier] = cim_class\n",
    "            with lock:\n",
    "                obj = self.create_object(graph, cim_class, uri)\n",
    "        else:\n",
    "            # _log.warning(f'{class_name} not in data profile')\n",
    "            pass\n",
    "        return None"
   ]
  },
  {
   "cell_type": "code",
   "execution_count": null,
   "metadata": {},
   "outputs": [],
   "source": [
    "def main():\n",
    "    # Define the mapping from XML element names to dataclass types\n",
    "    element_to_class = {\n",
    "        'GeographicalRegion': cim.GeographicalRegion,\n",
    "        'SubGeographicalRegion': cim.SubGeographicalRegion,\n",
    "        'Substation': cim.Substation,\n",
    "        'Location': cim.Location,\n",
    "        'Feeder': cim.Feeder\n",
    "    }\n",
    "\n",
    "    xml_file_path = '/home/ande188/CIM-Graph/tests/test_models/ieee13.xml'\n",
    "    root = parse_xml_file(xml_file_path)\n",
    "    \n",
    "    with multiprocessing.Manager() as manager:\n",
    "        graph = manager.dict()\n",
    "        lock = manager.Lock()\n",
    "\n",
    "        # # Use ProcessPoolExecutor to process elements in parallel\n",
    "        # with multiprocessing.Pool(processes=multiprocessing.cpu_count()) as pool:\n",
    "        #     pool.starmap(\n",
    "        #         process_element, \n",
    "        #         [(element, element_to_class, graph, lock) for element in root]\n",
    "        #     )\n",
    "        with multiprocessing.Pool(processes=multiprocessing.cpu_count()) as pool:\n",
    "            pool.starmap(parse_nodes, [(graph, element, lock) for element in root])\n",
    "            \n",
    "        # Example of accessing created objects (for debugging or verification)\n",
    "        for uuid, obj in graph.items():\n",
    "            print(uuid, obj)"
   ]
  },
  {
   "cell_type": "code",
   "execution_count": null,
   "metadata": {},
   "outputs": [],
   "source": [
    "main()"
   ]
  },
  {
   "cell_type": "code",
   "execution_count": null,
   "metadata": {},
   "outputs": [],
   "source": []
  }
 ],
 "metadata": {
  "kernelspec": {
   "display_name": ".venv",
   "language": "python",
   "name": "python3"
  },
  "language_info": {
   "codemirror_mode": {
    "name": "ipython",
    "version": 3
   },
   "file_extension": ".py",
   "mimetype": "text/x-python",
   "name": "python",
   "nbconvert_exporter": "python",
   "pygments_lexer": "ipython3",
   "version": "3.10.12"
  }
 },
 "nbformat": 4,
 "nbformat_minor": 2
}
