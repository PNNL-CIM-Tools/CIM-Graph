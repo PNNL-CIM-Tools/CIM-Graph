{
 "cells": [
  {
   "cell_type": "code",
   "execution_count": 1,
   "metadata": {},
   "outputs": [],
   "source": [
    "# import os\n",
    "# os.environ['CIMGRAPH_TIME'] = '1'\n",
    "# from cimgraph.utils.timing import print_timing, clear_timing\n",
    "# print_timing()\n",
    "# clear_timing()"
   ]
  },
  {
   "cell_type": "code",
   "execution_count": 1,
   "metadata": {},
   "outputs": [],
   "source": [
    "import cimgraph.data_profile.cimhub_2023 as cim\n",
    "from uuid import UUID\n",
    "from cimgraph.databases import ConnectionParameters\n",
    "from cimgraph.databases import BlazegraphConnection\n",
    "from cimgraph.models import FeederModel\n",
    "from cimgraph.models import DistributedArea\n",
    "import cimgraph.queries.sparql as sparql\n",
    "import cimgraph.utils as utils\n",
    "from defusedxml.ElementTree import parse\n",
    "cim_profile = 'cimhub_2023'"
   ]
  },
  {
   "cell_type": "code",
   "execution_count": 2,
   "metadata": {},
   "outputs": [],
   "source": [
    "from mermaid import Mermaid"
   ]
  },
  {
   "cell_type": "code",
   "execution_count": 3,
   "metadata": {},
   "outputs": [],
   "source": [
    "\n",
    "\n",
    "from cimgraph.databases.fileparsers import XMLFile\n",
    "params = ConnectionParameters(filename=\"./test_models/ieee13.xml\", cim_profile=cim_profile, iec61970_301=8)\n",
    "xml_file = XMLFile(params)\n",
    "feeder = cim.Feeder()\n",
    "network = FeederModel(connection=xml_file, container=feeder, distributed=False)\n"
   ]
  },
  {
   "cell_type": "code",
   "execution_count": null,
   "metadata": {},
   "outputs": [],
   "source": []
  },
  {
   "cell_type": "code",
   "execution_count": 4,
   "metadata": {},
   "outputs": [],
   "source": [
    "# utils.write_xml(network, 'test_models/ieee13_out.xml', {'rdf':\"http://www.w3.org/1999/02/22-rdf-syntax-ns#\", 'cim': 'http://iec.ch/TC57/2013/CIM-schema-cim16#', 'eu': 'http://iec.ch/TC57/CIM100#', 'xsi:schemaLocation': 'http://iec.ch/TC57/2013/CIM-schema-cim16# CIM16.xsd'})"
   ]
  },
  {
   "cell_type": "code",
   "execution_count": 5,
   "metadata": {},
   "outputs": [
    {
     "name": "stdout",
     "output_type": "stream",
     "text": [
      "{\n",
      "    \"@id\": \"a04cdfb1-e951-4fc4-8882-0323cd70ae3c\",\n",
      "    \"@type\": \"ACLineSegment\",\n",
      "    \"name\": \"650632\",\n",
      "    \"Location\": {\n",
      "        \"@id\": \"3a63b621-3fa6-4805-96f9-dd57a7f88acf\",\n",
      "        \"@type\": \"Location\"\n",
      "    },\n",
      "    \"EquipmentContainer\": {\n",
      "        \"@id\": \"49ad8e07-3bf9-a4e2-cb8f-c3722f837b62\",\n",
      "        \"@type\": \"Feeder\"\n",
      "    },\n",
      "    \"BaseVoltage\": {\n",
      "        \"@id\": \"2a158e0c-cd01-4a50-aeba-59d761fcf15d\",\n",
      "        \"@type\": \"BaseVoltage\"\n",
      "    },\n",
      "    \"Terminals\": [\n",
      "        {\n",
      "            \"@id\": \"000ba1f2-6879-47d7-826d-3cacd23ee20b\",\n",
      "            \"@type\": \"Terminal\"\n",
      "        },\n",
      "        {\n",
      "            \"@id\": \"3589a9be-f3be-45c3-b84e-3ce5b6105d11\",\n",
      "            \"@type\": \"Terminal\"\n",
      "        }\n",
      "    ],\n",
      "    \"length\": \"609.6\",\n",
      "    \"ACLineSegmentPhases\": [\n",
      "        {\n",
      "            \"@id\": \"2a5a1025-ad81-4bfa-a7f0-ed70f7f43daa\",\n",
      "            \"@type\": \"ACLineSegmentPhase\"\n",
      "        },\n",
      "        {\n",
      "            \"@id\": \"2d60b241-de87-48bd-a8d3-fe4b705b40ed\",\n",
      "            \"@type\": \"ACLineSegmentPhase\"\n",
      "        },\n",
      "        {\n",
      "            \"@id\": \"a66508a9-c9c1-4db5-8ffd-f081e5e9e14d\",\n",
      "            \"@type\": \"ACLineSegmentPhase\"\n",
      "        }\n",
      "    ],\n",
      "    \"PerLengthImpedance\": {\n",
      "        \"@id\": \"50044320-7295-4591-b39e-f793f1923098\",\n",
      "        \"@type\": \"PerLengthPhaseImpedance\"\n",
      "    }\n",
      "}\n"
     ]
    }
   ],
   "source": [
    "obj = list(network.graph[cim.ACLineSegment].values())[0]\n",
    "obj.pprint()"
   ]
  },
  {
   "cell_type": "code",
   "execution_count": 6,
   "metadata": {},
   "outputs": [
    {
     "data": {
      "text/html": [
       "\n",
       "        <div class=\"mermaid-31ae2692-0465-4908-b24d-2ab53d47bede\"></div>\n",
       "        <script type=\"module\">\n",
       "            import mermaid from 'https://cdn.jsdelivr.net/npm/mermaid@10.1.0/+esm'\n",
       "            const graphDefinition = '%%{init: {\"theme\":\"dark\"}}%%\\nclassDiagram\\n    class ACLineSegment{\\n        + b0ch: float | Susceptance\\n        + bch: float | Susceptance\\n        + g0ch: float | Conductance\\n        + gch: float | Conductance\\n        + r: float | Resistance\\n        + r0: float | Resistance\\n        + shortCircuitEndTemperature: float | Temperature\\n        + x: float | Reactance\\n        + x0: float | Reactance\\n    }\\n    Conductor <|-- ACLineSegment : inherits from\\n    ACLineSegment --> \"0..*\" ACLineSegmentPhase : ACLineSegmentPhases \\n    ACLineSegment --> \"0..1\" ParallelLineSegment : ParallelLineSegment \\n    ACLineSegment --> \"0..1\" PerLengthImpedance : PerLengthImpedance \\n    ACLineSegment --> \"0..1\" WireSpacingInfo : WireSpacingInfo \\n';\n",
       "            const element = document.querySelector('.mermaid-31ae2692-0465-4908-b24d-2ab53d47bede');\n",
       "            const { svg } = await mermaid.render('graphDiv-31ae2692-0465-4908-b24d-2ab53d47bede', graphDefinition);\n",
       "            element.innerHTML = svg;\n",
       "        </script>\n",
       "        "
      ],
      "text/plain": [
       "<mermaid.mermaid.Mermaid at 0x7f3d943af790>"
      ]
     },
     "execution_count": 6,
     "metadata": {},
     "output_type": "execute_result"
    }
   ],
   "source": [
    "from mermaid import Mermaid\n",
    "from cimgraph import utils\n",
    "\n",
    "Mermaid(utils.get_mermaid(cim.ACLineSegment))"
   ]
  },
  {
   "cell_type": "code",
   "execution_count": 7,
   "metadata": {},
   "outputs": [
    {
     "data": {
      "text/html": [
       "\n",
       "        <div class=\"mermaid-1f93faf2-9098-4bb2-88d8-8b36caf678ba\"></div>\n",
       "        <script type=\"module\">\n",
       "            import mermaid from 'https://cdn.jsdelivr.net/npm/mermaid@10.1.0/+esm'\n",
       "            const graphDefinition = '%%{init: {\"theme\":\"dark\"}}%%\\nclassDiagram\\n    class ACLineSegment{\\n        + b0ch: float | Susceptance\\n        + bch: float | Susceptance\\n        + g0ch: float | Conductance\\n        + gch: float | Conductance\\n        + r: float | Resistance\\n        + r0: float | Resistance\\n        + shortCircuitEndTemperature: float | Temperature\\n        + x: float | Reactance\\n        + x0: float | Reactance\\n        + length : float | Length\\n        + aggregate : bool\\n        + inService : bool\\n        + networkAnalysisEnabled : bool\\n        + normallyInService : bool\\n        + mRID : str\\n        + aliasName : str\\n        + description : str\\n        + name : str\\n        + identifier : uuid.UUID\\n    }\\n    Conductor <|-- ACLineSegment : inherits from\\n    ACLineSegment --> \"0..*\" ACLineSegmentPhase : ACLineSegmentPhases \\n    ACLineSegment --> \"0..1\" ParallelLineSegment : ParallelLineSegment \\n    ACLineSegment --> \"0..1\" PerLengthImpedance : PerLengthImpedance \\n    ACLineSegment --> \"0..1\" WireSpacingInfo : WireSpacingInfo \\n    ACLineSegment --> \"0..1\" BaseVoltage : BaseVoltage \\n    ACLineSegment --> \"0..*\" Terminal : Terminals \\n    ACLineSegment --> \"0..*\" EquipmentContainer : AdditionalEquipmentContainer \\n    ACLineSegment --> \"0..1\" EquipmentContainer : EquipmentContainer \\n    ACLineSegment --> \"0..*\" OperationalLimitSet : OperationalLimitSet \\n    ACLineSegment --> \"0..1\" SubSchedulingArea : SubSchedulingArea \\n    ACLineSegment --> \"0..1\" AssetInfo : AssetDatasheet \\n    ACLineSegment --> \"0..*\" Asset : Assets \\n    ACLineSegment --> \"0..*\" Control : Controls \\n    ACLineSegment --> \"0..1\" Location : Location \\n    ACLineSegment --o \"0..*\" Measurement : Measurements \\n    ACLineSegment --> \"0..1\" PSRType : PSRType \\n    ACLineSegment --> \"0..*\" Name : Names \\n';\n",
       "            const element = document.querySelector('.mermaid-1f93faf2-9098-4bb2-88d8-8b36caf678ba');\n",
       "            const { svg } = await mermaid.render('graphDiv-1f93faf2-9098-4bb2-88d8-8b36caf678ba', graphDefinition);\n",
       "            element.innerHTML = svg;\n",
       "        </script>\n",
       "        "
      ],
      "text/plain": [
       "<mermaid.mermaid.Mermaid at 0x7f3ddd6e0be0>"
      ]
     },
     "execution_count": 7,
     "metadata": {},
     "output_type": "execute_result"
    }
   ],
   "source": [
    "Mermaid(utils.get_mermaid(cim.ACLineSegment,show_inherited=True))"
   ]
  },
  {
   "cell_type": "code",
   "execution_count": 10,
   "metadata": {},
   "outputs": [
    {
     "name": "stdout",
     "output_type": "stream",
     "text": [
      "mindmap\n",
      "    A04CDFB1((**ACLineSegment**\n",
      "        name: 650632\n",
      "        length: 609.6))\n",
      "        [Location]\n",
      "            3A63B621(**Location**\n",
      "                name: 650632_Loc)\n",
      "        [EquipmentContainer]\n",
      "            49AD8E07(**Feeder**\n",
      "                name: ieee13nodeckt)\n",
      "        [BaseVoltage]\n",
      "            2A158E0C(**BaseVoltage**\n",
      "                name: BaseV_4.1600)\n",
      "        [\"Terminals\"]\n",
      "            000BA1F2(**Terminal**\n",
      "                name: 650632_T1)\n",
      "            3589A9BE(**Terminal**\n",
      "                name: 650632_T2)\n",
      "        [\"ACLineSegmentPhases\"]\n",
      "            2A5A1025(**ACLineSegmentPhase**\n",
      "                name: 650632_A)\n",
      "            2D60B241(**ACLineSegmentPhase**\n",
      "                name: 650632_B)\n",
      "            A66508A9(**ACLineSegmentPhase**\n",
      "                name: 650632_C)\n",
      "        [PerLengthImpedance]\n",
      "            50044320(**PerLengthPhaseImpeda**\n",
      "                **nce**\n",
      "                name: mtx601)\n",
      "\n"
     ]
    }
   ],
   "source": [
    "network.get_all_edges(cim.ACLineSegment)\n",
    "line = network.graph[cim.ACLineSegment][UUID('a04cdfb1-e951-4fc4-8882-0323cd70ae3c')]\n",
    "diagram_text = utils.get_mermaid(line)\n",
    "print(utils.get_mermaid(line))"
   ]
  },
  {
   "cell_type": "code",
   "execution_count": 12,
   "metadata": {},
   "outputs": [
    {
     "name": "stdout",
     "output_type": "stream",
     "text": [
      "mindmap\n",
      "    59cee258((**Breaker**\n",
      "        name: breaker12\n",
      "        inService: True\n",
      "        open: False))\n",
      "        [EquipmentContainer]\n",
      "            3245888f(**Substation**\n",
      "                name: sub1234)\n",
      "        [BaseVoltage]\n",
      "            df2c5a0a(**BaseVoltage**\n",
      "                name: base12kv)\n",
      "        [\"Terminals\"]\n",
      "            593b10ed(**Terminal**\n",
      "                name: brk12_t1)\n",
      "            f2cb5de7(**Terminal**\n",
      "                name: brk12_t2)\n",
      "\n"
     ]
    },
    {
     "data": {
      "text/html": [
       "\n",
       "        <div class=\"mermaid-56c1082f-e3d1-4b35-a008-1bc89c7107a4\"></div>\n",
       "        <script type=\"module\">\n",
       "            import mermaid from 'https://cdn.jsdelivr.net/npm/mermaid@10.1.0/+esm'\n",
       "            const graphDefinition = 'mindmap\\n    59cee258((**Breaker**\\n        name: breaker12\\n        inService: True\\n        open: False))\\n        [EquipmentContainer]\\n            3245888f(**Substation**\\n                name: sub1234)\\n        [BaseVoltage]\\n            df2c5a0a(**BaseVoltage**\\n                name: base12kv)\\n        [\"Terminals\"]\\n            593b10ed(**Terminal**\\n                name: brk12_t1)\\n            f2cb5de7(**Terminal**\\n                name: brk12_t2)\\n';\n",
       "            const element = document.querySelector('.mermaid-56c1082f-e3d1-4b35-a008-1bc89c7107a4');\n",
       "            const { svg } = await mermaid.render('graphDiv-56c1082f-e3d1-4b35-a008-1bc89c7107a4', graphDefinition);\n",
       "            element.innerHTML = svg;\n",
       "        </script>\n",
       "        "
      ],
      "text/plain": [
       "<mermaid.mermaid.Mermaid at 0x7f3d941c8280>"
      ]
     },
     "execution_count": 12,
     "metadata": {},
     "output_type": "execute_result"
    }
   ],
   "source": [
    "breaker = cim.Breaker(name = 'breaker12', open=False, inService=True)\n",
    "substation = cim.Substation(name = 'sub1234')\n",
    "t1 = cim.Terminal(name = 'brk12_t1', ConductingEquipment=breaker)\n",
    "t2 = cim.Terminal(name = 'brk12_t2', ConductingEquipment=breaker)\n",
    "basev = cim.BaseVoltage(name = 'base12kv', nominalVoltage=12470)\n",
    "breaker.EquipmentContainer = substation\n",
    "breaker.Terminals = [t1, t2]\n",
    "breaker.BaseVoltage = basev\n",
    "# breaker.pprint()\n",
    "\n",
    "diagram_text = utils.get_mermaid(breaker)\n",
    "print(diagram_text)\n",
    "Mermaid(diagram_text)\n",
    "\n",
    "# Mermaid(utils.get_mermaid(breaker))"
   ]
  },
  {
   "cell_type": "code",
   "execution_count": 11,
   "metadata": {},
   "outputs": [
    {
     "data": {
      "text/plain": [
       "True"
      ]
     },
     "execution_count": 11,
     "metadata": {},
     "output_type": "execute_result"
    }
   ],
   "source": [
    "data_list = [cim.ACLineSegment(), cim.ACLineSegmentPhase(), cim.WireInfo()]\n",
    "# len(set(map(type, data_list))) <= 1\n",
    "# set(map(type, data_list)) == {type}\n",
    "set(map(isinstance, data_list, [cim.Identity]*len(data_list))) == {True}\n",
    "\n"
   ]
  },
  {
   "cell_type": "code",
   "execution_count": 9,
   "metadata": {},
   "outputs": [
    {
     "data": {
      "text/html": [
       "\n",
       "        <div class=\"mermaid-733f29d4-cb89-4817-8398-71614b227319\"></div>\n",
       "        <script type=\"module\">\n",
       "            import mermaid from 'https://cdn.jsdelivr.net/npm/mermaid@10.1.0/+esm'\n",
       "            const graphDefinition = '%%{init: {\"theme\":\"dark\"}}%%\\nclassDiagram\\n    class ACLineSegment{\\n        + b0ch: float | Susceptance\\n        + bch: float | Susceptance\\n        + g0ch: float | Conductance\\n        + gch: float | Conductance\\n        + r: float | Resistance\\n        + r0: float | Resistance\\n        + shortCircuitEndTemperature: float | Temperature\\n        + x: float | Reactance\\n        + x0: float | Reactance\\n    }\\n    ACLineSegment --> \"0..*\" ACLineSegmentPhase : ACLineSegmentPhases \\n    class ACLineSegmentPhase{\\n        + sequenceNumber: int\\n        + phase: enum:SinglePhaseKind\\n    }\\n    ACLineSegmentPhase --> \"0..1\" ACLineSegment : ACLineSegment \\n    ACLineSegmentPhase --> \"0..1\" WireInfo : WireInfo \\n    class WireInfo{\\n        + coreStrandCount: int\\n        + insulated: bool\\n        + sizeDescription: str\\n        + strandCount: int\\n        + coreRadius: float | Length\\n        + gmr: float | Length\\n        + insulationMaterial: enum:WireInsulationKind\\n        + insulationThickness: float | Length\\n        + material: enum:WireMaterialKind\\n        + rAC25: float | ResistancePerLength\\n        + rAC50: float | ResistancePerLength\\n        + rAC75: float | ResistancePerLength\\n        + radius: float | Length\\n        + ratedCurrent: float | CurrentFlow\\n        + rDC20: float | ResistancePerLength\\n    }\\n    WireInfo --> \"0..*\" ACLineSegmentPhase : ACLineSegmentPhases \\n';\n",
       "            const element = document.querySelector('.mermaid-733f29d4-cb89-4817-8398-71614b227319');\n",
       "            const { svg } = await mermaid.render('graphDiv-733f29d4-cb89-4817-8398-71614b227319', graphDefinition);\n",
       "            element.innerHTML = svg;\n",
       "        </script>\n",
       "        "
      ],
      "text/plain": [
       "<mermaid.mermaid.Mermaid at 0x7f3d943af820>"
      ]
     },
     "execution_count": 9,
     "metadata": {},
     "output_type": "execute_result"
    }
   ],
   "source": [
    "Mermaid(utils.get_mermaid([cim.ACLineSegment, cim.ACLineSegmentPhase, cim.WireInfo]))"
   ]
  },
  {
   "cell_type": "code",
   "execution_count": null,
   "metadata": {},
   "outputs": [],
   "source": [
    "from cimgraph.databases.fileparsers import XMLFile\n",
    "params2 = ConnectionParameters(filename=\"/home/ande188/CIM-Graph/tests/test_models/ieee13.xml\", cim_profile=cim_profile, iec61970_301=8)\n",
    "xml_file2 = XMLFile(params2)\n",
    "feeder_mrid = \"49AD8E07-3BF9-A4E2-CB8F-C3722F837B62\"\n",
    "feeder2 = cim.Feeder(mRID = feeder_mrid)\n",
    "network2 = FeederModel(connection=xml_file2, container=feeder2, distributed=False)"
   ]
  },
  {
   "cell_type": "code",
   "execution_count": null,
   "metadata": {},
   "outputs": [],
   "source": []
  }
 ],
 "metadata": {
  "kernelspec": {
   "display_name": ".venv",
   "language": "python",
   "name": "python3"
  },
  "language_info": {
   "codemirror_mode": {
    "name": "ipython",
    "version": 3
   },
   "file_extension": ".py",
   "mimetype": "text/x-python",
   "name": "python",
   "nbconvert_exporter": "python",
   "pygments_lexer": "ipython3",
   "version": "3.10.12"
  }
 },
 "nbformat": 4,
 "nbformat_minor": 2
}
