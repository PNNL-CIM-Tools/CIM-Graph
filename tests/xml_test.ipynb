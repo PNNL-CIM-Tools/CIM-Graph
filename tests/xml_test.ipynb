{
 "cells": [
  {
   "cell_type": "code",
   "execution_count": 1,
   "metadata": {},
   "outputs": [],
   "source": [
    "import cimgraph.data_profile.cimhub_2023 as cim\n",
    "from uuid import UUID\n",
    "from cimgraph.databases import ConnectionParameters\n",
    "from cimgraph.databases import BlazegraphConnection\n",
    "from cimgraph.models import FeederModel\n",
    "from cimgraph.models import DistributedArea\n",
    "import cimgraph.queries.sparql as sparql\n",
    "import cimgraph.utils as utils\n",
    "from defusedxml.ElementTree import parse\n",
    "cim_profile = 'cimhub_2023'"
   ]
  },
  {
   "cell_type": "code",
   "execution_count": null,
   "metadata": {},
   "outputs": [],
   "source": []
  },
  {
   "cell_type": "code",
   "execution_count": 2,
   "metadata": {},
   "outputs": [],
   "source": [
    "from cimgraph.databases.fileparsers import XMLFile\n",
    "params = ConnectionParameters(filename=\"./test_models/ieee13.xml\", cim_profile=cim_profile, iec61970_301=8)\n",
    "xml_file = XMLFile(params)\n",
    "feeder = cim.Feeder()\n",
    "network = FeederModel(connection=xml_file, container=feeder, distributed=False)"
   ]
  },
  {
   "cell_type": "code",
   "execution_count": 3,
   "metadata": {},
   "outputs": [
    {
     "data": {
      "text/plain": [
       "'{\"@id\": \"a04cdfb1-e951-4fc4-8882-0323cd70ae3c\", \"@type\": \"ACLineSegment\", \"identifier\": \"a04cdfb1-e951-4fc4-8882-0323cd70ae3c\", \"mRID\": \"A04CDFB1-E951-4FC4-8882-0323CD70AE3C\", \"name\": \"650632\", \"Location\": {\"@id\": \"3a63b621-3fa6-4805-96f9-dd57a7f88acf\", \"@type\": \"Location\"}, \"EquipmentContainer\": {\"@id\": \"49ad8e07-3bf9-a4e2-cb8f-c3722f837b62\", \"@type\": \"Feeder\"}, \"BaseVoltage\": {\"@id\": \"2a158e0c-cd01-4a50-aeba-59d761fcf15d\", \"@type\": \"BaseVoltage\"}, \"Terminals\": [{\"@id\": \"000ba1f2-6879-47d7-826d-3cacd23ee20b\", \"@type\": \"Terminal\"}, {\"@id\": \"3589a9be-f3be-45c3-b84e-3ce5b6105d11\", \"@type\": \"Terminal\"}], \"length\": \"609.6\", \"ACLineSegmentPhases\": [{\"@id\": \"2a5a1025-ad81-4bfa-a7f0-ed70f7f43daa\", \"@type\": \"ACLineSegmentPhase\"}, {\"@id\": \"2d60b241-de87-48bd-a8d3-fe4b705b40ed\", \"@type\": \"ACLineSegmentPhase\"}, {\"@id\": \"a66508a9-c9c1-4db5-8ffd-f081e5e9e14d\", \"@type\": \"ACLineSegmentPhase\"}], \"PerLengthImpedance\": {\"@id\": \"50044320-7295-4591-b39e-f793f1923098\", \"@type\": \"PerLengthPhaseImpedance\"}}'"
      ]
     },
     "execution_count": 3,
     "metadata": {},
     "output_type": "execute_result"
    }
   ],
   "source": [
    "network.graph[cim.ACLineSegment][UUID('a04cdfb1-e951-4fc4-8882-0323cd70ae3c')].__str__()"
   ]
  },
  {
   "cell_type": "code",
   "execution_count": 9,
   "metadata": {},
   "outputs": [
    {
     "name": "stdout",
     "output_type": "stream",
     "text": [
      "None\n"
     ]
    }
   ],
   "source": [
    "print(network.get_edges_query(cim.OperationalLimitType))"
   ]
  },
  {
   "cell_type": "code",
   "execution_count": 6,
   "metadata": {},
   "outputs": [
    {
     "name": "stdout",
     "output_type": "stream",
     "text": [
      "{\n",
      "    \"@id\": \"ec7f968e-2ede-4007-b5ab-6db38e4113fb\",\n",
      "    \"@type\": \"OperationalLimitType\",\n",
      "    \"identifier\": \"ec7f968e-2ede-4007-b5ab-6db38e4113fb\",\n",
      "    \"mRID\": \"EC7F968E-2EDE-4007-B5AB-6DB38E4113FB\",\n",
      "    \"name\": \"ieee13nodeckt_NormAmpsType\",\n",
      "    \"acceptableDuration\": \"5000000000.0\",\n",
      "    \"direction\": \"OperationalLimitDirectionKind.absoluteValue\",\n",
      "    \"OperationalLimit\": [\n",
      "        {\n",
      "            \"@id\": \"2132277e-5094-4e2a-8b46-9ec1378cdc61\",\n",
      "            \"@type\": \"CurrentLimit\"\n",
      "        },\n",
      "        {\n",
      "            \"@id\": \"2ea3d4a6-aef0-4c67-bb05-cc4873d6a901\",\n",
      "            \"@type\": \"CurrentLimit\"\n",
      "        },\n",
      "        {\n",
      "            \"@id\": \"ad623166-bdf4-4b16-8874-847a94b5f229\",\n",
      "            \"@type\": \"CurrentLimit\"\n",
      "        },\n",
      "        {\n",
      "            \"@id\": \"9606c549-eb39-4e12-940d-3ee0569a4049\",\n",
      "            \"@type\": \"CurrentLimit\"\n",
      "        },\n",
      "        {\n",
      "            \"@id\": \"d99c18da-3c11-4112-adf6-f667fc343bc0\",\n",
      "            \"@type\": \"CurrentLimit\"\n",
      "        },\n",
      "        {\n",
      "            \"@id\": \"7a32daee-7906-4052-aea8-d381aead292a\",\n",
      "            \"@type\": \"CurrentLimit\"\n",
      "        },\n",
      "        {\n",
      "            \"@id\": \"d1089610-aadf-4608-b90d-18fcd14b3ea8\",\n",
      "            \"@type\": \"CurrentLimit\"\n",
      "        },\n",
      "        {\n",
      "            \"@id\": \"41c63ff4-712a-4249-93a7-5219642e528a\",\n",
      "            \"@type\": \"CurrentLimit\"\n",
      "        },\n",
      "        {\n",
      "            \"@id\": \"4ef41ca2-9b60-476a-8758-48423c222c42\",\n",
      "            \"@type\": \"CurrentLimit\"\n",
      "        },\n",
      "        {\n",
      "            \"@id\": \"e37c801a-7c91-4cf1-8859-ffce287ffe4c\",\n",
      "            \"@type\": \"CurrentLimit\"\n",
      "        },\n",
      "        {\n",
      "            \"@id\": \"d9b93c9e-cdd3-475c-a6d0-06d00566db0d\",\n",
      "            \"@type\": \"CurrentLimit\"\n",
      "        },\n",
      "        {\n",
      "            \"@id\": \"3d971662-d5a5-4f0a-8b16-edc4d7974430\",\n",
      "            \"@type\": \"CurrentLimit\"\n",
      "        }\n",
      "    ]\n",
      "}\n"
     ]
    }
   ],
   "source": [
    "network.graph[cim.OperationalLimitType][UUID('ec7f968e-2ede-4007-b5ab-6db38e4113fb')].pprint()"
   ]
  },
  {
   "cell_type": "code",
   "execution_count": 5,
   "metadata": {},
   "outputs": [
    {
     "data": {
      "text/plain": [
       "'{\"@id\": \"15eee173-cc90-4888-b9b8-43916d56890c\", \"@type\": \"PhotovoltaicUnit\", \"identifier\": \"15eee173-cc90-4888-b9b8-43916d56890c\", \"mRID\": \"15EEE173-CC90-4888-B9B8-43916D56890C\", \"name\": \"school\", \"Location\": {\"@id\": \"83fa529e-9b45-4022-bd00-3e9867efd55d\", \"@type\": \"Location\"}, \"maxP\": \"300000.0\", \"minP\": \"60000.0\", \"PowerElectronicsConnection\": {\"@id\": \"d2e930a7-b136-4aca-a996-8db5c60aadf3\", \"@type\": \"PowerElectronicsConnection\"}}'"
      ]
     },
     "execution_count": 5,
     "metadata": {},
     "output_type": "execute_result"
    }
   ],
   "source": [
    "network.graph[cim.PhotovoltaicUnit][UUID('15eee173-cc90-4888-b9b8-43916d56890c')].__str__()"
   ]
  },
  {
   "cell_type": "code",
   "execution_count": 6,
   "metadata": {},
   "outputs": [
    {
     "data": {
      "text/plain": [
       "'school'"
      ]
     },
     "execution_count": 6,
     "metadata": {},
     "output_type": "execute_result"
    }
   ],
   "source": [
    "uuid = UUID('15eee173-cc90-4888-b9b8-43916d56890c')\n",
    "\n",
    "network.graph[cim.PhotovoltaicUnit][uuid].name"
   ]
  },
  {
   "cell_type": "code",
   "execution_count": 7,
   "metadata": {},
   "outputs": [
    {
     "name": "stdout",
     "output_type": "stream",
     "text": [
      "upper_camel_case\n"
     ]
    }
   ],
   "source": [
    "import re\n",
    "\n",
    "def upper_camel_to_lower_snake(name):\n",
    "    # Add an underscore before each uppercase letter (except the first one)\n",
    "    # and convert the whole string to lowercase\n",
    "    s1 = re.sub('(.)([A-Z][a-z]+)', r'\\1_\\2', name)\n",
    "    s2 = re.sub('([a-z0-9])([A-Z])', r'\\1_\\2', s1)\n",
    "    \n",
    "    return s2.lower()\n",
    "\n",
    "# Example usage\n",
    "upper_camel_word = \"UpperCamelCase\"\n",
    "lower_snake_case_word = upper_camel_to_lower_snake(upper_camel_word)\n",
    "print(lower_snake_case_word)"
   ]
  },
  {
   "cell_type": "code",
   "execution_count": 9,
   "metadata": {},
   "outputs": [
    {
     "name": "stdout",
     "output_type": "stream",
     "text": [
      "Using the CIM-Graph python library, how do I write an API call to find the attribute maxP of a particular PhotovoltaicUnit instance?\n",
      "\"To get the values of PhotovoltaicUnit.maxP, you would call CIM-Graph as follows:\\n```python\\nphotovoltaic_unit = network.graph[cim.PhotovoltaicUnit][uuid]\\nresult = photovoltaic_unit.maxP\\n```\"\n"
     ]
    }
   ],
   "source": [
    "cim_class = cim.PhotovoltaicUnit\n",
    "attribute = 'maxP'\n",
    "question = f\"Using the CIM-Graph python library, how do I write an API call to find the attribute {attribute} of a particular {cim_class.__name__} instance?\"\n",
    "answer = f\"\"\"To get the values of {cim_class.__name__}.{attribute}, you would call CIM-Graph as follows:\n",
    "```python\n",
    "{upper_camel_to_lower_snake(cim_class.__name__)} = network.graph[cim.{cim_class.__name__}][uuid]\n",
    "result = {upper_camel_to_lower_snake(cim_class.__name__)}.{attribute}\n",
    "```\"\"\"\n",
    "import json\n",
    "print(question)\n",
    "print(json.dumps(answer))"
   ]
  },
  {
   "cell_type": "code",
   "execution_count": null,
   "metadata": {},
   "outputs": [],
   "source": [
    "\n",
    "file = open('ieee13.csv', 'w')\n",
    "for cim_class in network.graph:\n",
    "    for cim_obj in network.graph[cim_class].values():\n",
    "        question = f'Can you create an example of a CIM {cim_class.__name__} object with mRID {cim_obj.uri()}?'\n",
    "        answer = cim_obj.__str__().replace(',', '\\n')\n",
    "        row = question + ','\n",
    "        file.write()"
   ]
  },
  {
   "cell_type": "code",
   "execution_count": null,
   "metadata": {},
   "outputs": [],
   "source": []
  },
  {
   "cell_type": "code",
   "execution_count": 15,
   "metadata": {},
   "outputs": [],
   "source": [
    "utils.write_xml(network, 'out13.xml')"
   ]
  },
  {
   "cell_type": "code",
   "execution_count": 16,
   "metadata": {},
   "outputs": [],
   "source": [
    "from cimgraph.databases.fileparsers import XMLFile\n",
    "params2 = ConnectionParameters(filename=\"/home/ande188/CIM-Graph/tests/test_models/ieee13.xml\", cim_profile=cim_profile, iec61970_301=8)\n",
    "xml_file2 = XMLFile(params2)\n",
    "feeder_mrid = \"49AD8E07-3BF9-A4E2-CB8F-C3722F837B62\"\n",
    "feeder2 = cim.Feeder(mRID = feeder_mrid)\n",
    "network2 = FeederModel(connection=xml_file2, container=feeder2, distributed=False)"
   ]
  },
  {
   "cell_type": "code",
   "execution_count": null,
   "metadata": {},
   "outputs": [],
   "source": [
    "for cim_class in network.graph:\n",
    "    if cim_class not in network2.graph:\n",
    "        print(f'{cim_class.__name__} not in new')\n",
    "    else:\n",
    "        for uuid in network.graph[cim_class]:\n",
    "            if uuid not in network2.graph[cim_class]:\n",
    "                print(f'{cim_class.__name__} : {str(uuid)} not in new')\n",
    "            else:\n",
    "                for attribute in cim_class.__dataclass_fields__:\n",
    "                    value1 = str(getattr(network.graph[cim_class][uuid], attribute))\n",
    "                    value2 = str(getattr(network2.graph[cim_class][uuid], attribute))\n",
    "                    if value1 != value2:\n",
    "                        print(f'{cim_class.__name__} : {str(uuid)}')\n",
    "                        print(value1)\n",
    "                        print(value2)\n",
    "                        print()\n"
   ]
  },
  {
   "cell_type": "code",
   "execution_count": null,
   "metadata": {},
   "outputs": [],
   "source": []
  },
  {
   "cell_type": "code",
   "execution_count": 8,
   "metadata": {},
   "outputs": [],
   "source": [
    "graph = {}\n",
    "params = ConnectionParameters(url = \"http://localhost:8889/bigdata/namespace/kb/sparql\", cim_profile=cim_profile, iec61970_301=7)\n",
    "database = BlazegraphConnection(params)"
   ]
  },
  {
   "cell_type": "code",
   "execution_count": 9,
   "metadata": {},
   "outputs": [],
   "source": [
    "rdf = '''{http://www.w3.org/1999/02/22-rdf-syntax-ns#}'''\n",
    "# Parse the XML file\n",
    "# tree = parse('./test_models/ieee13_assets.xml')\n",
    "tree = parse('/home/ande188/CIM-Graph/tests/test_models/ieee9500bal.xml')\n",
    "root = tree.getroot()\n",
    "\n",
    "class_index = {}\n",
    "\n",
    "# # Function to extract tag without namespace\n",
    "# def extract_tag(tag):\n",
    "#     return tag.split('}')[-1]\n",
    "\n",
    "# Iterate over the elements and create dataclass instances\n",
    "for element in root:\n",
    "\n",
    "    class_name = element.tag.split('{'+params.namespace+'}')[1]\n",
    "    cim_class = eval(f'cim.{class_name}')\n",
    "\n",
    "    if class_name in cim.__all__:\n",
    "        uri = element.get(f'{rdf}about')\n",
    "        identifier = UUID(uri.strip('_').lower())\n",
    "        uri = uri.split(':')[-1]  # Extract UUID from the full URI\n",
    "        class_index[identifier] = cim_class\n",
    "        obj = database.create_object(graph, cim_class, uri)\n",
    "\n",
    "# for element in root:      \n",
    "#     class_name = element.tag.split('{'+params.namespace+'}')[1]\n",
    "#     cim_class = eval(f'cim.{class_name}')\n",
    "\n",
    "#     if class_name in cim.__all__:\n",
    "#         uri = element.get(f'{rdf}about')\n",
    "        \n",
    "#         identifier = UUID(uri.strip('_').lower())\n",
    "#         uri = uri.split(':')[-1]  # Extract UUID from the full URI\n",
    "        \n",
    "#         obj = graph[cim_class][UUID(uri)]\n",
    "#         for sub_element in element:\n",
    "#             sub_tag = sub_element.tag.split('}')[-1]\n",
    "#             association = database.check_attribute(cim_class, sub_tag)\n",
    "#             try:\n",
    "#                 edge_uri = sub_element.attrib[f'{rdf}resource'].split('uuid:')[-1]\n",
    "#             except:\n",
    "#                 edge_uri = None\n",
    "\n",
    "#             if edge_uri is not None:\n",
    "#                 if database.namespace not in edge_uri:\n",
    "#                     edge_uuid = UUID(edge_uri.strip('_').lower())                  \n",
    "#                     edge_class = class_index[edge_uuid]\n",
    "#                     database.create_edge(graph, cim_class, identifier, sub_tag, edge_class, edge_uri)\n",
    "#                     reverse = cim_class.__dataclass_fields__[association].metadata['inverse']\n",
    "#                     database.create_edge(graph, edge_class, edge_uuid, reverse, cim_class, graph[cim_class][identifier].uri())\n",
    "#                 else:\n",
    "#                     enum_text = edge_uri.split(database.namespace)[1]\n",
    "#                     enum_text = enum_text.split('>')[0]\n",
    "#                     enum_class = enum_text.split('.')[0]\n",
    "#                     enum_value = enum_text.split('.')[1]\n",
    "#                     edge_enum = eval(f'cim.{enum_class}(enum_value)')\n",
    "#                     if association is not None:\n",
    "#                         setattr(graph[cim_class][identifier], association, edge_enum)\n",
    "#             else:\n",
    "#                 if association is not None:\n",
    "#                     setattr(obj, association, sub_element.text)\n"
   ]
  },
  {
   "cell_type": "code",
   "execution_count": null,
   "metadata": {},
   "outputs": [],
   "source": []
  },
  {
   "cell_type": "code",
   "execution_count": null,
   "metadata": {},
   "outputs": [],
   "source": [
    "len(graph[cim.ACLineSegment].keys())"
   ]
  },
  {
   "cell_type": "code",
   "execution_count": 11,
   "metadata": {},
   "outputs": [],
   "source": [
    "import multiprocessing\n",
    "import defusedxml.ElementTree as ET\n",
    "\n",
    "# Parse the XML file\n",
    "def parse_xml_file(file_path):\n",
    "    tree = ET.parse(file_path)\n",
    "    return tree.getroot()\n",
    "\n",
    "# Extract tag without namespace\n",
    "def extract_tag(tag):\n",
    "    return tag.split('}')[-1]\n",
    "\n",
    "# Function to create the object and set attributes\n",
    "def process_element(element, element_to_class, graph, lock):\n",
    "    tag = extract_tag(element.tag)\n",
    "    data_class = element_to_class.get(tag)\n",
    "    if data_class:\n",
    "        uuid = element.get('{http://www.w3.org/1999/02/22-rdf-syntax-ns#}about')\n",
    "        uuid = uuid.split(':')[-1]  # Extract UUID from the full URI\n",
    "        with lock:\n",
    "            if uuid not in graph:\n",
    "                graph[uuid] = xml_file.create_object(graph, data_class, uuid) #data_class(mRID=uuid)\n",
    "        obj = graph[uuid]\n",
    "\n",
    "        data_class in cim.__all__\n",
    "        \n",
    "        for sub_element in element:\n",
    "            sub_tag = extract_tag(sub_element.tag)\n",
    "            if sub_tag.startswith('IdentifiedObject.'):\n",
    "                attribute = sub_tag.split('.')[-1]\n",
    "                with lock:\n",
    "                    setattr(obj, attribute, sub_element.text)\n",
    "                    \n",
    "            elif sub_tag.startswith(tag + '.'):\n",
    "                attribute = sub_tag.split('.')[-1]\n",
    "                with lock:\n",
    "                    setattr(obj, attribute, sub_element.get('{http://www.w3.org/1999/02/22-rdf-syntax-ns#}resource'))\n"
   ]
  },
  {
   "cell_type": "code",
   "execution_count": 12,
   "metadata": {},
   "outputs": [],
   "source": [
    "def parse_nodes(graph, element, lock):\n",
    "        # Iterate over the elements and create dataclass instances\n",
    "        # for element in self.root:\n",
    "        class_name = element.tag.split('{'+self.namespace+'}')[1]\n",
    "\n",
    "        if class_name in self.cim.__all__:\n",
    "            print(class_name)\n",
    "            cim_class = eval(f'self.cim.{class_name}')\n",
    "            uri = element.get(f'{self.rdf}about')\n",
    "            identifier = UUID(uri.strip('_').lower())\n",
    "            uri = uri.split(':')[-1]  # Extract UUID from the full URI\n",
    "            self.class_index[identifier] = cim_class\n",
    "            with lock:\n",
    "                obj = self.create_object(graph, cim_class, uri)\n",
    "        else:\n",
    "            # _log.warning(f'{class_name} not in data profile')\n",
    "            pass\n",
    "        return None"
   ]
  },
  {
   "cell_type": "code",
   "execution_count": 13,
   "metadata": {},
   "outputs": [],
   "source": [
    "def main():\n",
    "    # Define the mapping from XML element names to dataclass types\n",
    "    element_to_class = {\n",
    "        'GeographicalRegion': cim.GeographicalRegion,\n",
    "        'SubGeographicalRegion': cim.SubGeographicalRegion,\n",
    "        'Substation': cim.Substation,\n",
    "        'Location': cim.Location,\n",
    "        'Feeder': cim.Feeder\n",
    "    }\n",
    "\n",
    "    xml_file_path = '/home/ande188/CIM-Graph/tests/test_models/ieee13.xml'\n",
    "    root = parse_xml_file(xml_file_path)\n",
    "    \n",
    "    with multiprocessing.Manager() as manager:\n",
    "        graph = manager.dict()\n",
    "        lock = manager.Lock()\n",
    "\n",
    "        # # Use ProcessPoolExecutor to process elements in parallel\n",
    "        # with multiprocessing.Pool(processes=multiprocessing.cpu_count()) as pool:\n",
    "        #     pool.starmap(\n",
    "        #         process_element, \n",
    "        #         [(element, element_to_class, graph, lock) for element in root]\n",
    "        #     )\n",
    "        with multiprocessing.Pool(processes=multiprocessing.cpu_count()) as pool:\n",
    "            pool.starmap(parse_nodes, [(graph, element, lock) for element in root])\n",
    "            \n",
    "        # Example of accessing created objects (for debugging or verification)\n",
    "        for uuid, obj in graph.items():\n",
    "            print(uuid, obj)"
   ]
  },
  {
   "cell_type": "code",
   "execution_count": null,
   "metadata": {},
   "outputs": [],
   "source": [
    "main()"
   ]
  },
  {
   "cell_type": "code",
   "execution_count": null,
   "metadata": {},
   "outputs": [],
   "source": []
  }
 ],
 "metadata": {
  "kernelspec": {
   "display_name": ".venv",
   "language": "python",
   "name": "python3"
  },
  "language_info": {
   "codemirror_mode": {
    "name": "ipython",
    "version": 3
   },
   "file_extension": ".py",
   "mimetype": "text/x-python",
   "name": "python",
   "nbconvert_exporter": "python",
   "pygments_lexer": "ipython3",
   "version": "3.10.12"
  }
 },
 "nbformat": 4,
 "nbformat_minor": 2
}
