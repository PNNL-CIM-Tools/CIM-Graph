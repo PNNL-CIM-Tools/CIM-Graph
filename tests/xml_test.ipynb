{
 "cells": [
  {
   "cell_type": "code",
   "execution_count": 1,
   "metadata": {},
   "outputs": [],
   "source": [
    "import cimgraph.data_profile.cimhub_2023 as cim\n",
    "from uuid import UUID\n",
    "from cimgraph.databases import ConnectionParameters\n",
    "from cimgraph.databases import BlazegraphConnection\n",
    "from cimgraph.models import FeederModel\n",
    "from cimgraph.models import DistributedArea\n",
    "import cimgraph.queries.sparql as sparql\n",
    "import cimgraph.utils as utils\n",
    "from defusedxml.ElementTree import parse\n",
    "cim_profile = 'cimhub_2023'"
   ]
  },
  {
   "cell_type": "code",
   "execution_count": 2,
   "metadata": {},
   "outputs": [],
   "source": [
    "from cimgraph.databases.fileparsers import XMLFile\n",
    "\n",
    "params = ConnectionParameters(filename=\"/home/ande188/CIM-Graph/tests/test_models/ieee13.xml\", cim_profile=cim_profile, iec61970_301=8)\n",
    "\n",
    "xml_file = XMLFile(params)"
   ]
  },
  {
   "cell_type": "code",
   "execution_count": 3,
   "metadata": {},
   "outputs": [],
   "source": [
    "feeder_mrid = \"49AD8E07-3BF9-A4E2-CB8F-C3722F837B62\"\n",
    "# feeder_mrid = \"_C1C3E687-6FFD-C753-582B-632A27E28507\" #123 node\n",
    "feeder = cim.Feeder(mRID = feeder_mrid)\n",
    "network = FeederModel(connection=xml_file, container=feeder, distributed=False)"
   ]
  },
  {
   "cell_type": "code",
   "execution_count": 8,
   "metadata": {},
   "outputs": [
    {
     "name": "stdout",
     "output_type": "stream",
     "text": [
      "{\n",
      "    \"a04cdfb1-e951-4fc4-8882-0323cd70ae3c\": {\n",
      "        \"identifier\": \"a04cdfb1-e951-4fc4-8882-0323cd70ae3c\",\n",
      "        \"mRID\": \"A04CDFB1-E951-4FC4-8882-0323CD70AE3C\",\n",
      "        \"name\": \"650632\",\n",
      "        \"Location\": \"3A63B621-3FA6-4805-96F9-DD57A7F88ACF\",\n",
      "        \"EquipmentContainer\": \"49AD8E07-3BF9-A4E2-CB8F-C3722F837B62\",\n",
      "        \"BaseVoltage\": \"2A158E0C-CD01-4A50-AEBA-59D761FCF15D\",\n",
      "        \"Terminals\": \"['000BA1F2-6879-47D7-826D-3CACD23EE20B', '3589A9BE-F3BE-45C3-B84E-3CE5B6105D11']\",\n",
      "        \"length\": \"609.6\",\n",
      "        \"ACLineSegmentPhases\": \"['2A5A1025-AD81-4BFA-A7F0-ED70F7F43DAA', '2D60B241-DE87-48BD-A8D3-FE4B705B40ED', 'A66508A9-C9C1-4DB5-8FFD-F081E5E9E14D']\",\n",
      "        \"PerLengthImpedance\": \"50044320-7295-4591-B39E-F793F1923098\"\n",
      "    },\n",
      "    \"abf53597-a808-422a-b7ee-552f24d83a5f\": {\n",
      "        \"identifier\": \"abf53597-a808-422a-b7ee-552f24d83a5f\",\n",
      "        \"mRID\": \"ABF53597-A808-422A-B7EE-552F24D83A5F\",\n",
      "        \"name\": \"632670\",\n",
      "        \"Location\": \"216C1943-900F-4939-92FE-A3A4817363D8\",\n",
      "        \"EquipmentContainer\": \"49AD8E07-3BF9-A4E2-CB8F-C3722F837B62\",\n",
      "        \"BaseVoltage\": \"2A158E0C-CD01-4A50-AEBA-59D761FCF15D\",\n",
      "        \"Terminals\": \"['5EDB2918-D669-457C-9F44-E08EBA5AC850', 'B554744A-F5B5-485C-B67E-2487A8740295']\",\n",
      "        \"length\": \"203.3016\",\n",
      "        \"ACLineSegmentPhases\": \"['4894C0CB-632C-454A-B9A2-1C2E41FB25FF', 'CF8E1FD4-BF1D-49B6-905C-8D0F9587FEF7', '28DAC6BE-8DD5-4C61-958E-ADB4E8A91EF8']\",\n",
      "        \"PerLengthImpedance\": \"50044320-7295-4591-B39E-F793F1923098\"\n",
      "    },\n",
      "    \"45395c84-f20a-4f5a-977f-b80348256421\": {\n",
      "        \"identifier\": \"45395c84-f20a-4f5a-977f-b80348256421\",\n",
      "        \"mRID\": \"45395C84-F20A-4F5A-977F-B80348256421\",\n",
      "        \"name\": \"670671\",\n",
      "        \"Location\": \"BE71BF98-CD79-4A6D-804B-6729A6EB8020\",\n",
      "        \"EquipmentContainer\": \"49AD8E07-3BF9-A4E2-CB8F-C3722F837B62\",\n",
      "        \"BaseVoltage\": \"2A158E0C-CD01-4A50-AEBA-59D761FCF15D\",\n",
      "        \"Terminals\": \"['EEF69C71-5A87-4378-8DF4-4578635C81B4', '092A5199-DB5E-419E-ADCF-53B290EFAB2C']\",\n",
      "        \"length\": \"406.2984\",\n",
      "        \"ACLineSegmentPhases\": \"['E295A13C-1B49-4D5A-8BB6-6D106AE0D436', '5092EC91-3F74-4829-ABF1-AF5C6AFD1A50', '5AFA6BC8-9FCE-4931-A83B-C8CA2EC15551']\",\n",
      "        \"PerLengthImpedance\": \"50044320-7295-4591-B39E-F793F1923098\"\n",
      "    },\n",
      "    \"4c04f838-62aa-475e-aefa-a63b7c889c13\": {\n",
      "        \"identifier\": \"4c04f838-62aa-475e-aefa-a63b7c889c13\",\n",
      "        \"mRID\": \"4C04F838-62AA-475E-AEFA-A63B7C889C13\",\n",
      "        \"name\": \"671680\",\n",
      "        \"Location\": \"6E6EDB91-07A8-46E9-BDC5-733EAB0552F7\",\n",
      "        \"EquipmentContainer\": \"49AD8E07-3BF9-A4E2-CB8F-C3722F837B62\",\n",
      "        \"BaseVoltage\": \"2A158E0C-CD01-4A50-AEBA-59D761FCF15D\",\n",
      "        \"Terminals\": \"['8BE8D3EA-EEE9-406C-B24C-B169C8EC799A', 'FF3DE145-0066-4C1F-867C-2A2BF3012EDF']\",\n",
      "        \"length\": \"304.8\",\n",
      "        \"ACLineSegmentPhases\": \"['A539F769-AF0F-4203-99CE-6FF4B9D07F70', 'A28877AB-3D74-4950-AA8C-45D962BD7331', '1B6C674F-B22C-4D39-9294-98BB4634ED96']\",\n",
      "        \"PerLengthImpedance\": \"50044320-7295-4591-B39E-F793F1923098\"\n",
      "    },\n",
      "    \"fbe26b35-13ab-457d-9795-df58b28e309d\": {\n",
      "        \"identifier\": \"fbe26b35-13ab-457d-9795-df58b28e309d\",\n",
      "        \"mRID\": \"FBE26B35-13AB-457D-9795-DF58B28E309D\",\n",
      "        \"name\": \"632633\",\n",
      "        \"Location\": \"3D3B02A5-E9D5-45F0-9506-22B098EDA261\",\n",
      "        \"EquipmentContainer\": \"49AD8E07-3BF9-A4E2-CB8F-C3722F837B62\",\n",
      "        \"BaseVoltage\": \"2A158E0C-CD01-4A50-AEBA-59D761FCF15D\",\n",
      "        \"Terminals\": \"['A6C57C2E-A084-4701-ADF5-FB6F3E36F45C', 'F0E10483-D8AD-46BE-AF5F-08228955796B']\",\n",
      "        \"length\": \"152.4\",\n",
      "        \"ACLineSegmentPhases\": \"['18F23724-C3EE-498E-96A7-98FE210A523C', '30E5A294-2F25-480D-BDDA-777F59ED5AF3', '5830B397-557C-41B5-A94D-95A3841505D0']\",\n",
      "        \"PerLengthImpedance\": \"EAEF5A85-027A-4BE2-9A07-99D4550C3DE1\"\n",
      "    },\n",
      "    \"1c6781a2-5b9d-4525-8a9b-f9b32c4c4ac0\": {\n",
      "        \"identifier\": \"1c6781a2-5b9d-4525-8a9b-f9b32c4c4ac0\",\n",
      "        \"mRID\": \"1C6781A2-5B9D-4525-8A9B-F9B32C4C4AC0\",\n",
      "        \"name\": \"632645\",\n",
      "        \"Location\": \"E85D20C3-84EA-43F6-9D31-5239FAB00019\",\n",
      "        \"EquipmentContainer\": \"49AD8E07-3BF9-A4E2-CB8F-C3722F837B62\",\n",
      "        \"BaseVoltage\": \"2A158E0C-CD01-4A50-AEBA-59D761FCF15D\",\n",
      "        \"Terminals\": \"['A563A3A5-EA39-4998-96B2-538227E2D2F6', '4891537F-4088-48F5-9B1A-8294D50901E4']\",\n",
      "        \"length\": \"152.4\",\n",
      "        \"ACLineSegmentPhases\": \"['19B6044B-6915-4245-9DD1-6AB0444D42A6', 'D9C9CEA6-B3F0-4E02-9911-3DFA192B4D01']\",\n",
      "        \"PerLengthImpedance\": \"12C526C5-6645-4C0C-83CD-3030C440DA17\"\n",
      "    },\n",
      "    \"0bbd0ea3-f665-465b-86fd-fc8b8466ad53\": {\n",
      "        \"identifier\": \"0bbd0ea3-f665-465b-86fd-fc8b8466ad53\",\n",
      "        \"mRID\": \"0BBD0EA3-F665-465B-86FD-FC8B8466AD53\",\n",
      "        \"name\": \"645646\",\n",
      "        \"Location\": \"89C21411-D107-454A-93B0-0905893DD27D\",\n",
      "        \"EquipmentContainer\": \"49AD8E07-3BF9-A4E2-CB8F-C3722F837B62\",\n",
      "        \"BaseVoltage\": \"2A158E0C-CD01-4A50-AEBA-59D761FCF15D\",\n",
      "        \"Terminals\": \"['F3C0F2D0-4D28-49B5-A920-37409B99229D', 'D02B9E99-3557-48F5-B475-4871E47D08F6']\",\n",
      "        \"length\": \"91.44\",\n",
      "        \"ACLineSegmentPhases\": \"['94FCAFFF-E5F7-4F97-B697-35C46656EDCA', 'CE2AFB05-A1B1-4082-B4EB-2AD8A1D3422D']\",\n",
      "        \"PerLengthImpedance\": \"12C526C5-6645-4C0C-83CD-3030C440DA17\"\n",
      "    },\n",
      "    \"7060d0bb-b30d-4932-8fa1-40820a0fc4d0\": {\n",
      "        \"identifier\": \"7060d0bb-b30d-4932-8fa1-40820a0fc4d0\",\n",
      "        \"mRID\": \"7060D0BB-B30D-4932-8FA1-40820A0FC4D0\",\n",
      "        \"name\": \"692675\",\n",
      "        \"Location\": \"F302E764-FCD7-41AF-903E-42A4F0045EEF\",\n",
      "        \"EquipmentContainer\": \"49AD8E07-3BF9-A4E2-CB8F-C3722F837B62\",\n",
      "        \"BaseVoltage\": \"2A158E0C-CD01-4A50-AEBA-59D761FCF15D\",\n",
      "        \"Terminals\": \"['B4E1784C-5500-47AE-958B-A286CE8C17A5', 'CD147977-45B7-48AD-9F72-4F488BD6AD6D']\",\n",
      "        \"length\": \"152.4\",\n",
      "        \"ACLineSegmentPhases\": \"['5D4FC857-8FD9-4BE9-8C1F-11CF7E38AA46', '216C7BCA-22B0-4B68-81F5-33AB8A4E6DA7', 'BD4212B3-1635-421A-BDD8-767B6738FA80']\",\n",
      "        \"PerLengthImpedance\": \"07097405-6433-4EBF-9EE2-2049906B4157\"\n",
      "    },\n",
      "    \"d34b0d01-b082-4081-a3cc-b68b9b8313a4\": {\n",
      "        \"identifier\": \"d34b0d01-b082-4081-a3cc-b68b9b8313a4\",\n",
      "        \"mRID\": \"D34B0D01-B082-4081-A3CC-B68B9B8313A4\",\n",
      "        \"name\": \"671684\",\n",
      "        \"Location\": \"58246081-FEDB-4DE7-8173-C408CFE3803E\",\n",
      "        \"EquipmentContainer\": \"49AD8E07-3BF9-A4E2-CB8F-C3722F837B62\",\n",
      "        \"BaseVoltage\": \"2A158E0C-CD01-4A50-AEBA-59D761FCF15D\",\n",
      "        \"Terminals\": \"['A4C58654-2972-4A3E-AE65-3868941DA037', 'BC623628-BD23-4A1A-A406-15CA63556149']\",\n",
      "        \"length\": \"91.44\",\n",
      "        \"ACLineSegmentPhases\": \"['5143B56C-5AF7-4D47-A6B1-5F952B891190', '22182853-3560-4EE4-8BA2-0730C5F5AF94']\",\n",
      "        \"PerLengthImpedance\": \"D3933951-0672-4817-B38D-E51F47E8631F\"\n",
      "    },\n",
      "    \"8e180773-2a9b-4136-bc9a-132a52c8e276\": {\n",
      "        \"identifier\": \"8e180773-2a9b-4136-bc9a-132a52c8e276\",\n",
      "        \"mRID\": \"8E180773-2A9B-4136-BC9A-132A52C8E276\",\n",
      "        \"name\": \"684611\",\n",
      "        \"Location\": \"5A4B421C-35AA-45FA-B364-43236D22BCEE\",\n",
      "        \"EquipmentContainer\": \"49AD8E07-3BF9-A4E2-CB8F-C3722F837B62\",\n",
      "        \"BaseVoltage\": \"2A158E0C-CD01-4A50-AEBA-59D761FCF15D\",\n",
      "        \"Terminals\": \"['EA5FF2C4-F7E1-436D-BDEC-1C48D4DBB50D', '233304A2-B68B-4EC3-A692-4735DE495569']\",\n",
      "        \"length\": \"91.44\",\n",
      "        \"ACLineSegmentPhases\": \"['AA2FE477-C2D1-4206-9A8E-742D27976105']\",\n",
      "        \"PerLengthImpedance\": \"B10FD3C7-8BD6-45D0-9A08-8ADFE7A51952\"\n",
      "    },\n",
      "    \"abf877d7-dac2-4bf0-ab58-9a8a02e92eb3\": {\n",
      "        \"identifier\": \"abf877d7-dac2-4bf0-ab58-9a8a02e92eb3\",\n",
      "        \"mRID\": \"ABF877D7-DAC2-4BF0-AB58-9A8A02E92EB3\",\n",
      "        \"name\": \"684652\",\n",
      "        \"Location\": \"CF03D366-44AC-4088-B698-D42F4E39D8C4\",\n",
      "        \"EquipmentContainer\": \"49AD8E07-3BF9-A4E2-CB8F-C3722F837B62\",\n",
      "        \"BaseVoltage\": \"2A158E0C-CD01-4A50-AEBA-59D761FCF15D\",\n",
      "        \"Terminals\": \"['3313C5A7-ED81-47D3-8114-AD654A5DE21B', '8692A804-428A-4637-BD47-69C76F873DAB']\",\n",
      "        \"length\": \"243.84\",\n",
      "        \"ACLineSegmentPhases\": \"['D78E30EA-6215-4365-A330-A13FADA79F4F']\",\n",
      "        \"PerLengthImpedance\": \"B687FB8B-3772-4BC7-9CAD-07497C7004D3\"\n",
      "    }\n",
      "}\n"
     ]
    }
   ],
   "source": [
    "network.pprint(cim.ACLineSegment)"
   ]
  },
  {
   "cell_type": "code",
   "execution_count": null,
   "metadata": {},
   "outputs": [],
   "source": []
  },
  {
   "cell_type": "code",
   "execution_count": 4,
   "metadata": {},
   "outputs": [],
   "source": [
    "graph = {}\n",
    "params = ConnectionParameters(url = \"http://localhost:8889/bigdata/namespace/kb/sparql\", cim_profile=cim_profile, iec61970_301=7)\n",
    "database = BlazegraphConnection(params)"
   ]
  },
  {
   "cell_type": "code",
   "execution_count": 5,
   "metadata": {},
   "outputs": [],
   "source": [
    "rdf = '''{http://www.w3.org/1999/02/22-rdf-syntax-ns#}'''\n",
    "# Parse the XML file\n",
    "tree = parse('./test_models/ieee13_assets.xml')\n",
    "# tree = parse('./test_models/ieee9500bal.xml')\n",
    "root = tree.getroot()\n",
    "\n",
    "class_index = {}\n",
    "\n",
    "# # Function to extract tag without namespace\n",
    "# def extract_tag(tag):\n",
    "#     return tag.split('}')[-1]\n",
    "\n",
    "# Iterate over the elements and create dataclass instances\n",
    "for element in root:\n",
    "\n",
    "    class_name = element.tag.split('{'+params.namespace+'}')[1]\n",
    "    cim_class = eval(f'cim.{class_name}')\n",
    "\n",
    "    if class_name in cim.__all__:\n",
    "        uri = element.get(f'{rdf}about')\n",
    "        identifier = UUID(uri.strip('_').lower())\n",
    "        uri = uri.split(':')[-1]  # Extract UUID from the full URI\n",
    "        class_index[identifier] = cim_class\n",
    "        obj = database.create_object(graph, cim_class, uri)\n",
    "\n",
    "for element in root:      \n",
    "    class_name = element.tag.split('{'+params.namespace+'}')[1]\n",
    "    cim_class = eval(f'cim.{class_name}')\n",
    "\n",
    "    if class_name in cim.__all__:\n",
    "        uri = element.get(f'{rdf}about')\n",
    "        \n",
    "        identifier = UUID(uri.strip('_').lower())\n",
    "        uri = uri.split(':')[-1]  # Extract UUID from the full URI\n",
    "        \n",
    "        obj = graph[cim_class][UUID(uri)]\n",
    "        for sub_element in element:\n",
    "            sub_tag = sub_element.tag.split('}')[-1]\n",
    "            association = database.check_attribute(cim_class, sub_tag)\n",
    "            try:\n",
    "                edge_uri = sub_element.attrib[f'{rdf}resource'].split('uuid:')[-1]\n",
    "            except:\n",
    "                edge_uri = None\n",
    "\n",
    "            if edge_uri is not None:\n",
    "                if database.namespace not in edge_uri:\n",
    "                    edge_uuid = UUID(edge_uri.strip('_').lower())                  \n",
    "                    edge_class = class_index[edge_uuid]\n",
    "                    database.create_edge(graph, cim_class, identifier, sub_tag, edge_class, edge_uri)\n",
    "                    reverse = cim_class.__dataclass_fields__[association].metadata['inverse']\n",
    "                    database.create_edge(graph, edge_class, edge_uuid, reverse, cim_class, graph[cim_class][identifier].uri())\n",
    "                else:\n",
    "                    enum_text = edge_uri.split(database.namespace)[1]\n",
    "                    enum_text = enum_text.split('>')[0]\n",
    "                    enum_class = enum_text.split('.')[0]\n",
    "                    enum_value = enum_text.split('.')[1]\n",
    "                    edge_enum = eval(f'cim.{enum_class}(enum_value)')\n",
    "                    if association is not None:\n",
    "                        setattr(graph[cim_class][identifier], association, edge_enum)\n",
    "            else:\n",
    "                if association is not None:\n",
    "                    setattr(obj, association, sub_element.text)\n"
   ]
  },
  {
   "cell_type": "code",
   "execution_count": null,
   "metadata": {},
   "outputs": [],
   "source": []
  },
  {
   "cell_type": "code",
   "execution_count": 6,
   "metadata": {},
   "outputs": [
    {
     "data": {
      "text/plain": [
       "11"
      ]
     },
     "execution_count": 6,
     "metadata": {},
     "output_type": "execute_result"
    }
   ],
   "source": [
    "len(graph[cim.ACLineSegment].keys())"
   ]
  },
  {
   "cell_type": "code",
   "execution_count": null,
   "metadata": {},
   "outputs": [],
   "source": []
  },
  {
   "cell_type": "code",
   "execution_count": 7,
   "metadata": {},
   "outputs": [
    {
     "data": {
      "text/plain": [
       "'WireUsageKind'"
      ]
     },
     "execution_count": 7,
     "metadata": {},
     "output_type": "execute_result"
    }
   ],
   "source": [
    "enum_class"
   ]
  }
 ],
 "metadata": {
  "kernelspec": {
   "display_name": ".venv",
   "language": "python",
   "name": "python3"
  },
  "language_info": {
   "codemirror_mode": {
    "name": "ipython",
    "version": 3
   },
   "file_extension": ".py",
   "mimetype": "text/x-python",
   "name": "python",
   "nbconvert_exporter": "python",
   "pygments_lexer": "ipython3",
   "version": "3.10.12"
  }
 },
 "nbformat": 4,
 "nbformat_minor": 2
}
