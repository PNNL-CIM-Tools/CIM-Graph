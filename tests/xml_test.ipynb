{
 "cells": [
  {
   "cell_type": "code",
   "execution_count": 1,
   "metadata": {},
   "outputs": [],
   "source": [
    "import os\n",
    "os.environ['CIMGRAPH_TIME'] = '1'\n",
    "from cimgraph.utils.timing import print_timing, clear_timing\n",
    "print_timing()\n",
    "clear_timing()"
   ]
  },
  {
   "cell_type": "code",
   "execution_count": 2,
   "metadata": {},
   "outputs": [],
   "source": [
    "import cimgraph.data_profile.cimhub_2023 as cim\n",
    "from uuid import UUID\n",
    "from cimgraph.databases import ConnectionParameters\n",
    "from cimgraph.databases import BlazegraphConnection\n",
    "from cimgraph.models import FeederModel\n",
    "from cimgraph.models import DistributedArea\n",
    "import cimgraph.queries.sparql as sparql\n",
    "import cimgraph.utils as utils\n",
    "from defusedxml.ElementTree import parse\n",
    "cim_profile = 'cimhub_2023'"
   ]
  },
  {
   "cell_type": "code",
   "execution_count": null,
   "metadata": {},
   "outputs": [],
   "source": []
  },
  {
   "cell_type": "code",
   "execution_count": 3,
   "metadata": {},
   "outputs": [
    {
     "ename": "KeyboardInterrupt",
     "evalue": "",
     "output_type": "error",
     "traceback": [
      "\u001b[0;31m---------------------------------------------------------------------------\u001b[0m",
      "\u001b[0;31mKeyboardInterrupt\u001b[0m                         Traceback (most recent call last)",
      "Cell \u001b[0;32mIn[3], line 5\u001b[0m\n\u001b[1;32m      3\u001b[0m xml_file \u001b[38;5;241m=\u001b[39m XMLFile(params)\n\u001b[1;32m      4\u001b[0m feeder \u001b[38;5;241m=\u001b[39m cim\u001b[38;5;241m.\u001b[39mFeeder()\n\u001b[0;32m----> 5\u001b[0m network \u001b[38;5;241m=\u001b[39m \u001b[43mFeederModel\u001b[49m\u001b[43m(\u001b[49m\u001b[43mconnection\u001b[49m\u001b[38;5;241;43m=\u001b[39;49m\u001b[43mxml_file\u001b[49m\u001b[43m,\u001b[49m\u001b[43m \u001b[49m\u001b[43mcontainer\u001b[49m\u001b[38;5;241;43m=\u001b[39;49m\u001b[43mfeeder\u001b[49m\u001b[43m,\u001b[49m\u001b[43m \u001b[49m\u001b[43mdistributed\u001b[49m\u001b[38;5;241;43m=\u001b[39;49m\u001b[38;5;28;43;01mFalse\u001b[39;49;00m\u001b[43m)\u001b[49m\n\u001b[1;32m      6\u001b[0m print_timing()\n\u001b[1;32m      7\u001b[0m clear_timing()\n",
      "File \u001b[0;32m<string>:10\u001b[0m, in \u001b[0;36m__init__\u001b[0;34m(self, container, connection, distributed, graph, topology_message, distributed_hierarchy, distributed_areas)\u001b[0m\n",
      "File \u001b[0;32m~/CIM-Graph/cimgraph/models/feeder_model.py:45\u001b[0m, in \u001b[0;36mFeederModel.__post_init__\u001b[0;34m(self)\u001b[0m\n\u001b[1;32m     42\u001b[0m         \u001b[38;5;28mself\u001b[39m\u001b[38;5;241m.\u001b[39minitialize_distributed_model(\u001b[38;5;28mself\u001b[39m\u001b[38;5;241m.\u001b[39mcontainer)\n\u001b[1;32m     43\u001b[0m     \u001b[38;5;28;01melse\u001b[39;00m:\n\u001b[1;32m     44\u001b[0m         \u001b[38;5;66;03m# Otherwise build centralized network model\u001b[39;00m\n\u001b[0;32m---> 45\u001b[0m         \u001b[38;5;28;43mself\u001b[39;49m\u001b[38;5;241;43m.\u001b[39;49m\u001b[43minitialize_centralized_model\u001b[49m\u001b[43m(\u001b[49m\u001b[38;5;28;43mself\u001b[39;49m\u001b[38;5;241;43m.\u001b[39;49m\u001b[43mcontainer\u001b[49m\u001b[43m)\u001b[49m\n\u001b[1;32m     46\u001b[0m \u001b[38;5;28;01melse\u001b[39;00m:    \u001b[38;5;66;03m# Log error thant no connection was specified\u001b[39;00m\n\u001b[1;32m     47\u001b[0m     _log\u001b[38;5;241m.\u001b[39merror(\u001b[38;5;124m'\u001b[39m\u001b[38;5;124mA ConnectionInterface must be specified\u001b[39m\u001b[38;5;124m'\u001b[39m)\n",
      "File \u001b[0;32m~/CIM-Graph/cimgraph/utils/timing.py:30\u001b[0m, in \u001b[0;36mtiming.<locals>.wrap\u001b[0;34m(*args, **kw)\u001b[0m\n\u001b[1;32m     28\u001b[0m     timing_keys[f\u001b[38;5;241m.\u001b[39m\u001b[38;5;18m__name__\u001b[39m] \u001b[38;5;241m=\u001b[39m Counts()\n\u001b[1;32m     29\u001b[0m ts \u001b[38;5;241m=\u001b[39m time()\n\u001b[0;32m---> 30\u001b[0m result \u001b[38;5;241m=\u001b[39m \u001b[43mf\u001b[49m\u001b[43m(\u001b[49m\u001b[38;5;241;43m*\u001b[39;49m\u001b[43margs\u001b[49m\u001b[43m,\u001b[49m\u001b[43m \u001b[49m\u001b[38;5;241;43m*\u001b[39;49m\u001b[38;5;241;43m*\u001b[39;49m\u001b[43mkw\u001b[49m\u001b[43m)\u001b[49m\n\u001b[1;32m     31\u001b[0m te \u001b[38;5;241m=\u001b[39m time()\n\u001b[1;32m     32\u001b[0m timing_keys[f\u001b[38;5;241m.\u001b[39m\u001b[38;5;18m__name__\u001b[39m]\u001b[38;5;241m.\u001b[39mhits \u001b[38;5;241m+\u001b[39m\u001b[38;5;241m=\u001b[39m\u001b[38;5;241m1\u001b[39m\n",
      "File \u001b[0;32m~/CIM-Graph/cimgraph/models/feeder_model.py:51\u001b[0m, in \u001b[0;36mFeederModel.initialize_centralized_model\u001b[0;34m(self, container)\u001b[0m\n\u001b[1;32m     48\u001b[0m \u001b[38;5;129m@time_func\u001b[39m\n\u001b[1;32m     49\u001b[0m \u001b[38;5;28;01mdef\u001b[39;00m \u001b[38;5;21minitialize_centralized_model\u001b[39m(\u001b[38;5;28mself\u001b[39m, container: \u001b[38;5;28mobject\u001b[39m) \u001b[38;5;241m-\u001b[39m\u001b[38;5;241m>\u001b[39m \u001b[38;5;28;01mNone\u001b[39;00m:\n\u001b[1;32m     50\u001b[0m     \u001b[38;5;66;03m# Build graph model using database-specific routine\u001b[39;00m\n\u001b[0;32m---> 51\u001b[0m     \u001b[38;5;28mself\u001b[39m\u001b[38;5;241m.\u001b[39mgraph \u001b[38;5;241m=\u001b[39m \u001b[38;5;28;43mself\u001b[39;49m\u001b[38;5;241;43m.\u001b[39;49m\u001b[43mconnection\u001b[49m\u001b[38;5;241;43m.\u001b[39;49m\u001b[43mcreate_new_graph\u001b[49m\u001b[43m(\u001b[49m\u001b[43mcontainer\u001b[49m\u001b[43m)\u001b[49m\n",
      "File \u001b[0;32m~/CIM-Graph/cimgraph/utils/timing.py:30\u001b[0m, in \u001b[0;36mtiming.<locals>.wrap\u001b[0;34m(*args, **kw)\u001b[0m\n\u001b[1;32m     28\u001b[0m     timing_keys[f\u001b[38;5;241m.\u001b[39m\u001b[38;5;18m__name__\u001b[39m] \u001b[38;5;241m=\u001b[39m Counts()\n\u001b[1;32m     29\u001b[0m ts \u001b[38;5;241m=\u001b[39m time()\n\u001b[0;32m---> 30\u001b[0m result \u001b[38;5;241m=\u001b[39m \u001b[43mf\u001b[49m\u001b[43m(\u001b[49m\u001b[38;5;241;43m*\u001b[39;49m\u001b[43margs\u001b[49m\u001b[43m,\u001b[49m\u001b[43m \u001b[49m\u001b[38;5;241;43m*\u001b[39;49m\u001b[38;5;241;43m*\u001b[39;49m\u001b[43mkw\u001b[49m\u001b[43m)\u001b[49m\n\u001b[1;32m     31\u001b[0m te \u001b[38;5;241m=\u001b[39m time()\n\u001b[1;32m     32\u001b[0m timing_keys[f\u001b[38;5;241m.\u001b[39m\u001b[38;5;18m__name__\u001b[39m]\u001b[38;5;241m.\u001b[39mhits \u001b[38;5;241m+\u001b[39m\u001b[38;5;241m=\u001b[39m\u001b[38;5;241m1\u001b[39m\n",
      "File \u001b[0;32m~/CIM-Graph/cimgraph/databases/fileparsers/xml_parser.py:79\u001b[0m, in \u001b[0;36mXMLFile.create_new_graph\u001b[0;34m(self, container)\u001b[0m\n\u001b[1;32m     75\u001b[0m \u001b[38;5;129m@time_func\u001b[39m\n\u001b[1;32m     76\u001b[0m \u001b[38;5;28;01mdef\u001b[39;00m \u001b[38;5;21mcreate_new_graph\u001b[39m(\u001b[38;5;28mself\u001b[39m, container: \u001b[38;5;28mobject\u001b[39m) \u001b[38;5;241m-\u001b[39m\u001b[38;5;241m>\u001b[39m Graph:\n\u001b[1;32m     78\u001b[0m     \u001b[38;5;28;01mfor\u001b[39;00m element \u001b[38;5;129;01min\u001b[39;00m \u001b[38;5;28mself\u001b[39m\u001b[38;5;241m.\u001b[39mroot:\n\u001b[0;32m---> 79\u001b[0m         \u001b[38;5;28;43mself\u001b[39;49m\u001b[38;5;241;43m.\u001b[39;49m\u001b[43mparse_nodes\u001b[49m\u001b[43m(\u001b[49m\u001b[43melement\u001b[49m\u001b[43m)\u001b[49m\n\u001b[1;32m     81\u001b[0m     \u001b[38;5;28;01mwith\u001b[39;00m ThreadPoolExecutor(max_workers\u001b[38;5;241m=\u001b[39mos\u001b[38;5;241m.\u001b[39mcpu_count()) \u001b[38;5;28;01mas\u001b[39;00m executor:\n\u001b[1;32m     83\u001b[0m         futures \u001b[38;5;241m=\u001b[39m [executor\u001b[38;5;241m.\u001b[39msubmit(\u001b[38;5;28mself\u001b[39m\u001b[38;5;241m.\u001b[39mparse_edges, element) \u001b[38;5;28;01mfor\u001b[39;00m element \u001b[38;5;129;01min\u001b[39;00m \u001b[38;5;28mself\u001b[39m\u001b[38;5;241m.\u001b[39mroot]\n",
      "File \u001b[0;32m~/CIM-Graph/cimgraph/utils/timing.py:30\u001b[0m, in \u001b[0;36mtiming.<locals>.wrap\u001b[0;34m(*args, **kw)\u001b[0m\n\u001b[1;32m     28\u001b[0m     timing_keys[f\u001b[38;5;241m.\u001b[39m\u001b[38;5;18m__name__\u001b[39m] \u001b[38;5;241m=\u001b[39m Counts()\n\u001b[1;32m     29\u001b[0m ts \u001b[38;5;241m=\u001b[39m time()\n\u001b[0;32m---> 30\u001b[0m result \u001b[38;5;241m=\u001b[39m \u001b[43mf\u001b[49m\u001b[43m(\u001b[49m\u001b[38;5;241;43m*\u001b[39;49m\u001b[43margs\u001b[49m\u001b[43m,\u001b[49m\u001b[43m \u001b[49m\u001b[38;5;241;43m*\u001b[39;49m\u001b[38;5;241;43m*\u001b[39;49m\u001b[43mkw\u001b[49m\u001b[43m)\u001b[49m\n\u001b[1;32m     31\u001b[0m te \u001b[38;5;241m=\u001b[39m time()\n\u001b[1;32m     32\u001b[0m timing_keys[f\u001b[38;5;241m.\u001b[39m\u001b[38;5;18m__name__\u001b[39m]\u001b[38;5;241m.\u001b[39mhits \u001b[38;5;241m+\u001b[39m\u001b[38;5;241m=\u001b[39m\u001b[38;5;241m1\u001b[39m\n",
      "File \u001b[0;32m~/CIM-Graph/cimgraph/databases/fileparsers/xml_parser.py:114\u001b[0m, in \u001b[0;36mXMLFile.parse_nodes\u001b[0;34m(self, element, graph)\u001b[0m\n\u001b[1;32m    112\u001b[0m     uri \u001b[38;5;241m=\u001b[39m uri\u001b[38;5;241m.\u001b[39msplit(\u001b[38;5;124m'\u001b[39m\u001b[38;5;124m:\u001b[39m\u001b[38;5;124m'\u001b[39m)[\u001b[38;5;241m-\u001b[39m\u001b[38;5;241m1\u001b[39m]  \u001b[38;5;66;03m# Extract UUID from the full URI\u001b[39;00m\n\u001b[1;32m    113\u001b[0m     \u001b[38;5;28mself\u001b[39m\u001b[38;5;241m.\u001b[39mclass_index[identifier] \u001b[38;5;241m=\u001b[39m cim_class\n\u001b[0;32m--> 114\u001b[0m     obj \u001b[38;5;241m=\u001b[39m \u001b[38;5;28;43mself\u001b[39;49m\u001b[38;5;241;43m.\u001b[39;49m\u001b[43mcreate_object\u001b[49m\u001b[43m(\u001b[49m\u001b[43mgraph\u001b[49m\u001b[43m,\u001b[49m\u001b[43m \u001b[49m\u001b[43mcim_class\u001b[49m\u001b[43m,\u001b[49m\u001b[43m \u001b[49m\u001b[43muri\u001b[49m\u001b[43m)\u001b[49m\n\u001b[1;32m    115\u001b[0m \u001b[38;5;28;01melse\u001b[39;00m:\n\u001b[1;32m    116\u001b[0m     _log\u001b[38;5;241m.\u001b[39mwarning(\u001b[38;5;124mf\u001b[39m\u001b[38;5;124m'\u001b[39m\u001b[38;5;132;01m{\u001b[39;00mclass_name\u001b[38;5;132;01m}\u001b[39;00m\u001b[38;5;124m not in data profile\u001b[39m\u001b[38;5;124m'\u001b[39m)\n",
      "File \u001b[0;32m~/CIM-Graph/cimgraph/databases/__init__.py:212\u001b[0m, in \u001b[0;36mConnectionInterface.create_object\u001b[0;34m(self, graph, class_type, uri)\u001b[0m\n\u001b[1;32m    208\u001b[0m     obj \u001b[38;5;241m=\u001b[39m graph[class_type][identifier]\n\u001b[1;32m    210\u001b[0m \u001b[38;5;66;03m# If not there, create a new object and add to graph\u001b[39;00m\n\u001b[1;32m    211\u001b[0m \u001b[38;5;28;01melse\u001b[39;00m:\n\u001b[0;32m--> 212\u001b[0m     obj \u001b[38;5;241m=\u001b[39m \u001b[43mclass_type\u001b[49m\u001b[43m(\u001b[49m\u001b[43m)\u001b[49m\n\u001b[1;32m    213\u001b[0m     obj\u001b[38;5;241m.\u001b[39muuid(uri \u001b[38;5;241m=\u001b[39m uri)\n\u001b[1;32m    214\u001b[0m     graph[class_type][identifier] \u001b[38;5;241m=\u001b[39m obj\n",
      "File \u001b[0;32m<string>:12\u001b[0m, in \u001b[0;36m__init__\u001b[0;34m(self, identifier, mRID, aliasName, description, name, Names, connected, sequenceNumber, BusNameMarker, Measurements, OperationalLimitSet, BoundedSchedulingArea, Bushing, ConductingEquipment, ConnectivityNode, HasFirstMutualCoupling, HasSecondMutualCoupling, NormalHeadFeeder, RegulatingControl, TopologicalNode, TransformerEnd)\u001b[0m\n",
      "\u001b[0;31mKeyboardInterrupt\u001b[0m: "
     ]
    }
   ],
   "source": [
    "\n",
    "\n",
    "from cimgraph.databases.fileparsers import XMLFile\n",
    "params = ConnectionParameters(filename=\"./test_models/ieee9500bal.xml\", cim_profile=cim_profile, iec61970_301=8)\n",
    "xml_file = XMLFile(params)\n",
    "feeder = cim.Feeder()\n",
    "network = FeederModel(connection=xml_file, container=feeder, distributed=False)\n",
    "print_timing()\n",
    "clear_timing()"
   ]
  },
  {
   "cell_type": "code",
   "execution_count": null,
   "metadata": {},
   "outputs": [],
   "source": [
    "self = feeder\n",
    "feeder.__repr__()\n"
   ]
  },
  {
   "cell_type": "code",
   "execution_count": null,
   "metadata": {},
   "outputs": [],
   "source": [
    "f'\"@id\": \"{self.__uuid__.uuid_str}\", \"@type\": \"{self.__class__.__name__}\"'"
   ]
  },
  {
   "cell_type": "code",
   "execution_count": null,
   "metadata": {},
   "outputs": [],
   "source": [
    "print_timing()\n",
    "clear_timing()"
   ]
  },
  {
   "cell_type": "code",
   "execution_count": null,
   "metadata": {},
   "outputs": [],
   "source": [
    "network.graph[cim.ACLineSegment][UUID('a04cdfb1-e951-4fc4-8882-0323cd70ae3c')].__str__()"
   ]
  },
  {
   "cell_type": "code",
   "execution_count": null,
   "metadata": {},
   "outputs": [],
   "source": [
    "print(network.get_edges_query(cim.OperationalLimitType))"
   ]
  },
  {
   "cell_type": "code",
   "execution_count": null,
   "metadata": {},
   "outputs": [],
   "source": [
    "network.graph[cim.OperationalLimitType][UUID('ec7f968e-2ede-4007-b5ab-6db38e4113fb')].pprint()"
   ]
  },
  {
   "cell_type": "code",
   "execution_count": null,
   "metadata": {},
   "outputs": [],
   "source": [
    "network.graph[cim.PhotovoltaicUnit][UUID('15eee173-cc90-4888-b9b8-43916d56890c')].__str__()"
   ]
  },
  {
   "cell_type": "code",
   "execution_count": null,
   "metadata": {},
   "outputs": [],
   "source": [
    "uuid = UUID('15eee173-cc90-4888-b9b8-43916d56890c')\n",
    "\n",
    "network.graph[cim.PhotovoltaicUnit][uuid].name"
   ]
  },
  {
   "cell_type": "code",
   "execution_count": null,
   "metadata": {},
   "outputs": [],
   "source": [
    "import re\n",
    "\n",
    "def upper_camel_to_lower_snake(name):\n",
    "    # Add an underscore before each uppercase letter (except the first one)\n",
    "    # and convert the whole string to lowercase\n",
    "    s1 = re.sub('(.)([A-Z][a-z]+)', r'\\1_\\2', name)\n",
    "    s2 = re.sub('([a-z0-9])([A-Z])', r'\\1_\\2', s1)\n",
    "    \n",
    "    return s2.lower()\n",
    "\n",
    "# Example usage\n",
    "upper_camel_word = \"UpperCamelCase\"\n",
    "lower_snake_case_word = upper_camel_to_lower_snake(upper_camel_word)\n",
    "print(lower_snake_case_word)"
   ]
  },
  {
   "cell_type": "code",
   "execution_count": null,
   "metadata": {},
   "outputs": [],
   "source": [
    "cim_class = cim.PhotovoltaicUnit\n",
    "attribute = 'maxP'\n",
    "question = f\"Using the CIM-Graph python library, how do I write an API call to find the attribute {attribute} of a particular {cim_class.__name__} instance?\"\n",
    "answer = f\"\"\"To get the values of {cim_class.__name__}.{attribute}, you would call CIM-Graph as follows:\n",
    "```python\n",
    "{upper_camel_to_lower_snake(cim_class.__name__)} = network.graph[cim.{cim_class.__name__}][uuid]\n",
    "result = {upper_camel_to_lower_snake(cim_class.__name__)}.{attribute}\n",
    "```\"\"\"\n",
    "import json\n",
    "print(question)\n",
    "print(json.dumps(answer))"
   ]
  },
  {
   "cell_type": "code",
   "execution_count": null,
   "metadata": {},
   "outputs": [],
   "source": [
    "\n",
    "file = open('ieee13.csv', 'w')\n",
    "for cim_class in network.graph:\n",
    "    for cim_obj in network.graph[cim_class].values():\n",
    "        question = f'Can you create an example of a CIM {cim_class.__name__} object with mRID {cim_obj.uri()}?'\n",
    "        answer = cim_obj.__str__().replace(',', '\\n')\n",
    "        row = question + ','\n",
    "        file.write()"
   ]
  },
  {
   "cell_type": "code",
   "execution_count": null,
   "metadata": {},
   "outputs": [],
   "source": []
  },
  {
   "cell_type": "code",
   "execution_count": null,
   "metadata": {},
   "outputs": [],
   "source": [
    "utils.write_xml(network, 'out13.xml')"
   ]
  },
  {
   "cell_type": "code",
   "execution_count": null,
   "metadata": {},
   "outputs": [],
   "source": [
    "from cimgraph.databases.fileparsers import XMLFile\n",
    "params2 = ConnectionParameters(filename=\"/home/ande188/CIM-Graph/tests/test_models/ieee13.xml\", cim_profile=cim_profile, iec61970_301=8)\n",
    "xml_file2 = XMLFile(params2)\n",
    "feeder_mrid = \"49AD8E07-3BF9-A4E2-CB8F-C3722F837B62\"\n",
    "feeder2 = cim.Feeder(mRID = feeder_mrid)\n",
    "network2 = FeederModel(connection=xml_file2, container=feeder2, distributed=False)"
   ]
  },
  {
   "cell_type": "code",
   "execution_count": null,
   "metadata": {},
   "outputs": [],
   "source": []
  }
 ],
 "metadata": {
  "kernelspec": {
   "display_name": ".venv",
   "language": "python",
   "name": "python3"
  },
  "language_info": {
   "codemirror_mode": {
    "name": "ipython",
    "version": 3
   },
   "file_extension": ".py",
   "mimetype": "text/x-python",
   "name": "python",
   "nbconvert_exporter": "python",
   "pygments_lexer": "ipython3",
   "version": "3.10.12"
  }
 },
 "nbformat": 4,
 "nbformat_minor": 2
}
