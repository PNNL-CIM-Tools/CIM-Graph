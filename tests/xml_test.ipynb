{
 "cells": [
  {
   "cell_type": "code",
   "execution_count": 1,
   "metadata": {},
   "outputs": [],
   "source": [
    "# import os\n",
    "# os.environ['CIMGRAPH_TIME'] = '1'\n",
    "# from cimgraph.utils.timing import print_timing, clear_timing\n",
    "# print_timing()\n",
    "# clear_timing()"
   ]
  },
  {
   "cell_type": "code",
   "execution_count": 2,
   "metadata": {},
   "outputs": [],
   "source": [
    "import cimgraph.data_profile.cimhub_2023 as cim\n",
    "from uuid import UUID\n",
    "from cimgraph.databases import ConnectionParameters\n",
    "from cimgraph.databases import BlazegraphConnection\n",
    "from cimgraph.models import FeederModel\n",
    "from cimgraph.models import DistributedArea\n",
    "import cimgraph.queries.sparql as sparql\n",
    "import cimgraph.utils as utils\n",
    "from defusedxml.ElementTree import parse\n",
    "cim_profile = 'cimhub_2023'"
   ]
  },
  {
   "cell_type": "code",
   "execution_count": 3,
   "metadata": {},
   "outputs": [],
   "source": [
    "from mermaid import Mermaid"
   ]
  },
  {
   "cell_type": "code",
   "execution_count": 4,
   "metadata": {},
   "outputs": [],
   "source": [
    "\n",
    "\n",
    "from cimgraph.databases.fileparsers import XMLFile\n",
    "params = ConnectionParameters(filename=\"./test_models/ieee13.xml\", cim_profile=cim_profile, iec61970_301=8)\n",
    "xml_file = XMLFile(params)\n",
    "feeder = cim.Feeder()\n",
    "network = FeederModel(connection=xml_file, container=feeder, distributed=False)\n"
   ]
  },
  {
   "cell_type": "code",
   "execution_count": null,
   "metadata": {},
   "outputs": [],
   "source": []
  },
  {
   "cell_type": "code",
   "execution_count": 5,
   "metadata": {},
   "outputs": [],
   "source": [
    "# utils.write_xml(network, 'test_models/ieee13_out.xml', {'rdf':\"http://www.w3.org/1999/02/22-rdf-syntax-ns#\", 'cim': 'http://iec.ch/TC57/2013/CIM-schema-cim16#', 'eu': 'http://iec.ch/TC57/CIM100#', 'xsi:schemaLocation': 'http://iec.ch/TC57/2013/CIM-schema-cim16# CIM16.xsd'})"
   ]
  },
  {
   "cell_type": "code",
   "execution_count": 6,
   "metadata": {},
   "outputs": [
    {
     "name": "stdout",
     "output_type": "stream",
     "text": [
      "{\n",
      "    \"@id\": \"a04cdfb1-e951-4fc4-8882-0323cd70ae3c\",\n",
      "    \"@type\": \"ACLineSegment\",\n",
      "    \"name\": \"650632\",\n",
      "    \"Location\": {\n",
      "        \"@id\": \"3a63b621-3fa6-4805-96f9-dd57a7f88acf\",\n",
      "        \"@type\": \"Location\"\n",
      "    },\n",
      "    \"EquipmentContainer\": {\n",
      "        \"@id\": \"49ad8e07-3bf9-a4e2-cb8f-c3722f837b62\",\n",
      "        \"@type\": \"Feeder\"\n",
      "    },\n",
      "    \"BaseVoltage\": {\n",
      "        \"@id\": \"2a158e0c-cd01-4a50-aeba-59d761fcf15d\",\n",
      "        \"@type\": \"BaseVoltage\"\n",
      "    },\n",
      "    \"Terminals\": [\n",
      "        {\n",
      "            \"@id\": \"000ba1f2-6879-47d7-826d-3cacd23ee20b\",\n",
      "            \"@type\": \"Terminal\"\n",
      "        },\n",
      "        {\n",
      "            \"@id\": \"3589a9be-f3be-45c3-b84e-3ce5b6105d11\",\n",
      "            \"@type\": \"Terminal\"\n",
      "        }\n",
      "    ],\n",
      "    \"length\": \"609.6\",\n",
      "    \"ACLineSegmentPhases\": [\n",
      "        {\n",
      "            \"@id\": \"2a5a1025-ad81-4bfa-a7f0-ed70f7f43daa\",\n",
      "            \"@type\": \"ACLineSegmentPhase\"\n",
      "        },\n",
      "        {\n",
      "            \"@id\": \"2d60b241-de87-48bd-a8d3-fe4b705b40ed\",\n",
      "            \"@type\": \"ACLineSegmentPhase\"\n",
      "        },\n",
      "        {\n",
      "            \"@id\": \"a66508a9-c9c1-4db5-8ffd-f081e5e9e14d\",\n",
      "            \"@type\": \"ACLineSegmentPhase\"\n",
      "        }\n",
      "    ],\n",
      "    \"PerLengthImpedance\": {\n",
      "        \"@id\": \"50044320-7295-4591-b39e-f793f1923098\",\n",
      "        \"@type\": \"PerLengthPhaseImpedance\"\n",
      "    }\n",
      "}\n"
     ]
    }
   ],
   "source": [
    "obj = list(network.graph[cim.ACLineSegment].values())[0]\n",
    "obj.pprint()"
   ]
  },
  {
   "cell_type": "code",
   "execution_count": 23,
   "metadata": {},
   "outputs": [
    {
     "data": {
      "text/html": [
       "\n",
       "        <div class=\"mermaid-cf48e767-87c3-4d43-af49-37ce01e6f90c\"></div>\n",
       "        <script type=\"module\">\n",
       "            import mermaid from 'https://cdn.jsdelivr.net/npm/mermaid@10.1.0/+esm'\n",
       "            const graphDefinition = '%%{init: {\"theme\":\"dark\"}}%%\\nclassDiagram\\n    class Feeder{\\n    }\\n    EquipmentContainer <|-- Feeder : inherits from\\n    Feeder --> \"one\" DistributionArea : DistributionArea \\n    Feeder --> \"one\" FeederArea : FeederArea \\n    Feeder --o \"many\" Substation : NamingSecondarySubstation \\n    Feeder --> \"many\" Substation : NormalEnergizedSubstation \\n    Feeder --> \"one\" Substation : NormalEnergizingSubstation \\n    Feeder --> \"many\" Terminal : NormalHeadTerminal \\n';\n",
       "            const element = document.querySelector('.mermaid-cf48e767-87c3-4d43-af49-37ce01e6f90c');\n",
       "            const { svg } = await mermaid.render('graphDiv-cf48e767-87c3-4d43-af49-37ce01e6f90c', graphDefinition);\n",
       "            element.innerHTML = svg;\n",
       "        </script>\n",
       "        "
      ],
      "text/plain": [
       "<mermaid.mermaid.Mermaid at 0x7f035ce11bd0>"
      ]
     },
     "execution_count": 23,
     "metadata": {},
     "output_type": "execute_result"
    }
   ],
   "source": [
    "from mermaid import Mermaid\n",
    "from cimgraph import utils\n",
    "\n",
    "Mermaid(utils.get_mermaid(cim.Feeder))"
   ]
  },
  {
   "cell_type": "code",
   "execution_count": 24,
   "metadata": {},
   "outputs": [
    {
     "data": {
      "text/html": [
       "\n",
       "        <div class=\"mermaid-237f9a4f-34ff-4c22-be42-a94977e958ec\"></div>\n",
       "        <script type=\"module\">\n",
       "            import mermaid from 'https://cdn.jsdelivr.net/npm/mermaid@10.1.0/+esm'\n",
       "            const graphDefinition = '%%{init: {\"theme\":\"dark\"}}%%\\nclassDiagram\\n    class Feeder{\\n        + mRID : str\\n        + aliasName : str\\n        + description : str\\n        + name : str\\n        + identifier : uuid.UUID\\n    }\\n    EquipmentContainer <|-- Feeder : inherits from\\n    Feeder --> \"one\" DistributionArea : DistributionArea \\n    Feeder --> \"one\" FeederArea : FeederArea \\n    Feeder --o \"many\" Substation : NamingSecondarySubstation \\n    Feeder --> \"many\" Substation : NormalEnergizedSubstation \\n    Feeder --> \"one\" Substation : NormalEnergizingSubstation \\n    Feeder --> \"many\" Terminal : NormalHeadTerminal \\n    Feeder --> \"many\" Equipment : AdditionalGroupedEquipment \\n    Feeder --o \"many\" Equipment : Equipments \\n    Feeder --> \"many\" ConnectivityNode : ConnectivityNodes \\n    Feeder --> \"many\" TopologicalNode : TopologicalNode \\n    Feeder --> \"one\" AssetInfo : AssetDatasheet \\n    Feeder --> \"many\" Asset : Assets \\n    Feeder --> \"many\" Control : Controls \\n    Feeder --> \"one\" Location : Location \\n    Feeder --o \"many\" Measurement : Measurements \\n    Feeder --> \"one\" PSRType : PSRType \\n    Feeder --> \"many\" Name : Names \\n';\n",
       "            const element = document.querySelector('.mermaid-237f9a4f-34ff-4c22-be42-a94977e958ec');\n",
       "            const { svg } = await mermaid.render('graphDiv-237f9a4f-34ff-4c22-be42-a94977e958ec', graphDefinition);\n",
       "            element.innerHTML = svg;\n",
       "        </script>\n",
       "        "
      ],
      "text/plain": [
       "<mermaid.mermaid.Mermaid at 0x7f035d19c2b0>"
      ]
     },
     "execution_count": 24,
     "metadata": {},
     "output_type": "execute_result"
    }
   ],
   "source": [
    "Mermaid(utils.get_mermaid(cim.Feeder,show_inherited=True))"
   ]
  },
  {
   "cell_type": "code",
   "execution_count": 16,
   "metadata": {},
   "outputs": [
    {
     "data": {
      "text/html": [
       "\n",
       "        <div class=\"mermaid-ea9278c4-6533-4373-aab4-c33cc593084a\"></div>\n",
       "        <script type=\"module\">\n",
       "            import mermaid from 'https://cdn.jsdelivr.net/npm/mermaid@10.1.0/+esm'\n",
       "            const graphDefinition = 'mindmap\\n    root((**ACLineSegment**\\n        name: 650632\\n        length: 609.6))\\n        [Location]\\n            (**Location**\\n                650632_Loc)\\n        [EquipmentContainer]\\n            (**Feeder**\\n                ieee13nodeckt)\\n        [BaseVoltage]\\n            (**BaseVoltage**\\n                BaseV_4.1600)\\n        [\"Terminals\"]\\n            (**Terminal**\\n                650632_T1)\\n            (**Terminal**\\n                650632_T2)\\n        [\"ACLineSegmentPhases\"]\\n            (**ACLineSegmentPhase**\\n                650632_A)\\n            (**ACLineSegmentPhase**\\n                650632_B)\\n            (**ACLineSegmentPhase**\\n                650632_C)\\n        [PerLengthImpedance]\\n            (**PerLengthPhaseImpeda**\\n            **nce**\\n                mtx601)\\n';\n",
       "            const element = document.querySelector('.mermaid-ea9278c4-6533-4373-aab4-c33cc593084a');\n",
       "            const { svg } = await mermaid.render('graphDiv-ea9278c4-6533-4373-aab4-c33cc593084a', graphDefinition);\n",
       "            element.innerHTML = svg;\n",
       "        </script>\n",
       "        "
      ],
      "text/plain": [
       "<mermaid.mermaid.Mermaid at 0x7f035ce26f50>"
      ]
     },
     "execution_count": 16,
     "metadata": {},
     "output_type": "execute_result"
    }
   ],
   "source": [
    "\n",
    "line = network.graph[cim.ACLineSegment][UUID('a04cdfb1-e951-4fc4-8882-0323cd70ae3c')]\n",
    "Mermaid(utils.get_mermaid(line))"
   ]
  },
  {
   "cell_type": "code",
   "execution_count": 18,
   "metadata": {},
   "outputs": [
    {
     "data": {
      "text/html": [
       "\n",
       "        <div class=\"mermaid-9bd5b1ec-613d-4ca5-897f-1c391360d987\"></div>\n",
       "        <script type=\"module\">\n",
       "            import mermaid from 'https://cdn.jsdelivr.net/npm/mermaid@10.1.0/+esm'\n",
       "            const graphDefinition = 'mindmap\\n    root((**Breaker**\\n        name: breaker12\\n        inService: True\\n        open: False))\\n        [EquipmentContainer]\\n            (**Substation**\\n                sub1234)\\n        [BaseVoltage]\\n            (**BaseVoltage**\\n                base12kv)\\n        [\"Terminals\"]\\n            (**Terminal**\\n                brk12_t1)\\n            (**Terminal**\\n                brk12_t2)\\n';\n",
       "            const element = document.querySelector('.mermaid-9bd5b1ec-613d-4ca5-897f-1c391360d987');\n",
       "            const { svg } = await mermaid.render('graphDiv-9bd5b1ec-613d-4ca5-897f-1c391360d987', graphDefinition);\n",
       "            element.innerHTML = svg;\n",
       "        </script>\n",
       "        "
      ],
      "text/plain": [
       "<mermaid.mermaid.Mermaid at 0x7f035d3b6620>"
      ]
     },
     "execution_count": 18,
     "metadata": {},
     "output_type": "execute_result"
    }
   ],
   "source": [
    "breaker = cim.Breaker(name = 'breaker12', open=False, inService=True)\n",
    "substation = cim.Substation(name = 'sub1234')\n",
    "t1 = cim.Terminal(name = 'brk12_t1')\n",
    "t2 = cim.Terminal(name = 'brk12_t2')\n",
    "basev = cim.BaseVoltage(name = 'base12kv', nominalVoltage=12470)\n",
    "breaker.EquipmentContainer = substation\n",
    "breaker.Terminals = [t1, t2]\n",
    "breaker.BaseVoltage = basev\n",
    "\n",
    "Mermaid(utils.get_mermaid(breaker))"
   ]
  },
  {
   "cell_type": "code",
   "execution_count": 10,
   "metadata": {},
   "outputs": [
    {
     "data": {
      "text/plain": [
       "True"
      ]
     },
     "execution_count": 10,
     "metadata": {},
     "output_type": "execute_result"
    }
   ],
   "source": [
    "import enum\n",
    "isinstance(cim.OrderedPhaseCodeKind, enum.EnumMeta)"
   ]
  },
  {
   "cell_type": "code",
   "execution_count": 11,
   "metadata": {},
   "outputs": [],
   "source": [
    "import enum\n",
    "from enum import Enum\n",
    "def list_associations(cim_class, show_inherited:bool=False):\n",
    "        indent = '    '\n",
    "        parent_classes = list(cim_class.__mro__)\n",
    "        parent_classes.pop(len(parent_classes) - 1)\n",
    "        if type(cim_class) is not enum.EnumMeta and len(parent_classes)>1:\n",
    "            answer = 'classDiagram\\n'\n",
    "            answer += indent + 'class ' + cim_class.__name__ + '{\\n'\n",
    "\n",
    "            for attribute in cim_class.__annotations__.keys():\n",
    "                attr = cim_class.__dataclass_fields__[attribute]\n",
    "                attr_type = str(attr.type)\n",
    "                try:\n",
    "                    if 'Attribute' in attr.metadata['type'] or 'Enumeration' in attr.metadata['type']:\n",
    "                        edge = attr_type.split('[')[1].split(']')[0]\n",
    "\n",
    "                        answer += f'{indent*2}+ {attribute} : {edge}\\n'\n",
    "                except:\n",
    "                    pass\n",
    "\n",
    "            if show_inherited:\n",
    "\n",
    "                for parent in parent_classes:\n",
    "                    if len(parent.__annotations__.keys()) > 0 and parent.__name__ != cim_class.__name__:\n",
    "\n",
    "                        for attribute in parent.__annotations__.keys():\n",
    "                            attr = parent.__dataclass_fields__[attribute]\n",
    "                            attr_type = str(attr.type)\n",
    "                            try:\n",
    "                                if 'Attribute' in attr.metadata['type'] or 'Enumeration' in attr.metadata['type']:\n",
    "                                    edge = attr_type.split('[')[1].split(']')[0]\n",
    "\n",
    "                                    answer += f'{indent*2}+ {attribute} : {edge}\\n'\n",
    "                            except:\n",
    "                                pass\n",
    "\n",
    "            answer += indent + '}\\n'\n",
    "\n",
    "            answer += indent + f'{parent_classes[1].__name__} <|-- {cim_class.__name__} : inherits from\\n'\n",
    "\n",
    "            for attribute in cim_class.__annotations__.keys():\n",
    "                attr = cim_class.__dataclass_fields__[attribute]\n",
    "                attr_type = str(attr.type)\n",
    "                try:\n",
    "                    if 'Association' in attr.metadata['type'] or 'Of Aggregate' in attr.metadata['type']:\n",
    "                        edge = attr_type.split('[')[1].split(']')[0].replace('|', 'or')\n",
    "                        if 'list' in attr_type:\n",
    "                            answer += f'{indent}{cim_class.__name__} --> \"many\" {edge} : {attribute} \\n'\n",
    "                        else:\n",
    "                            answer += f'{indent}{cim_class.__name__} --> \"one\" {edge} : {attribute} \\n'\n",
    "                    elif 'Aggregate Of' in attr.metadata['type']:\n",
    "                        edge = attr_type.split('[')[1].split(']')[0].replace('|', 'or')\n",
    "                        if 'list' in attr_type:\n",
    "                            answer += f'{indent}{cim_class.__name__} --o \"many\" {edge} : {attribute} \\n'\n",
    "                        else:\n",
    "                            answer += f'{indent}{cim_class.__name__} --o \"one\" {edge} : {attribute} \\n'\n",
    "                except:\n",
    "                    pass\n",
    "\n",
    "            if show_inherited:\n",
    "\n",
    "                for parent in parent_classes:\n",
    "                    if len(parent.__annotations__.keys()) > 0 and parent.__name__ != cim_class.__name__:\n",
    "\n",
    "                        for attribute in parent.__annotations__.keys():\n",
    "                            attr = parent.__dataclass_fields__[attribute]\n",
    "                            attr_type = str(attr.type)\n",
    "\n",
    "                            try:\n",
    "                                if 'Association' in attr.metadata['type'] or 'Of Aggregate' in attr.metadata['type']:\n",
    "                                    edge = attr_type.split('[')[1].split(']')[0].replace('|', 'or')\n",
    "                                    if 'list' in attr_type:\n",
    "                                        answer += f'{indent}{cim_class.__name__} --> \"many\" {edge} : {attribute} \\n'\n",
    "                                    else:\n",
    "                                        answer += f'{indent}{cim_class.__name__} --> \"one\" {edge} : {attribute} \\n'\n",
    "                                elif 'Aggregate Of' in attr.metadata['type']:\n",
    "                                    edge = attr_type.split('[')[1].split(']')[0].replace('|', 'or')\n",
    "                                    if 'list' in attr_type:\n",
    "                                        answer += f'{indent}{cim_class.__name__} --o \"many\" {edge} : {attribute} \\n'\n",
    "                                    else:\n",
    "                                        answer += f'{indent}{cim_class.__name__} --o \"one\" {edge} : {attribute} \\n'\n",
    "                            except:\n",
    "                                pass\n",
    "        return answer"
   ]
  },
  {
   "cell_type": "code",
   "execution_count": 12,
   "metadata": {},
   "outputs": [
    {
     "data": {
      "text/html": [
       "\n",
       "        <div class=\"mermaid-626a0b2f-e7cf-407f-b52e-afc3eab5486b\"></div>\n",
       "        <script type=\"module\">\n",
       "            import mermaid from 'https://cdn.jsdelivr.net/npm/mermaid@10.1.0/+esm'\n",
       "            const graphDefinition = 'classDiagram\\n    class ACLineSegment{\\n        + b0ch : float | Susceptance\\n        + bch : float | Susceptance\\n        + g0ch : float | Conductance\\n        + gch : float | Conductance\\n        + r : float | Resistance\\n        + r0 : float | Resistance\\n        + shortCircuitEndTemperature : float | Temperature\\n        + x : float | Reactance\\n        + x0 : float | Reactance\\n        + length : float | Length\\n        + aggregate : bool\\n        + inService : bool\\n        + networkAnalysisEnabled : bool\\n        + normallyInService : bool\\n        + mRID : str\\n        + aliasName : str\\n        + description : str\\n        + name : str\\n        + identifier : uuid.UUID\\n    }\\n    Conductor <|-- ACLineSegment : inherits from\\n    ACLineSegment --> \"many\" ACLineSegmentPhase : ACLineSegmentPhases \\n    ACLineSegment --> \"one\" ParallelLineSegment : ParallelLineSegment \\n    ACLineSegment --> \"one\" PerLengthImpedance : PerLengthImpedance \\n    ACLineSegment --> \"one\" WireSpacingInfo : WireSpacingInfo \\n    ACLineSegment --> \"one\" BaseVoltage : BaseVoltage \\n    ACLineSegment --> \"many\" Terminal : Terminals \\n    ACLineSegment --> \"many\" EquipmentContainer : AdditionalEquipmentContainer \\n    ACLineSegment --> \"one\" EquipmentContainer : EquipmentContainer \\n    ACLineSegment --> \"many\" OperationalLimitSet : OperationalLimitSet \\n    ACLineSegment --> \"one\" SubSchedulingArea : SubSchedulingArea \\n    ACLineSegment --> \"one\" AssetInfo : AssetDatasheet \\n    ACLineSegment --> \"many\" Asset : Assets \\n    ACLineSegment --> \"many\" Control : Controls \\n    ACLineSegment --> \"one\" Location : Location \\n    ACLineSegment --o \"many\" Measurement : Measurements \\n    ACLineSegment --> \"one\" PSRType : PSRType \\n    ACLineSegment --> \"many\" Name : Names \\n';\n",
       "            const element = document.querySelector('.mermaid-626a0b2f-e7cf-407f-b52e-afc3eab5486b');\n",
       "            const { svg } = await mermaid.render('graphDiv-626a0b2f-e7cf-407f-b52e-afc3eab5486b', graphDefinition);\n",
       "            element.innerHTML = svg;\n",
       "        </script>\n",
       "        "
      ],
      "text/plain": [
       "<mermaid.mermaid.Mermaid at 0x7f035d183460>"
      ]
     },
     "execution_count": 12,
     "metadata": {},
     "output_type": "execute_result"
    }
   ],
   "source": [
    "Mermaid(list_associations(cim.ACLineSegment, show_inherited=True))"
   ]
  },
  {
   "cell_type": "code",
   "execution_count": 13,
   "metadata": {},
   "outputs": [],
   "source": [
    "utils.write_json_ld(network, 'test_models/ieee13.jsonld')\n"
   ]
  },
  {
   "cell_type": "code",
   "execution_count": 14,
   "metadata": {},
   "outputs": [
    {
     "ename": "NameError",
     "evalue": "name 'self' is not defined",
     "output_type": "error",
     "traceback": [
      "\u001b[0;31m---------------------------------------------------------------------------\u001b[0m",
      "\u001b[0;31mNameError\u001b[0m                                 Traceback (most recent call last)",
      "Cell \u001b[0;32mIn[14], line 1\u001b[0m\n\u001b[0;32m----> 1\u001b[0m \u001b[38;5;124mf\u001b[39m\u001b[38;5;124m'\u001b[39m\u001b[38;5;124m\"\u001b[39m\u001b[38;5;124m@id\u001b[39m\u001b[38;5;124m\"\u001b[39m\u001b[38;5;124m: \u001b[39m\u001b[38;5;124m\"\u001b[39m\u001b[38;5;132;01m{\u001b[39;00m\u001b[38;5;28;43mself\u001b[39;49m\u001b[38;5;241m.\u001b[39m__uuid__\u001b[38;5;241m.\u001b[39muuid_str\u001b[38;5;132;01m}\u001b[39;00m\u001b[38;5;124m\"\u001b[39m\u001b[38;5;124m, \u001b[39m\u001b[38;5;124m\"\u001b[39m\u001b[38;5;124m@type\u001b[39m\u001b[38;5;124m\"\u001b[39m\u001b[38;5;124m: \u001b[39m\u001b[38;5;124m\"\u001b[39m\u001b[38;5;132;01m{\u001b[39;00m\u001b[38;5;28mself\u001b[39m\u001b[38;5;241m.\u001b[39m\u001b[38;5;18m__class__\u001b[39m\u001b[38;5;241m.\u001b[39m\u001b[38;5;18m__name__\u001b[39m\u001b[38;5;132;01m}\u001b[39;00m\u001b[38;5;124m\"\u001b[39m\u001b[38;5;124m'\u001b[39m\n",
      "\u001b[0;31mNameError\u001b[0m: name 'self' is not defined"
     ]
    }
   ],
   "source": [
    "f'\"@id\": \"{self.__uuid__.uuid_str}\", \"@type\": \"{self.__class__.__name__}\"'"
   ]
  },
  {
   "cell_type": "code",
   "execution_count": null,
   "metadata": {},
   "outputs": [],
   "source": [
    "print_timing()\n",
    "clear_timing()"
   ]
  },
  {
   "cell_type": "code",
   "execution_count": null,
   "metadata": {},
   "outputs": [],
   "source": [
    "import json\n",
    "indent = 4\n",
    "text = ' '*indent*2 + (json.dumps(json.loads(network.graph[cim.ACLineSegment][UUID('a04cdfb1-e951-4fc4-8882-0323cd70ae3c')].__str__()), indent=4)).replace('\\n', '\\n' + ' '*indent*2)\n",
    "print(text)"
   ]
  },
  {
   "cell_type": "code",
   "execution_count": null,
   "metadata": {},
   "outputs": [],
   "source": [
    "int(1.3)"
   ]
  },
  {
   "cell_type": "code",
   "execution_count": null,
   "metadata": {},
   "outputs": [],
   "source": [
    "print(network.get_edges_query(cim.OperationalLimitType))"
   ]
  },
  {
   "cell_type": "code",
   "execution_count": null,
   "metadata": {},
   "outputs": [],
   "source": [
    "str(network.graph[cim.OperationalLimitType][UUID('ec7f968e-2ede-4007-b5ab-6db38e4113fb')].direction)"
   ]
  },
  {
   "cell_type": "code",
   "execution_count": null,
   "metadata": {},
   "outputs": [],
   "source": [
    "network.graph[cim.PhotovoltaicUnit][UUID('15eee173-cc90-4888-b9b8-43916d56890c')].__str__()"
   ]
  },
  {
   "cell_type": "code",
   "execution_count": null,
   "metadata": {},
   "outputs": [],
   "source": [
    "uuid = UUID('15eee173-cc90-4888-b9b8-43916d56890c')\n",
    "\n",
    "network.graph[cim.PhotovoltaicUnit][uuid].name"
   ]
  },
  {
   "cell_type": "code",
   "execution_count": null,
   "metadata": {},
   "outputs": [],
   "source": [
    "import re\n",
    "\n",
    "def upper_camel_to_lower_snake(name):\n",
    "    # Add an underscore before each uppercase letter (except the first one)\n",
    "    # and convert the whole string to lowercase\n",
    "    s1 = re.sub('(.)([A-Z][a-z]+)', r'\\1_\\2', name)\n",
    "    s2 = re.sub('([a-z0-9])([A-Z])', r'\\1_\\2', s1)\n",
    "    \n",
    "    return s2.lower()\n",
    "\n",
    "# Example usage\n",
    "upper_camel_word = \"UpperCamelCase\"\n",
    "lower_snake_case_word = upper_camel_to_lower_snake(upper_camel_word)\n",
    "print(lower_snake_case_word)"
   ]
  },
  {
   "cell_type": "code",
   "execution_count": null,
   "metadata": {},
   "outputs": [],
   "source": [
    "cim_class = cim.PhotovoltaicUnit\n",
    "attribute = 'maxP'\n",
    "question = f\"Using the CIM-Graph python library, how do I write an API call to find the attribute {attribute} of a particular {cim_class.__name__} instance?\"\n",
    "answer = f\"\"\"To get the values of {cim_class.__name__}.{attribute}, you would call CIM-Graph as follows:\n",
    "```python\n",
    "{upper_camel_to_lower_snake(cim_class.__name__)} = network.graph[cim.{cim_class.__name__}][uuid]\n",
    "result = {upper_camel_to_lower_snake(cim_class.__name__)}.{attribute}\n",
    "```\"\"\"\n",
    "import json\n",
    "print(question)\n",
    "print(json.dumps(answer))"
   ]
  },
  {
   "cell_type": "code",
   "execution_count": null,
   "metadata": {},
   "outputs": [],
   "source": [
    "\n",
    "file = open('ieee13.csv', 'w')\n",
    "for cim_class in network.graph:\n",
    "    for cim_obj in network.graph[cim_class].values():\n",
    "        question = f'Can you create an example of a CIM {cim_class.__name__} object with mRID {cim_obj.uri()}?'\n",
    "        answer = cim_obj.__str__().replace(',', '\\n')\n",
    "        row = question + ','\n",
    "        file.write()"
   ]
  },
  {
   "cell_type": "code",
   "execution_count": null,
   "metadata": {},
   "outputs": [],
   "source": []
  },
  {
   "cell_type": "code",
   "execution_count": null,
   "metadata": {},
   "outputs": [],
   "source": [
    "utils.write_xml(network, 'out13.xml')"
   ]
  },
  {
   "cell_type": "code",
   "execution_count": null,
   "metadata": {},
   "outputs": [],
   "source": [
    "from cimgraph.databases.fileparsers import XMLFile\n",
    "params2 = ConnectionParameters(filename=\"/home/ande188/CIM-Graph/tests/test_models/ieee13.xml\", cim_profile=cim_profile, iec61970_301=8)\n",
    "xml_file2 = XMLFile(params2)\n",
    "feeder_mrid = \"49AD8E07-3BF9-A4E2-CB8F-C3722F837B62\"\n",
    "feeder2 = cim.Feeder(mRID = feeder_mrid)\n",
    "network2 = FeederModel(connection=xml_file2, container=feeder2, distributed=False)"
   ]
  },
  {
   "cell_type": "code",
   "execution_count": null,
   "metadata": {},
   "outputs": [],
   "source": []
  }
 ],
 "metadata": {
  "kernelspec": {
   "display_name": ".venv",
   "language": "python",
   "name": "python3"
  },
  "language_info": {
   "codemirror_mode": {
    "name": "ipython",
    "version": 3
   },
   "file_extension": ".py",
   "mimetype": "text/x-python",
   "name": "python",
   "nbconvert_exporter": "python",
   "pygments_lexer": "ipython3",
   "version": "3.10.12"
  }
 },
 "nbformat": 4,
 "nbformat_minor": 2
}
