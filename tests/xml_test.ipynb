{
 "cells": [
  {
   "cell_type": "code",
   "execution_count": 1,
   "metadata": {},
   "outputs": [],
   "source": [
    "# import os\n",
    "# os.environ['CIMGRAPH_TIME'] = '1'\n",
    "# from cimgraph.utils.timing import print_timing, clear_timing\n",
    "# print_timing()\n",
    "# clear_timing()"
   ]
  },
  {
   "cell_type": "code",
   "execution_count": 1,
   "metadata": {},
   "outputs": [],
   "source": [
    "import cimgraph.data_profile.cimhub_2023 as cim\n",
    "from uuid import UUID\n",
    "from cimgraph.databases import ConnectionParameters\n",
    "from cimgraph.databases import BlazegraphConnection\n",
    "from cimgraph.models import FeederModel\n",
    "from cimgraph.models import DistributedArea\n",
    "import cimgraph.queries.sparql as sparql\n",
    "import cimgraph.utils as utils\n",
    "from defusedxml.ElementTree import parse\n",
    "cim_profile = 'cimhub_2023'"
   ]
  },
  {
   "cell_type": "code",
   "execution_count": null,
   "metadata": {},
   "outputs": [],
   "source": []
  },
  {
   "cell_type": "code",
   "execution_count": 2,
   "metadata": {},
   "outputs": [],
   "source": [
    "\n",
    "\n",
    "from cimgraph.databases.fileparsers import XMLFile\n",
    "params = ConnectionParameters(filename=\"./test_models/ieee13.xml\", cim_profile=cim_profile, iec61970_301=8)\n",
    "xml_file = XMLFile(params)\n",
    "feeder = cim.Feeder()\n",
    "network = FeederModel(connection=xml_file, container=feeder, distributed=False)\n"
   ]
  },
  {
   "cell_type": "code",
   "execution_count": 3,
   "metadata": {},
   "outputs": [],
   "source": [
    "# utils.write_xml(network, 'test_models/ieee13_out.xml', {'rdf':\"http://www.w3.org/1999/02/22-rdf-syntax-ns#\", 'cim': 'http://iec.ch/TC57/2013/CIM-schema-cim16#', 'eu': 'http://iec.ch/TC57/CIM100#', 'xsi:schemaLocation': 'http://iec.ch/TC57/2013/CIM-schema-cim16# CIM16.xsd'})"
   ]
  },
  {
   "cell_type": "code",
   "execution_count": 5,
   "metadata": {},
   "outputs": [],
   "source": [
    "utils.write_json_ld(network, 'test_models/ieee13.jsonld')\n"
   ]
  },
  {
   "cell_type": "code",
   "execution_count": null,
   "metadata": {},
   "outputs": [],
   "source": [
    "f'\"@id\": \"{self.__uuid__.uuid_str}\", \"@type\": \"{self.__class__.__name__}\"'"
   ]
  },
  {
   "cell_type": "code",
   "execution_count": null,
   "metadata": {},
   "outputs": [],
   "source": [
    "print_timing()\n",
    "clear_timing()"
   ]
  },
  {
   "cell_type": "code",
   "execution_count": null,
   "metadata": {},
   "outputs": [],
   "source": [
    "import json\n",
    "indent = 4\n",
    "text = ' '*indent*2 + (json.dumps(json.loads(network.graph[cim.ACLineSegment][UUID('a04cdfb1-e951-4fc4-8882-0323cd70ae3c')].__str__()), indent=4)).replace('\\n', '\\n' + ' '*indent*2)\n",
    "print(text)"
   ]
  },
  {
   "cell_type": "code",
   "execution_count": null,
   "metadata": {},
   "outputs": [],
   "source": [
    "int(1.3)"
   ]
  },
  {
   "cell_type": "code",
   "execution_count": null,
   "metadata": {},
   "outputs": [],
   "source": [
    "print(network.get_edges_query(cim.OperationalLimitType))"
   ]
  },
  {
   "cell_type": "code",
   "execution_count": null,
   "metadata": {},
   "outputs": [],
   "source": [
    "str(network.graph[cim.OperationalLimitType][UUID('ec7f968e-2ede-4007-b5ab-6db38e4113fb')].direction)"
   ]
  },
  {
   "cell_type": "code",
   "execution_count": null,
   "metadata": {},
   "outputs": [],
   "source": [
    "network.graph[cim.PhotovoltaicUnit][UUID('15eee173-cc90-4888-b9b8-43916d56890c')].__str__()"
   ]
  },
  {
   "cell_type": "code",
   "execution_count": null,
   "metadata": {},
   "outputs": [],
   "source": [
    "uuid = UUID('15eee173-cc90-4888-b9b8-43916d56890c')\n",
    "\n",
    "network.graph[cim.PhotovoltaicUnit][uuid].name"
   ]
  },
  {
   "cell_type": "code",
   "execution_count": null,
   "metadata": {},
   "outputs": [],
   "source": [
    "import re\n",
    "\n",
    "def upper_camel_to_lower_snake(name):\n",
    "    # Add an underscore before each uppercase letter (except the first one)\n",
    "    # and convert the whole string to lowercase\n",
    "    s1 = re.sub('(.)([A-Z][a-z]+)', r'\\1_\\2', name)\n",
    "    s2 = re.sub('([a-z0-9])([A-Z])', r'\\1_\\2', s1)\n",
    "    \n",
    "    return s2.lower()\n",
    "\n",
    "# Example usage\n",
    "upper_camel_word = \"UpperCamelCase\"\n",
    "lower_snake_case_word = upper_camel_to_lower_snake(upper_camel_word)\n",
    "print(lower_snake_case_word)"
   ]
  },
  {
   "cell_type": "code",
   "execution_count": null,
   "metadata": {},
   "outputs": [],
   "source": [
    "cim_class = cim.PhotovoltaicUnit\n",
    "attribute = 'maxP'\n",
    "question = f\"Using the CIM-Graph python library, how do I write an API call to find the attribute {attribute} of a particular {cim_class.__name__} instance?\"\n",
    "answer = f\"\"\"To get the values of {cim_class.__name__}.{attribute}, you would call CIM-Graph as follows:\n",
    "```python\n",
    "{upper_camel_to_lower_snake(cim_class.__name__)} = network.graph[cim.{cim_class.__name__}][uuid]\n",
    "result = {upper_camel_to_lower_snake(cim_class.__name__)}.{attribute}\n",
    "```\"\"\"\n",
    "import json\n",
    "print(question)\n",
    "print(json.dumps(answer))"
   ]
  },
  {
   "cell_type": "code",
   "execution_count": null,
   "metadata": {},
   "outputs": [],
   "source": [
    "\n",
    "file = open('ieee13.csv', 'w')\n",
    "for cim_class in network.graph:\n",
    "    for cim_obj in network.graph[cim_class].values():\n",
    "        question = f'Can you create an example of a CIM {cim_class.__name__} object with mRID {cim_obj.uri()}?'\n",
    "        answer = cim_obj.__str__().replace(',', '\\n')\n",
    "        row = question + ','\n",
    "        file.write()"
   ]
  },
  {
   "cell_type": "code",
   "execution_count": null,
   "metadata": {},
   "outputs": [],
   "source": []
  },
  {
   "cell_type": "code",
   "execution_count": null,
   "metadata": {},
   "outputs": [],
   "source": [
    "utils.write_xml(network, 'out13.xml')"
   ]
  },
  {
   "cell_type": "code",
   "execution_count": null,
   "metadata": {},
   "outputs": [],
   "source": [
    "from cimgraph.databases.fileparsers import XMLFile\n",
    "params2 = ConnectionParameters(filename=\"/home/ande188/CIM-Graph/tests/test_models/ieee13.xml\", cim_profile=cim_profile, iec61970_301=8)\n",
    "xml_file2 = XMLFile(params2)\n",
    "feeder_mrid = \"49AD8E07-3BF9-A4E2-CB8F-C3722F837B62\"\n",
    "feeder2 = cim.Feeder(mRID = feeder_mrid)\n",
    "network2 = FeederModel(connection=xml_file2, container=feeder2, distributed=False)"
   ]
  },
  {
   "cell_type": "code",
   "execution_count": null,
   "metadata": {},
   "outputs": [],
   "source": []
  }
 ],
 "metadata": {
  "kernelspec": {
   "display_name": ".venv",
   "language": "python",
   "name": "python3"
  },
  "language_info": {
   "codemirror_mode": {
    "name": "ipython",
    "version": 3
   },
   "file_extension": ".py",
   "mimetype": "text/x-python",
   "name": "python",
   "nbconvert_exporter": "python",
   "pygments_lexer": "ipython3",
   "version": "3.10.12"
  }
 },
 "nbformat": 4,
 "nbformat_minor": 2
}
