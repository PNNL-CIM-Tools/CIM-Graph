{
 "cells": [
  {
   "cell_type": "code",
   "execution_count": 1,
   "metadata": {},
   "outputs": [],
   "source": [
    "from mermaid import Mermaid\n",
    "import cimgraph.utils.mermaid as utils\n",
    "import cimgraph.data_profile.cimhub_2023 as cim"
   ]
  },
  {
   "cell_type": "code",
   "execution_count": 2,
   "metadata": {},
   "outputs": [
    {
     "data": {
      "text/html": [
       "\n",
       "        <div class=\"mermaid-2ba7b8f2-aa87-4ea1-83d0-478a480e0d5c\"></div>\n",
       "        <script type=\"module\">\n",
       "            import mermaid from 'https://cdn.jsdelivr.net/npm/mermaid@10.1.0/+esm'\n",
       "            const graphDefinition = '%%{init: {\"theme\":\"dark\"}}%%\\nclassDiagram\\n    class ACLineSegment{\\n        + b0ch: float | Susceptance\\n        + bch: float | Susceptance\\n        + g0ch: float | Conductance\\n        + gch: float | Conductance\\n        + r: float | Resistance\\n        + r0: float | Resistance\\n        + shortCircuitEndTemperature: float | Temperature\\n        + x: float | Reactance\\n        + x0: float | Reactance\\n        + length : float | Length\\n        + aggregate : bool\\n        + inService : bool\\n        + networkAnalysisEnabled : bool\\n        + normallyInService : bool\\n        + mRID : str\\n        + aliasName : str\\n        + description : str\\n        + name : str\\n        + identifier : uuid.UUID\\n    }\\n    Conductor <|-- ACLineSegment : inherits from\\n    ACLineSegment --> \"0..*\" ACLineSegmentPhase : ACLineSegmentPhases \\n    ACLineSegment --> \"0..1\" ParallelLineSegment : ParallelLineSegment \\n    ACLineSegment --> \"0..1\" PerLengthImpedance : PerLengthImpedance \\n    ACLineSegment --> \"0..1\" WireSpacingInfo : WireSpacingInfo \\n    ACLineSegment --> \"0..1\" BaseVoltage : BaseVoltage \\n    ACLineSegment --> \"0..*\" Terminal : Terminals \\n    ACLineSegment --> \"0..*\" EquipmentContainer : AdditionalEquipmentContainer \\n    ACLineSegment --> \"0..1\" EquipmentContainer : EquipmentContainer \\n    ACLineSegment --> \"0..*\" OperationalLimitSet : OperationalLimitSet \\n    ACLineSegment --> \"0..1\" SubSchedulingArea : SubSchedulingArea \\n    ACLineSegment --> \"0..1\" AssetInfo : AssetDatasheet \\n    ACLineSegment --> \"0..*\" Asset : Assets \\n    ACLineSegment --> \"0..*\" Control : Controls \\n    ACLineSegment --> \"0..1\" Location : Location \\n    ACLineSegment --o \"0..*\" Measurement : Measurements \\n    ACLineSegment --> \"0..1\" PSRType : PSRType \\n    ACLineSegment --> \"0..*\" Name : Names \\n';\n",
       "            const element = document.querySelector('.mermaid-2ba7b8f2-aa87-4ea1-83d0-478a480e0d5c');\n",
       "            const { svg } = await mermaid.render('graphDiv-2ba7b8f2-aa87-4ea1-83d0-478a480e0d5c', graphDefinition);\n",
       "            element.innerHTML = svg;\n",
       "        </script>\n",
       "        "
      ],
      "text/plain": [
       "<mermaid.mermaid.Mermaid at 0x7ff6ce51fa30>"
      ]
     },
     "execution_count": 2,
     "metadata": {},
     "output_type": "execute_result"
    }
   ],
   "source": [
    "text = utils.get_mermaid(cim.ACLineSegment, show_inherited=True)\n",
    "Mermaid(text)"
   ]
  },
  {
   "cell_type": "code",
   "execution_count": 3,
   "metadata": {},
   "outputs": [
    {
     "data": {
      "text/html": [
       "\n",
       "        <div class=\"mermaid-f0f65c14-f869-4b3a-9e09-c393587c45d7\"></div>\n",
       "        <script type=\"module\">\n",
       "            import mermaid from 'https://cdn.jsdelivr.net/npm/mermaid@10.1.0/+esm'\n",
       "            const graphDefinition = 'mindmap\\n    59cee258((**Breaker**\\n        name: breaker12\\n        inService: True\\n        open: False))\\n        [EquipmentContainer]\\n            3245888f(**Substation**\\n                name: sub1234)\\n        [BaseVoltage]\\n            df2c5a0a(**BaseVoltage**\\n                name: base12kv)\\n        [\"Terminals\"]\\n            593b10ed(**Terminal**\\n                name: brk12_t1)\\n            f2cb5de7(**Terminal**\\n                name: brk12_t2)\\n';\n",
       "            const element = document.querySelector('.mermaid-f0f65c14-f869-4b3a-9e09-c393587c45d7');\n",
       "            const { svg } = await mermaid.render('graphDiv-f0f65c14-f869-4b3a-9e09-c393587c45d7', graphDefinition);\n",
       "            element.innerHTML = svg;\n",
       "        </script>\n",
       "        "
      ],
      "text/plain": [
       "<mermaid.mermaid.Mermaid at 0x7ff6851a2e00>"
      ]
     },
     "execution_count": 3,
     "metadata": {},
     "output_type": "execute_result"
    }
   ],
   "source": [
    "breaker = cim.Breaker(name = 'breaker12', open=False, inService=True)\n",
    "substation = cim.Substation(name = 'sub1234')\n",
    "t1 = cim.Terminal(name = 'brk12_t1')\n",
    "t2 = cim.Terminal(name = 'brk12_t2')\n",
    "basev = cim.BaseVoltage(name = 'base12kv', nominalVoltage=12470)\n",
    "breaker.EquipmentContainer = substation\n",
    "breaker.Terminals = [t1, t2]\n",
    "breaker.BaseVoltage = basev\n",
    "\n",
    "Mermaid(utils.get_mermaid(breaker))"
   ]
  },
  {
   "cell_type": "code",
   "execution_count": 4,
   "metadata": {},
   "outputs": [
    {
     "data": {
      "text/html": [
       "\n",
       "        <div class=\"mermaid-cb06ede3-6e71-463d-b120-7fdf4264684c\"></div>\n",
       "        <script type=\"module\">\n",
       "            import mermaid from 'https://cdn.jsdelivr.net/npm/mermaid@10.1.0/+esm'\n",
       "            const graphDefinition = '%%{init: {\"theme\":\"neutral\"}}%%\\nflowchart LR\\n    59cee258(\"**Breaker**\\n        name: breaker12\")\\n    59cee258 -- BaseVoltage --> df2c5a0a\\n    df2c5a0a(\"**BaseVoltage**\\n        name: base12kv\\n        nominalVoltage: 12470\")\\n';\n",
       "            const element = document.querySelector('.mermaid-cb06ede3-6e71-463d-b120-7fdf4264684c');\n",
       "            const { svg } = await mermaid.render('graphDiv-cb06ede3-6e71-463d-b120-7fdf4264684c', graphDefinition);\n",
       "            element.innerHTML = svg;\n",
       "        </script>\n",
       "        "
      ],
      "text/plain": [
       "<mermaid.mermaid.Mermaid at 0x7ff6851a3880>"
      ]
     },
     "execution_count": 4,
     "metadata": {},
     "output_type": "execute_result"
    }
   ],
   "source": [
    "path = ['BaseVoltage','nominalVoltage']\n",
    "text = utils.get_mermaid_path(breaker, path)\n",
    "Mermaid(text)"
   ]
  },
  {
   "cell_type": "code",
   "execution_count": 5,
   "metadata": {},
   "outputs": [
    {
     "name": "stdout",
     "output_type": "stream",
     "text": [
      "%%{init: {\"theme\":\"neutral\"}}%%\n",
      "flowchart LR\n",
      "    59cee258(\"**Breaker**\n",
      "        name: breaker12\")\n",
      "    59cee258 -- Terminals --> 593b10ed\n",
      "    593b10ed(\"**Terminal**\n",
      "        name: brk12_t1\")\n",
      "    59cee258(\"**Breaker**\n",
      "        name: breaker12\")\n",
      "    59cee258 -- Terminals --> f2cb5de7\n",
      "    f2cb5de7(\"**Terminal**\n",
      "        name: brk12_t2\")\n",
      "\n"
     ]
    },
    {
     "data": {
      "text/html": [
       "\n",
       "        <div class=\"mermaid-cfa9e489-c053-4878-83cd-5784998795c9\"></div>\n",
       "        <script type=\"module\">\n",
       "            import mermaid from 'https://cdn.jsdelivr.net/npm/mermaid@10.1.0/+esm'\n",
       "            const graphDefinition = '%%{init: {\"theme\":\"neutral\"}}%%\\nflowchart LR\\n    59cee258(\"**Breaker**\\n        name: breaker12\")\\n    59cee258 -- Terminals --> 593b10ed\\n    593b10ed(\"**Terminal**\\n        name: brk12_t1\")\\n    59cee258(\"**Breaker**\\n        name: breaker12\")\\n    59cee258 -- Terminals --> f2cb5de7\\n    f2cb5de7(\"**Terminal**\\n        name: brk12_t2\")\\n';\n",
       "            const element = document.querySelector('.mermaid-cfa9e489-c053-4878-83cd-5784998795c9');\n",
       "            const { svg } = await mermaid.render('graphDiv-cfa9e489-c053-4878-83cd-5784998795c9', graphDefinition);\n",
       "            element.innerHTML = svg;\n",
       "        </script>\n",
       "        "
      ],
      "text/plain": [
       "<mermaid.mermaid.Mermaid at 0x7ff68530bfa0>"
      ]
     },
     "execution_count": 5,
     "metadata": {},
     "output_type": "execute_result"
    }
   ],
   "source": [
    "path0 = ['Terminals','[0]']\n",
    "path1 = ['Terminals','[1]']\n",
    "text = utils.get_mermaid_path(breaker, path0)\n",
    "text = utils.add_mermaid_path(breaker, path1, text)\n",
    "print(text)\n",
    "Mermaid(text)"
   ]
  },
  {
   "cell_type": "markdown",
   "metadata": {},
   "source": [
    "```mermaid\n",
    "%%{init: {\"theme\":\"neutral\"}}%%\n",
    "flowchart LR\n",
    "    59cee258(\"**Breaker**\n",
    "        name: breaker12\")\n",
    "    59cee258 -- Terminals --> 593b10ed\n",
    "    593b10ed(\"**Terminal**\n",
    "        name: brk12_t1\")\n",
    "    59cee258(\"**Breaker**\n",
    "        name: breaker12\")\n",
    "    59cee258 -- Terminals --> f2cb5de7\n",
    "    f2cb5de7(\"**Terminal**\n",
    "        name: brk12_t2\")\n",
    "```"
   ]
  },
  {
   "cell_type": "code",
   "execution_count": 6,
   "metadata": {},
   "outputs": [
    {
     "name": "stdout",
     "output_type": "stream",
     "text": [
      "%%{init: {\"theme\":\"neutral\"}}%%\n",
      "classDiagram\n",
      "%%{init: {\"theme\":\"neutral\"}}%%\n",
      "classDiagram\n",
      "    ACLineSegment --> \"0..*\" ACLineSegmentPhase : ACLineSegmentPhases \n",
      "    class ACLineSegmentPhase{\n",
      "        + sequenceNumber: int\n",
      "        + phase: enum:SinglePhaseKind\n",
      "    }\n",
      "\n"
     ]
    }
   ],
   "source": [
    "text = utils.get_mermaid_path(cim.ACLineSegment, ['ACLineSegmentPhases'])\n",
    "print(text)"
   ]
  },
  {
   "cell_type": "markdown",
   "metadata": {},
   "source": []
  }
 ],
 "metadata": {
  "kernelspec": {
   "display_name": ".venv",
   "language": "python",
   "name": "python3"
  },
  "language_info": {
   "codemirror_mode": {
    "name": "ipython",
    "version": 3
   },
   "file_extension": ".py",
   "mimetype": "text/x-python",
   "name": "python",
   "nbconvert_exporter": "python",
   "pygments_lexer": "ipython3",
   "version": "3.10.12"
  }
 },
 "nbformat": 4,
 "nbformat_minor": 2
}
