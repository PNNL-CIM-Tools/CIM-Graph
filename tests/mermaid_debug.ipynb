{
 "cells": [
  {
   "cell_type": "code",
   "execution_count": 1,
   "metadata": {},
   "outputs": [],
   "source": [
    "import cimgraph.data_profile.cimhub_2023 as cim\n",
    "from cimgraph.databases import ConnectionParameters\n",
    "from cimgraph.models import FeederModel\n",
    "from uuid import UUID\n",
    "cim_profile = 'cimhub_2023'"
   ]
  },
  {
   "cell_type": "code",
   "execution_count": 2,
   "metadata": {},
   "outputs": [],
   "source": [
    "from cimgraph.models import FeederModel\n",
    "from cimgraph.databases import XMLFile\n",
    "params = ConnectionParameters(filename=\"./test_models/ieee13.xml\", cim_profile=cim_profile, iec61970_301=8)\n",
    "xml_file = XMLFile(params)\n",
    "network = FeederModel(connection=xml_file, container=cim.Feeder())"
   ]
  },
  {
   "cell_type": "code",
   "execution_count": 3,
   "metadata": {},
   "outputs": [],
   "source": [
    "from mermaid import Mermaid\n",
    "import cimgraph.utils.mermaid as utils\n",
    "import cimgraph.data_profile.cimhub_2023 as cim"
   ]
  },
  {
   "cell_type": "code",
   "execution_count": 4,
   "metadata": {},
   "outputs": [
    {
     "name": "stdout",
     "output_type": "stream",
     "text": [
      "%%{init: {'theme':'neutral'}}%%\n",
      "classDiagram\n",
      "    class ACLineSegment{\n",
      "        + b0ch: float | Susceptance\n",
      "        + bch: float | Susceptance\n",
      "        + g0ch: float | Conductance\n",
      "        + gch: float | Conductance\n",
      "        + r: float | Resistance\n",
      "        + r0: float | Resistance\n",
      "        + shortCircuitEndTemperature: float | Temperature\n",
      "        + x: float | Reactance\n",
      "        + x0: float | Reactance\n",
      "    }\n",
      "    Conductor <|-- ACLineSegment : inherits from\n",
      "    ACLineSegment --> \"0..*\" ACLineSegmentPhase : ACLineSegmentPhases \n",
      "    ACLineSegment --> \"0..1\" ParallelLineSegment : ParallelLineSegment \n",
      "    ACLineSegment --> \"0..1\" PerLengthImpedance : PerLengthImpedance \n",
      "    ACLineSegment --> \"0..1\" WireSpacingInfo : WireSpacingInfo \n",
      "\n"
     ]
    }
   ],
   "source": [
    "diagram_text = utils.get_mermaid(cim.ACLineSegment)\n",
    "print(diagram_text)"
   ]
  },
  {
   "cell_type": "code",
   "execution_count": 5,
   "metadata": {},
   "outputs": [
    {
     "name": "stdout",
     "output_type": "stream",
     "text": [
      "%%{init: {'theme':'neutral'}}%%\n",
      "classDiagram\n",
      "    class ACLineSegment{\n",
      "        + b0ch: float | Susceptance\n",
      "        + bch: float | Susceptance\n",
      "        + g0ch: float | Conductance\n",
      "        + gch: float | Conductance\n",
      "        + r: float | Resistance\n",
      "        + r0: float | Resistance\n",
      "        + shortCircuitEndTemperature: float | Temperature\n",
      "        + x: float | Reactance\n",
      "        + x0: float | Reactance\n",
      "        + length : float | Length\n",
      "        + aggregate : bool\n",
      "        + inService : bool\n",
      "        + networkAnalysisEnabled : bool\n",
      "        + normallyInService : bool\n",
      "        + mRID : str\n",
      "        + aliasName : str\n",
      "        + description : str\n",
      "        + name : str\n",
      "        + identifier : uuid.UUID\n",
      "    }\n",
      "    Conductor <|-- ACLineSegment : inherits from\n",
      "    ACLineSegment --> \"0..*\" ACLineSegmentPhase : ACLineSegmentPhases \n",
      "    ACLineSegment --> \"0..1\" ParallelLineSegment : ParallelLineSegment \n",
      "    ACLineSegment --> \"0..1\" PerLengthImpedance : PerLengthImpedance \n",
      "    ACLineSegment --> \"0..1\" WireSpacingInfo : WireSpacingInfo \n",
      "    ACLineSegment --> \"0..1\" BaseVoltage : BaseVoltage \n",
      "    ACLineSegment --> \"0..*\" Terminal : Terminals \n",
      "    ACLineSegment --> \"0..*\" EquipmentContainer : AdditionalEquipmentContainer \n",
      "    ACLineSegment --> \"0..1\" EquipmentContainer : EquipmentContainer \n",
      "    ACLineSegment --> \"0..*\" OperationalLimitSet : OperationalLimitSet \n",
      "    ACLineSegment --> \"0..1\" SubSchedulingArea : SubSchedulingArea \n",
      "    ACLineSegment --> \"0..1\" AssetInfo : AssetDatasheet \n",
      "    ACLineSegment --> \"0..*\" Asset : Assets \n",
      "    ACLineSegment --> \"0..*\" Control : Controls \n",
      "    ACLineSegment --> \"0..1\" Location : Location \n",
      "    ACLineSegment --o \"0..*\" Measurement : Measurements \n",
      "    ACLineSegment --> \"0..1\" PSRType : PSRType \n",
      "    ACLineSegment --> \"0..*\" Name : Names \n",
      "\n"
     ]
    }
   ],
   "source": [
    "text = utils.get_mermaid(cim.ACLineSegment, show_inherited=True)\n",
    "print(text)"
   ]
  },
  {
   "cell_type": "code",
   "execution_count": 6,
   "metadata": {},
   "outputs": [
    {
     "data": {
      "text/html": [
       "\n",
       "        <div class=\"mermaid-e5868bb3-de12-40d1-81bf-2c716a0b0313\"></div>\n",
       "        <script type=\"module\">\n",
       "            import mermaid from 'https://cdn.jsdelivr.net/npm/mermaid@10.1.0/+esm'\n",
       "            const graphDefinition = 'mindmap\\n    59cee258((**Breaker**\\n        name: breaker12\\n        inService: True\\n        open: False))\\n        [EquipmentContainer]\\n            3245888f(**Substation**\\n                name: sub1234)\\n        [BaseVoltage]\\n            df2c5a0a(**BaseVoltage**\\n                name: base12kv)\\n        [\"Terminals\"]\\n            593b10ed(**Terminal**\\n                name: brk12_t1)\\n            f2cb5de7(**Terminal**\\n                name: brk12_t2)\\n';\n",
       "            const element = document.querySelector('.mermaid-e5868bb3-de12-40d1-81bf-2c716a0b0313');\n",
       "            const { svg } = await mermaid.render('graphDiv-e5868bb3-de12-40d1-81bf-2c716a0b0313', graphDefinition);\n",
       "            element.innerHTML = svg;\n",
       "        </script>\n",
       "        "
      ],
      "text/plain": [
       "<mermaid.mermaid.Mermaid at 0x7f1b9a9d40d0>"
      ]
     },
     "execution_count": 6,
     "metadata": {},
     "output_type": "execute_result"
    }
   ],
   "source": [
    "breaker = cim.Breaker(name = 'breaker12', open=False, inService=True)\n",
    "substation = cim.Substation(name = 'sub1234')\n",
    "t1 = cim.Terminal(name = 'brk12_t1')\n",
    "t2 = cim.Terminal(name = 'brk12_t2')\n",
    "basev = cim.BaseVoltage(name = 'base12kv', nominalVoltage=12470)\n",
    "breaker.EquipmentContainer = substation\n",
    "breaker.Terminals = [t1, t2]\n",
    "breaker.BaseVoltage = basev\n",
    "\n",
    "Mermaid(utils.get_mermaid(breaker))"
   ]
  },
  {
   "cell_type": "code",
   "execution_count": 7,
   "metadata": {},
   "outputs": [
    {
     "data": {
      "text/html": [
       "\n",
       "        <div class=\"mermaid-e099317f-1538-4272-b447-f30a632872b1\"></div>\n",
       "        <script type=\"module\">\n",
       "            import mermaid from 'https://cdn.jsdelivr.net/npm/mermaid@10.1.0/+esm'\n",
       "            const graphDefinition = 'mindmap\\n    2A5A1025((**ACLineSegmentPhase**\\n        name: 650632_A\\n        sequenceNumber: 1))\\n        [Location]\\n            3A63B621(**Location**\\n                name: 650632_Loc)\\n        [ACLineSegment]\\n            A04CDFB1(**ACLineSegment**\\n                name: 650632)\\n';\n",
       "            const element = document.querySelector('.mermaid-e099317f-1538-4272-b447-f30a632872b1');\n",
       "            const { svg } = await mermaid.render('graphDiv-e099317f-1538-4272-b447-f30a632872b1', graphDefinition);\n",
       "            element.innerHTML = svg;\n",
       "        </script>\n",
       "        "
      ],
      "text/plain": [
       "<mermaid.mermaid.Mermaid at 0x7f1bd3ea9690>"
      ]
     },
     "execution_count": 7,
     "metadata": {},
     "output_type": "execute_result"
    }
   ],
   "source": [
    "network.get_all_edges(cim.ACLineSegment)\n",
    "line = network.graph[cim.ACLineSegment][UUID('a04cdfb1-e951-4fc4-8882-0323cd70ae3c')].ACLineSegmentPhases[0]\n",
    "diagram_text = utils.get_mermaid(line)\n",
    "Mermaid(diagram_text)"
   ]
  },
  {
   "cell_type": "code",
   "execution_count": 8,
   "metadata": {},
   "outputs": [
    {
     "data": {
      "text/html": [
       "\n",
       "        <div class=\"mermaid-2916f2ee-222f-41e4-aead-df2d118c8389\"></div>\n",
       "        <script type=\"module\">\n",
       "            import mermaid from 'https://cdn.jsdelivr.net/npm/mermaid@10.1.0/+esm'\n",
       "            const graphDefinition = '%%{init: {\"theme\":\"neutral\"}}%%\\nflowchart LR\\n    A04CDFB1(\"**ACLineSegment**\\n        name: 650632\")\\n    A04CDFB1 -- BaseVoltage --> 2A158E0C\\n    2A158E0C(\"**BaseVoltage**\\n        name: BaseV_4.1600\\n        nominalVoltage: 4160.0\")\\n';\n",
       "            const element = document.querySelector('.mermaid-2916f2ee-222f-41e4-aead-df2d118c8389');\n",
       "            const { svg } = await mermaid.render('graphDiv-2916f2ee-222f-41e4-aead-df2d118c8389', graphDefinition);\n",
       "            element.innerHTML = svg;\n",
       "        </script>\n",
       "        "
      ],
      "text/plain": [
       "<mermaid.mermaid.Mermaid at 0x7f1b9a9d6530>"
      ]
     },
     "execution_count": 8,
     "metadata": {},
     "output_type": "execute_result"
    }
   ],
   "source": [
    "line = list(network.graph[cim.ACLineSegment].values())[0] # Get first line\n",
    "path = ['BaseVoltage','nominalVoltage'] # Graph path to nominal voltage\n",
    "diagram_text = utils.get_mermaid_path(line, path)\n",
    "# diagram_text = utils.add_mermaid_path(line, ['BaseVoltage','mRID'],diagram_text)\n",
    "Mermaid(diagram_text)"
   ]
  },
  {
   "cell_type": "code",
   "execution_count": 9,
   "metadata": {},
   "outputs": [
    {
     "data": {
      "text/html": [
       "\n",
       "        <div class=\"mermaid-2fe399f2-77e1-4bf9-8c33-1cbdc100762b\"></div>\n",
       "        <script type=\"module\">\n",
       "            import mermaid from 'https://cdn.jsdelivr.net/npm/mermaid@10.1.0/+esm'\n",
       "            const graphDefinition = '%%{init: {\"theme\":\"neutral\"}}%%\\nflowchart LR\\n    A04CDFB1(\"**ACLineSegment**\\n        name: 650632\")\\n    A04CDFB1 -- BaseVoltage --> 2A158E0C\\n    2A158E0C(\"**BaseVoltage**\\n        name: BaseV_4.1600\\n        nominalVoltage: 4160.0\")\\n    A04CDFB1(\"**ACLineSegment**\\n        name: 650632\")\\n    A04CDFB1 -- Terminals --> 000BA1F2\\n    000BA1F2(\"**Terminal**\\n        name: 650632_T1\")\\n    000BA1F2 -- ConnectivityNode --> 673E896A\\n    673E896A(\"**ConnectivityNode**\\n        name: rg60\")\\n    673E896A -- ConnectivityNodeContainer --> 49AD8E07\\n    49AD8E07(\"**Feeder**\\n        name: ieee13nodeckt\")\\n    A04CDFB1(\"**ACLineSegment**\\n        name: 650632\")\\n    A04CDFB1 -- Terminals --> 3589A9BE\\n    3589A9BE(\"**Terminal**\\n        name: 650632_T2\")\\n    3589A9BE -- ConnectivityNode --> 6CB5E5CE\\n    6CB5E5CE(\"**ConnectivityNode**\\n        name: 632\")\\n    6CB5E5CE -- ConnectivityNodeContainer --> 49AD8E07\\n    49AD8E07(\"**Feeder**\\n        name: ieee13nodeckt\")\\n';\n",
       "            const element = document.querySelector('.mermaid-2fe399f2-77e1-4bf9-8c33-1cbdc100762b');\n",
       "            const { svg } = await mermaid.render('graphDiv-2fe399f2-77e1-4bf9-8c33-1cbdc100762b', graphDefinition);\n",
       "            element.innerHTML = svg;\n",
       "        </script>\n",
       "        "
      ],
      "text/plain": [
       "<mermaid.mermaid.Mermaid at 0x7f1b9abc34f0>"
      ]
     },
     "execution_count": 9,
     "metadata": {},
     "output_type": "execute_result"
    }
   ],
   "source": [
    "diagram_text = utils.add_mermaid_path(line, ['Terminals','[0]','ConnectivityNode','ConnectivityNodeContainer'],diagram_text)\n",
    "diagram_text = utils.add_mermaid_path(line, ['Terminals','[1]','ConnectivityNode','ConnectivityNodeContainer'],diagram_text)\n",
    "Mermaid(diagram_text)"
   ]
  },
  {
   "cell_type": "code",
   "execution_count": 10,
   "metadata": {},
   "outputs": [
    {
     "name": "stdout",
     "output_type": "stream",
     "text": [
      "%%{init: {\"theme\":\"neutral\"}}%%\n",
      "flowchart LR\n",
      "    A04CDFB1(\"**ACLineSegment**\n",
      "        name: 650632\")\n",
      "    A04CDFB1 -- BaseVoltage --> 2A158E0C\n",
      "    2A158E0C(\"**BaseVoltage**\n",
      "        name: BaseV_4.1600\n",
      "        nominalVoltage: 4160.0\")\n",
      "    A04CDFB1(\"**ACLineSegment**\n",
      "        name: 650632\")\n",
      "    A04CDFB1 -- Terminals --> 000BA1F2\n",
      "    000BA1F2(\"**Terminal**\n",
      "        name: 650632_T1\")\n",
      "    000BA1F2 -- ConnectivityNode --> 673E896A\n",
      "    673E896A(\"**ConnectivityNode**\n",
      "        name: rg60\")\n",
      "    673E896A -- ConnectivityNodeContainer --> 49AD8E07\n",
      "    49AD8E07(\"**Feeder**\n",
      "        name: ieee13nodeckt\")\n",
      "    A04CDFB1(\"**ACLineSegment**\n",
      "        name: 650632\")\n",
      "    A04CDFB1 -- Terminals --> 3589A9BE\n",
      "    3589A9BE(\"**Terminal**\n",
      "        name: 650632_T2\")\n",
      "    3589A9BE -- ConnectivityNode --> 6CB5E5CE\n",
      "    6CB5E5CE(\"**ConnectivityNode**\n",
      "        name: 632\")\n",
      "    6CB5E5CE -- ConnectivityNodeContainer --> 49AD8E07\n",
      "    49AD8E07(\"**Feeder**\n",
      "        name: ieee13nodeckt\")\n",
      "    A04CDFB1(\"**ACLineSegment**\n",
      "        name: 650632\")\n",
      "    A04CDFB1 -- ACLineSegmentPhases --> 2A5A1025\n",
      "    2A5A1025(\"**ACLineSegmentPhase**\n",
      "        name: 650632_A\")\n",
      "    2A5A1025 -- Location --> 3A63B621\n",
      "    3A63B621(\"**Location**\n",
      "        name: 650632_Loc\")\n",
      "    A04CDFB1(\"**ACLineSegment**\n",
      "        name: 650632\")\n",
      "    A04CDFB1 -- ACLineSegmentPhases --> 2D60B241\n",
      "    2D60B241(\"**ACLineSegmentPhase**\n",
      "        name: 650632_B\")\n",
      "    2D60B241 -- Location --> 3A63B621\n",
      "    3A63B621(\"**Location**\n",
      "        name: 650632_Loc\")\n",
      "    A04CDFB1(\"**ACLineSegment**\n",
      "        name: 650632\")\n",
      "    A04CDFB1 -- ACLineSegmentPhases --> A66508A9\n",
      "    A66508A9(\"**ACLineSegmentPhase**\n",
      "        name: 650632_C\")\n",
      "    A66508A9 -- Location --> 3A63B621\n",
      "    3A63B621(\"**Location**\n",
      "        name: 650632_Loc\")\n",
      "\n"
     ]
    }
   ],
   "source": [
    "diagram_text = utils.add_mermaid_path(line, ['ACLineSegmentPhases','[0]','Location'],diagram_text)\n",
    "diagram_text = utils.add_mermaid_path(line, ['ACLineSegmentPhases','[1]','Location'],diagram_text)\n",
    "diagram_text = utils.add_mermaid_path(line, ['ACLineSegmentPhases','[2]','Location'],diagram_text)\n",
    "print(diagram_text)"
   ]
  },
  {
   "cell_type": "code",
   "execution_count": 11,
   "metadata": {},
   "outputs": [
    {
     "name": "stdout",
     "output_type": "stream",
     "text": [
      "%%{init: {\"theme\":\"neutral\"}}%%\n",
      "flowchart LR\n",
      "    59cee258(\"**Breaker**\n",
      "        name: breaker12\")\n",
      "    59cee258 -- Terminals --> 593b10ed\n",
      "    593b10ed(\"**Terminal**\n",
      "        name: brk12_t1\")\n",
      "    59cee258(\"**Breaker**\n",
      "        name: breaker12\")\n",
      "    59cee258 -- Terminals --> f2cb5de7\n",
      "    f2cb5de7(\"**Terminal**\n",
      "        name: brk12_t2\")\n",
      "\n"
     ]
    },
    {
     "data": {
      "text/html": [
       "\n",
       "        <div class=\"mermaid-2f1b2c74-8e4e-4d51-b4fc-a124c551ca52\"></div>\n",
       "        <script type=\"module\">\n",
       "            import mermaid from 'https://cdn.jsdelivr.net/npm/mermaid@10.1.0/+esm'\n",
       "            const graphDefinition = '%%{init: {\"theme\":\"neutral\"}}%%\\nflowchart LR\\n    59cee258(\"**Breaker**\\n        name: breaker12\")\\n    59cee258 -- Terminals --> 593b10ed\\n    593b10ed(\"**Terminal**\\n        name: brk12_t1\")\\n    59cee258(\"**Breaker**\\n        name: breaker12\")\\n    59cee258 -- Terminals --> f2cb5de7\\n    f2cb5de7(\"**Terminal**\\n        name: brk12_t2\")\\n';\n",
       "            const element = document.querySelector('.mermaid-2f1b2c74-8e4e-4d51-b4fc-a124c551ca52');\n",
       "            const { svg } = await mermaid.render('graphDiv-2f1b2c74-8e4e-4d51-b4fc-a124c551ca52', graphDefinition);\n",
       "            element.innerHTML = svg;\n",
       "        </script>\n",
       "        "
      ],
      "text/plain": [
       "<mermaid.mermaid.Mermaid at 0x7f1b9a9d5b70>"
      ]
     },
     "execution_count": 11,
     "metadata": {},
     "output_type": "execute_result"
    }
   ],
   "source": [
    "path0 = ['Terminals','[0]']\n",
    "path1 = ['Terminals','[1]']\n",
    "text = utils.get_mermaid_path(breaker, path0)\n",
    "text = utils.add_mermaid_path(breaker, path1, text)\n",
    "print(text)\n",
    "Mermaid(text)"
   ]
  },
  {
   "cell_type": "markdown",
   "metadata": {},
   "source": [
    "```mermaid\n",
    "%%{init: {\"theme\":\"neutral\"}}%%\n",
    "flowchart LR\n",
    "    59cee258(\"**Breaker**\n",
    "        name: breaker12\")\n",
    "    59cee258 -- Terminals --> 593b10ed\n",
    "    593b10ed(\"**Terminal**\n",
    "        name: brk12_t1\")\n",
    "    59cee258(\"**Breaker**\n",
    "        name: breaker12\")\n",
    "    59cee258 -- Terminals --> f2cb5de7\n",
    "    f2cb5de7(\"**Terminal**\n",
    "        name: brk12_t2\")\n",
    "```"
   ]
  },
  {
   "cell_type": "code",
   "execution_count": 12,
   "metadata": {},
   "outputs": [
    {
     "name": "stdout",
     "output_type": "stream",
     "text": [
      "%%{init: {\"theme\":\"neutral\"}}%%\n",
      "classDiagram\n",
      "    class ACLineSegment{\n",
      "    }\n",
      "    ACLineSegment --> \"0..*\" ACLineSegmentPhase : ACLineSegmentPhases \n",
      "    class ACLineSegmentPhase{\n",
      "    }\n",
      "    ACLineSegmentPhase --> \"0..1\" WireInfo : WireInfo \n",
      "    class WireInfo{\n",
      "    }\n",
      "\n"
     ]
    }
   ],
   "source": [
    "root = cim.ACLineSegment\n",
    "path = ['ACLineSegmentPhases','WireInfo']\n",
    "text = utils.get_mermaid_path(root, path, show_attributes=False )\n",
    "print(text)"
   ]
  },
  {
   "cell_type": "code",
   "execution_count": 13,
   "metadata": {},
   "outputs": [
    {
     "data": {
      "text/html": [
       "\n",
       "        <div class=\"mermaid-ded9a66d-4eea-4c6a-a93f-2f3714fb0b10\"></div>\n",
       "        <script type=\"module\">\n",
       "            import mermaid from 'https://cdn.jsdelivr.net/npm/mermaid@10.1.0/+esm'\n",
       "            const graphDefinition = '%%{init: {\"theme\":\"neutral\"}}%%\\nclassDiagram\\n    class ACLineSegment{\\n    }\\n    ACLineSegment --> \"0..*\" ACLineSegmentPhase : ACLineSegmentPhases \\n    class ACLineSegmentPhase{\\n    }\\n    ACLineSegmentPhase --> \"0..1\" WireInfo : WireInfo \\n    class WireInfo{\\n    }\\n';\n",
       "            const element = document.querySelector('.mermaid-ded9a66d-4eea-4c6a-a93f-2f3714fb0b10');\n",
       "            const { svg } = await mermaid.render('graphDiv-ded9a66d-4eea-4c6a-a93f-2f3714fb0b10', graphDefinition);\n",
       "            element.innerHTML = svg;\n",
       "        </script>\n",
       "        "
      ],
      "text/plain": [
       "<mermaid.mermaid.Mermaid at 0x7f1bd3ea8a60>"
      ]
     },
     "execution_count": 13,
     "metadata": {},
     "output_type": "execute_result"
    }
   ],
   "source": [
    "Mermaid(text)"
   ]
  },
  {
   "cell_type": "code",
   "execution_count": 14,
   "metadata": {},
   "outputs": [
    {
     "data": {
      "text/html": [
       "\n",
       "        <div class=\"mermaid-34ea28b2-f557-4351-8eb6-7a170ebd9a04\"></div>\n",
       "        <script type=\"module\">\n",
       "            import mermaid from 'https://cdn.jsdelivr.net/npm/mermaid@10.1.0/+esm'\n",
       "            const graphDefinition = '%%{init: {\"theme\":\"neutral\"}}%%\\nclassDiagram\\n    class ACLineSegmentPhase{\\n        + sequenceNumber: int\\n        + phase: enum:SinglePhaseKind\\n    }\\n    PowerSystemResource <|-- ACLineSegmentPhase : inherits from\\n    ACLineSegmentPhase --> \"0..1\" ACLineSegment : ACLineSegment \\n    ACLineSegmentPhase --> \"0..1\" WireInfo : WireInfo \\n';\n",
       "            const element = document.querySelector('.mermaid-34ea28b2-f557-4351-8eb6-7a170ebd9a04');\n",
       "            const { svg } = await mermaid.render('graphDiv-34ea28b2-f557-4351-8eb6-7a170ebd9a04', graphDefinition);\n",
       "            element.innerHTML = svg;\n",
       "        </script>\n",
       "        "
      ],
      "text/plain": [
       "<mermaid.mermaid.Mermaid at 0x7f1b9a9d5690>"
      ]
     },
     "execution_count": 14,
     "metadata": {},
     "output_type": "execute_result"
    }
   ],
   "source": [
    "Mermaid(utils.get_mermaid(cim.ACLineSegmentPhase))"
   ]
  },
  {
   "cell_type": "code",
   "execution_count": 15,
   "metadata": {},
   "outputs": [
    {
     "data": {
      "text/html": [
       "\n",
       "        <div class=\"mermaid-f2c95e79-4446-4473-b3ac-f61b98e61af2\"></div>\n",
       "        <script type=\"module\">\n",
       "            import mermaid from 'https://cdn.jsdelivr.net/npm/mermaid@10.1.0/+esm'\n",
       "            const graphDefinition = '%%{init: {\"theme\":\"neutral\"}}%%\\nclassDiagram\\n    class ACLineSegment{\\n        + b0ch: float | Susceptance\\n        + bch: float | Susceptance\\n        + g0ch: float | Conductance\\n        + gch: float | Conductance\\n        + r: float | Resistance\\n        + r0: float | Resistance\\n        + shortCircuitEndTemperature: float | Temperature\\n        + x: float | Reactance\\n        + x0: float | Reactance\\n    }\\n    ACLineSegment --> \"0..*\" ACLineSegmentPhase : ACLineSegmentPhases \\n    ACLineSegment --> \"0..1\" PerLengthImpedance : PerLengthImpedance \\n    ACLineSegment --> \"0..1\" WireSpacingInfo : WireSpacingInfo \\n    class ACLineSegmentPhase{\\n        + sequenceNumber: int\\n        + phase: enum:SinglePhaseKind\\n    }\\n    ACLineSegmentPhase --> \"0..1\" ACLineSegment : ACLineSegment \\n    class PerLengthImpedance{\\n    }\\n    PerLengthImpedance --> \"0..*\" ACLineSegment : ACLineSegments \\n    class PerLengthPhaseImpedance{\\n        + conductorCount: int\\n    }\\n    PerLengthPhaseImpedance --> \"0..*\" PhaseImpedanceData : PhaseImpedanceData \\n    PerLengthImpedance <|-- PerLengthPhaseImpedance : inherits from\\n    class PhaseImpedanceData{\\n        + column: int\\n        + row: int\\n        + b: float | SusceptancePerLength\\n        + g: float | ConductancePerLength\\n        + r: float | ResistancePerLength\\n        + x: float | ReactancePerLength\\n    }\\n    PhaseImpedanceData --> \"0..1\" PerLengthPhaseImpedance : PhaseImpedance \\n    class WireSpacingInfo{\\n        + isCable: bool\\n        + phaseWireCount: int\\n        + phaseWireSpacing: float | Length\\n        + usage: enum:WireUsageKind\\n    }\\n    WireSpacingInfo --> \"0..*\" ACLineSegment : ACLineSegments \\n';\n",
       "            const element = document.querySelector('.mermaid-f2c95e79-4446-4473-b3ac-f61b98e61af2');\n",
       "            const { svg } = await mermaid.render('graphDiv-f2c95e79-4446-4473-b3ac-f61b98e61af2', graphDefinition);\n",
       "            element.innerHTML = svg;\n",
       "        </script>\n",
       "        "
      ],
      "text/plain": [
       "<mermaid.mermaid.Mermaid at 0x7f1b9a9d5300>"
      ]
     },
     "execution_count": 15,
     "metadata": {},
     "output_type": "execute_result"
    }
   ],
   "source": [
    "diagram_text = utils.get_mermaid([cim.ACLineSegment,\n",
    "                          cim.ACLineSegmentPhase,\n",
    "                          cim.PerLengthImpedance,\n",
    "                          cim.PerLengthPhaseImpedance,\n",
    "                          cim.PhaseImpedanceData,\n",
    "                          cim.WireSpacingInfo])\n",
    "# print(diagram_text)\n",
    "Mermaid(diagram_text)"
   ]
  },
  {
   "cell_type": "code",
   "execution_count": 20,
   "metadata": {},
   "outputs": [
    {
     "name": "stdout",
     "output_type": "stream",
     "text": [
      "%%{init: {\"theme\":\"neutral\"}}%%\n",
      "classDiagram\n",
      "    class ACLineSegment{\n",
      "    }\n",
      "    ACLineSegment --> \"0..*\" ACLineSegmentPhase : ACLineSegmentPhases \n",
      "    class ACLineSegmentPhase{\n",
      "    }\n",
      "    ACLineSegmentPhase --> \"0..1\" WireInfo : WireInfo \n",
      "    class WireInfo{\n",
      "    }\n",
      "\n"
     ]
    }
   ],
   "source": [
    "diagram_text = utils.get_mermaid_path(cim.ACLineSegment, \n",
    "                    ['ACLineSegmentPhases','WireInfo'], show_attributes=False)\n",
    "print(diagram_text)"
   ]
  },
  {
   "cell_type": "code",
   "execution_count": 21,
   "metadata": {},
   "outputs": [
    {
     "name": "stdout",
     "output_type": "stream",
     "text": [
      "%%{init: {\"theme\":\"neutral\"}}%%\n",
      "classDiagram\n",
      "    class ACLineSegment{\n",
      "    }\n",
      "    ACLineSegment --> \"0..*\" ACLineSegmentPhase : ACLineSegmentPhases \n",
      "    class ACLineSegmentPhase{\n",
      "    }\n",
      "    ACLineSegmentPhase --> \"0..1\" WireInfo : WireInfo \n",
      "    class WireInfo{\n",
      "    }\n",
      "    ACLineSegment --> \"0..1\" PerLengthImpedance : PerLengthImpedance \n",
      "    class PerLengthImpedance{\n",
      "    }\n",
      "    PerLengthImpedance <|-- PerLengthPhaseImpedance : inherits from\n",
      "    PerLengthPhaseImpedance --> \"0..*\" PhaseImpedanceData : PhaseImpedanceData \n",
      "    class PhaseImpedanceData{\n",
      "        + column: int\n",
      "        + row: int\n",
      "        + b: float | SusceptancePerLength\n",
      "        + g: float | ConductancePerLength\n",
      "        + r: float | ResistancePerLength\n",
      "        + x: float | ReactancePerLength\n",
      "    }\n",
      "\n"
     ]
    }
   ],
   "source": [
    "extra_path = [\n",
    "    'PerLengthImpedance',\n",
    "    '__subclasses__()[0]',\n",
    "    'PhaseImpedanceData'\n",
    "]\n",
    "diagram_text = utils.add_mermaid_path(cim.ACLineSegment, extra_path, \n",
    "                    diagram_text, show_attributes=True)\n",
    "print(diagram_text)"
   ]
  },
  {
   "cell_type": "markdown",
   "metadata": {},
   "source": []
  },
  {
   "cell_type": "code",
   "execution_count": 18,
   "metadata": {},
   "outputs": [
    {
     "data": {
      "text/plain": [
       "cimgraph.data_profile.cimhub_2023.cimhub_2023.PerLengthPhaseImpedance"
      ]
     },
     "execution_count": 18,
     "metadata": {},
     "output_type": "execute_result"
    }
   ],
   "source": [
    "edge = cim.PerLengthImpedance\n",
    "attr = '__subclasses__()[0]'\n",
    "eval(f'edge.{attr}')"
   ]
  },
  {
   "cell_type": "code",
   "execution_count": 19,
   "metadata": {},
   "outputs": [
    {
     "data": {
      "text/plain": [
       "{'b0ch': 'Optional[float | Susceptance]',\n",
       " 'bch': 'Optional[float | Susceptance]',\n",
       " 'g0ch': 'Optional[float | Conductance]',\n",
       " 'gch': 'Optional[float | Conductance]',\n",
       " 'r': 'Optional[float | Resistance]',\n",
       " 'r0': 'Optional[float | Resistance]',\n",
       " 'shortCircuitEndTemperature': 'Optional[float | Temperature]',\n",
       " 'x': 'Optional[float | Reactance]',\n",
       " 'x0': 'Optional[float | Reactance]',\n",
       " 'ACLineSegmentPhases': 'list[ACLineSegmentPhase]',\n",
       " 'ParallelLineSegment': 'Optional[ParallelLineSegment]',\n",
       " 'PerLengthImpedance': 'Optional[PerLengthImpedance]',\n",
       " 'WireSpacingInfo': 'Optional[WireSpacingInfo]'}"
      ]
     },
     "execution_count": 19,
     "metadata": {},
     "output_type": "execute_result"
    }
   ],
   "source": [
    "root.__annotations__"
   ]
  }
 ],
 "metadata": {
  "kernelspec": {
   "display_name": ".venv",
   "language": "python",
   "name": "python3"
  },
  "language_info": {
   "codemirror_mode": {
    "name": "ipython",
    "version": 3
   },
   "file_extension": ".py",
   "mimetype": "text/x-python",
   "name": "python",
   "nbconvert_exporter": "python",
   "pygments_lexer": "ipython3",
   "version": "3.10.12"
  }
 },
 "nbformat": 4,
 "nbformat_minor": 2
}
