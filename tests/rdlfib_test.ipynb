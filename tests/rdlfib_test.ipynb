{
 "cells": [
  {
   "cell_type": "code",
   "execution_count": 1,
   "metadata": {},
   "outputs": [],
   "source": [
    "import importlib\n",
    "cim_profile = 'cimhub_2023'\n",
    "cim = importlib.import_module('cimgraph.data_profile.' + cim_profile)"
   ]
  },
  {
   "cell_type": "code",
   "execution_count": 2,
   "metadata": {},
   "outputs": [],
   "source": [
    "from cimgraph.databases import ConnectionParameters\n",
    "from cimgraph.databases import RDFlibConnection\n",
    "from cimgraph.models import FeederModel\n",
    "from cimgraph.models import NodeBreakerModel\n",
    "from cimgraph.models import BusBranchModel\n",
    "from test_get_all_edges import test_get_all_edges\n",
    "import cimgraph.utils as utils"
   ]
  },
  {
   "cell_type": "code",
   "execution_count": 3,
   "metadata": {},
   "outputs": [
    {
     "name": "stdout",
     "output_type": "stream",
     "text": [
      "ConnectivityNode\n",
      "Terminal\n",
      "EnergyConsumer\n",
      "Breaker\n",
      "ACLineSegment\n",
      "PowerTransformer\n",
      "Recloser\n",
      "PowerElectronicsConnection\n",
      "LoadBreakSwitch\n",
      "LinearShuntCompensator\n",
      "EnergySource\n",
      "Fuse\n",
      "Feeder\n",
      "TopologicalNode\n",
      "OperationalLimitSet\n",
      "TransformerTankEnd\n",
      "TapChangerControl\n",
      "PowerTransformerEnd\n",
      "TopologicalIsland\n",
      "ACLineSegmentPhase\n",
      "BaseVoltage\n",
      "PerLengthPhaseImpedance\n",
      "Location\n",
      "PhaseImpedanceData\n",
      "TransformerTank\n",
      "TransformerTankInfo\n",
      "RatioTapChanger\n",
      "TransformerEndInfo\n",
      "ShortCircuitTest\n",
      "NoLoadTest\n",
      "TransformerMeshImpedance\n",
      "TransformerCoreAdmittance\n",
      "EnergyConsumerPhase\n",
      "LoadResponseCharacteristic\n",
      "PowerElectronicsConnectionPhase\n",
      "BatteryUnit\n",
      "PhotovoltaicUnit\n",
      "CurrentLimit\n",
      "VoltageLimit\n",
      "OperationalLimitType\n",
      "PositionPoint\n",
      "CoordinateSystem\n",
      "SwitchPhase\n",
      "LinearShuntCompensatorPhase\n",
      "Substation\n",
      "SubGeographicalRegion\n",
      "GeographicalRegion\n"
     ]
    },
    {
     "data": {
      "text/plain": [
       "<Graph identifier=N6a4c8d6991e94665ae770eba5c556fca (<class 'rdflib.graph.Graph'>)>"
      ]
     },
     "execution_count": 3,
     "metadata": {},
     "output_type": "execute_result"
    }
   ],
   "source": [
    "cim_profile = 'cimhub_2023'\n",
    "cim = importlib.import_module('cimgraph.data_profile.' + cim_profile)\n",
    "\n",
    "# RDFLib File Reader Connection\n",
    "params = ConnectionParameters(filename=\"./test_models/ieee13.xml\", cim_profile='cimhub_2023', iec61970_301=8)\n",
    "rdf = RDFlibConnection(params)\n",
    "\n",
    "feeder_mrid = \"49AD8E07-3BF9-A4E2-CB8F-C3722F837B62\"\n",
    "feeder = cim.Feeder(mRID = feeder_mrid)\n",
    "network = FeederModel(connection=rdf, container=feeder, distributed=False)\n",
    "utils.get_all_data(network)\n",
    "utils.write_xml(network, \"./test_output/ieee13test.xml\")\n",
    "rdf.libgraph.serialize(destination='./test_output/test13rdf.xml', format='xml')"
   ]
  },
  {
   "cell_type": "code",
   "execution_count": 4,
   "metadata": {},
   "outputs": [],
   "source": [
    "from cimgraph.utils.write_csv import write_csv\n",
    "\n",
    "write_csv(network, './test_output')"
   ]
  },
  {
   "cell_type": "code",
   "execution_count": 6,
   "metadata": {},
   "outputs": [
    {
     "name": "stdout",
     "output_type": "stream",
     "text": [
      "ConnectivityNode\n",
      "Terminal\n",
      "EnergyConsumer\n",
      "Breaker\n",
      "ACLineSegment\n",
      "PowerTransformer\n",
      "Recloser\n",
      "PowerElectronicsConnection\n",
      "LoadBreakSwitch\n",
      "LinearShuntCompensator\n",
      "EnergySource\n",
      "Fuse\n",
      "Feeder\n",
      "ACLineSegmentPhase\n",
      "BaseVoltage\n",
      "PerLengthPhaseImpedance\n",
      "Location\n",
      "PhaseImpedanceData\n",
      "PowerTransformerEnd\n",
      "TransformerTank\n",
      "TransformerTankEnd\n",
      "TransformerTankInfo\n",
      "RatioTapChanger\n",
      "TransformerEndInfo\n",
      "ShortCircuitTest\n",
      "NoLoadTest\n",
      "TransformerMeshImpedance\n",
      "TransformerCoreAdmittance\n",
      "TapChangerControl\n",
      "EnergyConsumerPhase\n",
      "LoadResponseCharacteristic\n",
      "TopologicalNode\n",
      "OperationalLimitSet\n",
      "CurrentLimit\n",
      "VoltageLimit\n",
      "OperationalLimitType\n",
      "Substation\n",
      "CoordinateSystem\n",
      "PositionPoint\n",
      "TopologicalIsland\n",
      "PowerElectronicsConnectionPhase\n",
      "BatteryUnit\n",
      "PhotovoltaicUnit\n",
      "SwitchPhase\n",
      "LinearShuntCompensatorPhase\n",
      "SubGeographicalRegion\n",
      "GeographicalRegion\n"
     ]
    },
    {
     "data": {
      "text/plain": [
       "<Graph identifier=N6dcd4ef0576340d48a7af5fa5ef221a7 (<class 'rdflib.graph.Graph'>)>"
      ]
     },
     "execution_count": 6,
     "metadata": {},
     "output_type": "execute_result"
    }
   ],
   "source": [
    "## Round-trip test\n",
    "cim_profile = 'cimhub_2023'\n",
    "cim = importlib.import_module('cimgraph.data_profile.' + cim_profile)\n",
    "\n",
    "# RDFLib File Reader Connection\n",
    "params = ConnectionParameters(filename=\"./test_output/ieee13test.xml\", cim_profile='cimhub_2023', iec61970_301=8)\n",
    "rdf = RDFlibConnection(params)\n",
    "\n",
    "feeder_mrid = \"49AD8E07-3BF9-A4E2-CB8F-C3722F837B62\"\n",
    "feeder = cim.Feeder(mRID = feeder_mrid)\n",
    "network = FeederModel(connection=rdf, container=feeder, distributed=False)\n",
    "test_get_all_edges(network, cim)\n",
    "utils.get_all_data(network)\n",
    "utils.write_xml(network, \"./test_output/ieee13test2.xml\")\n",
    "rdf.libgraph.serialize(destination='./test_output/test13rdf_2.xml', format='xml')"
   ]
  },
  {
   "cell_type": "code",
   "execution_count": 7,
   "metadata": {},
   "outputs": [],
   "source": [
    "## Distributed model test\n",
    "\n",
    "network = FeederModel(connection=rdf, container=feeder, distributed=True)\n",
    "for switch_area in network.distributed_areas:\n",
    "    test_get_all_edges(switch_area, cim)\n",
    "    for sec_area in switch_area.distributed_areas:\n",
    "        test_get_all_edges(sec_area, cim)\n"
   ]
  },
  {
   "cell_type": "code",
   "execution_count": 8,
   "metadata": {},
   "outputs": [],
   "source": [
    "cim_profile = 'cimhub_2023'\n",
    "cim = importlib.import_module('cimgraph.data_profile.' + cim_profile)\n",
    "\n",
    "# RDFLib File Reader Connection\n",
    "params = ConnectionParameters(filename=\"./test_models/IEEE118_CIM.xml\", cim_profile='cimhub_2023', iec61970_301=8)\n",
    "rdf = RDFlibConnection(params)\n",
    "\n",
    "feeder_mrid = \"1783D2A8-1204-4781-A0B4-7A73A2FA6038\" #IEEE 118 Bus\"\n",
    "feeder = cim.ConnectivityNodeContainer(mRID = feeder_mrid)\n",
    "network = BusBranchModel(connection=rdf, container=feeder, distributed=False)\n",
    "test_get_all_edges(network, cim)"
   ]
  },
  {
   "cell_type": "code",
   "execution_count": 9,
   "metadata": {},
   "outputs": [
    {
     "name": "stdout",
     "output_type": "stream",
     "text": [
      "subregion small\n",
      "substation maple10bus_sub2\n",
      "voltage level SUB2_4.16_B1\n",
      "voltage level SUB2_115.0_B1\n",
      "voltage level SUB2_230.0_B1\n",
      "voltage level SUB2_34.5_B1\n",
      "feeder feeder_8 _9E985101-27AD-4FE4-B36A-EBECC98CDFB1\n",
      "feeder feeder_10 _9E985101-27AD-4FE4-B36A-EBECC98CDFB3\n",
      "feeder feeder_11 _9E985101-27AD-4FE4-B36A-EBECC98CDFB4\n",
      "feeder feeder_9 _9E985101-27AD-4FE4-B36A-EBECC98CDFB2\n",
      "substation maple10bus_sub1\n",
      "voltage level SUB1_230.0_B1\n",
      "voltage level SUB1_34.5_B1\n",
      "voltage level SUB1_12.47_B1\n",
      "voltage level SUB1_115.0_B1\n",
      "feeder feeder_3 _9E985101-27AD-4FE4-B36A-EBECC98CDFA3\n",
      "feeder feeder_4 _9E985101-27AD-4FE4-B36A-EBECC98CDFA4\n",
      "feeder feeder_1 _9E985101-27AD-4FE4-B36A-EBECC98CDFA1\n",
      "feeder feeder_5 _9E985101-27AD-4FE4-B36A-EBECC98CDFA5\n",
      "feeder feeder_6 _9E985101-27AD-4FE4-B36A-EBECC98CDFA6\n",
      "feeder feeder_7 _9E985101-27AD-4FE4-B36A-EBECC98CDFA7\n",
      "feeder feeder_2 _9E985101-27AD-4FE4-B36A-EBECC98CDFA2\n"
     ]
    }
   ],
   "source": [
    "cim_profile = 'rc4_2021'\n",
    "cim = importlib.import_module('cimgraph.data_profile.' + cim_profile)\n",
    "\n",
    "# RDFLib File Reader Connection\n",
    "params = ConnectionParameters(filename=\"./test_models/maple10nodebreaker.xml\", cim_profile=cim_profile, iec61970_301=7)\n",
    "rdf = RDFlibConnection(params)\n",
    "\n",
    "feeder_mrid = \"_EE4C60AE-550D-4599-92F4-022DF3118B3C\"\n",
    "geo = cim.GeographicalRegion(mRID = feeder_mrid)\n",
    "network = NodeBreakerModel(connection=rdf, container=geo, distributed=True) \n",
    "\n",
    "for sr_area in network.distributed_areas[cim.SubGeographicalRegion].values():\n",
    "    print(\"subregion\", sr_area.container.name)\n",
    "    test_get_all_edges(sr_area, cim)\n",
    "    for sub_area in sr_area.distributed_areas[cim.Substation].values():\n",
    "        print(\"substation\", sub_area.container.name)\n",
    "        test_get_all_edges(sub_area, cim)\n",
    "        for vl_area in sub_area.distributed_areas[cim.VoltageLevel].values():\n",
    "            print(\"voltage level\", vl_area.container.name)\n",
    "            test_get_all_edges(vl_area, cim)\n",
    "        for feeder in sub_area.distributed_areas[cim.Feeder].values():\n",
    "            print(\"feeder\", feeder.container.name, feeder.container.mRID)\n",
    "            test_get_all_edges(feeder, cim)\n",
    "\n"
   ]
  },
  {
   "cell_type": "code",
   "execution_count": 10,
   "metadata": {},
   "outputs": [
    {
     "name": "stdout",
     "output_type": "stream",
     "text": [
      "GeographicalRegion\n",
      "SubGeographicalRegion\n",
      "Substation\n",
      "PowerTransformer\n",
      "Feeder\n",
      "VoltageLevel\n",
      "PowerTransformerEnd\n",
      "Location\n",
      "Terminal\n",
      "Breaker\n",
      "ConnectivityNode\n",
      "EnergyConsumer\n",
      "PowerElectronicsConnection\n",
      "BaseVoltage\n",
      "EnergySource\n",
      "SynchronousMachine\n",
      "TransformerMeshImpedance\n",
      "TransformerCoreAdmittance\n",
      "PositionPoint\n",
      "CoordinateSystem\n",
      "OperationalLimitSet\n",
      "TopologicalNode\n",
      "LoadResponseCharacteristic\n",
      "PhotovoltaicUnit\n",
      "ACLineSegment\n",
      "VoltageLimit\n",
      "CurrentLimit\n",
      "TopologicalIsland\n",
      "OperationalLimitType\n"
     ]
    }
   ],
   "source": [
    "network = NodeBreakerModel(connection=rdf, container=geo, distributed=False)\n",
    "\n",
    "utils.get_all_data(network)"
   ]
  },
  {
   "cell_type": "code",
   "execution_count": null,
   "metadata": {},
   "outputs": [],
   "source": []
  }
 ],
 "metadata": {
  "kernelspec": {
   "display_name": "Python 3",
   "language": "python",
   "name": "python3"
  },
  "language_info": {
   "codemirror_mode": {
    "name": "ipython",
    "version": 3
   },
   "file_extension": ".py",
   "mimetype": "text/x-python",
   "name": "python",
   "nbconvert_exporter": "python",
   "pygments_lexer": "ipython3",
   "version": "3.10.12"
  },
  "orig_nbformat": 4
 },
 "nbformat": 4,
 "nbformat_minor": 2
}
