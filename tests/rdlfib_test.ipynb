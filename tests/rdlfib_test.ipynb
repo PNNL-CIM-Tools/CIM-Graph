{
 "cells": [
  {
   "cell_type": "code",
   "execution_count": 13,
   "metadata": {},
   "outputs": [],
   "source": [
    "import importlib\n",
    "# cim_profile = 'cimhub_2023'\n",
    "cim_profile = 'rc4_2021'\n",
    "cim = importlib.import_module('cimgraph.data_profile.' + cim_profile)"
   ]
  },
  {
   "cell_type": "code",
   "execution_count": 14,
   "metadata": {},
   "outputs": [],
   "source": [
    "from cimgraph.databases import ConnectionParameters\n",
    "from cimgraph.databases import RDFlibConnection\n",
    "from cimgraph.models import FeederModel\n",
    "from cimgraph.models import NodeBreakerModel\n",
    "from cimgraph.models import BusBranchModel\n",
    "from test_get_all_edges import test_get_all_edges\n",
    "import cimgraph.utils as utils"
   ]
  },
  {
   "cell_type": "code",
   "execution_count": 15,
   "metadata": {},
   "outputs": [],
   "source": [
    "# cim_profile = 'cimhub_2023'\n",
    "cim = importlib.import_module('cimgraph.data_profile.' + cim_profile)\n",
    "\n",
    "# RDFLib File Reader Connection\n",
    "# params = ConnectionParameters(filename=\"./test_models/ieee13.xml\", cim_profile='cimhub_2023', iec61970_301=8)\n",
    "params = ConnectionParameters(filename=\"./test_models/IEEE123.xml\", cim_profile='rc4_2021', iec61970_301=7)\n",
    "# params = ConnectionParameters(filename=None, cim_profile='cimhub_2023', iec61970_301=8)\n",
    "rdf = RDFlibConnection(params)\n",
    "\n",
    "# feeder_mrid = \"49AD8E07-3BF9-A4E2-CB8F-C3722F837B62\"\n",
    "feeder_mrid = \"_C1C3E687-6FFD-C753-582B-632A27E28507\" #123 node\n",
    "feeder = cim.Feeder(mRID = feeder_mrid)\n",
    "network = FeederModel(connection=rdf, container=feeder, distributed=False)\n",
    "# utils.get_all_data(network)\n",
    "# utils.write_xml(network, \"./test_output/ieee13test.xml\")\n",
    "# rdf.libgraph.serialize(destination='./test_output/test13rdf.xml', format='xml')"
   ]
  },
  {
   "cell_type": "code",
   "execution_count": 34,
   "metadata": {},
   "outputs": [
    {
     "ename": "IndexError",
     "evalue": "list index out of range",
     "output_type": "error",
     "traceback": [
      "\u001b[0;31m---------------------------------------------------------------------------\u001b[0m",
      "\u001b[0;31mIndexError\u001b[0m                                Traceback (most recent call last)",
      "Cell \u001b[0;32mIn[34], line 5\u001b[0m\n\u001b[1;32m      3\u001b[0m network\u001b[38;5;241m.\u001b[39mget_all_edges(cim\u001b[38;5;241m.\u001b[39mPowerTransformerEnd)\n\u001b[1;32m      4\u001b[0m \u001b[38;5;28;01mfor\u001b[39;00m tank \u001b[38;5;129;01min\u001b[39;00m network\u001b[38;5;241m.\u001b[39mgraph[cim\u001b[38;5;241m.\u001b[39mPowerTransformer]\u001b[38;5;241m.\u001b[39mvalues():\n\u001b[0;32m----> 5\u001b[0m     \u001b[38;5;28mprint\u001b[39m(\u001b[38;5;124m\"\u001b[39m\u001b[38;5;124mend0\u001b[39m\u001b[38;5;124m\"\u001b[39m, \u001b[43mtank\u001b[49m\u001b[38;5;241;43m.\u001b[39;49m\u001b[43mPowerTransformerEnd\u001b[49m\u001b[43m[\u001b[49m\u001b[38;5;241;43m0\u001b[39;49m\u001b[43m]\u001b[49m\u001b[38;5;241m.\u001b[39mTerminal\u001b[38;5;241m.\u001b[39mmRID)\n\u001b[1;32m      6\u001b[0m     \u001b[38;5;66;03m# print(\"end1\", tank.PowerTransformerEnd[1].Terminal.mRID)\u001b[39;00m\n",
      "\u001b[0;31mIndexError\u001b[0m: list index out of range"
     ]
    }
   ],
   "source": [
    "network.get_all_edges(cim.PowerTransformer)\n",
    "network.get_all_edges(cim.TransformerTank)\n",
    "network.get_all_edges(cim.PowerTransformerEnd)\n",
    "for tank in network.graph[cim.PowerTransformer].values():\n",
    "    print(\"end0\", tank.PowerTransformerEnd[0].Terminal.mRID)\n",
    "    # print(\"end1\", tank.PowerTransformerEnd[1].Terminal.mRID)"
   ]
  },
  {
   "cell_type": "code",
   "execution_count": 38,
   "metadata": {},
   "outputs": [
    {
     "data": {
      "text/plain": [
       "'reg3'"
      ]
     },
     "execution_count": 38,
     "metadata": {},
     "output_type": "execute_result"
    }
   ],
   "source": [
    "tank.name"
   ]
  },
  {
   "cell_type": "code",
   "execution_count": null,
   "metadata": {},
   "outputs": [],
   "source": []
  },
  {
   "cell_type": "code",
   "execution_count": 7,
   "metadata": {},
   "outputs": [
    {
     "name": "stdout",
     "output_type": "stream",
     "text": [
      "{\n",
      "    \"test_mrid_1234\": {\n",
      "        \"mRID\": \"test_mrid_1234\",\n",
      "        \"name\": \"new_sub\"\n",
      "    }\n",
      "}\n"
     ]
    }
   ],
   "source": [
    "sub = cim.Substation(name = 'new_sub', mRID='test_mrid_1234')\n",
    "network.add_to_graph(sub)\n",
    "network.pprint(cim.Substation)"
   ]
  },
  {
   "cell_type": "code",
   "execution_count": null,
   "metadata": {},
   "outputs": [],
   "source": [
    "from cimgraph.utils.write_csv import write_csv\n",
    "\n",
    "write_csv(network, './test_output')"
   ]
  },
  {
   "cell_type": "code",
   "execution_count": null,
   "metadata": {},
   "outputs": [],
   "source": [
    "## Round-trip test\n",
    "cim_profile = 'cimhub_2023'\n",
    "cim = importlib.import_module('cimgraph.data_profile.' + cim_profile)\n",
    "\n",
    "# RDFLib File Reader Connection\n",
    "params = ConnectionParameters(filename=\"./test_output/ieee13test.xml\", cim_profile='cimhub_2023', iec61970_301=8)\n",
    "rdf = RDFlibConnection(params)\n",
    "\n",
    "feeder_mrid = \"49AD8E07-3BF9-A4E2-CB8F-C3722F837B62\"\n",
    "feeder = cim.Feeder(mRID = feeder_mrid)\n",
    "network = FeederModel(connection=rdf, container=feeder, distributed=False)\n",
    "test_get_all_edges(network, cim)\n",
    "utils.get_all_data(network)\n",
    "utils.write_xml(network, \"./test_output/ieee13test2.xml\")\n",
    "rdf.libgraph.serialize(destination='./test_output/test13rdf_2.xml', format='xml')"
   ]
  },
  {
   "cell_type": "code",
   "execution_count": null,
   "metadata": {},
   "outputs": [],
   "source": [
    "## Distributed model test\n",
    "\n",
    "network = FeederModel(connection=rdf, container=feeder, distributed=True)\n",
    "for switch_area in network.distributed_areas:\n",
    "    test_get_all_edges(switch_area, cim)\n",
    "    for sec_area in switch_area.distributed_areas:\n",
    "        test_get_all_edges(sec_area, cim)\n"
   ]
  },
  {
   "cell_type": "code",
   "execution_count": null,
   "metadata": {},
   "outputs": [],
   "source": [
    "cim_profile = 'cimhub_2023'\n",
    "cim = importlib.import_module('cimgraph.data_profile.' + cim_profile)\n",
    "\n",
    "# RDFLib File Reader Connection\n",
    "params = ConnectionParameters(filename=\"./test_models/IEEE118_CIM.xml\", cim_profile='cimhub_2023', iec61970_301=8)\n",
    "rdf = RDFlibConnection(params)\n",
    "\n",
    "feeder_mrid = \"1783D2A8-1204-4781-A0B4-7A73A2FA6038\" #IEEE 118 Bus\"\n",
    "feeder = cim.ConnectivityNodeContainer(mRID = feeder_mrid)\n",
    "network = BusBranchModel(connection=rdf, container=feeder, distributed=False)\n",
    "test_get_all_edges(network, cim)"
   ]
  },
  {
   "cell_type": "code",
   "execution_count": null,
   "metadata": {},
   "outputs": [],
   "source": [
    "cim_profile = 'rc4_2021'\n",
    "cim = importlib.import_module('cimgraph.data_profile.' + cim_profile)\n",
    "\n",
    "# RDFLib File Reader Connection\n",
    "params = ConnectionParameters(filename=\"./test_models/maple10nodebreaker.xml\", cim_profile=cim_profile, iec61970_301=7)\n",
    "rdf = RDFlibConnection(params)\n",
    "\n",
    "feeder_mrid = \"_EE4C60AE-550D-4599-92F4-022DF3118B3C\"\n",
    "geo = cim.GeographicalRegion(mRID = feeder_mrid)\n",
    "network = NodeBreakerModel(connection=rdf, container=geo, distributed=True) \n",
    "\n",
    "for sr_area in network.distributed_areas[cim.SubGeographicalRegion].values():\n",
    "    print(\"subregion\", sr_area.container.name)\n",
    "    test_get_all_edges(sr_area, cim)\n",
    "    for sub_area in sr_area.distributed_areas[cim.Substation].values():\n",
    "        print(\"substation\", sub_area.container.name)\n",
    "        test_get_all_edges(sub_area, cim)\n",
    "        for vl_area in sub_area.distributed_areas[cim.VoltageLevel].values():\n",
    "            print(\"voltage level\", vl_area.container.name)\n",
    "            test_get_all_edges(vl_area, cim)\n",
    "        for feeder in sub_area.distributed_areas[cim.Feeder].values():\n",
    "            print(\"feeder\", feeder.container.name, feeder.container.mRID)\n",
    "            test_get_all_edges(feeder, cim)\n",
    "\n"
   ]
  },
  {
   "cell_type": "code",
   "execution_count": null,
   "metadata": {},
   "outputs": [],
   "source": [
    "network = NodeBreakerModel(connection=rdf, container=geo, distributed=False)\n",
    "\n",
    "utils.get_all_data(network)"
   ]
  },
  {
   "cell_type": "code",
   "execution_count": null,
   "metadata": {},
   "outputs": [],
   "source": []
  }
 ],
 "metadata": {
  "kernelspec": {
   "display_name": "Python 3",
   "language": "python",
   "name": "python3"
  },
  "language_info": {
   "codemirror_mode": {
    "name": "ipython",
    "version": 3
   },
   "file_extension": ".py",
   "mimetype": "text/x-python",
   "name": "python",
   "nbconvert_exporter": "python",
   "pygments_lexer": "ipython3",
   "version": "3.10.12"
  },
  "orig_nbformat": 4
 },
 "nbformat": 4,
 "nbformat_minor": 2
}
