{
 "cells": [
  {
   "cell_type": "code",
   "execution_count": 1,
   "metadata": {},
   "outputs": [],
   "source": [
    "# import cimgraph.data_profile.cimhub_ufls as cim"
   ]
  },
  {
   "cell_type": "code",
   "execution_count": 2,
   "metadata": {},
   "outputs": [],
   "source": [
    "import importlib\n",
    "# cim_profile = 'cimhub_2023'\n",
    "cim_profile = 'rc4_2021'\n",
    "# cim = importlib.import_module('cimgraph.data_profile.' + cim_profile)\n",
    "import cimgraph.data_profile.cim17v40 as cim"
   ]
  },
  {
   "cell_type": "code",
   "execution_count": 3,
   "metadata": {},
   "outputs": [],
   "source": [
    "from cimgraph.databases import ConnectionParameters\n",
    "from cimgraph.databases import RDFlibConnection\n",
    "from cimgraph.models import FeederModel\n",
    "from cimgraph.models import NodeBreakerModel\n",
    "from cimgraph.models import BusBranchModel\n",
    "# from test_get_all_edges import test_get_all_edges\n",
    "import cimgraph.utils as utils"
   ]
  },
  {
   "cell_type": "code",
   "execution_count": 4,
   "metadata": {},
   "outputs": [],
   "source": [
    "cim_profile = 'cimhub_2023'\n",
    "cim = importlib.import_module('cimgraph.data_profile.' + cim_profile)\n",
    "\n",
    "# RDFLib File Reader Connection\n",
    "params = ConnectionParameters(filename=\"./test_models/ieee13.xml\", cim_profile='cimhub_2023', iec61970_301=8)\n",
    "# params = ConnectionParameters(filename=\"./test_models/IEEE123.xml\", cim_profile='rc4_2021', iec61970_301=7)\n",
    "# params = ConnectionParameters(filename=None, cim_profile='cimhub_2023', iec61970_301=8)\n",
    "rdf = RDFlibConnection(params)\n",
    "\n",
    "feeder_mrid = \"49AD8E07-3BF9-A4E2-CB8F-C3722F837B62\"\n",
    "# feeder_mrid = \"_C1C3E687-6FFD-C753-582B-632A27E28507\" #123 node\n",
    "feeder = cim.Feeder(mRID = feeder_mrid)\n",
    "network = FeederModel(connection=rdf, container=feeder, distributed=False)\n",
    "# utils.get_all_data(network)\n",
    "# utils.write_xml(network, \"./test_output/ieee13test.xml\")\n",
    "# rdf.libgraph.serialize(destination='./test_output/test13rdf.xml', format='xml')"
   ]
  },
  {
   "cell_type": "code",
   "execution_count": 9,
   "metadata": {},
   "outputs": [
    {
     "data": {
      "text/plain": [
       "{cimgraph.data_profile.cimhub_2023.cimhub_2023.Feeder: {UUID('49ad8e07-3bf9-a4e2-cb8f-c3722f837b62'): {\"@id\": \"49ad8e07-3bf9-a4e2-cb8f-c3722f837b62\", \"@type\": \"Feeder\"}},\n",
       " cimgraph.data_profile.cimhub_2023.cimhub_2023.TransformerTank: {UUID('b6363f07-b1bc-420b-aa4c-a34bb8f05827'): {\"@id\": \"157660ff-fc3a-47b0-9d16-6b3ef228e73c\", \"@type\": \"TransformerTank\"},\n",
       "  UUID('17a934c7-1510-481f-bad7-189058957ff1'): {\"@id\": \"39d9d36d-8439-4011-84ac-3d4387a39e3c\", \"@type\": \"TransformerTank\"},\n",
       "  UUID('44fc5a86-a099-45b8-b847-f685c5027afb'): {\"@id\": \"70edeb01-1e48-4a17-a872-cf208993f81e\", \"@type\": \"TransformerTank\"},\n",
       "  UUID('e2e0fc64-8d45-4c55-bdb9-eab827a46fbc'): {\"@id\": \"13f97614-bc70-4ca6-af4d-578e631fa6bc\", \"@type\": \"TransformerTank\"}},\n",
       " cimgraph.data_profile.cimhub_2023.cimhub_2023.ACLineSegment: {UUID('0bbd0ea3-f665-465b-86fd-fc8b8466ad53'): {\"@id\": \"61e43d48-3d9d-415b-aa2c-590b1309e3bb\", \"@type\": \"ACLineSegment\"},\n",
       "  UUID('1c6781a2-5b9d-4525-8a9b-f9b32c4c4ac0'): {\"@id\": \"52a25de3-6d6d-4863-88ab-7a4f4449df5b\", \"@type\": \"ACLineSegment\"},\n",
       "  UUID('abf877d7-dac2-4bf0-ab58-9a8a02e92eb3'): {\"@id\": \"614a75e6-ef17-442a-a6ac-fa0b68f36c7f\", \"@type\": \"ACLineSegment\"},\n",
       "  UUID('8e180773-2a9b-4136-bc9a-132a52c8e276'): {\"@id\": \"0d8111f1-33b7-408e-812c-a49ced78bd3f\", \"@type\": \"ACLineSegment\"},\n",
       "  UUID('d34b0d01-b082-4081-a3cc-b68b9b8313a4'): {\"@id\": \"1d67e2cc-b02d-44cd-9a60-fe32d8d1515c\", \"@type\": \"ACLineSegment\"},\n",
       "  UUID('4c04f838-62aa-475e-aefa-a63b7c889c13'): {\"@id\": \"c6bee35c-47c1-4628-b0a8-61b4103f83a6\", \"@type\": \"ACLineSegment\"},\n",
       "  UUID('45395c84-f20a-4f5a-977f-b80348256421'): {\"@id\": \"fe7d20fc-6353-4c1f-8b25-9e4509006003\", \"@type\": \"ACLineSegment\"},\n",
       "  UUID('abf53597-a808-422a-b7ee-552f24d83a5f'): {\"@id\": \"018cc44e-6c9a-4878-90bd-8de2fddb7f10\", \"@type\": \"ACLineSegment\"},\n",
       "  UUID('7060d0bb-b30d-4932-8fa1-40820a0fc4d0'): {\"@id\": \"35eec66b-7075-45f3-aade-d10495577f38\", \"@type\": \"ACLineSegment\"},\n",
       "  UUID('a04cdfb1-e951-4fc4-8882-0323cd70ae3c'): {\"@id\": \"728b0a6f-4373-4445-ae1f-f660d6f1f26e\", \"@type\": \"ACLineSegment\"},\n",
       "  UUID('fbe26b35-13ab-457d-9795-df58b28e309d'): {\"@id\": \"2725e427-a406-4e24-8f00-3e2271dee13e\", \"@type\": \"ACLineSegment\"}},\n",
       " cimgraph.data_profile.cimhub_2023.cimhub_2023.ConnectivityNode: {UUID('0124e881-b82d-4206-bbdf-37d585159872'): {\"@id\": \"f46e7a02-788c-475d-857d-5418ad9cc4de\", \"@type\": \"ConnectivityNode\"},\n",
       "  UUID('04984c4d-cc29-477a-9af4-61ac7d74f16f'): {\"@id\": \"7483f15e-f379-4c54-8167-8b5ae11d1254\", \"@type\": \"ConnectivityNode\"},\n",
       "  UUID('0a98a62d-7642-4f03-8317-a8605cbdba37'): {\"@id\": \"23230d0d-8e51-4398-88dd-090ec9f8e9a0\", \"@type\": \"ConnectivityNode\"},\n",
       "  UUID('0dcc57af-f4fa-457d-bb24-2efda9865a1a'): {\"@id\": \"965851df-d270-48a9-95ed-1b96bf96a828\", \"@type\": \"ConnectivityNode\"},\n",
       "  UUID('0f1e28c3-6c44-4f88-b79c-2fdbca4487b2'): {\"@id\": \"20d7cdea-5b7c-4b53-be75-3864bb145bd0\", \"@type\": \"ConnectivityNode\"},\n",
       "  UUID('2a6dc4dd-d3dc-434d-a187-d2c58a0a72c8'): {\"@id\": \"2e4ab4b3-402c-4fc6-bab7-ab77a3483d59\", \"@type\": \"ConnectivityNode\"},\n",
       "  UUID('30be5988-de57-4e0c-ab08-50d5a13d2c1b'): {\"@id\": \"7e19ef71-5bfc-4223-a1a5-bd41406e01a6\", \"@type\": \"ConnectivityNode\"},\n",
       "  UUID('421e99be-a834-4809-b924-84d88f634a45'): {\"@id\": \"46168800-92ba-41a0-9b64-434a568b851b\", \"@type\": \"ConnectivityNode\"},\n",
       "  UUID('63dfbea0-cd06-4d2e-b956-df9517be057b'): {\"@id\": \"2ceca786-1343-4f94-832b-f95ceae84a25\", \"@type\": \"ConnectivityNode\"},\n",
       "  UUID('673e896a-dcbf-4e43-9924-beb31c5b6005'): {\"@id\": \"4017c005-3370-482b-8252-ef048371d9d8\", \"@type\": \"ConnectivityNode\"},\n",
       "  UUID('6cb5e5ce-2cd0-40cc-a979-b4f9ed05e49b'): {\"@id\": \"6a6facce-543d-4a0a-b6c6-77fc6e7e99a5\", \"@type\": \"ConnectivityNode\"},\n",
       "  UUID('76d6d03c-967c-4e12-836d-a98df3552bc7'): {\"@id\": \"df1cf6f7-e3a9-4176-acb4-c66079692583\", \"@type\": \"ConnectivityNode\"},\n",
       "  UUID('7beddadd-0a14-429f-8601-9ea8b892ca6e'): {\"@id\": \"6091eef4-ee79-490b-96ca-21ca95a0fddd\", \"@type\": \"ConnectivityNode\"},\n",
       "  UUID('8c58660f-c62c-4903-be72-22f1255b1e62'): {\"@id\": \"f7ab4bf7-3ed4-4f32-8c97-a8c1fdd9ff75\", \"@type\": \"ConnectivityNode\"},\n",
       "  UUID('8e99f99d-fe8f-420b-ac49-0b52df5362ab'): {\"@id\": \"96f1ef18-f61c-45b9-b966-544c10444fb5\", \"@type\": \"ConnectivityNode\"},\n",
       "  UUID('94f822e0-7130-4205-8597-b47110bbef4b'): {\"@id\": \"f38897ff-0369-4f41-9ad8-154d323b0e70\", \"@type\": \"ConnectivityNode\"},\n",
       "  UUID('a8a25b50-3ae3-4a31-a18b-b3fa13397ed3'): {\"@id\": \"17d4e2f4-057e-48c1-b30f-c3000e46b65b\", \"@type\": \"ConnectivityNode\"},\n",
       "  UUID('addb7a30-5a3c-4179-af5d-5c9a7213b0e7'): {\"@id\": \"3af94cec-b488-43fb-94b0-02af5358e6be\", \"@type\": \"ConnectivityNode\"},\n",
       "  UUID('c6256170-e6ed-4f91-8ebd-748090c3fdd5'): {\"@id\": \"693be615-43f3-4bad-b0bd-68247dd60333\", \"@type\": \"ConnectivityNode\"},\n",
       "  UUID('dbfa8efa-b397-40da-9642-60e8de4b3471'): {\"@id\": \"d57239fc-3704-4d9e-a39e-088ee38227db\", \"@type\": \"ConnectivityNode\"},\n",
       "  UUID('dc889fa5-7b28-4273-a1d7-205be3e0bfed'): {\"@id\": \"48991916-9b98-4fff-a2cd-22bb7a892cd3\", \"@type\": \"ConnectivityNode\"},\n",
       "  UUID('e5b2888b-b60d-4da6-a4f7-17eb849d28b2'): {\"@id\": \"f770bc54-4736-44be-b246-495f9b7a066b\", \"@type\": \"ConnectivityNode\"}},\n",
       " cimgraph.data_profile.cimhub_2023.cimhub_2023.Terminal: {UUID('f3c0f2d0-4d28-49b5-a920-37409b99229d'): {\"@id\": \"29897912-5580-4c21-94e0-c10fa45c5e95\", \"@type\": \"Terminal\"},\n",
       "  UUID('4891537f-4088-48f5-9b1a-8294d50901e4'): {\"@id\": \"b1af5e5d-3dae-4108-9d60-a8bc0b940cb7\", \"@type\": \"Terminal\"},\n",
       "  UUID('15298d41-d5e5-464f-a96d-01ffcf0da7db'): {\"@id\": \"99585460-eb31-4666-9903-cd2019c1dd15\", \"@type\": \"Terminal\"},\n",
       "  UUID('f6ce3095-9089-4b61-9c13-c7647adba888'): {\"@id\": \"12b9a57c-71c8-446a-9305-b6e40210c2a1\", \"@type\": \"Terminal\"},\n",
       "  UUID('8e29ba3d-9523-446f-bd9f-989d8182a723'): {\"@id\": \"589971f2-7c4d-424f-8ca5-751306a65591\", \"@type\": \"Terminal\"},\n",
       "  UUID('a4b4c25c-8744-4b8b-a612-19b80afa110d'): {\"@id\": \"9b84f663-fa8f-4a8c-95eb-caf8310805f9\", \"@type\": \"Terminal\"},\n",
       "  UUID('337f7a56-c530-4f05-8586-940e8460993a'): {\"@id\": \"1b244ef2-c9b7-41fd-ad01-fd6f5aef386f\", \"@type\": \"Terminal\"},\n",
       "  UUID('2128bb42-3e2d-490a-a29d-05549e81f25d'): {\"@id\": \"76537899-a172-4105-a0e9-777b5475167c\", \"@type\": \"Terminal\"},\n",
       "  UUID('9d06670e-f8ad-46a1-9854-bba7adaf1cf0'): {\"@id\": \"aa79d757-650a-4db2-a486-9c9277608b53\", \"@type\": \"Terminal\"},\n",
       "  UUID('a55ac772-d3f2-48af-8c84-e80f43198c72'): {\"@id\": \"08f5ed76-0848-486c-b87a-b2b8e27c7524\", \"@type\": \"Terminal\"},\n",
       "  UUID('272d015c-a83b-457c-8109-5e78e92cb6e4'): {\"@id\": \"50d6e0e2-e641-4e70-a6c4-f8e49ee91362\", \"@type\": \"Terminal\"},\n",
       "  UUID('c61a2238-fe09-4406-b172-26cb9f145db1'): {\"@id\": \"0b467c04-3eed-4491-9442-3e46b13663de\", \"@type\": \"Terminal\"},\n",
       "  UUID('a13ee73d-da09-44d8-9008-7d842f18cb48'): {\"@id\": \"ef91afd3-78c8-4c21-93da-9ff56c69b1a0\", \"@type\": \"Terminal\"},\n",
       "  UUID('90d2243e-05d4-432c-a23b-a6b8d732b027'): {\"@id\": \"656db81a-bd31-4369-a462-ff0abcd6111d\", \"@type\": \"Terminal\"},\n",
       "  UUID('e1763fe3-82c2-4434-9424-72df850d982e'): {\"@id\": \"543ebb93-8328-4f02-b09d-e3d83e7d216f\", \"@type\": \"Terminal\"},\n",
       "  UUID('d0ba8e68-f269-4382-b1d0-8ea25663c9aa'): {\"@id\": \"a76dbfb6-ceed-4fca-932c-da691b1832ec\", \"@type\": \"Terminal\"},\n",
       "  UUID('8692a804-428a-4637-bd47-69c76f873dab'): {\"@id\": \"a0780efb-76ae-4ee7-b88a-981e51f514a3\", \"@type\": \"Terminal\"},\n",
       "  UUID('02217298-ad5b-463c-a912-957740214701'): {\"@id\": \"181af5b6-ac98-4d5c-b78c-750338a8f61d\", \"@type\": \"Terminal\"},\n",
       "  UUID('02ae202b-d91b-4ead-8ec9-3b87bdd67c8b'): {\"@id\": \"d81472fd-68ac-468f-b5b6-3ee9466d34f7\", \"@type\": \"Terminal\"},\n",
       "  UUID('ea5ff2c4-f7e1-436d-bdec-1c48d4dbb50d'): {\"@id\": \"e3b93089-b276-4389-92f0-37bdf515c013\", \"@type\": \"Terminal\"},\n",
       "  UUID('a4c58654-2972-4a3e-ae65-3868941da037'): {\"@id\": \"2b22ed00-4b2a-4524-a80b-52ebac58e79a\", \"@type\": \"Terminal\"},\n",
       "  UUID('8be8d3ea-eee9-406c-b24c-b169c8ec799a'): {\"@id\": \"dcd9d7e4-4f97-413a-9f2f-ffbd9621387f\", \"@type\": \"Terminal\"},\n",
       "  UUID('092a5199-db5e-419e-adcf-53b290efab2c'): {\"@id\": \"ee6d22da-f9ea-446b-8106-78f261e8db7d\", \"@type\": \"Terminal\"},\n",
       "  UUID('f1d6c919-22fa-4e94-81b1-36823f5a9ff5'): {\"@id\": \"807b9430-eee0-4f64-997e-0b9c2d4860a4\", \"@type\": \"Terminal\"},\n",
       "  UUID('f3a001ba-c6be-450e-b572-b6d5819808ea'): {\"@id\": \"eea312db-466d-4b3d-891f-fbfcc4324ed3\", \"@type\": \"Terminal\"},\n",
       "  UUID('5edb2918-d669-457c-9f44-e08eba5ac850'): {\"@id\": \"7e3cbfb8-a3dd-4af2-bda8-24f062cd43af\", \"@type\": \"Terminal\"},\n",
       "  UUID('dd4717b2-5fcd-4e67-9bc8-dd307b80afea'): {\"@id\": \"06411fe1-7796-4d44-8d60-cf288d865384\", \"@type\": \"Terminal\"},\n",
       "  UUID('02a67d2e-58ff-4cab-9a85-4346e9e08f1b'): {\"@id\": \"baab8aa7-5eed-4e68-87ea-f8d1a255986c\", \"@type\": \"Terminal\"},\n",
       "  UUID('cd147977-45b7-48ad-9f72-4f488bd6ad6d'): {\"@id\": \"ffda8082-20d2-4105-b419-80a4c049bb54\", \"@type\": \"Terminal\"},\n",
       "  UUID('72362309-a950-40bc-a38c-e08e1ad53477'): {\"@id\": \"fa59866d-ceb4-4cb1-be2e-c483f8d52af8\", \"@type\": \"Terminal\"},\n",
       "  UUID('5b38070b-e918-4eaa-8bdb-8b3ce4f8a917'): {\"@id\": \"1016d77f-e052-4f0d-b28e-c59e5cd9e033\", \"@type\": \"Terminal\"},\n",
       "  UUID('0a29aef0-5f49-47ae-a413-9308aa61b72b'): {\"@id\": \"5fc14f8b-d5b1-4b2f-9332-b18fdba7e201\", \"@type\": \"Terminal\"},\n",
       "  UUID('f5258b9a-b51e-40dd-9a06-5918e41f3c35'): {\"@id\": \"663b0c91-e30f-44d8-aff1-0f54de4aa689\", \"@type\": \"Terminal\"},\n",
       "  UUID('02cd5661-c654-43f6-8d1a-0d666070bb81'): {\"@id\": \"ddb4f5ee-e6e1-428a-90ed-8c360092bcb2\", \"@type\": \"Terminal\"},\n",
       "  UUID('5a1120ee-0f2a-4698-9ff5-0f0f4f507baf'): {\"@id\": \"6b058e98-2797-423c-94b8-604ec1e0386e\", \"@type\": \"Terminal\"},\n",
       "  UUID('000ba1f2-6879-47d7-826d-3cacd23ee20b'): {\"@id\": \"a0651fa7-c6c0-4b01-8ad9-32294b70b4fc\", \"@type\": \"Terminal\"},\n",
       "  UUID('a563a3a5-ea39-4998-96b2-538227e2d2f6'): {\"@id\": \"81edd4ee-65f6-47c5-8e09-04d1a2eec4a0\", \"@type\": \"Terminal\"},\n",
       "  UUID('ebaef4a4-5d80-4fad-a133-aa18607f3c31'): {\"@id\": \"3dff2942-e8ec-4aac-bcb0-072a3f7b15c9\", \"@type\": \"Terminal\"},\n",
       "  UUID('a6c57c2e-a084-4701-adf5-fb6f3e36f45c'): {\"@id\": \"161c19fd-8b76-4556-8976-b7c71b6eccae\", \"@type\": \"Terminal\"},\n",
       "  UUID('3589a9be-f3be-45c3-b84e-3ce5b6105d11'): {\"@id\": \"530a05e8-450c-4dcf-b239-f577ad0f2182\", \"@type\": \"Terminal\"},\n",
       "  UUID('ff3de145-0066-4c1f-867c-2a2bf3012edf'): {\"@id\": \"bda2e76e-50c1-4120-aefb-9544c0105bd3\", \"@type\": \"Terminal\"},\n",
       "  UUID('bb0411d7-5261-433d-b327-549da536eeec'): {\"@id\": \"1eb942e2-01c6-4abc-8074-84ce9430daa6\", \"@type\": \"Terminal\"},\n",
       "  UUID('1d81c7fe-e88f-41e3-a900-476ca6476ccd'): {\"@id\": \"41170ac7-df88-4fb1-85ab-7d2e92eab73d\", \"@type\": \"Terminal\"},\n",
       "  UUID('d02b9e99-3557-48f5-b475-4871e47d08f6'): {\"@id\": \"8f0a77ff-ea0e-4415-b43d-8ea1c7f1437e\", \"@type\": \"Terminal\"},\n",
       "  UUID('579a122e-a262-4830-88c6-1addb81761b1'): {\"@id\": \"3d14f49d-5aef-468a-8514-1b3546924c66\", \"@type\": \"Terminal\"},\n",
       "  UUID('bc623628-bd23-4a1a-a406-15ca63556149'): {\"@id\": \"adf3fb7d-2f31-4e14-ad60-03f95dcbda6d\", \"@type\": \"Terminal\"},\n",
       "  UUID('8f517dfe-d985-4d24-8339-96fa2a789e88'): {\"@id\": \"1e0e6677-0120-466e-bb03-960b7f952953\", \"@type\": \"Terminal\"},\n",
       "  UUID('3313c5a7-ed81-47d3-8114-ad654a5de21b'): {\"@id\": \"ce0d89f9-f174-42a6-916a-f48eb6454c68\", \"@type\": \"Terminal\"},\n",
       "  UUID('f8856652-20fb-4760-874d-3d785e91a83e'): {\"@id\": \"151ea3ba-163a-41ce-b6b3-00c30f7c36fe\", \"@type\": \"Terminal\"},\n",
       "  UUID('9ac596a8-d859-48f3-a286-d2533f9b9733'): {\"@id\": \"e4691553-4be5-469c-a8e3-f93833a83337\", \"@type\": \"Terminal\"},\n",
       "  UUID('ec150da0-864e-4c61-b681-3cf27ab27b82'): {\"@id\": \"838bf26b-b5b2-4b67-8d72-3a6406751bb9\", \"@type\": \"Terminal\"},\n",
       "  UUID('2847e06b-c8ed-41e6-b515-c61c9e8eb4b4'): {\"@id\": \"ef86367e-b06a-4db4-a1a7-9bd84363b05c\", \"@type\": \"Terminal\"},\n",
       "  UUID('f9439a87-d8e9-406f-add3-336b29b8bcea'): {\"@id\": \"d24c9a78-ef42-4131-a814-941591831fc3\", \"@type\": \"Terminal\"},\n",
       "  UUID('717dfb1a-a300-444d-8d3b-0a093eaad47b'): {\"@id\": \"34cd0dab-e70f-46d2-bf53-fc8c13678848\", \"@type\": \"Terminal\"},\n",
       "  UUID('d1cf8d27-7793-45fd-ba55-addb77afed1e'): {\"@id\": \"f05fe195-cad7-4dc6-8b45-9122f9a93d67\", \"@type\": \"Terminal\"},\n",
       "  UUID('af475341-bbe8-4c30-a30e-b6ebe9768322'): {\"@id\": \"0a8fbbe3-aa95-4f1c-b34e-b582723a6754\", \"@type\": \"Terminal\"},\n",
       "  UUID('3621713b-852e-4f95-8586-2d55313ed673'): {\"@id\": \"1a5464ac-be43-42c0-8d31-4e31f8e45271\", \"@type\": \"Terminal\"},\n",
       "  UUID('f0e10483-d8ad-46be-af5f-08228955796b'): {\"@id\": \"14cabc81-2d17-425e-814b-13fc3c2ead9b\", \"@type\": \"Terminal\"},\n",
       "  UUID('2f5c9d9b-8cc5-4636-8bc8-2ac78f01f5bc'): {\"@id\": \"562f9d8a-36f8-491f-98f6-b4cbd2560463\", \"@type\": \"Terminal\"},\n",
       "  UUID('fd3834ff-6c3b-434f-a41d-77eb8237f53d'): {\"@id\": \"7d1ad7d8-d894-418f-b4a2-5d7a3b8c0070\", \"@type\": \"Terminal\"},\n",
       "  UUID('233304a2-b68b-4ec3-a692-4735de495569'): {\"@id\": \"85438237-f1e6-49ed-9baa-c8352c486671\", \"@type\": \"Terminal\"},\n",
       "  UUID('eef69c71-5a87-4378-8df4-4578635c81b4'): {\"@id\": \"65b22dba-a9f6-49b0-a6f0-a7190ef5604c\", \"@type\": \"Terminal\"},\n",
       "  UUID('b554744a-f5b5-485c-b67e-2487a8740295'): {\"@id\": \"85e38fbb-fb3e-47bf-aef0-3b4709dadb69\", \"@type\": \"Terminal\"},\n",
       "  UUID('83481773-e9fc-4720-89b4-796c5081d518'): {\"@id\": \"cb18d81f-95ff-407d-a631-ae116bf55169\", \"@type\": \"Terminal\"},\n",
       "  UUID('f421b562-1af9-42c1-8906-d80caba91fc4'): {\"@id\": \"def1c53e-fd74-4d59-b574-0c4c52bc8f59\", \"@type\": \"Terminal\"},\n",
       "  UUID('ccc4e540-46cc-422c-98da-32898fd31637'): {\"@id\": \"e1a4e135-4d21-4a4c-b547-9e7f6f543bb3\", \"@type\": \"Terminal\"},\n",
       "  UUID('8c674f14-d9ff-4b1c-b246-1235022cd4c2'): {\"@id\": \"a051654d-cdcf-49ac-83a5-826810495486\", \"@type\": \"Terminal\"},\n",
       "  UUID('169cb0d6-0002-457f-9594-7feb09da102d'): {\"@id\": \"15c2ce44-b1e4-4931-8d96-d8a5f297b7e9\", \"@type\": \"Terminal\"},\n",
       "  UUID('b4e1784c-5500-47ae-958b-a286ce8c17a5'): {\"@id\": \"ed9db99f-79d8-4169-ada4-330e0f183b08\", \"@type\": \"Terminal\"},\n",
       "  UUID('9ca4064a-aacd-49db-9296-7adc7e195358'): {\"@id\": \"d51be1c7-a2af-40c9-a484-d73eef754096\", \"@type\": \"Terminal\"}},\n",
       " cimgraph.data_profile.cimhub_2023.cimhub_2023.EnergyConsumer: {UUID('47e52220-4596-4af0-9724-0167b72a4db8'): {\"@id\": \"1ab84a53-5d8a-4439-b499-66988093ecac\", \"@type\": \"EnergyConsumer\"},\n",
       "  UUID('32f02d2b-ee6e-4d3f-8486-1b5caef70204'): {\"@id\": \"65a237f4-a880-40fa-8cdf-bd73d715f0dc\", \"@type\": \"EnergyConsumer\"},\n",
       "  UUID('b21c5599-1d00-4fcf-904b-58d9d4cac49a'): {\"@id\": \"8344fe4f-a22e-4c99-9c0c-b82638659602\", \"@type\": \"EnergyConsumer\"},\n",
       "  UUID('3b2021a7-4bfc-418d-9c20-bd6838e52cf8'): {\"@id\": \"05045bbc-d852-443d-854d-a850b605c60b\", \"@type\": \"EnergyConsumer\"},\n",
       "  UUID('c39149de-3451-4d33-b4c2-b1e6c6fc9aab'): {\"@id\": \"e0bf82e2-656d-4abf-914d-6c2023ffedf5\", \"@type\": \"EnergyConsumer\"},\n",
       "  UUID('572bcfc9-e1d6-4419-9a33-edd284806af3'): {\"@id\": \"7f2eb476-2c38-4d86-a4c9-7162114e22f8\", \"@type\": \"EnergyConsumer\"},\n",
       "  UUID('e26d83a0-d29d-41ef-9528-02c882ffcc0d'): {\"@id\": \"05cfd6b7-e032-499a-b096-b5a7e6f3e743\", \"@type\": \"EnergyConsumer\"},\n",
       "  UUID('9caaf741-be1e-4893-8044-1e507b7ddc38'): {\"@id\": \"9914ae1a-8b99-485b-97ff-2de48b49599f\", \"@type\": \"EnergyConsumer\"},\n",
       "  UUID('3fffb3f7-a7af-49e1-acee-449fc73d3cd6'): {\"@id\": \"6c9e33ae-9553-492b-9470-4aa597b0e495\", \"@type\": \"EnergyConsumer\"},\n",
       "  UUID('8e34333c-2bb8-4631-b072-383f1ca38f60'): {\"@id\": \"58dcdc60-2d57-425b-a192-56b57e3b9c34\", \"@type\": \"EnergyConsumer\"},\n",
       "  UUID('0bc9183a-9067-4e06-aa5b-48dc2ab30c80'): {\"@id\": \"0fa50d55-4056-4c4e-a8ac-94cb24db9f20\", \"@type\": \"EnergyConsumer\"},\n",
       "  UUID('60b55036-dd71-40ce-adda-97b8ce7447dc'): {\"@id\": \"17e42b0a-f89f-4fdb-b0d2-61a8cc835e95\", \"@type\": \"EnergyConsumer\"},\n",
       "  UUID('91a37b4c-c38b-4269-8467-f40870934386'): {\"@id\": \"566fe667-b2dd-4592-a2f7-17534ba430ce\", \"@type\": \"EnergyConsumer\"},\n",
       "  UUID('e503bbf8-3c82-4df7-b6e9-2488ecfcc847'): {\"@id\": \"fb94e1f0-2964-45de-85d4-54e98300d845\", \"@type\": \"EnergyConsumer\"},\n",
       "  UUID('70188ff4-04f0-48d2-8706-698d1fd086e6'): {\"@id\": \"20701222-146d-4184-88cb-6a44fd737596\", \"@type\": \"EnergyConsumer\"},\n",
       "  UUID('8ca46f28-84c0-4fe2-b228-ec4080777865'): {\"@id\": \"13d5bd48-1063-44ba-829e-51e62a072739\", \"@type\": \"EnergyConsumer\"}},\n",
       " cimgraph.data_profile.cimhub_2023.cimhub_2023.PowerTransformer: {UUID('259e820f-b4af-4e1a-8271-687534edaecc'): {\"@id\": \"4e5f750f-0587-4771-8fa9-09094bb523da\", \"@type\": \"PowerTransformer\"},\n",
       "  UUID('7ff12cef-1c4d-4cd2-8fcc-662530a7ba33'): {\"@id\": \"4a17a631-ee1a-4d43-b7eb-184af9647779\", \"@type\": \"PowerTransformer\"},\n",
       "  UUID('1e6b5c97-c4e8-4ced-b9a5-6e69f389da93'): {\"@id\": \"963ad9d2-6bb7-46b0-8cc7-45fb4a93e22a\", \"@type\": \"PowerTransformer\"},\n",
       "  UUID('67b57539-590b-4158-9cbb-9dba2fe6c1f0'): {\"@id\": \"dda26e15-c547-4ad5-afa3-51797a01c638\", \"@type\": \"PowerTransformer\"}},\n",
       " cimgraph.data_profile.cimhub_2023.cimhub_2023.PowerElectronicsConnection: {UUID('682ab7a9-4fbf-4204-bde1-27eab3425da0'): {\"@id\": \"764c0df8-163d-4f3b-a964-30dfefe142dc\", \"@type\": \"PowerElectronicsConnection\"},\n",
       "  UUID('cec0fc3a-0fd1-4f1c-9c51-7d9bef4d8222'): {\"@id\": \"19dc0ab4-1cfe-4370-9c87-7f16a3a04f66\", \"@type\": \"PowerElectronicsConnection\"},\n",
       "  UUID('d2e930a7-b136-4aca-a996-8db5c60aadf3'): {\"@id\": \"35ed78e1-233c-4bef-94da-81d517b1a791\", \"@type\": \"PowerElectronicsConnection\"},\n",
       "  UUID('a9e8758b-5486-4798-8fba-9ae639abfc38'): {\"@id\": \"74ce1830-9f9a-4b76-92df-e707491d42e0\", \"@type\": \"PowerElectronicsConnection\"},\n",
       "  UUID('7b671984-4c56-4ff1-9733-b4b6fca5f2aa'): {\"@id\": \"1fce82c1-b1c3-40f7-93b7-bb5a93fb7959\", \"@type\": \"PowerElectronicsConnection\"}},\n",
       " cimgraph.data_profile.cimhub_2023.cimhub_2023.LoadBreakSwitch: {UUID('2858b6c2-0886-4269-884c-06fa8b887319'): {\"@id\": \"25c67767-fc7c-433b-8b13-6cb302c31a4d\", \"@type\": \"LoadBreakSwitch\"},\n",
       "  UUID('517413cb-6977-46fa-8911-c82332e42884'): {\"@id\": \"4d012add-0460-4528-ab2e-4e5d671b06d0\", \"@type\": \"LoadBreakSwitch\"}},\n",
       " cimgraph.data_profile.cimhub_2023.cimhub_2023.Recloser: {UUID('ce5d0651-676b-4af3-8d67-41bf1b33e30c'): {\"@id\": \"92af1737-c3a5-454a-9439-dedde850a94e\", \"@type\": \"Recloser\"}},\n",
       " cimgraph.data_profile.cimhub_2023.cimhub_2023.LinearShuntCompensator: {UUID('a9de8829-58cb-4750-b2a2-672846a89753'): {\"@id\": \"9ebaf486-d014-465e-92a0-ab99be882d2e\", \"@type\": \"LinearShuntCompensator\"},\n",
       "  UUID('9d725810-bfd6-44c6-961a-2bc027f6fc95'): {\"@id\": \"87a719cc-46e6-4b99-ba19-1aaa04d64583\", \"@type\": \"LinearShuntCompensator\"}},\n",
       " cimgraph.data_profile.cimhub_2023.cimhub_2023.Breaker: {UUID('52de9189-20dc-4c73-bdee-e960fe1f9493'): {\"@id\": \"ba487837-d095-4b5b-a23b-c10274092898\", \"@type\": \"Breaker\"}},\n",
       " cimgraph.data_profile.cimhub_2023.cimhub_2023.EnergySource: {UUID('8b452737-ca3d-4c10-a99d-6865506437c8'): {\"@id\": \"c2fe1a63-cc15-4dfa-a1de-dd7c7d77132c\", \"@type\": \"EnergySource\"}},\n",
       " cimgraph.data_profile.cimhub_2023.cimhub_2023.Fuse: {UUID('43ef8365-f932-409b-a51e-fbed3f6dffaa'): {\"@id\": \"ae711fc1-c7a3-4f84-8c29-527185b9c7f9\", \"@type\": \"Fuse\"}}}"
      ]
     },
     "execution_count": 9,
     "metadata": {},
     "output_type": "execute_result"
    }
   ],
   "source": [
    "network.graph"
   ]
  },
  {
   "cell_type": "code",
   "execution_count": 11,
   "metadata": {},
   "outputs": [
    {
     "name": "stdout",
     "output_type": "stream",
     "text": [
      "\n",
      "        PREFIX r:  <http://www.w3.org/1999/02/22-rdf-syntax-ns#>\n",
      "        PREFIX cim:  <http://iec.ch/TC57/CIM100#>\n",
      "        SELECT DISTINCT ?identifier ?attribute ?value ?edge\n",
      "        WHERE {\n",
      "          \n",
      "    VALUES ?identifier { \"259E820F-B4AF-4E1A-8271-687534EDAECC\" \n",
      " \"7FF12CEF-1C4D-4CD2-8FCC-662530A7BA33\" \n",
      " \"1E6B5C97-C4E8-4CED-B9A5-6E69F389DA93\" \n",
      " \"67B57539-590B-4158-9CBB-9DBA2FE6C1F0\" \n",
      "               }\n",
      "        bind(iri(concat(\"urn:uuid:\", ?identifier)) as ?eq)\n",
      "\n",
      "        ?eq r:type cim:PowerTransformer.\n",
      "\n",
      "        {?eq (cim:|!cim:) ?val.\n",
      "         ?eq ?attr ?val.}\n",
      "        UNION\n",
      "        {?val (cim:|!cim:) ?eq.\n",
      "         ?val ?attr ?eq.}\n",
      "\n",
      "        {bind(strafter(str(?attr),\"#\") as ?attribute)}\n",
      "        {bind(strafter(str(?val),\"urn:uuid:\") as ?uri)}\n",
      "        {bind(if(?uri = \"\", ?val, ?uri) as ?value)}\n",
      "\n",
      "        OPTIONAL {?val a ?classraw.\n",
      "                  bind(strafter(str(?classraw),\"http://iec.ch/TC57/CIM100#\") as ?edge_class)\n",
      "                  {bind(strafter(str(?val),\"urn:uuid:\") as ?uri)}\n",
      "\n",
      "                  bind(concat(\"{\\\"@id\\\":\\\"\", ?uri,\"\\\",\\\"@type\\\":\\\"\", ?edge_class, \"\\\"}\") as ?edge)}\n",
      "        }\n",
      "\n",
      "        ORDER by  ?identifier ?attribute\n",
      "        \n"
     ]
    }
   ],
   "source": [
    "print(network.get_edges_query(cim.PowerTransformer))"
   ]
  },
  {
   "cell_type": "code",
   "execution_count": null,
   "metadata": {},
   "outputs": [
    {
     "name": "stdout",
     "output_type": "stream",
     "text": [
      "(rdflib.term.Literal('1E6B5C97-C4E8-4CED-B9A5-6E69F389DA93', datatype=rdflib.term.URIRef('http://www.w3.org/2001/XMLSchema#string')), None, None, None)\n",
      "(rdflib.term.Literal('259E820F-B4AF-4E1A-8271-687534EDAECC', datatype=rdflib.term.URIRef('http://www.w3.org/2001/XMLSchema#string')), None, None, None)\n",
      "(rdflib.term.Literal('67B57539-590B-4158-9CBB-9DBA2FE6C1F0', datatype=rdflib.term.URIRef('http://www.w3.org/2001/XMLSchema#string')), None, None, None)\n",
      "(rdflib.term.Literal('7FF12CEF-1C4D-4CD2-8FCC-662530A7BA33', datatype=rdflib.term.URIRef('http://www.w3.org/2001/XMLSchema#string')), None, None, None)\n"
     ]
    }
   ],
   "source": [
    "output = rdf.execute(network.get_edges_query(cim.PowerTransformer))\n",
    "for result in output:\n",
    "    print(result)"
   ]
  },
  {
   "cell_type": "code",
   "execution_count": 5,
   "metadata": {},
   "outputs": [
    {
     "ename": "TypeError",
     "evalue": "argument of type 'NoneType' is not iterable",
     "output_type": "error",
     "traceback": [
      "\u001b[0;31m---------------------------------------------------------------------------\u001b[0m",
      "\u001b[0;31mTypeError\u001b[0m                                 Traceback (most recent call last)",
      "Cell \u001b[0;32mIn[5], line 1\u001b[0m\n\u001b[0;32m----> 1\u001b[0m \u001b[43mnetwork\u001b[49m\u001b[38;5;241;43m.\u001b[39;49m\u001b[43mget_all_edges\u001b[49m\u001b[43m(\u001b[49m\u001b[43mcim\u001b[49m\u001b[38;5;241;43m.\u001b[39;49m\u001b[43mPowerTransformer\u001b[49m\u001b[43m)\u001b[49m\n\u001b[1;32m      2\u001b[0m network\u001b[38;5;241m.\u001b[39mget_all_edges(cim\u001b[38;5;241m.\u001b[39mTransformerTank)\n\u001b[1;32m      3\u001b[0m network\u001b[38;5;241m.\u001b[39mget_all_edges(cim\u001b[38;5;241m.\u001b[39mPowerTransformerEnd)\n",
      "File \u001b[0;32m~/CIM-Graph/cimgraph/models/graph_model.py:146\u001b[0m, in \u001b[0;36mGraphModel.get_all_edges\u001b[0;34m(self, cim_class, graph)\u001b[0m\n\u001b[1;32m    144\u001b[0m     graph \u001b[38;5;241m=\u001b[39m \u001b[38;5;28mself\u001b[39m\u001b[38;5;241m.\u001b[39mgraph\n\u001b[1;32m    145\u001b[0m \u001b[38;5;28;01mif\u001b[39;00m cim_class \u001b[38;5;129;01min\u001b[39;00m graph:\n\u001b[0;32m--> 146\u001b[0m     \u001b[38;5;28;43mself\u001b[39;49m\u001b[38;5;241;43m.\u001b[39;49m\u001b[43mconnection\u001b[49m\u001b[38;5;241;43m.\u001b[39;49m\u001b[43mget_all_edges\u001b[49m\u001b[43m(\u001b[49m\u001b[43mgraph\u001b[49m\u001b[43m,\u001b[49m\u001b[43m \u001b[49m\u001b[43mcim_class\u001b[49m\u001b[43m)\u001b[49m\n\u001b[1;32m    147\u001b[0m \u001b[38;5;28;01melse\u001b[39;00m:\n\u001b[1;32m    148\u001b[0m     _log\u001b[38;5;241m.\u001b[39minfo(\u001b[38;5;124m'\u001b[39m\u001b[38;5;124mno instances of \u001b[39m\u001b[38;5;124m'\u001b[39m \u001b[38;5;241m+\u001b[39m \u001b[38;5;28mstr\u001b[39m(cim_class\u001b[38;5;241m.\u001b[39m\u001b[38;5;18m__name__\u001b[39m) \u001b[38;5;241m+\u001b[39m\n\u001b[1;32m    149\u001b[0m               \u001b[38;5;124m'\u001b[39m\u001b[38;5;124m found in graph.\u001b[39m\u001b[38;5;124m'\u001b[39m)\n",
      "File \u001b[0;32m~/CIM-Graph/cimgraph/databases/rdflib/rdflib.py:130\u001b[0m, in \u001b[0;36mRDFlibConnection.get_all_edges\u001b[0;34m(self, graph, cim_class)\u001b[0m\n\u001b[1;32m    128\u001b[0m \u001b[38;5;66;03m#execute sparql query\u001b[39;00m\n\u001b[1;32m    129\u001b[0m query_output \u001b[38;5;241m=\u001b[39m \u001b[38;5;28mself\u001b[39m\u001b[38;5;241m.\u001b[39mexecute(sparql_message)\n\u001b[0;32m--> 130\u001b[0m \u001b[38;5;28;43mself\u001b[39;49m\u001b[38;5;241;43m.\u001b[39;49m\u001b[43medge_query_parser\u001b[49m\u001b[43m(\u001b[49m\u001b[43mquery_output\u001b[49m\u001b[43m,\u001b[49m\u001b[43m \u001b[49m\u001b[43mgraph\u001b[49m\u001b[43m,\u001b[49m\u001b[43m \u001b[49m\u001b[43mcim_class\u001b[49m\u001b[43m)\u001b[49m\n",
      "File \u001b[0;32m~/CIM-Graph/cimgraph/databases/rdflib/rdflib.py:149\u001b[0m, in \u001b[0;36mRDFlibConnection.edge_query_parser\u001b[0;34m(self, query_output, graph, cim_class, expand_graph)\u001b[0m\n\u001b[1;32m    145\u001b[0m \u001b[38;5;28;01mdef\u001b[39;00m \u001b[38;5;21medge_query_parser\u001b[39m(\u001b[38;5;28mself\u001b[39m, query_output: QueryResponse,\n\u001b[1;32m    146\u001b[0m                       graph: \u001b[38;5;28mdict\u001b[39m[\u001b[38;5;28mtype\u001b[39m, \u001b[38;5;28mdict\u001b[39m[UUID, \u001b[38;5;28mobject\u001b[39m]],\n\u001b[1;32m    147\u001b[0m                       cim_class: \u001b[38;5;28mtype\u001b[39m, expand_graph \u001b[38;5;241m=\u001b[39m \u001b[38;5;28;01mTrue\u001b[39;00m) \u001b[38;5;241m-\u001b[39m\u001b[38;5;241m>\u001b[39m \u001b[38;5;28;01mNone\u001b[39;00m:\n\u001b[1;32m    148\u001b[0m     \u001b[38;5;28;01mfor\u001b[39;00m result \u001b[38;5;129;01min\u001b[39;00m query_output:\n\u001b[0;32m--> 149\u001b[0m         \u001b[38;5;28;01mif\u001b[39;00m \u001b[38;5;124;43m'\u001b[39;49m\u001b[38;5;124;43mtype\u001b[39;49m\u001b[38;5;124;43m'\u001b[39;49m\u001b[43m \u001b[49m\u001b[38;5;129;43;01mnot\u001b[39;49;00m\u001b[43m \u001b[49m\u001b[38;5;129;43;01min\u001b[39;49;00m\u001b[43m \u001b[49m\u001b[43mresult\u001b[49m\u001b[38;5;241;43m.\u001b[39;49m\u001b[43mattribute\u001b[49m \u001b[38;5;129;01mand\u001b[39;00m result\u001b[38;5;241m.\u001b[39mattribute \u001b[38;5;129;01mis\u001b[39;00m \u001b[38;5;129;01mnot\u001b[39;00m \u001b[38;5;28;01mNone\u001b[39;00m:  \u001b[38;5;66;03m#skip 'type' and other single attributes\u001b[39;00m\n\u001b[1;32m    151\u001b[0m             is_association \u001b[38;5;241m=\u001b[39m \u001b[38;5;28;01mFalse\u001b[39;00m\n\u001b[1;32m    152\u001b[0m             is_enumeration \u001b[38;5;241m=\u001b[39m \u001b[38;5;28;01mFalse\u001b[39;00m\n",
      "\u001b[0;31mTypeError\u001b[0m: argument of type 'NoneType' is not iterable"
     ]
    }
   ],
   "source": [
    "network.get_all_edges(cim.PowerTransformer)\n",
    "network.get_all_edges(cim.TransformerTank)\n",
    "network.get_all_edges(cim.PowerTransformerEnd)\n",
    "for tank in network.graph[cim.PowerTransformer].values():\n",
    "    print(\"end0\", tank.PowerTransformerEnd[0].Terminal.mRID)\n",
    "    # print(\"end1\", tank.PowerTransformerEnd[1].Terminal.mRID)"
   ]
  },
  {
   "cell_type": "code",
   "execution_count": null,
   "metadata": {},
   "outputs": [],
   "source": [
    "load = cim.EnergyConsumer()\n",
    "load.p"
   ]
  },
  {
   "cell_type": "code",
   "execution_count": null,
   "metadata": {},
   "outputs": [],
   "source": [
    "load = network.graph[cim.EnergyConsumer]['load_mrid']\n",
    "bus_name = load.Terminals[0].ConnectivityNode.name\n",
    "\n",
    "\n"
   ]
  },
  {
   "cell_type": "code",
   "execution_count": null,
   "metadata": {},
   "outputs": [],
   "source": [
    "sub = cim.Substation(name = 'new_sub', mRID='test_mrid_1234')\n",
    "network.add_to_graph(sub)\n",
    "network.pprint(cim.Substation)"
   ]
  },
  {
   "cell_type": "code",
   "execution_count": null,
   "metadata": {},
   "outputs": [],
   "source": [
    "from cimgraph.utils.write_csv import write_csv\n",
    "\n",
    "write_csv(network, './test_output')"
   ]
  },
  {
   "cell_type": "code",
   "execution_count": null,
   "metadata": {},
   "outputs": [],
   "source": [
    "## Round-trip test\n",
    "cim_profile = 'cimhub_2023'\n",
    "cim = importlib.import_module('cimgraph.data_profile.' + cim_profile)\n",
    "\n",
    "# RDFLib File Reader Connection\n",
    "params = ConnectionParameters(filename=\"./test_output/ieee13test.xml\", cim_profile='cimhub_2023', iec61970_301=8)\n",
    "rdf = RDFlibConnection(params)\n",
    "\n",
    "feeder_mrid = \"49AD8E07-3BF9-A4E2-CB8F-C3722F837B62\"\n",
    "feeder = cim.Feeder(mRID = feeder_mrid)\n",
    "network = FeederModel(connection=rdf, container=feeder, distributed=False)\n",
    "# test_get_all_edges(network, cim)\n",
    "utils.get_all_data(network)\n",
    "utils.write_xml(network, \"./test_output/ieee13test2.xml\")\n",
    "rdf.libgraph.serialize(destination='./test_output/test13rdf_2.xml', format='xml')"
   ]
  },
  {
   "cell_type": "code",
   "execution_count": null,
   "metadata": {},
   "outputs": [],
   "source": [
    "## Distributed model test\n",
    "\n",
    "network = FeederModel(connection=rdf, container=feeder, distributed=True)\n",
    "for switch_area in network.distributed_areas:\n",
    "    test_get_all_edges(switch_area, cim)\n",
    "    for sec_area in switch_area.distributed_areas:\n",
    "        test_get_all_edges(sec_area, cim)\n"
   ]
  },
  {
   "cell_type": "code",
   "execution_count": null,
   "metadata": {},
   "outputs": [],
   "source": [
    "network.graph[cim.ClassName]\n"
   ]
  },
  {
   "cell_type": "code",
   "execution_count": null,
   "metadata": {},
   "outputs": [],
   "source": [
    "cim_profile = 'cimhub_2023'\n",
    "cim = importlib.import_module('cimgraph.data_profile.' + cim_profile)\n",
    "\n",
    "# RDFLib File Reader Connection\n",
    "params = ConnectionParameters(filename=\"./test_models/IEEE118_CIM.xml\", cim_profile='cimhub_2023', iec61970_301=8)\n",
    "rdf = RDFlibConnection(params)\n",
    "\n",
    "feeder_mrid = \"1783D2A8-1204-4781-A0B4-7A73A2FA6038\" #IEEE 118 Bus\"\n",
    "feeder = cim.ConnectivityNodeContainer(mRID = feeder_mrid)\n",
    "network = BusBranchModel(connection=rdf, container=feeder, distributed=False)\n",
    "# test_get_all_edges(network, cim)"
   ]
  },
  {
   "cell_type": "code",
   "execution_count": null,
   "metadata": {},
   "outputs": [],
   "source": [
    "network.get_all_edges(cim.ACLineSegment)"
   ]
  },
  {
   "cell_type": "code",
   "execution_count": null,
   "metadata": {},
   "outputs": [],
   "source": [
    "cim_profile = 'rc4_2021'\n",
    "# cim = importlib.import_module('cimgraph.data_profile.' + cim_profile)\n",
    "\n",
    "# RDFLib File Reader Connection\n",
    "params = ConnectionParameters(filename=\"./test_models/maple10nodebreaker.xml\", cim_profile=cim_profile, iec61970_301=7)\n",
    "rdf = RDFlibConnection(params)\n",
    "\n",
    "feeder_mrid = \"_EE4C60AE-550D-4599-92F4-022DF3118B3C\"\n",
    "geo = cim.GeographicalRegion(mRID = feeder_mrid)\n",
    "network = NodeBreakerModel(connection=rdf, container=geo, distributed=True) \n",
    "\n",
    "for sr_area in network.distributed_areas[cim.SubGeographicalRegion].values():\n",
    "    print(\"subregion\", sr_area.container.name)\n",
    "    test_get_all_edges(sr_area, cim)\n",
    "    for sub_area in sr_area.distributed_areas[cim.Substation].values():\n",
    "        print(\"substation\", sub_area.container.name)\n",
    "        test_get_all_edges(sub_area, cim)\n",
    "        for vl_area in sub_area.distributed_areas[cim.VoltageLevel].values():\n",
    "            print(\"voltage level\", vl_area.container.name)\n",
    "            test_get_all_edges(vl_area, cim)\n",
    "        for feeder in sub_area.distributed_areas[cim.Feeder].values():\n",
    "            print(\"feeder\", feeder.container.name, feeder.container.mRID)\n",
    "            test_get_all_edges(feeder, cim)\n",
    "\n"
   ]
  },
  {
   "cell_type": "code",
   "execution_count": null,
   "metadata": {},
   "outputs": [],
   "source": [
    "network = NodeBreakerModel(connection=rdf, container=geo, distributed=False)\n",
    "\n",
    "utils.get_all_data(network)"
   ]
  },
  {
   "cell_type": "code",
   "execution_count": null,
   "metadata": {},
   "outputs": [],
   "source": [
    "network.graph[cim.ClassName]\n"
   ]
  }
 ],
 "metadata": {
  "kernelspec": {
   "display_name": ".venv",
   "language": "python",
   "name": "python3"
  },
  "language_info": {
   "codemirror_mode": {
    "name": "ipython",
    "version": 3
   },
   "file_extension": ".py",
   "mimetype": "text/x-python",
   "name": "python",
   "nbconvert_exporter": "python",
   "pygments_lexer": "ipython3",
   "version": "3.10.12"
  },
  "orig_nbformat": 4
 },
 "nbformat": 4,
 "nbformat_minor": 2
}
