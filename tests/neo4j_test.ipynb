{
 "cells": [
  {
   "cell_type": "code",
   "execution_count": 1,
   "metadata": {},
   "outputs": [],
   "source": [
    "from cimgraph.databases import ConnectionParameters\n",
    "from cimgraph.databases import Neo4jConnection\n",
    "from cimgraph.models import FeederModel\n",
    "from cimgraph.models import NodeBreakerModel\n",
    "from cimgraph.models import BusBranchModel\n",
    "import cimgraph.utils as utils\n",
    "import importlib"
   ]
  },
  {
   "cell_type": "markdown",
   "metadata": {},
   "source": [
    "## Test with 2021 GridAPPS-D / OpenDSS Profile"
   ]
  },
  {
   "cell_type": "code",
   "execution_count": 2,
   "metadata": {},
   "outputs": [],
   "source": [
    "\n",
    "# cim_profile = 'rc4_2021'\n",
    "# cim = importlib.import_module('cimgraph.data_profile.' + cim_profile)"
   ]
  },
  {
   "cell_type": "code",
   "execution_count": 3,
   "metadata": {},
   "outputs": [],
   "source": [
    "# # Neo4J Connection\n",
    "# params = ConnectionParameters(url = \"neo4j://localhost:7687/neo4j\", database=\"neo4j\", cim_profile='rc4_2021')\n",
    "# neo4j = Neo4jConnection(params)"
   ]
  },
  {
   "cell_type": "code",
   "execution_count": 4,
   "metadata": {},
   "outputs": [],
   "source": [
    "# feeder_mrids = [\"_49AD8E07-3BF9-A4E2-CB8F-C3722F837B62\"]  # 13 bus\n",
    "#                 # \"_C1C3E687-6FFD-C753-582B-632A27E28507\",  # 123 bus\n",
    "#                 # \"5B816B93-7A5F-B64C-8460-47C17D6E4B0F\"] # 13 bus asets\n",
    "#                 # \"_4F76A5F9-271D-9EB8-5E31-AA362D86F2C3\",  # 8500 node\n",
    "#                 # \"_67AB291F-DCCD-31B7-B499-338206B9828F\", # J1\n",
    "#                 # \"_9CE150A8-8CC5-A0F9-B67E-BBD8C79D3095\"]  # R2 12.47 3\n",
    "# # feeder_mrid = \"_EE71F6C9-56F0-4167-A14E-7F4C71F10EAA\" #9500 node\n",
    "# # feeder_mrid = \"_9E985101-27AD-4FE4-B36A-EBECC98CDFAB\" #MAPLE 10 bus\n",
    "# for feeder_mrid in feeder_mrids:\n",
    "#     feeder = cim.Feeder(mRID = feeder_mrid)\n",
    "#     network = FeederModel(connection=neo4j, container=feeder, distributed=False)\n",
    "#     utils.get_all_data(network)"
   ]
  },
  {
   "cell_type": "markdown",
   "metadata": {},
   "source": [
    "## Test with 2023 CIMHub Profile"
   ]
  },
  {
   "cell_type": "code",
   "execution_count": 5,
   "metadata": {},
   "outputs": [],
   "source": [
    "cim_profile = 'cimhub_2023'\n",
    "cim = importlib.import_module('cimgraph.data_profile.' + cim_profile)"
   ]
  },
  {
   "cell_type": "code",
   "execution_count": 6,
   "metadata": {},
   "outputs": [],
   "source": [
    "# Neo4J Connection\n",
    "params = ConnectionParameters(url = \"neo4j://localhost:7687/neo4j\", database=\"neo4j\", cim_profile='cimhub_2023', iec61970_301=8.0)\n",
    "neo4j = Neo4jConnection(params)"
   ]
  },
  {
   "cell_type": "code",
   "execution_count": 7,
   "metadata": {},
   "outputs": [
    {
     "name": "stderr",
     "output_type": "stream",
     "text": [
      "/home/ande188/CIM-Graph/cimgraph/databases/neo4j/neo4j.py:53: RuntimeWarning: coroutine 'AsyncDriver.verify_connectivity' was never awaited\n",
      "  self.driver.verify_connectivity()\n",
      "RuntimeWarning: Enable tracemalloc to get the object allocation traceback\n"
     ]
    }
   ],
   "source": [
    "feeder_mrids = [\n",
    "        # \"49AD8E07-3BF9-A4E2-CB8F-C3722F837B62\"]  # 13 bus\n",
    "                # \"C1C3E687-6FFD-C753-582B-632A27E28507\",  # 123 bus\n",
    "                \"5B816B93-7A5F-B64C-8460-47C17D6E4B0F\"] # 13 bus asets\n",
    "                # \"_4F76A5F9-271D-9EB8-5E31-AA362D86F2C3\",  # 8500 node\n",
    "                # \"_67AB291F-DCCD-31B7-B499-338206B9828F\", # J1\n",
    "                # \"_9CE150A8-8CC5-A0F9-B67E-BBD8C79D3095\"]  # R2 12.47 3\n",
    "# feeder_mrid = \"_EE71F6C9-56F0-4167-A14E-7F4C71F10EAA\" #9500 node\n",
    "# feeder_mrid = \"_9E985101-27AD-4FE4-B36A-EBECC98CDFAB\" #MAPLE 10 bus\n",
    "for feeder_mrid in feeder_mrids:\n",
    "    feeder = cim.Feeder(mRID = feeder_mrid)\n",
    "    network = FeederModel(connection=neo4j, container=feeder, distributed=False)\n",
    "    # utils.get_all_data(network)"
   ]
  },
  {
   "cell_type": "code",
   "execution_count": 8,
   "metadata": {},
   "outputs": [],
   "source": [
    "network.get_all_edges(cim.ACLineSegment)"
   ]
  },
  {
   "cell_type": "code",
   "execution_count": 11,
   "metadata": {},
   "outputs": [
    {
     "name": "stdout",
     "output_type": "stream",
     "text": [
      "{\n",
      "    \"603106b5-1dc7-40b1-a264-98774f6fd16d\": {\n",
      "        \"identifier\": \"603106b5-1dc7-40b1-a264-98774f6fd16d\",\n",
      "        \"mRID\": \"603106B5-1DC7-40B1-A264-98774F6FD16D\",\n",
      "        \"name\": \"671680\",\n",
      "        \"Location\": \"55091f0f-6ac5-485e-8165-170f62d69d8c\",\n",
      "        \"EquipmentContainer\": \"5b816b93-7a5f-b64c-8460-47c17d6e4b0f\",\n",
      "        \"BaseVoltage\": \"3cb8be1f-37d8-4cc8-88bb-5c0d14d7d7b3\",\n",
      "        \"Terminals\": \"['2dc3ef16-f881-42a9-bf65-1158799f132a', '78ed9eed-991c-4622-9475-a17212aed8af', '2dc3ef16-f881-42a9-bf65-1158799f132a', '78ed9eed-991c-4622-9475-a17212aed8af']\",\n",
      "        \"length\": \"304.8\",\n",
      "        \"ACLineSegmentPhases\": \"['1b45289a-c7dd-4129-8aa7-4a10a29deeb8', '53ba78df-eecc-4ede-bbdf-e12ad62b76b6', '1c29457e-e627-4fc3-a235-ae6eea79943c', '62f7c0f1-96aa-4b70-b86f-0afb799eeaa3']\",\n",
      "        \"WireSpacingInfo\": \"516d90dd-274f-4a22-bd8e-44f2845d3b61\"\n",
      "    },\n",
      "    \"4774208a-b9ab-4051-8bc9-4f7c8ea6552a\": {\n",
      "        \"identifier\": \"4774208a-b9ab-4051-8bc9-4f7c8ea6552a\",\n",
      "        \"mRID\": \"4774208A-B9AB-4051-8BC9-4F7C8EA6552A\",\n",
      "        \"name\": \"670671\",\n",
      "        \"Location\": \"9160affa-5e86-4efb-901b-23984101b742\",\n",
      "        \"EquipmentContainer\": \"5b816b93-7a5f-b64c-8460-47c17d6e4b0f\",\n",
      "        \"BaseVoltage\": \"3cb8be1f-37d8-4cc8-88bb-5c0d14d7d7b3\",\n",
      "        \"Terminals\": \"['af113cf9-9b02-4d61-b831-1e02709c8e93', '04dca1ea-04d2-48d8-8394-82e412af5616', 'af113cf9-9b02-4d61-b831-1e02709c8e93', '04dca1ea-04d2-48d8-8394-82e412af5616']\",\n",
      "        \"length\": \"406.2984\",\n",
      "        \"ACLineSegmentPhases\": \"['751872d8-9747-4322-95a1-d5f7d634bfef', 'cd77d72c-e33c-45b5-9145-8209be58b06c', 'a884fbb3-f68c-4432-80c0-93784dd82b94', 'bdc43efc-258e-486e-ab87-b226b910417e']\",\n",
      "        \"WireSpacingInfo\": \"516d90dd-274f-4a22-bd8e-44f2845d3b61\"\n",
      "    },\n",
      "    \"8a62f620-7c58-4662-ae5c-f41f5e3f0022\": {\n",
      "        \"identifier\": \"8a62f620-7c58-4662-ae5c-f41f5e3f0022\",\n",
      "        \"mRID\": \"8A62F620-7C58-4662-AE5C-F41F5E3F0022\",\n",
      "        \"name\": \"632670\",\n",
      "        \"Location\": \"06b70b6d-ee1a-43c2-b45c-9fcee475a889\",\n",
      "        \"EquipmentContainer\": \"5b816b93-7a5f-b64c-8460-47c17d6e4b0f\",\n",
      "        \"BaseVoltage\": \"3cb8be1f-37d8-4cc8-88bb-5c0d14d7d7b3\",\n",
      "        \"Terminals\": \"['b6000e34-260d-470f-b6f4-069dbec65631', 'ce8a51ba-8160-4aaa-907b-853bd19141e3', 'b6000e34-260d-470f-b6f4-069dbec65631', 'ce8a51ba-8160-4aaa-907b-853bd19141e3']\",\n",
      "        \"length\": \"203.3016\",\n",
      "        \"ACLineSegmentPhases\": \"['6b14cfbf-7c00-435a-9327-2930d30591cc', 'e7baeadd-0d09-427c-a790-3819ed4656d0', '5acfd5e9-fc70-47f2-9b90-9520d849fc22', 'c1e80a57-436b-47db-b64a-2c0fe569d2bf']\",\n",
      "        \"WireSpacingInfo\": \"516d90dd-274f-4a22-bd8e-44f2845d3b61\"\n",
      "    },\n",
      "    \"08848dc6-bb11-4647-9c21-475bad66a8b8\": {\n",
      "        \"identifier\": \"08848dc6-bb11-4647-9c21-475bad66a8b8\",\n",
      "        \"mRID\": \"08848DC6-BB11-4647-9C21-475BAD66A8B8\",\n",
      "        \"name\": \"671684\",\n",
      "        \"Location\": \"2de7691b-723b-416a-87b6-35b22fba52b6\",\n",
      "        \"EquipmentContainer\": \"5b816b93-7a5f-b64c-8460-47c17d6e4b0f\",\n",
      "        \"BaseVoltage\": \"3cb8be1f-37d8-4cc8-88bb-5c0d14d7d7b3\",\n",
      "        \"Terminals\": \"['636377f0-4e50-4c65-9320-35e0a68731be', '38b542b8-1a65-4211-9b2c-73fc39382959', '38b542b8-1a65-4211-9b2c-73fc39382959', '636377f0-4e50-4c65-9320-35e0a68731be']\",\n",
      "        \"length\": \"91.44\",\n",
      "        \"ACLineSegmentPhases\": \"['1d64743e-4a88-4098-8f86-d45366f70afa', 'be2f153c-c16a-4bfa-9e29-8aa09f39beef', '6df2d0da-56bf-4eeb-921c-536464ac4c26']\",\n",
      "        \"WireSpacingInfo\": \"6d837e4d-634c-4c07-b8c7-c6377ef1a330\"\n",
      "    },\n",
      "    \"6def3353-8276-402f-ac8e-3def4a396ffe\": {\n",
      "        \"identifier\": \"6def3353-8276-402f-ac8e-3def4a396ffe\",\n",
      "        \"mRID\": \"6DEF3353-8276-402F-AC8E-3DEF4A396FFE\",\n",
      "        \"name\": \"650632\",\n",
      "        \"Location\": \"932e8033-90cd-4719-9f3d-dc60b64b9f49\",\n",
      "        \"EquipmentContainer\": \"5b816b93-7a5f-b64c-8460-47c17d6e4b0f\",\n",
      "        \"BaseVoltage\": \"3cb8be1f-37d8-4cc8-88bb-5c0d14d7d7b3\",\n",
      "        \"Terminals\": \"['82c4b32a-62d0-41fb-8a29-c64f3870e3ef', '60290bde-69a0-49fc-bee2-b8c355b51330', '60290bde-69a0-49fc-bee2-b8c355b51330', '82c4b32a-62d0-41fb-8a29-c64f3870e3ef']\",\n",
      "        \"length\": \"609.6\",\n",
      "        \"ACLineSegmentPhases\": \"['3b8c7dc4-3770-4e5f-855f-04a26b9d5f5f', '0a0392f1-21ed-4af5-8d42-44535b1a3ed1', '65555b1a-1edd-4e63-bb54-b566b14c939e', '4131283b-4405-4490-b43d-d6bb184ccd34']\",\n",
      "        \"WireSpacingInfo\": \"516d90dd-274f-4a22-bd8e-44f2845d3b61\"\n",
      "    },\n",
      "    \"173879c4-4fdb-4521-a60d-5b102b3781b2\": {\n",
      "        \"identifier\": \"173879c4-4fdb-4521-a60d-5b102b3781b2\",\n",
      "        \"mRID\": \"173879C4-4FDB-4521-A60D-5B102B3781B2\",\n",
      "        \"name\": \"645646\",\n",
      "        \"Location\": \"223c440a-5d7d-4fc0-a2c7-0e222b681426\",\n",
      "        \"EquipmentContainer\": \"5b816b93-7a5f-b64c-8460-47c17d6e4b0f\",\n",
      "        \"BaseVoltage\": \"3cb8be1f-37d8-4cc8-88bb-5c0d14d7d7b3\",\n",
      "        \"Terminals\": \"['ca7cf6e9-dc73-4970-aed7-97d2f1ab9c7d', '91e21558-6fae-47d6-9756-d3703b4ccfe6', 'ca7cf6e9-dc73-4970-aed7-97d2f1ab9c7d', '91e21558-6fae-47d6-9756-d3703b4ccfe6']\",\n",
      "        \"length\": \"91.410739\",\n",
      "        \"ACLineSegmentPhases\": \"['a5ed6ec7-2d5a-4f0a-b5a6-8dfb3a7dacbc', 'fa8a472c-6d2c-4605-a594-4200aed4fc3f']\",\n",
      "        \"PerLengthImpedance\": \"14f49be6-1c8f-4892-9868-910dd8605ecd\"\n",
      "    },\n",
      "    \"a98417b1-4a7f-484f-97c8-9b91f29a26f1\": {\n",
      "        \"identifier\": \"a98417b1-4a7f-484f-97c8-9b91f29a26f1\",\n",
      "        \"mRID\": \"A98417B1-4A7F-484F-97C8-9B91F29A26F1\",\n",
      "        \"name\": \"632645\",\n",
      "        \"Location\": \"de19c1e0-c2ff-41bf-b897-1dbb7e7bfbcc\",\n",
      "        \"EquipmentContainer\": \"5b816b93-7a5f-b64c-8460-47c17d6e4b0f\",\n",
      "        \"BaseVoltage\": \"3cb8be1f-37d8-4cc8-88bb-5c0d14d7d7b3\",\n",
      "        \"Terminals\": \"['3242bcac-b8ab-4548-888e-5ea967691090', 'e34ba9ae-07fd-4350-b7f3-325dd010a768', 'e34ba9ae-07fd-4350-b7f3-325dd010a768', '3242bcac-b8ab-4548-888e-5ea967691090']\",\n",
      "        \"length\": \"152.4\",\n",
      "        \"ACLineSegmentPhases\": \"['80da0453-cb4d-4faf-95f6-f55bc1fd4025', '1b069f72-70d6-4c4d-8e5e-fa7bb969ba5b', 'a8aa2ade-c485-4d0e-a373-cefad7bbdc11']\",\n",
      "        \"WireSpacingInfo\": \"3b22e834-067c-49ea-a4c0-5aa2e616dcb7\"\n",
      "    },\n",
      "    \"8c536493-14b8-41d0-8ee4-cae4dff33839\": {\n",
      "        \"identifier\": \"8c536493-14b8-41d0-8ee4-cae4dff33839\",\n",
      "        \"mRID\": \"8C536493-14B8-41D0-8EE4-CAE4DFF33839\",\n",
      "        \"name\": \"684611\",\n",
      "        \"Location\": \"5d45993d-7da8-4193-8e80-1f783de4ca5c\",\n",
      "        \"EquipmentContainer\": \"5b816b93-7a5f-b64c-8460-47c17d6e4b0f\",\n",
      "        \"BaseVoltage\": \"3cb8be1f-37d8-4cc8-88bb-5c0d14d7d7b3\",\n",
      "        \"Terminals\": \"['dee28585-c381-4c31-8f9a-d6e138130719', '53964afb-be4e-4890-a694-957172605378', 'dee28585-c381-4c31-8f9a-d6e138130719', '53964afb-be4e-4890-a694-957172605378']\",\n",
      "        \"length\": \"91.44\",\n",
      "        \"ACLineSegmentPhases\": \"['59eb46dc-3d44-46c8-afa6-13845a36d90f', 'd0b319eb-b001-4c89-a605-e2bc1813de92']\",\n",
      "        \"WireSpacingInfo\": \"7fae2df5-cdfb-4268-945e-27eb8ae81220\"\n",
      "    },\n",
      "    \"67a2574b-8146-464d-b93c-b9fcbce913bc\": {\n",
      "        \"identifier\": \"67a2574b-8146-464d-b93c-b9fcbce913bc\",\n",
      "        \"mRID\": \"67A2574B-8146-464D-B93C-B9FCBCE913BC\",\n",
      "        \"name\": \"632633\",\n",
      "        \"Location\": \"887ed44c-d0be-413a-8182-fdec5f287ce1\",\n",
      "        \"EquipmentContainer\": \"5b816b93-7a5f-b64c-8460-47c17d6e4b0f\",\n",
      "        \"BaseVoltage\": \"3cb8be1f-37d8-4cc8-88bb-5c0d14d7d7b3\",\n",
      "        \"Terminals\": \"['2e9a8734-c4f8-4c76-8af3-f0627dcbcbeb', 'eb08ce02-875b-4409-b16c-615d8f87d372', 'eb08ce02-875b-4409-b16c-615d8f87d372', '2e9a8734-c4f8-4c76-8af3-f0627dcbcbeb']\",\n",
      "        \"length\": \"152.4\",\n",
      "        \"ACLineSegmentPhases\": \"['18d18b0f-d77d-4bba-95b1-9917c71fe01f', 'e03ce9a6-46a1-450d-abd6-d9ab22849342', 'bc21d98c-54a6-4590-806e-aa93468a77a7', 'd86836b7-a6cf-4e85-9da6-bccaf88c9509']\",\n",
      "        \"WireSpacingInfo\": \"e804fc3a-4de8-4497-b83d-ebe8974c791b\"\n",
      "    },\n",
      "    \"e062e187-f149-4555-8e27-2ee0c9d75274\": {\n",
      "        \"identifier\": \"e062e187-f149-4555-8e27-2ee0c9d75274\",\n",
      "        \"mRID\": \"E062E187-F149-4555-8E27-2EE0C9D75274\",\n",
      "        \"name\": \"684652\",\n",
      "        \"Location\": \"98b2c178-838c-4e35-9686-d4e91b664c9f\",\n",
      "        \"EquipmentContainer\": \"5b816b93-7a5f-b64c-8460-47c17d6e4b0f\",\n",
      "        \"BaseVoltage\": \"3cb8be1f-37d8-4cc8-88bb-5c0d14d7d7b3\",\n",
      "        \"Terminals\": \"['ce782974-dce7-4e04-8623-d139ae89ec0f', 'af8e4b1e-76e3-4b5d-9505-e73e89bedb1c', 'af8e4b1e-76e3-4b5d-9505-e73e89bedb1c', 'ce782974-dce7-4e04-8623-d139ae89ec0f']\",\n",
      "        \"length\": \"243.84\",\n",
      "        \"ACLineSegmentPhases\": \"['6f8bb3d7-5626-4978-8adf-2d426ceb916d', 'b65bd02d-760b-451f-81c6-c8fa78478899']\",\n",
      "        \"WireSpacingInfo\": \"42f6bf8a-f301-476d-a18b-7ec0bf7a5de3\"\n",
      "    },\n",
      "    \"6ebb2188-cbe1-4fec-9406-83de8e61f9cb\": {\n",
      "        \"identifier\": \"6ebb2188-cbe1-4fec-9406-83de8e61f9cb\",\n",
      "        \"mRID\": \"6EBB2188-CBE1-4FEC-9406-83DE8E61F9CB\",\n",
      "        \"name\": \"692675\",\n",
      "        \"Location\": \"6d36746b-c083-4ce2-87dd-256d6c668613\",\n",
      "        \"EquipmentContainer\": \"5b816b93-7a5f-b64c-8460-47c17d6e4b0f\",\n",
      "        \"BaseVoltage\": \"3cb8be1f-37d8-4cc8-88bb-5c0d14d7d7b3\",\n",
      "        \"Terminals\": \"['30de3992-164e-4202-9928-92bb035621b3', 'fd181cff-8f3f-43e0-96d4-fa80e71d6a2e', 'fd181cff-8f3f-43e0-96d4-fa80e71d6a2e', '30de3992-164e-4202-9928-92bb035621b3']\",\n",
      "        \"length\": \"152.4\",\n",
      "        \"ACLineSegmentPhases\": \"['c3aaffd5-8c98-4db5-8e6c-dc99e345d13c', '35ff14dc-7f66-44f6-a767-32f3d382c173', 'c7529946-755b-4322-950a-ae9fd9d9f1f6']\",\n",
      "        \"WireSpacingInfo\": \"48a5c17e-b098-446d-b26f-2d1b198ed260\"\n",
      "    }\n",
      "}\n"
     ]
    }
   ],
   "source": [
    "network.pprint(cim.ACLineSegment)"
   ]
  },
  {
   "cell_type": "code",
   "execution_count": null,
   "metadata": {},
   "outputs": [
    {
     "ename": "KeyError",
     "evalue": "'ACLineSegmentPhase.sequenceNumber'",
     "output_type": "error",
     "traceback": [
      "\u001b[0;31m---------------------------------------------------------------------------\u001b[0m",
      "\u001b[0;31mValueError\u001b[0m                                Traceback (most recent call last)",
      "File \u001b[0;32m~/CIM-Graph/.venv/lib/python3.10/site-packages/neo4j/_data.py:174\u001b[0m, in \u001b[0;36mRecord.index\u001b[0;34m(self, key)\u001b[0m\n\u001b[1;32m    173\u001b[0m \u001b[38;5;28;01mtry\u001b[39;00m:\n\u001b[0;32m--> 174\u001b[0m     \u001b[38;5;28;01mreturn\u001b[39;00m \u001b[38;5;28;43mself\u001b[39;49m\u001b[38;5;241;43m.\u001b[39;49m\u001b[43m__keys\u001b[49m\u001b[38;5;241;43m.\u001b[39;49m\u001b[43mindex\u001b[49m\u001b[43m(\u001b[49m\u001b[43mkey\u001b[49m\u001b[43m)\u001b[49m\n\u001b[1;32m    175\u001b[0m \u001b[38;5;28;01mexcept\u001b[39;00m \u001b[38;5;167;01mValueError\u001b[39;00m \u001b[38;5;28;01mas\u001b[39;00m exc:\n",
      "\u001b[0;31mValueError\u001b[0m: tuple.index(x): x not in tuple",
      "\nThe above exception was the direct cause of the following exception:\n",
      "\u001b[0;31mKeyError\u001b[0m                                  Traceback (most recent call last)",
      "Cell \u001b[0;32mIn[10], line 2\u001b[0m\n\u001b[1;32m      1\u001b[0m attribute\n\u001b[0;32m----> 2\u001b[0m \u001b[43mresult\u001b[49m\u001b[43m[\u001b[49m\u001b[43mattribute\u001b[49m\u001b[43m]\u001b[49m\n",
      "File \u001b[0;32m~/CIM-Graph/.venv/lib/python3.10/site-packages/neo4j/_data.py:129\u001b[0m, in \u001b[0;36mRecord.__getitem__\u001b[0;34m(self, key)\u001b[0m\n\u001b[1;32m    127\u001b[0m     \u001b[38;5;28;01mreturn\u001b[39;00m \u001b[38;5;28mself\u001b[39m\u001b[38;5;241m.\u001b[39m\u001b[38;5;18m__class__\u001b[39m(\u001b[38;5;28mzip\u001b[39m(keys, values))\n\u001b[1;32m    128\u001b[0m \u001b[38;5;28;01mtry\u001b[39;00m:\n\u001b[0;32m--> 129\u001b[0m     index \u001b[38;5;241m=\u001b[39m \u001b[38;5;28;43mself\u001b[39;49m\u001b[38;5;241;43m.\u001b[39;49m\u001b[43mindex\u001b[49m\u001b[43m(\u001b[49m\u001b[43mkey\u001b[49m\u001b[43m)\u001b[49m\n\u001b[1;32m    130\u001b[0m \u001b[38;5;28;01mexcept\u001b[39;00m \u001b[38;5;167;01mIndexError\u001b[39;00m:\n\u001b[1;32m    131\u001b[0m     \u001b[38;5;28;01mreturn\u001b[39;00m \u001b[38;5;28;01mNone\u001b[39;00m\n",
      "File \u001b[0;32m~/CIM-Graph/.venv/lib/python3.10/site-packages/neo4j/_data.py:176\u001b[0m, in \u001b[0;36mRecord.index\u001b[0;34m(self, key)\u001b[0m\n\u001b[1;32m    174\u001b[0m         \u001b[38;5;28;01mreturn\u001b[39;00m \u001b[38;5;28mself\u001b[39m\u001b[38;5;241m.\u001b[39m__keys\u001b[38;5;241m.\u001b[39mindex(key)\n\u001b[1;32m    175\u001b[0m     \u001b[38;5;28;01mexcept\u001b[39;00m \u001b[38;5;167;01mValueError\u001b[39;00m \u001b[38;5;28;01mas\u001b[39;00m exc:\n\u001b[0;32m--> 176\u001b[0m         \u001b[38;5;28;01mraise\u001b[39;00m \u001b[38;5;167;01mKeyError\u001b[39;00m(key) \u001b[38;5;28;01mfrom\u001b[39;00m \u001b[38;5;21;01mexc\u001b[39;00m\n\u001b[1;32m    177\u001b[0m \u001b[38;5;28;01melse\u001b[39;00m:\n\u001b[1;32m    178\u001b[0m     \u001b[38;5;28;01mraise\u001b[39;00m \u001b[38;5;167;01mTypeError\u001b[39;00m(key)\n",
      "\u001b[0;31mKeyError\u001b[0m: 'ACLineSegmentPhase.sequenceNumber'"
     ]
    }
   ],
   "source": []
  }
 ],
 "metadata": {
  "kernelspec": {
   "display_name": ".venv",
   "language": "python",
   "name": "python3"
  },
  "language_info": {
   "codemirror_mode": {
    "name": "ipython",
    "version": 3
   },
   "file_extension": ".py",
   "mimetype": "text/x-python",
   "name": "python",
   "nbconvert_exporter": "python",
   "pygments_lexer": "ipython3",
   "version": "3.10.12"
  }
 },
 "nbformat": 4,
 "nbformat_minor": 2
}
