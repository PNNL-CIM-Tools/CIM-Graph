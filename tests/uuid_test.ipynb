{
 "cells": [
  {
   "cell_type": "code",
   "execution_count": 1,
   "metadata": {},
   "outputs": [],
   "source": [
    "import cimgraph.data_profile.cimhub_2023 as cim\n",
    "from uuid import UUID"
   ]
  },
  {
   "cell_type": "code",
   "execution_count": 2,
   "metadata": {},
   "outputs": [
    {
     "data": {
      "text/plain": [
       "{\"@id\": \"de23e126-b105-4c1a-92a3-3fe37f5d58b0\", \"@type\": \"Feeder\"}"
      ]
     },
     "execution_count": 2,
     "metadata": {},
     "output_type": "execute_result"
    }
   ],
   "source": [
    "cim.Feeder()"
   ]
  },
  {
   "cell_type": "code",
   "execution_count": 3,
   "metadata": {},
   "outputs": [
    {
     "name": "stdout",
     "output_type": "stream",
     "text": [
      "{\n",
      "    \"@id\": \"49ad8e07-3bf9-a4e2-cb8f-c3722f837b62\",\n",
      "    \"@type\": \"Feeder\"\n",
      "}\n"
     ]
    },
    {
     "data": {
      "text/plain": [
       "'_49AD8E07-3BF9-A4E2-CB8F-C3722F837B62'"
      ]
     },
     "execution_count": 3,
     "metadata": {},
     "output_type": "execute_result"
    }
   ],
   "source": [
    "f = cim.Feeder(mRID = '_49AD8E07-3BF9-A4E2-CB8F-C3722F837B62')\n",
    "f.pprint()\n",
    "f.uri()"
   ]
  },
  {
   "cell_type": "code",
   "execution_count": 4,
   "metadata": {},
   "outputs": [
    {
     "name": "stdout",
     "output_type": "stream",
     "text": [
      "{\n",
      "    \"@id\": \"49ad8e07-3bf9-a4e2-cb8f-c3722f837b62\",\n",
      "    \"@type\": \"Feeder\"\n",
      "}\n"
     ]
    },
    {
     "data": {
      "text/plain": [
       "'49AD8E07-3BF9-A4E2-CB8F-C3722F837B62'"
      ]
     },
     "execution_count": 4,
     "metadata": {},
     "output_type": "execute_result"
    }
   ],
   "source": [
    "f = cim.Feeder(mRID = '49AD8E07-3BF9-A4E2-CB8F-C3722F837B62')\n",
    "f.pprint()\n",
    "f.uri()"
   ]
  },
  {
   "cell_type": "code",
   "execution_count": 5,
   "metadata": {},
   "outputs": [
    {
     "name": "stdout",
     "output_type": "stream",
     "text": [
      "{\n",
      "    \"@id\": \"49ad8e07-3bf9-a4e2-cb8f-c3722f837b62\",\n",
      "    \"@type\": \"Feeder\"\n",
      "}\n"
     ]
    },
    {
     "data": {
      "text/plain": [
       "'49AD8E07-3BF9-A4E2-CB8F-C3722F837B62'"
      ]
     },
     "execution_count": 5,
     "metadata": {},
     "output_type": "execute_result"
    }
   ],
   "source": [
    "f = cim.Feeder(mRID = '49AD8E07-3BF9-A4E2-CB8F-C3722F837B62')\n",
    "f.pprint()\n",
    "f.uri()"
   ]
  },
  {
   "cell_type": "code",
   "execution_count": 6,
   "metadata": {},
   "outputs": [
    {
     "name": "stdout",
     "output_type": "stream",
     "text": [
      "{\n",
      "    \"@id\": \"0a3098a5-95c1-4c3c-be5a-ab6bce8cebc3\",\n",
      "    \"@type\": \"Feeder\"\n",
      "}\n"
     ]
    },
    {
     "data": {
      "text/plain": [
       "'_49AD8E07-3BF9-A4E2-CB8F-C3722F837B62'"
      ]
     },
     "execution_count": 6,
     "metadata": {},
     "output_type": "execute_result"
    }
   ],
   "source": [
    "f = cim.Feeder()\n",
    "f.uuid(mRID = '_49AD8E07-3BF9-A4E2-CB8F-C3722F837B62')\n",
    "f.pprint()\n",
    "f.uri()"
   ]
  },
  {
   "cell_type": "code",
   "execution_count": 7,
   "metadata": {},
   "outputs": [
    {
     "name": "stdout",
     "output_type": "stream",
     "text": [
      "{\n",
      "    \"@id\": \"2f7e56db-4b13-47b7-9579-6b403900a151\",\n",
      "    \"@type\": \"Feeder\"\n",
      "}\n"
     ]
    },
    {
     "data": {
      "text/plain": [
       "'49AD8E07-3BF9-A4E2-CB8F-C3722F837B62'"
      ]
     },
     "execution_count": 7,
     "metadata": {},
     "output_type": "execute_result"
    }
   ],
   "source": [
    "f = cim.Feeder()\n",
    "f.uuid(mRID = '49AD8E07-3BF9-A4E2-CB8F-C3722F837B62')\n",
    "f.pprint()\n",
    "f.uri()"
   ]
  },
  {
   "cell_type": "code",
   "execution_count": 8,
   "metadata": {},
   "outputs": [
    {
     "name": "stdout",
     "output_type": "stream",
     "text": [
      "{\n",
      "    \"@id\": \"c7365a4f-8c52-4fd0-a064-6e45d1ce38ff\",\n",
      "    \"@type\": \"Feeder\"\n",
      "}\n"
     ]
    },
    {
     "data": {
      "text/plain": [
       "'49ad8e07-3bf9-a4e2-cb8f-c3722f837b62'"
      ]
     },
     "execution_count": 8,
     "metadata": {},
     "output_type": "execute_result"
    }
   ],
   "source": [
    "f = cim.Feeder()\n",
    "f.uuid(mRID = '49ad8e07-3bf9-a4e2-cb8f-c3722f837b62')\n",
    "f.pprint()\n",
    "f.uri()"
   ]
  },
  {
   "cell_type": "code",
   "execution_count": 20,
   "metadata": {},
   "outputs": [
    {
     "name": "stdout",
     "output_type": "stream",
     "text": [
      "{\n",
      "    \"@id\": \"c3981e14-81a4-4204-918a-eeb80c55594c\",\n",
      "    \"@type\": \"Feeder\"\n",
      "}\n"
     ]
    },
    {
     "data": {
      "text/plain": [
       "'_49AD8E07-3BF9-A4E2-CB8F-C3722F837B62'"
      ]
     },
     "execution_count": 20,
     "metadata": {},
     "output_type": "execute_result"
    }
   ],
   "source": [
    "f = cim.Feeder()\n",
    "# print(f.uri())\n",
    "\n",
    "f.uuid(uri = '_49AD8E07-3BF9-A4E2-CB8F-C3722F837B62')\n",
    "f.pprint()\n",
    "f.uri()"
   ]
  },
  {
   "cell_type": "code",
   "execution_count": 10,
   "metadata": {},
   "outputs": [
    {
     "name": "stdout",
     "output_type": "stream",
     "text": [
      "{\n",
      "    \"@id\": \"1a96750c-6e40-4d65-9d88-2b72dd4ca4ac\",\n",
      "    \"@type\": \"Feeder\"\n",
      "}\n"
     ]
    },
    {
     "data": {
      "text/plain": [
       "'49AD8E07-3BF9-A4E2-CB8F-C3722F837B62'"
      ]
     },
     "execution_count": 10,
     "metadata": {},
     "output_type": "execute_result"
    }
   ],
   "source": [
    "f = cim.Feeder()\n",
    "f.uuid(uri = '49AD8E07-3BF9-A4E2-CB8F-C3722F837B62')\n",
    "f.pprint()\n",
    "f.uri()"
   ]
  },
  {
   "cell_type": "code",
   "execution_count": 11,
   "metadata": {},
   "outputs": [
    {
     "name": "stdout",
     "output_type": "stream",
     "text": [
      "{\n",
      "    \"@id\": \"e4dcfd7c-f345-4d2d-bffd-5dcea895f147\",\n",
      "    \"@type\": \"Feeder\"\n",
      "}\n"
     ]
    },
    {
     "data": {
      "text/plain": [
       "'49ad8e07-3bf9-a4e2-cb8f-c3722f837b62'"
      ]
     },
     "execution_count": 11,
     "metadata": {},
     "output_type": "execute_result"
    }
   ],
   "source": [
    "f = cim.Feeder()\n",
    "f.uuid(mRID = '49ad8e07-3bf9-a4e2-cb8f-c3722f837b62')\n",
    "f.pprint()\n",
    "f.uri()"
   ]
  },
  {
   "cell_type": "code",
   "execution_count": 12,
   "metadata": {},
   "outputs": [
    {
     "name": "stdout",
     "output_type": "stream",
     "text": [
      "5e09659a-457e-4b02-a44f-8081810d00af\n",
      "{\n",
      "    \"@id\": \"5e09659a-457e-4b02-a44f-8081810d00af\",\n",
      "    \"@type\": \"Feeder\"\n",
      "}\n"
     ]
    },
    {
     "data": {
      "text/plain": [
       "'_49AD8E07-3BF9-A4E2-CB8F-C3722F837B62'"
      ]
     },
     "execution_count": 12,
     "metadata": {},
     "output_type": "execute_result"
    }
   ],
   "source": [
    "f = cim.Feeder()\n",
    "print(f.uri())\n",
    "f.uuid(uri = '_49AD8E07-3BF9-A4E2-CB8F-C3722F837B62', mRID = 'qwertyuiop')\n",
    "f.pprint()\n",
    "f.uri()\n"
   ]
  },
  {
   "cell_type": "code",
   "execution_count": 13,
   "metadata": {},
   "outputs": [
    {
     "name": "stdout",
     "output_type": "stream",
     "text": [
      "{\n",
      "    \"@id\": \"49ad8e07-3bf9-a4e2-cb8f-c3722f837b62\",\n",
      "    \"@type\": \"Feeder\"\n",
      "}\n"
     ]
    },
    {
     "data": {
      "text/plain": [
       "'49ad8e07-3bf9-a4e2-cb8f-c3722f837b62'"
      ]
     },
     "execution_count": 13,
     "metadata": {},
     "output_type": "execute_result"
    }
   ],
   "source": [
    "uuid = UUID('49ad8e07-3bf9-a4e2-cb8f-c3722f837b62')\n",
    "f = cim.Feeder(identifier=uuid)\n",
    "f.pprint()\n",
    "f.uri()"
   ]
  },
  {
   "cell_type": "code",
   "execution_count": 14,
   "metadata": {},
   "outputs": [
    {
     "name": "stderr",
     "output_type": "stream",
     "text": [
      "Identifier qwertyuiop must be a UUID object, generating new UUID\n",
      "URI qwertyuiop not a valid UUID, generating new UUID\n",
      "mRID qwertyuiop not a valid UUID, generating new UUID\n",
      "URI qwertyuiop not a valid UUID, generating new UUID\n",
      "mRID qwertyuiop not a valid UUID, generating new UUID\n"
     ]
    },
    {
     "name": "stdout",
     "output_type": "stream",
     "text": [
      "{\n",
      "    \"@id\": \"e68546af-efdd-4105-bfed-9430c392123e\",\n",
      "    \"@type\": \"Feeder\"\n",
      "}\n"
     ]
    },
    {
     "data": {
      "text/plain": [
       "'e68546af-efdd-4105-bfed-9430c392123e'"
      ]
     },
     "execution_count": 14,
     "metadata": {},
     "output_type": "execute_result"
    }
   ],
   "source": [
    "f = cim.Feeder(identifier='qwertyuiop')\n",
    "f.uuid(uri='qwertyuiop')\n",
    "f.pprint()\n",
    "f.uri()"
   ]
  },
  {
   "cell_type": "code",
   "execution_count": 15,
   "metadata": {},
   "outputs": [
    {
     "name": "stderr",
     "output_type": "stream",
     "text": [
      "mRID qwertyuiop not a valid UUID, generating new UUID\n"
     ]
    },
    {
     "name": "stdout",
     "output_type": "stream",
     "text": [
      "{\n",
      "    \"@id\": \"f075dd13-0f5e-40c2-b08e-1a040cee4702\",\n",
      "    \"@type\": \"Feeder\"\n",
      "}\n"
     ]
    },
    {
     "data": {
      "text/plain": [
       "'f075dd13-0f5e-40c2-b08e-1a040cee4702'"
      ]
     },
     "execution_count": 15,
     "metadata": {},
     "output_type": "execute_result"
    }
   ],
   "source": [
    "f = cim.Feeder(mRID='qwertyuiop')\n",
    "f.pprint()\n",
    "f.uri()"
   ]
  },
  {
   "cell_type": "code",
   "execution_count": 16,
   "metadata": {},
   "outputs": [
    {
     "name": "stderr",
     "output_type": "stream",
     "text": [
      "mRID qwertyuiop not a valid UUID, generating new UUID\n"
     ]
    },
    {
     "name": "stdout",
     "output_type": "stream",
     "text": [
      "{\n",
      "    \"@id\": \"f77bda03-0bbd-4283-9203-99ba8e9bb128\",\n",
      "    \"@type\": \"Feeder\"\n",
      "}\n"
     ]
    },
    {
     "data": {
      "text/plain": [
       "'f075dd13-0f5e-40c2-b08e-1a040cee4702'"
      ]
     },
     "execution_count": 16,
     "metadata": {},
     "output_type": "execute_result"
    }
   ],
   "source": [
    "f = cim.Feeder()\n",
    "f.uuid(mRID = 'qwertyuiop')\n",
    "f.pprint()\n",
    "f.uri()"
   ]
  },
  {
   "cell_type": "code",
   "execution_count": 17,
   "metadata": {},
   "outputs": [
    {
     "name": "stderr",
     "output_type": "stream",
     "text": [
      "mRID qwertyuiop not a valid UUID, generating new UUID\n",
      "mRID qwertyuiop not a valid UUID, generating new UUID\n"
     ]
    },
    {
     "name": "stdout",
     "output_type": "stream",
     "text": [
      "{\n",
      "    \"@id\": \"7d27cb0d-888b-46c5-913b-4db065f922d8\",\n",
      "    \"@type\": \"Feeder\"\n",
      "}\n"
     ]
    },
    {
     "data": {
      "text/plain": [
       "'f075dd13-0f5e-40c2-b08e-1a040cee4702'"
      ]
     },
     "execution_count": 17,
     "metadata": {},
     "output_type": "execute_result"
    }
   ],
   "source": [
    "f = cim.Feeder()\n",
    "f.uuid(mRID = 'qwertyuiop')\n",
    "f.uuid(mRID = 'qwertyuiop')\n",
    "f.pprint()\n",
    "f.uri()"
   ]
  },
  {
   "cell_type": "code",
   "execution_count": 18,
   "metadata": {},
   "outputs": [
    {
     "name": "stderr",
     "output_type": "stream",
     "text": [
      "Identifier f075dd13-0f5e-40c2-b08e-1a040cee4702 must be a UUID object, generating new UUID\n"
     ]
    },
    {
     "name": "stdout",
     "output_type": "stream",
     "text": [
      "{\n",
      "    \"@id\": \"f075dd13-0f5e-40c2-b08e-1a040cee4702\",\n",
      "    \"@type\": \"PhaseImpedanceData\"\n",
      "}\n"
     ]
    },
    {
     "data": {
      "text/plain": [
       "'f075dd13-0f5e-40c2-b08e-1a040cee4702'"
      ]
     },
     "execution_count": 18,
     "metadata": {},
     "output_type": "execute_result"
    }
   ],
   "source": [
    "p = cim.PhaseImpedanceData(identifier='f075dd13-0f5e-40c2-b08e-1a040cee4702')\n",
    "p.pprint()\n",
    "p.uri()\n",
    "\n"
   ]
  },
  {
   "cell_type": "code",
   "execution_count": 19,
   "metadata": {},
   "outputs": [
    {
     "name": "stdout",
     "output_type": "stream",
     "text": [
      "{\n",
      "    \"@id\": \"571adc0d-6d9b-48dc-9efd-53ed989789aa\",\n",
      "    \"@type\": \"Feeder\"\n",
      "}\n"
     ]
    },
    {
     "data": {
      "text/plain": [
       "'36bee6a3-2c52-4766-a0b0-a75e43cd142f'"
      ]
     },
     "execution_count": 19,
     "metadata": {},
     "output_type": "execute_result"
    }
   ],
   "source": [
    "f = cim.Feeder()\n",
    "f.uuid(name = 'ieee13')\n",
    "f.pprint()\n",
    "f.uri()"
   ]
  },
  {
   "cell_type": "code",
   "execution_count": null,
   "metadata": {},
   "outputs": [],
   "source": []
  }
 ],
 "metadata": {
  "kernelspec": {
   "display_name": ".venv",
   "language": "python",
   "name": "python3"
  },
  "language_info": {
   "codemirror_mode": {
    "name": "ipython",
    "version": 3
   },
   "file_extension": ".py",
   "mimetype": "text/x-python",
   "name": "python",
   "nbconvert_exporter": "python",
   "pygments_lexer": "ipython3",
   "version": "3.10.12"
  }
 },
 "nbformat": 4,
 "nbformat_minor": 2
}
