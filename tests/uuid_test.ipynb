{
 "cells": [
  {
   "cell_type": "code",
   "execution_count": 1,
   "metadata": {},
   "outputs": [],
   "source": [
    "import cimgraph.data_profile.cimhub_2023 as cim\n",
    "from uuid import UUID"
   ]
  },
  {
   "cell_type": "code",
   "execution_count": 2,
   "metadata": {},
   "outputs": [
    {
     "data": {
      "text/plain": [
       "{\"@id\": \"aead74c0-ff66-44cd-b078-227f69f1ccde\", \"@type\": \"Feeder\"}"
      ]
     },
     "execution_count": 2,
     "metadata": {},
     "output_type": "execute_result"
    }
   ],
   "source": [
    "cim.Feeder()"
   ]
  },
  {
   "cell_type": "code",
   "execution_count": 3,
   "metadata": {},
   "outputs": [
    {
     "name": "stdout",
     "output_type": "stream",
     "text": [
      "{\n",
      "    \"@id\": \"49ad8e07-3bf9-a4e2-cb8f-c3722f837b62\",\n",
      "    \"@type\": \"Feeder\"\n",
      "}\n"
     ]
    },
    {
     "data": {
      "text/plain": [
       "'_49AD8E07-3BF9-A4E2-CB8F-C3722F837B62'"
      ]
     },
     "execution_count": 3,
     "metadata": {},
     "output_type": "execute_result"
    }
   ],
   "source": [
    "f = cim.Feeder(mRID = '_49AD8E07-3BF9-A4E2-CB8F-C3722F837B62')\n",
    "f.pprint()\n",
    "f.uri()"
   ]
  },
  {
   "cell_type": "code",
   "execution_count": 4,
   "metadata": {},
   "outputs": [
    {
     "name": "stdout",
     "output_type": "stream",
     "text": [
      "{\n",
      "    \"@id\": \"49ad8e07-3bf9-a4e2-cb8f-c3722f837b62\",\n",
      "    \"@type\": \"Feeder\"\n",
      "}\n"
     ]
    },
    {
     "data": {
      "text/plain": [
       "'49AD8E07-3BF9-A4E2-CB8F-C3722F837B62'"
      ]
     },
     "execution_count": 4,
     "metadata": {},
     "output_type": "execute_result"
    }
   ],
   "source": [
    "f = cim.Feeder(mRID = '49AD8E07-3BF9-A4E2-CB8F-C3722F837B62')\n",
    "f.pprint()\n",
    "f.uri()"
   ]
  },
  {
   "cell_type": "code",
   "execution_count": 5,
   "metadata": {},
   "outputs": [
    {
     "name": "stdout",
     "output_type": "stream",
     "text": [
      "{\n",
      "    \"@id\": \"49ad8e07-3bf9-a4e2-cb8f-c3722f837b62\",\n",
      "    \"@type\": \"Feeder\"\n",
      "}\n"
     ]
    },
    {
     "data": {
      "text/plain": [
       "'49AD8E07-3BF9-A4E2-CB8F-C3722F837B62'"
      ]
     },
     "execution_count": 5,
     "metadata": {},
     "output_type": "execute_result"
    }
   ],
   "source": [
    "f = cim.Feeder(mRID = '49AD8E07-3BF9-A4E2-CB8F-C3722F837B62')\n",
    "f.pprint()\n",
    "f.uri()"
   ]
  },
  {
   "cell_type": "code",
   "execution_count": 6,
   "metadata": {},
   "outputs": [
    {
     "name": "stdout",
     "output_type": "stream",
     "text": [
      "{\n",
      "    \"@id\": \"1d6cf4ad-9c51-4c21-a505-80010dffde5c\",\n",
      "    \"@type\": \"Feeder\"\n",
      "}\n"
     ]
    },
    {
     "data": {
      "text/plain": [
       "'_49AD8E07-3BF9-A4E2-CB8F-C3722F837B62'"
      ]
     },
     "execution_count": 6,
     "metadata": {},
     "output_type": "execute_result"
    }
   ],
   "source": [
    "f = cim.Feeder()\n",
    "f.uuid(mRID = '_49AD8E07-3BF9-A4E2-CB8F-C3722F837B62')\n",
    "f.pprint()\n",
    "f.uri()"
   ]
  },
  {
   "cell_type": "code",
   "execution_count": 7,
   "metadata": {},
   "outputs": [
    {
     "name": "stdout",
     "output_type": "stream",
     "text": [
      "{\n",
      "    \"@id\": \"e9422ce6-6453-4316-893a-cf18811a356a\",\n",
      "    \"@type\": \"Feeder\"\n",
      "}\n"
     ]
    },
    {
     "data": {
      "text/plain": [
       "'49AD8E07-3BF9-A4E2-CB8F-C3722F837B62'"
      ]
     },
     "execution_count": 7,
     "metadata": {},
     "output_type": "execute_result"
    }
   ],
   "source": [
    "f = cim.Feeder()\n",
    "f.uuid(mRID = '49AD8E07-3BF9-A4E2-CB8F-C3722F837B62')\n",
    "f.pprint()\n",
    "f.uri()"
   ]
  },
  {
   "cell_type": "code",
   "execution_count": 8,
   "metadata": {},
   "outputs": [
    {
     "name": "stdout",
     "output_type": "stream",
     "text": [
      "{\n",
      "    \"@id\": \"e3b9940f-3a92-415d-b4f7-a344efb6a549\",\n",
      "    \"@type\": \"Feeder\"\n",
      "}\n"
     ]
    },
    {
     "data": {
      "text/plain": [
       "'49ad8e07-3bf9-a4e2-cb8f-c3722f837b62'"
      ]
     },
     "execution_count": 8,
     "metadata": {},
     "output_type": "execute_result"
    }
   ],
   "source": [
    "f = cim.Feeder()\n",
    "f.uuid(mRID = '49ad8e07-3bf9-a4e2-cb8f-c3722f837b62')\n",
    "f.pprint()\n",
    "f.uri()"
   ]
  },
  {
   "cell_type": "code",
   "execution_count": 9,
   "metadata": {},
   "outputs": [
    {
     "name": "stdout",
     "output_type": "stream",
     "text": [
      "aa588296-8224-4802-8db0-070e4a771ee5\n",
      "{\n",
      "    \"@id\": \"aa588296-8224-4802-8db0-070e4a771ee5\",\n",
      "    \"@type\": \"Feeder\"\n",
      "}\n"
     ]
    },
    {
     "data": {
      "text/plain": [
       "'_49AD8E07-3BF9-A4E2-CB8F-C3722F837B62'"
      ]
     },
     "execution_count": 9,
     "metadata": {},
     "output_type": "execute_result"
    }
   ],
   "source": [
    "f = cim.Feeder()\n",
    "print(f.uri())\n",
    "\n",
    "f.uuid(uri = '_49AD8E07-3BF9-A4E2-CB8F-C3722F837B62')\n",
    "f.pprint()\n",
    "f.uri()"
   ]
  },
  {
   "cell_type": "code",
   "execution_count": 10,
   "metadata": {},
   "outputs": [
    {
     "name": "stdout",
     "output_type": "stream",
     "text": [
      "{\n",
      "    \"@id\": \"828ad4f2-8bcf-4845-8a50-104437bba2be\",\n",
      "    \"@type\": \"Feeder\"\n",
      "}\n"
     ]
    },
    {
     "data": {
      "text/plain": [
       "'49AD8E07-3BF9-A4E2-CB8F-C3722F837B62'"
      ]
     },
     "execution_count": 10,
     "metadata": {},
     "output_type": "execute_result"
    }
   ],
   "source": [
    "f = cim.Feeder()\n",
    "f.uuid(uri = '49AD8E07-3BF9-A4E2-CB8F-C3722F837B62')\n",
    "f.pprint()\n",
    "f.uri()"
   ]
  },
  {
   "cell_type": "code",
   "execution_count": 11,
   "metadata": {},
   "outputs": [
    {
     "name": "stdout",
     "output_type": "stream",
     "text": [
      "{\n",
      "    \"@id\": \"af8acae0-a808-40e8-af6f-66d8ecc8ec45\",\n",
      "    \"@type\": \"Feeder\"\n",
      "}\n"
     ]
    },
    {
     "data": {
      "text/plain": [
       "'49ad8e07-3bf9-a4e2-cb8f-c3722f837b62'"
      ]
     },
     "execution_count": 11,
     "metadata": {},
     "output_type": "execute_result"
    }
   ],
   "source": [
    "f = cim.Feeder()\n",
    "f.uuid(mRID = '49ad8e07-3bf9-a4e2-cb8f-c3722f837b62')\n",
    "f.pprint()\n",
    "f.uri()"
   ]
  },
  {
   "cell_type": "code",
   "execution_count": 12,
   "metadata": {},
   "outputs": [
    {
     "name": "stdout",
     "output_type": "stream",
     "text": [
      "fd4129ee-b01e-4cb5-bc6f-644035b7f034\n",
      "{\n",
      "    \"@id\": \"fd4129ee-b01e-4cb5-bc6f-644035b7f034\",\n",
      "    \"@type\": \"Feeder\"\n",
      "}\n"
     ]
    },
    {
     "data": {
      "text/plain": [
       "'_49AD8E07-3BF9-A4E2-CB8F-C3722F837B62'"
      ]
     },
     "execution_count": 12,
     "metadata": {},
     "output_type": "execute_result"
    }
   ],
   "source": [
    "f = cim.Feeder()\n",
    "print(f.uri())\n",
    "f.uuid(uri = '_49AD8E07-3BF9-A4E2-CB8F-C3722F837B62', mRID = 'qwertyuiop')\n",
    "f.pprint()\n",
    "f.uri()\n"
   ]
  },
  {
   "cell_type": "code",
   "execution_count": 13,
   "metadata": {},
   "outputs": [
    {
     "name": "stdout",
     "output_type": "stream",
     "text": [
      "{\n",
      "    \"@id\": \"49ad8e07-3bf9-a4e2-cb8f-c3722f837b62\",\n",
      "    \"@type\": \"Feeder\"\n",
      "}\n"
     ]
    },
    {
     "data": {
      "text/plain": [
       "'49ad8e07-3bf9-a4e2-cb8f-c3722f837b62'"
      ]
     },
     "execution_count": 13,
     "metadata": {},
     "output_type": "execute_result"
    }
   ],
   "source": [
    "uuid = UUID('49ad8e07-3bf9-a4e2-cb8f-c3722f837b62')\n",
    "f = cim.Feeder(identifier=uuid)\n",
    "f.pprint()\n",
    "f.uri()"
   ]
  },
  {
   "cell_type": "code",
   "execution_count": 14,
   "metadata": {},
   "outputs": [
    {
     "name": "stderr",
     "output_type": "stream",
     "text": [
      "Identifier qwertyuiop must be a UUID object, generating new UUID\n",
      "URI qwertyuiop not a valid UUID, generating new UUID\n",
      "mRID qwertyuiop not a valid UUID, generating new UUID\n",
      "URI qwertyuiop not a valid UUID, generating new UUID\n",
      "mRID qwertyuiop not a valid UUID, generating new UUID\n"
     ]
    },
    {
     "name": "stdout",
     "output_type": "stream",
     "text": [
      "{\n",
      "    \"@id\": \"e68546af-efdd-4105-bfed-9430c392123e\",\n",
      "    \"@type\": \"Feeder\"\n",
      "}\n"
     ]
    },
    {
     "data": {
      "text/plain": [
       "'e68546af-efdd-4105-bfed-9430c392123e'"
      ]
     },
     "execution_count": 14,
     "metadata": {},
     "output_type": "execute_result"
    }
   ],
   "source": [
    "f = cim.Feeder(identifier='qwertyuiop')\n",
    "f.uuid(uri='qwertyuiop')\n",
    "f.pprint()\n",
    "f.uri()"
   ]
  },
  {
   "cell_type": "code",
   "execution_count": 15,
   "metadata": {},
   "outputs": [
    {
     "name": "stderr",
     "output_type": "stream",
     "text": [
      "mRID qwertyuiop not a valid UUID, generating new UUID\n"
     ]
    },
    {
     "name": "stdout",
     "output_type": "stream",
     "text": [
      "{\n",
      "    \"@id\": \"f075dd13-0f5e-40c2-b08e-1a040cee4702\",\n",
      "    \"@type\": \"Feeder\"\n",
      "}\n"
     ]
    },
    {
     "data": {
      "text/plain": [
       "'f075dd13-0f5e-40c2-b08e-1a040cee4702'"
      ]
     },
     "execution_count": 15,
     "metadata": {},
     "output_type": "execute_result"
    }
   ],
   "source": [
    "f = cim.Feeder(mRID='qwertyuiop')\n",
    "f.pprint()\n",
    "f.uri()"
   ]
  },
  {
   "cell_type": "code",
   "execution_count": 16,
   "metadata": {},
   "outputs": [
    {
     "name": "stderr",
     "output_type": "stream",
     "text": [
      "mRID qwertyuiop not a valid UUID, generating new UUID\n"
     ]
    },
    {
     "name": "stdout",
     "output_type": "stream",
     "text": [
      "{\n",
      "    \"@id\": \"9bf0ac3f-9e6b-4935-a6a9-5c031b7b041f\",\n",
      "    \"@type\": \"Feeder\"\n",
      "}\n"
     ]
    },
    {
     "data": {
      "text/plain": [
       "'f075dd13-0f5e-40c2-b08e-1a040cee4702'"
      ]
     },
     "execution_count": 16,
     "metadata": {},
     "output_type": "execute_result"
    }
   ],
   "source": [
    "f = cim.Feeder()\n",
    "f.uuid(mRID = 'qwertyuiop')\n",
    "f.pprint()\n",
    "f.uri()"
   ]
  },
  {
   "cell_type": "code",
   "execution_count": 17,
   "metadata": {},
   "outputs": [
    {
     "name": "stderr",
     "output_type": "stream",
     "text": [
      "mRID qwertyuiop not a valid UUID, generating new UUID\n",
      "mRID qwertyuiop not a valid UUID, generating new UUID\n"
     ]
    },
    {
     "name": "stdout",
     "output_type": "stream",
     "text": [
      "{\n",
      "    \"@id\": \"d3b77ff4-a4dc-41f7-ba51-b8f81d825b3f\",\n",
      "    \"@type\": \"Feeder\"\n",
      "}\n"
     ]
    },
    {
     "data": {
      "text/plain": [
       "'f075dd13-0f5e-40c2-b08e-1a040cee4702'"
      ]
     },
     "execution_count": 17,
     "metadata": {},
     "output_type": "execute_result"
    }
   ],
   "source": [
    "f = cim.Feeder()\n",
    "f.uuid(mRID = 'qwertyuiop')\n",
    "f.uuid(mRID = 'qwertyuiop')\n",
    "f.pprint()\n",
    "f.uri()"
   ]
  },
  {
   "cell_type": "code",
   "execution_count": 18,
   "metadata": {},
   "outputs": [
    {
     "name": "stderr",
     "output_type": "stream",
     "text": [
      "Identifier f075dd13-0f5e-40c2-b08e-1a040cee4702 must be a UUID object, generating new UUID\n"
     ]
    },
    {
     "name": "stdout",
     "output_type": "stream",
     "text": [
      "{\n",
      "    \"@id\": \"f075dd13-0f5e-40c2-b08e-1a040cee4702\",\n",
      "    \"@type\": \"PhaseImpedanceData\"\n",
      "}\n"
     ]
    },
    {
     "data": {
      "text/plain": [
       "'f075dd13-0f5e-40c2-b08e-1a040cee4702'"
      ]
     },
     "execution_count": 18,
     "metadata": {},
     "output_type": "execute_result"
    }
   ],
   "source": [
    "p = cim.PhaseImpedanceData(identifier='f075dd13-0f5e-40c2-b08e-1a040cee4702')\n",
    "p.pprint()\n",
    "p.uri()\n",
    "\n"
   ]
  },
  {
   "cell_type": "code",
   "execution_count": 19,
   "metadata": {},
   "outputs": [
    {
     "name": "stdout",
     "output_type": "stream",
     "text": [
      "{\n",
      "    \"@id\": \"68892726-4450-4a8a-8500-a094a15a0074\",\n",
      "    \"@type\": \"Feeder\"\n",
      "}\n"
     ]
    },
    {
     "data": {
      "text/plain": [
       "'36bee6a3-2c52-4766-a0b0-a75e43cd142f'"
      ]
     },
     "execution_count": 19,
     "metadata": {},
     "output_type": "execute_result"
    }
   ],
   "source": [
    "f = cim.Feeder()\n",
    "f.uuid(name = 'ieee13')\n",
    "f.pprint()\n",
    "f.uri()"
   ]
  },
  {
   "cell_type": "code",
   "execution_count": null,
   "metadata": {},
   "outputs": [],
   "source": []
  }
 ],
 "metadata": {
  "kernelspec": {
   "display_name": ".venv",
   "language": "python",
   "name": "python3"
  },
  "language_info": {
   "codemirror_mode": {
    "name": "ipython",
    "version": 3
   },
   "file_extension": ".py",
   "mimetype": "text/x-python",
   "name": "python",
   "nbconvert_exporter": "python",
   "pygments_lexer": "ipython3",
   "version": "3.10.12"
  }
 },
 "nbformat": 4,
 "nbformat_minor": 2
}
