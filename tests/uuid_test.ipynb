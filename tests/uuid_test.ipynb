{
 "cells": [
  {
   "cell_type": "code",
   "execution_count": 1,
   "metadata": {},
   "outputs": [],
   "source": [
    "import cimgraph.data_profile.cimhub_2023 as cim\n",
    "from uuid import UUID"
   ]
  },
  {
   "cell_type": "code",
   "execution_count": 2,
   "metadata": {},
   "outputs": [
    {
     "name": "stdout",
     "output_type": "stream",
     "text": [
      "{\n",
      "    \"@id\": \"84579197-9423-4b5e-a3d9-681a6bcc2e08\",\n",
      "    \"@type\": \"Feeder\",\n",
      "    \"identifier\": \"84579197-9423-4b5e-a3d9-681a6bcc2e08\",\n",
      "    \"mRID\": \"84579197-9423-4b5e-a3d9-681a6bcc2e08\"\n",
      "}\n"
     ]
    },
    {
     "data": {
      "text/plain": [
       "'84579197-9423-4b5e-a3d9-681a6bcc2e08'"
      ]
     },
     "execution_count": 2,
     "metadata": {},
     "output_type": "execute_result"
    }
   ],
   "source": [
    "f = cim.Feeder()\n",
    "f.pprint()\n",
    "f.uri()"
   ]
  },
  {
   "cell_type": "code",
   "execution_count": 3,
   "metadata": {},
   "outputs": [
    {
     "name": "stdout",
     "output_type": "stream",
     "text": [
      "{\n",
      "    \"@id\": \"49ad8e07-3bf9-a4e2-cb8f-c3722f837b62\",\n",
      "    \"@type\": \"Feeder\",\n",
      "    \"identifier\": \"49ad8e07-3bf9-a4e2-cb8f-c3722f837b62\",\n",
      "    \"mRID\": \"_49AD8E07-3BF9-A4E2-CB8F-C3722F837B62\"\n",
      "}\n"
     ]
    },
    {
     "data": {
      "text/plain": [
       "'_49AD8E07-3BF9-A4E2-CB8F-C3722F837B62'"
      ]
     },
     "execution_count": 3,
     "metadata": {},
     "output_type": "execute_result"
    }
   ],
   "source": [
    "f = cim.Feeder(mRID = '_49AD8E07-3BF9-A4E2-CB8F-C3722F837B62')\n",
    "f.pprint()\n",
    "f.uri()"
   ]
  },
  {
   "cell_type": "code",
   "execution_count": 4,
   "metadata": {},
   "outputs": [
    {
     "name": "stdout",
     "output_type": "stream",
     "text": [
      "{\n",
      "    \"@id\": \"49ad8e07-3bf9-a4e2-cb8f-c3722f837b62\",\n",
      "    \"@type\": \"Feeder\",\n",
      "    \"identifier\": \"49ad8e07-3bf9-a4e2-cb8f-c3722f837b62\",\n",
      "    \"mRID\": \"49AD8E07-3BF9-A4E2-CB8F-C3722F837B62\"\n",
      "}\n"
     ]
    },
    {
     "data": {
      "text/plain": [
       "'49AD8E07-3BF9-A4E2-CB8F-C3722F837B62'"
      ]
     },
     "execution_count": 4,
     "metadata": {},
     "output_type": "execute_result"
    }
   ],
   "source": [
    "f = cim.Feeder(mRID = '49AD8E07-3BF9-A4E2-CB8F-C3722F837B62')\n",
    "f.pprint()\n",
    "f.uri()"
   ]
  },
  {
   "cell_type": "code",
   "execution_count": 5,
   "metadata": {},
   "outputs": [
    {
     "name": "stdout",
     "output_type": "stream",
     "text": [
      "{\n",
      "    \"@id\": \"49ad8e07-3bf9-a4e2-cb8f-c3722f837b62\",\n",
      "    \"@type\": \"Feeder\",\n",
      "    \"identifier\": \"49ad8e07-3bf9-a4e2-cb8f-c3722f837b62\",\n",
      "    \"mRID\": \"49AD8E07-3BF9-A4E2-CB8F-C3722F837B62\"\n",
      "}\n"
     ]
    },
    {
     "data": {
      "text/plain": [
       "'49AD8E07-3BF9-A4E2-CB8F-C3722F837B62'"
      ]
     },
     "execution_count": 5,
     "metadata": {},
     "output_type": "execute_result"
    }
   ],
   "source": [
    "f = cim.Feeder(mRID = '49AD8E07-3BF9-A4E2-CB8F-C3722F837B62')\n",
    "f.pprint()\n",
    "f.uri()"
   ]
  },
  {
   "cell_type": "code",
   "execution_count": 6,
   "metadata": {},
   "outputs": [
    {
     "name": "stdout",
     "output_type": "stream",
     "text": [
      "{\n",
      "    \"@id\": \"49ad8e07-3bf9-a4e2-cb8f-c3722f837b62\",\n",
      "    \"@type\": \"Feeder\",\n",
      "    \"identifier\": \"49ad8e07-3bf9-a4e2-cb8f-c3722f837b62\",\n",
      "    \"mRID\": \"_49AD8E07-3BF9-A4E2-CB8F-C3722F837B62\"\n",
      "}\n"
     ]
    },
    {
     "data": {
      "text/plain": [
       "'_49AD8E07-3BF9-A4E2-CB8F-C3722F837B62'"
      ]
     },
     "execution_count": 6,
     "metadata": {},
     "output_type": "execute_result"
    }
   ],
   "source": [
    "f = cim.Feeder()\n",
    "f.uuid(mRID = '_49AD8E07-3BF9-A4E2-CB8F-C3722F837B62')\n",
    "f.pprint()\n",
    "f.uri()"
   ]
  },
  {
   "cell_type": "code",
   "execution_count": 7,
   "metadata": {},
   "outputs": [
    {
     "name": "stdout",
     "output_type": "stream",
     "text": [
      "{\n",
      "    \"@id\": \"49ad8e07-3bf9-a4e2-cb8f-c3722f837b62\",\n",
      "    \"@type\": \"Feeder\",\n",
      "    \"identifier\": \"49ad8e07-3bf9-a4e2-cb8f-c3722f837b62\",\n",
      "    \"mRID\": \"49AD8E07-3BF9-A4E2-CB8F-C3722F837B62\"\n",
      "}\n"
     ]
    },
    {
     "data": {
      "text/plain": [
       "'49AD8E07-3BF9-A4E2-CB8F-C3722F837B62'"
      ]
     },
     "execution_count": 7,
     "metadata": {},
     "output_type": "execute_result"
    }
   ],
   "source": [
    "f = cim.Feeder()\n",
    "f.uuid(mRID = '49AD8E07-3BF9-A4E2-CB8F-C3722F837B62')\n",
    "f.pprint()\n",
    "f.uri()"
   ]
  },
  {
   "cell_type": "code",
   "execution_count": 8,
   "metadata": {},
   "outputs": [
    {
     "name": "stdout",
     "output_type": "stream",
     "text": [
      "{\n",
      "    \"@id\": \"49ad8e07-3bf9-a4e2-cb8f-c3722f837b62\",\n",
      "    \"@type\": \"Feeder\",\n",
      "    \"identifier\": \"49ad8e07-3bf9-a4e2-cb8f-c3722f837b62\",\n",
      "    \"mRID\": \"49ad8e07-3bf9-a4e2-cb8f-c3722f837b62\"\n",
      "}\n"
     ]
    },
    {
     "data": {
      "text/plain": [
       "'49ad8e07-3bf9-a4e2-cb8f-c3722f837b62'"
      ]
     },
     "execution_count": 8,
     "metadata": {},
     "output_type": "execute_result"
    }
   ],
   "source": [
    "f = cim.Feeder()\n",
    "f.uuid(mRID = '49ad8e07-3bf9-a4e2-cb8f-c3722f837b62')\n",
    "f.pprint()\n",
    "f.uri()"
   ]
  },
  {
   "cell_type": "code",
   "execution_count": 9,
   "metadata": {},
   "outputs": [
    {
     "name": "stdout",
     "output_type": "stream",
     "text": [
      "{\n",
      "    \"@id\": \"49ad8e07-3bf9-a4e2-cb8f-c3722f837b62\",\n",
      "    \"@type\": \"Feeder\",\n",
      "    \"identifier\": \"49ad8e07-3bf9-a4e2-cb8f-c3722f837b62\",\n",
      "    \"mRID\": \"49ad8e07-3bf9-a4e2-cb8f-c3722f837b62\"\n",
      "}\n"
     ]
    },
    {
     "data": {
      "text/plain": [
       "'_49AD8E07-3BF9-A4E2-CB8F-C3722F837B62'"
      ]
     },
     "execution_count": 9,
     "metadata": {},
     "output_type": "execute_result"
    }
   ],
   "source": [
    "f = cim.Feeder()\n",
    "f.uuid(uri = '_49AD8E07-3BF9-A4E2-CB8F-C3722F837B62')\n",
    "f.pprint()\n",
    "f.uri()"
   ]
  },
  {
   "cell_type": "code",
   "execution_count": 10,
   "metadata": {},
   "outputs": [
    {
     "name": "stdout",
     "output_type": "stream",
     "text": [
      "{\n",
      "    \"@id\": \"49ad8e07-3bf9-a4e2-cb8f-c3722f837b62\",\n",
      "    \"@type\": \"Feeder\",\n",
      "    \"identifier\": \"49ad8e07-3bf9-a4e2-cb8f-c3722f837b62\",\n",
      "    \"mRID\": \"49ad8e07-3bf9-a4e2-cb8f-c3722f837b62\"\n",
      "}\n"
     ]
    },
    {
     "data": {
      "text/plain": [
       "'49AD8E07-3BF9-A4E2-CB8F-C3722F837B62'"
      ]
     },
     "execution_count": 10,
     "metadata": {},
     "output_type": "execute_result"
    }
   ],
   "source": [
    "f = cim.Feeder()\n",
    "f.uuid(uri = '49AD8E07-3BF9-A4E2-CB8F-C3722F837B62')\n",
    "f.pprint()\n",
    "f.uri()"
   ]
  },
  {
   "cell_type": "code",
   "execution_count": 11,
   "metadata": {},
   "outputs": [
    {
     "name": "stdout",
     "output_type": "stream",
     "text": [
      "{\n",
      "    \"@id\": \"49ad8e07-3bf9-a4e2-cb8f-c3722f837b62\",\n",
      "    \"@type\": \"Feeder\",\n",
      "    \"identifier\": \"49ad8e07-3bf9-a4e2-cb8f-c3722f837b62\",\n",
      "    \"mRID\": \"49ad8e07-3bf9-a4e2-cb8f-c3722f837b62\"\n",
      "}\n"
     ]
    },
    {
     "data": {
      "text/plain": [
       "'49ad8e07-3bf9-a4e2-cb8f-c3722f837b62'"
      ]
     },
     "execution_count": 11,
     "metadata": {},
     "output_type": "execute_result"
    }
   ],
   "source": [
    "f = cim.Feeder()\n",
    "f.uuid(mRID = '49ad8e07-3bf9-a4e2-cb8f-c3722f837b62')\n",
    "f.pprint()\n",
    "f.uri()"
   ]
  },
  {
   "cell_type": "code",
   "execution_count": 12,
   "metadata": {},
   "outputs": [
    {
     "name": "stdout",
     "output_type": "stream",
     "text": [
      "{\n",
      "    \"@id\": \"49ad8e07-3bf9-a4e2-cb8f-c3722f837b62\",\n",
      "    \"@type\": \"Feeder\",\n",
      "    \"identifier\": \"49ad8e07-3bf9-a4e2-cb8f-c3722f837b62\",\n",
      "    \"mRID\": \"49AD8E07-3BF9-A4E2-CB8F-C3722F837B62\"\n",
      "}\n"
     ]
    },
    {
     "data": {
      "text/plain": [
       "'_49AD8E07-3BF9-A4E2-CB8F-C3722F837B62'"
      ]
     },
     "execution_count": 12,
     "metadata": {},
     "output_type": "execute_result"
    }
   ],
   "source": [
    "f = cim.Feeder()\n",
    "f.uuid(uri = '_49AD8E07-3BF9-A4E2-CB8F-C3722F837B62', mRID = '49AD8E07-3BF9-A4E2-CB8F-C3722F837B62')\n",
    "f.pprint()\n",
    "f.uri()\n"
   ]
  },
  {
   "cell_type": "code",
   "execution_count": 13,
   "metadata": {},
   "outputs": [
    {
     "name": "stdout",
     "output_type": "stream",
     "text": [
      "{\n",
      "    \"@id\": \"49ad8e07-3bf9-a4e2-cb8f-c3722f837b62\",\n",
      "    \"@type\": \"Feeder\",\n",
      "    \"identifier\": \"49ad8e07-3bf9-a4e2-cb8f-c3722f837b62\",\n",
      "    \"mRID\": \"49ad8e07-3bf9-a4e2-cb8f-c3722f837b62\"\n",
      "}\n"
     ]
    },
    {
     "data": {
      "text/plain": [
       "'49ad8e07-3bf9-a4e2-cb8f-c3722f837b62'"
      ]
     },
     "execution_count": 13,
     "metadata": {},
     "output_type": "execute_result"
    }
   ],
   "source": [
    "uuid = UUID('49ad8e07-3bf9-a4e2-cb8f-c3722f837b62')\n",
    "f = cim.Feeder(identifier=uuid)\n",
    "f.pprint()\n",
    "f.uri()"
   ]
  },
  {
   "cell_type": "code",
   "execution_count": 14,
   "metadata": {},
   "outputs": [
    {
     "name": "stderr",
     "output_type": "stream",
     "text": [
      "Identifier qwertyuiop must be a UUID object, generating new UUID\n",
      "URI qwertyuiop not a valid UUID, generating new UUID\n",
      "mRID qwertyuiop not a valid UUID, generating new UUID\n"
     ]
    },
    {
     "name": "stdout",
     "output_type": "stream",
     "text": [
      "{\n",
      "    \"@id\": \"3853d794-b93d-4908-8821-cc0bca7bb780\",\n",
      "    \"@type\": \"Feeder\",\n",
      "    \"identifier\": \"3853d794-b93d-4908-8821-cc0bca7bb780\",\n",
      "    \"mRID\": \"qwertyuiop\"\n",
      "}\n"
     ]
    },
    {
     "data": {
      "text/plain": [
       "'3853d794-b93d-4908-8821-cc0bca7bb780'"
      ]
     },
     "execution_count": 14,
     "metadata": {},
     "output_type": "execute_result"
    }
   ],
   "source": [
    "f = cim.Feeder(identifier='qwertyuiop')\n",
    "f.pprint()\n",
    "f.uri()"
   ]
  },
  {
   "cell_type": "code",
   "execution_count": 15,
   "metadata": {},
   "outputs": [
    {
     "name": "stderr",
     "output_type": "stream",
     "text": [
      "mRID qwertyuiop not a valid UUID, generating new UUID\n"
     ]
    },
    {
     "name": "stdout",
     "output_type": "stream",
     "text": [
      "{\n",
      "    \"@id\": \"d33d33b9-06e0-4c48-afb2-84829f87a218\",\n",
      "    \"@type\": \"Feeder\",\n",
      "    \"identifier\": \"d33d33b9-06e0-4c48-afb2-84829f87a218\",\n",
      "    \"mRID\": \"qwertyuiop\"\n",
      "}\n"
     ]
    },
    {
     "data": {
      "text/plain": [
       "'d33d33b9-06e0-4c48-afb2-84829f87a218'"
      ]
     },
     "execution_count": 15,
     "metadata": {},
     "output_type": "execute_result"
    }
   ],
   "source": [
    "f = cim.Feeder(mRID='qwertyuiop')\n",
    "f.pprint()\n",
    "f.uri()"
   ]
  },
  {
   "cell_type": "code",
   "execution_count": 16,
   "metadata": {},
   "outputs": [
    {
     "name": "stderr",
     "output_type": "stream",
     "text": [
      "mRID qwertyuiop not a valid UUID, generating new UUID\n"
     ]
    },
    {
     "name": "stdout",
     "output_type": "stream",
     "text": [
      "{\n",
      "    \"@id\": \"14da6dc4-96cb-4a40-985b-0f92a21fd4b7\",\n",
      "    \"@type\": \"Feeder\",\n",
      "    \"identifier\": \"14da6dc4-96cb-4a40-985b-0f92a21fd4b7\",\n",
      "    \"mRID\": \"qwertyuiop\"\n",
      "}\n"
     ]
    },
    {
     "data": {
      "text/plain": [
       "'14da6dc4-96cb-4a40-985b-0f92a21fd4b7'"
      ]
     },
     "execution_count": 16,
     "metadata": {},
     "output_type": "execute_result"
    }
   ],
   "source": [
    "f = cim.Feeder()\n",
    "f.uuid(mRID = 'qwertyuiop')\n",
    "f.pprint()\n",
    "f.uri()"
   ]
  },
  {
   "cell_type": "code",
   "execution_count": null,
   "metadata": {},
   "outputs": [],
   "source": []
  }
 ],
 "metadata": {
  "kernelspec": {
   "display_name": ".venv",
   "language": "python",
   "name": "python3"
  },
  "language_info": {
   "codemirror_mode": {
    "name": "ipython",
    "version": 3
   },
   "file_extension": ".py",
   "mimetype": "text/x-python",
   "name": "python",
   "nbconvert_exporter": "python",
   "pygments_lexer": "ipython3",
   "version": "3.10.12"
  }
 },
 "nbformat": 4,
 "nbformat_minor": 2
}
