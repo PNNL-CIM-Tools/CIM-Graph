{
 "cells": [
  {
   "cell_type": "code",
   "execution_count": 1,
   "metadata": {},
   "outputs": [],
   "source": [
    "from cimgraph.data_profile.units import units\n",
    "import cimgraph.data_profile.cimhub_2023 as cim"
   ]
  },
  {
   "cell_type": "code",
   "execution_count": 2,
   "metadata": {},
   "outputs": [],
   "source": [
    "new_load = cim.EnergyConsumer()\n",
    "new_load.p\n",
    "\n",
    "\n",
    "\n",
    "\n",
    "\n",
    "\n",
    "\n",
    "\n",
    "\n",
    "\n",
    "\n"
   ]
  },
  {
   "cell_type": "code",
   "execution_count": 3,
   "metadata": {},
   "outputs": [
    {
     "data": {
      "text/plain": [
       "'Optional[str]'"
      ]
     },
     "execution_count": 3,
     "metadata": {},
     "output_type": "execute_result"
    }
   ],
   "source": [
    "cim.EnergyConsumer.__dataclass_fields__['aliasName'].type"
   ]
  },
  {
   "cell_type": "code",
   "execution_count": null,
   "metadata": {},
   "outputs": [],
   "source": []
  },
  {
   "cell_type": "code",
   "execution_count": 4,
   "metadata": {},
   "outputs": [],
   "source": [
    "new_terminal = cim.Terminal()\n",
    "new_terminal.uuid()\n",
    "\n",
    "meas1 = cim.Analog()\n",
    "meas1.Terminal = new_terminal\n",
    "meas1.uuid(mRID='_9B47782C-B78D-4627-82EF-4B87CAD7142E')\n",
    "\n",
    "meas2 = cim.Discrete()\n",
    "meas2.Terminal = new_terminal\n",
    "meas2.uuid(name='breaker_23_position')\n",
    "\n",
    "meas3 = cim.Analog()\n",
    "meas3.Terminal = new_terminal\n",
    "meas3.uuid(mRID='qwertyuiop')"
   ]
  },
  {
   "cell_type": "code",
   "execution_count": 5,
   "metadata": {},
   "outputs": [
    {
     "name": "stdout",
     "output_type": "stream",
     "text": [
      "mRID is ac21bd58-f618-400a-bfc3-221318a80662\n",
      "name is breaker_23_position\n"
     ]
    },
    {
     "data": {
      "text/plain": [
       "UUID('ac21bd58-f618-400a-bfc3-221318a80662')"
      ]
     },
     "execution_count": 5,
     "metadata": {},
     "output_type": "execute_result"
    }
   ],
   "source": [
    "print('mRID is', meas2.mRID)\n",
    "print('name is', meas2.name)\n",
    "\n",
    "meas2.identifier"
   ]
  },
  {
   "cell_type": "markdown",
   "metadata": {},
   "source": []
  },
  {
   "cell_type": "code",
   "execution_count": 6,
   "metadata": {},
   "outputs": [
    {
     "name": "stdout",
     "output_type": "stream",
     "text": [
      "mRID is None\n"
     ]
    },
    {
     "data": {
      "text/plain": [
       "UUID('9b47782c-b78d-4627-82ef-4b87cad7142e')"
      ]
     },
     "execution_count": 6,
     "metadata": {},
     "output_type": "execute_result"
    }
   ],
   "source": [
    "print('mRID is', meas1.mRID)\n",
    "\n",
    "meas1.identifier"
   ]
  },
  {
   "cell_type": "code",
   "execution_count": 7,
   "metadata": {},
   "outputs": [
    {
     "name": "stdout",
     "output_type": "stream",
     "text": [
      "mRID is qwertyuiop\n"
     ]
    },
    {
     "data": {
      "text/plain": [
       "UUID('ec508cb2-04d2-4494-8f06-e5c499eb5bd0')"
      ]
     },
     "execution_count": 7,
     "metadata": {},
     "output_type": "execute_result"
    }
   ],
   "source": [
    "print('mRID is', meas3.mRID)\n",
    "\n",
    "meas3.identifier"
   ]
  },
  {
   "cell_type": "code",
   "execution_count": 8,
   "metadata": {},
   "outputs": [
    {
     "data": {
      "text/plain": [
       "'ac21bd58-f618-400a-bfc3-221318a80662'"
      ]
     },
     "execution_count": 8,
     "metadata": {},
     "output_type": "execute_result"
    }
   ],
   "source": [
    "meas2.uri()"
   ]
  },
  {
   "cell_type": "code",
   "execution_count": 9,
   "metadata": {},
   "outputs": [],
   "source": [
    "new_terminal.Measurements.append(meas1)\n",
    "new_terminal.Measurements.append(meas2)"
   ]
  },
  {
   "cell_type": "code",
   "execution_count": 10,
   "metadata": {},
   "outputs": [
    {
     "data": {
      "text/plain": [
       "{'identifier': UUID('332e2fb8-5add-4919-be8d-9197bd240ceb'),\n",
       " 'mRID': '332e2fb8-5add-4919-be8d-9197bd240ceb',\n",
       " 'aliasName': None,\n",
       " 'description': None,\n",
       " 'name': None,\n",
       " 'Names': [],\n",
       " 'connected': None,\n",
       " 'sequenceNumber': None,\n",
       " 'BusNameMarker': None,\n",
       " 'Measurements': [{\"@id\": \"9b47782c-b78d-4627-82ef-4b87cad7142e\", \"@type\": \"Analog\"},\n",
       "  {\"@id\": \"ac21bd58-f618-400a-bfc3-221318a80662\", \"@type\": \"Discrete\"}],\n",
       " 'OperationalLimitSet': [],\n",
       " 'Bushing': None,\n",
       " 'ConductingEquipment': None,\n",
       " 'ConnectivityNode': None,\n",
       " 'HasFirstMutualCoupling': [],\n",
       " 'HasSecondMutualCoupling': [],\n",
       " 'NormalHeadFeeder': None,\n",
       " 'RegulatingControl': [],\n",
       " 'TopologicalNode': None,\n",
       " 'TransformerEnd': [],\n",
       " '__uuid__': <cimgraph.data_profile.cimhub_2023.cimhub_2023.Identity.__uuid_meta__ at 0x7fafb22e56f0>}"
      ]
     },
     "execution_count": 10,
     "metadata": {},
     "output_type": "execute_result"
    }
   ],
   "source": [
    "new_terminal.__dict__"
   ]
  },
  {
   "cell_type": "code",
   "execution_count": 11,
   "metadata": {},
   "outputs": [
    {
     "data": {
      "text/plain": [
       "{\"@id\": \"332e2fb8-5add-4919-be8d-9197bd240ceb\", \"@type\": \"Terminal\"}"
      ]
     },
     "execution_count": 11,
     "metadata": {},
     "output_type": "execute_result"
    }
   ],
   "source": [
    "new_terminal"
   ]
  },
  {
   "cell_type": "code",
   "execution_count": 12,
   "metadata": {},
   "outputs": [
    {
     "name": "stdout",
     "output_type": "stream",
     "text": [
      "{\"@id\": \"332e2fb8-5add-4919-be8d-9197bd240ceb\", \"@type\": \"Terminal\", \"identifier\": \"332e2fb8-5add-4919-be8d-9197bd240ceb\", \"mRID\": \"332e2fb8-5add-4919-be8d-9197bd240ceb\", \"Measurements\": [{\"@id\": \"9b47782c-b78d-4627-82ef-4b87cad7142e\", \"@type\": \"Analog\"}, {\"@id\": \"ac21bd58-f618-400a-bfc3-221318a80662\", \"@type\": \"Discrete\"}]}\n"
     ]
    }
   ],
   "source": [
    "print(new_terminal)"
   ]
  },
  {
   "cell_type": "code",
   "execution_count": 13,
   "metadata": {},
   "outputs": [
    {
     "name": "stdout",
     "output_type": "stream",
     "text": [
      "{\n",
      "    \"@id\": \"332e2fb8-5add-4919-be8d-9197bd240ceb\",\n",
      "    \"@type\": \"Terminal\",\n",
      "    \"identifier\": \"332e2fb8-5add-4919-be8d-9197bd240ceb\",\n",
      "    \"mRID\": \"332e2fb8-5add-4919-be8d-9197bd240ceb\",\n",
      "    \"Measurements\": [\n",
      "        {\n",
      "            \"@id\": \"9b47782c-b78d-4627-82ef-4b87cad7142e\",\n",
      "            \"@type\": \"Analog\"\n",
      "        },\n",
      "        {\n",
      "            \"@id\": \"ac21bd58-f618-400a-bfc3-221318a80662\",\n",
      "            \"@type\": \"Discrete\"\n",
      "        }\n",
      "    ]\n",
      "}\n"
     ]
    }
   ],
   "source": [
    "new_terminal.pprint()"
   ]
  },
  {
   "cell_type": "code",
   "execution_count": 14,
   "metadata": {},
   "outputs": [
    {
     "name": "stdout",
     "output_type": "stream",
     "text": [
      "{\n",
      "    \"@id\": \"332e2fb8-5add-4919-be8d-9197bd240ceb\",\n",
      "    \"@type\": \"Terminal\",\n",
      "    \"identifier\": \"332e2fb8-5add-4919-be8d-9197bd240ceb\",\n",
      "    \"mRID\": \"332e2fb8-5add-4919-be8d-9197bd240ceb\",\n",
      "    \"Measurements\": [\n",
      "        {\n",
      "            \"@id\": \"9b47782c-b78d-4627-82ef-4b87cad7142e\",\n",
      "            \"@type\": \"Analog\"\n",
      "        },\n",
      "        {\n",
      "            \"@id\": \"ac21bd58-f618-400a-bfc3-221318a80662\",\n",
      "            \"@type\": \"Discrete\"\n",
      "        }\n",
      "    ]\n",
      "}\n"
     ]
    }
   ],
   "source": [
    "new_terminal.pprint()"
   ]
  },
  {
   "cell_type": "code",
   "execution_count": 29,
   "metadata": {},
   "outputs": [],
   "source": [
    "import enum\n",
    "import json\n",
    "\n",
    "f = open('training_data.json', 'w')\n",
    "f.write('[')\n",
    "\n",
    "# List of type Asset.\n",
    "# An object of type Location.\n",
    "\n",
    "for class_name in cim.__all__:\n",
    "    item = {}\n",
    "    cim_class = eval(f'cim.{class_name}')\n",
    "    item[\"id\"] = class_name\n",
    "    item[\"text\"] = \"A Class that describes \"\n",
    "    item[\"text\"] += (cim_class.__doc__)\n",
    "\n",
    "    row = json.dumps(item)\n",
    "    row = row.replace(\"\\\\n    \", \" \")\n",
    "    if len(cim_class.__mro__)>2:\n",
    "        f.write(row+','+'\\n')\n",
    "\n",
    "\n",
    "\n",
    "\n",
    "    if type(cim_class) is not enum.EnumMeta:\n",
    "        for attribute in cim_class.__dataclass_fields__:\n",
    "            attr = cim_class.__dataclass_fields__[attribute]\n",
    "            try:\n",
    "                item = {}\n",
    "                item[\"id\"] = f\"{cim_class.__name__}.{attribute}\"\n",
    "                attr_type = str(attr.type)\n",
    "\n",
    "\n",
    "                item[\"text\"] = \"\"\n",
    "\n",
    "                if 'list' in attr_type:\n",
    "                    item[\"text\"] += \"A List of \"\n",
    "\n",
    "                if 'Attribute' in attr.metadata['type']:\n",
    "                    item[\"text\"] += \"An attribute of type \"\n",
    "                    item[\"text\"] += attr_type.split('[')[1].split(']')[0].replace('|', 'or') +'.'\n",
    "                \n",
    "                if 'Association' in attr.metadata['type'] or 'Aggregate' in attr.metadata['type']:\n",
    "                    item[\"text\"] += \"Association to Class  \"\n",
    "                    item[\"text\"] += attr_type.split('[')[1].split(']')[0].replace('|', 'or') +'.'\n",
    "\n",
    "                item[\"text\"] += attr.metadata['docstring']\n",
    "                row = json.dumps(item)\n",
    "                row = row.replace(\"\\\\n\", \" \")\n",
    "                row = row.replace(\"     \", \"\")\n",
    "                \n",
    "                f.write(row+','+'\\n')\n",
    "\n",
    "                \n",
    "            except:\n",
    "                pass\n",
    "\n",
    "f.write('''{\"id\": \"CIM\", \"text\": \"Common Information Model\"}''')\n",
    "f.write(']')\n",
    "f.close()\n",
    "# x = json.dumps(training_data)\n",
    "# x = x.replace(\"\\\\n    \", \" \")"
   ]
  },
  {
   "cell_type": "code",
   "execution_count": 16,
   "metadata": {},
   "outputs": [
    {
     "data": {
      "text/plain": [
       "True"
      ]
     },
     "execution_count": 16,
     "metadata": {},
     "output_type": "execute_result"
    }
   ],
   "source": [
    "import enum\n",
    "type(cim.BatteryStateKind) is enum.EnumMeta"
   ]
  },
  {
   "cell_type": "code",
   "execution_count": 17,
   "metadata": {},
   "outputs": [
    {
     "name": "stdout",
     "output_type": "stream",
     "text": [
      "\\n    This is the new root class from CIM 18 to provide common identification\\n    for all cl\n"
     ]
    },
    {
     "data": {
      "text/plain": [
       "'This is the new root class from CIM 18 to provide common identificationfor all cl'"
      ]
     },
     "execution_count": 17,
     "metadata": {},
     "output_type": "execute_result"
    }
   ],
   "source": [
    "x = \"\\\\n    This is the new root class from CIM 18 to provide common identification\\\\n    for all cl\"\n",
    "print(x)\n",
    "x.replace(\"\\\\n    \", \"\")"
   ]
  },
  {
   "cell_type": "code",
   "execution_count": 18,
   "metadata": {},
   "outputs": [
    {
     "data": {
      "text/plain": [
       "'Measurement.Terminal'"
      ]
     },
     "execution_count": 18,
     "metadata": {},
     "output_type": "execute_result"
    }
   ],
   "source": [
    "cim.Terminal.__dataclass_fields__['Measurements'].metadata['inverse']"
   ]
  },
  {
   "cell_type": "code",
   "execution_count": 19,
   "metadata": {},
   "outputs": [
    {
     "ename": "NameError",
     "evalue": "name 'network' is not defined",
     "output_type": "error",
     "traceback": [
      "\u001b[0;31m---------------------------------------------------------------------------\u001b[0m",
      "\u001b[0;31mNameError\u001b[0m                                 Traceback (most recent call last)",
      "Cell \u001b[0;32mIn[19], line 1\u001b[0m\n\u001b[0;32m----> 1\u001b[0m \u001b[43mnetwork\u001b[49m\u001b[38;5;241m.\u001b[39mgraph[cim\u001b[38;5;241m.\u001b[39mClassName]\n",
      "\u001b[0;31mNameError\u001b[0m: name 'network' is not defined"
     ]
    }
   ],
   "source": [
    "\n",
    "network.graph[cim.ClassName]"
   ]
  },
  {
   "cell_type": "code",
   "execution_count": null,
   "metadata": {},
   "outputs": [],
   "source": [
    "cim_class = cim.ACLineSegment\n",
    "attr = cim_class.__dataclass_fields__['r']\n",
    "attr_type = attr.type\n",
    "attr_type.split('[')[1].split(']')[0].replace('|', 'or')\n"
   ]
  },
  {
   "cell_type": "code",
   "execution_count": 26,
   "metadata": {},
   "outputs": [
    {
     "data": {
      "text/plain": [
       "2"
      ]
     },
     "execution_count": 26,
     "metadata": {},
     "output_type": "execute_result"
    }
   ],
   "source": [
    "len(cim.Source.__mro__)"
   ]
  }
 ],
 "metadata": {
  "kernelspec": {
   "display_name": ".venv",
   "language": "python",
   "name": "python3"
  },
  "language_info": {
   "codemirror_mode": {
    "name": "ipython",
    "version": 3
   },
   "file_extension": ".py",
   "mimetype": "text/x-python",
   "name": "python",
   "nbconvert_exporter": "python",
   "pygments_lexer": "ipython3",
   "version": "3.10.12"
  }
 },
 "nbformat": 4,
 "nbformat_minor": 2
}
