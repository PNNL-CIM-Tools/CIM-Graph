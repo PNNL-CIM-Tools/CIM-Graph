{
 "cells": [
  {
   "cell_type": "code",
   "execution_count": 1,
   "metadata": {},
   "outputs": [],
   "source": [
    "from cimgraph.data_profile.units import units\n",
    "import cimgraph.data_profile.ufls as cim"
   ]
  },
  {
   "cell_type": "code",
   "execution_count": 9,
   "metadata": {},
   "outputs": [],
   "source": [
    "term = cim.Terminal()\n",
    "term.uuid()\n",
    "\n",
    "meas1 = cim.Analog()\n",
    "meas1.Terminal = term\n",
    "meas1.uuid(mRID='_9B47782C-B78D-4627-82EF-4B87CAD7142E')\n",
    "\n",
    "meas2 = cim.Discrete()\n",
    "meas2.Terminal = term\n",
    "meas2.uuid(name='breaker_23_position')\n",
    "\n",
    "term.Measurements.append(meas1)\n",
    "term.Measurements.append(meas2)"
   ]
  },
  {
   "cell_type": "code",
   "execution_count": 10,
   "metadata": {},
   "outputs": [
    {
     "name": "stdout",
     "output_type": "stream",
     "text": [
      "uuid is  9b47782c-b78d-4627-82ef-4b87cad7142e\n",
      "mRID is _9B47782C-B78D-4627-82EF-4B87CAD7142E\n"
     ]
    }
   ],
   "source": [
    "\n",
    "print('uuid is ', meas1.identifier)\n",
    "print('mRID is', meas1.mRID)"
   ]
  },
  {
   "cell_type": "code",
   "execution_count": 11,
   "metadata": {},
   "outputs": [
    {
     "data": {
      "text/plain": [
       "UUID('9b47782c-b78d-4627-82ef-4b87cad7142e')"
      ]
     },
     "execution_count": 11,
     "metadata": {},
     "output_type": "execute_result"
    }
   ],
   "source": [
    "meas1.identifier"
   ]
  },
  {
   "cell_type": "code",
   "execution_count": 12,
   "metadata": {},
   "outputs": [
    {
     "data": {
      "text/plain": [
       "{\"@id\": \"9b47782c-b78d-4627-82ef-4b87cad7142e\", \"@type\": \"Analog\"}"
      ]
     },
     "execution_count": 12,
     "metadata": {},
     "output_type": "execute_result"
    }
   ],
   "source": [
    "meas1"
   ]
  },
  {
   "cell_type": "code",
   "execution_count": 13,
   "metadata": {},
   "outputs": [
    {
     "data": {
      "text/plain": [
       "{'identifier': UUID('9b47782c-b78d-4627-82ef-4b87cad7142e'),\n",
       " 'mRID': '_9B47782C-B78D-4627-82EF-4B87CAD7142E',\n",
       " 'aliasName': None,\n",
       " 'description': None,\n",
       " 'name': None,\n",
       " 'measurementType': None,\n",
       " 'PowerSystemResource': None,\n",
       " 'Terminal': {\"@id\": \"d2d07351-3b99-471b-8d89-9c2b08d9c876\", \"@type\": \"Terminal\"},\n",
       " 'maxValue': None,\n",
       " 'minValue': None,\n",
       " 'normalValue': None,\n",
       " 'positiveFlowIn': None}"
      ]
     },
     "execution_count": 13,
     "metadata": {},
     "output_type": "execute_result"
    }
   ],
   "source": [
    "meas1.__dict__"
   ]
  },
  {
   "cell_type": "code",
   "execution_count": 14,
   "metadata": {},
   "outputs": [
    {
     "name": "stdout",
     "output_type": "stream",
     "text": [
      "{\n",
      "    \"@id\": \"9b47782c-b78d-4627-82ef-4b87cad7142e\",\n",
      "    \"@type\": \"Analog\",\n",
      "    \"identifier\": \"9b47782c-b78d-4627-82ef-4b87cad7142e\",\n",
      "    \"mRID\": \"_9B47782C-B78D-4627-82EF-4B87CAD7142E\",\n",
      "    \"Terminal\": {\n",
      "        \"@id\": \"d2d07351-3b99-471b-8d89-9c2b08d9c876\",\n",
      "        \"@type\": \"Terminal\"\n",
      "    }\n",
      "}\n"
     ]
    }
   ],
   "source": [
    "print(meas1)"
   ]
  },
  {
   "cell_type": "code",
   "execution_count": 15,
   "metadata": {},
   "outputs": [
    {
     "name": "stdout",
     "output_type": "stream",
     "text": [
      "{\n",
      "    \"@id\": \"d2d07351-3b99-471b-8d89-9c2b08d9c876\",\n",
      "    \"@type\": \"Terminal\",\n",
      "    \"identifier\": \"d2d07351-3b99-471b-8d89-9c2b08d9c876\",\n",
      "    \"mRID\": \"d2d07351-3b99-471b-8d89-9c2b08d9c876\",\n",
      "    \"Measurements\": [\n",
      "        {\n",
      "            \"@id\": \"9b47782c-b78d-4627-82ef-4b87cad7142e\",\n",
      "            \"@type\": \"Analog\"\n",
      "        },\n",
      "        {\n",
      "            \"@id\": \"ac21bd58-f618-400a-bfc3-221318a80662\",\n",
      "            \"@type\": \"Discrete\"\n",
      "        }\n",
      "    ]\n",
      "}\n"
     ]
    }
   ],
   "source": [
    "print(term)"
   ]
  },
  {
   "cell_type": "code",
   "execution_count": null,
   "metadata": {},
   "outputs": [],
   "source": []
  }
 ],
 "metadata": {
  "kernelspec": {
   "display_name": ".venv",
   "language": "python",
   "name": "python3"
  },
  "language_info": {
   "codemirror_mode": {
    "name": "ipython",
    "version": 3
   },
   "file_extension": ".py",
   "mimetype": "text/x-python",
   "name": "python",
   "nbconvert_exporter": "python",
   "pygments_lexer": "ipython3",
   "version": "3.10.12"
  }
 },
 "nbformat": 4,
 "nbformat_minor": 2
}
