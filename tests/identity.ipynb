{
 "cells": [
  {
   "cell_type": "code",
   "execution_count": 1,
   "metadata": {},
   "outputs": [],
   "source": [
    "from cimgraph.data_profile.units import units\n",
    "import cimgraph.data_profile.ufls as cim"
   ]
  },
  {
   "cell_type": "code",
   "execution_count": 2,
   "metadata": {},
   "outputs": [],
   "source": [
    "term = cim.Terminal()\n",
    "term.uuid()\n",
    "meas = cim.Analog()\n",
    "meas.Terminal = term\n",
    "term.Measurements.append(meas)"
   ]
  },
  {
   "cell_type": "code",
   "execution_count": 3,
   "metadata": {},
   "outputs": [
    {
     "name": "stdout",
     "output_type": "stream",
     "text": [
      "uuid is  9b47782c-b78d-4627-82ef-4b87cad7142e\n",
      "mRID is _9B47782C-B78D-4627-82EF-4B87CAD7142E\n"
     ]
    }
   ],
   "source": [
    "meas.uuid(mRID='_9B47782C-B78D-4627-82EF-4B87CAD7142E')\n",
    "print('uuid is ', meas.identifier)\n",
    "print('mRID is', meas.mRID)"
   ]
  },
  {
   "cell_type": "code",
   "execution_count": 4,
   "metadata": {},
   "outputs": [
    {
     "data": {
      "text/plain": [
       "{\"@id\": \"9b47782c-b78d-4627-82ef-4b87cad7142e\", \"@type\": \"Analog\"}"
      ]
     },
     "execution_count": 4,
     "metadata": {},
     "output_type": "execute_result"
    }
   ],
   "source": [
    "meas"
   ]
  },
  {
   "cell_type": "code",
   "execution_count": 8,
   "metadata": {},
   "outputs": [
    {
     "data": {
      "text/plain": [
       "{'identifier': UUID('9b47782c-b78d-4627-82ef-4b87cad7142e'),\n",
       " 'mRID': '_9B47782C-B78D-4627-82EF-4B87CAD7142E',\n",
       " 'aliasName': None,\n",
       " 'description': None,\n",
       " 'name': None,\n",
       " 'measurementType': None,\n",
       " 'PowerSystemResource': None,\n",
       " 'Terminal': {\"@id\": \"4be9202f-4b44-47b9-a362-599694aa6d87\", \"@type\": \"Terminal\"},\n",
       " 'maxValue': None,\n",
       " 'minValue': None,\n",
       " 'normalValue': None,\n",
       " 'positiveFlowIn': None}"
      ]
     },
     "execution_count": 8,
     "metadata": {},
     "output_type": "execute_result"
    }
   ],
   "source": [
    "meas.__dict__"
   ]
  },
  {
   "cell_type": "code",
   "execution_count": 9,
   "metadata": {},
   "outputs": [
    {
     "name": "stdout",
     "output_type": "stream",
     "text": [
      "{\n",
      "    \"@id\": \"9b47782c-b78d-4627-82ef-4b87cad7142e\",\n",
      "    \"@type\": \"Analog\",\n",
      "    \"identifier\": \"9b47782c-b78d-4627-82ef-4b87cad7142e\",\n",
      "    \"mRID\": \"_9B47782C-B78D-4627-82EF-4B87CAD7142E\",\n",
      "    \"Terminal\": {\n",
      "        \"@id\": \"4be9202f-4b44-47b9-a362-599694aa6d87\",\n",
      "        \"@type\": \"Terminal\"\n",
      "    }\n",
      "}\n"
     ]
    }
   ],
   "source": [
    "print(meas)"
   ]
  },
  {
   "cell_type": "code",
   "execution_count": 10,
   "metadata": {},
   "outputs": [
    {
     "name": "stdout",
     "output_type": "stream",
     "text": [
      "{\n",
      "    \"@id\": \"4be9202f-4b44-47b9-a362-599694aa6d87\",\n",
      "    \"@type\": \"Terminal\",\n",
      "    \"identifier\": \"4be9202f-4b44-47b9-a362-599694aa6d87\",\n",
      "    \"mRID\": \"4be9202f-4b44-47b9-a362-599694aa6d87\",\n",
      "    \"Measurements\": [\n",
      "        {\n",
      "            \"@id\": \"9b47782c-b78d-4627-82ef-4b87cad7142e\",\n",
      "            \"@type\": \"Analog\"\n",
      "        }\n",
      "    ]\n",
      "}\n"
     ]
    }
   ],
   "source": [
    "print(term)"
   ]
  },
  {
   "cell_type": "code",
   "execution_count": null,
   "metadata": {},
   "outputs": [],
   "source": []
  }
 ],
 "metadata": {
  "kernelspec": {
   "display_name": ".venv",
   "language": "python",
   "name": "python3"
  },
  "language_info": {
   "codemirror_mode": {
    "name": "ipython",
    "version": 3
   },
   "file_extension": ".py",
   "mimetype": "text/x-python",
   "name": "python",
   "nbconvert_exporter": "python",
   "pygments_lexer": "ipython3",
   "version": "3.10.12"
  }
 },
 "nbformat": 4,
 "nbformat_minor": 2
}
