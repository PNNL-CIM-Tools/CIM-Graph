{
 "cells": [
  {
   "cell_type": "code",
   "execution_count": 1,
   "metadata": {},
   "outputs": [],
   "source": [
    "from cimgraph.data_profile.units import units\n",
    "import cimgraph.data_profile.cim17v40 as cim"
   ]
  },
  {
   "cell_type": "code",
   "execution_count": 2,
   "metadata": {},
   "outputs": [],
   "source": [
    "new_load = cim.EnergyConsumer()\n",
    "new_load.p\n",
    "\n",
    "\n",
    "\n",
    "\n",
    "\n",
    "\n",
    "\n",
    "\n",
    "\n",
    "\n",
    "\n"
   ]
  },
  {
   "cell_type": "code",
   "execution_count": 5,
   "metadata": {},
   "outputs": [
    {
     "data": {
      "text/plain": [
       "'Optional[str]'"
      ]
     },
     "execution_count": 5,
     "metadata": {},
     "output_type": "execute_result"
    }
   ],
   "source": [
    "cim.EnergyConsumer.__dataclass_fields__['aliasName'].type"
   ]
  },
  {
   "cell_type": "code",
   "execution_count": null,
   "metadata": {},
   "outputs": [],
   "source": []
  },
  {
   "cell_type": "code",
   "execution_count": 3,
   "metadata": {},
   "outputs": [
    {
     "name": "stderr",
     "output_type": "stream",
     "text": [
      "Warning: mRID qwertyuiop not a valid UUID, generating new UUID\n"
     ]
    }
   ],
   "source": [
    "new_terminal = cim.Terminal()\n",
    "new_terminal.uuid()\n",
    "\n",
    "meas1 = cim.Analog()\n",
    "meas1.Terminal = new_terminal\n",
    "meas1.uuid(mRID='_9B47782C-B78D-4627-82EF-4B87CAD7142E')\n",
    "\n",
    "meas2 = cim.Discrete()\n",
    "meas2.Terminal = new_terminal\n",
    "meas2.uuid(name='breaker_23_position')\n",
    "\n",
    "meas3 = cim.Analog()\n",
    "meas3.Terminal = new_terminal\n",
    "meas3.uuid(mRID='qwertyuiop')"
   ]
  },
  {
   "cell_type": "code",
   "execution_count": 4,
   "metadata": {},
   "outputs": [
    {
     "name": "stdout",
     "output_type": "stream",
     "text": [
      "mRID is ac21bd58-f618-400a-bfc3-221318a80662\n",
      "name is breaker_23_position\n"
     ]
    },
    {
     "data": {
      "text/plain": [
       "UUID('ac21bd58-f618-400a-bfc3-221318a80662')"
      ]
     },
     "execution_count": 4,
     "metadata": {},
     "output_type": "execute_result"
    }
   ],
   "source": [
    "print('mRID is', meas2.mRID)\n",
    "print('name is', meas2.name)\n",
    "\n",
    "meas2.identifier"
   ]
  },
  {
   "cell_type": "markdown",
   "metadata": {},
   "source": []
  },
  {
   "cell_type": "code",
   "execution_count": 5,
   "metadata": {},
   "outputs": [
    {
     "name": "stdout",
     "output_type": "stream",
     "text": [
      "mRID is _9B47782C-B78D-4627-82EF-4B87CAD7142E\n"
     ]
    },
    {
     "data": {
      "text/plain": [
       "UUID('9b47782c-b78d-4627-82ef-4b87cad7142e')"
      ]
     },
     "execution_count": 5,
     "metadata": {},
     "output_type": "execute_result"
    }
   ],
   "source": [
    "print('mRID is', meas1.mRID)\n",
    "\n",
    "meas1.identifier"
   ]
  },
  {
   "cell_type": "code",
   "execution_count": 6,
   "metadata": {},
   "outputs": [
    {
     "name": "stdout",
     "output_type": "stream",
     "text": [
      "mRID is qwertyuiop\n"
     ]
    },
    {
     "data": {
      "text/plain": [
       "UUID('4aa52f9c-ca54-48fc-bc22-b070121769da')"
      ]
     },
     "execution_count": 6,
     "metadata": {},
     "output_type": "execute_result"
    }
   ],
   "source": [
    "print('mRID is', meas3.mRID)\n",
    "\n",
    "meas3.identifier"
   ]
  },
  {
   "cell_type": "code",
   "execution_count": 10,
   "metadata": {},
   "outputs": [
    {
     "data": {
      "text/plain": [
       "'ac21bd58-f618-400a-bfc3-221318a80662'"
      ]
     },
     "execution_count": 10,
     "metadata": {},
     "output_type": "execute_result"
    }
   ],
   "source": [
    "meas2.uri()"
   ]
  },
  {
   "cell_type": "code",
   "execution_count": 20,
   "metadata": {},
   "outputs": [],
   "source": [
    "new_terminal.Measurements.append(meas1)\n",
    "new_terminal.Measurements.append(meas2)"
   ]
  },
  {
   "cell_type": "code",
   "execution_count": 26,
   "metadata": {},
   "outputs": [
    {
     "data": {
      "text/plain": [
       "{'identifier': UUID('e3d1fa34-68c8-46c3-b476-5f0b68758934'),\n",
       " 'mRID': 'e3d1fa34-68c8-46c3-b476-5f0b68758934',\n",
       " 'aliasName': None,\n",
       " 'description': None,\n",
       " 'name': None,\n",
       " 'InstanceSet': None,\n",
       " 'Names': [],\n",
       " 'PropertiesCIMDataObject': None,\n",
       " 'connected': None,\n",
       " 'sequenceNumber': None,\n",
       " 'BusNameMarker': None,\n",
       " 'Measurements': [{\"@id\": \"9b47782c-b78d-4627-82ef-4b87cad7142e\", \"@type\": \"Analog\"},\n",
       "  {\"@id\": \"ac21bd58-f618-400a-bfc3-221318a80662\", \"@type\": \"Discrete\"}],\n",
       " 'OperationalLimitSet': [],\n",
       " 'phases': None,\n",
       " 'Bushing': None,\n",
       " 'Circuit': None,\n",
       " 'ConductingEquipment': None,\n",
       " 'ConnectivityNode': None,\n",
       " 'NormalHeadFeeder': None,\n",
       " 'RegulatingControl': [],\n",
       " 'TopologicalNode': None,\n",
       " 'TransformerEnd': [],\n",
       " '__uuid__': <cimgraph.data_profile.cim17v40.cim17v40.Identity.__uuid_meta__ at 0x7f90bbb308b0>}"
      ]
     },
     "execution_count": 26,
     "metadata": {},
     "output_type": "execute_result"
    }
   ],
   "source": [
    "new_terminal.__dict__"
   ]
  },
  {
   "cell_type": "code",
   "execution_count": 25,
   "metadata": {},
   "outputs": [
    {
     "data": {
      "text/plain": [
       "{\"@id\": \"e3d1fa34-68c8-46c3-b476-5f0b68758934\", \"@type\": \"Terminal\"}"
      ]
     },
     "execution_count": 25,
     "metadata": {},
     "output_type": "execute_result"
    }
   ],
   "source": [
    "new_terminal"
   ]
  },
  {
   "cell_type": "code",
   "execution_count": 22,
   "metadata": {},
   "outputs": [
    {
     "name": "stdout",
     "output_type": "stream",
     "text": [
      "{\"@id\": \"e3d1fa34-68c8-46c3-b476-5f0b68758934\", \"@type\": \"Terminal\", \"identifier\": \"e3d1fa34-68c8-46c3-b476-5f0b68758934\", \"mRID\": \"e3d1fa34-68c8-46c3-b476-5f0b68758934\", \"Measurements\": [{\"@id\": \"9b47782c-b78d-4627-82ef-4b87cad7142e\", \"@type\": \"Analog\"}, {\"@id\": \"ac21bd58-f618-400a-bfc3-221318a80662\", \"@type\": \"Discrete\"}]}\n"
     ]
    }
   ],
   "source": [
    "print(new_terminal)"
   ]
  },
  {
   "cell_type": "code",
   "execution_count": 24,
   "metadata": {},
   "outputs": [
    {
     "name": "stdout",
     "output_type": "stream",
     "text": [
      "{\n",
      "    \"@id\": \"e3d1fa34-68c8-46c3-b476-5f0b68758934\",\n",
      "    \"@type\": \"Terminal\",\n",
      "    \"identifier\": \"e3d1fa34-68c8-46c3-b476-5f0b68758934\",\n",
      "    \"mRID\": \"e3d1fa34-68c8-46c3-b476-5f0b68758934\",\n",
      "    \"Measurements\": [\n",
      "        {\n",
      "            \"@id\": \"9b47782c-b78d-4627-82ef-4b87cad7142e\",\n",
      "            \"@type\": \"Analog\"\n",
      "        },\n",
      "        {\n",
      "            \"@id\": \"ac21bd58-f618-400a-bfc3-221318a80662\",\n",
      "            \"@type\": \"Discrete\"\n",
      "        }\n",
      "    ]\n",
      "}\n"
     ]
    }
   ],
   "source": [
    "new_terminal.pprint()"
   ]
  },
  {
   "cell_type": "code",
   "execution_count": 9,
   "metadata": {},
   "outputs": [
    {
     "name": "stdout",
     "output_type": "stream",
     "text": [
      "{\n",
      "    \"@id\": \"66aa73d3-2e90-4d22-bbef-e25d97642b68\",\n",
      "    \"@type\": \"Terminal\",\n",
      "    \"identifier\": \"66aa73d3-2e90-4d22-bbef-e25d97642b68\",\n",
      "    \"mRID\": \"66aa73d3-2e90-4d22-bbef-e25d97642b68\"\n",
      "}\n"
     ]
    }
   ],
   "source": [
    "new_terminal.pprint()"
   ]
  },
  {
   "cell_type": "code",
   "execution_count": 10,
   "metadata": {},
   "outputs": [],
   "source": [
    "import enum\n",
    "import json\n",
    "\n",
    "f = open('training_data.json', 'w')\n",
    "f.write('[')\n",
    "\n",
    "# List of type Asset.\n",
    "# An object of type Location.\n",
    "\n",
    "for cim_class in cim.__all__:\n",
    "    item = {}\n",
    "    item[\"id\"] = f\"{cim_class.__name__}\"\n",
    "    item[\"text\"] = (cim_class.__doc__)\n",
    "\n",
    "    row = json.dumps(item)\n",
    "    row = row.replace(\"\\\\n    \", \" \")\n",
    "    f.write(row+','+'\\n')\n",
    "\n",
    "\n",
    "\n",
    "\n",
    "    if type(cim_class) is not enum.EnumMeta:\n",
    "        for attribute in cim_class.__dataclass_fields__:\n",
    "            attr = cim_class.__dataclass_fields__[attribute]\n",
    "            try:\n",
    "                item = {}\n",
    "                item[\"id\"] = f\"{cim_class.__name__}.{attribute}\"\n",
    "\n",
    "\n",
    "                item[\"text\"] = \"\"\n",
    "\n",
    "                if 'list' in attr.type:\n",
    "                    item[\"text\"] += \"A list of \"\n",
    "\n",
    "                if \n",
    "\n",
    "                item[\"text\"] += attr.metadata['docstring']\n",
    "                row = json.dumps(item)\n",
    "                row = row.replace(\"\\\\n\", \" \")\n",
    "                row = row.replace(\"      \", \"\")\n",
    "                f.write(row+','+'\\n')\n",
    "\n",
    "                item = {}\n",
    "                \n",
    "                row = json.dumps(item)\n",
    "                f.write(row+','+'\\n')\n",
    "                \n",
    "            except:\n",
    "                pass\n",
    "\n",
    "f.write('''{\"id\": \"CIM\", \"text\": \"Common Information Model\"}''')\n",
    "f.write(']')\n",
    "f.close()\n",
    "# x = json.dumps(training_data)\n",
    "# x = x.replace(\"\\\\n    \", \" \")"
   ]
  },
  {
   "cell_type": "code",
   "execution_count": 11,
   "metadata": {},
   "outputs": [
    {
     "data": {
      "text/plain": [
       "True"
      ]
     },
     "execution_count": 11,
     "metadata": {},
     "output_type": "execute_result"
    }
   ],
   "source": [
    "import enum\n",
    "type(cim.BatteryStateKind) is enum.EnumMeta"
   ]
  },
  {
   "cell_type": "code",
   "execution_count": 12,
   "metadata": {},
   "outputs": [
    {
     "name": "stdout",
     "output_type": "stream",
     "text": [
      "\\n    This is the new root class from CIM 18 to provide common identification\\n    for all cl\n"
     ]
    },
    {
     "data": {
      "text/plain": [
       "'This is the new root class from CIM 18 to provide common identificationfor all cl'"
      ]
     },
     "execution_count": 12,
     "metadata": {},
     "output_type": "execute_result"
    }
   ],
   "source": [
    "x = \"\\\\n    This is the new root class from CIM 18 to provide common identification\\\\n    for all cl\"\n",
    "print(x)\n",
    "x.replace(\"\\\\n    \", \"\")"
   ]
  },
  {
   "cell_type": "code",
   "execution_count": 13,
   "metadata": {},
   "outputs": [
    {
     "data": {
      "text/plain": [
       "True"
      ]
     },
     "execution_count": 13,
     "metadata": {},
     "output_type": "execute_result"
    }
   ],
   "source": [
    "'list' in cim.Terminal.__dataclass_fields__['Measurements'].type"
   ]
  },
  {
   "cell_type": "code",
   "execution_count": 14,
   "metadata": {},
   "outputs": [
    {
     "ename": "NameError",
     "evalue": "name 'network' is not defined",
     "output_type": "error",
     "traceback": [
      "\u001b[0;31m---------------------------------------------------------------------------\u001b[0m",
      "\u001b[0;31mNameError\u001b[0m                                 Traceback (most recent call last)",
      "Cell \u001b[0;32mIn[14], line 1\u001b[0m\n\u001b[0;32m----> 1\u001b[0m \u001b[43mnetwork\u001b[49m\u001b[38;5;241m.\u001b[39mgraph[cim\u001b[38;5;241m.\u001b[39mClassName]\n",
      "\u001b[0;31mNameError\u001b[0m: name 'network' is not defined"
     ]
    }
   ],
   "source": [
    "\n",
    "network.graph[cim.ClassName]"
   ]
  }
 ],
 "metadata": {
  "kernelspec": {
   "display_name": ".venv",
   "language": "python",
   "name": "python3"
  },
  "language_info": {
   "codemirror_mode": {
    "name": "ipython",
    "version": 3
   },
   "file_extension": ".py",
   "mimetype": "text/x-python",
   "name": "python",
   "nbconvert_exporter": "python",
   "pygments_lexer": "ipython3",
   "version": "3.10.12"
  }
 },
 "nbformat": 4,
 "nbformat_minor": 2
}
