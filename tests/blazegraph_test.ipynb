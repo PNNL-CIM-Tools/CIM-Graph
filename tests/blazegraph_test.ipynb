{
 "cells": [
  {
   "cell_type": "code",
   "execution_count": 1,
   "metadata": {},
   "outputs": [],
   "source": [
    "import json\n",
    "import importlib\n",
    "cim_profile = 'cim17v40'\n",
    "# cim = importlib.import_module('cimgraph.data_profile.' + cim_profile)\n",
    "import cimgraph.data_profile.cim17v40 as cim"
   ]
  },
  {
   "cell_type": "code",
   "execution_count": 2,
   "metadata": {},
   "outputs": [],
   "source": [
    "from cimgraph.databases import ConnectionParameters\n",
    "from cimgraph.databases import BlazegraphConnection\n",
    "from cimgraph.models import FeederModel\n",
    "from cimgraph.models import DistributedArea\n",
    "import cimgraph.queries.sparql as sparql\n",
    "import cimgraph.utils as utils"
   ]
  },
  {
   "cell_type": "code",
   "execution_count": 3,
   "metadata": {},
   "outputs": [],
   "source": [
    "params = ConnectionParameters(url = \"http://localhost:8889/bigdata/namespace/kb/sparql\", cim_profile=cim_profile, iec61970_301=7)\n",
    "connection = BlazegraphConnection(params)"
   ]
  },
  {
   "cell_type": "code",
   "execution_count": 4,
   "metadata": {},
   "outputs": [],
   "source": [
    "feeder_mrid = \"_49AD8E07-3BF9-A4E2-CB8F-C3722F837B62\"\n",
    "feeder = cim.Feeder(mRID = feeder_mrid)\n",
    "# feeder = cim.Feeder()\n",
    "# feeder.uuid(mRID = feeder_mrid)"
   ]
  },
  {
   "cell_type": "code",
   "execution_count": 5,
   "metadata": {},
   "outputs": [],
   "source": [
    "network = FeederModel(connection=connection, container=feeder, distributed=False)"
   ]
  },
  {
   "cell_type": "code",
   "execution_count": 6,
   "metadata": {},
   "outputs": [
    {
     "data": {
      "text/plain": [
       "dict_keys([<class 'cimgraph.data_profile.cim17v40.cim17v40.Feeder'>, <class 'cimgraph.data_profile.cim17v40.cim17v40.ConnectivityNode'>, <class 'cimgraph.data_profile.cim17v40.cim17v40.Terminal'>, <class 'cimgraph.data_profile.cim17v40.cim17v40.ACLineSegment'>, <class 'cimgraph.data_profile.cim17v40.cim17v40.EnergyConsumer'>, <class 'cimgraph.data_profile.cim17v40.cim17v40.PowerTransformer'>, <class 'cimgraph.data_profile.cim17v40.cim17v40.PowerElectronicsConnection'>, <class 'cimgraph.data_profile.cim17v40.cim17v40.LoadBreakSwitch'>, <class 'cimgraph.data_profile.cim17v40.cim17v40.Recloser'>, <class 'cimgraph.data_profile.cim17v40.cim17v40.LinearShuntCompensator'>, <class 'cimgraph.data_profile.cim17v40.cim17v40.Breaker'>, <class 'cimgraph.data_profile.cim17v40.cim17v40.EnergySource'>, <class 'cimgraph.data_profile.cim17v40.cim17v40.Fuse'>])"
      ]
     },
     "execution_count": 6,
     "metadata": {},
     "output_type": "execute_result"
    }
   ],
   "source": [
    "network.graph.keys()"
   ]
  },
  {
   "cell_type": "code",
   "execution_count": 7,
   "metadata": {},
   "outputs": [
    {
     "data": {
      "text/plain": [
       "{UUID('0bbd0ea3-f665-465b-86fd-fc8b8466ad53'): {\"@id\": \"0bbd0ea3-f665-465b-86fd-fc8b8466ad53\", \"@type\": \"ACLineSegment\"},\n",
       " UUID('1c6781a2-5b9d-4525-8a9b-f9b32c4c4ac0'): {\"@id\": \"1c6781a2-5b9d-4525-8a9b-f9b32c4c4ac0\", \"@type\": \"ACLineSegment\"},\n",
       " UUID('abf877d7-dac2-4bf0-ab58-9a8a02e92eb3'): {\"@id\": \"abf877d7-dac2-4bf0-ab58-9a8a02e92eb3\", \"@type\": \"ACLineSegment\"},\n",
       " UUID('8e180773-2a9b-4136-bc9a-132a52c8e276'): {\"@id\": \"8e180773-2a9b-4136-bc9a-132a52c8e276\", \"@type\": \"ACLineSegment\"},\n",
       " UUID('45395c84-f20a-4f5a-977f-b80348256421'): {\"@id\": \"45395c84-f20a-4f5a-977f-b80348256421\", \"@type\": \"ACLineSegment\"},\n",
       " UUID('4c04f838-62aa-475e-aefa-a63b7c889c13'): {\"@id\": \"4c04f838-62aa-475e-aefa-a63b7c889c13\", \"@type\": \"ACLineSegment\"},\n",
       " UUID('d34b0d01-b082-4081-a3cc-b68b9b8313a4'): {\"@id\": \"d34b0d01-b082-4081-a3cc-b68b9b8313a4\", \"@type\": \"ACLineSegment\"},\n",
       " UUID('abf53597-a808-422a-b7ee-552f24d83a5f'): {\"@id\": \"abf53597-a808-422a-b7ee-552f24d83a5f\", \"@type\": \"ACLineSegment\"},\n",
       " UUID('7060d0bb-b30d-4932-8fa1-40820a0fc4d0'): {\"@id\": \"7060d0bb-b30d-4932-8fa1-40820a0fc4d0\", \"@type\": \"ACLineSegment\"},\n",
       " UUID('a04cdfb1-e951-4fc4-8882-0323cd70ae3c'): {\"@id\": \"a04cdfb1-e951-4fc4-8882-0323cd70ae3c\", \"@type\": \"ACLineSegment\"},\n",
       " UUID('fbe26b35-13ab-457d-9795-df58b28e309d'): {\"@id\": \"fbe26b35-13ab-457d-9795-df58b28e309d\", \"@type\": \"ACLineSegment\"}}"
      ]
     },
     "execution_count": 7,
     "metadata": {},
     "output_type": "execute_result"
    }
   ],
   "source": [
    "network.graph[cim.ACLineSegment]"
   ]
  },
  {
   "cell_type": "code",
   "execution_count": 8,
   "metadata": {},
   "outputs": [
    {
     "data": {
      "text/plain": [
       "{'head': {'vars': ['ConnectivityNode', 'Terminal', 'Equipment']},\n",
       " 'results': {'bindings': [{'ConnectivityNode': {'type': 'literal',\n",
       "     'value': '_0124E881-B82D-4206-BBDF-37D585159872'},\n",
       "    'Terminal': {'type': 'literal',\n",
       "     'value': '_F3C0F2D0-4D28-49B5-A920-37409B99229D'},\n",
       "    'Equipment': {'type': 'literal',\n",
       "     'value': '{\"@id\":\"_0BBD0EA3-F665-465B-86FD-FC8B8466AD53\",\"@type\":\"ACLineSegment\"}'}},\n",
       "   {'ConnectivityNode': {'type': 'literal',\n",
       "     'value': '_0124E881-B82D-4206-BBDF-37D585159872'},\n",
       "    'Terminal': {'type': 'literal',\n",
       "     'value': '_4891537F-4088-48F5-9B1A-8294D50901E4'},\n",
       "    'Equipment': {'type': 'literal',\n",
       "     'value': '{\"@id\":\"_1C6781A2-5B9D-4525-8A9B-F9B32C4C4AC0\",\"@type\":\"ACLineSegment\"}'}},\n",
       "   {'ConnectivityNode': {'type': 'literal',\n",
       "     'value': '_0124E881-B82D-4206-BBDF-37D585159872'},\n",
       "    'Terminal': {'type': 'literal',\n",
       "     'value': '_15298D41-D5E5-464F-A96D-01FFCF0DA7DB'},\n",
       "    'Equipment': {'type': 'literal',\n",
       "     'value': '{\"@id\":\"_47E52220-4596-4AF0-9724-0167B72A4DB8\",\"@type\":\"EnergyConsumer\"}'}},\n",
       "   {'ConnectivityNode': {'type': 'literal',\n",
       "     'value': '_04984C4D-CC29-477A-9AF4-61AC7D74F16F'},\n",
       "    'Terminal': {'type': 'literal',\n",
       "     'value': '_F6CE3095-9089-4B61-9C13-C7647ADBA888'},\n",
       "    'Equipment': {'type': 'literal',\n",
       "     'value': '{\"@id\":\"_259E820F-B4AF-4E1A-8271-687534EDAECC\",\"@type\":\"PowerTransformer\"}'}},\n",
       "   {'ConnectivityNode': {'type': 'literal',\n",
       "     'value': '_0A98A62D-7642-4F03-8317-A8605CBDBA37'},\n",
       "    'Terminal': {'type': 'literal',\n",
       "     'value': '_2128BB42-3E2D-490A-A29D-05549E81F25D'},\n",
       "    'Equipment': {'type': 'literal',\n",
       "     'value': '{\"@id\":\"_32F02D2B-EE6E-4D3F-8486-1B5CAEF70204\",\"@type\":\"EnergyConsumer\"}'}},\n",
       "   {'ConnectivityNode': {'type': 'literal',\n",
       "     'value': '_0A98A62D-7642-4F03-8317-A8605CBDBA37'},\n",
       "    'Terminal': {'type': 'literal',\n",
       "     'value': '_A4B4C25C-8744-4B8B-A612-19B80AFA110D'},\n",
       "    'Equipment': {'type': 'literal',\n",
       "     'value': '{\"@id\":\"_682AB7A9-4FBF-4204-BDE1-27EAB3425DA0\",\"@type\":\"PowerElectronicsConnection\"}'}},\n",
       "   {'ConnectivityNode': {'type': 'literal',\n",
       "     'value': '_0A98A62D-7642-4F03-8317-A8605CBDBA37'},\n",
       "    'Terminal': {'type': 'literal',\n",
       "     'value': '_8E29BA3D-9523-446F-BD9F-989D8182A723'},\n",
       "    'Equipment': {'type': 'literal',\n",
       "     'value': '{\"@id\":\"_7FF12CEF-1C4D-4CD2-8FCC-662530A7BA33\",\"@type\":\"PowerTransformer\"}'}},\n",
       "   {'ConnectivityNode': {'type': 'literal',\n",
       "     'value': '_0A98A62D-7642-4F03-8317-A8605CBDBA37'},\n",
       "    'Terminal': {'type': 'literal',\n",
       "     'value': '_9D06670E-F8AD-46A1-9854-BBA7ADAF1CF0'},\n",
       "    'Equipment': {'type': 'literal',\n",
       "     'value': '{\"@id\":\"_7FF12CEF-1C4D-4CD2-8FCC-662530A7BA33\",\"@type\":\"PowerTransformer\"}'}},\n",
       "   {'ConnectivityNode': {'type': 'literal',\n",
       "     'value': '_0A98A62D-7642-4F03-8317-A8605CBDBA37'},\n",
       "    'Terminal': {'type': 'literal',\n",
       "     'value': '_337F7A56-C530-4F05-8586-940E8460993A'},\n",
       "    'Equipment': {'type': 'literal',\n",
       "     'value': '{\"@id\":\"_CEC0FC3A-0FD1-4F1C-9C51-7D9BEF4D8222\",\"@type\":\"PowerElectronicsConnection\"}'}},\n",
       "   {'ConnectivityNode': {'type': 'literal',\n",
       "     'value': '_0DCC57AF-F4FA-457D-BB24-2EFDA9865A1A'},\n",
       "    'Terminal': {'type': 'literal',\n",
       "     'value': '_E1763FE3-82C2-4434-9424-72DF850D982E'},\n",
       "    'Equipment': {'type': 'literal',\n",
       "     'value': '{\"@id\":\"_1E6B5C97-C4E8-4CED-B9A5-6E69F389DA93\",\"@type\":\"PowerTransformer\"}'}},\n",
       "   {'ConnectivityNode': {'type': 'literal',\n",
       "     'value': '_0DCC57AF-F4FA-457D-BB24-2EFDA9865A1A'},\n",
       "    'Terminal': {'type': 'literal',\n",
       "     'value': '_C61A2238-FE09-4406-B172-26CB9F145DB1'},\n",
       "    'Equipment': {'type': 'literal',\n",
       "     'value': '{\"@id\":\"_3B2021A7-4BFC-418D-9C20-BD6838E52CF8\",\"@type\":\"EnergyConsumer\"}'}},\n",
       "   {'ConnectivityNode': {'type': 'literal',\n",
       "     'value': '_0DCC57AF-F4FA-457D-BB24-2EFDA9865A1A'},\n",
       "    'Terminal': {'type': 'literal',\n",
       "     'value': '_90D2243E-05D4-432C-A23B-A6B8D732B027'},\n",
       "    'Equipment': {'type': 'literal',\n",
       "     'value': '{\"@id\":\"_7B671984-4C56-4FF1-9733-B4B6FCA5F2AA\",\"@type\":\"PowerElectronicsConnection\"}'}},\n",
       "   {'ConnectivityNode': {'type': 'literal',\n",
       "     'value': '_0DCC57AF-F4FA-457D-BB24-2EFDA9865A1A'},\n",
       "    'Terminal': {'type': 'literal',\n",
       "     'value': '_272D015C-A83B-457C-8109-5E78E92CB6E4'},\n",
       "    'Equipment': {'type': 'literal',\n",
       "     'value': '{\"@id\":\"_B21C5599-1D00-4FCF-904B-58D9D4CAC49A\",\"@type\":\"EnergyConsumer\"}'}},\n",
       "   {'ConnectivityNode': {'type': 'literal',\n",
       "     'value': '_0DCC57AF-F4FA-457D-BB24-2EFDA9865A1A'},\n",
       "    'Terminal': {'type': 'literal',\n",
       "     'value': '_D0BA8E68-F269-4382-B1D0-8EA25663C9AA'},\n",
       "    'Equipment': {'type': 'literal',\n",
       "     'value': '{\"@id\":\"_C39149DE-3451-4D33-B4C2-B1E6C6FC9AAB\",\"@type\":\"EnergyConsumer\"}'}},\n",
       "   {'ConnectivityNode': {'type': 'literal',\n",
       "     'value': '_0DCC57AF-F4FA-457D-BB24-2EFDA9865A1A'},\n",
       "    'Terminal': {'type': 'literal',\n",
       "     'value': '_A55AC772-D3F2-48AF-8C84-E80F43198C72'},\n",
       "    'Equipment': {'type': 'literal',\n",
       "     'value': '{\"@id\":\"_D2E930A7-B136-4ACA-A996-8DB5C60AADF3\",\"@type\":\"PowerElectronicsConnection\"}'}},\n",
       "   {'ConnectivityNode': {'type': 'literal',\n",
       "     'value': '_0F1E28C3-6C44-4F88-B79C-2FDBCA4487B2'},\n",
       "    'Terminal': {'type': 'literal',\n",
       "     'value': '_02217298-AD5B-463C-A912-957740214701'},\n",
       "    'Equipment': {'type': 'literal',\n",
       "     'value': '{\"@id\":\"_572BCFC9-E1D6-4419-9A33-EDD284806AF3\",\"@type\":\"EnergyConsumer\"}'}},\n",
       "   {'ConnectivityNode': {'type': 'literal',\n",
       "     'value': '_0F1E28C3-6C44-4F88-B79C-2FDBCA4487B2'},\n",
       "    'Terminal': {'type': 'literal',\n",
       "     'value': '_8692A804-428A-4637-BD47-69C76F873DAB'},\n",
       "    'Equipment': {'type': 'literal',\n",
       "     'value': '{\"@id\":\"_ABF877D7-DAC2-4BF0-AB58-9A8A02E92EB3\",\"@type\":\"ACLineSegment\"}'}},\n",
       "   {'ConnectivityNode': {'type': 'literal',\n",
       "     'value': '_2A6DC4DD-D3DC-434D-A187-D2C58A0A72C8'},\n",
       "    'Terminal': {'type': 'literal',\n",
       "     'value': '_02AE202B-D91B-4EAD-8EC9-3B87BDD67C8B'},\n",
       "    'Equipment': {'type': 'literal',\n",
       "     'value': '{\"@id\":\"_2858B6C2-0886-4269-884C-06FA8B887319\",\"@type\":\"LoadBreakSwitch\"}'}},\n",
       "   {'ConnectivityNode': {'type': 'literal',\n",
       "     'value': '_2A6DC4DD-D3DC-434D-A187-D2C58A0A72C8'},\n",
       "    'Terminal': {'type': 'literal',\n",
       "     'value': '_EA5FF2C4-F7E1-436D-BDEC-1C48D4DBB50D'},\n",
       "    'Equipment': {'type': 'literal',\n",
       "     'value': '{\"@id\":\"_8E180773-2A9B-4136-BC9A-132A52C8E276\",\"@type\":\"ACLineSegment\"}'}},\n",
       "   {'ConnectivityNode': {'type': 'literal',\n",
       "     'value': '_30BE5988-DE57-4E0C-AB08-50D5A13D2C1B'},\n",
       "    'Terminal': {'type': 'literal',\n",
       "     'value': '_092A5199-DB5E-419E-ADCF-53B290EFAB2C'},\n",
       "    'Equipment': {'type': 'literal',\n",
       "     'value': '{\"@id\":\"_45395C84-F20A-4F5A-977F-B80348256421\",\"@type\":\"ACLineSegment\"}'}},\n",
       "   {'ConnectivityNode': {'type': 'literal',\n",
       "     'value': '_30BE5988-DE57-4E0C-AB08-50D5A13D2C1B'},\n",
       "    'Terminal': {'type': 'literal',\n",
       "     'value': '_8BE8D3EA-EEE9-406C-B24C-B169C8EC799A'},\n",
       "    'Equipment': {'type': 'literal',\n",
       "     'value': '{\"@id\":\"_4C04F838-62AA-475E-AEFA-A63B7C889C13\",\"@type\":\"ACLineSegment\"}'}},\n",
       "   {'ConnectivityNode': {'type': 'literal',\n",
       "     'value': '_30BE5988-DE57-4E0C-AB08-50D5A13D2C1B'},\n",
       "    'Terminal': {'type': 'literal',\n",
       "     'value': '_F1D6C919-22FA-4E94-81B1-36823F5A9FF5'},\n",
       "    'Equipment': {'type': 'literal',\n",
       "     'value': '{\"@id\":\"_517413CB-6977-46FA-8911-C82332E42884\",\"@type\":\"LoadBreakSwitch\"}'}},\n",
       "   {'ConnectivityNode': {'type': 'literal',\n",
       "     'value': '_30BE5988-DE57-4E0C-AB08-50D5A13D2C1B'},\n",
       "    'Terminal': {'type': 'literal',\n",
       "     'value': '_A4C58654-2972-4A3E-AE65-3868941DA037'},\n",
       "    'Equipment': {'type': 'literal',\n",
       "     'value': '{\"@id\":\"_D34B0D01-B082-4081-A3CC-B68B9B8313A4\",\"@type\":\"ACLineSegment\"}'}},\n",
       "   {'ConnectivityNode': {'type': 'literal',\n",
       "     'value': '_30BE5988-DE57-4E0C-AB08-50D5A13D2C1B'},\n",
       "    'Terminal': {'type': 'literal',\n",
       "     'value': '_F3A001BA-C6BE-450E-B572-B6D5819808EA'},\n",
       "    'Equipment': {'type': 'literal',\n",
       "     'value': '{\"@id\":\"_E26D83A0-D29D-41EF-9528-02C882FFCC0D\",\"@type\":\"EnergyConsumer\"}'}},\n",
       "   {'ConnectivityNode': {'type': 'literal',\n",
       "     'value': '_421E99BE-A834-4809-B924-84D88F634A45'},\n",
       "    'Terminal': {'type': 'literal',\n",
       "     'value': '_5EDB2918-D669-457C-9F44-E08EBA5AC850'},\n",
       "    'Equipment': {'type': 'literal',\n",
       "     'value': '{\"@id\":\"_ABF53597-A808-422A-B7EE-552F24D83A5F\",\"@type\":\"ACLineSegment\"}'}},\n",
       "   {'ConnectivityNode': {'type': 'literal',\n",
       "     'value': '_421E99BE-A834-4809-B924-84D88F634A45'},\n",
       "    'Terminal': {'type': 'literal',\n",
       "     'value': '_DD4717B2-5FCD-4E67-9BC8-DD307B80AFEA'},\n",
       "    'Equipment': {'type': 'literal',\n",
       "     'value': '{\"@id\":\"_CE5D0651-676B-4AF3-8D67-41BF1B33E30C\",\"@type\":\"Recloser\"}'}},\n",
       "   {'ConnectivityNode': {'type': 'literal',\n",
       "     'value': '_63DFBEA0-CD06-4D2E-B956-DF9517BE057B'},\n",
       "    'Terminal': {'type': 'literal',\n",
       "     'value': '_72362309-A950-40BC-A38C-E08E1AD53477'},\n",
       "    'Equipment': {'type': 'literal',\n",
       "     'value': '{\"@id\":\"_3FFFB3F7-A7AF-49E1-ACEE-449FC73D3CD6\",\"@type\":\"EnergyConsumer\"}'}},\n",
       "   {'ConnectivityNode': {'type': 'literal',\n",
       "     'value': '_63DFBEA0-CD06-4D2E-B956-DF9517BE057B'},\n",
       "    'Terminal': {'type': 'literal',\n",
       "     'value': '_CD147977-45B7-48AD-9F72-4F488BD6AD6D'},\n",
       "    'Equipment': {'type': 'literal',\n",
       "     'value': '{\"@id\":\"_7060D0BB-B30D-4932-8FA1-40820A0FC4D0\",\"@type\":\"ACLineSegment\"}'}},\n",
       "   {'ConnectivityNode': {'type': 'literal',\n",
       "     'value': '_63DFBEA0-CD06-4D2E-B956-DF9517BE057B'},\n",
       "    'Terminal': {'type': 'literal',\n",
       "     'value': '_0A29AEF0-5F49-47AE-A413-9308AA61B72B'},\n",
       "    'Equipment': {'type': 'literal',\n",
       "     'value': '{\"@id\":\"_8E34333C-2BB8-4631-B072-383F1CA38F60\",\"@type\":\"EnergyConsumer\"}'}},\n",
       "   {'ConnectivityNode': {'type': 'literal',\n",
       "     'value': '_63DFBEA0-CD06-4D2E-B956-DF9517BE057B'},\n",
       "    'Terminal': {'type': 'literal',\n",
       "     'value': '_02A67D2E-58FF-4CAB-9A85-4346E9E08F1B'},\n",
       "    'Equipment': {'type': 'literal',\n",
       "     'value': '{\"@id\":\"_9CAAF741-BE1E-4893-8044-1E507B7DDC38\",\"@type\":\"EnergyConsumer\"}'}},\n",
       "   {'ConnectivityNode': {'type': 'literal',\n",
       "     'value': '_63DFBEA0-CD06-4D2E-B956-DF9517BE057B'},\n",
       "    'Terminal': {'type': 'literal',\n",
       "     'value': '_5B38070B-E918-4EAA-8BDB-8B3CE4F8A917'},\n",
       "    'Equipment': {'type': 'literal',\n",
       "     'value': '{\"@id\":\"_A9DE8829-58CB-4750-B2A2-672846A89753\",\"@type\":\"LinearShuntCompensator\"}'}},\n",
       "   {'ConnectivityNode': {'type': 'literal',\n",
       "     'value': '_673E896A-DCBF-4E43-9924-BEB31C5B6005'},\n",
       "    'Terminal': {'type': 'literal',\n",
       "     'value': '_02CD5661-C654-43F6-8D1A-0D666070BB81'},\n",
       "    'Equipment': {'type': 'literal',\n",
       "     'value': '{\"@id\":\"_67B57539-590B-4158-9CBB-9DBA2FE6C1F0\",\"@type\":\"PowerTransformer\"}'}},\n",
       "   {'ConnectivityNode': {'type': 'literal',\n",
       "     'value': '_673E896A-DCBF-4E43-9924-BEB31C5B6005'},\n",
       "    'Terminal': {'type': 'literal',\n",
       "     'value': '_5A1120EE-0F2A-4698-9FF5-0F0F4F507BAF'},\n",
       "    'Equipment': {'type': 'literal',\n",
       "     'value': '{\"@id\":\"_67B57539-590B-4158-9CBB-9DBA2FE6C1F0\",\"@type\":\"PowerTransformer\"}'}},\n",
       "   {'ConnectivityNode': {'type': 'literal',\n",
       "     'value': '_673E896A-DCBF-4E43-9924-BEB31C5B6005'},\n",
       "    'Terminal': {'type': 'literal',\n",
       "     'value': '_F5258B9A-B51E-40DD-9A06-5918E41F3C35'},\n",
       "    'Equipment': {'type': 'literal',\n",
       "     'value': '{\"@id\":\"_67B57539-590B-4158-9CBB-9DBA2FE6C1F0\",\"@type\":\"PowerTransformer\"}'}},\n",
       "   {'ConnectivityNode': {'type': 'literal',\n",
       "     'value': '_673E896A-DCBF-4E43-9924-BEB31C5B6005'},\n",
       "    'Terminal': {'type': 'literal',\n",
       "     'value': '_000BA1F2-6879-47D7-826D-3CACD23EE20B'},\n",
       "    'Equipment': {'type': 'literal',\n",
       "     'value': '{\"@id\":\"_A04CDFB1-E951-4FC4-8882-0323CD70AE3C\",\"@type\":\"ACLineSegment\"}'}},\n",
       "   {'ConnectivityNode': {'type': 'literal',\n",
       "     'value': '_6CB5E5CE-2CD0-40CC-A979-B4F9ED05E49B'},\n",
       "    'Terminal': {'type': 'literal',\n",
       "     'value': '_A563A3A5-EA39-4998-96B2-538227E2D2F6'},\n",
       "    'Equipment': {'type': 'literal',\n",
       "     'value': '{\"@id\":\"_1C6781A2-5B9D-4525-8A9B-F9B32C4C4AC0\",\"@type\":\"ACLineSegment\"}'}},\n",
       "   {'ConnectivityNode': {'type': 'literal',\n",
       "     'value': '_6CB5E5CE-2CD0-40CC-A979-B4F9ED05E49B'},\n",
       "    'Terminal': {'type': 'literal',\n",
       "     'value': '_3589A9BE-F3BE-45C3-B84E-3CE5B6105D11'},\n",
       "    'Equipment': {'type': 'literal',\n",
       "     'value': '{\"@id\":\"_A04CDFB1-E951-4FC4-8882-0323CD70AE3C\",\"@type\":\"ACLineSegment\"}'}},\n",
       "   {'ConnectivityNode': {'type': 'literal',\n",
       "     'value': '_6CB5E5CE-2CD0-40CC-A979-B4F9ED05E49B'},\n",
       "    'Terminal': {'type': 'literal',\n",
       "     'value': '_EBAEF4A4-5D80-4FAD-A133-AA18607F3C31'},\n",
       "    'Equipment': {'type': 'literal',\n",
       "     'value': '{\"@id\":\"_CE5D0651-676B-4AF3-8D67-41BF1B33E30C\",\"@type\":\"Recloser\"}'}},\n",
       "   {'ConnectivityNode': {'type': 'literal',\n",
       "     'value': '_6CB5E5CE-2CD0-40CC-A979-B4F9ED05E49B'},\n",
       "    'Terminal': {'type': 'literal',\n",
       "     'value': '_A6C57C2E-A084-4701-ADF5-FB6F3E36F45C'},\n",
       "    'Equipment': {'type': 'literal',\n",
       "     'value': '{\"@id\":\"_FBE26B35-13AB-457D-9795-DF58B28E309D\",\"@type\":\"ACLineSegment\"}'}},\n",
       "   {'ConnectivityNode': {'type': 'literal',\n",
       "     'value': '_76D6D03C-967C-4E12-836D-A98DF3552BC7'},\n",
       "    'Terminal': {'type': 'literal',\n",
       "     'value': '_FF3DE145-0066-4C1F-867C-2A2BF3012EDF'},\n",
       "    'Equipment': {'type': 'literal',\n",
       "     'value': '{\"@id\":\"_4C04F838-62AA-475E-AEFA-A63B7C889C13\",\"@type\":\"ACLineSegment\"}'}},\n",
       "   {'ConnectivityNode': {'type': 'literal',\n",
       "     'value': '_7BEDDADD-0A14-429F-8601-9EA8B892CA6E'},\n",
       "    'Terminal': {'type': 'literal',\n",
       "     'value': '_BB0411D7-5261-433D-B327-549DA536EEEC'},\n",
       "    'Equipment': {'type': 'literal',\n",
       "     'value': '{\"@id\":\"_259E820F-B4AF-4E1A-8271-687534EDAECC\",\"@type\":\"PowerTransformer\"}'}},\n",
       "   {'ConnectivityNode': {'type': 'literal',\n",
       "     'value': '_7BEDDADD-0A14-429F-8601-9EA8B892CA6E'},\n",
       "    'Terminal': {'type': 'literal',\n",
       "     'value': '_1D81C7FE-E88F-41E3-A900-476CA6476CCD'},\n",
       "    'Equipment': {'type': 'literal',\n",
       "     'value': '{\"@id\":\"_52DE9189-20DC-4C73-BDEE-E960FE1F9493\",\"@type\":\"Breaker\"}'}},\n",
       "   {'ConnectivityNode': {'type': 'literal',\n",
       "     'value': '_8C58660F-C62C-4903-BE72-22F1255B1E62'},\n",
       "    'Terminal': {'type': 'literal',\n",
       "     'value': '_D02B9E99-3557-48F5-B475-4871E47D08F6'},\n",
       "    'Equipment': {'type': 'literal',\n",
       "     'value': '{\"@id\":\"_0BBD0EA3-F665-465B-86FD-FC8B8466AD53\",\"@type\":\"ACLineSegment\"}'}},\n",
       "   {'ConnectivityNode': {'type': 'literal',\n",
       "     'value': '_8C58660F-C62C-4903-BE72-22F1255B1E62'},\n",
       "    'Terminal': {'type': 'literal',\n",
       "     'value': '_579A122E-A262-4830-88C6-1ADDB81761B1'},\n",
       "    'Equipment': {'type': 'literal',\n",
       "     'value': '{\"@id\":\"_0BC9183A-9067-4E06-AA5B-48DC2AB30C80\",\"@type\":\"EnergyConsumer\"}'}},\n",
       "   {'ConnectivityNode': {'type': 'literal',\n",
       "     'value': '_8E99F99D-FE8F-420B-AC49-0B52DF5362AB'},\n",
       "    'Terminal': {'type': 'literal',\n",
       "     'value': '_8F517DFE-D985-4D24-8339-96FA2A789E88'},\n",
       "    'Equipment': {'type': 'literal',\n",
       "     'value': '{\"@id\":\"_2858B6C2-0886-4269-884C-06FA8B887319\",\"@type\":\"LoadBreakSwitch\"}'}},\n",
       "   {'ConnectivityNode': {'type': 'literal',\n",
       "     'value': '_8E99F99D-FE8F-420B-AC49-0B52DF5362AB'},\n",
       "    'Terminal': {'type': 'literal',\n",
       "     'value': '_3313C5A7-ED81-47D3-8114-AD654A5DE21B'},\n",
       "    'Equipment': {'type': 'literal',\n",
       "     'value': '{\"@id\":\"_ABF877D7-DAC2-4BF0-AB58-9A8A02E92EB3\",\"@type\":\"ACLineSegment\"}'}},\n",
       "   {'ConnectivityNode': {'type': 'literal',\n",
       "     'value': '_8E99F99D-FE8F-420B-AC49-0B52DF5362AB'},\n",
       "    'Terminal': {'type': 'literal',\n",
       "     'value': '_BC623628-BD23-4A1A-A406-15CA63556149'},\n",
       "    'Equipment': {'type': 'literal',\n",
       "     'value': '{\"@id\":\"_D34B0D01-B082-4081-A3CC-B68B9B8313A4\",\"@type\":\"ACLineSegment\"}'}},\n",
       "   {'ConnectivityNode': {'type': 'literal',\n",
       "     'value': '_94F822E0-7130-4205-8597-B47110BBEF4B'},\n",
       "    'Terminal': {'type': 'literal',\n",
       "     'value': '_2847E06B-C8ED-41E6-B515-C61C9E8EB4B4'},\n",
       "    'Equipment': {'type': 'literal',\n",
       "     'value': '{\"@id\":\"_52DE9189-20DC-4C73-BDEE-E960FE1F9493\",\"@type\":\"Breaker\"}'}},\n",
       "   {'ConnectivityNode': {'type': 'literal',\n",
       "     'value': '_94F822E0-7130-4205-8597-B47110BBEF4B'},\n",
       "    'Terminal': {'type': 'literal',\n",
       "     'value': '_9AC596A8-D859-48F3-A286-D2533F9B9733'},\n",
       "    'Equipment': {'type': 'literal',\n",
       "     'value': '{\"@id\":\"_67B57539-590B-4158-9CBB-9DBA2FE6C1F0\",\"@type\":\"PowerTransformer\"}'}},\n",
       "   {'ConnectivityNode': {'type': 'literal',\n",
       "     'value': '_94F822E0-7130-4205-8597-B47110BBEF4B'},\n",
       "    'Terminal': {'type': 'literal',\n",
       "     'value': '_EC150DA0-864E-4C61-B681-3CF27AB27B82'},\n",
       "    'Equipment': {'type': 'literal',\n",
       "     'value': '{\"@id\":\"_67B57539-590B-4158-9CBB-9DBA2FE6C1F0\",\"@type\":\"PowerTransformer\"}'}},\n",
       "   {'ConnectivityNode': {'type': 'literal',\n",
       "     'value': '_94F822E0-7130-4205-8597-B47110BBEF4B'},\n",
       "    'Terminal': {'type': 'literal',\n",
       "     'value': '_F8856652-20FB-4760-874D-3D785E91A83E'},\n",
       "    'Equipment': {'type': 'literal',\n",
       "     'value': '{\"@id\":\"_67B57539-590B-4158-9CBB-9DBA2FE6C1F0\",\"@type\":\"PowerTransformer\"}'}},\n",
       "   {'ConnectivityNode': {'type': 'literal',\n",
       "     'value': '_A8A25B50-3AE3-4A31-A18B-B3FA13397ED3'},\n",
       "    'Terminal': {'type': 'literal',\n",
       "     'value': '_717DFB1A-A300-444D-8D3B-0A093EAAD47B'},\n",
       "    'Equipment': {'type': 'literal',\n",
       "     'value': '{\"@id\":\"_259E820F-B4AF-4E1A-8271-687534EDAECC\",\"@type\":\"PowerTransformer\"}'}},\n",
       "   {'ConnectivityNode': {'type': 'literal',\n",
       "     'value': '_A8A25B50-3AE3-4A31-A18B-B3FA13397ED3'},\n",
       "    'Terminal': {'type': 'literal',\n",
       "     'value': '_F9439A87-D8E9-406F-ADD3-336B29B8BCEA'},\n",
       "    'Equipment': {'type': 'literal',\n",
       "     'value': '{\"@id\":\"_8B452737-CA3D-4C10-A99D-6865506437C8\",\"@type\":\"EnergySource\"}'}},\n",
       "   {'ConnectivityNode': {'type': 'literal',\n",
       "     'value': '_ADDB7A30-5A3C-4179-AF5D-5C9A7213B0E7'},\n",
       "    'Terminal': {'type': 'literal',\n",
       "     'value': '_AF475341-BBE8-4C30-A30E-B6EBE9768322'},\n",
       "    'Equipment': {'type': 'literal',\n",
       "     'value': '{\"@id\":\"_1E6B5C97-C4E8-4CED-B9A5-6E69F389DA93\",\"@type\":\"PowerTransformer\"}'}},\n",
       "   {'ConnectivityNode': {'type': 'literal',\n",
       "     'value': '_ADDB7A30-5A3C-4179-AF5D-5C9A7213B0E7'},\n",
       "    'Terminal': {'type': 'literal',\n",
       "     'value': '_D1CF8D27-7793-45FD-BA55-ADDB77AFED1E'},\n",
       "    'Equipment': {'type': 'literal',\n",
       "     'value': '{\"@id\":\"_43EF8365-F932-409B-A51E-FBED3F6DFFAA\",\"@type\":\"Fuse\"}'}},\n",
       "   {'ConnectivityNode': {'type': 'literal',\n",
       "     'value': '_C6256170-E6ED-4F91-8EBD-748090C3FDD5'},\n",
       "    'Terminal': {'type': 'literal',\n",
       "     'value': '_3621713B-852E-4F95-8586-2D55313ED673'},\n",
       "    'Equipment': {'type': 'literal',\n",
       "     'value': '{\"@id\":\"_43EF8365-F932-409B-A51E-FBED3F6DFFAA\",\"@type\":\"Fuse\"}'}},\n",
       "   {'ConnectivityNode': {'type': 'literal',\n",
       "     'value': '_C6256170-E6ED-4F91-8EBD-748090C3FDD5'},\n",
       "    'Terminal': {'type': 'literal',\n",
       "     'value': '_F0E10483-D8AD-46BE-AF5F-08228955796B'},\n",
       "    'Equipment': {'type': 'literal',\n",
       "     'value': '{\"@id\":\"_FBE26B35-13AB-457D-9795-DF58B28E309D\",\"@type\":\"ACLineSegment\"}'}},\n",
       "   {'ConnectivityNode': {'type': 'literal',\n",
       "     'value': '_DBFA8EFA-B397-40DA-9642-60E8DE4B3471'},\n",
       "    'Terminal': {'type': 'literal',\n",
       "     'value': '_2F5C9D9B-8CC5-4636-8BC8-2AC78F01F5BC'},\n",
       "    'Equipment': {'type': 'literal',\n",
       "     'value': '{\"@id\":\"_60B55036-DD71-40CE-ADDA-97B8CE7447DC\",\"@type\":\"EnergyConsumer\"}'}},\n",
       "   {'ConnectivityNode': {'type': 'literal',\n",
       "     'value': '_DBFA8EFA-B397-40DA-9642-60E8DE4B3471'},\n",
       "    'Terminal': {'type': 'literal',\n",
       "     'value': '_233304A2-B68B-4EC3-A692-4735DE495569'},\n",
       "    'Equipment': {'type': 'literal',\n",
       "     'value': '{\"@id\":\"_8E180773-2A9B-4136-BC9A-132A52C8E276\",\"@type\":\"ACLineSegment\"}'}},\n",
       "   {'ConnectivityNode': {'type': 'literal',\n",
       "     'value': '_DBFA8EFA-B397-40DA-9642-60E8DE4B3471'},\n",
       "    'Terminal': {'type': 'literal',\n",
       "     'value': '_FD3834FF-6C3B-434F-A41D-77EB8237F53D'},\n",
       "    'Equipment': {'type': 'literal',\n",
       "     'value': '{\"@id\":\"_9D725810-BFD6-44C6-961A-2BC027F6FC95\",\"@type\":\"LinearShuntCompensator\"}'}},\n",
       "   {'ConnectivityNode': {'type': 'literal',\n",
       "     'value': '_DC889FA5-7B28-4273-A1D7-205BE3E0BFED'},\n",
       "    'Terminal': {'type': 'literal',\n",
       "     'value': '_EEF69C71-5A87-4378-8DF4-4578635C81B4'},\n",
       "    'Equipment': {'type': 'literal',\n",
       "     'value': '{\"@id\":\"_45395C84-F20A-4F5A-977F-B80348256421\",\"@type\":\"ACLineSegment\"}'}},\n",
       "   {'ConnectivityNode': {'type': 'literal',\n",
       "     'value': '_DC889FA5-7B28-4273-A1D7-205BE3E0BFED'},\n",
       "    'Terminal': {'type': 'literal',\n",
       "     'value': '_CCC4E540-46CC-422C-98DA-32898FD31637'},\n",
       "    'Equipment': {'type': 'literal',\n",
       "     'value': '{\"@id\":\"_70188FF4-04F0-48D2-8706-698D1FD086E6\",\"@type\":\"EnergyConsumer\"}'}},\n",
       "   {'ConnectivityNode': {'type': 'literal',\n",
       "     'value': '_DC889FA5-7B28-4273-A1D7-205BE3E0BFED'},\n",
       "    'Terminal': {'type': 'literal',\n",
       "     'value': '_8C674F14-D9FF-4B1C-B246-1235022CD4C2'},\n",
       "    'Equipment': {'type': 'literal',\n",
       "     'value': '{\"@id\":\"_7FF12CEF-1C4D-4CD2-8FCC-662530A7BA33\",\"@type\":\"PowerTransformer\"}'}},\n",
       "   {'ConnectivityNode': {'type': 'literal',\n",
       "     'value': '_DC889FA5-7B28-4273-A1D7-205BE3E0BFED'},\n",
       "    'Terminal': {'type': 'literal',\n",
       "     'value': '_83481773-E9FC-4720-89B4-796C5081D518'},\n",
       "    'Equipment': {'type': 'literal',\n",
       "     'value': '{\"@id\":\"_91A37B4C-C38B-4269-8467-F40870934386\",\"@type\":\"EnergyConsumer\"}'}},\n",
       "   {'ConnectivityNode': {'type': 'literal',\n",
       "     'value': '_DC889FA5-7B28-4273-A1D7-205BE3E0BFED'},\n",
       "    'Terminal': {'type': 'literal',\n",
       "     'value': '_B554744A-F5B5-485C-B67E-2487A8740295'},\n",
       "    'Equipment': {'type': 'literal',\n",
       "     'value': '{\"@id\":\"_ABF53597-A808-422A-B7EE-552F24D83A5F\",\"@type\":\"ACLineSegment\"}'}},\n",
       "   {'ConnectivityNode': {'type': 'literal',\n",
       "     'value': '_DC889FA5-7B28-4273-A1D7-205BE3E0BFED'},\n",
       "    'Terminal': {'type': 'literal',\n",
       "     'value': '_F421B562-1AF9-42C1-8906-D80CABA91FC4'},\n",
       "    'Equipment': {'type': 'literal',\n",
       "     'value': '{\"@id\":\"_E503BBF8-3C82-4DF7-B6E9-2488ECFCC847\",\"@type\":\"EnergyConsumer\"}'}},\n",
       "   {'ConnectivityNode': {'type': 'literal',\n",
       "     'value': '_E5B2888B-B60D-4DA6-A4F7-17EB849D28B2'},\n",
       "    'Terminal': {'type': 'literal',\n",
       "     'value': '_169CB0D6-0002-457F-9594-7FEB09DA102D'},\n",
       "    'Equipment': {'type': 'literal',\n",
       "     'value': '{\"@id\":\"_517413CB-6977-46FA-8911-C82332E42884\",\"@type\":\"LoadBreakSwitch\"}'}},\n",
       "   {'ConnectivityNode': {'type': 'literal',\n",
       "     'value': '_E5B2888B-B60D-4DA6-A4F7-17EB849D28B2'},\n",
       "    'Terminal': {'type': 'literal',\n",
       "     'value': '_B4E1784C-5500-47AE-958B-A286CE8C17A5'},\n",
       "    'Equipment': {'type': 'literal',\n",
       "     'value': '{\"@id\":\"_7060D0BB-B30D-4932-8FA1-40820A0FC4D0\",\"@type\":\"ACLineSegment\"}'}},\n",
       "   {'ConnectivityNode': {'type': 'literal',\n",
       "     'value': '_E5B2888B-B60D-4DA6-A4F7-17EB849D28B2'},\n",
       "    'Terminal': {'type': 'literal',\n",
       "     'value': '_9CA4064A-AACD-49DB-9296-7ADC7E195358'},\n",
       "    'Equipment': {'type': 'literal',\n",
       "     'value': '{\"@id\":\"_8CA46F28-84C0-4FE2-B228-EC4080777865\",\"@type\":\"EnergyConsumer\"}'}}]}}"
      ]
     },
     "execution_count": 8,
     "metadata": {},
     "output_type": "execute_result"
    }
   ],
   "source": [
    "message = (sparql.get_all_nodes_from_container(feeder, connection))\n",
    "connection.execute(message)"
   ]
  },
  {
   "cell_type": "code",
   "execution_count": 9,
   "metadata": {},
   "outputs": [
    {
     "name": "stdout",
     "output_type": "stream",
     "text": [
      "\n",
      "        PREFIX r:  <http://www.w3.org/1999/02/22-rdf-syntax-ns#>\n",
      "        PREFIX cim:  <http://iec.ch/TC57/CIM100#>\n",
      "        SELECT DISTINCT ?identifier ?attribute ?value ?edge\n",
      "        WHERE {\n",
      "          \n",
      "    VALUES ?identifier { \"_0BBD0EA3-F665-465B-86FD-FC8B8466AD53\" \n",
      " \"_1C6781A2-5B9D-4525-8A9B-F9B32C4C4AC0\" \n",
      " \"_ABF877D7-DAC2-4BF0-AB58-9A8A02E92EB3\" \n",
      " \"_8E180773-2A9B-4136-BC9A-132A52C8E276\" \n",
      " \"_45395C84-F20A-4F5A-977F-B80348256421\" \n",
      " \"_4C04F838-62AA-475E-AEFA-A63B7C889C13\" \n",
      " \"_D34B0D01-B082-4081-A3CC-B68B9B8313A4\" \n",
      " \"_ABF53597-A808-422A-B7EE-552F24D83A5F\" \n",
      " \"_7060D0BB-B30D-4932-8FA1-40820A0FC4D0\" \n",
      " \"_A04CDFB1-E951-4FC4-8882-0323CD70AE3C\" \n",
      " \"_FBE26B35-13AB-457D-9795-DF58B28E309D\" \n",
      "               }\n",
      "        bind(iri(concat(\"http://localhost:8889/bigdata/namespace/kb/sparql#\", ?identifier)) as ?eq)\n",
      "\n",
      "        ?eq r:type cim:ACLineSegment.\n",
      "    \n",
      "        {?eq (cim:|!cim:) ?val.\n",
      "         ?eq ?attr ?val.}\n",
      "        UNION\n",
      "        {?val (cim:|!cim:) ?eq.\n",
      "         ?val ?attr ?eq.}\n",
      "\n",
      "        {bind(strafter(str(?attr),\"#\") as ?attribute)}\n",
      "        {bind(strafter(str(?val),\"http://localhost:8889/bigdata/namespace/kb/sparql#\") as ?uri)}\n",
      "        {bind(if(?uri = \"\", ?val, ?uri) as ?value)}\n",
      "\n",
      "        OPTIONAL {?val a ?classraw.\n",
      "                  bind(strafter(str(?classraw),\"http://iec.ch/TC57/CIM100#\") as ?edge_class)\n",
      "                  {bind(strafter(str(?val),\"http://localhost:8889/bigdata/namespace/kb/sparql#\") as ?uri)}\n",
      "\n",
      "                  bind(concat(\"{\\\"@id\\\":\\\"\", ?uri,\"\\\",\\\"@type\\\":\\\"\", ?edge_class, \"\\\"}\") as ?edge)}\n",
      "        }\n",
      "\n",
      "        ORDER by  ?identifier ?attribute\n",
      "        \n"
     ]
    }
   ],
   "source": [
    "message = network.get_edges_query(cim.ACLineSegment)\n",
    "print(message)"
   ]
  },
  {
   "cell_type": "code",
   "execution_count": 10,
   "metadata": {},
   "outputs": [],
   "source": [
    "network.get_all_edges(cim.ACLineSegment)"
   ]
  },
  {
   "cell_type": "code",
   "execution_count": 11,
   "metadata": {},
   "outputs": [],
   "source": [
    "from uuid import UUID\n",
    "\n",
    "\n",
    "line = network.graph[cim.ACLineSegment][UUID(\"0bbd0ea3-f665-465b-86fd-fc8b8466ad53\")]"
   ]
  },
  {
   "cell_type": "code",
   "execution_count": 12,
   "metadata": {},
   "outputs": [],
   "source": [
    "# del x['__uuid__']\n",
    "# del x['identifier']\n",
    "# json.dumps(x)"
   ]
  },
  {
   "cell_type": "code",
   "execution_count": 13,
   "metadata": {},
   "outputs": [
    {
     "data": {
      "text/plain": [
       "'{\"@id\": \"0bbd0ea3-f665-465b-86fd-fc8b8466ad53\", \"@type\": \"ACLineSegment\", \"identifier\": \"0bbd0ea3-f665-465b-86fd-fc8b8466ad53\", \"mRID\": \"_0BBD0EA3-F665-465B-86FD-FC8B8466AD53\", \"name\": \"645646\", \"Location\": {\"@id\": \"89c21411-d107-454a-93b0-0905893dd27d\", \"@type\": \"Location\"}, \"Measurements\": [{\"@id\": \"2d9ed148-d492-4e7d-b9af-81a407e74a59\", \"@type\": \"Analog\"}, {\"@id\": \"4e30ae83-418c-4cfb-99eb-5572e00b4ec4\", \"@type\": \"Analog\"}, {\"@id\": \"5f1dfa9f-e754-471d-9c74-c1a9441e95a3\", \"@type\": \"Analog\"}, {\"@id\": \"84f75532-a514-4355-bf0e-2f8d82c736ae\", \"@type\": \"Analog\"}], \"EquipmentContainer\": {\"@id\": \"49ad8e07-3bf9-a4e2-cb8f-c3722f837b62\", \"@type\": \"Feeder\"}, \"BaseVoltage\": {\"@id\": \"2a158e0c-cd01-4a50-aeba-59d761fcf15d\", \"@type\": \"BaseVoltage\"}, \"Terminals\": [{\"@id\": \"d02b9e99-3557-48f5-b475-4871e47d08f6\", \"@type\": \"Terminal\"}, {\"@id\": \"f3c0f2d0-4d28-49b5-a920-37409b99229d\", \"@type\": \"Terminal\"}], \"length\": \"91.44\", \"ACLineSegmentPhases\": [{\"@id\": \"94fcafff-e5f7-4f97-b697-35c46656edca\", \"@type\": \"ACLineSegmentPhase\"}, {\"@id\": \"ce2afb05-a1b1-4082-b4eb-2ad8a1d3422d\", \"@type\": \"ACLineSegmentPhase\"}], \"PerLengthImpedance\": {\"@id\": \"12c526c5-6645-4c0c-83cd-3030c440da17\", \"@type\": \"PerLengthPhaseImpedance\"}}'"
      ]
     },
     "execution_count": 13,
     "metadata": {},
     "output_type": "execute_result"
    }
   ],
   "source": [
    "line.__str__()"
   ]
  },
  {
   "cell_type": "code",
   "execution_count": 14,
   "metadata": {},
   "outputs": [
    {
     "name": "stdout",
     "output_type": "stream",
     "text": [
      "{\n",
      "    \"@id\": \"0bbd0ea3-f665-465b-86fd-fc8b8466ad53\",\n",
      "    \"@type\": \"ACLineSegment\",\n",
      "    \"identifier\": \"0bbd0ea3-f665-465b-86fd-fc8b8466ad53\",\n",
      "    \"mRID\": \"_0BBD0EA3-F665-465B-86FD-FC8B8466AD53\",\n",
      "    \"name\": \"645646\",\n",
      "    \"Location\": {\n",
      "        \"@id\": \"89c21411-d107-454a-93b0-0905893dd27d\",\n",
      "        \"@type\": \"Location\"\n",
      "    },\n",
      "    \"Measurements\": [\n",
      "        {\n",
      "            \"@id\": \"2d9ed148-d492-4e7d-b9af-81a407e74a59\",\n",
      "            \"@type\": \"Analog\"\n",
      "        },\n",
      "        {\n",
      "            \"@id\": \"4e30ae83-418c-4cfb-99eb-5572e00b4ec4\",\n",
      "            \"@type\": \"Analog\"\n",
      "        },\n",
      "        {\n",
      "            \"@id\": \"5f1dfa9f-e754-471d-9c74-c1a9441e95a3\",\n",
      "            \"@type\": \"Analog\"\n",
      "        },\n",
      "        {\n",
      "            \"@id\": \"84f75532-a514-4355-bf0e-2f8d82c736ae\",\n",
      "            \"@type\": \"Analog\"\n",
      "        }\n",
      "    ],\n",
      "    \"EquipmentContainer\": {\n",
      "        \"@id\": \"49ad8e07-3bf9-a4e2-cb8f-c3722f837b62\",\n",
      "        \"@type\": \"Feeder\"\n",
      "    },\n",
      "    \"BaseVoltage\": {\n",
      "        \"@id\": \"2a158e0c-cd01-4a50-aeba-59d761fcf15d\",\n",
      "        \"@type\": \"BaseVoltage\"\n",
      "    },\n",
      "    \"Terminals\": [\n",
      "        {\n",
      "            \"@id\": \"d02b9e99-3557-48f5-b475-4871e47d08f6\",\n",
      "            \"@type\": \"Terminal\"\n",
      "        },\n",
      "        {\n",
      "            \"@id\": \"f3c0f2d0-4d28-49b5-a920-37409b99229d\",\n",
      "            \"@type\": \"Terminal\"\n",
      "        }\n",
      "    ],\n",
      "    \"length\": \"91.44\",\n",
      "    \"ACLineSegmentPhases\": [\n",
      "        {\n",
      "            \"@id\": \"94fcafff-e5f7-4f97-b697-35c46656edca\",\n",
      "            \"@type\": \"ACLineSegmentPhase\"\n",
      "        },\n",
      "        {\n",
      "            \"@id\": \"ce2afb05-a1b1-4082-b4eb-2ad8a1d3422d\",\n",
      "            \"@type\": \"ACLineSegmentPhase\"\n",
      "        }\n",
      "    ],\n",
      "    \"PerLengthImpedance\": {\n",
      "        \"@id\": \"12c526c5-6645-4c0c-83cd-3030c440da17\",\n",
      "        \"@type\": \"PerLengthPhaseImpedance\"\n",
      "    }\n",
      "}\n"
     ]
    }
   ],
   "source": [
    "line.pprint()"
   ]
  },
  {
   "cell_type": "code",
   "execution_count": 15,
   "metadata": {},
   "outputs": [
    {
     "data": {
      "text/plain": [
       "'{\"@id\": \"0bbd0ea3-f665-465b-86fd-fc8b8466ad53\", \"@type\": \"ACLineSegment\"}'"
      ]
     },
     "execution_count": 15,
     "metadata": {},
     "output_type": "execute_result"
    }
   ],
   "source": [
    "line.__repr__()"
   ]
  },
  {
   "cell_type": "code",
   "execution_count": 16,
   "metadata": {},
   "outputs": [
    {
     "ename": "NameError",
     "evalue": "name 'qwertyuiop' is not defined",
     "output_type": "error",
     "traceback": [
      "\u001b[0;31m---------------------------------------------------------------------------\u001b[0m",
      "\u001b[0;31mNameError\u001b[0m                                 Traceback (most recent call last)",
      "Cell \u001b[0;32mIn[16], line 1\u001b[0m\n\u001b[0;32m----> 1\u001b[0m \u001b[43mqwertyuiop\u001b[49m\n",
      "\u001b[0;31mNameError\u001b[0m: name 'qwertyuiop' is not defined"
     ]
    }
   ],
   "source": [
    "qwertyuiop"
   ]
  },
  {
   "cell_type": "code",
   "execution_count": null,
   "metadata": {},
   "outputs": [],
   "source": [
    "from dataclasses import is_dataclass\n",
    "\n",
    "\n",
    "dump = dict(json.loads(line.__repr__()) | line.__dict__)\n",
    "del dump['__uuid__']\n",
    "attribute_list = list(line.__dataclass_fields__.keys())\n",
    "for attribute in attribute_list:\n",
    "    if dump[attribute] is None or dump[attribute] == []:\n",
    "        del dump[attribute]\n",
    "    elif is_dataclass(dump[attribute]):\n",
    "        dump[attribute] = (dump[attribute]).__repr__()\n",
    "    elif type(dump[attribute]) != str:\n",
    "        dump[attribute] = str(dump[attribute])\n",
    "# dump = json.dumps(dump)\n",
    "# # bugfix - TODO correct list quotes\n",
    "# dump = str(dump).replace('\\\\\\\"','\\\"' )\n",
    "# dump = str(dump).replace('\\\"[','[' )\n",
    "# dump = str(dump).replace(']\\\"',']' )"
   ]
  },
  {
   "cell_type": "code",
   "execution_count": null,
   "metadata": {},
   "outputs": [],
   "source": [
    "dump"
   ]
  },
  {
   "cell_type": "code",
   "execution_count": null,
   "metadata": {},
   "outputs": [],
   "source": [
    "from dataclasses import is_dataclass\n",
    "\n",
    "\n",
    "is_dataclass((dump['Location']))"
   ]
  },
  {
   "cell_type": "code",
   "execution_count": null,
   "metadata": {},
   "outputs": [],
   "source": [
    "# feeder_mrids = [\"_49AD8E07-3BF9-A4E2-CB8F-C3722F837B62\", # 13 bus\n",
    "#                 \"_C1C3E687-6FFD-C753-582B-632A27E28507\",  # 123 bus\n",
    "#                 \"_5B816B93-7A5F-B64C-8460-47C17D6E4B0F\"] # 13 bus asets\n",
    "#                 # \"_4F76A5F9-271D-9EB8-5E31-AA362D86F2C3\",  # 8500 node\n",
    "#                 # \"_67AB291F-DCCD-31B7-B499-338206B9828F\", # J1\n",
    "#                 # \"_9CE150A8-8CC5-A0F9-B67E-BBD8C79D3095\"]  # R2 12.47 3\n",
    "# # feeder_mrid = \"_EE71F6C9-56F0-4167-A14E-7F4C71F10EAA\" #9500 node\n",
    "# # feeder_mrid = \"_9E985101-27AD-4FE4-B36A-EBECC98CDFAB\" #MAPLE 10 bus\n",
    "# for feeder_mrid in feeder_mrids:\n",
    "#     print(feeder_mrid)\n",
    "#     feeder = cim.Feeder(mRID = feeder_mrid)\n",
    "#     network = FeederModel(connection=connection, container=feeder, distributed=False)\n",
    "#     utils.get_all_data(network)"
   ]
  },
  {
   "cell_type": "code",
   "execution_count": null,
   "metadata": {},
   "outputs": [],
   "source": [
    "substation=cim.Substation(mRID='_B1D29E92-5F08-4DB8-8298-3F9DF829C037')\n",
    "SubstationArea = DistributedArea(connection=connection, container=substation,distributed=True)\n",
    "SubstationArea.get_all_edges(cim.Substation)\n",
    "# SubstationArea.get_all_edges(cim.ConnectivityNode)\n",
    "# SubstationArea.get_all_edges(cim.PowerTransformer)\n",
    "# SubstationArea.get_all_edges(cim.EnergyConsumer)\n",
    "# SubstationArea.get_all_attributes(cim.SubGeographicalRegion)\n",
    "# SubstationArea.get_all_edges(cim.VoltageLevel)\n",
    "# SubstationArea.get_all_edges(cim.PowerTransformerEnd)\n",
    "# SubstationArea.get_all_edges(cim.Terminal)\n",
    "# SubstationArea.get_all_edges(cim.TransformerCoreAdmittance)\n",
    "# SubstationArea.get_all_attributes(cim.BaseVoltage)\n",
    "# SubstationArea.get_all_edges(cim.TransformerMeshImpedance)\n",
    "# SubstationArea.get_all_attributes(cim.LoadResponseCharacteristic)\n",
    "utils.write_xml(SubstationArea, '/home/ande188/sub.xml')\n",
    "import time\n",
    "time.sleep(5)\n"
   ]
  },
  {
   "cell_type": "code",
   "execution_count": null,
   "metadata": {},
   "outputs": [],
   "source": [
    "substation"
   ]
  },
  {
   "cell_type": "code",
   "execution_count": null,
   "metadata": {},
   "outputs": [],
   "source": [
    "utils.get_all_data(SubstationArea)\n",
    "utils.write_xml(SubstationArea, '/home/ande188/sub.xml')"
   ]
  },
  {
   "cell_type": "code",
   "execution_count": null,
   "metadata": {},
   "outputs": [],
   "source": []
  },
  {
   "cell_type": "code",
   "execution_count": null,
   "metadata": {},
   "outputs": [],
   "source": [
    "a"
   ]
  },
  {
   "cell_type": "code",
   "execution_count": null,
   "metadata": {},
   "outputs": [],
   "source": [
    "feeder_mrid = \"_49AD8E07-3BF9-A4E2-CB8F-C3722F837B62\"\n",
    "feeder = cim.Feeder(mRID = feeder_mrid)\n",
    "network = FeederModel(connection=connection, container=feeder, distributed=False)\n"
   ]
  },
  {
   "cell_type": "code",
   "execution_count": null,
   "metadata": {},
   "outputs": [],
   "source": [
    "network.pprint(cim.ConnectivityNode)"
   ]
  },
  {
   "cell_type": "code",
   "execution_count": null,
   "metadata": {},
   "outputs": [],
   "source": [
    "cim.ConnectivityNode in None"
   ]
  },
  {
   "cell_type": "code",
   "execution_count": null,
   "metadata": {},
   "outputs": [],
   "source": [
    "network.get_all_edges(cim.ACLineSegment)\n",
    "network.get_all_attributes(cim.BaseVoltage)\n",
    "network.pprint(cim.BaseVoltage)"
   ]
  },
  {
   "cell_type": "code",
   "execution_count": 17,
   "metadata": {},
   "outputs": [
    {
     "name": "stderr",
     "output_type": "stream",
     "text": [
      "Association OperationalLimitSet missing from class ConnectivityNode in data profile\n",
      "Association OperationalLimitSet missing from class ConnectivityNode in data profile\n",
      "Association OperationalLimitSet missing from class ConnectivityNode in data profile\n",
      "Association OperationalLimitSet missing from class ConnectivityNode in data profile\n",
      "Association OperationalLimitSet missing from class ConnectivityNode in data profile\n",
      "Association OperationalLimitSet missing from class ConnectivityNode in data profile\n",
      "Association OperationalLimitSet missing from class ConnectivityNode in data profile\n",
      "Association OperationalLimitSet missing from class ConnectivityNode in data profile\n",
      "Association OperationalLimitSet missing from class ConnectivityNode in data profile\n",
      "Association OperationalLimitSet missing from class ConnectivityNode in data profile\n",
      "Association OperationalLimitSet missing from class ConnectivityNode in data profile\n",
      "Association OperationalLimitSet missing from class ConnectivityNode in data profile\n",
      "Association OperationalLimitSet missing from class ConnectivityNode in data profile\n",
      "Association OperationalLimitSet missing from class ConnectivityNode in data profile\n",
      "Association OperationalLimitSet missing from class ConnectivityNode in data profile\n",
      "Association OperationalLimitSet missing from class ConnectivityNode in data profile\n",
      "Association OperationalLimitSet missing from class ConnectivityNode in data profile\n",
      "Association OperationalLimitSet missing from class ConnectivityNode in data profile\n",
      "Association OperationalLimitSet missing from class ConnectivityNode in data profile\n",
      "Association OperationalLimitSet missing from class ConnectivityNode in data profile\n",
      "Association OperationalLimitSet missing from class ConnectivityNode in data profile\n",
      "Association OperationalLimitSet missing from class ConnectivityNode in data profile\n",
      "Association PowerSystemResources missing from class Asset in data profile\n",
      "Association PowerSystemResources missing from class Asset in data profile\n",
      "Association PowerSystemResources missing from class Asset in data profile\n",
      "Association PowerSystemResources missing from class Asset in data profile\n",
      "Association PowerSystemResources missing from class Asset in data profile\n",
      "Association PowerSystemResources missing from class Asset in data profile\n",
      "Association PowerSystemResources missing from class Asset in data profile\n",
      "Class PhotovoltaicUnit not in data profile\n",
      "Class PhotovoltaicUnit not in data profile\n"
     ]
    },
    {
     "ename": "AttributeError",
     "evalue": "module 'cimgraph.data_profile.cim17v40' has no attribute 'ActivePowerLimit'",
     "output_type": "error",
     "traceback": [
      "\u001b[0;31m---------------------------------------------------------------------------\u001b[0m",
      "\u001b[0;31mAttributeError\u001b[0m                            Traceback (most recent call last)",
      "Cell \u001b[0;32mIn[17], line 1\u001b[0m\n\u001b[0;32m----> 1\u001b[0m \u001b[43mutils\u001b[49m\u001b[38;5;241;43m.\u001b[39;49m\u001b[43mget_all_data\u001b[49m\u001b[43m(\u001b[49m\u001b[43mnetwork\u001b[49m\u001b[43m)\u001b[49m\n",
      "File \u001b[0;32m~/CIM-Graph/cimgraph/utils/get_all_data.py:174\u001b[0m, in \u001b[0;36mget_all_data\u001b[0;34m(network)\u001b[0m\n\u001b[1;32m    172\u001b[0m get_all_load_data(network)\n\u001b[1;32m    173\u001b[0m get_all_inverter_data(network)\n\u001b[0;32m--> 174\u001b[0m \u001b[43mget_all_limit_data\u001b[49m\u001b[43m(\u001b[49m\u001b[43mnetwork\u001b[49m\u001b[43m)\u001b[49m\n\u001b[1;32m    175\u001b[0m get_all_location_data(network)\n\u001b[1;32m    176\u001b[0m get_all_measurement_data(network)\n",
      "File \u001b[0;32m~/CIM-Graph/cimgraph/utils/get_all_data.py:119\u001b[0m, in \u001b[0;36mget_all_limit_data\u001b[0;34m(network)\u001b[0m\n\u001b[1;32m    117\u001b[0m cim \u001b[38;5;241m=\u001b[39m importlib\u001b[38;5;241m.\u001b[39mimport_module(\u001b[38;5;124mf\u001b[39m\u001b[38;5;124m'\u001b[39m\u001b[38;5;124mcimgraph.data_profile.\u001b[39m\u001b[38;5;132;01m{\u001b[39;00mcim_profile\u001b[38;5;132;01m}\u001b[39;00m\u001b[38;5;124m'\u001b[39m)\n\u001b[1;32m    118\u001b[0m network\u001b[38;5;241m.\u001b[39mget_all_attributes(cim\u001b[38;5;241m.\u001b[39mOperationalLimitSet)\n\u001b[0;32m--> 119\u001b[0m network\u001b[38;5;241m.\u001b[39mget_all_attributes(\u001b[43mcim\u001b[49m\u001b[38;5;241;43m.\u001b[39;49m\u001b[43mActivePowerLimit\u001b[49m)\n\u001b[1;32m    120\u001b[0m network\u001b[38;5;241m.\u001b[39mget_all_attributes(cim\u001b[38;5;241m.\u001b[39mApparentPowerLimit)\n\u001b[1;32m    121\u001b[0m network\u001b[38;5;241m.\u001b[39mget_all_attributes(cim\u001b[38;5;241m.\u001b[39mVoltageLimit)\n",
      "\u001b[0;31mAttributeError\u001b[0m: module 'cimgraph.data_profile.cim17v40' has no attribute 'ActivePowerLimit'"
     ]
    }
   ],
   "source": [
    "utils.get_all_data(network)"
   ]
  },
  {
   "cell_type": "code",
   "execution_count": null,
   "metadata": {},
   "outputs": [],
   "source": [
    "network.pprint(cim.Substation)"
   ]
  },
  {
   "cell_type": "code",
   "execution_count": 18,
   "metadata": {},
   "outputs": [
    {
     "name": "stdout",
     "output_type": "stream",
     "text": [
      "\n",
      "        PREFIX r:  <http://www.w3.org/1999/02/22-rdf-syntax-ns#>\n",
      "        PREFIX cim:  <http://iec.ch/TC57/CIM100#>\n",
      "        SELECT DISTINCT ?identifier ?attribute ?value ?edge\n",
      "        WHERE {\n",
      "          \n",
      "    VALUES ?identifier { \"_49AD8E07-3BF9-A4E2-CB8F-C3722F837B62\" \n",
      " \"_49AD8E07-3BF9-A4E2-CB8F-C3722F837B62\" \n",
      "               }\n",
      "        bind(iri(concat(\"http://localhost:8889/bigdata/namespace/kb/sparql#\", ?identifier)) as ?eq)\n",
      "\n",
      "        ?eq r:type cim:Feeder.\n",
      "    \n",
      "        {?eq (cim:|!cim:) ?val.\n",
      "         ?eq ?attr ?val.}\n",
      "        UNION\n",
      "        {?val (cim:|!cim:) ?eq.\n",
      "         ?val ?attr ?eq.}\n",
      "\n",
      "        {bind(strafter(str(?attr),\"#\") as ?attribute)}\n",
      "        {bind(strafter(str(?val),\"http://localhost:8889/bigdata/namespace/kb/sparql#\") as ?uri)}\n",
      "        {bind(if(?uri = \"\", ?val, ?uri) as ?value)}\n",
      "\n",
      "        OPTIONAL {?val a ?classraw.\n",
      "                  bind(strafter(str(?classraw),\"http://iec.ch/TC57/CIM100#\") as ?edge_class)\n",
      "                  {bind(strafter(str(?val),\"http://localhost:8889/bigdata/namespace/kb/sparql#\") as ?uri)}\n",
      "\n",
      "                  bind(concat(\"{\\\"@id\\\":\\\"\", ?uri,\"\\\",\\\"@type\\\":\\\"\", ?edge_class, \"\\\"}\") as ?edge)}\n",
      "        }\n",
      "\n",
      "        ORDER by  ?identifier ?attribute\n",
      "        \n"
     ]
    }
   ],
   "source": [
    "print(network.get_edges_query(cim.Feeder))\n"
   ]
  },
  {
   "cell_type": "code",
   "execution_count": 19,
   "metadata": {},
   "outputs": [],
   "source": [
    "with open(\"topo_message.json\") as topo:\n",
    "    topo_msg = json.load(topo)"
   ]
  },
  {
   "cell_type": "code",
   "execution_count": 20,
   "metadata": {},
   "outputs": [
    {
     "name": "stderr",
     "output_type": "stream",
     "text": [
      "Association PowerSystemResources missing from class Asset in data profile\n",
      "Association PowerSystemResources missing from class Asset in data profile\n",
      "Association PowerSystemResources missing from class Asset in data profile\n",
      "Association PowerSystemResources missing from class Asset in data profile\n",
      "Warning: mRID _49AD8E07-3BF9-A4E2-CB8F-C3722F837B62.0 not a valid UUID, generating new UUID\n",
      "Warning: mRID _49AD8E07-3BF9-A4E2-CB8F-C3722F837B62.0.0 not a valid UUID, generating new UUID\n",
      "Warning: mRID _49AD8E07-3BF9-A4E2-CB8F-C3722F837B62.1 not a valid UUID, generating new UUID\n",
      "Warning: mRID _49AD8E07-3BF9-A4E2-CB8F-C3722F837B62.1.0 not a valid UUID, generating new UUID\n",
      "Warning: mRID _49AD8E07-3BF9-A4E2-CB8F-C3722F837B62.2 not a valid UUID, generating new UUID\n",
      "Warning: mRID _49AD8E07-3BF9-A4E2-CB8F-C3722F837B62.3 not a valid UUID, generating new UUID\n",
      "Warning: mRID _49AD8E07-3BF9-A4E2-CB8F-C3722F837B62.4 not a valid UUID, generating new UUID\n",
      "Warning: mRID _49AD8E07-3BF9-A4E2-CB8F-C3722F837B62.4.0 not a valid UUID, generating new UUID\n"
     ]
    }
   ],
   "source": [
    "central_network = FeederModel(connection=connection, container=feeder, distributed=False)\n",
    "\n",
    "dist_network_2 =  FeederModel(connection=connection, container=feeder, distributed=True)\n",
    "\n",
    "dist_network_3 =  FeederModel(connection=connection, container=feeder, distributed=True, topology_message=topo_msg)"
   ]
  },
  {
   "cell_type": "code",
   "execution_count": 21,
   "metadata": {},
   "outputs": [],
   "source": [
    "# counter = 0\n",
    "# for switch_area in dist_network_2.distributed_areas:\n",
    "#     # switch_area.pprint(cim.ConnectivityNode)\n",
    "#     # switch_area.get_all_edges(cim.Conn)\n",
    "\n",
    "#     utils.get_all_bus_data(switch_area)\n",
    "#     utils.get_all_line_data(switch_area)\n",
    "#     utils.get_all_load_data(switch_area)\n",
    "#     utils.get_all_inverter_data(switch_area)\n",
    "#     utils.get_all_switch_data(switch_area)\n",
    "#     utils.get_all_transformer_data(switch_area)\n",
    "#     utils.get_all_location_data(switch_area)\n",
    "#     utils.get_all_measurement_data(switch_area)\n",
    "#     # switch_area.get_all_edges(cim.BaseVoltage)\n",
    "#     utils.write_xml(switch_area, filename=f'./test_output/switch_area.{counter}.xml')\n",
    "#     counter += 1\n",
    "\n",
    "\n",
    "#     for sec_area in switch_area.distributed_areas:\n",
    "#         # utils.get_all_data(sec_area)\n",
    "#         pass"
   ]
  },
  {
   "cell_type": "code",
   "execution_count": 22,
   "metadata": {},
   "outputs": [],
   "source": [
    "# for switch_area in dist_network_3.distributed_areas:\n",
    "#     utils.get_all_data(switch_area)\n",
    "#     for sec_area in switch_area.distributed_areas:\n",
    "#         utils.get_all_data(sec_area)"
   ]
  },
  {
   "cell_type": "code",
   "execution_count": null,
   "metadata": {},
   "outputs": [],
   "source": []
  },
  {
   "cell_type": "code",
   "execution_count": 23,
   "metadata": {},
   "outputs": [
    {
     "name": "stderr",
     "output_type": "stream",
     "text": [
      "Warning: mRID _49AD8E07-3BF9-A4E2-CB8F-C3722F837B62.0 not a valid UUID, generating new UUID\n",
      "Warning: mRID _49AD8E07-3BF9-A4E2-CB8F-C3722F837B62.0.0 not a valid UUID, generating new UUID\n",
      "Warning: mRID _49AD8E07-3BF9-A4E2-CB8F-C3722F837B62.1 not a valid UUID, generating new UUID\n",
      "Warning: mRID _49AD8E07-3BF9-A4E2-CB8F-C3722F837B62.1.0 not a valid UUID, generating new UUID\n",
      "Warning: mRID _49AD8E07-3BF9-A4E2-CB8F-C3722F837B62.2 not a valid UUID, generating new UUID\n",
      "Warning: mRID _49AD8E07-3BF9-A4E2-CB8F-C3722F837B62.3 not a valid UUID, generating new UUID\n",
      "Warning: mRID _49AD8E07-3BF9-A4E2-CB8F-C3722F837B62.4 not a valid UUID, generating new UUID\n",
      "Warning: mRID _49AD8E07-3BF9-A4E2-CB8F-C3722F837B62.4.0 not a valid UUID, generating new UUID\n",
      "Association OperationalLimitSet missing from class ConnectivityNode in data profile\n",
      "Association OperationalLimitSet missing from class ConnectivityNode in data profile\n",
      "Association OperationalLimitSet missing from class ConnectivityNode in data profile\n",
      "Association OperationalLimitSet missing from class ConnectivityNode in data profile\n",
      "Association OperationalLimitSet missing from class ConnectivityNode in data profile\n",
      "Association OperationalLimitSet missing from class ConnectivityNode in data profile\n",
      "Association OperationalLimitSet missing from class ConnectivityNode in data profile\n",
      "Association OperationalLimitSet missing from class ConnectivityNode in data profile\n",
      "Association OperationalLimitSet missing from class ConnectivityNode in data profile\n",
      "Association OperationalLimitSet missing from class ConnectivityNode in data profile\n",
      "Association OperationalLimitSet missing from class ConnectivityNode in data profile\n",
      "Association OperationalLimitSet missing from class ConnectivityNode in data profile\n",
      "Association OperationalLimitSet missing from class ConnectivityNode in data profile\n",
      "Association OperationalLimitSet missing from class ConnectivityNode in data profile\n",
      "Association OperationalLimitSet missing from class ConnectivityNode in data profile\n",
      "Association OperationalLimitSet missing from class ConnectivityNode in data profile\n",
      "Association OperationalLimitSet missing from class ConnectivityNode in data profile\n",
      "Association OperationalLimitSet missing from class ConnectivityNode in data profile\n",
      "Association OperationalLimitSet missing from class ConnectivityNode in data profile\n",
      "Association OperationalLimitSet missing from class ConnectivityNode in data profile\n",
      "Association OperationalLimitSet missing from class ConnectivityNode in data profile\n",
      "Association OperationalLimitSet missing from class ConnectivityNode in data profile\n"
     ]
    },
    {
     "name": "stdout",
     "output_type": "stream",
     "text": [
      "sourcebus\n",
      "650\n",
      "650z\n",
      "brkr\n",
      "rg60\n",
      "632\n",
      "633\n",
      "646\n",
      "645\n",
      "xf1\n",
      "634\n",
      "tap\n",
      "611\n",
      "675\n",
      "692\n",
      "684\n",
      "671\n",
      "670\n",
      "680\n",
      "652\n",
      "mid\n",
      "house\n"
     ]
    }
   ],
   "source": [
    "from cimgraph.models import DistributedArea\n",
    "\n",
    "container = cim.EquipmentContainer(mRID=feeder_mrid)\n",
    "feeder_area = DistributedArea(container, connection, distributed=True)\n",
    "feeder_area.build_from_topo_message(topo_msg['feeders'])\n",
    "\n",
    "feeder_area.get_all_edges(cim.ConnectivityNode)\n",
    "for node in feeder_area.graph[cim.ConnectivityNode].values():\n",
    "    print(node.name)\n",
    "\n",
    "\n"
   ]
  },
  {
   "cell_type": "code",
   "execution_count": 24,
   "metadata": {},
   "outputs": [
    {
     "name": "stderr",
     "output_type": "stream",
     "text": [
      "Warning: mRID _49AD8E07-3BF9-A4E2-CB8F-C3722F837B62.0 not a valid UUID, generating new UUID\n"
     ]
    },
    {
     "name": "stdout",
     "output_type": "stream",
     "text": [
      "switch area 0\n"
     ]
    },
    {
     "name": "stderr",
     "output_type": "stream",
     "text": [
      "Warning: mRID _49AD8E07-3BF9-A4E2-CB8F-C3722F837B62.0.0 not a valid UUID, generating new UUID\n",
      "Association OperationalLimitSet missing from class ConnectivityNode in data profile\n",
      "Association OperationalLimitSet missing from class ConnectivityNode in data profile\n",
      "Association OperationalLimitSet missing from class ConnectivityNode in data profile\n",
      "Association OperationalLimitSet missing from class ConnectivityNode in data profile\n",
      "Association OperationalLimitSet missing from class ConnectivityNode in data profile\n",
      "Association OperationalLimitSet missing from class ConnectivityNode in data profile\n",
      "Warning: mRID _49AD8E07-3BF9-A4E2-CB8F-C3722F837B62.1 not a valid UUID, generating new UUID\n"
     ]
    },
    {
     "name": "stdout",
     "output_type": "stream",
     "text": [
      "brkr\n",
      "rg60\n",
      "632\n",
      "633\n",
      "646\n",
      "645\n",
      "switch area 1\n"
     ]
    },
    {
     "name": "stderr",
     "output_type": "stream",
     "text": [
      "Warning: mRID _49AD8E07-3BF9-A4E2-CB8F-C3722F837B62.1.0 not a valid UUID, generating new UUID\n",
      "Association OperationalLimitSet missing from class ConnectivityNode in data profile\n",
      "Association OperationalLimitSet missing from class ConnectivityNode in data profile\n",
      "Warning: mRID _49AD8E07-3BF9-A4E2-CB8F-C3722F837B62.2 not a valid UUID, generating new UUID\n",
      "Association OperationalLimitSet missing from class ConnectivityNode in data profile\n",
      "Association OperationalLimitSet missing from class ConnectivityNode in data profile\n",
      "Warning: mRID _49AD8E07-3BF9-A4E2-CB8F-C3722F837B62.3 not a valid UUID, generating new UUID\n"
     ]
    },
    {
     "name": "stdout",
     "output_type": "stream",
     "text": [
      "xf1\n",
      "634\n",
      "switch area 2\n",
      "tap\n",
      "611\n",
      "switch area 3\n"
     ]
    },
    {
     "name": "stderr",
     "output_type": "stream",
     "text": [
      "Association OperationalLimitSet missing from class ConnectivityNode in data profile\n",
      "Association OperationalLimitSet missing from class ConnectivityNode in data profile\n",
      "Warning: mRID _49AD8E07-3BF9-A4E2-CB8F-C3722F837B62.4 not a valid UUID, generating new UUID\n"
     ]
    },
    {
     "name": "stdout",
     "output_type": "stream",
     "text": [
      "692\n",
      "675\n",
      "switch area 4\n"
     ]
    },
    {
     "name": "stderr",
     "output_type": "stream",
     "text": [
      "Warning: mRID _49AD8E07-3BF9-A4E2-CB8F-C3722F837B62.4.0 not a valid UUID, generating new UUID\n",
      "Association OperationalLimitSet missing from class ConnectivityNode in data profile\n",
      "Association OperationalLimitSet missing from class ConnectivityNode in data profile\n",
      "Association OperationalLimitSet missing from class ConnectivityNode in data profile\n",
      "Association OperationalLimitSet missing from class ConnectivityNode in data profile\n",
      "Association OperationalLimitSet missing from class ConnectivityNode in data profile\n",
      "Association OperationalLimitSet missing from class ConnectivityNode in data profile\n",
      "Association OperationalLimitSet missing from class ConnectivityNode in data profile\n"
     ]
    },
    {
     "name": "stdout",
     "output_type": "stream",
     "text": [
      "670\n",
      "mid\n",
      "684\n",
      "652\n",
      "671\n",
      "680\n",
      "house\n"
     ]
    }
   ],
   "source": [
    "counter = 0\n",
    "for switch_topo in topo_msg['feeders']['switch_areas']:\n",
    "    print('switch area', counter)\n",
    "    container = cim.EquipmentContainer(mRID=feeder_mrid+'.'+str(counter))\n",
    "    SwitchArea = DistributedArea(container, connection, distributed=True)\n",
    "    SwitchArea.build_from_topo_message(switch_topo)\n",
    "    counter = counter + 1\n",
    "\n",
    "    SwitchArea.get_all_edges(cim.ConnectivityNode)\n",
    "    for node in SwitchArea.graph[cim.ConnectivityNode].values():\n",
    "        print(node.name)"
   ]
  },
  {
   "cell_type": "code",
   "execution_count": 25,
   "metadata": {},
   "outputs": [
    {
     "name": "stderr",
     "output_type": "stream",
     "text": [
      "Warning: mRID 0.0 not a valid UUID, generating new UUID\n"
     ]
    },
    {
     "name": "stdout",
     "output_type": "stream",
     "text": [
      "sec area 5\n"
     ]
    },
    {
     "name": "stderr",
     "output_type": "stream",
     "text": [
      "Association OperationalLimitSet missing from class ConnectivityNode in data profile\n",
      "Association OperationalLimitSet missing from class ConnectivityNode in data profile\n",
      "Association OperationalLimitSet missing from class ConnectivityNode in data profile\n",
      "Association OperationalLimitSet missing from class ConnectivityNode in data profile\n",
      "Association OperationalLimitSet missing from class ConnectivityNode in data profile\n",
      "Warning: mRID 1.0 not a valid UUID, generating new UUID\n",
      "Association OperationalLimitSet missing from class ConnectivityNode in data profile\n",
      "Warning: mRID 4.0 not a valid UUID, generating new UUID\n"
     ]
    },
    {
     "name": "stdout",
     "output_type": "stream",
     "text": [
      "rg60\n",
      "632\n",
      "633\n",
      "646\n",
      "645\n",
      "sec area 5\n",
      "634\n",
      "sec area 5\n"
     ]
    },
    {
     "name": "stderr",
     "output_type": "stream",
     "text": [
      "Association OperationalLimitSet missing from class ConnectivityNode in data profile\n"
     ]
    },
    {
     "name": "stdout",
     "output_type": "stream",
     "text": [
      "house\n"
     ]
    }
   ],
   "source": [
    "sw_counter = -1\n",
    "for switch_topo in topo_msg['feeders']['switch_areas']:\n",
    "    sw_counter +=1\n",
    "    sa_counter = -1\n",
    "    for sec_topo in switch_topo['secondary_areas']:\n",
    "        sa_counter +=1\n",
    "        area_id = str(sw_counter) + '.' + str(sa_counter)\n",
    "        print('sec area', counter)\n",
    "        container = cim.EquipmentContainer(mRID=area_id)\n",
    "        SecondaryArea = DistributedArea(container, connection, distributed=True)\n",
    "        SecondaryArea.build_from_topo_message(sec_topo)\n",
    "\n",
    "        SecondaryArea.get_all_edges(cim.ConnectivityNode)\n",
    "        for node in SecondaryArea.graph[cim.ConnectivityNode].values():\n",
    "            print(node.name)\n",
    "    "
   ]
  },
  {
   "cell_type": "code",
   "execution_count": 26,
   "metadata": {},
   "outputs": [],
   "source": [
    "from cimgraph.databases import ConnectionParameters\n",
    "from cimgraph.databases import BlazegraphConnection\n",
    "import cimgraph.data_profile.cim17v40 as cim\n",
    "params = ConnectionParameters(url = \"http://localhost:8889/bigdata/namespace/kb/sparql\", cim_profile='cim17v40', iec61970_301=7)\n",
    "connection = BlazegraphConnection(params)"
   ]
  },
  {
   "cell_type": "code",
   "execution_count": 27,
   "metadata": {},
   "outputs": [],
   "source": [
    "from cimgraph.models import FeederModel\n",
    "feeder_mrid = \"_49AD8E07-3BF9-A4E2-CB8F-C3722F837B62\"\n",
    "feeder = cim.Feeder(mRID = feeder_mrid)\n",
    "network = FeederModel(connection=connection, container=feeder, distributed=False)"
   ]
  },
  {
   "cell_type": "code",
   "execution_count": 28,
   "metadata": {},
   "outputs": [],
   "source": [
    "query = network.get_edges_query(cim.Terminal)"
   ]
  },
  {
   "cell_type": "code",
   "execution_count": 29,
   "metadata": {},
   "outputs": [
    {
     "name": "stdout",
     "output_type": "stream",
     "text": [
      "\n",
      "        PREFIX r:  <http://www.w3.org/1999/02/22-rdf-syntax-ns#>\n",
      "        PREFIX cim:  <http://iec.ch/TC57/CIM100#>\n",
      "        SELECT DISTINCT ?identifier ?attribute ?value ?edge\n",
      "        WHERE {\n",
      "          \n",
      "    VALUES ?identifier { \"_F3C0F2D0-4D28-49B5-A920-37409B99229D\" \n",
      " \"_4891537F-4088-48F5-9B1A-8294D50901E4\" \n",
      " \"_15298D41-D5E5-464F-A96D-01FFCF0DA7DB\" \n",
      " \"_F6CE3095-9089-4B61-9C13-C7647ADBA888\" \n",
      " \"_2128BB42-3E2D-490A-A29D-05549E81F25D\" \n",
      " \"_A4B4C25C-8744-4B8B-A612-19B80AFA110D\" \n",
      " \"_8E29BA3D-9523-446F-BD9F-989D8182A723\" \n",
      " \"_9D06670E-F8AD-46A1-9854-BBA7ADAF1CF0\" \n",
      " \"_337F7A56-C530-4F05-8586-940E8460993A\" \n",
      " \"_E1763FE3-82C2-4434-9424-72DF850D982E\" \n",
      " \"_C61A2238-FE09-4406-B172-26CB9F145DB1\" \n",
      " \"_90D2243E-05D4-432C-A23B-A6B8D732B027\" \n",
      " \"_272D015C-A83B-457C-8109-5E78E92CB6E4\" \n",
      " \"_D0BA8E68-F269-4382-B1D0-8EA25663C9AA\" \n",
      " \"_A55AC772-D3F2-48AF-8C84-E80F43198C72\" \n",
      " \"_02217298-AD5B-463C-A912-957740214701\" \n",
      " \"_8692A804-428A-4637-BD47-69C76F873DAB\" \n",
      " \"_02AE202B-D91B-4EAD-8EC9-3B87BDD67C8B\" \n",
      " \"_EA5FF2C4-F7E1-436D-BDEC-1C48D4DBB50D\" \n",
      " \"_092A5199-DB5E-419E-ADCF-53B290EFAB2C\" \n",
      " \"_8BE8D3EA-EEE9-406C-B24C-B169C8EC799A\" \n",
      " \"_F1D6C919-22FA-4E94-81B1-36823F5A9FF5\" \n",
      " \"_A4C58654-2972-4A3E-AE65-3868941DA037\" \n",
      " \"_F3A001BA-C6BE-450E-B572-B6D5819808EA\" \n",
      " \"_5EDB2918-D669-457C-9F44-E08EBA5AC850\" \n",
      " \"_DD4717B2-5FCD-4E67-9BC8-DD307B80AFEA\" \n",
      " \"_72362309-A950-40BC-A38C-E08E1AD53477\" \n",
      " \"_CD147977-45B7-48AD-9F72-4F488BD6AD6D\" \n",
      " \"_0A29AEF0-5F49-47AE-A413-9308AA61B72B\" \n",
      " \"_02A67D2E-58FF-4CAB-9A85-4346E9E08F1B\" \n",
      " \"_5B38070B-E918-4EAA-8BDB-8B3CE4F8A917\" \n",
      " \"_02CD5661-C654-43F6-8D1A-0D666070BB81\" \n",
      " \"_5A1120EE-0F2A-4698-9FF5-0F0F4F507BAF\" \n",
      " \"_F5258B9A-B51E-40DD-9A06-5918E41F3C35\" \n",
      " \"_000BA1F2-6879-47D7-826D-3CACD23EE20B\" \n",
      " \"_A563A3A5-EA39-4998-96B2-538227E2D2F6\" \n",
      " \"_3589A9BE-F3BE-45C3-B84E-3CE5B6105D11\" \n",
      " \"_EBAEF4A4-5D80-4FAD-A133-AA18607F3C31\" \n",
      " \"_A6C57C2E-A084-4701-ADF5-FB6F3E36F45C\" \n",
      " \"_FF3DE145-0066-4C1F-867C-2A2BF3012EDF\" \n",
      " \"_BB0411D7-5261-433D-B327-549DA536EEEC\" \n",
      " \"_1D81C7FE-E88F-41E3-A900-476CA6476CCD\" \n",
      " \"_D02B9E99-3557-48F5-B475-4871E47D08F6\" \n",
      " \"_579A122E-A262-4830-88C6-1ADDB81761B1\" \n",
      " \"_8F517DFE-D985-4D24-8339-96FA2A789E88\" \n",
      " \"_3313C5A7-ED81-47D3-8114-AD654A5DE21B\" \n",
      " \"_BC623628-BD23-4A1A-A406-15CA63556149\" \n",
      " \"_2847E06B-C8ED-41E6-B515-C61C9E8EB4B4\" \n",
      " \"_9AC596A8-D859-48F3-A286-D2533F9B9733\" \n",
      " \"_EC150DA0-864E-4C61-B681-3CF27AB27B82\" \n",
      " \"_F8856652-20FB-4760-874D-3D785E91A83E\" \n",
      " \"_717DFB1A-A300-444D-8D3B-0A093EAAD47B\" \n",
      " \"_F9439A87-D8E9-406F-ADD3-336B29B8BCEA\" \n",
      " \"_AF475341-BBE8-4C30-A30E-B6EBE9768322\" \n",
      " \"_D1CF8D27-7793-45FD-BA55-ADDB77AFED1E\" \n",
      " \"_3621713B-852E-4F95-8586-2D55313ED673\" \n",
      " \"_F0E10483-D8AD-46BE-AF5F-08228955796B\" \n",
      " \"_2F5C9D9B-8CC5-4636-8BC8-2AC78F01F5BC\" \n",
      " \"_233304A2-B68B-4EC3-A692-4735DE495569\" \n",
      " \"_FD3834FF-6C3B-434F-A41D-77EB8237F53D\" \n",
      " \"_EEF69C71-5A87-4378-8DF4-4578635C81B4\" \n",
      " \"_CCC4E540-46CC-422C-98DA-32898FD31637\" \n",
      " \"_8C674F14-D9FF-4B1C-B246-1235022CD4C2\" \n",
      " \"_83481773-E9FC-4720-89B4-796C5081D518\" \n",
      " \"_B554744A-F5B5-485C-B67E-2487A8740295\" \n",
      " \"_F421B562-1AF9-42C1-8906-D80CABA91FC4\" \n",
      " \"_169CB0D6-0002-457F-9594-7FEB09DA102D\" \n",
      " \"_B4E1784C-5500-47AE-958B-A286CE8C17A5\" \n",
      " \"_9CA4064A-AACD-49DB-9296-7ADC7E195358\" \n",
      "               }\n",
      "        bind(iri(concat(\"http://localhost:8889/bigdata/namespace/kb/sparql#\", ?identifier)) as ?eq)\n",
      "\n",
      "        ?eq r:type cim:Terminal.\n",
      "    \n",
      "        {?eq (cim:|!cim:) ?val.\n",
      "         ?eq ?attr ?val.}\n",
      "        UNION\n",
      "        {?val (cim:|!cim:) ?eq.\n",
      "         ?val ?attr ?eq.}\n",
      "\n",
      "        {bind(strafter(str(?attr),\"#\") as ?attribute)}\n",
      "        {bind(strafter(str(?val),\"http://localhost:8889/bigdata/namespace/kb/sparql#\") as ?uri)}\n",
      "        {bind(if(?uri = \"\", ?val, ?uri) as ?value)}\n",
      "\n",
      "        OPTIONAL {?val a ?classraw.\n",
      "                  bind(strafter(str(?classraw),\"http://iec.ch/TC57/CIM100#\") as ?edge_class)\n",
      "                  {bind(strafter(str(?val),\"http://localhost:8889/bigdata/namespace/kb/sparql#\") as ?uri)}\n",
      "\n",
      "                  bind(concat(\"{\\\"@id\\\":\\\"\", ?uri,\"\\\",\\\"@type\\\":\\\"\", ?edge_class, \"\\\"}\") as ?edge)}\n",
      "        }\n",
      "\n",
      "        ORDER by  ?identifier ?attribute\n",
      "        \n"
     ]
    }
   ],
   "source": [
    "print(query)"
   ]
  },
  {
   "cell_type": "code",
   "execution_count": 30,
   "metadata": {},
   "outputs": [],
   "source": [
    "query_output = network.connection.execute(query)"
   ]
  },
  {
   "cell_type": "code",
   "execution_count": null,
   "metadata": {},
   "outputs": [],
   "source": []
  },
  {
   "cell_type": "code",
   "execution_count": 31,
   "metadata": {},
   "outputs": [
    {
     "ename": "SyntaxError",
     "evalue": "incomplete input (3849490614.py, line 2)",
     "output_type": "error",
     "traceback": [
      "\u001b[0;36m  Cell \u001b[0;32mIn[31], line 2\u001b[0;36m\u001b[0m\n\u001b[0;31m    \u001b[0m\n\u001b[0m    ^\u001b[0m\n\u001b[0;31mSyntaxError\u001b[0m\u001b[0;31m:\u001b[0m incomplete input\n"
     ]
    }
   ],
   "source": [
    "for result in query_output['results']['bindings']:\n",
    "    "
   ]
  },
  {
   "cell_type": "code",
   "execution_count": 32,
   "metadata": {},
   "outputs": [
    {
     "ename": "NameError",
     "evalue": "name 'result' is not defined",
     "output_type": "error",
     "traceback": [
      "\u001b[0;31m---------------------------------------------------------------------------\u001b[0m",
      "\u001b[0;31mNameError\u001b[0m                                 Traceback (most recent call last)",
      "Cell \u001b[0;32mIn[32], line 1\u001b[0m\n\u001b[0;32m----> 1\u001b[0m \u001b[43mresult\u001b[49m\n",
      "\u001b[0;31mNameError\u001b[0m: name 'result' is not defined"
     ]
    }
   ],
   "source": [
    "result"
   ]
  },
  {
   "cell_type": "code",
   "execution_count": null,
   "metadata": {},
   "outputs": [],
   "source": [
    "\"message\": {\n",
    "    \"timestamp\": \"1248159984\",\n",
    "    \"measurements\": {\n",
    "        \"_00125ca3-12ca-4b8b-a148-c60e03aa7f9f\": {\n",
    "            \"measurement_mrid\": \"_00125ca3-12ca-4b8b-a148-c60e03aa7f9f\",\n",
    "            \"magnitude\": 78103.82848323896,\n",
    "            \"angle\": -99.22044324389712\n",
    "        },\n",
    "        \"_0032c3cd-5dec-4944-b1bc-b97b3ec646fc\": {\n",
    "            \"measurement_mrid\": \"_0032c3cd-5dec-4944-b1bc-b97b3ec646fc\",\n",
    "            \"magnitude\": 2284.5940488360206,\n",
    "            \"angle\": -2.8059748340329578\n",
    "        }\n",
    "    }\n",
    "}"
   ]
  },
  {
   "cell_type": "code",
   "execution_count": null,
   "metadata": {},
   "outputs": [],
   "source": []
  },
  {
   "cell_type": "code",
   "execution_count": null,
   "metadata": {},
   "outputs": [],
   "source": []
  },
  {
   "cell_type": "code",
   "execution_count": null,
   "metadata": {},
   "outputs": [],
   "source": []
  },
  {
   "cell_type": "code",
   "execution_count": null,
   "metadata": {},
   "outputs": [],
   "source": [
    "line = network.graph[cim.ACLineSegment]['uuid']\n",
    "\n",
    "from_bus = line.Terminals[0].ConnectivityNode\n",
    "to_bus = line.Terminals[1].ConnectivityNode\n",
    "\n"
   ]
  },
  {
   "cell_type": "code",
   "execution_count": null,
   "metadata": {},
   "outputs": [],
   "source": []
  },
  {
   "cell_type": "code",
   "execution_count": null,
   "metadata": {},
   "outputs": [],
   "source": [
    "# \"What is the total amount of solar in the feeder ABC?\"\n",
    "\n",
    "feeder_mrid = \"ABC\"\n",
    "feeder = cim.Feeder(mRID = feeder_mrid)\n",
    "network = FeederModel(connection=connection, container=feeder, distributed=False)\n",
    "\n",
    "utils.get_all_data(network)\n",
    "\n",
    "total_pv = 0\n",
    "\n",
    "for inverter in network.graph[cim.PowerElectronicsConnection].values():\n",
    "    \n",
    "    total_pv += inverter.PowerElectronicsUnit.maxP"
   ]
  }
 ],
 "metadata": {
  "kernelspec": {
   "display_name": ".venv",
   "language": "python",
   "name": "python3"
  },
  "language_info": {
   "codemirror_mode": {
    "name": "ipython",
    "version": 3
   },
   "file_extension": ".py",
   "mimetype": "text/x-python",
   "name": "python",
   "nbconvert_exporter": "python",
   "pygments_lexer": "ipython3",
   "version": "3.10.12"
  }
 },
 "nbformat": 4,
 "nbformat_minor": 2
}
