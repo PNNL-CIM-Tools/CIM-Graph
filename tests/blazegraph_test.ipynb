{
 "cells": [
  {
   "cell_type": "code",
   "execution_count": 1,
   "metadata": {},
   "outputs": [],
   "source": [
    "import json\n",
    "cim_profile = 'cimhub_2023'\n",
    "import cimgraph.data_profile.cimhub_2023 as cim\n",
    "from uuid import UUID"
   ]
  },
  {
   "cell_type": "code",
   "execution_count": 2,
   "metadata": {},
   "outputs": [],
   "source": [
    "from cimgraph.databases import ConnectionParameters\n",
    "from cimgraph.databases import BlazegraphConnection\n",
    "from cimgraph.models import FeederModel\n",
    "from cimgraph.models import DistributedArea\n",
    "import cimgraph.queries.sparql as sparql\n",
    "import cimgraph.utils as utils"
   ]
  },
  {
   "cell_type": "code",
   "execution_count": 3,
   "metadata": {},
   "outputs": [],
   "source": [
    "params = ConnectionParameters(url = \"http://localhost:8889/bigdata/namespace/kb/sparql\", cim_profile=cim_profile, iec61970_301=8)\n",
    "database = BlazegraphConnection(params)"
   ]
  },
  {
   "cell_type": "code",
   "execution_count": 4,
   "metadata": {},
   "outputs": [],
   "source": [
    "feeder_mrid = \"49AD8E07-3BF9-A4E2-CB8F-C3722F837B62\"\n",
    "feeder = database.get_object(mrid=feeder_mrid)"
   ]
  },
  {
   "cell_type": "code",
   "execution_count": 5,
   "metadata": {},
   "outputs": [],
   "source": [
    "network = FeederModel(connection=database, container=feeder, distributed=False)"
   ]
  },
  {
   "cell_type": "code",
   "execution_count": 6,
   "metadata": {},
   "outputs": [],
   "source": [
    "utils.get_all_data(network)"
   ]
  },
  {
   "cell_type": "code",
   "execution_count": 7,
   "metadata": {},
   "outputs": [
    {
     "name": "stdout",
     "output_type": "stream",
     "text": [
      "{\n",
      "    \"70fd7f8f-ef10-425e-aa73-955f13e4486c\": {\n",
      "        \"identifier\": \"70fd7f8f-ef10-425e-aa73-955f13e4486c\",\n",
      "        \"mRID\": \"70FD7F8F-EF10-425E-AA73-955F13E4486C\",\n",
      "        \"name\": \"ct5\",\n",
      "        \"TransformerEndInfos\": \"['92ADAD7A-8BD7-4523-914A-E73534E9AD4C', 'D60116A9-72D6-4598-BDC7-0431A127C548', '2958B019-21BE-49DC-BCD7-D130B99D2D7A']\",\n",
      "        \"TransformerTanks\": \"['17A934C7-1510-481F-BAD7-189058957FF1']\"\n",
      "    },\n",
      "    \"d58d1234-3316-4aa4-ac56-7ec1e808215b\": {\n",
      "        \"identifier\": \"d58d1234-3316-4aa4-ac56-7ec1e808215b\",\n",
      "        \"mRID\": \"D58D1234-3316-4AA4-AC56-7EC1E808215B\",\n",
      "        \"name\": \"cimxfmrcode_reg2\",\n",
      "        \"TransformerEndInfos\": \"['A5CB8331-A94D-48D8-BED5-DEF0F0B7E812', '69E263F9-E7D8-43F4-8F1A-93E46EDAB9F2']\",\n",
      "        \"TransformerTanks\": \"['44FC5A86-A099-45B8-B847-F685C5027AFB']\"\n",
      "    },\n",
      "    \"7c934331-21f0-483c-92e7-09aa35da3d46\": {\n",
      "        \"identifier\": \"7c934331-21f0-483c-92e7-09aa35da3d46\",\n",
      "        \"mRID\": \"7C934331-21F0-483C-92E7-09AA35DA3D46\",\n",
      "        \"name\": \"cimxfmrcode_reg1\",\n",
      "        \"TransformerEndInfos\": \"['E5816653-354B-4A9B-B3C6-52AF94318954', '6CD0E0AD-7F30-48DF-ADA1-1DDD9E9424EA']\",\n",
      "        \"TransformerTanks\": \"['B6363F07-B1BC-420B-AA4C-A34BB8F05827']\"\n",
      "    },\n",
      "    \"d403d1f0-46e9-4446-a604-0eabfb6d4209\": {\n",
      "        \"identifier\": \"d403d1f0-46e9-4446-a604-0eabfb6d4209\",\n",
      "        \"mRID\": \"D403D1F0-46E9-4446-A604-0EABFB6D4209\",\n",
      "        \"name\": \"cimxfmrcode_reg3\",\n",
      "        \"TransformerEndInfos\": \"['27E2528D-9996-4297-BCDA-902BF8A98878', '3356BA5B-42F3-4A23-BEE1-7DCF76F0DD01']\",\n",
      "        \"TransformerTanks\": \"['E2E0FC64-8D45-4C55-BDB9-EAB827A46FBC']\"\n",
      "    }\n",
      "}\n"
     ]
    }
   ],
   "source": [
    "network.pprint(cim.TransformerTankInfo)"
   ]
  },
  {
   "cell_type": "code",
   "execution_count": 8,
   "metadata": {},
   "outputs": [],
   "source": [
    "from cimgraph.queries import sparql as sparql"
   ]
  },
  {
   "cell_type": "code",
   "execution_count": 9,
   "metadata": {},
   "outputs": [
    {
     "name": "stdout",
     "output_type": "stream",
     "text": [
      "PREFIX rdf: <http://www.w3.org/1999/02/22-rdf-syntax-ns#>\n",
      "PREFIX cim: <http://iec.ch/TC57/CIM100#>\n",
      "PREFIX xsd: <http://www.w3.org/2001/XMLSchema#>\n",
      "INSERT DATA { \n",
      "\t<urn:uuid:49AD8E07-3BF9-A4E2-CB8F-C3722F837B62> a cim:Feeder.\n",
      "\n",
      "\t<urn:uuid:49AD8E07-3BF9-A4E2-CB8F-C3722F837B62> cim:Feeder.NormalEnergizingSubstation <urn:uuid:6c62c905-6fc7-653d-9f1e-1340f974a587>.\n",
      "\n",
      "\t<urn:uuid:49AD8E07-3BF9-A4E2-CB8F-C3722F837B62> cim:PowerSystemResource.Location <urn:uuid:8e4e3c92-0b7a-4f74-8fd2-cc10f74e452f>.\n",
      "\n",
      "\t<urn:uuid:49AD8E07-3BF9-A4E2-CB8F-C3722F837B62> cim:IdentifiedObject.mRID \"49AD8E07-3BF9-A4E2-CB8F-C3722F837B62\".\n",
      "\n",
      "\t<urn:uuid:49AD8E07-3BF9-A4E2-CB8F-C3722F837B62> cim:IdentifiedObject.name \"ieee13nodeckt\".\n",
      "}\n"
     ]
    }
   ],
   "source": [
    "print(sparql.upload_triples_sparql(feeder, params))"
   ]
  },
  {
   "cell_type": "code",
   "execution_count": 10,
   "metadata": {},
   "outputs": [
    {
     "data": {
      "text/plain": [
       "22"
      ]
     },
     "execution_count": 10,
     "metadata": {},
     "output_type": "execute_result"
    }
   ],
   "source": [
    "len(network.graph[cim.ConnectivityNode])"
   ]
  },
  {
   "cell_type": "code",
   "execution_count": 11,
   "metadata": {},
   "outputs": [
    {
     "data": {
      "text/plain": [
       "False"
      ]
     },
     "execution_count": 11,
     "metadata": {},
     "output_type": "execute_result"
    }
   ],
   "source": [
    "type(feeder) is object"
   ]
  },
  {
   "cell_type": "code",
   "execution_count": 12,
   "metadata": {},
   "outputs": [],
   "source": [
    "utils.write_xml(network, './test_output/ieee13_seto.xml')"
   ]
  },
  {
   "cell_type": "markdown",
   "metadata": {},
   "source": []
  },
  {
   "cell_type": "code",
   "execution_count": null,
   "metadata": {},
   "outputs": [],
   "source": []
  },
  {
   "cell_type": "code",
   "execution_count": 13,
   "metadata": {},
   "outputs": [],
   "source": [
    "utils.write_xml(network,'9500_with_meas.xml')"
   ]
  },
  {
   "cell_type": "code",
   "execution_count": 14,
   "metadata": {},
   "outputs": [
    {
     "data": {
      "text/plain": [
       "{UUID('0bbd0ea3-f665-465b-86fd-fc8b8466ad53'): {\"@id\": \"0bbd0ea3-f665-465b-86fd-fc8b8466ad53\", \"@type\": \"ACLineSegment\"},\n",
       " UUID('1c6781a2-5b9d-4525-8a9b-f9b32c4c4ac0'): {\"@id\": \"1c6781a2-5b9d-4525-8a9b-f9b32c4c4ac0\", \"@type\": \"ACLineSegment\"},\n",
       " UUID('abf877d7-dac2-4bf0-ab58-9a8a02e92eb3'): {\"@id\": \"abf877d7-dac2-4bf0-ab58-9a8a02e92eb3\", \"@type\": \"ACLineSegment\"},\n",
       " UUID('8e180773-2a9b-4136-bc9a-132a52c8e276'): {\"@id\": \"8e180773-2a9b-4136-bc9a-132a52c8e276\", \"@type\": \"ACLineSegment\"},\n",
       " UUID('d34b0d01-b082-4081-a3cc-b68b9b8313a4'): {\"@id\": \"d34b0d01-b082-4081-a3cc-b68b9b8313a4\", \"@type\": \"ACLineSegment\"},\n",
       " UUID('45395c84-f20a-4f5a-977f-b80348256421'): {\"@id\": \"45395c84-f20a-4f5a-977f-b80348256421\", \"@type\": \"ACLineSegment\"},\n",
       " UUID('4c04f838-62aa-475e-aefa-a63b7c889c13'): {\"@id\": \"4c04f838-62aa-475e-aefa-a63b7c889c13\", \"@type\": \"ACLineSegment\"},\n",
       " UUID('abf53597-a808-422a-b7ee-552f24d83a5f'): {\"@id\": \"abf53597-a808-422a-b7ee-552f24d83a5f\", \"@type\": \"ACLineSegment\"},\n",
       " UUID('7060d0bb-b30d-4932-8fa1-40820a0fc4d0'): {\"@id\": \"7060d0bb-b30d-4932-8fa1-40820a0fc4d0\", \"@type\": \"ACLineSegment\"},\n",
       " UUID('a04cdfb1-e951-4fc4-8882-0323cd70ae3c'): {\"@id\": \"a04cdfb1-e951-4fc4-8882-0323cd70ae3c\", \"@type\": \"ACLineSegment\"},\n",
       " UUID('fbe26b35-13ab-457d-9795-df58b28e309d'): {\"@id\": \"fbe26b35-13ab-457d-9795-df58b28e309d\", \"@type\": \"ACLineSegment\"}}"
      ]
     },
     "execution_count": 14,
     "metadata": {},
     "output_type": "execute_result"
    }
   ],
   "source": [
    "network.graph[cim.ACLineSegment]"
   ]
  },
  {
   "cell_type": "code",
   "execution_count": 15,
   "metadata": {},
   "outputs": [
    {
     "data": {
      "text/plain": [
       "1"
      ]
     },
     "execution_count": 15,
     "metadata": {},
     "output_type": "execute_result"
    }
   ],
   "source": [
    "int(float('1.0'))"
   ]
  },
  {
   "cell_type": "code",
   "execution_count": 16,
   "metadata": {},
   "outputs": [],
   "source": [
    "def get_all_bus_data(network) -> None:\n",
    "    cim = network.connection.cim\n",
    "    network.get_all_edges(cim.ConnectivityNode)\n",
    "    network.get_all_edges(cim.Terminal)"
   ]
  },
  {
   "cell_type": "code",
   "execution_count": null,
   "metadata": {},
   "outputs": [],
   "source": []
  },
  {
   "cell_type": "code",
   "execution_count": 17,
   "metadata": {},
   "outputs": [],
   "source": [
    "network.get_all_edges(cim.ACLineSegment)\n",
    "# network.get_all_edges(cim.ACLineSegmentPhase)\n",
    "# network.get_all_edges(cim.PerLengthPhaseImpedance)\n",
    "# network.get_all_edges(cim.PhaseImpedanceData)\n",
    "# network.get_all_edges(cim.WireSpacingInfo)\n",
    "# network.get_all_edges(cim.WirePosition)\n",
    "# network.get_all_edges(cim.OverheadWireInfo)\n",
    "# network.get_all_edges(cim.ConcentricNeutralCableInfo)\n",
    "# network.get_all_edges(cim.TapeShieldCableInfo)"
   ]
  },
  {
   "cell_type": "code",
   "execution_count": 18,
   "metadata": {},
   "outputs": [
    {
     "name": "stdout",
     "output_type": "stream",
     "text": [
      "{\n",
      "    \"@id\": \"94fcafff-e5f7-4f97-b697-35c46656edca\",\n",
      "    \"@type\": \"ACLineSegmentPhase\",\n",
      "    \"identifier\": \"94fcafff-e5f7-4f97-b697-35c46656edca\",\n",
      "    \"mRID\": \"94FCAFFF-E5F7-4F97-B697-35C46656EDCA\",\n",
      "    \"name\": \"645646_C\",\n",
      "    \"Location\": {\n",
      "        \"@id\": \"89c21411-d107-454a-93b0-0905893dd27d\",\n",
      "        \"@type\": \"Location\"\n",
      "    },\n",
      "    \"sequenceNumber\": \"1\",\n",
      "    \"phase\": \"SinglePhaseKind.C\",\n",
      "    \"ACLineSegment\": {\n",
      "        \"@id\": \"0bbd0ea3-f665-465b-86fd-fc8b8466ad53\",\n",
      "        \"@type\": \"ACLineSegment\"\n",
      "    }\n",
      "}\n"
     ]
    }
   ],
   "source": [
    "network.graph[cim.ACLineSegmentPhase][UUID('94fcafff-e5f7-4f97-b697-35c46656edca')].pprint()"
   ]
  },
  {
   "cell_type": "code",
   "execution_count": 19,
   "metadata": {},
   "outputs": [],
   "source": [
    "cim_class = cim.ACLineSegment\n",
    "attribute = 'identifier'"
   ]
  },
  {
   "cell_type": "code",
   "execution_count": 20,
   "metadata": {},
   "outputs": [
    {
     "data": {
      "text/plain": [
       "'UUID'"
      ]
     },
     "execution_count": 20,
     "metadata": {},
     "output_type": "execute_result"
    }
   ],
   "source": [
    "attribute_type = cim_class.__dataclass_fields__[attribute].type\n",
    "attribute_type.split('[')[1].split(']')[0]"
   ]
  },
  {
   "cell_type": "code",
   "execution_count": 21,
   "metadata": {},
   "outputs": [
    {
     "data": {
      "text/plain": [
       "['ConnectivityNode.OperationalLimitSet',\n",
       " 'ACDCTerminal.OperationalLimitSet',\n",
       " 'ShortCircuitTest.GroundedEnds',\n",
       " 'TransformerMeshImpedance.ToTransformerEnd']"
      ]
     },
     "execution_count": 21,
     "metadata": {},
     "output_type": "execute_result"
    }
   ],
   "source": [
    "from cimgraph.data_profile.known_problem_classes import ClassesWithManytoMany\n",
    "many_to_many = ClassesWithManytoMany().attributes\n",
    "many_to_many"
   ]
  },
  {
   "cell_type": "code",
   "execution_count": 22,
   "metadata": {},
   "outputs": [
    {
     "data": {
      "text/plain": [
       "False"
      ]
     },
     "execution_count": 22,
     "metadata": {},
     "output_type": "execute_result"
    }
   ],
   "source": [
    "UUID in cim.__all__"
   ]
  },
  {
   "cell_type": "code",
   "execution_count": null,
   "metadata": {},
   "outputs": [],
   "source": []
  },
  {
   "cell_type": "code",
   "execution_count": 23,
   "metadata": {},
   "outputs": [],
   "source": [
    "# network.get_all_edges(cim.ConnectivityNode)\n",
    "network.get_all_edges(cim.Terminal)"
   ]
  },
  {
   "cell_type": "code",
   "execution_count": 24,
   "metadata": {},
   "outputs": [],
   "source": [
    "get_all_bus_data(network)"
   ]
  },
  {
   "cell_type": "code",
   "execution_count": 25,
   "metadata": {},
   "outputs": [
    {
     "name": "stdout",
     "output_type": "stream",
     "text": [
      "{\n",
      "    \"@id\": \"0124e881-b82d-4206-bbdf-37d585159872\",\n",
      "    \"@type\": \"ConnectivityNode\",\n",
      "    \"identifier\": \"0124e881-b82d-4206-bbdf-37d585159872\",\n",
      "    \"mRID\": \"0124E881-B82D-4206-BBDF-37D585159872\",\n",
      "    \"name\": \"645\",\n",
      "    \"ConnectivityNodeContainer\": {\n",
      "        \"@id\": \"49ad8e07-3bf9-a4e2-cb8f-c3722f837b62\",\n",
      "        \"@type\": \"Feeder\"\n",
      "    },\n",
      "    \"OperationalLimitSet\": [\n",
      "        {\n",
      "            \"@id\": \"8ba33fad-f0eb-453f-93dd-8780d865b125\",\n",
      "            \"@type\": \"OperationalLimitSet\"\n",
      "        }\n",
      "    ],\n",
      "    \"Terminals\": [\n",
      "        {\n",
      "            \"@id\": \"f3c0f2d0-4d28-49b5-a920-37409b99229d\",\n",
      "            \"@type\": \"Terminal\"\n",
      "        },\n",
      "        {\n",
      "            \"@id\": \"4891537f-4088-48f5-9b1a-8294d50901e4\",\n",
      "            \"@type\": \"Terminal\"\n",
      "        },\n",
      "        {\n",
      "            \"@id\": \"15298d41-d5e5-464f-a96d-01ffcf0da7db\",\n",
      "            \"@type\": \"Terminal\"\n",
      "        }\n",
      "    ],\n",
      "    \"TopologicalNode\": {\n",
      "        \"@id\": \"b6d5060c-1cb7-4394-a1c6-af4459e1e27c\",\n",
      "        \"@type\": \"TopologicalNode\"\n",
      "    }\n",
      "}\n"
     ]
    }
   ],
   "source": [
    "network.graph[cim.ConnectivityNode][UUID('0124e881-b82d-4206-bbdf-37d585159872')].pprint()"
   ]
  },
  {
   "cell_type": "code",
   "execution_count": 26,
   "metadata": {},
   "outputs": [
    {
     "data": {
      "text/plain": [
       "dict_keys([<class 'cimgraph.data_profile.cimhub_2023.cimhub_2023.Feeder'>, <class 'cimgraph.data_profile.cimhub_2023.cimhub_2023.ConnectivityNode'>, <class 'cimgraph.data_profile.cimhub_2023.cimhub_2023.Terminal'>, <class 'cimgraph.data_profile.cimhub_2023.cimhub_2023.ACLineSegment'>, <class 'cimgraph.data_profile.cimhub_2023.cimhub_2023.EnergyConsumer'>, <class 'cimgraph.data_profile.cimhub_2023.cimhub_2023.PowerTransformer'>, <class 'cimgraph.data_profile.cimhub_2023.cimhub_2023.PowerElectronicsConnection'>, <class 'cimgraph.data_profile.cimhub_2023.cimhub_2023.LoadBreakSwitch'>, <class 'cimgraph.data_profile.cimhub_2023.cimhub_2023.Recloser'>, <class 'cimgraph.data_profile.cimhub_2023.cimhub_2023.LinearShuntCompensator'>, <class 'cimgraph.data_profile.cimhub_2023.cimhub_2023.Breaker'>, <class 'cimgraph.data_profile.cimhub_2023.cimhub_2023.EnergySource'>, <class 'cimgraph.data_profile.cimhub_2023.cimhub_2023.Fuse'>, <class 'cimgraph.data_profile.cimhub_2023.cimhub_2023.OperationalLimitSet'>, <class 'cimgraph.data_profile.cimhub_2023.cimhub_2023.TopologicalNode'>, <class 'cimgraph.data_profile.cimhub_2023.cimhub_2023.Analog'>, <class 'cimgraph.data_profile.cimhub_2023.cimhub_2023.Discrete'>, <class 'cimgraph.data_profile.cimhub_2023.cimhub_2023.TapChangerControl'>, <class 'cimgraph.data_profile.cimhub_2023.cimhub_2023.TransformerTankEnd'>, <class 'cimgraph.data_profile.cimhub_2023.cimhub_2023.PowerTransformerEnd'>, <class 'cimgraph.data_profile.cimhub_2023.cimhub_2023.TopologicalIsland'>, <class 'cimgraph.data_profile.cimhub_2023.cimhub_2023.PerLengthPhaseImpedance'>, <class 'cimgraph.data_profile.cimhub_2023.cimhub_2023.ACLineSegmentPhase'>, <class 'cimgraph.data_profile.cimhub_2023.cimhub_2023.BaseVoltage'>, <class 'cimgraph.data_profile.cimhub_2023.cimhub_2023.Location'>, <class 'cimgraph.data_profile.cimhub_2023.cimhub_2023.PhaseImpedanceData'>, <class 'cimgraph.data_profile.cimhub_2023.cimhub_2023.TransformerTank'>, <class 'cimgraph.data_profile.cimhub_2023.cimhub_2023.TransformerTankInfo'>, <class 'cimgraph.data_profile.cimhub_2023.cimhub_2023.RatioTapChanger'>, <class 'cimgraph.data_profile.cimhub_2023.cimhub_2023.TransformerEndInfo'>, <class 'cimgraph.data_profile.cimhub_2023.cimhub_2023.ShortCircuitTest'>, <class 'cimgraph.data_profile.cimhub_2023.cimhub_2023.NoLoadTest'>, <class 'cimgraph.data_profile.cimhub_2023.cimhub_2023.TransformerMeshImpedance'>, <class 'cimgraph.data_profile.cimhub_2023.cimhub_2023.TransformerCoreAdmittance'>, <class 'cimgraph.data_profile.cimhub_2023.cimhub_2023.LoadResponseCharacteristic'>, <class 'cimgraph.data_profile.cimhub_2023.cimhub_2023.EnergyConsumerPhase'>, <class 'cimgraph.data_profile.cimhub_2023.cimhub_2023.BatteryUnit'>, <class 'cimgraph.data_profile.cimhub_2023.cimhub_2023.PowerElectronicsConnectionPhase'>, <class 'cimgraph.data_profile.cimhub_2023.cimhub_2023.PhotovoltaicUnit'>, <class 'cimgraph.data_profile.cimhub_2023.cimhub_2023.CurrentLimit'>, <class 'cimgraph.data_profile.cimhub_2023.cimhub_2023.VoltageLimit'>, <class 'cimgraph.data_profile.cimhub_2023.cimhub_2023.OperationalLimitType'>, <class 'cimgraph.data_profile.cimhub_2023.cimhub_2023.CoordinateSystem'>, <class 'cimgraph.data_profile.cimhub_2023.cimhub_2023.PositionPoint'>, <class 'cimgraph.data_profile.cimhub_2023.cimhub_2023.Substation'>, <class 'cimgraph.data_profile.cimhub_2023.cimhub_2023.SwitchPhase'>, <class 'cimgraph.data_profile.cimhub_2023.cimhub_2023.LinearShuntCompensatorPhase'>])"
      ]
     },
     "execution_count": 26,
     "metadata": {},
     "output_type": "execute_result"
    }
   ],
   "source": [
    "network.graph.keys()"
   ]
  },
  {
   "cell_type": "code",
   "execution_count": 27,
   "metadata": {},
   "outputs": [
    {
     "data": {
      "text/plain": [
       "{UUID('0bbd0ea3-f665-465b-86fd-fc8b8466ad53'): {\"@id\": \"0bbd0ea3-f665-465b-86fd-fc8b8466ad53\", \"@type\": \"ACLineSegment\"},\n",
       " UUID('1c6781a2-5b9d-4525-8a9b-f9b32c4c4ac0'): {\"@id\": \"1c6781a2-5b9d-4525-8a9b-f9b32c4c4ac0\", \"@type\": \"ACLineSegment\"},\n",
       " UUID('abf877d7-dac2-4bf0-ab58-9a8a02e92eb3'): {\"@id\": \"abf877d7-dac2-4bf0-ab58-9a8a02e92eb3\", \"@type\": \"ACLineSegment\"},\n",
       " UUID('8e180773-2a9b-4136-bc9a-132a52c8e276'): {\"@id\": \"8e180773-2a9b-4136-bc9a-132a52c8e276\", \"@type\": \"ACLineSegment\"},\n",
       " UUID('d34b0d01-b082-4081-a3cc-b68b9b8313a4'): {\"@id\": \"d34b0d01-b082-4081-a3cc-b68b9b8313a4\", \"@type\": \"ACLineSegment\"},\n",
       " UUID('45395c84-f20a-4f5a-977f-b80348256421'): {\"@id\": \"45395c84-f20a-4f5a-977f-b80348256421\", \"@type\": \"ACLineSegment\"},\n",
       " UUID('4c04f838-62aa-475e-aefa-a63b7c889c13'): {\"@id\": \"4c04f838-62aa-475e-aefa-a63b7c889c13\", \"@type\": \"ACLineSegment\"},\n",
       " UUID('abf53597-a808-422a-b7ee-552f24d83a5f'): {\"@id\": \"abf53597-a808-422a-b7ee-552f24d83a5f\", \"@type\": \"ACLineSegment\"},\n",
       " UUID('7060d0bb-b30d-4932-8fa1-40820a0fc4d0'): {\"@id\": \"7060d0bb-b30d-4932-8fa1-40820a0fc4d0\", \"@type\": \"ACLineSegment\"},\n",
       " UUID('a04cdfb1-e951-4fc4-8882-0323cd70ae3c'): {\"@id\": \"a04cdfb1-e951-4fc4-8882-0323cd70ae3c\", \"@type\": \"ACLineSegment\"},\n",
       " UUID('fbe26b35-13ab-457d-9795-df58b28e309d'): {\"@id\": \"fbe26b35-13ab-457d-9795-df58b28e309d\", \"@type\": \"ACLineSegment\"}}"
      ]
     },
     "execution_count": 27,
     "metadata": {},
     "output_type": "execute_result"
    }
   ],
   "source": [
    "network.graph[cim.ACLineSegment]"
   ]
  },
  {
   "cell_type": "code",
   "execution_count": 28,
   "metadata": {},
   "outputs": [
    {
     "data": {
      "text/plain": [
       "{'head': {'vars': ['ConnectivityNode', 'Terminal', 'Equipment']},\n",
       " 'results': {'bindings': [{'ConnectivityNode': {'type': 'literal',\n",
       "     'value': '0124e881-b82d-4206-bbdf-37d585159872'},\n",
       "    'Terminal': {'type': 'literal',\n",
       "     'value': 'f3c0f2d0-4d28-49b5-a920-37409b99229d'},\n",
       "    'Equipment': {'type': 'literal',\n",
       "     'value': '{\"@id\":\"0bbd0ea3-f665-465b-86fd-fc8b8466ad53\",\"@type\":\"ACLineSegment\"}'}},\n",
       "   {'ConnectivityNode': {'type': 'literal',\n",
       "     'value': '0124e881-b82d-4206-bbdf-37d585159872'},\n",
       "    'Terminal': {'type': 'literal',\n",
       "     'value': '4891537f-4088-48f5-9b1a-8294d50901e4'},\n",
       "    'Equipment': {'type': 'literal',\n",
       "     'value': '{\"@id\":\"1c6781a2-5b9d-4525-8a9b-f9b32c4c4ac0\",\"@type\":\"ACLineSegment\"}'}},\n",
       "   {'ConnectivityNode': {'type': 'literal',\n",
       "     'value': '0124e881-b82d-4206-bbdf-37d585159872'},\n",
       "    'Terminal': {'type': 'literal',\n",
       "     'value': '15298d41-d5e5-464f-a96d-01ffcf0da7db'},\n",
       "    'Equipment': {'type': 'literal',\n",
       "     'value': '{\"@id\":\"47e52220-4596-4af0-9724-0167b72a4db8\",\"@type\":\"EnergyConsumer\"}'}},\n",
       "   {'ConnectivityNode': {'type': 'literal',\n",
       "     'value': '04984c4d-cc29-477a-9af4-61ac7d74f16f'},\n",
       "    'Terminal': {'type': 'literal',\n",
       "     'value': 'f6ce3095-9089-4b61-9c13-c7647adba888'},\n",
       "    'Equipment': {'type': 'literal',\n",
       "     'value': '{\"@id\":\"259e820f-b4af-4e1a-8271-687534edaecc\",\"@type\":\"PowerTransformer\"}'}},\n",
       "   {'ConnectivityNode': {'type': 'literal',\n",
       "     'value': '0a98a62d-7642-4f03-8317-a8605cbdba37'},\n",
       "    'Terminal': {'type': 'literal',\n",
       "     'value': '337f7a56-c530-4f05-8586-940e8460993a'},\n",
       "    'Equipment': {'type': 'literal',\n",
       "     'value': '{\"@id\":\"cec0fc3a-0fd1-4f1c-9c51-7d9bef4d8222\",\"@type\":\"PowerElectronicsConnection\"}'}},\n",
       "   {'ConnectivityNode': {'type': 'literal',\n",
       "     'value': '0a98a62d-7642-4f03-8317-a8605cbdba37'},\n",
       "    'Terminal': {'type': 'literal',\n",
       "     'value': '2128bb42-3e2d-490a-a29d-05549e81f25d'},\n",
       "    'Equipment': {'type': 'literal',\n",
       "     'value': '{\"@id\":\"32f02d2b-ee6e-4d3f-8486-1b5caef70204\",\"@type\":\"EnergyConsumer\"}'}},\n",
       "   {'ConnectivityNode': {'type': 'literal',\n",
       "     'value': '0a98a62d-7642-4f03-8317-a8605cbdba37'},\n",
       "    'Terminal': {'type': 'literal',\n",
       "     'value': 'a4b4c25c-8744-4b8b-a612-19b80afa110d'},\n",
       "    'Equipment': {'type': 'literal',\n",
       "     'value': '{\"@id\":\"682ab7a9-4fbf-4204-bde1-27eab3425da0\",\"@type\":\"PowerElectronicsConnection\"}'}},\n",
       "   {'ConnectivityNode': {'type': 'literal',\n",
       "     'value': '0a98a62d-7642-4f03-8317-a8605cbdba37'},\n",
       "    'Terminal': {'type': 'literal',\n",
       "     'value': '8e29ba3d-9523-446f-bd9f-989d8182a723'},\n",
       "    'Equipment': {'type': 'literal',\n",
       "     'value': '{\"@id\":\"7ff12cef-1c4d-4cd2-8fcc-662530a7ba33\",\"@type\":\"PowerTransformer\"}'}},\n",
       "   {'ConnectivityNode': {'type': 'literal',\n",
       "     'value': '0a98a62d-7642-4f03-8317-a8605cbdba37'},\n",
       "    'Terminal': {'type': 'literal',\n",
       "     'value': '9d06670e-f8ad-46a1-9854-bba7adaf1cf0'},\n",
       "    'Equipment': {'type': 'literal',\n",
       "     'value': '{\"@id\":\"7ff12cef-1c4d-4cd2-8fcc-662530a7ba33\",\"@type\":\"PowerTransformer\"}'}},\n",
       "   {'ConnectivityNode': {'type': 'literal',\n",
       "     'value': '0dcc57af-f4fa-457d-bb24-2efda9865a1a'},\n",
       "    'Terminal': {'type': 'literal',\n",
       "     'value': 'a13ee73d-da09-44d8-9008-7d842f18cb48'},\n",
       "    'Equipment': {'type': 'literal',\n",
       "     'value': '{\"@id\":\"a9e8758b-5486-4798-8fba-9ae639abfc38\",\"@type\":\"PowerElectronicsConnection\"}'}},\n",
       "   {'ConnectivityNode': {'type': 'literal',\n",
       "     'value': '0dcc57af-f4fa-457d-bb24-2efda9865a1a'},\n",
       "    'Terminal': {'type': 'literal',\n",
       "     'value': '272d015c-a83b-457c-8109-5e78e92cb6e4'},\n",
       "    'Equipment': {'type': 'literal',\n",
       "     'value': '{\"@id\":\"b21c5599-1d00-4fcf-904b-58d9d4cac49a\",\"@type\":\"EnergyConsumer\"}'}},\n",
       "   {'ConnectivityNode': {'type': 'literal',\n",
       "     'value': '0dcc57af-f4fa-457d-bb24-2efda9865a1a'},\n",
       "    'Terminal': {'type': 'literal',\n",
       "     'value': 'd0ba8e68-f269-4382-b1d0-8ea25663c9aa'},\n",
       "    'Equipment': {'type': 'literal',\n",
       "     'value': '{\"@id\":\"c39149de-3451-4d33-b4c2-b1e6c6fc9aab\",\"@type\":\"EnergyConsumer\"}'}},\n",
       "   {'ConnectivityNode': {'type': 'literal',\n",
       "     'value': '0dcc57af-f4fa-457d-bb24-2efda9865a1a'},\n",
       "    'Terminal': {'type': 'literal',\n",
       "     'value': 'a55ac772-d3f2-48af-8c84-e80f43198c72'},\n",
       "    'Equipment': {'type': 'literal',\n",
       "     'value': '{\"@id\":\"d2e930a7-b136-4aca-a996-8db5c60aadf3\",\"@type\":\"PowerElectronicsConnection\"}'}},\n",
       "   {'ConnectivityNode': {'type': 'literal',\n",
       "     'value': '0dcc57af-f4fa-457d-bb24-2efda9865a1a'},\n",
       "    'Terminal': {'type': 'literal',\n",
       "     'value': 'e1763fe3-82c2-4434-9424-72df850d982e'},\n",
       "    'Equipment': {'type': 'literal',\n",
       "     'value': '{\"@id\":\"1e6b5c97-c4e8-4ced-b9a5-6e69f389da93\",\"@type\":\"PowerTransformer\"}'}},\n",
       "   {'ConnectivityNode': {'type': 'literal',\n",
       "     'value': '0dcc57af-f4fa-457d-bb24-2efda9865a1a'},\n",
       "    'Terminal': {'type': 'literal',\n",
       "     'value': 'c61a2238-fe09-4406-b172-26cb9f145db1'},\n",
       "    'Equipment': {'type': 'literal',\n",
       "     'value': '{\"@id\":\"3b2021a7-4bfc-418d-9c20-bd6838e52cf8\",\"@type\":\"EnergyConsumer\"}'}},\n",
       "   {'ConnectivityNode': {'type': 'literal',\n",
       "     'value': '0dcc57af-f4fa-457d-bb24-2efda9865a1a'},\n",
       "    'Terminal': {'type': 'literal',\n",
       "     'value': '90d2243e-05d4-432c-a23b-a6b8d732b027'},\n",
       "    'Equipment': {'type': 'literal',\n",
       "     'value': '{\"@id\":\"7b671984-4c56-4ff1-9733-b4b6fca5f2aa\",\"@type\":\"PowerElectronicsConnection\"}'}},\n",
       "   {'ConnectivityNode': {'type': 'literal',\n",
       "     'value': '0f1e28c3-6c44-4f88-b79c-2fdbca4487b2'},\n",
       "    'Terminal': {'type': 'literal',\n",
       "     'value': '8692a804-428a-4637-bd47-69c76f873dab'},\n",
       "    'Equipment': {'type': 'literal',\n",
       "     'value': '{\"@id\":\"abf877d7-dac2-4bf0-ab58-9a8a02e92eb3\",\"@type\":\"ACLineSegment\"}'}},\n",
       "   {'ConnectivityNode': {'type': 'literal',\n",
       "     'value': '0f1e28c3-6c44-4f88-b79c-2fdbca4487b2'},\n",
       "    'Terminal': {'type': 'literal',\n",
       "     'value': '02217298-ad5b-463c-a912-957740214701'},\n",
       "    'Equipment': {'type': 'literal',\n",
       "     'value': '{\"@id\":\"572bcfc9-e1d6-4419-9a33-edd284806af3\",\"@type\":\"EnergyConsumer\"}'}},\n",
       "   {'ConnectivityNode': {'type': 'literal',\n",
       "     'value': '2a6dc4dd-d3dc-434d-a187-d2c58a0a72c8'},\n",
       "    'Terminal': {'type': 'literal',\n",
       "     'value': 'ea5ff2c4-f7e1-436d-bdec-1c48d4dbb50d'},\n",
       "    'Equipment': {'type': 'literal',\n",
       "     'value': '{\"@id\":\"8e180773-2a9b-4136-bc9a-132a52c8e276\",\"@type\":\"ACLineSegment\"}'}},\n",
       "   {'ConnectivityNode': {'type': 'literal',\n",
       "     'value': '2a6dc4dd-d3dc-434d-a187-d2c58a0a72c8'},\n",
       "    'Terminal': {'type': 'literal',\n",
       "     'value': '02ae202b-d91b-4ead-8ec9-3b87bdd67c8b'},\n",
       "    'Equipment': {'type': 'literal',\n",
       "     'value': '{\"@id\":\"2858b6c2-0886-4269-884c-06fa8b887319\",\"@type\":\"LoadBreakSwitch\"}'}},\n",
       "   {'ConnectivityNode': {'type': 'literal',\n",
       "     'value': '30be5988-de57-4e0c-ab08-50d5a13d2c1b'},\n",
       "    'Terminal': {'type': 'literal',\n",
       "     'value': 'a4c58654-2972-4a3e-ae65-3868941da037'},\n",
       "    'Equipment': {'type': 'literal',\n",
       "     'value': '{\"@id\":\"d34b0d01-b082-4081-a3cc-b68b9b8313a4\",\"@type\":\"ACLineSegment\"}'}},\n",
       "   {'ConnectivityNode': {'type': 'literal',\n",
       "     'value': '30be5988-de57-4e0c-ab08-50d5a13d2c1b'},\n",
       "    'Terminal': {'type': 'literal',\n",
       "     'value': 'f3a001ba-c6be-450e-b572-b6d5819808ea'},\n",
       "    'Equipment': {'type': 'literal',\n",
       "     'value': '{\"@id\":\"e26d83a0-d29d-41ef-9528-02c882ffcc0d\",\"@type\":\"EnergyConsumer\"}'}},\n",
       "   {'ConnectivityNode': {'type': 'literal',\n",
       "     'value': '30be5988-de57-4e0c-ab08-50d5a13d2c1b'},\n",
       "    'Terminal': {'type': 'literal',\n",
       "     'value': '092a5199-db5e-419e-adcf-53b290efab2c'},\n",
       "    'Equipment': {'type': 'literal',\n",
       "     'value': '{\"@id\":\"45395c84-f20a-4f5a-977f-b80348256421\",\"@type\":\"ACLineSegment\"}'}},\n",
       "   {'ConnectivityNode': {'type': 'literal',\n",
       "     'value': '30be5988-de57-4e0c-ab08-50d5a13d2c1b'},\n",
       "    'Terminal': {'type': 'literal',\n",
       "     'value': '8be8d3ea-eee9-406c-b24c-b169c8ec799a'},\n",
       "    'Equipment': {'type': 'literal',\n",
       "     'value': '{\"@id\":\"4c04f838-62aa-475e-aefa-a63b7c889c13\",\"@type\":\"ACLineSegment\"}'}},\n",
       "   {'ConnectivityNode': {'type': 'literal',\n",
       "     'value': '30be5988-de57-4e0c-ab08-50d5a13d2c1b'},\n",
       "    'Terminal': {'type': 'literal',\n",
       "     'value': 'f1d6c919-22fa-4e94-81b1-36823f5a9ff5'},\n",
       "    'Equipment': {'type': 'literal',\n",
       "     'value': '{\"@id\":\"517413cb-6977-46fa-8911-c82332e42884\",\"@type\":\"LoadBreakSwitch\"}'}},\n",
       "   {'ConnectivityNode': {'type': 'literal',\n",
       "     'value': '421e99be-a834-4809-b924-84d88f634a45'},\n",
       "    'Terminal': {'type': 'literal',\n",
       "     'value': '5edb2918-d669-457c-9f44-e08eba5ac850'},\n",
       "    'Equipment': {'type': 'literal',\n",
       "     'value': '{\"@id\":\"abf53597-a808-422a-b7ee-552f24d83a5f\",\"@type\":\"ACLineSegment\"}'}},\n",
       "   {'ConnectivityNode': {'type': 'literal',\n",
       "     'value': '421e99be-a834-4809-b924-84d88f634a45'},\n",
       "    'Terminal': {'type': 'literal',\n",
       "     'value': 'dd4717b2-5fcd-4e67-9bc8-dd307b80afea'},\n",
       "    'Equipment': {'type': 'literal',\n",
       "     'value': '{\"@id\":\"ce5d0651-676b-4af3-8d67-41bf1b33e30c\",\"@type\":\"Recloser\"}'}},\n",
       "   {'ConnectivityNode': {'type': 'literal',\n",
       "     'value': '63dfbea0-cd06-4d2e-b956-df9517be057b'},\n",
       "    'Terminal': {'type': 'literal',\n",
       "     'value': '0a29aef0-5f49-47ae-a413-9308aa61b72b'},\n",
       "    'Equipment': {'type': 'literal',\n",
       "     'value': '{\"@id\":\"8e34333c-2bb8-4631-b072-383f1ca38f60\",\"@type\":\"EnergyConsumer\"}'}},\n",
       "   {'ConnectivityNode': {'type': 'literal',\n",
       "     'value': '63dfbea0-cd06-4d2e-b956-df9517be057b'},\n",
       "    'Terminal': {'type': 'literal',\n",
       "     'value': '02a67d2e-58ff-4cab-9a85-4346e9e08f1b'},\n",
       "    'Equipment': {'type': 'literal',\n",
       "     'value': '{\"@id\":\"9caaf741-be1e-4893-8044-1e507b7ddc38\",\"@type\":\"EnergyConsumer\"}'}},\n",
       "   {'ConnectivityNode': {'type': 'literal',\n",
       "     'value': '63dfbea0-cd06-4d2e-b956-df9517be057b'},\n",
       "    'Terminal': {'type': 'literal',\n",
       "     'value': '5b38070b-e918-4eaa-8bdb-8b3ce4f8a917'},\n",
       "    'Equipment': {'type': 'literal',\n",
       "     'value': '{\"@id\":\"a9de8829-58cb-4750-b2a2-672846a89753\",\"@type\":\"LinearShuntCompensator\"}'}},\n",
       "   {'ConnectivityNode': {'type': 'literal',\n",
       "     'value': '63dfbea0-cd06-4d2e-b956-df9517be057b'},\n",
       "    'Terminal': {'type': 'literal',\n",
       "     'value': '72362309-a950-40bc-a38c-e08e1ad53477'},\n",
       "    'Equipment': {'type': 'literal',\n",
       "     'value': '{\"@id\":\"3fffb3f7-a7af-49e1-acee-449fc73d3cd6\",\"@type\":\"EnergyConsumer\"}'}},\n",
       "   {'ConnectivityNode': {'type': 'literal',\n",
       "     'value': '63dfbea0-cd06-4d2e-b956-df9517be057b'},\n",
       "    'Terminal': {'type': 'literal',\n",
       "     'value': 'cd147977-45b7-48ad-9f72-4f488bd6ad6d'},\n",
       "    'Equipment': {'type': 'literal',\n",
       "     'value': '{\"@id\":\"7060d0bb-b30d-4932-8fa1-40820a0fc4d0\",\"@type\":\"ACLineSegment\"}'}},\n",
       "   {'ConnectivityNode': {'type': 'literal',\n",
       "     'value': '673e896a-dcbf-4e43-9924-beb31c5b6005'},\n",
       "    'Terminal': {'type': 'literal',\n",
       "     'value': '000ba1f2-6879-47d7-826d-3cacd23ee20b'},\n",
       "    'Equipment': {'type': 'literal',\n",
       "     'value': '{\"@id\":\"a04cdfb1-e951-4fc4-8882-0323cd70ae3c\",\"@type\":\"ACLineSegment\"}'}},\n",
       "   {'ConnectivityNode': {'type': 'literal',\n",
       "     'value': '673e896a-dcbf-4e43-9924-beb31c5b6005'},\n",
       "    'Terminal': {'type': 'literal',\n",
       "     'value': 'f5258b9a-b51e-40dd-9a06-5918e41f3c35'},\n",
       "    'Equipment': {'type': 'literal',\n",
       "     'value': '{\"@id\":\"67b57539-590b-4158-9cbb-9dba2fe6c1f0\",\"@type\":\"PowerTransformer\"}'}},\n",
       "   {'ConnectivityNode': {'type': 'literal',\n",
       "     'value': '673e896a-dcbf-4e43-9924-beb31c5b6005'},\n",
       "    'Terminal': {'type': 'literal',\n",
       "     'value': '02cd5661-c654-43f6-8d1a-0d666070bb81'},\n",
       "    'Equipment': {'type': 'literal',\n",
       "     'value': '{\"@id\":\"67b57539-590b-4158-9cbb-9dba2fe6c1f0\",\"@type\":\"PowerTransformer\"}'}},\n",
       "   {'ConnectivityNode': {'type': 'literal',\n",
       "     'value': '673e896a-dcbf-4e43-9924-beb31c5b6005'},\n",
       "    'Terminal': {'type': 'literal',\n",
       "     'value': '5a1120ee-0f2a-4698-9ff5-0f0f4f507baf'},\n",
       "    'Equipment': {'type': 'literal',\n",
       "     'value': '{\"@id\":\"67b57539-590b-4158-9cbb-9dba2fe6c1f0\",\"@type\":\"PowerTransformer\"}'}},\n",
       "   {'ConnectivityNode': {'type': 'literal',\n",
       "     'value': '6cb5e5ce-2cd0-40cc-a979-b4f9ed05e49b'},\n",
       "    'Terminal': {'type': 'literal',\n",
       "     'value': '3589a9be-f3be-45c3-b84e-3ce5b6105d11'},\n",
       "    'Equipment': {'type': 'literal',\n",
       "     'value': '{\"@id\":\"a04cdfb1-e951-4fc4-8882-0323cd70ae3c\",\"@type\":\"ACLineSegment\"}'}},\n",
       "   {'ConnectivityNode': {'type': 'literal',\n",
       "     'value': '6cb5e5ce-2cd0-40cc-a979-b4f9ed05e49b'},\n",
       "    'Terminal': {'type': 'literal',\n",
       "     'value': 'ebaef4a4-5d80-4fad-a133-aa18607f3c31'},\n",
       "    'Equipment': {'type': 'literal',\n",
       "     'value': '{\"@id\":\"ce5d0651-676b-4af3-8d67-41bf1b33e30c\",\"@type\":\"Recloser\"}'}},\n",
       "   {'ConnectivityNode': {'type': 'literal',\n",
       "     'value': '6cb5e5ce-2cd0-40cc-a979-b4f9ed05e49b'},\n",
       "    'Terminal': {'type': 'literal',\n",
       "     'value': 'a6c57c2e-a084-4701-adf5-fb6f3e36f45c'},\n",
       "    'Equipment': {'type': 'literal',\n",
       "     'value': '{\"@id\":\"fbe26b35-13ab-457d-9795-df58b28e309d\",\"@type\":\"ACLineSegment\"}'}},\n",
       "   {'ConnectivityNode': {'type': 'literal',\n",
       "     'value': '6cb5e5ce-2cd0-40cc-a979-b4f9ed05e49b'},\n",
       "    'Terminal': {'type': 'literal',\n",
       "     'value': 'a563a3a5-ea39-4998-96b2-538227e2d2f6'},\n",
       "    'Equipment': {'type': 'literal',\n",
       "     'value': '{\"@id\":\"1c6781a2-5b9d-4525-8a9b-f9b32c4c4ac0\",\"@type\":\"ACLineSegment\"}'}},\n",
       "   {'ConnectivityNode': {'type': 'literal',\n",
       "     'value': '76d6d03c-967c-4e12-836d-a98df3552bc7'},\n",
       "    'Terminal': {'type': 'literal',\n",
       "     'value': 'ff3de145-0066-4c1f-867c-2a2bf3012edf'},\n",
       "    'Equipment': {'type': 'literal',\n",
       "     'value': '{\"@id\":\"4c04f838-62aa-475e-aefa-a63b7c889c13\",\"@type\":\"ACLineSegment\"}'}},\n",
       "   {'ConnectivityNode': {'type': 'literal',\n",
       "     'value': '7beddadd-0a14-429f-8601-9ea8b892ca6e'},\n",
       "    'Terminal': {'type': 'literal',\n",
       "     'value': 'bb0411d7-5261-433d-b327-549da536eeec'},\n",
       "    'Equipment': {'type': 'literal',\n",
       "     'value': '{\"@id\":\"259e820f-b4af-4e1a-8271-687534edaecc\",\"@type\":\"PowerTransformer\"}'}},\n",
       "   {'ConnectivityNode': {'type': 'literal',\n",
       "     'value': '7beddadd-0a14-429f-8601-9ea8b892ca6e'},\n",
       "    'Terminal': {'type': 'literal',\n",
       "     'value': '1d81c7fe-e88f-41e3-a900-476ca6476ccd'},\n",
       "    'Equipment': {'type': 'literal',\n",
       "     'value': '{\"@id\":\"52de9189-20dc-4c73-bdee-e960fe1f9493\",\"@type\":\"Breaker\"}'}},\n",
       "   {'ConnectivityNode': {'type': 'literal',\n",
       "     'value': '8c58660f-c62c-4903-be72-22f1255b1e62'},\n",
       "    'Terminal': {'type': 'literal',\n",
       "     'value': 'd02b9e99-3557-48f5-b475-4871e47d08f6'},\n",
       "    'Equipment': {'type': 'literal',\n",
       "     'value': '{\"@id\":\"0bbd0ea3-f665-465b-86fd-fc8b8466ad53\",\"@type\":\"ACLineSegment\"}'}},\n",
       "   {'ConnectivityNode': {'type': 'literal',\n",
       "     'value': '8c58660f-c62c-4903-be72-22f1255b1e62'},\n",
       "    'Terminal': {'type': 'literal',\n",
       "     'value': '579a122e-a262-4830-88c6-1addb81761b1'},\n",
       "    'Equipment': {'type': 'literal',\n",
       "     'value': '{\"@id\":\"0bc9183a-9067-4e06-aa5b-48dc2ab30c80\",\"@type\":\"EnergyConsumer\"}'}},\n",
       "   {'ConnectivityNode': {'type': 'literal',\n",
       "     'value': '8e99f99d-fe8f-420b-ac49-0b52df5362ab'},\n",
       "    'Terminal': {'type': 'literal',\n",
       "     'value': '3313c5a7-ed81-47d3-8114-ad654a5de21b'},\n",
       "    'Equipment': {'type': 'literal',\n",
       "     'value': '{\"@id\":\"abf877d7-dac2-4bf0-ab58-9a8a02e92eb3\",\"@type\":\"ACLineSegment\"}'}},\n",
       "   {'ConnectivityNode': {'type': 'literal',\n",
       "     'value': '8e99f99d-fe8f-420b-ac49-0b52df5362ab'},\n",
       "    'Terminal': {'type': 'literal',\n",
       "     'value': 'bc623628-bd23-4a1a-a406-15ca63556149'},\n",
       "    'Equipment': {'type': 'literal',\n",
       "     'value': '{\"@id\":\"d34b0d01-b082-4081-a3cc-b68b9b8313a4\",\"@type\":\"ACLineSegment\"}'}},\n",
       "   {'ConnectivityNode': {'type': 'literal',\n",
       "     'value': '8e99f99d-fe8f-420b-ac49-0b52df5362ab'},\n",
       "    'Terminal': {'type': 'literal',\n",
       "     'value': '8f517dfe-d985-4d24-8339-96fa2a789e88'},\n",
       "    'Equipment': {'type': 'literal',\n",
       "     'value': '{\"@id\":\"2858b6c2-0886-4269-884c-06fa8b887319\",\"@type\":\"LoadBreakSwitch\"}'}},\n",
       "   {'ConnectivityNode': {'type': 'literal',\n",
       "     'value': '94f822e0-7130-4205-8597-b47110bbef4b'},\n",
       "    'Terminal': {'type': 'literal',\n",
       "     'value': '2847e06b-c8ed-41e6-b515-c61c9e8eb4b4'},\n",
       "    'Equipment': {'type': 'literal',\n",
       "     'value': '{\"@id\":\"52de9189-20dc-4c73-bdee-e960fe1f9493\",\"@type\":\"Breaker\"}'}},\n",
       "   {'ConnectivityNode': {'type': 'literal',\n",
       "     'value': '94f822e0-7130-4205-8597-b47110bbef4b'},\n",
       "    'Terminal': {'type': 'literal',\n",
       "     'value': '9ac596a8-d859-48f3-a286-d2533f9b9733'},\n",
       "    'Equipment': {'type': 'literal',\n",
       "     'value': '{\"@id\":\"67b57539-590b-4158-9cbb-9dba2fe6c1f0\",\"@type\":\"PowerTransformer\"}'}},\n",
       "   {'ConnectivityNode': {'type': 'literal',\n",
       "     'value': '94f822e0-7130-4205-8597-b47110bbef4b'},\n",
       "    'Terminal': {'type': 'literal',\n",
       "     'value': 'ec150da0-864e-4c61-b681-3cf27ab27b82'},\n",
       "    'Equipment': {'type': 'literal',\n",
       "     'value': '{\"@id\":\"67b57539-590b-4158-9cbb-9dba2fe6c1f0\",\"@type\":\"PowerTransformer\"}'}},\n",
       "   {'ConnectivityNode': {'type': 'literal',\n",
       "     'value': '94f822e0-7130-4205-8597-b47110bbef4b'},\n",
       "    'Terminal': {'type': 'literal',\n",
       "     'value': 'f8856652-20fb-4760-874d-3d785e91a83e'},\n",
       "    'Equipment': {'type': 'literal',\n",
       "     'value': '{\"@id\":\"67b57539-590b-4158-9cbb-9dba2fe6c1f0\",\"@type\":\"PowerTransformer\"}'}},\n",
       "   {'ConnectivityNode': {'type': 'literal',\n",
       "     'value': 'a8a25b50-3ae3-4a31-a18b-b3fa13397ed3'},\n",
       "    'Terminal': {'type': 'literal',\n",
       "     'value': 'f9439a87-d8e9-406f-add3-336b29b8bcea'},\n",
       "    'Equipment': {'type': 'literal',\n",
       "     'value': '{\"@id\":\"8b452737-ca3d-4c10-a99d-6865506437c8\",\"@type\":\"EnergySource\"}'}},\n",
       "   {'ConnectivityNode': {'type': 'literal',\n",
       "     'value': 'a8a25b50-3ae3-4a31-a18b-b3fa13397ed3'},\n",
       "    'Terminal': {'type': 'literal',\n",
       "     'value': '717dfb1a-a300-444d-8d3b-0a093eaad47b'},\n",
       "    'Equipment': {'type': 'literal',\n",
       "     'value': '{\"@id\":\"259e820f-b4af-4e1a-8271-687534edaecc\",\"@type\":\"PowerTransformer\"}'}},\n",
       "   {'ConnectivityNode': {'type': 'literal',\n",
       "     'value': 'addb7a30-5a3c-4179-af5d-5c9a7213b0e7'},\n",
       "    'Terminal': {'type': 'literal',\n",
       "     'value': 'af475341-bbe8-4c30-a30e-b6ebe9768322'},\n",
       "    'Equipment': {'type': 'literal',\n",
       "     'value': '{\"@id\":\"1e6b5c97-c4e8-4ced-b9a5-6e69f389da93\",\"@type\":\"PowerTransformer\"}'}},\n",
       "   {'ConnectivityNode': {'type': 'literal',\n",
       "     'value': 'addb7a30-5a3c-4179-af5d-5c9a7213b0e7'},\n",
       "    'Terminal': {'type': 'literal',\n",
       "     'value': 'd1cf8d27-7793-45fd-ba55-addb77afed1e'},\n",
       "    'Equipment': {'type': 'literal',\n",
       "     'value': '{\"@id\":\"43ef8365-f932-409b-a51e-fbed3f6dffaa\",\"@type\":\"Fuse\"}'}},\n",
       "   {'ConnectivityNode': {'type': 'literal',\n",
       "     'value': 'c6256170-e6ed-4f91-8ebd-748090c3fdd5'},\n",
       "    'Terminal': {'type': 'literal',\n",
       "     'value': 'f0e10483-d8ad-46be-af5f-08228955796b'},\n",
       "    'Equipment': {'type': 'literal',\n",
       "     'value': '{\"@id\":\"fbe26b35-13ab-457d-9795-df58b28e309d\",\"@type\":\"ACLineSegment\"}'}},\n",
       "   {'ConnectivityNode': {'type': 'literal',\n",
       "     'value': 'c6256170-e6ed-4f91-8ebd-748090c3fdd5'},\n",
       "    'Terminal': {'type': 'literal',\n",
       "     'value': '3621713b-852e-4f95-8586-2d55313ed673'},\n",
       "    'Equipment': {'type': 'literal',\n",
       "     'value': '{\"@id\":\"43ef8365-f932-409b-a51e-fbed3f6dffaa\",\"@type\":\"Fuse\"}'}},\n",
       "   {'ConnectivityNode': {'type': 'literal',\n",
       "     'value': 'dbfa8efa-b397-40da-9642-60e8de4b3471'},\n",
       "    'Terminal': {'type': 'literal',\n",
       "     'value': '233304a2-b68b-4ec3-a692-4735de495569'},\n",
       "    'Equipment': {'type': 'literal',\n",
       "     'value': '{\"@id\":\"8e180773-2a9b-4136-bc9a-132a52c8e276\",\"@type\":\"ACLineSegment\"}'}},\n",
       "   {'ConnectivityNode': {'type': 'literal',\n",
       "     'value': 'dbfa8efa-b397-40da-9642-60e8de4b3471'},\n",
       "    'Terminal': {'type': 'literal',\n",
       "     'value': 'fd3834ff-6c3b-434f-a41d-77eb8237f53d'},\n",
       "    'Equipment': {'type': 'literal',\n",
       "     'value': '{\"@id\":\"9d725810-bfd6-44c6-961a-2bc027f6fc95\",\"@type\":\"LinearShuntCompensator\"}'}},\n",
       "   {'ConnectivityNode': {'type': 'literal',\n",
       "     'value': 'dbfa8efa-b397-40da-9642-60e8de4b3471'},\n",
       "    'Terminal': {'type': 'literal',\n",
       "     'value': '2f5c9d9b-8cc5-4636-8bc8-2ac78f01f5bc'},\n",
       "    'Equipment': {'type': 'literal',\n",
       "     'value': '{\"@id\":\"60b55036-dd71-40ce-adda-97b8ce7447dc\",\"@type\":\"EnergyConsumer\"}'}},\n",
       "   {'ConnectivityNode': {'type': 'literal',\n",
       "     'value': 'dc889fa5-7b28-4273-a1d7-205be3e0bfed'},\n",
       "    'Terminal': {'type': 'literal',\n",
       "     'value': '83481773-e9fc-4720-89b4-796c5081d518'},\n",
       "    'Equipment': {'type': 'literal',\n",
       "     'value': '{\"@id\":\"91a37b4c-c38b-4269-8467-f40870934386\",\"@type\":\"EnergyConsumer\"}'}},\n",
       "   {'ConnectivityNode': {'type': 'literal',\n",
       "     'value': 'dc889fa5-7b28-4273-a1d7-205be3e0bfed'},\n",
       "    'Terminal': {'type': 'literal',\n",
       "     'value': 'b554744a-f5b5-485c-b67e-2487a8740295'},\n",
       "    'Equipment': {'type': 'literal',\n",
       "     'value': '{\"@id\":\"abf53597-a808-422a-b7ee-552f24d83a5f\",\"@type\":\"ACLineSegment\"}'}},\n",
       "   {'ConnectivityNode': {'type': 'literal',\n",
       "     'value': 'dc889fa5-7b28-4273-a1d7-205be3e0bfed'},\n",
       "    'Terminal': {'type': 'literal',\n",
       "     'value': 'f421b562-1af9-42c1-8906-d80caba91fc4'},\n",
       "    'Equipment': {'type': 'literal',\n",
       "     'value': '{\"@id\":\"e503bbf8-3c82-4df7-b6e9-2488ecfcc847\",\"@type\":\"EnergyConsumer\"}'}},\n",
       "   {'ConnectivityNode': {'type': 'literal',\n",
       "     'value': 'dc889fa5-7b28-4273-a1d7-205be3e0bfed'},\n",
       "    'Terminal': {'type': 'literal',\n",
       "     'value': 'eef69c71-5a87-4378-8df4-4578635c81b4'},\n",
       "    'Equipment': {'type': 'literal',\n",
       "     'value': '{\"@id\":\"45395c84-f20a-4f5a-977f-b80348256421\",\"@type\":\"ACLineSegment\"}'}},\n",
       "   {'ConnectivityNode': {'type': 'literal',\n",
       "     'value': 'dc889fa5-7b28-4273-a1d7-205be3e0bfed'},\n",
       "    'Terminal': {'type': 'literal',\n",
       "     'value': 'ccc4e540-46cc-422c-98da-32898fd31637'},\n",
       "    'Equipment': {'type': 'literal',\n",
       "     'value': '{\"@id\":\"70188ff4-04f0-48d2-8706-698d1fd086e6\",\"@type\":\"EnergyConsumer\"}'}},\n",
       "   {'ConnectivityNode': {'type': 'literal',\n",
       "     'value': 'dc889fa5-7b28-4273-a1d7-205be3e0bfed'},\n",
       "    'Terminal': {'type': 'literal',\n",
       "     'value': '8c674f14-d9ff-4b1c-b246-1235022cd4c2'},\n",
       "    'Equipment': {'type': 'literal',\n",
       "     'value': '{\"@id\":\"7ff12cef-1c4d-4cd2-8fcc-662530a7ba33\",\"@type\":\"PowerTransformer\"}'}},\n",
       "   {'ConnectivityNode': {'type': 'literal',\n",
       "     'value': 'e5b2888b-b60d-4da6-a4f7-17eb849d28b2'},\n",
       "    'Terminal': {'type': 'literal',\n",
       "     'value': '9ca4064a-aacd-49db-9296-7adc7e195358'},\n",
       "    'Equipment': {'type': 'literal',\n",
       "     'value': '{\"@id\":\"8ca46f28-84c0-4fe2-b228-ec4080777865\",\"@type\":\"EnergyConsumer\"}'}},\n",
       "   {'ConnectivityNode': {'type': 'literal',\n",
       "     'value': 'e5b2888b-b60d-4da6-a4f7-17eb849d28b2'},\n",
       "    'Terminal': {'type': 'literal',\n",
       "     'value': '169cb0d6-0002-457f-9594-7feb09da102d'},\n",
       "    'Equipment': {'type': 'literal',\n",
       "     'value': '{\"@id\":\"517413cb-6977-46fa-8911-c82332e42884\",\"@type\":\"LoadBreakSwitch\"}'}},\n",
       "   {'ConnectivityNode': {'type': 'literal',\n",
       "     'value': 'e5b2888b-b60d-4da6-a4f7-17eb849d28b2'},\n",
       "    'Terminal': {'type': 'literal',\n",
       "     'value': 'b4e1784c-5500-47ae-958b-a286ce8c17a5'},\n",
       "    'Equipment': {'type': 'literal',\n",
       "     'value': '{\"@id\":\"7060d0bb-b30d-4932-8fa1-40820a0fc4d0\",\"@type\":\"ACLineSegment\"}'}}]}}"
      ]
     },
     "execution_count": 28,
     "metadata": {},
     "output_type": "execute_result"
    }
   ],
   "source": [
    "message = (sparql.get_all_nodes_from_container(feeder, database))\n",
    "database.execute(message)"
   ]
  },
  {
   "cell_type": "code",
   "execution_count": 29,
   "metadata": {},
   "outputs": [
    {
     "name": "stdout",
     "output_type": "stream",
     "text": [
      "\n",
      "        PREFIX r:  <http://www.w3.org/1999/02/22-rdf-syntax-ns#>\n",
      "        PREFIX cim:  <http://iec.ch/TC57/CIM100#>\n",
      "        SELECT DISTINCT ?identifier ?attribute ?value ?edge\n",
      "        WHERE {\n",
      "          \n",
      "    VALUES ?identifier { \"0bbd0ea3-f665-465b-86fd-fc8b8466ad53\" \n",
      " \"1c6781a2-5b9d-4525-8a9b-f9b32c4c4ac0\" \n",
      " \"abf877d7-dac2-4bf0-ab58-9a8a02e92eb3\" \n",
      " \"8e180773-2a9b-4136-bc9a-132a52c8e276\" \n",
      " \"d34b0d01-b082-4081-a3cc-b68b9b8313a4\" \n",
      " \"45395c84-f20a-4f5a-977f-b80348256421\" \n",
      " \"4c04f838-62aa-475e-aefa-a63b7c889c13\" \n",
      " \"abf53597-a808-422a-b7ee-552f24d83a5f\" \n",
      " \"7060d0bb-b30d-4932-8fa1-40820a0fc4d0\" \n",
      " \"a04cdfb1-e951-4fc4-8882-0323cd70ae3c\" \n",
      " \"fbe26b35-13ab-457d-9795-df58b28e309d\" \n",
      "               }\n",
      "        bind(iri(concat(\"urn:uuid:\", ?identifier)) as ?eq)\n",
      "\n",
      "        ?eq r:type cim:ACLineSegment.\n",
      "    \n",
      "        {?eq (cim:|!cim:) ?val.\n",
      "         ?eq ?attr ?val.}\n",
      "        UNION\n",
      "        {?val (cim:|!cim:) ?eq.\n",
      "         ?val ?attr ?eq.}\n",
      "\n",
      "        {bind(strafter(str(?attr),\"#\") as ?attribute)}\n",
      "        {bind(strafter(str(?val),\"urn:uuid:\") as ?uri)}\n",
      "        {bind(if(?uri = \"\", ?val, ?uri) as ?value)}\n",
      "\n",
      "        OPTIONAL {?val a ?classraw.\n",
      "                  bind(strafter(str(?classraw),\"http://iec.ch/TC57/CIM100#\") as ?edge_class)\n",
      "                  {bind(strafter(str(?val),\"urn:uuid:\") as ?uri)}\n",
      "\n",
      "                  bind(concat(\"{\\\"@id\\\":\\\"\", ?uri,\"\\\",\\\"@type\\\":\\\"\", ?edge_class, \"\\\"}\") as ?edge)}\n",
      "        }\n",
      "\n",
      "        ORDER by  ?identifier ?attribute\n",
      "        \n"
     ]
    }
   ],
   "source": [
    "message = network.get_edges_query(cim.ACLineSegment)\n",
    "# database.execute(message)\n",
    "print(message)"
   ]
  },
  {
   "cell_type": "code",
   "execution_count": 30,
   "metadata": {},
   "outputs": [
    {
     "name": "stdout",
     "output_type": "stream",
     "text": [
      "\n",
      "        PREFIX r:  <http://www.w3.org/1999/02/22-rdf-syntax-ns#>\n",
      "        PREFIX cim:  <http://iec.ch/TC57/CIM100#>\n",
      "        SELECT DISTINCT ?identifier ?obj_class\n",
      "        WHERE {\n",
      "          \n",
      "    VALUES ?identifier {\"_6C62C905-6FC7-653D-9F1E-1340F974A587\"}\n",
      "        bind(iri(concat(\"urn:uuid:\", ?identifier)) as ?eq)\n",
      "\n",
      "        ?eq a ?classraw.\n",
      "        bind(strafter(str(?classraw),\"http://iec.ch/TC57/CIM100#\") as ?obj_class)\n",
      "        }\n",
      "        ORDER by  ?identifier\n",
      "        \n"
     ]
    }
   ],
   "source": [
    "message = sparql.get_object_sparql(mrid=\"_6C62C905-6FC7-653D-9F1E-1340F974A587\", connection_params=database)\n",
    "print(message)"
   ]
  },
  {
   "cell_type": "code",
   "execution_count": 31,
   "metadata": {},
   "outputs": [],
   "source": [
    "network.get_all_edges(cim.ACLineSegment)"
   ]
  },
  {
   "cell_type": "code",
   "execution_count": 32,
   "metadata": {},
   "outputs": [],
   "source": [
    "from uuid import UUID\n",
    "\n",
    "\n",
    "line = network.graph[cim.ACLineSegment][UUID(\"0bbd0ea3-f665-465b-86fd-fc8b8466ad53\")]"
   ]
  },
  {
   "cell_type": "code",
   "execution_count": 33,
   "metadata": {},
   "outputs": [],
   "source": [
    "# del x['__uuid__']\n",
    "# del x['identifier']\n",
    "# json.dumps(x)"
   ]
  },
  {
   "cell_type": "code",
   "execution_count": 34,
   "metadata": {},
   "outputs": [
    {
     "data": {
      "text/plain": [
       "'{\"@id\": \"0bbd0ea3-f665-465b-86fd-fc8b8466ad53\", \"@type\": \"ACLineSegment\", \"identifier\": \"0bbd0ea3-f665-465b-86fd-fc8b8466ad53\", \"mRID\": \"0BBD0EA3-F665-465B-86FD-FC8B8466AD53\", \"name\": \"645646\", \"Location\": {\"@id\": \"89c21411-d107-454a-93b0-0905893dd27d\", \"@type\": \"Location\"}, \"Measurements\": [{\"@id\": \"84f75532-a514-4355-bf0e-2f8d82c736ae\", \"@type\": \"Analog\"}, {\"@id\": \"2d9ed148-d492-4e7d-b9af-81a407e74a59\", \"@type\": \"Analog\"}, {\"@id\": \"4e30ae83-418c-4cfb-99eb-5572e00b4ec4\", \"@type\": \"Analog\"}, {\"@id\": \"5f1dfa9f-e754-471d-9c74-c1a9441e95a3\", \"@type\": \"Analog\"}], \"EquipmentContainer\": {\"@id\": \"49ad8e07-3bf9-a4e2-cb8f-c3722f837b62\", \"@type\": \"Feeder\"}, \"BaseVoltage\": {\"@id\": \"2a158e0c-cd01-4a50-aeba-59d761fcf15d\", \"@type\": \"BaseVoltage\"}, \"Terminals\": [{\"@id\": \"f3c0f2d0-4d28-49b5-a920-37409b99229d\", \"@type\": \"Terminal\"}, {\"@id\": \"d02b9e99-3557-48f5-b475-4871e47d08f6\", \"@type\": \"Terminal\"}], \"length\": \"91.44\", \"ACLineSegmentPhases\": [{\"@id\": \"94fcafff-e5f7-4f97-b697-35c46656edca\", \"@type\": \"ACLineSegmentPhase\"}, {\"@id\": \"ce2afb05-a1b1-4082-b4eb-2ad8a1d3422d\", \"@type\": \"ACLineSegmentPhase\"}], \"PerLengthImpedance\": {\"@id\": \"12c526c5-6645-4c0c-83cd-3030c440da17\", \"@type\": \"PerLengthPhaseImpedance\"}}'"
      ]
     },
     "execution_count": 34,
     "metadata": {},
     "output_type": "execute_result"
    }
   ],
   "source": [
    "line.__str__()"
   ]
  },
  {
   "cell_type": "code",
   "execution_count": 35,
   "metadata": {},
   "outputs": [
    {
     "name": "stdout",
     "output_type": "stream",
     "text": [
      "{\n",
      "    \"@id\": \"0bbd0ea3-f665-465b-86fd-fc8b8466ad53\",\n",
      "    \"@type\": \"ACLineSegment\",\n",
      "    \"identifier\": \"0bbd0ea3-f665-465b-86fd-fc8b8466ad53\",\n",
      "    \"mRID\": \"0BBD0EA3-F665-465B-86FD-FC8B8466AD53\",\n",
      "    \"name\": \"645646\",\n",
      "    \"Location\": {\n",
      "        \"@id\": \"89c21411-d107-454a-93b0-0905893dd27d\",\n",
      "        \"@type\": \"Location\"\n",
      "    },\n",
      "    \"Measurements\": [\n",
      "        {\n",
      "            \"@id\": \"84f75532-a514-4355-bf0e-2f8d82c736ae\",\n",
      "            \"@type\": \"Analog\"\n",
      "        },\n",
      "        {\n",
      "            \"@id\": \"2d9ed148-d492-4e7d-b9af-81a407e74a59\",\n",
      "            \"@type\": \"Analog\"\n",
      "        },\n",
      "        {\n",
      "            \"@id\": \"4e30ae83-418c-4cfb-99eb-5572e00b4ec4\",\n",
      "            \"@type\": \"Analog\"\n",
      "        },\n",
      "        {\n",
      "            \"@id\": \"5f1dfa9f-e754-471d-9c74-c1a9441e95a3\",\n",
      "            \"@type\": \"Analog\"\n",
      "        }\n",
      "    ],\n",
      "    \"EquipmentContainer\": {\n",
      "        \"@id\": \"49ad8e07-3bf9-a4e2-cb8f-c3722f837b62\",\n",
      "        \"@type\": \"Feeder\"\n",
      "    },\n",
      "    \"BaseVoltage\": {\n",
      "        \"@id\": \"2a158e0c-cd01-4a50-aeba-59d761fcf15d\",\n",
      "        \"@type\": \"BaseVoltage\"\n",
      "    },\n",
      "    \"Terminals\": [\n",
      "        {\n",
      "            \"@id\": \"f3c0f2d0-4d28-49b5-a920-37409b99229d\",\n",
      "            \"@type\": \"Terminal\"\n",
      "        },\n",
      "        {\n",
      "            \"@id\": \"d02b9e99-3557-48f5-b475-4871e47d08f6\",\n",
      "            \"@type\": \"Terminal\"\n",
      "        }\n",
      "    ],\n",
      "    \"length\": \"91.44\",\n",
      "    \"ACLineSegmentPhases\": [\n",
      "        {\n",
      "            \"@id\": \"94fcafff-e5f7-4f97-b697-35c46656edca\",\n",
      "            \"@type\": \"ACLineSegmentPhase\"\n",
      "        },\n",
      "        {\n",
      "            \"@id\": \"ce2afb05-a1b1-4082-b4eb-2ad8a1d3422d\",\n",
      "            \"@type\": \"ACLineSegmentPhase\"\n",
      "        }\n",
      "    ],\n",
      "    \"PerLengthImpedance\": {\n",
      "        \"@id\": \"12c526c5-6645-4c0c-83cd-3030c440da17\",\n",
      "        \"@type\": \"PerLengthPhaseImpedance\"\n",
      "    }\n",
      "}\n"
     ]
    }
   ],
   "source": [
    "line.pprint()"
   ]
  },
  {
   "cell_type": "code",
   "execution_count": 36,
   "metadata": {},
   "outputs": [
    {
     "data": {
      "text/plain": [
       "'{\"@id\": \"0bbd0ea3-f665-465b-86fd-fc8b8466ad53\", \"@type\": \"ACLineSegment\"}'"
      ]
     },
     "execution_count": 36,
     "metadata": {},
     "output_type": "execute_result"
    }
   ],
   "source": [
    "line.__repr__()"
   ]
  },
  {
   "cell_type": "code",
   "execution_count": 37,
   "metadata": {},
   "outputs": [
    {
     "ename": "NameError",
     "evalue": "name 'qwertyuiop' is not defined",
     "output_type": "error",
     "traceback": [
      "\u001b[0;31m---------------------------------------------------------------------------\u001b[0m",
      "\u001b[0;31mNameError\u001b[0m                                 Traceback (most recent call last)",
      "Cell \u001b[0;32mIn[37], line 1\u001b[0m\n\u001b[0;32m----> 1\u001b[0m \u001b[43mqwertyuiop\u001b[49m\n",
      "\u001b[0;31mNameError\u001b[0m: name 'qwertyuiop' is not defined"
     ]
    }
   ],
   "source": [
    "qwertyuiop"
   ]
  },
  {
   "cell_type": "code",
   "execution_count": null,
   "metadata": {},
   "outputs": [],
   "source": [
    "from dataclasses import is_dataclass\n",
    "\n",
    "\n",
    "dump = dict(json.loads(line.__repr__()) | line.__dict__)\n",
    "del dump['__uuid__']\n",
    "attribute_list = list(line.__dataclass_fields__.keys())\n",
    "for attribute in attribute_list:\n",
    "    if dump[attribute] is None or dump[attribute] == []:\n",
    "        del dump[attribute]\n",
    "    elif is_dataclass(dump[attribute]):\n",
    "        dump[attribute] = (dump[attribute]).__repr__()\n",
    "    elif type(dump[attribute]) != str:\n",
    "        dump[attribute] = str(dump[attribute])\n",
    "# dump = json.dumps(dump)\n",
    "# # bugfix - TODO correct list quotes\n",
    "# dump = str(dump).replace('\\\\\\\"','\\\"' )\n",
    "# dump = str(dump).replace('\\\"[','[' )\n",
    "# dump = str(dump).replace(']\\\"',']' )"
   ]
  },
  {
   "cell_type": "code",
   "execution_count": null,
   "metadata": {},
   "outputs": [],
   "source": [
    "dump"
   ]
  },
  {
   "cell_type": "code",
   "execution_count": null,
   "metadata": {},
   "outputs": [],
   "source": [
    "from dataclasses import is_dataclass\n",
    "\n",
    "\n",
    "is_dataclass((dump['Location']))"
   ]
  },
  {
   "cell_type": "code",
   "execution_count": null,
   "metadata": {},
   "outputs": [],
   "source": [
    "# feeder_mrids = [\"_49AD8E07-3BF9-A4E2-CB8F-C3722F837B62\", # 13 bus\n",
    "#                 \"_C1C3E687-6FFD-C753-582B-632A27E28507\",  # 123 bus\n",
    "#                 \"_5B816B93-7A5F-B64C-8460-47C17D6E4B0F\"] # 13 bus asets\n",
    "#                 # \"_4F76A5F9-271D-9EB8-5E31-AA362D86F2C3\",  # 8500 node\n",
    "#                 # \"_67AB291F-DCCD-31B7-B499-338206B9828F\", # J1\n",
    "#                 # \"_9CE150A8-8CC5-A0F9-B67E-BBD8C79D3095\"]  # R2 12.47 3\n",
    "# # feeder_mrid = \"_EE71F6C9-56F0-4167-A14E-7F4C71F10EAA\" #9500 node\n",
    "# # feeder_mrid = \"_9E985101-27AD-4FE4-B36A-EBECC98CDFAB\" #MAPLE 10 bus\n",
    "# for feeder_mrid in feeder_mrids:\n",
    "#     print(feeder_mrid)\n",
    "#     feeder = cim.Feeder(mRID = feeder_mrid)\n",
    "#     network = FeederModel(connection=connection, container=feeder, distributed=False)\n",
    "#     utils.get_all_data(network)"
   ]
  },
  {
   "cell_type": "code",
   "execution_count": null,
   "metadata": {},
   "outputs": [],
   "source": [
    "substation=cim.Substation(mRID='_B1D29E92-5F08-4DB8-8298-3F9DF829C037')\n",
    "SubstationArea = DistributedArea(connection=database, container=substation,distributed=True)\n",
    "SubstationArea.get_all_edges(cim.Substation)\n",
    "# SubstationArea.get_all_edges(cim.ConnectivityNode)\n",
    "# SubstationArea.get_all_edges(cim.PowerTransformer)\n",
    "# SubstationArea.get_all_edges(cim.EnergyConsumer)\n",
    "# SubstationArea.get_all_attributes(cim.SubGeographicalRegion)\n",
    "# SubstationArea.get_all_edges(cim.VoltageLevel)\n",
    "# SubstationArea.get_all_edges(cim.PowerTransformerEnd)\n",
    "# SubstationArea.get_all_edges(cim.Terminal)\n",
    "# SubstationArea.get_all_edges(cim.TransformerCoreAdmittance)\n",
    "# SubstationArea.get_all_attributes(cim.BaseVoltage)\n",
    "# SubstationArea.get_all_edges(cim.TransformerMeshImpedance)\n",
    "# SubstationArea.get_all_attributes(cim.LoadResponseCharacteristic)\n",
    "utils.write_xml(SubstationArea, '/home/ande188/sub.xml')\n",
    "import time\n",
    "time.sleep(5)\n"
   ]
  },
  {
   "cell_type": "code",
   "execution_count": null,
   "metadata": {},
   "outputs": [],
   "source": [
    "substation"
   ]
  },
  {
   "cell_type": "code",
   "execution_count": null,
   "metadata": {},
   "outputs": [],
   "source": [
    "utils.get_all_data(SubstationArea)\n",
    "utils.write_xml(SubstationArea, '/home/ande188/sub.xml')"
   ]
  },
  {
   "cell_type": "code",
   "execution_count": null,
   "metadata": {},
   "outputs": [],
   "source": []
  },
  {
   "cell_type": "code",
   "execution_count": null,
   "metadata": {},
   "outputs": [],
   "source": [
    "a"
   ]
  },
  {
   "cell_type": "code",
   "execution_count": null,
   "metadata": {},
   "outputs": [],
   "source": [
    "feeder_mrid = \"_49AD8E07-3BF9-A4E2-CB8F-C3722F837B62\"\n",
    "feeder = cim.Feeder(mRID = feeder_mrid)\n",
    "network = FeederModel(connection=database, container=feeder, distributed=False)\n"
   ]
  },
  {
   "cell_type": "code",
   "execution_count": null,
   "metadata": {},
   "outputs": [],
   "source": [
    "network.pprint(cim.ConnectivityNode)"
   ]
  },
  {
   "cell_type": "code",
   "execution_count": null,
   "metadata": {},
   "outputs": [],
   "source": [
    "cim.ConnectivityNode in None"
   ]
  },
  {
   "cell_type": "code",
   "execution_count": null,
   "metadata": {},
   "outputs": [],
   "source": [
    "network.get_all_edges(cim.ACLineSegment)\n",
    "network.get_all_attributes(cim.BaseVoltage)\n",
    "network.pprint(cim.BaseVoltage)"
   ]
  },
  {
   "cell_type": "code",
   "execution_count": null,
   "metadata": {},
   "outputs": [],
   "source": [
    "utils.get_all_data(network)"
   ]
  },
  {
   "cell_type": "code",
   "execution_count": null,
   "metadata": {},
   "outputs": [],
   "source": [
    "network.pprint(cim.Substation)"
   ]
  },
  {
   "cell_type": "code",
   "execution_count": null,
   "metadata": {},
   "outputs": [],
   "source": [
    "print(network.get_edges_query(cim.Feeder))\n"
   ]
  },
  {
   "cell_type": "code",
   "execution_count": null,
   "metadata": {},
   "outputs": [],
   "source": [
    "with open(\"topo_message.json\") as topo:\n",
    "    topo_msg = json.load(topo)"
   ]
  },
  {
   "cell_type": "code",
   "execution_count": null,
   "metadata": {},
   "outputs": [],
   "source": [
    "central_network = FeederModel(connection=database, container=feeder, distributed=False)\n",
    "\n",
    "dist_network_2 =  FeederModel(connection=database, container=feeder, distributed=True)\n",
    "\n",
    "dist_network_3 =  FeederModel(connection=database, container=feeder, distributed=True, topology_message=topo_msg)"
   ]
  },
  {
   "cell_type": "code",
   "execution_count": null,
   "metadata": {},
   "outputs": [],
   "source": [
    "# counter = 0\n",
    "# for switch_area in dist_network_2.distributed_areas:\n",
    "#     # switch_area.pprint(cim.ConnectivityNode)\n",
    "#     # switch_area.get_all_edges(cim.Conn)\n",
    "\n",
    "#     utils.get_all_bus_data(switch_area)\n",
    "#     utils.get_all_line_data(switch_area)\n",
    "#     utils.get_all_load_data(switch_area)\n",
    "#     utils.get_all_inverter_data(switch_area)\n",
    "#     utils.get_all_switch_data(switch_area)\n",
    "#     utils.get_all_transformer_data(switch_area)\n",
    "#     utils.get_all_location_data(switch_area)\n",
    "#     utils.get_all_measurement_data(switch_area)\n",
    "#     # switch_area.get_all_edges(cim.BaseVoltage)\n",
    "#     utils.write_xml(switch_area, filename=f'./test_output/switch_area.{counter}.xml')\n",
    "#     counter += 1\n",
    "\n",
    "\n",
    "#     for sec_area in switch_area.distributed_areas:\n",
    "#         # utils.get_all_data(sec_area)\n",
    "#         pass"
   ]
  },
  {
   "cell_type": "code",
   "execution_count": null,
   "metadata": {},
   "outputs": [],
   "source": [
    "# for switch_area in dist_network_3.distributed_areas:\n",
    "#     utils.get_all_data(switch_area)\n",
    "#     for sec_area in switch_area.distributed_areas:\n",
    "#         utils.get_all_data(sec_area)"
   ]
  },
  {
   "cell_type": "code",
   "execution_count": null,
   "metadata": {},
   "outputs": [],
   "source": []
  },
  {
   "cell_type": "code",
   "execution_count": null,
   "metadata": {},
   "outputs": [],
   "source": [
    "from cimgraph.models import DistributedArea\n",
    "\n",
    "container = cim.EquipmentContainer(mRID=feeder_mrid)\n",
    "feeder_area = DistributedArea(container, database, distributed=True)\n",
    "feeder_area.build_from_topo_message(topo_msg['feeders'])\n",
    "\n",
    "feeder_area.get_all_edges(cim.ConnectivityNode)\n",
    "for node in feeder_area.graph[cim.ConnectivityNode].values():\n",
    "    print(node.name)\n",
    "\n",
    "\n"
   ]
  },
  {
   "cell_type": "code",
   "execution_count": null,
   "metadata": {},
   "outputs": [],
   "source": [
    "counter = 0\n",
    "for switch_topo in topo_msg['feeders']['switch_areas']:\n",
    "    print('switch area', counter)\n",
    "    container = cim.EquipmentContainer(mRID=feeder_mrid+'.'+str(counter))\n",
    "    SwitchArea = DistributedArea(container, database, distributed=True)\n",
    "    SwitchArea.build_from_topo_message(switch_topo)\n",
    "    counter = counter + 1\n",
    "\n",
    "    SwitchArea.get_all_edges(cim.ConnectivityNode)\n",
    "    for node in SwitchArea.graph[cim.ConnectivityNode].values():\n",
    "        print(node.name)"
   ]
  },
  {
   "cell_type": "code",
   "execution_count": null,
   "metadata": {},
   "outputs": [],
   "source": [
    "sw_counter = -1\n",
    "for switch_topo in topo_msg['feeders']['switch_areas']:\n",
    "    sw_counter +=1\n",
    "    sa_counter = -1\n",
    "    for sec_topo in switch_topo['secondary_areas']:\n",
    "        sa_counter +=1\n",
    "        area_id = str(sw_counter) + '.' + str(sa_counter)\n",
    "        print('sec area', counter)\n",
    "        container = cim.EquipmentContainer(mRID=area_id)\n",
    "        SecondaryArea = DistributedArea(container, database, distributed=True)\n",
    "        SecondaryArea.build_from_topo_message(sec_topo)\n",
    "\n",
    "        SecondaryArea.get_all_edges(cim.ConnectivityNode)\n",
    "        for node in SecondaryArea.graph[cim.ConnectivityNode].values():\n",
    "            print(node.name)\n",
    "    "
   ]
  },
  {
   "cell_type": "code",
   "execution_count": null,
   "metadata": {},
   "outputs": [],
   "source": [
    "from cimgraph.databases import ConnectionParameters\n",
    "from cimgraph.databases import BlazegraphConnection\n",
    "import cimgraph.data_profile.cim17v40 as cim\n",
    "params = ConnectionParameters(url = \"http://localhost:8889/bigdata/namespace/kb/sparql\", cim_profile='cim17v40', iec61970_301=7)\n",
    "database = BlazegraphConnection(params)"
   ]
  },
  {
   "cell_type": "code",
   "execution_count": null,
   "metadata": {},
   "outputs": [],
   "source": [
    "from cimgraph.models import FeederModel\n",
    "feeder_mrid = \"_49AD8E07-3BF9-A4E2-CB8F-C3722F837B62\"\n",
    "feeder = cim.Feeder(mRID = feeder_mrid)\n",
    "network = FeederModel(connection=database, container=feeder, distributed=False)"
   ]
  },
  {
   "cell_type": "code",
   "execution_count": null,
   "metadata": {},
   "outputs": [],
   "source": [
    "query = network.get_edges_query(cim.Terminal)"
   ]
  },
  {
   "cell_type": "code",
   "execution_count": null,
   "metadata": {},
   "outputs": [],
   "source": [
    "print(query)"
   ]
  },
  {
   "cell_type": "code",
   "execution_count": null,
   "metadata": {},
   "outputs": [],
   "source": [
    "query_output = network.connection.execute(query)"
   ]
  },
  {
   "cell_type": "code",
   "execution_count": null,
   "metadata": {},
   "outputs": [],
   "source": []
  },
  {
   "cell_type": "code",
   "execution_count": null,
   "metadata": {},
   "outputs": [],
   "source": [
    "for result in query_output['results']['bindings']:\n",
    "    "
   ]
  },
  {
   "cell_type": "code",
   "execution_count": null,
   "metadata": {},
   "outputs": [],
   "source": [
    "result"
   ]
  },
  {
   "cell_type": "code",
   "execution_count": null,
   "metadata": {},
   "outputs": [],
   "source": [
    "\"message\": {\n",
    "    \"timestamp\": \"1248159984\",\n",
    "    \"measurements\": {\n",
    "        \"_00125ca3-12ca-4b8b-a148-c60e03aa7f9f\": {\n",
    "            \"measurement_mrid\": \"_00125ca3-12ca-4b8b-a148-c60e03aa7f9f\",\n",
    "            \"magnitude\": 78103.82848323896,\n",
    "            \"angle\": -99.22044324389712\n",
    "        },\n",
    "        \"_0032c3cd-5dec-4944-b1bc-b97b3ec646fc\": {\n",
    "            \"measurement_mrid\": \"_0032c3cd-5dec-4944-b1bc-b97b3ec646fc\",\n",
    "            \"magnitude\": 2284.5940488360206,\n",
    "            \"angle\": -2.8059748340329578\n",
    "        }\n",
    "    }\n",
    "}"
   ]
  },
  {
   "cell_type": "code",
   "execution_count": null,
   "metadata": {},
   "outputs": [],
   "source": []
  },
  {
   "cell_type": "code",
   "execution_count": null,
   "metadata": {},
   "outputs": [],
   "source": []
  },
  {
   "cell_type": "code",
   "execution_count": null,
   "metadata": {},
   "outputs": [],
   "source": []
  },
  {
   "cell_type": "code",
   "execution_count": null,
   "metadata": {},
   "outputs": [],
   "source": [
    "line = network.graph[cim.ACLineSegment]['uuid']\n",
    "\n",
    "from_bus = line.Terminals[0].ConnectivityNode\n",
    "to_bus = line.Terminals[1].ConnectivityNode\n",
    "\n"
   ]
  },
  {
   "cell_type": "code",
   "execution_count": null,
   "metadata": {},
   "outputs": [],
   "source": []
  },
  {
   "cell_type": "code",
   "execution_count": null,
   "metadata": {},
   "outputs": [],
   "source": [
    "# \"What is the total amount of solar in the feeder ABC?\"\n",
    "\n",
    "feeder_mrid = \"ABC\"\n",
    "feeder = cim.Feeder(mRID = feeder_mrid)\n",
    "network = FeederModel(connection=database, container=feeder, distributed=False)\n",
    "\n",
    "utils.get_all_data(network)\n",
    "\n",
    "total_pv = 0\n",
    "\n",
    "for inverter in network.graph[cim.PowerElectronicsConnection].values():\n",
    "    \n",
    "    total_pv += inverter.PowerElectronicsUnit.maxP"
   ]
  },
  {
   "cell_type": "code",
   "execution_count": null,
   "metadata": {},
   "outputs": [],
   "source": [
    "graph = {}"
   ]
  },
  {
   "cell_type": "code",
   "execution_count": null,
   "metadata": {},
   "outputs": [],
   "source": [
    "\n",
    "obj = database.create_object(graph, cim.GeographicalRegion, \"73C512BD-7249-4F50-50DA-D93849B89C43\")\n",
    "setattr(obj, \"mRID\", \"73C512BD-7249-4F50-50DA-D93849B89C43\")\n",
    "setattr(obj, \"name\", \"IEEE\")"
   ]
  },
  {
   "cell_type": "code",
   "execution_count": null,
   "metadata": {},
   "outputs": [],
   "source": []
  }
 ],
 "metadata": {
  "kernelspec": {
   "display_name": ".venv",
   "language": "python",
   "name": "python3"
  },
  "language_info": {
   "codemirror_mode": {
    "name": "ipython",
    "version": 3
   },
   "file_extension": ".py",
   "mimetype": "text/x-python",
   "name": "python",
   "nbconvert_exporter": "python",
   "pygments_lexer": "ipython3",
   "version": "3.10.12"
  }
 },
 "nbformat": 4,
 "nbformat_minor": 2
}
