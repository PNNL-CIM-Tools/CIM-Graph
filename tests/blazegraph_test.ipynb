{
 "cells": [
  {
   "cell_type": "code",
   "execution_count": null,
   "metadata": {},
   "outputs": [],
   "source": [
    "import json\n",
    "import importlib\n",
    "cim_profile = 'rc4_2021'\n",
    "cim = importlib.import_module('cimgraph.data_profile.' + cim_profile)"
   ]
  },
  {
   "cell_type": "code",
   "execution_count": 4,
   "metadata": {},
   "outputs": [],
   "source": [
    "from cimgraph.databases import ConnectionParameters\n",
    "from cimgraph.databases import BlazegraphConnection\n",
    "from cimgraph.models import FeederModel\n",
    "from cimgraph.models import DistributedArea\n",
    "\n",
    "import cimgraph.utils as utils"
   ]
  },
  {
   "cell_type": "code",
   "execution_count": null,
   "metadata": {},
   "outputs": [],
   "source": [
    "params = ConnectionParameters(url = \"http://localhost:8889/bigdata/namespace/kb/sparql\", cim_profile=cim_profile, iec61970_301=7)\n",
    "connection = BlazegraphConnection(params)"
   ]
  },
  {
   "cell_type": "code",
   "execution_count": null,
   "metadata": {},
   "outputs": [],
   "source": [
    "# feeder_mrids = [\"_49AD8E07-3BF9-A4E2-CB8F-C3722F837B62\", # 13 bus\n",
    "#                 \"_C1C3E687-6FFD-C753-582B-632A27E28507\",  # 123 bus\n",
    "#                 \"_5B816B93-7A5F-B64C-8460-47C17D6E4B0F\"] # 13 bus asets\n",
    "#                 # \"_4F76A5F9-271D-9EB8-5E31-AA362D86F2C3\",  # 8500 node\n",
    "#                 # \"_67AB291F-DCCD-31B7-B499-338206B9828F\", # J1\n",
    "#                 # \"_9CE150A8-8CC5-A0F9-B67E-BBD8C79D3095\"]  # R2 12.47 3\n",
    "# # feeder_mrid = \"_EE71F6C9-56F0-4167-A14E-7F4C71F10EAA\" #9500 node\n",
    "# # feeder_mrid = \"_9E985101-27AD-4FE4-B36A-EBECC98CDFAB\" #MAPLE 10 bus\n",
    "# for feeder_mrid in feeder_mrids:\n",
    "#     print(feeder_mrid)\n",
    "#     feeder = cim.Feeder(mRID = feeder_mrid)\n",
    "#     network = FeederModel(connection=connection, container=feeder, distributed=False)\n",
    "#     utils.get_all_data(network)"
   ]
  },
  {
   "cell_type": "code",
   "execution_count": null,
   "metadata": {},
   "outputs": [],
   "source": [
    "substation=cim.Substation(mRID='B1D29E92-5F08-4DB8-8298-3F9DF829C037')\n",
    "SubstationArea = DistributedArea(connection=connection, container=substation,distributed=True)\n",
    "SubstationArea.get_all_edges(cim.Substation)\n",
    "# SubstationArea.get_all_edges(cim.ConnectivityNode)\n",
    "# SubstationArea.get_all_edges(cim.PowerTransformer)\n",
    "# SubstationArea.get_all_edges(cim.EnergyConsumer)\n",
    "# SubstationArea.get_all_attributes(cim.SubGeographicalRegion)\n",
    "# SubstationArea.get_all_edges(cim.VoltageLevel)\n",
    "# SubstationArea.get_all_edges(cim.PowerTransformerEnd)\n",
    "# SubstationArea.get_all_edges(cim.Terminal)\n",
    "# SubstationArea.get_all_edges(cim.TransformerCoreAdmittance)\n",
    "# SubstationArea.get_all_attributes(cim.BaseVoltage)\n",
    "# SubstationArea.get_all_edges(cim.TransformerMeshImpedance)\n",
    "# SubstationArea.get_all_attributes(cim.LoadResponseCharacteristic)\n",
    "utils.write_xml(SubstationArea, '/home/ande188/sub.xml')\n",
    "import time\n",
    "time.sleep(5)\n"
   ]
  },
  {
   "cell_type": "code",
   "execution_count": null,
   "metadata": {},
   "outputs": [],
   "source": [
    "utils.get_all_data(SubstationArea)\n",
    "utils.write_xml(SubstationArea, '/home/ande188/sub.xml')"
   ]
  },
  {
   "cell_type": "code",
   "execution_count": null,
   "metadata": {},
   "outputs": [],
   "source": []
  },
  {
   "cell_type": "code",
   "execution_count": null,
   "metadata": {},
   "outputs": [],
   "source": [
    "a"
   ]
  },
  {
   "cell_type": "code",
   "execution_count": null,
   "metadata": {},
   "outputs": [],
   "source": [
    "feeder_mrid = \"_49AD8E07-3BF9-A4E2-CB8F-C3722F837B62\"\n",
    "feeder = cim.Feeder(mRID = feeder_mrid)\n",
    "network = FeederModel(connection=connection, container=feeder, distributed=False)\n"
   ]
  },
  {
   "cell_type": "code",
   "execution_count": null,
   "metadata": {},
   "outputs": [],
   "source": [
    "network.get_all_edges(cim.ACLineSegment)\n",
    "network.get_all_attributes(cim.BaseVoltage)\n",
    "network.pprint(cim.BaseVoltage)"
   ]
  },
  {
   "cell_type": "code",
   "execution_count": null,
   "metadata": {},
   "outputs": [],
   "source": [
    "utils.get_all_data(network)"
   ]
  },
  {
   "cell_type": "code",
   "execution_count": null,
   "metadata": {},
   "outputs": [],
   "source": [
    "network.pprint(cim.Substation)"
   ]
  },
  {
   "cell_type": "code",
   "execution_count": null,
   "metadata": {},
   "outputs": [],
   "source": [
    "print(network.get_edges_query(cim.Feeder))\n"
   ]
  },
  {
   "cell_type": "code",
   "execution_count": null,
   "metadata": {},
   "outputs": [],
   "source": [
    "with open(\"topo_message.json\") as topo:\n",
    "    topo_msg = json.load(topo)"
   ]
  },
  {
   "cell_type": "code",
   "execution_count": null,
   "metadata": {},
   "outputs": [],
   "source": [
    "central_network = FeederModel(connection=connection, container=feeder, distributed=False)\n",
    "\n",
    "dist_network_2 =  FeederModel(connection=connection, container=feeder, distributed=True)\n",
    "\n",
    "dist_network_3 =  FeederModel(connection=connection, container=feeder, distributed=True, topology_message=topo_msg)"
   ]
  },
  {
   "cell_type": "code",
   "execution_count": null,
   "metadata": {},
   "outputs": [],
   "source": [
    "# counter = 0\n",
    "# for switch_area in dist_network_2.distributed_areas:\n",
    "#     # switch_area.pprint(cim.ConnectivityNode)\n",
    "#     # switch_area.get_all_edges(cim.Conn)\n",
    "\n",
    "#     utils.get_all_bus_data(switch_area)\n",
    "#     utils.get_all_line_data(switch_area)\n",
    "#     utils.get_all_load_data(switch_area)\n",
    "#     utils.get_all_inverter_data(switch_area)\n",
    "#     utils.get_all_switch_data(switch_area)\n",
    "#     utils.get_all_transformer_data(switch_area)\n",
    "#     utils.get_all_location_data(switch_area)\n",
    "#     utils.get_all_measurement_data(switch_area)\n",
    "#     # switch_area.get_all_edges(cim.BaseVoltage)\n",
    "#     utils.write_xml(switch_area, filename=f'./test_output/switch_area.{counter}.xml')\n",
    "#     counter += 1\n",
    "\n",
    "\n",
    "#     for sec_area in switch_area.distributed_areas:\n",
    "#         # utils.get_all_data(sec_area)\n",
    "#         pass"
   ]
  },
  {
   "cell_type": "code",
   "execution_count": null,
   "metadata": {},
   "outputs": [],
   "source": [
    "# for switch_area in dist_network_3.distributed_areas:\n",
    "#     utils.get_all_data(switch_area)\n",
    "#     for sec_area in switch_area.distributed_areas:\n",
    "#         utils.get_all_data(sec_area)"
   ]
  },
  {
   "cell_type": "code",
   "execution_count": null,
   "metadata": {},
   "outputs": [],
   "source": []
  },
  {
   "cell_type": "code",
   "execution_count": null,
   "metadata": {},
   "outputs": [],
   "source": [
    "from cimgraph.models import DistributedArea\n",
    "\n",
    "container = cim.EquipmentContainer(mRID=feeder_mrid)\n",
    "feeder_area = DistributedArea(container, connection, distributed=True)\n",
    "feeder_area.build_from_topo_message(topo_msg['feeders'])\n",
    "\n",
    "feeder_area.get_all_edges(cim.ConnectivityNode)\n",
    "for node in feeder_area.graph[cim.ConnectivityNode].values():\n",
    "    print(node.name)\n",
    "\n",
    "\n"
   ]
  },
  {
   "cell_type": "code",
   "execution_count": null,
   "metadata": {},
   "outputs": [],
   "source": [
    "counter = 0\n",
    "for switch_topo in topo_msg['feeders']['switch_areas']:\n",
    "    print('switch area', counter)\n",
    "    container = cim.EquipmentContainer(mRID=feeder_mrid+'.'+str(counter))\n",
    "    SwitchArea = DistributedArea(container, connection, distributed=True)\n",
    "    SwitchArea.build_from_topo_message(switch_topo)\n",
    "    counter = counter + 1\n",
    "\n",
    "    SwitchArea.get_all_edges(cim.ConnectivityNode)\n",
    "    for node in SwitchArea.graph[cim.ConnectivityNode].values():\n",
    "        print(node.name)"
   ]
  },
  {
   "cell_type": "code",
   "execution_count": null,
   "metadata": {},
   "outputs": [],
   "source": [
    "sw_counter = -1\n",
    "for switch_topo in topo_msg['feeders']['switch_areas']:\n",
    "    sw_counter +=1\n",
    "    sa_counter = -1\n",
    "    for sec_topo in switch_topo['secondary_areas']:\n",
    "        sa_counter +=1\n",
    "        area_id = str(sw_counter) + '.' + str(sa_counter)\n",
    "        print('sec area', counter)\n",
    "        container = cim.EquipmentContainer(mRID=area_id)\n",
    "        SecondaryArea = DistributedArea(container, connection, distributed=True)\n",
    "        SecondaryArea.build_from_topo_message(sec_topo)\n",
    "\n",
    "        SecondaryArea.get_all_edges(cim.ConnectivityNode)\n",
    "        for node in SecondaryArea.graph[cim.ConnectivityNode].values():\n",
    "            print(node.name)\n",
    "    "
   ]
  },
  {
   "cell_type": "code",
   "execution_count": 1,
   "metadata": {},
   "outputs": [],
   "source": [
    "from cimgraph.databases import ConnectionParameters\n",
    "from cimgraph.databases import BlazegraphConnection\n",
    "import cimgraph.data_profile.ufls as cim\n",
    "params = ConnectionParameters(url = \"http://localhost:8889/bigdata/namespace/kb/sparql\", cim_profile='ufls', iec61970_301=7)\n",
    "connection = BlazegraphConnection(params)"
   ]
  },
  {
   "cell_type": "code",
   "execution_count": 5,
   "metadata": {},
   "outputs": [
    {
     "name": "stderr",
     "output_type": "stream",
     "text": [
      "object class missing from data profile: ACLineSegment\n",
      "object class missing from data profile: ACLineSegment\n",
      "object class missing from data profile: EnergyConsumer\n",
      "object class missing from data profile: ACLineSegment\n",
      "object class missing from data profile: ACLineSegment\n",
      "object class missing from data profile: PowerTransformer\n",
      "object class missing from data profile: PowerTransformer\n",
      "object class missing from data profile: PowerTransformer\n",
      "object class missing from data profile: PowerTransformer\n",
      "object class missing from data profile: PowerTransformer\n",
      "object class missing from data profile: LoadBreakSwitch\n",
      "object class missing from data profile: LoadBreakSwitch\n",
      "object class missing from data profile: EnergyConsumer\n",
      "object class missing from data profile: EnergyConsumer\n",
      "object class missing from data profile: EnergyConsumer\n",
      "object class missing from data profile: Fuse\n",
      "object class missing from data profile: Fuse\n",
      "object class missing from data profile: ACLineSegment\n",
      "object class missing from data profile: ACLineSegment\n",
      "object class missing from data profile: EnergyConsumer\n",
      "object class missing from data profile: ACLineSegment\n",
      "object class missing from data profile: ACLineSegment\n",
      "object class missing from data profile: LoadBreakSwitch\n",
      "object class missing from data profile: LoadBreakSwitch\n",
      "object class missing from data profile: Breaker\n",
      "object class missing from data profile: Breaker\n",
      "object class missing from data profile: EnergyConsumer\n",
      "object class missing from data profile: EnergyConsumer\n",
      "object class missing from data profile: PowerTransformer\n",
      "object class missing from data profile: PowerTransformer\n",
      "object class missing from data profile: PowerTransformer\n",
      "object class missing from data profile: PowerTransformer\n",
      "object class missing from data profile: PowerTransformer\n",
      "object class missing from data profile: PowerTransformer\n",
      "object class missing from data profile: PowerElectronicsConnection\n",
      "object class missing from data profile: EnergyConsumer\n",
      "object class missing from data profile: ACLineSegment\n",
      "object class missing from data profile: ACLineSegment\n",
      "object class missing from data profile: PowerElectronicsConnection\n",
      "object class missing from data profile: PowerTransformer\n",
      "object class missing from data profile: PowerTransformer\n",
      "object class missing from data profile: PowerTransformer\n",
      "object class missing from data profile: EnergySource\n",
      "object class missing from data profile: EnergyConsumer\n",
      "object class missing from data profile: ACLineSegment\n",
      "object class missing from data profile: ACLineSegment\n",
      "object class missing from data profile: EnergyConsumer\n",
      "object class missing from data profile: EnergyConsumer\n",
      "object class missing from data profile: EnergyConsumer\n",
      "object class missing from data profile: LinearShuntCompensator\n",
      "object class missing from data profile: ACLineSegment\n",
      "object class missing from data profile: ACLineSegment\n",
      "object class missing from data profile: LinearShuntCompensator\n",
      "object class missing from data profile: ACLineSegment\n",
      "object class missing from data profile: ACLineSegment\n",
      "object class missing from data profile: ACLineSegment\n",
      "object class missing from data profile: ACLineSegment\n",
      "object class missing from data profile: EnergyConsumer\n",
      "object class missing from data profile: EnergyConsumer\n",
      "object class missing from data profile: Recloser\n",
      "object class missing from data profile: Recloser\n",
      "object class missing from data profile: PowerElectronicsConnection\n",
      "object class missing from data profile: PowerElectronicsConnection\n",
      "object class missing from data profile: ACLineSegment\n",
      "object class missing from data profile: ACLineSegment\n",
      "object class missing from data profile: EnergyConsumer\n",
      "object class missing from data profile: EnergyConsumer\n",
      "object class missing from data profile: ACLineSegment\n",
      "object class missing from data profile: ACLineSegment\n"
     ]
    }
   ],
   "source": [
    "from cimgraph.models import FeederModel\n",
    "feeder_mrid = \"_49AD8E07-3BF9-A4E2-CB8F-C3722F837B62\"\n",
    "feeder = cim.Feeder(mRID = feeder_mrid)\n",
    "network = FeederModel(connection=connection, container=feeder, distributed=False)"
   ]
  },
  {
   "cell_type": "code",
   "execution_count": 6,
   "metadata": {},
   "outputs": [],
   "source": [
    "query = network.get_edges_query(cim.Terminal)"
   ]
  },
  {
   "cell_type": "code",
   "execution_count": 8,
   "metadata": {},
   "outputs": [
    {
     "name": "stdout",
     "output_type": "stream",
     "text": [
      "\n",
      "        PREFIX r:  <http://www.w3.org/1999/02/22-rdf-syntax-ns#>\n",
      "        PREFIX cim:  <http://iec.ch/TC57/CIM100#>\n",
      "        SELECT DISTINCT ?mRID ?attribute ?value ?edge\n",
      "        WHERE {\n",
      "          ?eq r:type cim:Terminal.\n",
      "        VALUES ?mRID { \"_D02B9E99-3557-48F5-B475-4871E47D08F6\" \n",
      " \"_F3C0F2D0-4D28-49B5-A920-37409B99229D\" \n",
      " \"_579A122E-A262-4830-88C6-1ADDB81761B1\" \n",
      " \"_4891537F-4088-48F5-9B1A-8294D50901E4\" \n",
      " \"_A563A3A5-EA39-4998-96B2-538227E2D2F6\" \n",
      " \"_AF475341-BBE8-4C30-A30E-B6EBE9768322\" \n",
      " \"_E1763FE3-82C2-4434-9424-72DF850D982E\" \n",
      " \"_717DFB1A-A300-444D-8D3B-0A093EAAD47B\" \n",
      " \"_BB0411D7-5261-433D-B327-549DA536EEEC\" \n",
      " \"_F6CE3095-9089-4B61-9C13-C7647ADBA888\" \n",
      " \"_02AE202B-D91B-4EAD-8EC9-3B87BDD67C8B\" \n",
      " \"_8F517DFE-D985-4D24-8339-96FA2A789E88\" \n",
      " \"_2128BB42-3E2D-490A-A29D-05549E81F25D\" \n",
      " \"_C61A2238-FE09-4406-B172-26CB9F145DB1\" \n",
      " \"_72362309-A950-40BC-A38C-E08E1AD53477\" \n",
      " \"_3621713B-852E-4F95-8586-2D55313ED673\" \n",
      " \"_D1CF8D27-7793-45FD-BA55-ADDB77AFED1E\" \n",
      " \"_092A5199-DB5E-419E-ADCF-53B290EFAB2C\" \n",
      " \"_EEF69C71-5A87-4378-8DF4-4578635C81B4\" \n",
      " \"_15298D41-D5E5-464F-A96D-01FFCF0DA7DB\" \n",
      " \"_8BE8D3EA-EEE9-406C-B24C-B169C8EC799A\" \n",
      " \"_FF3DE145-0066-4C1F-867C-2A2BF3012EDF\" \n",
      " \"_169CB0D6-0002-457F-9594-7FEB09DA102D\" \n",
      " \"_F1D6C919-22FA-4E94-81B1-36823F5A9FF5\" \n",
      " \"_1D81C7FE-E88F-41E3-A900-476CA6476CCD\" \n",
      " \"_2847E06B-C8ED-41E6-B515-C61C9E8EB4B4\" \n",
      " \"_02217298-AD5B-463C-A912-957740214701\" \n",
      " \"_2F5C9D9B-8CC5-4636-8BC8-2AC78F01F5BC\" \n",
      " \"_02CD5661-C654-43F6-8D1A-0D666070BB81\" \n",
      " \"_5A1120EE-0F2A-4698-9FF5-0F0F4F507BAF\" \n",
      " \"_9AC596A8-D859-48F3-A286-D2533F9B9733\" \n",
      " \"_EC150DA0-864E-4C61-B681-3CF27AB27B82\" \n",
      " \"_F5258B9A-B51E-40DD-9A06-5918E41F3C35\" \n",
      " \"_F8856652-20FB-4760-874D-3D785E91A83E\" \n",
      " \"_A4B4C25C-8744-4B8B-A612-19B80AFA110D\" \n",
      " \"_CCC4E540-46CC-422C-98DA-32898FD31637\" \n",
      " \"_B4E1784C-5500-47AE-958B-A286CE8C17A5\" \n",
      " \"_CD147977-45B7-48AD-9F72-4F488BD6AD6D\" \n",
      " \"_90D2243E-05D4-432C-A23B-A6B8D732B027\" \n",
      " \"_8C674F14-D9FF-4B1C-B246-1235022CD4C2\" \n",
      " \"_8E29BA3D-9523-446F-BD9F-989D8182A723\" \n",
      " \"_9D06670E-F8AD-46A1-9854-BBA7ADAF1CF0\" \n",
      " \"_F9439A87-D8E9-406F-ADD3-336B29B8BCEA\" \n",
      " \"_9CA4064A-AACD-49DB-9296-7ADC7E195358\" \n",
      " \"_233304A2-B68B-4EC3-A692-4735DE495569\" \n",
      " \"_EA5FF2C4-F7E1-436D-BDEC-1C48D4DBB50D\" \n",
      " \"_0A29AEF0-5F49-47AE-A413-9308AA61B72B\" \n",
      " \"_83481773-E9FC-4720-89B4-796C5081D518\" \n",
      " \"_02A67D2E-58FF-4CAB-9A85-4346E9E08F1B\" \n",
      " \"_FD3834FF-6C3B-434F-A41D-77EB8237F53D\" \n",
      " \"_000BA1F2-6879-47D7-826D-3CACD23EE20B\" \n",
      " \"_3589A9BE-F3BE-45C3-B84E-3CE5B6105D11\" \n",
      " \"_5B38070B-E918-4EAA-8BDB-8B3CE4F8A917\" \n",
      " \"_5EDB2918-D669-457C-9F44-E08EBA5AC850\" \n",
      " \"_B554744A-F5B5-485C-B67E-2487A8740295\" \n",
      " \"_3313C5A7-ED81-47D3-8114-AD654A5DE21B\" \n",
      " \"_8692A804-428A-4637-BD47-69C76F873DAB\" \n",
      " \"_272D015C-A83B-457C-8109-5E78E92CB6E4\" \n",
      " \"_D0BA8E68-F269-4382-B1D0-8EA25663C9AA\" \n",
      " \"_DD4717B2-5FCD-4E67-9BC8-DD307B80AFEA\" \n",
      " \"_EBAEF4A4-5D80-4FAD-A133-AA18607F3C31\" \n",
      " \"_337F7A56-C530-4F05-8586-940E8460993A\" \n",
      " \"_A55AC772-D3F2-48AF-8C84-E80F43198C72\" \n",
      " \"_A4C58654-2972-4A3E-AE65-3868941DA037\" \n",
      " \"_BC623628-BD23-4A1A-A406-15CA63556149\" \n",
      " \"_F3A001BA-C6BE-450E-B572-B6D5819808EA\" \n",
      " \"_F421B562-1AF9-42C1-8906-D80CABA91FC4\" \n",
      " \"_A6C57C2E-A084-4701-ADF5-FB6F3E36F45C\" \n",
      " \"_F0E10483-D8AD-46BE-AF5F-08228955796B\" \n",
      "               }\n",
      "        ?eq cim:IdentifiedObject.mRID ?mRID.\n",
      "        {?eq (cim:|!cim:) ?val.\n",
      "         ?eq ?attr ?val.}\n",
      "        UNION\n",
      "        {?val (cim:|!cim:) ?eq.\n",
      "         ?val ?attr ?eq.}\n",
      "\n",
      "        {bind(strafter(str(?attr),\"#\") as ?attribute)}\n",
      "        {bind(strafter(str(?val),\"http://localhost:8889/bigdata/namespace/kb/sparql#\") as ?uri)}\n",
      "        {bind(if(?uri = \"\", ?val, ?uri) as ?value)}\n",
      "\n",
      "        OPTIONAL {?val a ?classraw.\n",
      "                  bind(strafter(str(?classraw),\"http://iec.ch/TC57/CIM100#\") as ?edge_class)\n",
      "                  {bind(strafter(str(?val),\"http://localhost:8889/bigdata/namespace/kb/sparql#\") as ?uri)}\n",
      "                  OPTIONAL {?val cim:IdentifiedObject.mRID ?edge_id.}\n",
      "                  bind(exists{?val cim:IdentifiedObject.mRID ?edge_id} as ?mRID_exists)\n",
      "                 {bind(if(?mRID_exists, ?edge_id, ?uri) as ?edge_mRID)}.\n",
      "\n",
      "                  bind(concat(\"{\\\"@id\\\":\\\"\", ?edge_mRID,\"\\\",\\\"@type\\\":\\\"\", ?edge_class, \"\\\"}\") as ?edge)}\n",
      "        }\n",
      "\n",
      "        ORDER by  ?mRID ?attribute\n",
      "        \n"
     ]
    }
   ],
   "source": [
    "print(query)"
   ]
  },
  {
   "cell_type": "code",
   "execution_count": null,
   "metadata": {},
   "outputs": [],
   "source": [
    "query_output = network.connection.execute(query)"
   ]
  },
  {
   "cell_type": "code",
   "execution_count": null,
   "metadata": {},
   "outputs": [],
   "source": []
  },
  {
   "cell_type": "code",
   "execution_count": null,
   "metadata": {},
   "outputs": [],
   "source": [
    "for result in query_output['results']['bindings']:\n",
    "    "
   ]
  },
  {
   "cell_type": "code",
   "execution_count": null,
   "metadata": {},
   "outputs": [],
   "source": [
    "result"
   ]
  },
  {
   "cell_type": "code",
   "execution_count": null,
   "metadata": {},
   "outputs": [],
   "source": []
  }
 ],
 "metadata": {
  "kernelspec": {
   "display_name": ".venv",
   "language": "python",
   "name": "python3"
  },
  "language_info": {
   "codemirror_mode": {
    "name": "ipython",
    "version": 3
   },
   "file_extension": ".py",
   "mimetype": "text/x-python",
   "name": "python",
   "nbconvert_exporter": "python",
   "pygments_lexer": "ipython3",
   "version": "3.10.12"
  }
 },
 "nbformat": 4,
 "nbformat_minor": 2
}
