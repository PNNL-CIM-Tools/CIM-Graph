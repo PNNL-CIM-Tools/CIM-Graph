{
 "cells": [
  {
   "cell_type": "code",
   "execution_count": 1,
   "metadata": {},
   "outputs": [],
   "source": [
    "from cimgraph.databases import BlazegraphConnection\n",
    "from cimgraph.models import FeederModel\n",
    "from cimgraph.models import DistributedArea\n",
    "import cimgraph.queries.sparql as sparql\n",
    "import cimgraph.utils as utils\n",
    "import cimgraph.data_profile.cimhub_2023 as cim\n",
    "from uuid import UUID\n",
    "import os\n",
    "import json"
   ]
  },
  {
   "cell_type": "code",
   "execution_count": 2,
   "metadata": {},
   "outputs": [],
   "source": [
    "# Set Environ Variables\n",
    "os.environ['CIMG_CIM_PROFILE'] = 'cimhub_2023'\n",
    "os.environ['CIMG_URL'] = 'http://localhost:8889/bigdata/namespace/kb/sparql'\n",
    "os.environ['CIMG_DATABASE'] = 'powergridmodel'\n",
    "os.environ['CIMG_HOST'] = 'localhost'\n",
    "os.environ['CIMG_PORT'] = '61613'\n",
    "os.environ['CIMG_USERNAME'] = 'test_app_user'\n",
    "os.environ['CIMG_PASSWORD'] = '4Test'\n",
    "os.environ['CIMG_NAMESPACE'] = 'http://iec.ch/TC57/CIM100#'\n",
    "os.environ['CIMG_IEC61970_301'] = '8'\n",
    "os.environ['CIMG_USE_UNITS'] = 'False'"
   ]
  },
  {
   "cell_type": "code",
   "execution_count": 3,
   "metadata": {},
   "outputs": [],
   "source": [
    "# Connect to Blazegraph\n",
    "database = BlazegraphConnection()"
   ]
  },
  {
   "cell_type": "code",
   "execution_count": null,
   "metadata": {},
   "outputs": [],
   "source": [
    "feeder_mrid = \"49AD8E07-3BF9-A4E2-CB8F-C3722F837B62\""
   ]
  },
  {
   "cell_type": "code",
   "execution_count": 15,
   "metadata": {},
   "outputs": [
    {
     "data": {
      "text/plain": [
       "'\\n        PREFIX r:  <http://www.w3.org/1999/02/22-rdf-syntax-ns#>\\n        PREFIX cim:  <http://iec.ch/TC57/CIM100#>\\n        SELECT DISTINCT ?identifier ?obj_class\\n        WHERE {\\n          \\n    VALUES ?identifier {\"49AD8E07-3BF9-A4E2-CB8F-C3722F837B62\"}\\n        bind(iri(concat(\"urn:uuid:\", ?identifier)) as ?eq)\\n\\n        ?eq a ?classraw.\\n        bind(strafter(str(?classraw),\"http://iec.ch/TC57/CIM100#\") as ?obj_class)\\n        }\\n        ORDER by  ?identifier\\n        '"
      ]
     },
     "execution_count": 15,
     "metadata": {},
     "output_type": "execute_result"
    }
   ],
   "source": [
    "query = sparql.get_object_sparql(mRID=feeder_mrid)\n",
    "(query)"
   ]
  },
  {
   "cell_type": "code",
   "execution_count": 16,
   "metadata": {},
   "outputs": [
    {
     "data": {
      "text/plain": [
       "'{\"@id\": \"49ad8e07-3bf9-a4e2-cb8f-c3722f837b62\", \"@type\": \"Feeder\"}'"
      ]
     },
     "execution_count": 16,
     "metadata": {},
     "output_type": "execute_result"
    }
   ],
   "source": [
    "feeder = database.get_object(mRID=feeder_mrid)\n",
    "feeder.__str__()"
   ]
  },
  {
   "cell_type": "code",
   "execution_count": 7,
   "metadata": {},
   "outputs": [],
   "source": [
    "network = FeederModel(connection=database, container=feeder, distributed=False)"
   ]
  },
  {
   "cell_type": "code",
   "execution_count": 21,
   "metadata": {},
   "outputs": [],
   "source": [
    "from cimgraph import utils\n",
    "utils.get_all_line_data(network)"
   ]
  },
  {
   "cell_type": "code",
   "execution_count": 22,
   "metadata": {},
   "outputs": [
    {
     "data": {
      "text/plain": [
       "21"
      ]
     },
     "execution_count": 22,
     "metadata": {},
     "output_type": "execute_result"
    }
   ],
   "source": [
    "len(network.graph.keys())"
   ]
  },
  {
   "cell_type": "code",
   "execution_count": 17,
   "metadata": {},
   "outputs": [
    {
     "data": {
      "text/plain": [
       "'\\n        PREFIX r:  <http://www.w3.org/1999/02/22-rdf-syntax-ns#>\\n        PREFIX cim:  <http://iec.ch/TC57/CIM100#>\\n        SELECT DISTINCT ?ConnectivityNode ?Terminal ?Equipment\\n        WHERE {\\n          \\n        VALUES ?identifier {\"49AD8E07-3BF9-A4E2-CB8F-C3722F837B62\"}\\n        bind(iri(concat(\"urn:uuid:\", ?identifier)) as ?c).\\n             {\\n\\n        ?node cim:ConnectivityNode.ConnectivityNodeContainer ?c.\\n        ?t cim:Terminal.ConnectivityNode ?node.\\n        ?t cim:Terminal.ConductingEquipment ?eq.\\n        ?eq a ?eq_cls.\\n\\n        bind(strafter(str(?node),\"urn:uuid:\") as ?ConnectivityNode).\\n        bind(strafter(str(?t),\"urn:uuid:\") as ?Terminal).\\n        bind(strafter(str(?eq),\"urn:uuid:\") as ?eq_id).\\n\\n        bind(concat(\"{\\\\\"@id\\\\\":\\\\\"\", str(?eq_id),\"\\\\\",\\\\\"@type\\\\\":\\\\\"\",strafter(str(?eq_cls),\"http://iec.ch/TC57/CIM100#\"), \"\\\\\"}\") as ?Equipment)\\n        }\\n        \\n        UNION\\n        {\\n        {?eq cim:Equipment.EquipmentContainer ?c.}\\n        UNION\\n        {?eq cim:Equipment.AdditionalEquipmentContainer ?c.}\\n        OPTIONAL {\\n            ?t cim:Terminal.ConductingEquipment ?eq.\\n            ?t cim:Terminal.ConnectivityNode ?node.\\n            }\\n        ?eq a ?eq_cls.\\n\\n        bind(strafter(str(?node),\"urn:uuid:\") as ?ConnectivityNode).\\n        bind(strafter(str(?t),\"urn:uuid:\") as ?Terminal).\\n        bind(strafter(str(?eq),\"urn:uuid:\") as ?eq_id).\\n\\n        bind(concat(\"{\\\\\"@id\\\\\":\\\\\"\", str(?eq_id),\"\\\\\",\\\\\"@type\\\\\":\\\\\"\",strafter(str(?eq_cls),\"http://iec.ch/TC57/CIM100#\"), \"\\\\\"}\") as ?Equipment)\\n        }\\n        }\\n        ORDER by ?ConnectivityNode\\n        '"
      ]
     },
     "execution_count": 17,
     "metadata": {},
     "output_type": "execute_result"
    }
   ],
   "source": [
    "sparql.get_all_nodes_from_container(feeder)"
   ]
  },
  {
   "cell_type": "code",
   "execution_count": 18,
   "metadata": {},
   "outputs": [],
   "source": [
    "network.get_all_edges(cim.ACLineSegment)"
   ]
  },
  {
   "cell_type": "code",
   "execution_count": 36,
   "metadata": {},
   "outputs": [
    {
     "data": {
      "text/plain": [
       "'{\"@id\": \"94fcafff-e5f7-4f97-b697-35c46656edca\", \"@type\": \"ACLineSegmentPhase\", \"name\": \"645646_C\", \"Location\": {\"@id\": \"89c21411-d107-454a-93b0-0905893dd27d\", \"@type\": \"Location\"}, \"sequenceNumber\": \"1\", \"phase\": \"SinglePhaseKind.C\", \"ACLineSegment\": {\"@id\": \"0bbd0ea3-f665-465b-86fd-fc8b8466ad53\", \"@type\": \"ACLineSegment\"}}'"
      ]
     },
     "execution_count": 36,
     "metadata": {},
     "output_type": "execute_result"
    }
   ],
   "source": [
    "line = network.graph[cim.ACLineSegment][UUID('0bbd0ea3-f665-465b-86fd-fc8b8466ad53')]\n",
    "phase = line.ACLineSegmentPhases[0]\n",
    "phase.__str__()"
   ]
  },
  {
   "cell_type": "code",
   "execution_count": null,
   "metadata": {},
   "outputs": [
    {
     "data": {
      "text/plain": [
       "'645646_C'"
      ]
     },
     "execution_count": 39,
     "metadata": {},
     "output_type": "execute_result"
    }
   ],
   "source": [
    "phase."
   ]
  },
  {
   "cell_type": "code",
   "execution_count": null,
   "metadata": {},
   "outputs": [],
   "source": [
    "from cimgraph.models.distributed_area import AddressableEquipment, UnaddressableEquipment\n",
    "AddrEquip = AddressableEquipment(cim)\n",
    "UnaddrEquip = UnaddressableEquipment(cim)"
   ]
  },
  {
   "cell_type": "code",
   "execution_count": null,
   "metadata": {},
   "outputs": [],
   "source": [
    "addressable_equipment = []\n",
    "unaddressable_equipment = []\n",
    "AddrEquip.identify_addressable(addressable_equipment=addressable_equipment, graph=network.distributed_areas[0].graph)\n",
    "UnaddrEquip.identify_unaddressable(unaddressable_equipment=unaddressable_equipment, graph=network.distributed_areas[0].graph)"
   ]
  },
  {
   "cell_type": "code",
   "execution_count": null,
   "metadata": {},
   "outputs": [],
   "source": [
    "addressable_equipment"
   ]
  },
  {
   "cell_type": "code",
   "execution_count": null,
   "metadata": {},
   "outputs": [],
   "source": [
    "for mrid in [\"52DE9189-20DC-4C73-BDEE-E960FE1F9493\",\n",
    "   \"43EF8365-F932-409B-A51E-FBED3F6DFFAA\",\n",
    "   \"2858B6C2-0886-4269-884C-06FA8B887319\",\n",
    "   \"517413CB-6977-46FA-8911-C82332E42884\",\n",
    "   \"CE5D0651-676B-4AF3-8D67-41BF1B33E30C\",\n",
    "   \"517413CB-6977-46FA-8911-C82332E42884\",\n",
    "   \"2858B6C2-0886-4269-884C-06FA8B887319\"]:\n",
    "    obj = database.get_object(mrid=mrid)\n",
    "    print(obj)"
   ]
  },
  {
   "cell_type": "code",
   "execution_count": null,
   "metadata": {},
   "outputs": [],
   "source": [
    "for cim_class in network.feeder_area_context.graph:\n",
    "    print(cim_class.__name__)"
   ]
  },
  {
   "cell_type": "code",
   "execution_count": null,
   "metadata": {},
   "outputs": [],
   "source": [
    "feeder_area = cim.FeederArea(mRID = \"b6373777-16cb-45d7-9bf0-6f51d91cf949\")\n"
   ]
  },
  {
   "cell_type": "code",
   "execution_count": null,
   "metadata": {},
   "outputs": [],
   "source": [
    "print(sparql.get_triple_sparql(feeder, 'Feeder.FeederArea', params))"
   ]
  },
  {
   "cell_type": "code",
   "execution_count": null,
   "metadata": {},
   "outputs": [],
   "source": [
    "database.get_from_triple(feeder, \"Feeder.FeederArea\")"
   ]
  },
  {
   "cell_type": "code",
   "execution_count": null,
   "metadata": {},
   "outputs": [],
   "source": []
  },
  {
   "cell_type": "code",
   "execution_count": null,
   "metadata": {},
   "outputs": [],
   "source": [
    "qwery"
   ]
  },
  {
   "cell_type": "code",
   "execution_count": null,
   "metadata": {},
   "outputs": [],
   "source": []
  },
  {
   "cell_type": "code",
   "execution_count": null,
   "metadata": {},
   "outputs": [],
   "source": []
  },
  {
   "cell_type": "code",
   "execution_count": null,
   "metadata": {},
   "outputs": [],
   "source": [
    "cim_profile = 'rc4_2021'\n",
    "import  cimgraph.data_profile.rc4_2021 as cim1\n",
    "from cimgraph.databases import ConnectionParameters\n",
    "from cimgraph.databases import BlazegraphConnection\n",
    "from cimgraph.models import FeederModel\n",
    "params = ConnectionParameters(url = \"http://localhost:8889/bigdata/namespace/kb/sparql\", cim_profile=cim_profile, iec61970_301=7)\n",
    "database = BlazegraphConnection(params)"
   ]
  },
  {
   "cell_type": "code",
   "execution_count": null,
   "metadata": {},
   "outputs": [],
   "source": [
    "feeder_mrid = \"_49AD8E07-3BF9-A4E2-CB8F-C3722F837B62\"\n",
    "feeder = database.get_object(mrid=feeder_mrid)\n",
    "network = FeederModel(connection=database, container=feeder, distributed=False)"
   ]
  },
  {
   "cell_type": "code",
   "execution_count": null,
   "metadata": {},
   "outputs": [],
   "source": [
    "utils.get_all_data(network)"
   ]
  },
  {
   "cell_type": "code",
   "execution_count": null,
   "metadata": {},
   "outputs": [],
   "source": [
    "for inverter in network.graph[cim.EnergyConsumer].values():\n",
    "    print(inverter.name)\n",
    "    for meas in inverter.Measurements:\n",
    "        print('seq:', meas.Terminal.sequenceNumber, meas.measurementType, meas.phases, meas.name)"
   ]
  },
  {
   "cell_type": "code",
   "execution_count": null,
   "metadata": {},
   "outputs": [],
   "source": [
    "for meas in network.graph[cim.EnergyConsumer][UUID('47e52220-4596-4af0-9724-0167b72a4db8')].Measurements:\n",
    "    print('seq:', meas.Terminal.sequenceNumber, meas.measurementType, meas.phases, meas.name)\n"
   ]
  },
  {
   "cell_type": "code",
   "execution_count": null,
   "metadata": {},
   "outputs": [],
   "source": [
    "for meas in network.graph[cim.ACLineSegment][UUID('0bbd0ea3-f665-465b-86fd-fc8b8466ad53')].Measurements:\n",
    "    print('seq:', meas.Terminal.sequenceNumber, meas.measurementType, meas.phases, meas.name)\n",
    "    # meas.pprint()"
   ]
  },
  {
   "cell_type": "code",
   "execution_count": null,
   "metadata": {},
   "outputs": [],
   "source": [
    "network.pprint(cim.Discrete)"
   ]
  },
  {
   "cell_type": "code",
   "execution_count": null,
   "metadata": {},
   "outputs": [],
   "source": [
    "database.get_object(\"_67B57539-590B-4158-9CBB-9DBA2FE6C1F0\")"
   ]
  },
  {
   "cell_type": "code",
   "execution_count": null,
   "metadata": {},
   "outputs": [],
   "source": []
  },
  {
   "cell_type": "code",
   "execution_count": null,
   "metadata": {},
   "outputs": [],
   "source": [
    "network.get_all_edges(cim.Terminal)"
   ]
  },
  {
   "cell_type": "code",
   "execution_count": null,
   "metadata": {},
   "outputs": [],
   "source": [
    "for switch in network.graph.get(cim.Sectionaliser, {}).values():\n",
    "    print(switch.name, switch.Terminals[0].sequenceNumber)\n",
    "    print(switch.name, switch.Terminals[1].sequenceNumber)"
   ]
  },
  {
   "cell_type": "code",
   "execution_count": null,
   "metadata": {},
   "outputs": [],
   "source": [
    "utils.get_all_data(network)"
   ]
  },
  {
   "cell_type": "code",
   "execution_count": null,
   "metadata": {},
   "outputs": [],
   "source": [
    "# feeder_mrids = [\"_49AD8E07-3BF9-A4E2-CB8F-C3722F837B62\", # 13 bus\n",
    "#                 \"_C1C3E687-6FFD-C753-582B-632A27E28507\",  # 123 bus\n",
    "#                 \"_5B816B93-7A5F-B64C-8460-47C17D6E4B0F\"] # 13 bus asets\n",
    "#                 # \"_4F76A5F9-271D-9EB8-5E31-AA362D86F2C3\",  # 8500 node\n",
    "#                 # \"_67AB291F-DCCD-31B7-B499-338206B9828F\", # J1\n",
    "#                 # \"_9CE150A8-8CC5-A0F9-B67E-BBD8C79D3095\"]  # R2 12.47 3\n",
    "# # feeder_mrid = \"_EE71F6C9-56F0-4167-A14E-7F4C71F10EAA\" #9500 node\n",
    "# # feeder_mrid = \"_9E985101-27AD-4FE4-B36A-EBECC98CDFAB\" #MAPLE 10 bus\n",
    "# for feeder_mrid in feeder_mrids:\n",
    "#     print(feeder_mrid)\n",
    "#     feeder = cim.Feeder(mRID = feeder_mrid)\n",
    "#     network = FeederModel(connection=connection, container=feeder, distributed=False)\n",
    "#     utils.get_all_data(network)"
   ]
  },
  {
   "cell_type": "code",
   "execution_count": null,
   "metadata": {},
   "outputs": [],
   "source": [
    "substation=cim.Substation(mRID='_B1D29E92-5F08-4DB8-8298-3F9DF829C037')\n",
    "SubstationArea = DistributedArea(connection=database, container=substation,distributed=True)\n",
    "SubstationArea.get_all_edges(cim.Substation)\n",
    "# SubstationArea.get_all_edges(cim.ConnectivityNode)\n",
    "# SubstationArea.get_all_edges(cim.PowerTransformer)\n",
    "# SubstationArea.get_all_edges(cim.EnergyConsumer)\n",
    "# SubstationArea.get_all_attributes(cim.SubGeographicalRegion)\n",
    "# SubstationArea.get_all_edges(cim.VoltageLevel)\n",
    "# SubstationArea.get_all_edges(cim.PowerTransformerEnd)\n",
    "# SubstationArea.get_all_edges(cim.Terminal)\n",
    "# SubstationArea.get_all_edges(cim.TransformerCoreAdmittance)\n",
    "# SubstationArea.get_all_attributes(cim.BaseVoltage)\n",
    "# SubstationArea.get_all_edges(cim.TransformerMeshImpedance)\n",
    "# SubstationArea.get_all_attributes(cim.LoadResponseCharacteristic)\n",
    "utils.write_xml(SubstationArea, '/home/ande188/sub.xml')\n",
    "import time\n",
    "time.sleep(5)\n"
   ]
  },
  {
   "cell_type": "code",
   "execution_count": null,
   "metadata": {},
   "outputs": [],
   "source": [
    "substation"
   ]
  },
  {
   "cell_type": "code",
   "execution_count": null,
   "metadata": {},
   "outputs": [],
   "source": [
    "utils.get_all_data(SubstationArea)\n",
    "utils.write_xml(SubstationArea, '/home/ande188/sub.xml')"
   ]
  },
  {
   "cell_type": "code",
   "execution_count": null,
   "metadata": {},
   "outputs": [],
   "source": []
  },
  {
   "cell_type": "code",
   "execution_count": null,
   "metadata": {},
   "outputs": [],
   "source": [
    "a"
   ]
  },
  {
   "cell_type": "code",
   "execution_count": null,
   "metadata": {},
   "outputs": [],
   "source": [
    "feeder_mrid = \"_49AD8E07-3BF9-A4E2-CB8F-C3722F837B62\"\n",
    "feeder = cim.Feeder(mRID = feeder_mrid)\n",
    "network = FeederModel(connection=database, container=feeder, distributed=False)\n"
   ]
  },
  {
   "cell_type": "code",
   "execution_count": null,
   "metadata": {},
   "outputs": [],
   "source": [
    "network.pprint(cim.ConnectivityNode)"
   ]
  },
  {
   "cell_type": "code",
   "execution_count": null,
   "metadata": {},
   "outputs": [],
   "source": [
    "cim.ConnectivityNode in None"
   ]
  },
  {
   "cell_type": "code",
   "execution_count": null,
   "metadata": {},
   "outputs": [],
   "source": [
    "network.get_all_edges(cim.ACLineSegment)\n",
    "network.get_all_attributes(cim.BaseVoltage)\n",
    "network.pprint(cim.BaseVoltage)"
   ]
  },
  {
   "cell_type": "code",
   "execution_count": null,
   "metadata": {},
   "outputs": [],
   "source": [
    "utils.get_all_data(network)"
   ]
  },
  {
   "cell_type": "code",
   "execution_count": null,
   "metadata": {},
   "outputs": [],
   "source": [
    "network.pprint(cim.Substation)"
   ]
  },
  {
   "cell_type": "code",
   "execution_count": null,
   "metadata": {},
   "outputs": [],
   "source": [
    "print(network.get_edges_query(cim.Feeder))\n"
   ]
  },
  {
   "cell_type": "code",
   "execution_count": null,
   "metadata": {},
   "outputs": [],
   "source": [
    "with open(\"topo_message.json\") as topo:\n",
    "    topo_msg = json.load(topo)"
   ]
  },
  {
   "cell_type": "code",
   "execution_count": null,
   "metadata": {},
   "outputs": [],
   "source": [
    "central_network = FeederModel(connection=database, container=feeder, distributed=False)\n",
    "\n",
    "dist_network_2 =  FeederModel(connection=database, container=feeder, distributed=True)\n",
    "\n",
    "dist_network_3 =  FeederModel(connection=database, container=feeder, distributed=True, topology_message=topo_msg)"
   ]
  },
  {
   "cell_type": "code",
   "execution_count": null,
   "metadata": {},
   "outputs": [],
   "source": [
    "# counter = 0\n",
    "# for switch_area in dist_network_2.distributed_areas:\n",
    "#     # switch_area.pprint(cim.ConnectivityNode)\n",
    "#     # switch_area.get_all_edges(cim.Conn)\n",
    "\n",
    "#     utils.get_all_bus_data(switch_area)\n",
    "#     utils.get_all_line_data(switch_area)\n",
    "#     utils.get_all_load_data(switch_area)\n",
    "#     utils.get_all_inverter_data(switch_area)\n",
    "#     utils.get_all_switch_data(switch_area)\n",
    "#     utils.get_all_transformer_data(switch_area)\n",
    "#     utils.get_all_location_data(switch_area)\n",
    "#     utils.get_all_measurement_data(switch_area)\n",
    "#     # switch_area.get_all_edges(cim.BaseVoltage)\n",
    "#     utils.write_xml(switch_area, filename=f'./test_output/switch_area.{counter}.xml')\n",
    "#     counter += 1\n",
    "\n",
    "\n",
    "#     for sec_area in switch_area.distributed_areas:\n",
    "#         # utils.get_all_data(sec_area)\n",
    "#         pass"
   ]
  },
  {
   "cell_type": "code",
   "execution_count": null,
   "metadata": {},
   "outputs": [],
   "source": [
    "# for switch_area in dist_network_3.distributed_areas:\n",
    "#     utils.get_all_data(switch_area)\n",
    "#     for sec_area in switch_area.distributed_areas:\n",
    "#         utils.get_all_data(sec_area)"
   ]
  },
  {
   "cell_type": "code",
   "execution_count": null,
   "metadata": {},
   "outputs": [],
   "source": []
  },
  {
   "cell_type": "code",
   "execution_count": null,
   "metadata": {},
   "outputs": [],
   "source": [
    "from cimgraph.models import DistributedArea\n",
    "\n",
    "container = cim.EquipmentContainer(mRID=feeder_mrid)\n",
    "feeder_area = DistributedArea(container, database, distributed=True)\n",
    "feeder_area.build_from_topo_message(topo_msg['feeders'])\n",
    "\n",
    "feeder_area.get_all_edges(cim.ConnectivityNode)\n",
    "for node in feeder_area.graph[cim.ConnectivityNode].values():\n",
    "    print(node.name)\n",
    "\n",
    "\n"
   ]
  },
  {
   "cell_type": "code",
   "execution_count": null,
   "metadata": {},
   "outputs": [],
   "source": [
    "counter = 0\n",
    "for switch_topo in topo_msg['feeders']['switch_areas']:\n",
    "    print('switch area', counter)\n",
    "    container = cim.EquipmentContainer(mRID=feeder_mrid+'.'+str(counter))\n",
    "    SwitchArea = DistributedArea(container, database, distributed=True)\n",
    "    SwitchArea.build_from_topo_message(switch_topo)\n",
    "    counter = counter + 1\n",
    "\n",
    "    SwitchArea.get_all_edges(cim.ConnectivityNode)\n",
    "    for node in SwitchArea.graph[cim.ConnectivityNode].values():\n",
    "        print(node.name)"
   ]
  },
  {
   "cell_type": "code",
   "execution_count": null,
   "metadata": {},
   "outputs": [],
   "source": [
    "sw_counter = -1\n",
    "for switch_topo in topo_msg['feeders']['switch_areas']:\n",
    "    sw_counter +=1\n",
    "    sa_counter = -1\n",
    "    for sec_topo in switch_topo['secondary_areas']:\n",
    "        sa_counter +=1\n",
    "        area_id = str(sw_counter) + '.' + str(sa_counter)\n",
    "        print('sec area', counter)\n",
    "        container = cim.EquipmentContainer(mRID=area_id)\n",
    "        SecondaryArea = DistributedArea(container, database, distributed=True)\n",
    "        SecondaryArea.build_from_topo_message(sec_topo)\n",
    "\n",
    "        SecondaryArea.get_all_edges(cim.ConnectivityNode)\n",
    "        for node in SecondaryArea.graph[cim.ConnectivityNode].values():\n",
    "            print(node.name)\n",
    "    "
   ]
  },
  {
   "cell_type": "code",
   "execution_count": null,
   "metadata": {},
   "outputs": [],
   "source": [
    "from cimgraph.databases import ConnectionParameters\n",
    "from cimgraph.databases import BlazegraphConnection\n",
    "import cimgraph.data_profile.cim17v40 as cim\n",
    "params = ConnectionParameters(url = \"http://localhost:8889/bigdata/namespace/kb/sparql\", cim_profile='cimhub_2023', iec61970_301=8)\n",
    "database = BlazegraphConnection(params)"
   ]
  },
  {
   "cell_type": "code",
   "execution_count": null,
   "metadata": {},
   "outputs": [],
   "source": [
    "from cimgraph.models import FeederModel\n",
    "feeder_mrid = \"49AD8E07-3BF9-A4E2-CB8F-C3722F837B62\"\n",
    "feeder = cim.Feeder(mRID = feeder_mrid)\n",
    "network = FeederModel(connection=database, container=feeder, distributed=False)"
   ]
  },
  {
   "cell_type": "code",
   "execution_count": null,
   "metadata": {},
   "outputs": [],
   "source": [
    "query = network.get_edges_query(cim.Terminal)"
   ]
  },
  {
   "cell_type": "code",
   "execution_count": null,
   "metadata": {},
   "outputs": [],
   "source": [
    "dist_network_2 =  FeederModel(connection=database, container=feeder, distributed=True)\n"
   ]
  },
  {
   "cell_type": "code",
   "execution_count": null,
   "metadata": {},
   "outputs": [],
   "source": []
  },
  {
   "cell_type": "code",
   "execution_count": null,
   "metadata": {},
   "outputs": [],
   "source": [
    "dist_network_2.distributed_areas"
   ]
  },
  {
   "cell_type": "code",
   "execution_count": null,
   "metadata": {},
   "outputs": [],
   "source": [
    "\"message\": {\n",
    "    \"timestamp\": \"1248159984\",\n",
    "    \"measurements\": {\n",
    "        \"_00125ca3-12ca-4b8b-a148-c60e03aa7f9f\": {\n",
    "            \"measurement_mrid\": \"_00125ca3-12ca-4b8b-a148-c60e03aa7f9f\",\n",
    "            \"magnitude\": 78103.82848323896,\n",
    "            \"angle\": -99.22044324389712\n",
    "        },\n",
    "        \"_0032c3cd-5dec-4944-b1bc-b97b3ec646fc\": {\n",
    "            \"measurement_mrid\": \"_0032c3cd-5dec-4944-b1bc-b97b3ec646fc\",\n",
    "            \"magnitude\": 2284.5940488360206,\n",
    "            \"angle\": -2.8059748340329578\n",
    "        }\n",
    "    }\n",
    "}"
   ]
  },
  {
   "cell_type": "code",
   "execution_count": null,
   "metadata": {},
   "outputs": [],
   "source": []
  },
  {
   "cell_type": "code",
   "execution_count": null,
   "metadata": {},
   "outputs": [],
   "source": []
  },
  {
   "cell_type": "code",
   "execution_count": null,
   "metadata": {},
   "outputs": [],
   "source": []
  },
  {
   "cell_type": "code",
   "execution_count": null,
   "metadata": {},
   "outputs": [],
   "source": [
    "line = network.graph[cim.ACLineSegment]['uuid']\n",
    "\n",
    "from_bus = line.Terminals[0].ConnectivityNode\n",
    "to_bus = line.Terminals[1].ConnectivityNode\n",
    "\n"
   ]
  },
  {
   "cell_type": "code",
   "execution_count": null,
   "metadata": {},
   "outputs": [],
   "source": []
  },
  {
   "cell_type": "code",
   "execution_count": null,
   "metadata": {},
   "outputs": [],
   "source": [
    "# \"What is the total amount of solar in the feeder ABC?\"\n",
    "\n",
    "feeder_mrid = \"ABC\"\n",
    "feeder = cim.Feeder(mRID = feeder_mrid)\n",
    "network = FeederModel(connection=database, container=feeder, distributed=False)\n",
    "\n",
    "utils.get_all_data(network)\n",
    "\n",
    "total_pv = 0\n",
    "\n",
    "for inverter in network.graph[cim.PowerElectronicsConnection].values():\n",
    "    \n",
    "    total_pv += inverter.PowerElectronicsUnit.maxP"
   ]
  },
  {
   "cell_type": "code",
   "execution_count": null,
   "metadata": {},
   "outputs": [],
   "source": [
    "graph = {}"
   ]
  },
  {
   "cell_type": "code",
   "execution_count": null,
   "metadata": {},
   "outputs": [],
   "source": [
    "\n",
    "obj = database.create_object(graph, cim.GeographicalRegion, \"73C512BD-7249-4F50-50DA-D93849B89C43\")\n",
    "setattr(obj, \"mRID\", \"73C512BD-7249-4F50-50DA-D93849B89C43\")\n",
    "setattr(obj, \"name\", \"IEEE\")"
   ]
  },
  {
   "cell_type": "code",
   "execution_count": null,
   "metadata": {},
   "outputs": [],
   "source": []
  }
 ],
 "metadata": {
  "kernelspec": {
   "display_name": ".venv",
   "language": "python",
   "name": "python3"
  },
  "language_info": {
   "codemirror_mode": {
    "name": "ipython",
    "version": 3
   },
   "file_extension": ".py",
   "mimetype": "text/x-python",
   "name": "python",
   "nbconvert_exporter": "python",
   "pygments_lexer": "ipython3",
   "version": "3.10.12"
  }
 },
 "nbformat": 4,
 "nbformat_minor": 2
}
