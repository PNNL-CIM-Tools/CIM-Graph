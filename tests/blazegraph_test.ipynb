{
 "cells": [
  {
   "cell_type": "code",
   "execution_count": 5,
   "metadata": {},
   "outputs": [],
   "source": [
    "import json\n",
    "cim_profile = 'cimhub_2023'\n",
    "import cimgraph.data_profile.cimhub_2023 as cim\n",
    "from uuid import UUID"
   ]
  },
  {
   "cell_type": "code",
   "execution_count": 6,
   "metadata": {},
   "outputs": [],
   "source": [
    "from cimgraph.databases import ConnectionParameters\n",
    "from cimgraph.databases import BlazegraphConnection\n",
    "from cimgraph.models import FeederModel\n",
    "from cimgraph.models import DistributedArea\n",
    "import cimgraph.queries.sparql as sparql\n",
    "import cimgraph.utils as utils"
   ]
  },
  {
   "cell_type": "code",
   "execution_count": 7,
   "metadata": {},
   "outputs": [],
   "source": [
    "params = ConnectionParameters(url = \"http://localhost:8889/bigdata/namespace/kb/sparql\", cim_profile=cim_profile, iec61970_301=8)\n",
    "database = BlazegraphConnection(params)"
   ]
  },
  {
   "cell_type": "code",
   "execution_count": 8,
   "metadata": {},
   "outputs": [],
   "source": [
    "feeder_mrid = \"49AD8E07-3BF9-A4E2-CB8F-C3722F837B62\"\n",
    "feeder = database.get_object(mrid=feeder_mrid)"
   ]
  },
  {
   "cell_type": "code",
   "execution_count": 9,
   "metadata": {},
   "outputs": [],
   "source": [
    "network = FeederModel(connection=database, container=feeder, distributed=False)"
   ]
  },
  {
   "cell_type": "code",
   "execution_count": 10,
   "metadata": {},
   "outputs": [],
   "source": [
    "utils.get_all_switch_data(network)"
   ]
  },
  {
   "cell_type": "code",
   "execution_count": 17,
   "metadata": {},
   "outputs": [],
   "source": [
    "cim_profile = 'rc4_2021'\n",
    "import  cimgraph.data_profile.rc4_2021 as cim1\n",
    "from cimgraph.databases import ConnectionParameters\n",
    "from cimgraph.databases import BlazegraphConnection\n",
    "from cimgraph.models import FeederModel\n",
    "params = ConnectionParameters(url = \"http://localhost:8889/bigdata/namespace/kb/sparql\", cim_profile=cim_profile, iec61970_301=7)\n",
    "database = BlazegraphConnection(params)"
   ]
  },
  {
   "cell_type": "code",
   "execution_count": 18,
   "metadata": {},
   "outputs": [],
   "source": [
    "feeder_mrid = \"_49AD8E07-3BF9-A4E2-CB8F-C3722F837B62\"\n",
    "feeder = database.get_object(mrid=feeder_mrid)\n",
    "network = FeederModel(connection=database, container=feeder, distributed=False)"
   ]
  },
  {
   "cell_type": "code",
   "execution_count": 19,
   "metadata": {},
   "outputs": [
    {
     "name": "stderr",
     "output_type": "stream",
     "text": [
      "Association tculControlMode missing from class RatioTapChanger in data profile\n",
      "Association tculControlMode missing from class RatioTapChanger in data profile\n",
      "Association tculControlMode missing from class RatioTapChanger in data profile\n",
      "Association pFrequencyExponent missing from class LoadResponseCharacteristic in data profile\n",
      "Association qFrequencyExponent missing from class LoadResponseCharacteristic in data profile\n",
      "Association pFrequencyExponent missing from class LoadResponseCharacteristic in data profile\n",
      "Association qFrequencyExponent missing from class LoadResponseCharacteristic in data profile\n",
      "Association pFrequencyExponent missing from class LoadResponseCharacteristic in data profile\n",
      "Association qFrequencyExponent missing from class LoadResponseCharacteristic in data profile\n",
      "Association tculControlMode missing from class RatioTapChanger in data profile\n",
      "Association tculControlMode missing from class RatioTapChanger in data profile\n",
      "Association tculControlMode missing from class RatioTapChanger in data profile\n",
      "Association pFrequencyExponent missing from class LoadResponseCharacteristic in data profile\n",
      "Association qFrequencyExponent missing from class LoadResponseCharacteristic in data profile\n",
      "Association pFrequencyExponent missing from class LoadResponseCharacteristic in data profile\n",
      "Association qFrequencyExponent missing from class LoadResponseCharacteristic in data profile\n",
      "Association pFrequencyExponent missing from class LoadResponseCharacteristic in data profile\n",
      "Association qFrequencyExponent missing from class LoadResponseCharacteristic in data profile\n"
     ]
    }
   ],
   "source": [
    "utils.get_all_data(network)"
   ]
  },
  {
   "cell_type": "code",
   "execution_count": 47,
   "metadata": {},
   "outputs": [
    {
     "name": "stdout",
     "output_type": "stream",
     "text": [
      "645\n",
      "seq: 1 PNV PhaseCode.B EnergyConsumer_645\n",
      "seq: 1 VA PhaseCode.B EnergyConsumer_645\n",
      "house\n",
      "seq: 1 VA PhaseCode.s1 EnergyConsumer_house\n",
      "seq: 1 VA PhaseCode.s2 EnergyConsumer_house\n",
      "seq: 1 PNV PhaseCode.s2 EnergyConsumer_house\n",
      "seq: 1 PNV PhaseCode.s1 EnergyConsumer_house\n",
      "634b\n",
      "seq: 1 VA PhaseCode.B EnergyConsumer_634b\n",
      "seq: 1 PNV PhaseCode.B EnergyConsumer_634b\n",
      "634a\n",
      "seq: 1 VA PhaseCode.A EnergyConsumer_634a\n",
      "seq: 1 PNV PhaseCode.A EnergyConsumer_634a\n",
      "634c\n",
      "seq: 1 PNV PhaseCode.C EnergyConsumer_634c\n",
      "seq: 1 VA PhaseCode.C EnergyConsumer_634c\n",
      "652\n",
      "seq: 1 PNV PhaseCode.A EnergyConsumer_652\n",
      "seq: 1 VA PhaseCode.A EnergyConsumer_652\n",
      "671\n",
      "seq: 1 VA PhaseCode.B EnergyConsumer_671\n",
      "seq: 1 VA PhaseCode.C EnergyConsumer_671\n",
      "seq: 1 VA PhaseCode.A EnergyConsumer_671\n",
      "seq: 1 PNV PhaseCode.B EnergyConsumer_671\n",
      "seq: 1 PNV PhaseCode.C EnergyConsumer_671\n",
      "seq: 1 PNV PhaseCode.A EnergyConsumer_671\n",
      "675b\n",
      "seq: 1 VA PhaseCode.B EnergyConsumer_675b\n",
      "seq: 1 PNV PhaseCode.B EnergyConsumer_675b\n",
      "675a\n",
      "seq: 1 PNV PhaseCode.A EnergyConsumer_675a\n",
      "seq: 1 VA PhaseCode.A EnergyConsumer_675a\n",
      "675c\n",
      "seq: 1 VA PhaseCode.C EnergyConsumer_675c\n",
      "seq: 1 PNV PhaseCode.C EnergyConsumer_675c\n",
      "646\n",
      "seq: 1 VA PhaseCode.B EnergyConsumer_646\n",
      "seq: 1 PNV PhaseCode.B EnergyConsumer_646\n",
      "611\n",
      "seq: 1 VA PhaseCode.C EnergyConsumer_611\n",
      "seq: 1 PNV PhaseCode.C EnergyConsumer_611\n",
      "670a\n",
      "seq: 1 PNV PhaseCode.A EnergyConsumer_670a\n",
      "seq: 1 VA PhaseCode.A EnergyConsumer_670a\n",
      "670c\n",
      "seq: 1 VA PhaseCode.C EnergyConsumer_670c\n",
      "seq: 1 PNV PhaseCode.C EnergyConsumer_670c\n",
      "670b\n",
      "seq: 1 VA PhaseCode.B EnergyConsumer_670b\n",
      "seq: 1 PNV PhaseCode.B EnergyConsumer_670b\n",
      "692\n",
      "seq: 1 VA PhaseCode.C EnergyConsumer_692\n",
      "seq: 1 PNV PhaseCode.C EnergyConsumer_692\n"
     ]
    }
   ],
   "source": [
    "for inverter in network.graph[cim.EnergyConsumer].values():\n",
    "    print(inverter.name)\n",
    "    for meas in inverter.Measurements:\n",
    "        print('seq:', meas.Terminal.sequenceNumber, meas.measurementType, meas.phases, meas.name)"
   ]
  },
  {
   "cell_type": "code",
   "execution_count": 43,
   "metadata": {},
   "outputs": [
    {
     "name": "stdout",
     "output_type": "stream",
     "text": [
      "seq: 1 PNV PhaseCode.B EnergyConsumer_645\n",
      "seq: 1 VA PhaseCode.B EnergyConsumer_645\n"
     ]
    }
   ],
   "source": [
    "for meas in network.graph[cim.EnergyConsumer][UUID('47e52220-4596-4af0-9724-0167b72a4db8')].Measurements:\n",
    "    print('seq:', meas.Terminal.sequenceNumber, meas.measurementType, meas.phases, meas.name)\n"
   ]
  },
  {
   "cell_type": "code",
   "execution_count": 37,
   "metadata": {},
   "outputs": [
    {
     "name": "stdout",
     "output_type": "stream",
     "text": [
      "seq: 1 VA PhaseCode.C ACLineSegment_645646_Power\n",
      "seq: 1 VA PhaseCode.B ACLineSegment_645646_Power\n",
      "seq: 2 PNV PhaseCode.B ACLineSegment_645646_Voltage\n",
      "seq: 2 PNV PhaseCode.C ACLineSegment_645646_Voltage\n"
     ]
    }
   ],
   "source": [
    "for meas in network.graph[cim.ACLineSegment][UUID('0bbd0ea3-f665-465b-86fd-fc8b8466ad53')].Measurements:\n",
    "    print('seq:', meas.Terminal.sequenceNumber, meas.measurementType, meas.phases, meas.name)\n",
    "    # meas.pprint()"
   ]
  },
  {
   "cell_type": "code",
   "execution_count": 21,
   "metadata": {},
   "outputs": [
    {
     "name": "stdout",
     "output_type": "stream",
     "text": [
      "{\n",
      "    \"9f5cb9c4-71d6-4f2b-9dc1-26c7e9f84410\": {\n",
      "        \"identifier\": \"9f5cb9c4-71d6-4f2b-9dc1-26c7e9f84410\",\n",
      "        \"mRID\": \"9f5cb9c4-71d6-4f2b-9dc1-26c7e9f84410\",\n",
      "        \"name\": \"Breaker_brkr1_State\",\n",
      "        \"measurementType\": \"Pos\",\n",
      "        \"phases\": \"PhaseCode.A\",\n",
      "        \"PowerSystemResource\": \"52DE9189-20DC-4C73-BDEE-E960FE1F9493\",\n",
      "        \"Terminal\": \"1D81C7FE-E88F-41E3-A900-476CA6476CCD\"\n",
      "    },\n",
      "    \"aec42b89-f3c0-47e9-b21a-82736b2a1149\": {\n",
      "        \"identifier\": \"aec42b89-f3c0-47e9-b21a-82736b2a1149\",\n",
      "        \"mRID\": \"aec42b89-f3c0-47e9-b21a-82736b2a1149\",\n",
      "        \"name\": \"Breaker_brkr1_State\",\n",
      "        \"measurementType\": \"Pos\",\n",
      "        \"phases\": \"PhaseCode.C\",\n",
      "        \"PowerSystemResource\": \"52DE9189-20DC-4C73-BDEE-E960FE1F9493\",\n",
      "        \"Terminal\": \"1D81C7FE-E88F-41E3-A900-476CA6476CCD\"\n",
      "    },\n",
      "    \"baccfd49-ec98-4380-8be9-d242dc8611f3\": {\n",
      "        \"identifier\": \"baccfd49-ec98-4380-8be9-d242dc8611f3\",\n",
      "        \"mRID\": \"baccfd49-ec98-4380-8be9-d242dc8611f3\",\n",
      "        \"name\": \"Breaker_brkr1_State\",\n",
      "        \"measurementType\": \"Pos\",\n",
      "        \"phases\": \"PhaseCode.B\",\n",
      "        \"PowerSystemResource\": \"52DE9189-20DC-4C73-BDEE-E960FE1F9493\",\n",
      "        \"Terminal\": \"1D81C7FE-E88F-41E3-A900-476CA6476CCD\"\n",
      "    },\n",
      "    \"80ef10f9-3f4f-4fd2-8262-caedf7442fda\": {\n",
      "        \"identifier\": \"80ef10f9-3f4f-4fd2-8262-caedf7442fda\",\n",
      "        \"mRID\": \"80ef10f9-3f4f-4fd2-8262-caedf7442fda\",\n",
      "        \"name\": \"Recloser_rec1_State\",\n",
      "        \"measurementType\": \"Pos\",\n",
      "        \"phases\": \"PhaseCode.B\",\n",
      "        \"PowerSystemResource\": \"CE5D0651-676B-4AF3-8D67-41BF1B33E30C\",\n",
      "        \"Terminal\": \"EBAEF4A4-5D80-4FAD-A133-AA18607F3C31\"\n",
      "    },\n",
      "    \"cd64f70b-91d8-460b-af28-688e9709f319\": {\n",
      "        \"identifier\": \"cd64f70b-91d8-460b-af28-688e9709f319\",\n",
      "        \"mRID\": \"cd64f70b-91d8-460b-af28-688e9709f319\",\n",
      "        \"name\": \"Recloser_rec1_State\",\n",
      "        \"measurementType\": \"Pos\",\n",
      "        \"phases\": \"PhaseCode.C\",\n",
      "        \"PowerSystemResource\": \"CE5D0651-676B-4AF3-8D67-41BF1B33E30C\",\n",
      "        \"Terminal\": \"EBAEF4A4-5D80-4FAD-A133-AA18607F3C31\"\n",
      "    },\n",
      "    \"7ca7c18c-3861-47bf-82cf-5a72d618b18a\": {\n",
      "        \"identifier\": \"7ca7c18c-3861-47bf-82cf-5a72d618b18a\",\n",
      "        \"mRID\": \"7ca7c18c-3861-47bf-82cf-5a72d618b18a\",\n",
      "        \"name\": \"Recloser_rec1_State\",\n",
      "        \"measurementType\": \"Pos\",\n",
      "        \"phases\": \"PhaseCode.A\",\n",
      "        \"PowerSystemResource\": \"CE5D0651-676B-4AF3-8D67-41BF1B33E30C\",\n",
      "        \"Terminal\": \"EBAEF4A4-5D80-4FAD-A133-AA18607F3C31\"\n",
      "    },\n",
      "    \"2f50b72c-d10f-4197-b2b9-e7268bc7c6d9\": {\n",
      "        \"identifier\": \"2f50b72c-d10f-4197-b2b9-e7268bc7c6d9\",\n",
      "        \"mRID\": \"2f50b72c-d10f-4197-b2b9-e7268bc7c6d9\",\n",
      "        \"name\": \"LoadBreakSwitch_sect1_State\",\n",
      "        \"measurementType\": \"Pos\",\n",
      "        \"phases\": \"PhaseCode.C\",\n",
      "        \"PowerSystemResource\": \"2858B6C2-0886-4269-884C-06FA8B887319\",\n",
      "        \"Terminal\": \"8F517DFE-D985-4D24-8339-96FA2A789E88\"\n",
      "    },\n",
      "    \"c8a56420-f87b-4ce4-ac38-ba431ecfcdb2\": {\n",
      "        \"identifier\": \"c8a56420-f87b-4ce4-ac38-ba431ecfcdb2\",\n",
      "        \"mRID\": \"c8a56420-f87b-4ce4-ac38-ba431ecfcdb2\",\n",
      "        \"name\": \"LoadBreakSwitch_671692_State\",\n",
      "        \"measurementType\": \"Pos\",\n",
      "        \"phases\": \"PhaseCode.A\",\n",
      "        \"PowerSystemResource\": \"517413CB-6977-46FA-8911-C82332E42884\",\n",
      "        \"Terminal\": \"F1D6C919-22FA-4E94-81B1-36823F5A9FF5\"\n",
      "    },\n",
      "    \"0f5150f9-f959-4f7b-a661-d80afe862e58\": {\n",
      "        \"identifier\": \"0f5150f9-f959-4f7b-a661-d80afe862e58\",\n",
      "        \"mRID\": \"0f5150f9-f959-4f7b-a661-d80afe862e58\",\n",
      "        \"name\": \"LoadBreakSwitch_671692_State\",\n",
      "        \"measurementType\": \"Pos\",\n",
      "        \"phases\": \"PhaseCode.B\",\n",
      "        \"PowerSystemResource\": \"517413CB-6977-46FA-8911-C82332E42884\",\n",
      "        \"Terminal\": \"F1D6C919-22FA-4E94-81B1-36823F5A9FF5\"\n",
      "    },\n",
      "    \"35a3ba96-f644-4144-b955-1bc959c2311b\": {\n",
      "        \"identifier\": \"35a3ba96-f644-4144-b955-1bc959c2311b\",\n",
      "        \"mRID\": \"35a3ba96-f644-4144-b955-1bc959c2311b\",\n",
      "        \"name\": \"LoadBreakSwitch_671692_State\",\n",
      "        \"measurementType\": \"Pos\",\n",
      "        \"phases\": \"PhaseCode.C\",\n",
      "        \"PowerSystemResource\": \"517413CB-6977-46FA-8911-C82332E42884\",\n",
      "        \"Terminal\": \"F1D6C919-22FA-4E94-81B1-36823F5A9FF5\"\n",
      "    },\n",
      "    \"8d72f997-ba3e-4954-91b6-62fc3304d165\": {\n",
      "        \"identifier\": \"8d72f997-ba3e-4954-91b6-62fc3304d165\",\n",
      "        \"mRID\": \"8d72f997-ba3e-4954-91b6-62fc3304d165\",\n",
      "        \"name\": \"RatioTapChanger_Reg\",\n",
      "        \"measurementType\": \"Pos\",\n",
      "        \"phases\": \"PhaseCode.B\",\n",
      "        \"PowerSystemResource\": \"67B57539-590B-4158-9CBB-9DBA2FE6C1F0\",\n",
      "        \"Terminal\": \"02CD5661-C654-43F6-8D1A-0D666070BB81\"\n",
      "    },\n",
      "    \"5d00b173-726b-4f64-b93e-c60648276c66\": {\n",
      "        \"identifier\": \"5d00b173-726b-4f64-b93e-c60648276c66\",\n",
      "        \"mRID\": \"5d00b173-726b-4f64-b93e-c60648276c66\",\n",
      "        \"name\": \"RatioTapChanger_Reg\",\n",
      "        \"measurementType\": \"Pos\",\n",
      "        \"phases\": \"PhaseCode.A\",\n",
      "        \"PowerSystemResource\": \"67B57539-590B-4158-9CBB-9DBA2FE6C1F0\",\n",
      "        \"Terminal\": \"5A1120EE-0F2A-4698-9FF5-0F0F4F507BAF\"\n",
      "    },\n",
      "    \"4e068301-03a3-43ee-8709-744b2f4c8158\": {\n",
      "        \"identifier\": \"4e068301-03a3-43ee-8709-744b2f4c8158\",\n",
      "        \"mRID\": \"4e068301-03a3-43ee-8709-744b2f4c8158\",\n",
      "        \"name\": \"LinearShuntCompensator_cap1\",\n",
      "        \"measurementType\": \"Pos\",\n",
      "        \"phases\": \"PhaseCode.B\",\n",
      "        \"PowerSystemResource\": \"A9DE8829-58CB-4750-B2A2-672846A89753\",\n",
      "        \"Terminal\": \"5B38070B-E918-4EAA-8BDB-8B3CE4F8A917\"\n",
      "    },\n",
      "    \"6e809a5d-d7dd-4c35-882c-3f20b6da557a\": {\n",
      "        \"identifier\": \"6e809a5d-d7dd-4c35-882c-3f20b6da557a\",\n",
      "        \"mRID\": \"6e809a5d-d7dd-4c35-882c-3f20b6da557a\",\n",
      "        \"name\": \"LinearShuntCompensator_cap1\",\n",
      "        \"measurementType\": \"Pos\",\n",
      "        \"phases\": \"PhaseCode.A\",\n",
      "        \"PowerSystemResource\": \"A9DE8829-58CB-4750-B2A2-672846A89753\",\n",
      "        \"Terminal\": \"5B38070B-E918-4EAA-8BDB-8B3CE4F8A917\"\n",
      "    },\n",
      "    \"874dae15-637c-4c9e-bee1-d859ac3acf12\": {\n",
      "        \"identifier\": \"874dae15-637c-4c9e-bee1-d859ac3acf12\",\n",
      "        \"mRID\": \"874dae15-637c-4c9e-bee1-d859ac3acf12\",\n",
      "        \"name\": \"LinearShuntCompensator_cap1\",\n",
      "        \"measurementType\": \"Pos\",\n",
      "        \"phases\": \"PhaseCode.C\",\n",
      "        \"PowerSystemResource\": \"A9DE8829-58CB-4750-B2A2-672846A89753\",\n",
      "        \"Terminal\": \"5B38070B-E918-4EAA-8BDB-8B3CE4F8A917\"\n",
      "    },\n",
      "    \"f782d376-467f-46bc-a0f5-3f500d6570aa\": {\n",
      "        \"identifier\": \"f782d376-467f-46bc-a0f5-3f500d6570aa\",\n",
      "        \"mRID\": \"f782d376-467f-46bc-a0f5-3f500d6570aa\",\n",
      "        \"name\": \"RatioTapChanger_Reg\",\n",
      "        \"measurementType\": \"Pos\",\n",
      "        \"phases\": \"PhaseCode.C\",\n",
      "        \"PowerSystemResource\": \"67B57539-590B-4158-9CBB-9DBA2FE6C1F0\",\n",
      "        \"Terminal\": \"F5258B9A-B51E-40DD-9A06-5918E41F3C35\"\n",
      "    },\n",
      "    \"162b4555-f748-4829-8e71-bbbecf4e4bcb\": {\n",
      "        \"identifier\": \"162b4555-f748-4829-8e71-bbbecf4e4bcb\",\n",
      "        \"mRID\": \"162b4555-f748-4829-8e71-bbbecf4e4bcb\",\n",
      "        \"name\": \"LinearShuntCompensator_cap2\",\n",
      "        \"measurementType\": \"Pos\",\n",
      "        \"phases\": \"PhaseCode.C\",\n",
      "        \"PowerSystemResource\": \"9D725810-BFD6-44C6-961A-2BC027F6FC95\",\n",
      "        \"Terminal\": \"FD3834FF-6C3B-434F-A41D-77EB8237F53D\"\n",
      "    }\n",
      "}\n"
     ]
    }
   ],
   "source": [
    "network.pprint(cim.Discrete)"
   ]
  },
  {
   "cell_type": "code",
   "execution_count": 23,
   "metadata": {},
   "outputs": [
    {
     "data": {
      "text/plain": [
       "{\"@id\": \"67b57539-590b-4158-9cbb-9dba2fe6c1f0\", \"@type\": \"PowerTransformer\"}"
      ]
     },
     "execution_count": 23,
     "metadata": {},
     "output_type": "execute_result"
    }
   ],
   "source": [
    "database.get_object(\"_67B57539-590B-4158-9CBB-9DBA2FE6C1F0\")"
   ]
  },
  {
   "cell_type": "code",
   "execution_count": null,
   "metadata": {},
   "outputs": [],
   "source": []
  },
  {
   "cell_type": "code",
   "execution_count": 11,
   "metadata": {},
   "outputs": [],
   "source": [
    "network.get_all_edges(cim.Terminal)"
   ]
  },
  {
   "cell_type": "code",
   "execution_count": 15,
   "metadata": {},
   "outputs": [],
   "source": [
    "for switch in network.graph.get(cim.Sectionaliser, {}).values():\n",
    "    print(switch.name, switch.Terminals[0].sequenceNumber)\n",
    "    print(switch.name, switch.Terminals[1].sequenceNumber)"
   ]
  },
  {
   "cell_type": "code",
   "execution_count": 16,
   "metadata": {},
   "outputs": [],
   "source": [
    "utils.get_all_data(network)"
   ]
  },
  {
   "cell_type": "code",
   "execution_count": null,
   "metadata": {},
   "outputs": [],
   "source": [
    "# feeder_mrids = [\"_49AD8E07-3BF9-A4E2-CB8F-C3722F837B62\", # 13 bus\n",
    "#                 \"_C1C3E687-6FFD-C753-582B-632A27E28507\",  # 123 bus\n",
    "#                 \"_5B816B93-7A5F-B64C-8460-47C17D6E4B0F\"] # 13 bus asets\n",
    "#                 # \"_4F76A5F9-271D-9EB8-5E31-AA362D86F2C3\",  # 8500 node\n",
    "#                 # \"_67AB291F-DCCD-31B7-B499-338206B9828F\", # J1\n",
    "#                 # \"_9CE150A8-8CC5-A0F9-B67E-BBD8C79D3095\"]  # R2 12.47 3\n",
    "# # feeder_mrid = \"_EE71F6C9-56F0-4167-A14E-7F4C71F10EAA\" #9500 node\n",
    "# # feeder_mrid = \"_9E985101-27AD-4FE4-B36A-EBECC98CDFAB\" #MAPLE 10 bus\n",
    "# for feeder_mrid in feeder_mrids:\n",
    "#     print(feeder_mrid)\n",
    "#     feeder = cim.Feeder(mRID = feeder_mrid)\n",
    "#     network = FeederModel(connection=connection, container=feeder, distributed=False)\n",
    "#     utils.get_all_data(network)"
   ]
  },
  {
   "cell_type": "code",
   "execution_count": null,
   "metadata": {},
   "outputs": [],
   "source": [
    "substation=cim.Substation(mRID='_B1D29E92-5F08-4DB8-8298-3F9DF829C037')\n",
    "SubstationArea = DistributedArea(connection=database, container=substation,distributed=True)\n",
    "SubstationArea.get_all_edges(cim.Substation)\n",
    "# SubstationArea.get_all_edges(cim.ConnectivityNode)\n",
    "# SubstationArea.get_all_edges(cim.PowerTransformer)\n",
    "# SubstationArea.get_all_edges(cim.EnergyConsumer)\n",
    "# SubstationArea.get_all_attributes(cim.SubGeographicalRegion)\n",
    "# SubstationArea.get_all_edges(cim.VoltageLevel)\n",
    "# SubstationArea.get_all_edges(cim.PowerTransformerEnd)\n",
    "# SubstationArea.get_all_edges(cim.Terminal)\n",
    "# SubstationArea.get_all_edges(cim.TransformerCoreAdmittance)\n",
    "# SubstationArea.get_all_attributes(cim.BaseVoltage)\n",
    "# SubstationArea.get_all_edges(cim.TransformerMeshImpedance)\n",
    "# SubstationArea.get_all_attributes(cim.LoadResponseCharacteristic)\n",
    "utils.write_xml(SubstationArea, '/home/ande188/sub.xml')\n",
    "import time\n",
    "time.sleep(5)\n"
   ]
  },
  {
   "cell_type": "code",
   "execution_count": null,
   "metadata": {},
   "outputs": [],
   "source": [
    "substation"
   ]
  },
  {
   "cell_type": "code",
   "execution_count": null,
   "metadata": {},
   "outputs": [],
   "source": [
    "utils.get_all_data(SubstationArea)\n",
    "utils.write_xml(SubstationArea, '/home/ande188/sub.xml')"
   ]
  },
  {
   "cell_type": "code",
   "execution_count": null,
   "metadata": {},
   "outputs": [],
   "source": []
  },
  {
   "cell_type": "code",
   "execution_count": null,
   "metadata": {},
   "outputs": [],
   "source": [
    "a"
   ]
  },
  {
   "cell_type": "code",
   "execution_count": null,
   "metadata": {},
   "outputs": [],
   "source": [
    "feeder_mrid = \"_49AD8E07-3BF9-A4E2-CB8F-C3722F837B62\"\n",
    "feeder = cim.Feeder(mRID = feeder_mrid)\n",
    "network = FeederModel(connection=database, container=feeder, distributed=False)\n"
   ]
  },
  {
   "cell_type": "code",
   "execution_count": null,
   "metadata": {},
   "outputs": [],
   "source": [
    "network.pprint(cim.ConnectivityNode)"
   ]
  },
  {
   "cell_type": "code",
   "execution_count": null,
   "metadata": {},
   "outputs": [],
   "source": [
    "cim.ConnectivityNode in None"
   ]
  },
  {
   "cell_type": "code",
   "execution_count": null,
   "metadata": {},
   "outputs": [],
   "source": [
    "network.get_all_edges(cim.ACLineSegment)\n",
    "network.get_all_attributes(cim.BaseVoltage)\n",
    "network.pprint(cim.BaseVoltage)"
   ]
  },
  {
   "cell_type": "code",
   "execution_count": null,
   "metadata": {},
   "outputs": [],
   "source": [
    "utils.get_all_data(network)"
   ]
  },
  {
   "cell_type": "code",
   "execution_count": null,
   "metadata": {},
   "outputs": [],
   "source": [
    "network.pprint(cim.Substation)"
   ]
  },
  {
   "cell_type": "code",
   "execution_count": null,
   "metadata": {},
   "outputs": [],
   "source": [
    "print(network.get_edges_query(cim.Feeder))\n"
   ]
  },
  {
   "cell_type": "code",
   "execution_count": null,
   "metadata": {},
   "outputs": [],
   "source": [
    "with open(\"topo_message.json\") as topo:\n",
    "    topo_msg = json.load(topo)"
   ]
  },
  {
   "cell_type": "code",
   "execution_count": null,
   "metadata": {},
   "outputs": [],
   "source": [
    "central_network = FeederModel(connection=database, container=feeder, distributed=False)\n",
    "\n",
    "dist_network_2 =  FeederModel(connection=database, container=feeder, distributed=True)\n",
    "\n",
    "dist_network_3 =  FeederModel(connection=database, container=feeder, distributed=True, topology_message=topo_msg)"
   ]
  },
  {
   "cell_type": "code",
   "execution_count": null,
   "metadata": {},
   "outputs": [],
   "source": [
    "# counter = 0\n",
    "# for switch_area in dist_network_2.distributed_areas:\n",
    "#     # switch_area.pprint(cim.ConnectivityNode)\n",
    "#     # switch_area.get_all_edges(cim.Conn)\n",
    "\n",
    "#     utils.get_all_bus_data(switch_area)\n",
    "#     utils.get_all_line_data(switch_area)\n",
    "#     utils.get_all_load_data(switch_area)\n",
    "#     utils.get_all_inverter_data(switch_area)\n",
    "#     utils.get_all_switch_data(switch_area)\n",
    "#     utils.get_all_transformer_data(switch_area)\n",
    "#     utils.get_all_location_data(switch_area)\n",
    "#     utils.get_all_measurement_data(switch_area)\n",
    "#     # switch_area.get_all_edges(cim.BaseVoltage)\n",
    "#     utils.write_xml(switch_area, filename=f'./test_output/switch_area.{counter}.xml')\n",
    "#     counter += 1\n",
    "\n",
    "\n",
    "#     for sec_area in switch_area.distributed_areas:\n",
    "#         # utils.get_all_data(sec_area)\n",
    "#         pass"
   ]
  },
  {
   "cell_type": "code",
   "execution_count": null,
   "metadata": {},
   "outputs": [],
   "source": [
    "# for switch_area in dist_network_3.distributed_areas:\n",
    "#     utils.get_all_data(switch_area)\n",
    "#     for sec_area in switch_area.distributed_areas:\n",
    "#         utils.get_all_data(sec_area)"
   ]
  },
  {
   "cell_type": "code",
   "execution_count": null,
   "metadata": {},
   "outputs": [],
   "source": []
  },
  {
   "cell_type": "code",
   "execution_count": null,
   "metadata": {},
   "outputs": [],
   "source": [
    "from cimgraph.models import DistributedArea\n",
    "\n",
    "container = cim.EquipmentContainer(mRID=feeder_mrid)\n",
    "feeder_area = DistributedArea(container, database, distributed=True)\n",
    "feeder_area.build_from_topo_message(topo_msg['feeders'])\n",
    "\n",
    "feeder_area.get_all_edges(cim.ConnectivityNode)\n",
    "for node in feeder_area.graph[cim.ConnectivityNode].values():\n",
    "    print(node.name)\n",
    "\n",
    "\n"
   ]
  },
  {
   "cell_type": "code",
   "execution_count": null,
   "metadata": {},
   "outputs": [],
   "source": [
    "counter = 0\n",
    "for switch_topo in topo_msg['feeders']['switch_areas']:\n",
    "    print('switch area', counter)\n",
    "    container = cim.EquipmentContainer(mRID=feeder_mrid+'.'+str(counter))\n",
    "    SwitchArea = DistributedArea(container, database, distributed=True)\n",
    "    SwitchArea.build_from_topo_message(switch_topo)\n",
    "    counter = counter + 1\n",
    "\n",
    "    SwitchArea.get_all_edges(cim.ConnectivityNode)\n",
    "    for node in SwitchArea.graph[cim.ConnectivityNode].values():\n",
    "        print(node.name)"
   ]
  },
  {
   "cell_type": "code",
   "execution_count": null,
   "metadata": {},
   "outputs": [],
   "source": [
    "sw_counter = -1\n",
    "for switch_topo in topo_msg['feeders']['switch_areas']:\n",
    "    sw_counter +=1\n",
    "    sa_counter = -1\n",
    "    for sec_topo in switch_topo['secondary_areas']:\n",
    "        sa_counter +=1\n",
    "        area_id = str(sw_counter) + '.' + str(sa_counter)\n",
    "        print('sec area', counter)\n",
    "        container = cim.EquipmentContainer(mRID=area_id)\n",
    "        SecondaryArea = DistributedArea(container, database, distributed=True)\n",
    "        SecondaryArea.build_from_topo_message(sec_topo)\n",
    "\n",
    "        SecondaryArea.get_all_edges(cim.ConnectivityNode)\n",
    "        for node in SecondaryArea.graph[cim.ConnectivityNode].values():\n",
    "            print(node.name)\n",
    "    "
   ]
  },
  {
   "cell_type": "code",
   "execution_count": 14,
   "metadata": {},
   "outputs": [],
   "source": [
    "from cimgraph.databases import ConnectionParameters\n",
    "from cimgraph.databases import BlazegraphConnection\n",
    "import cimgraph.data_profile.cim17v40 as cim\n",
    "params = ConnectionParameters(url = \"http://localhost:8889/bigdata/namespace/kb/sparql\", cim_profile='cimhub_2023', iec61970_301=8)\n",
    "database = BlazegraphConnection(params)"
   ]
  },
  {
   "cell_type": "code",
   "execution_count": 15,
   "metadata": {},
   "outputs": [],
   "source": [
    "from cimgraph.models import FeederModel\n",
    "feeder_mrid = \"49AD8E07-3BF9-A4E2-CB8F-C3722F837B62\"\n",
    "feeder = cim.Feeder(mRID = feeder_mrid)\n",
    "network = FeederModel(connection=database, container=feeder, distributed=False)"
   ]
  },
  {
   "cell_type": "code",
   "execution_count": 16,
   "metadata": {},
   "outputs": [],
   "source": [
    "query = network.get_edges_query(cim.Terminal)"
   ]
  },
  {
   "cell_type": "code",
   "execution_count": 17,
   "metadata": {},
   "outputs": [
    {
     "ename": "KeyboardInterrupt",
     "evalue": "",
     "output_type": "error",
     "traceback": [
      "\u001b[0;31m---------------------------------------------------------------------------\u001b[0m",
      "\u001b[0;31mKeyboardInterrupt\u001b[0m                         Traceback (most recent call last)",
      "Cell \u001b[0;32mIn[17], line 1\u001b[0m\n\u001b[0;32m----> 1\u001b[0m dist_network_2 \u001b[38;5;241m=\u001b[39m  \u001b[43mFeederModel\u001b[49m\u001b[43m(\u001b[49m\u001b[43mconnection\u001b[49m\u001b[38;5;241;43m=\u001b[39;49m\u001b[43mdatabase\u001b[49m\u001b[43m,\u001b[49m\u001b[43m \u001b[49m\u001b[43mcontainer\u001b[49m\u001b[38;5;241;43m=\u001b[39;49m\u001b[43mfeeder\u001b[49m\u001b[43m,\u001b[49m\u001b[43m \u001b[49m\u001b[43mdistributed\u001b[49m\u001b[38;5;241;43m=\u001b[39;49m\u001b[38;5;28;43;01mTrue\u001b[39;49;00m\u001b[43m)\u001b[49m\n",
      "File \u001b[0;32m<string>:9\u001b[0m, in \u001b[0;36m__init__\u001b[0;34m(self, container, connection, distributed, graph, topology_message, distributed_hierarchy)\u001b[0m\n",
      "File \u001b[0;32m~/CIM-Graph/cimgraph/models/feeder_model.py:45\u001b[0m, in \u001b[0;36mFeederModel.__post_init__\u001b[0;34m(self)\u001b[0m\n\u001b[1;32m     42\u001b[0m \u001b[38;5;28mself\u001b[39m\u001b[38;5;241m.\u001b[39mcim \u001b[38;5;241m=\u001b[39m \u001b[38;5;28mself\u001b[39m\u001b[38;5;241m.\u001b[39mconnection\u001b[38;5;241m.\u001b[39mcim    \u001b[38;5;66;03m# Set CIM data profile\u001b[39;00m\n\u001b[1;32m     43\u001b[0m \u001b[38;5;28;01mif\u001b[39;00m \u001b[38;5;28mself\u001b[39m\u001b[38;5;241m.\u001b[39mdistributed:    \u001b[38;5;66;03m# Check if distributed flag is true\u001b[39;00m\n\u001b[1;32m     44\u001b[0m     \u001b[38;5;66;03m# Build distributed network model\u001b[39;00m\n\u001b[0;32m---> 45\u001b[0m     \u001b[38;5;28;43mself\u001b[39;49m\u001b[38;5;241;43m.\u001b[39;49m\u001b[43minitialize_distributed_model\u001b[49m\u001b[43m(\u001b[49m\u001b[38;5;28;43mself\u001b[39;49m\u001b[38;5;241;43m.\u001b[39;49m\u001b[43mcontainer\u001b[49m\u001b[43m)\u001b[49m\n\u001b[1;32m     46\u001b[0m \u001b[38;5;28;01melse\u001b[39;00m:\n\u001b[1;32m     47\u001b[0m     \u001b[38;5;66;03m# Otherwise build centralized network model\u001b[39;00m\n\u001b[1;32m     48\u001b[0m     \u001b[38;5;28mself\u001b[39m\u001b[38;5;241m.\u001b[39minitialize_centralized_model(\u001b[38;5;28mself\u001b[39m\u001b[38;5;241m.\u001b[39mcontainer)\n",
      "File \u001b[0;32m~/CIM-Graph/cimgraph/models/feeder_model.py:142\u001b[0m, in \u001b[0;36mFeederModel.initialize_distributed_model\u001b[0;34m(self, container)\u001b[0m\n\u001b[1;32m    134\u001b[0m lower_boundaries \u001b[38;5;241m=\u001b[39m [\u001b[38;5;28mself\u001b[39m\u001b[38;5;241m.\u001b[39mcim\u001b[38;5;241m.\u001b[39mTransformerTank]\n\u001b[1;32m    136\u001b[0m DistTopo \u001b[38;5;241m=\u001b[39m DistributedTopology(\n\u001b[1;32m    137\u001b[0m     connection\u001b[38;5;241m=\u001b[39m\u001b[38;5;28mself\u001b[39m\u001b[38;5;241m.\u001b[39mconnection,\n\u001b[1;32m    138\u001b[0m     centralized_graph\u001b[38;5;241m=\u001b[39mcentralized_graph,\n\u001b[1;32m    139\u001b[0m     root_classes\u001b[38;5;241m=\u001b[39mswitch_classes,\n\u001b[1;32m    140\u001b[0m     upper_boundaries\u001b[38;5;241m=\u001b[39mupper_boundaries,\n\u001b[1;32m    141\u001b[0m     lower_boundaries\u001b[38;5;241m=\u001b[39mlower_boundaries)\n\u001b[0;32m--> 142\u001b[0m \u001b[38;5;28mself\u001b[39m\u001b[38;5;241m.\u001b[39mdistributed_areas \u001b[38;5;241m=\u001b[39m \u001b[43mDistTopo\u001b[49m\u001b[38;5;241;43m.\u001b[39;49m\u001b[43mcreate_distributed_areas\u001b[49m\u001b[43m(\u001b[49m\u001b[43m)\u001b[49m\n",
      "File \u001b[0;32m~/CIM-Graph/cimgraph/models/distributed_area.py:177\u001b[0m, in \u001b[0;36mDistributedTopology.create_distributed_areas\u001b[0;34m(self)\u001b[0m\n\u001b[1;32m    175\u001b[0m \u001b[38;5;66;03m# Iterate through all types of switches\u001b[39;00m\n\u001b[1;32m    176\u001b[0m \u001b[38;5;28;01mfor\u001b[39;00m root_class \u001b[38;5;129;01min\u001b[39;00m \u001b[38;5;28mself\u001b[39m\u001b[38;5;241m.\u001b[39mroot_classes:\n\u001b[0;32m--> 177\u001b[0m     distributed_areas \u001b[38;5;241m=\u001b[39m \u001b[38;5;28;43mself\u001b[39;49m\u001b[38;5;241;43m.\u001b[39;49m\u001b[43mexpand_area\u001b[49m\u001b[43m(\u001b[49m\u001b[43mroot_class\u001b[49m\u001b[43m,\u001b[49m\u001b[43m \u001b[49m\u001b[43mdistributed_areas\u001b[49m\u001b[43m)\u001b[49m\n\u001b[1;32m    178\u001b[0m \u001b[38;5;66;03m# for DistArea in distributed_areas:\u001b[39;00m\n\u001b[1;32m    179\u001b[0m \u001b[38;5;66;03m#     for lower_bound_class in self.lower_boundaries:\u001b[39;00m\n\u001b[1;32m    181\u001b[0m \u001b[38;5;28;01mreturn\u001b[39;00m distributed_areas\n",
      "File \u001b[0;32m~/CIM-Graph/cimgraph/models/distributed_area.py:198\u001b[0m, in \u001b[0;36mDistributedTopology.expand_area\u001b[0;34m(self, root_class, distributed_areas)\u001b[0m\n\u001b[1;32m    196\u001b[0m                     parsed \u001b[38;5;241m=\u001b[39m \u001b[38;5;28;01mTrue\u001b[39;00m\n\u001b[1;32m    197\u001b[0m             \u001b[38;5;28;01mif\u001b[39;00m \u001b[38;5;129;01mnot\u001b[39;00m parsed:  \u001b[38;5;66;03m# If not parsed, build switch areas from this switch\u001b[39;00m\n\u001b[0;32m--> 198\u001b[0m                 NewArea \u001b[38;5;241m=\u001b[39m \u001b[38;5;28;43mself\u001b[39;49m\u001b[38;5;241;43m.\u001b[39;49m\u001b[43mexpand_node\u001b[49m\u001b[43m(\u001b[49m\u001b[43mterminal\u001b[49m\u001b[38;5;241;43m.\u001b[39;49m\u001b[43mConnectivityNode\u001b[49m\u001b[43m)\u001b[49m\n\u001b[1;32m    199\u001b[0m                 distributed_areas\u001b[38;5;241m.\u001b[39mappend(NewArea)\n\u001b[1;32m    200\u001b[0m \u001b[38;5;28;01mreturn\u001b[39;00m distributed_areas\n",
      "File \u001b[0;32m~/CIM-Graph/cimgraph/models/distributed_area.py:228\u001b[0m, in \u001b[0;36mDistributedTopology.expand_node\u001b[0;34m(self, root_node)\u001b[0m\n\u001b[1;32m    226\u001b[0m \u001b[38;5;28;01mfor\u001b[39;00m node_mrid \u001b[38;5;129;01min\u001b[39;00m \u001b[38;5;28mlist\u001b[39m(all_nodes \u001b[38;5;241m-\u001b[39m parsed_nodes):\n\u001b[1;32m    227\u001b[0m     node \u001b[38;5;241m=\u001b[39m DistArea\u001b[38;5;241m.\u001b[39mgraph[\u001b[38;5;28mself\u001b[39m\u001b[38;5;241m.\u001b[39mcim\u001b[38;5;241m.\u001b[39mConnectivityNode][node_mrid]\n\u001b[0;32m--> 228\u001b[0m     \u001b[38;5;28;01mif\u001b[39;00m node\u001b[38;5;241m.\u001b[39mmRID \u001b[38;5;129;01mnot\u001b[39;00m \u001b[38;5;129;01min\u001b[39;00m parsed_nodes:\n\u001b[1;32m    230\u001b[0m         \u001b[38;5;28;01mfor\u001b[39;00m terminal \u001b[38;5;129;01min\u001b[39;00m node\u001b[38;5;241m.\u001b[39mTerminals:\n\u001b[1;32m    231\u001b[0m             equipment \u001b[38;5;241m=\u001b[39m terminal\u001b[38;5;241m.\u001b[39mConductingEquipment\n",
      "\u001b[0;31mKeyboardInterrupt\u001b[0m: "
     ]
    }
   ],
   "source": [
    "dist_network_2 =  FeederModel(connection=database, container=feeder, distributed=True)\n"
   ]
  },
  {
   "cell_type": "code",
   "execution_count": null,
   "metadata": {},
   "outputs": [],
   "source": []
  },
  {
   "cell_type": "code",
   "execution_count": 13,
   "metadata": {},
   "outputs": [
    {
     "data": {
      "text/plain": [
       "[]"
      ]
     },
     "execution_count": 13,
     "metadata": {},
     "output_type": "execute_result"
    }
   ],
   "source": [
    "dist_network_2.distributed_areas"
   ]
  },
  {
   "cell_type": "code",
   "execution_count": null,
   "metadata": {},
   "outputs": [],
   "source": [
    "\"message\": {\n",
    "    \"timestamp\": \"1248159984\",\n",
    "    \"measurements\": {\n",
    "        \"_00125ca3-12ca-4b8b-a148-c60e03aa7f9f\": {\n",
    "            \"measurement_mrid\": \"_00125ca3-12ca-4b8b-a148-c60e03aa7f9f\",\n",
    "            \"magnitude\": 78103.82848323896,\n",
    "            \"angle\": -99.22044324389712\n",
    "        },\n",
    "        \"_0032c3cd-5dec-4944-b1bc-b97b3ec646fc\": {\n",
    "            \"measurement_mrid\": \"_0032c3cd-5dec-4944-b1bc-b97b3ec646fc\",\n",
    "            \"magnitude\": 2284.5940488360206,\n",
    "            \"angle\": -2.8059748340329578\n",
    "        }\n",
    "    }\n",
    "}"
   ]
  },
  {
   "cell_type": "code",
   "execution_count": null,
   "metadata": {},
   "outputs": [],
   "source": []
  },
  {
   "cell_type": "code",
   "execution_count": null,
   "metadata": {},
   "outputs": [],
   "source": []
  },
  {
   "cell_type": "code",
   "execution_count": null,
   "metadata": {},
   "outputs": [],
   "source": []
  },
  {
   "cell_type": "code",
   "execution_count": null,
   "metadata": {},
   "outputs": [],
   "source": [
    "line = network.graph[cim.ACLineSegment]['uuid']\n",
    "\n",
    "from_bus = line.Terminals[0].ConnectivityNode\n",
    "to_bus = line.Terminals[1].ConnectivityNode\n",
    "\n"
   ]
  },
  {
   "cell_type": "code",
   "execution_count": null,
   "metadata": {},
   "outputs": [],
   "source": []
  },
  {
   "cell_type": "code",
   "execution_count": null,
   "metadata": {},
   "outputs": [],
   "source": [
    "# \"What is the total amount of solar in the feeder ABC?\"\n",
    "\n",
    "feeder_mrid = \"ABC\"\n",
    "feeder = cim.Feeder(mRID = feeder_mrid)\n",
    "network = FeederModel(connection=database, container=feeder, distributed=False)\n",
    "\n",
    "utils.get_all_data(network)\n",
    "\n",
    "total_pv = 0\n",
    "\n",
    "for inverter in network.graph[cim.PowerElectronicsConnection].values():\n",
    "    \n",
    "    total_pv += inverter.PowerElectronicsUnit.maxP"
   ]
  },
  {
   "cell_type": "code",
   "execution_count": null,
   "metadata": {},
   "outputs": [],
   "source": [
    "graph = {}"
   ]
  },
  {
   "cell_type": "code",
   "execution_count": null,
   "metadata": {},
   "outputs": [],
   "source": [
    "\n",
    "obj = database.create_object(graph, cim.GeographicalRegion, \"73C512BD-7249-4F50-50DA-D93849B89C43\")\n",
    "setattr(obj, \"mRID\", \"73C512BD-7249-4F50-50DA-D93849B89C43\")\n",
    "setattr(obj, \"name\", \"IEEE\")"
   ]
  },
  {
   "cell_type": "code",
   "execution_count": null,
   "metadata": {},
   "outputs": [],
   "source": []
  }
 ],
 "metadata": {
  "kernelspec": {
   "display_name": ".venv",
   "language": "python",
   "name": "python3"
  },
  "language_info": {
   "codemirror_mode": {
    "name": "ipython",
    "version": 3
   },
   "file_extension": ".py",
   "mimetype": "text/x-python",
   "name": "python",
   "nbconvert_exporter": "python",
   "pygments_lexer": "ipython3",
   "version": "3.10.12"
  }
 },
 "nbformat": 4,
 "nbformat_minor": 2
}
