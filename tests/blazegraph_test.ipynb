{
 "cells": [
  {
   "cell_type": "code",
   "execution_count": 1,
   "metadata": {},
   "outputs": [],
   "source": [
    "import json\n",
    "cim_profile = 'cimhub_2023'\n",
    "import cimgraph.data_profile.cimhub_2023 as cim\n",
    "from uuid import UUID"
   ]
  },
  {
   "cell_type": "code",
   "execution_count": 2,
   "metadata": {},
   "outputs": [],
   "source": [
    "from cimgraph.databases import ConnectionParameters\n",
    "from cimgraph.databases import BlazegraphConnection\n",
    "from cimgraph.models import FeederModel\n",
    "from cimgraph.models import DistributedArea\n",
    "import cimgraph.queries.sparql as sparql\n",
    "import cimgraph.utils as utils"
   ]
  },
  {
   "cell_type": "code",
   "execution_count": 3,
   "metadata": {},
   "outputs": [],
   "source": [
    "params = ConnectionParameters(url = \"http://localhost:8889/bigdata/namespace/kb/sparql\", cim_profile=cim_profile, iec61970_301=8)\n",
    "database = BlazegraphConnection(params)"
   ]
  },
  {
   "cell_type": "code",
   "execution_count": 4,
   "metadata": {},
   "outputs": [],
   "source": [
    "feeder_mrid = \"49AD8E07-3BF9-A4E2-CB8F-C3722F837B62\"\n",
    "feeder = database.get_object(mrid=feeder_mrid)"
   ]
  },
  {
   "cell_type": "code",
   "execution_count": 8,
   "metadata": {},
   "outputs": [],
   "source": [
    "network = FeederModel(connection=database, container=feeder, distributed=False)\n",
    "\n",
    "utils.get_all_data(network)"
   ]
  },
  {
   "cell_type": "code",
   "execution_count": 9,
   "metadata": {},
   "outputs": [
    {
     "name": "stdout",
     "output_type": "stream",
     "text": [
      "\n",
      "        PREFIX r:  <http://www.w3.org/1999/02/22-rdf-syntax-ns#>\n",
      "        PREFIX cim:  <http://iec.ch/TC57/CIM100#>\n",
      "        SELECT DISTINCT ?identifier ?attribute ?value ?edge\n",
      "        WHERE {\n",
      "          \n",
      "    VALUES ?identifier { \"37760DA6-EE8A-4CA5-9A93-75EA7134E927\" \n",
      " \"9B47782C-B78D-4627-82EF-4B87CAD7142E\" \n",
      " \"976BC86A-5BBF-4308-94AD-71855D644ECB\" \n",
      " \"9C12D8F5-097B-40F8-86F8-1D8F49665C00\" \n",
      " \"9CA1FF05-F0F2-4D79-8241-4C681DD0F746\" \n",
      " \"EC7F968E-2EDE-4007-B5AB-6DB38E4113FB\" \n",
      "               }\n",
      "        bind(iri(concat(\"urn:uuid:\", ?identifier)) as ?eq)\n",
      "\n",
      "        ?eq r:type cim:OperationalLimitType.\n",
      "\n",
      "        {?eq (cim:|!cim:) ?val.\n",
      "         ?eq ?attr ?val.}\n",
      "        UNION\n",
      "        {?val (cim:|!cim:) ?eq.\n",
      "         ?val ?attr ?eq.}\n",
      "\n",
      "        {bind(strafter(str(?attr),\"#\") as ?attribute)}\n",
      "        {bind(strafter(str(?val),\"urn:uuid:\") as ?uri)}\n",
      "        {bind(if(?uri = \"\", ?val, ?uri) as ?value)}\n",
      "\n",
      "        OPTIONAL {?val a ?classraw.\n",
      "                  bind(strafter(str(?classraw),\"http://iec.ch/TC57/CIM100#\") as ?edge_class)\n",
      "                  {bind(strafter(str(?val),\"urn:uuid:\") as ?uri)}\n",
      "\n",
      "                  bind(concat(\"{\\\"@id\\\":\\\"\", ?uri,\"\\\",\\\"@type\\\":\\\"\", ?edge_class, \"\\\"}\") as ?edge)}\n",
      "        }\n",
      "\n",
      "        ORDER by  ?identifier ?attribute\n",
      "        \n"
     ]
    }
   ],
   "source": [
    "print(network.get_edges_query(cim.OperationalLimitType))"
   ]
  },
  {
   "cell_type": "code",
   "execution_count": null,
   "metadata": {},
   "outputs": [],
   "source": []
  },
  {
   "cell_type": "code",
   "execution_count": 8,
   "metadata": {},
   "outputs": [
    {
     "data": {
      "text/plain": [
       "[{\"@id\": \"1f39b37f-2a84-4f56-b557-3a72cb840434\", \"@type\": \"SwitchArea\"},\n",
       " {\"@id\": \"2cff1e26-8f8f-42b5-b054-87f28523d303\", \"@type\": \"SwitchArea\"},\n",
       " {\"@id\": \"30c3c4ce-a7b6-4f7b-b2bc-3d771ed09b2b\", \"@type\": \"SwitchArea\"},\n",
       " {\"@id\": \"4021f7cf-340c-45e3-841f-e7b5fe8b93be\", \"@type\": \"SwitchArea\"}]"
      ]
     },
     "execution_count": 8,
     "metadata": {},
     "output_type": "execute_result"
    }
   ],
   "source": [
    "network.graph[cim.FeederArea][UUID('b6373777-16cb-45d7-9bf0-6f51d91cf949')].SwitchAreas\n"
   ]
  },
  {
   "cell_type": "code",
   "execution_count": 11,
   "metadata": {},
   "outputs": [
    {
     "data": {
      "text/plain": [
       "[DistributedArea(container={\"@id\": \"1f39b37f-2a84-4f56-b557-3a72cb840434\", \"@type\": \"SwitchArea\"}, connection=<cimgraph.databases.blazegraph.blazegraph.BlazegraphConnection object at 0x7f1cc2253640>, distributed=True, graph={<class 'cimgraph.data_profile.cimhub_2023.cimhub_2023.SwitchArea'>: {UUID('1f39b37f-2a84-4f56-b557-3a72cb840434'): {\"@id\": \"1f39b37f-2a84-4f56-b557-3a72cb840434\", \"@type\": \"SwitchArea\"}}, <class 'cimgraph.data_profile.cimhub_2023.cimhub_2023.ACLineSegment'>: {UUID('8e180773-2a9b-4136-bc9a-132a52c8e276'): {\"@id\": \"8e180773-2a9b-4136-bc9a-132a52c8e276\", \"@type\": \"ACLineSegment\"}}, <class 'cimgraph.data_profile.cimhub_2023.cimhub_2023.LinearShuntCompensator'>: {UUID('9d725810-bfd6-44c6-961a-2bc027f6fc95'): {\"@id\": \"9d725810-bfd6-44c6-961a-2bc027f6fc95\", \"@type\": \"LinearShuntCompensator\"}}, <class 'cimgraph.data_profile.cimhub_2023.cimhub_2023.EnergyConsumer'>: {UUID('60b55036-dd71-40ce-adda-97b8ce7447dc'): {\"@id\": \"60b55036-dd71-40ce-adda-97b8ce7447dc\", \"@type\": \"EnergyConsumer\"}}, <class 'cimgraph.data_profile.cimhub_2023.cimhub_2023.FeederArea'>: {UUID('b6373777-16cb-45d7-9bf0-6f51d91cf949'): {\"@id\": \"b6373777-16cb-45d7-9bf0-6f51d91cf949\", \"@type\": \"FeederArea\"}}, <class 'cimgraph.data_profile.cimhub_2023.cimhub_2023.Terminal'>: {UUID('02ae202b-d91b-4ead-8ec9-3b87bdd67c8b'): {\"@id\": \"02ae202b-d91b-4ead-8ec9-3b87bdd67c8b\", \"@type\": \"Terminal\"}, UUID('2f5c9d9b-8cc5-4636-8bc8-2ac78f01f5bc'): {\"@id\": \"2f5c9d9b-8cc5-4636-8bc8-2ac78f01f5bc\", \"@type\": \"Terminal\"}, UUID('ea5ff2c4-f7e1-436d-bdec-1c48d4dbb50d'): {\"@id\": \"ea5ff2c4-f7e1-436d-bdec-1c48d4dbb50d\", \"@type\": \"Terminal\"}, UUID('233304a2-b68b-4ec3-a692-4735de495569'): {\"@id\": \"233304a2-b68b-4ec3-a692-4735de495569\", \"@type\": \"Terminal\"}, UUID('fd3834ff-6c3b-434f-a41d-77eb8237f53d'): {\"@id\": \"fd3834ff-6c3b-434f-a41d-77eb8237f53d\", \"@type\": \"Terminal\"}}, <class 'cimgraph.data_profile.cimhub_2023.cimhub_2023.ConnectivityNode'>: {UUID('dbfa8efa-b397-40da-9642-60e8de4b3471'): {\"@id\": \"dbfa8efa-b397-40da-9642-60e8de4b3471\", \"@type\": \"ConnectivityNode\"}, UUID('2a6dc4dd-d3dc-434d-a187-d2c58a0a72c8'): {\"@id\": \"2a6dc4dd-d3dc-434d-a187-d2c58a0a72c8\", \"@type\": \"ConnectivityNode\"}}}),\n",
       " DistributedArea(container={\"@id\": \"2cff1e26-8f8f-42b5-b054-87f28523d303\", \"@type\": \"SwitchArea\"}, connection=<cimgraph.databases.blazegraph.blazegraph.BlazegraphConnection object at 0x7f1cc2253640>, distributed=True, graph={<class 'cimgraph.data_profile.cimhub_2023.cimhub_2023.SwitchArea'>: {UUID('2cff1e26-8f8f-42b5-b054-87f28523d303'): {\"@id\": \"2cff1e26-8f8f-42b5-b054-87f28523d303\", \"@type\": \"SwitchArea\"}}, <class 'cimgraph.data_profile.cimhub_2023.cimhub_2023.ACLineSegment'>: {UUID('a04cdfb1-e951-4fc4-8882-0323cd70ae3c'): {\"@id\": \"a04cdfb1-e951-4fc4-8882-0323cd70ae3c\", \"@type\": \"ACLineSegment\"}, UUID('fbe26b35-13ab-457d-9795-df58b28e309d'): {\"@id\": \"fbe26b35-13ab-457d-9795-df58b28e309d\", \"@type\": \"ACLineSegment\"}, UUID('0bbd0ea3-f665-465b-86fd-fc8b8466ad53'): {\"@id\": \"0bbd0ea3-f665-465b-86fd-fc8b8466ad53\", \"@type\": \"ACLineSegment\"}, UUID('1c6781a2-5b9d-4525-8a9b-f9b32c4c4ac0'): {\"@id\": \"1c6781a2-5b9d-4525-8a9b-f9b32c4c4ac0\", \"@type\": \"ACLineSegment\"}}, <class 'cimgraph.data_profile.cimhub_2023.cimhub_2023.EnergyConsumer'>: {UUID('0bc9183a-9067-4e06-aa5b-48dc2ab30c80'): {\"@id\": \"0bc9183a-9067-4e06-aa5b-48dc2ab30c80\", \"@type\": \"EnergyConsumer\"}, UUID('47e52220-4596-4af0-9724-0167b72a4db8'): {\"@id\": \"47e52220-4596-4af0-9724-0167b72a4db8\", \"@type\": \"EnergyConsumer\"}}, <class 'cimgraph.data_profile.cimhub_2023.cimhub_2023.Fuse'>: {UUID('43ef8365-f932-409b-a51e-fbed3f6dffaa'): {\"@id\": \"43ef8365-f932-409b-a51e-fbed3f6dffaa\", \"@type\": \"Fuse\"}}, <class 'cimgraph.data_profile.cimhub_2023.cimhub_2023.PowerTransformer'>: {UUID('67b57539-590b-4158-9cbb-9dba2fe6c1f0'): {\"@id\": \"67b57539-590b-4158-9cbb-9dba2fe6c1f0\", \"@type\": \"PowerTransformer\"}}, <class 'cimgraph.data_profile.cimhub_2023.cimhub_2023.SecondaryArea'>: {UUID('91aac04c-8d87-4385-a3a2-b768aeaddfd2'): {\"@id\": \"91aac04c-8d87-4385-a3a2-b768aeaddfd2\", \"@type\": \"SecondaryArea\"}}, <class 'cimgraph.data_profile.cimhub_2023.cimhub_2023.FeederArea'>: {UUID('b6373777-16cb-45d7-9bf0-6f51d91cf949'): {\"@id\": \"b6373777-16cb-45d7-9bf0-6f51d91cf949\", \"@type\": \"FeederArea\"}}, <class 'cimgraph.data_profile.cimhub_2023.cimhub_2023.Terminal'>: {UUID('af475341-bbe8-4c30-a30e-b6ebe9768322'): {\"@id\": \"af475341-bbe8-4c30-a30e-b6ebe9768322\", \"@type\": \"Terminal\"}, UUID('ebaef4a4-5d80-4fad-a133-aa18607f3c31'): {\"@id\": \"ebaef4a4-5d80-4fad-a133-aa18607f3c31\", \"@type\": \"Terminal\"}, UUID('2847e06b-c8ed-41e6-b515-c61c9e8eb4b4'): {\"@id\": \"2847e06b-c8ed-41e6-b515-c61c9e8eb4b4\", \"@type\": \"Terminal\"}, UUID('f3c0f2d0-4d28-49b5-a920-37409b99229d'): {\"@id\": \"f3c0f2d0-4d28-49b5-a920-37409b99229d\", \"@type\": \"Terminal\"}, UUID('d02b9e99-3557-48f5-b475-4871e47d08f6'): {\"@id\": \"d02b9e99-3557-48f5-b475-4871e47d08f6\", \"@type\": \"Terminal\"}, UUID('579a122e-a262-4830-88c6-1addb81761b1'): {\"@id\": \"579a122e-a262-4830-88c6-1addb81761b1\", \"@type\": \"Terminal\"}, UUID('4891537f-4088-48f5-9b1a-8294d50901e4'): {\"@id\": \"4891537f-4088-48f5-9b1a-8294d50901e4\", \"@type\": \"Terminal\"}, UUID('a563a3a5-ea39-4998-96b2-538227e2d2f6'): {\"@id\": \"a563a3a5-ea39-4998-96b2-538227e2d2f6\", \"@type\": \"Terminal\"}, UUID('d1cf8d27-7793-45fd-ba55-addb77afed1e'): {\"@id\": \"d1cf8d27-7793-45fd-ba55-addb77afed1e\", \"@type\": \"Terminal\"}, UUID('3621713b-852e-4f95-8586-2d55313ed673'): {\"@id\": \"3621713b-852e-4f95-8586-2d55313ed673\", \"@type\": \"Terminal\"}, UUID('15298d41-d5e5-464f-a96d-01ffcf0da7db'): {\"@id\": \"15298d41-d5e5-464f-a96d-01ffcf0da7db\", \"@type\": \"Terminal\"}, UUID('02cd5661-c654-43f6-8d1a-0d666070bb81'): {\"@id\": \"02cd5661-c654-43f6-8d1a-0d666070bb81\", \"@type\": \"Terminal\"}, UUID('f8856652-20fb-4760-874d-3d785e91a83e'): {\"@id\": \"f8856652-20fb-4760-874d-3d785e91a83e\", \"@type\": \"Terminal\"}, UUID('ec150da0-864e-4c61-b681-3cf27ab27b82'): {\"@id\": \"ec150da0-864e-4c61-b681-3cf27ab27b82\", \"@type\": \"Terminal\"}, UUID('9ac596a8-d859-48f3-a286-d2533f9b9733'): {\"@id\": \"9ac596a8-d859-48f3-a286-d2533f9b9733\", \"@type\": \"Terminal\"}, UUID('f5258b9a-b51e-40dd-9a06-5918e41f3c35'): {\"@id\": \"f5258b9a-b51e-40dd-9a06-5918e41f3c35\", \"@type\": \"Terminal\"}, UUID('5a1120ee-0f2a-4698-9ff5-0f0f4f507baf'): {\"@id\": \"5a1120ee-0f2a-4698-9ff5-0f0f4f507baf\", \"@type\": \"Terminal\"}, UUID('000ba1f2-6879-47d7-826d-3cacd23ee20b'): {\"@id\": \"000ba1f2-6879-47d7-826d-3cacd23ee20b\", \"@type\": \"Terminal\"}, UUID('3589a9be-f3be-45c3-b84e-3ce5b6105d11'): {\"@id\": \"3589a9be-f3be-45c3-b84e-3ce5b6105d11\", \"@type\": \"Terminal\"}, UUID('a6c57c2e-a084-4701-adf5-fb6f3e36f45c'): {\"@id\": \"a6c57c2e-a084-4701-adf5-fb6f3e36f45c\", \"@type\": \"Terminal\"}, UUID('f0e10483-d8ad-46be-af5f-08228955796b'): {\"@id\": \"f0e10483-d8ad-46be-af5f-08228955796b\", \"@type\": \"Terminal\"}}, <class 'cimgraph.data_profile.cimhub_2023.cimhub_2023.ConnectivityNode'>: {UUID('0124e881-b82d-4206-bbdf-37d585159872'): {\"@id\": \"0124e881-b82d-4206-bbdf-37d585159872\", \"@type\": \"ConnectivityNode\"}, UUID('8c58660f-c62c-4903-be72-22f1255b1e62'): {\"@id\": \"8c58660f-c62c-4903-be72-22f1255b1e62\", \"@type\": \"ConnectivityNode\"}, UUID('6cb5e5ce-2cd0-40cc-a979-b4f9ed05e49b'): {\"@id\": \"6cb5e5ce-2cd0-40cc-a979-b4f9ed05e49b\", \"@type\": \"ConnectivityNode\"}, UUID('addb7a30-5a3c-4179-af5d-5c9a7213b0e7'): {\"@id\": \"addb7a30-5a3c-4179-af5d-5c9a7213b0e7\", \"@type\": \"ConnectivityNode\"}, UUID('c6256170-e6ed-4f91-8ebd-748090c3fdd5'): {\"@id\": \"c6256170-e6ed-4f91-8ebd-748090c3fdd5\", \"@type\": \"ConnectivityNode\"}, UUID('673e896a-dcbf-4e43-9924-beb31c5b6005'): {\"@id\": \"673e896a-dcbf-4e43-9924-beb31c5b6005\", \"@type\": \"ConnectivityNode\"}, UUID('94f822e0-7130-4205-8597-b47110bbef4b'): {\"@id\": \"94f822e0-7130-4205-8597-b47110bbef4b\", \"@type\": \"ConnectivityNode\"}}}),\n",
       " DistributedArea(container={\"@id\": \"30c3c4ce-a7b6-4f7b-b2bc-3d771ed09b2b\", \"@type\": \"SwitchArea\"}, connection=<cimgraph.databases.blazegraph.blazegraph.BlazegraphConnection object at 0x7f1cc2253640>, distributed=True, graph={<class 'cimgraph.data_profile.cimhub_2023.cimhub_2023.SwitchArea'>: {UUID('30c3c4ce-a7b6-4f7b-b2bc-3d771ed09b2b'): {\"@id\": \"30c3c4ce-a7b6-4f7b-b2bc-3d771ed09b2b\", \"@type\": \"SwitchArea\"}}, <class 'cimgraph.data_profile.cimhub_2023.cimhub_2023.EnergyConsumer'>: {UUID('8ca46f28-84c0-4fe2-b228-ec4080777865'): {\"@id\": \"8ca46f28-84c0-4fe2-b228-ec4080777865\", \"@type\": \"EnergyConsumer\"}, UUID('8e34333c-2bb8-4631-b072-383f1ca38f60'): {\"@id\": \"8e34333c-2bb8-4631-b072-383f1ca38f60\", \"@type\": \"EnergyConsumer\"}, UUID('9caaf741-be1e-4893-8044-1e507b7ddc38'): {\"@id\": \"9caaf741-be1e-4893-8044-1e507b7ddc38\", \"@type\": \"EnergyConsumer\"}, UUID('3fffb3f7-a7af-49e1-acee-449fc73d3cd6'): {\"@id\": \"3fffb3f7-a7af-49e1-acee-449fc73d3cd6\", \"@type\": \"EnergyConsumer\"}}, <class 'cimgraph.data_profile.cimhub_2023.cimhub_2023.LinearShuntCompensator'>: {UUID('a9de8829-58cb-4750-b2a2-672846a89753'): {\"@id\": \"a9de8829-58cb-4750-b2a2-672846a89753\", \"@type\": \"LinearShuntCompensator\"}}, <class 'cimgraph.data_profile.cimhub_2023.cimhub_2023.ACLineSegment'>: {UUID('7060d0bb-b30d-4932-8fa1-40820a0fc4d0'): {\"@id\": \"7060d0bb-b30d-4932-8fa1-40820a0fc4d0\", \"@type\": \"ACLineSegment\"}}, <class 'cimgraph.data_profile.cimhub_2023.cimhub_2023.FeederArea'>: {UUID('b6373777-16cb-45d7-9bf0-6f51d91cf949'): {\"@id\": \"b6373777-16cb-45d7-9bf0-6f51d91cf949\", \"@type\": \"FeederArea\"}}, <class 'cimgraph.data_profile.cimhub_2023.cimhub_2023.Terminal'>: {UUID('169cb0d6-0002-457f-9594-7feb09da102d'): {\"@id\": \"169cb0d6-0002-457f-9594-7feb09da102d\", \"@type\": \"Terminal\"}, UUID('72362309-a950-40bc-a38c-e08e1ad53477'): {\"@id\": \"72362309-a950-40bc-a38c-e08e1ad53477\", \"@type\": \"Terminal\"}, UUID('b4e1784c-5500-47ae-958b-a286ce8c17a5'): {\"@id\": \"b4e1784c-5500-47ae-958b-a286ce8c17a5\", \"@type\": \"Terminal\"}, UUID('cd147977-45b7-48ad-9f72-4f488bd6ad6d'): {\"@id\": \"cd147977-45b7-48ad-9f72-4f488bd6ad6d\", \"@type\": \"Terminal\"}, UUID('9ca4064a-aacd-49db-9296-7adc7e195358'): {\"@id\": \"9ca4064a-aacd-49db-9296-7adc7e195358\", \"@type\": \"Terminal\"}, UUID('0a29aef0-5f49-47ae-a413-9308aa61b72b'): {\"@id\": \"0a29aef0-5f49-47ae-a413-9308aa61b72b\", \"@type\": \"Terminal\"}, UUID('02a67d2e-58ff-4cab-9a85-4346e9e08f1b'): {\"@id\": \"02a67d2e-58ff-4cab-9a85-4346e9e08f1b\", \"@type\": \"Terminal\"}, UUID('5b38070b-e918-4eaa-8bdb-8b3ce4f8a917'): {\"@id\": \"5b38070b-e918-4eaa-8bdb-8b3ce4f8a917\", \"@type\": \"Terminal\"}}, <class 'cimgraph.data_profile.cimhub_2023.cimhub_2023.ConnectivityNode'>: {UUID('63dfbea0-cd06-4d2e-b956-df9517be057b'): {\"@id\": \"63dfbea0-cd06-4d2e-b956-df9517be057b\", \"@type\": \"ConnectivityNode\"}, UUID('e5b2888b-b60d-4da6-a4f7-17eb849d28b2'): {\"@id\": \"e5b2888b-b60d-4da6-a4f7-17eb849d28b2\", \"@type\": \"ConnectivityNode\"}}}),\n",
       " DistributedArea(container={\"@id\": \"4021f7cf-340c-45e3-841f-e7b5fe8b93be\", \"@type\": \"SwitchArea\"}, connection=<cimgraph.databases.blazegraph.blazegraph.BlazegraphConnection object at 0x7f1cc2253640>, distributed=True, graph={<class 'cimgraph.data_profile.cimhub_2023.cimhub_2023.SwitchArea'>: {UUID('4021f7cf-340c-45e3-841f-e7b5fe8b93be'): {\"@id\": \"4021f7cf-340c-45e3-841f-e7b5fe8b93be\", \"@type\": \"SwitchArea\"}}, <class 'cimgraph.data_profile.cimhub_2023.cimhub_2023.EnergyConsumer'>: {UUID('91a37b4c-c38b-4269-8467-f40870934386'): {\"@id\": \"91a37b4c-c38b-4269-8467-f40870934386\", \"@type\": \"EnergyConsumer\"}, UUID('e26d83a0-d29d-41ef-9528-02c882ffcc0d'): {\"@id\": \"e26d83a0-d29d-41ef-9528-02c882ffcc0d\", \"@type\": \"EnergyConsumer\"}, UUID('e503bbf8-3c82-4df7-b6e9-2488ecfcc847'): {\"@id\": \"e503bbf8-3c82-4df7-b6e9-2488ecfcc847\", \"@type\": \"EnergyConsumer\"}, UUID('572bcfc9-e1d6-4419-9a33-edd284806af3'): {\"@id\": \"572bcfc9-e1d6-4419-9a33-edd284806af3\", \"@type\": \"EnergyConsumer\"}, UUID('70188ff4-04f0-48d2-8706-698d1fd086e6'): {\"@id\": \"70188ff4-04f0-48d2-8706-698d1fd086e6\", \"@type\": \"EnergyConsumer\"}}, <class 'cimgraph.data_profile.cimhub_2023.cimhub_2023.ACLineSegment'>: {UUID('abf53597-a808-422a-b7ee-552f24d83a5f'): {\"@id\": \"abf53597-a808-422a-b7ee-552f24d83a5f\", \"@type\": \"ACLineSegment\"}, UUID('abf877d7-dac2-4bf0-ab58-9a8a02e92eb3'): {\"@id\": \"abf877d7-dac2-4bf0-ab58-9a8a02e92eb3\", \"@type\": \"ACLineSegment\"}, UUID('d34b0d01-b082-4081-a3cc-b68b9b8313a4'): {\"@id\": \"d34b0d01-b082-4081-a3cc-b68b9b8313a4\", \"@type\": \"ACLineSegment\"}, UUID('45395c84-f20a-4f5a-977f-b80348256421'): {\"@id\": \"45395c84-f20a-4f5a-977f-b80348256421\", \"@type\": \"ACLineSegment\"}, UUID('4c04f838-62aa-475e-aefa-a63b7c889c13'): {\"@id\": \"4c04f838-62aa-475e-aefa-a63b7c889c13\", \"@type\": \"ACLineSegment\"}}, <class 'cimgraph.data_profile.cimhub_2023.cimhub_2023.SecondaryArea'>: {UUID('4396f6fc-5231-4af1-a2a6-d5b9e0836983'): {\"@id\": \"4396f6fc-5231-4af1-a2a6-d5b9e0836983\", \"@type\": \"SecondaryArea\"}}, <class 'cimgraph.data_profile.cimhub_2023.cimhub_2023.FeederArea'>: {UUID('b6373777-16cb-45d7-9bf0-6f51d91cf949'): {\"@id\": \"b6373777-16cb-45d7-9bf0-6f51d91cf949\", \"@type\": \"FeederArea\"}}, <class 'cimgraph.data_profile.cimhub_2023.cimhub_2023.Terminal'>: {UUID('8c674f14-d9ff-4b1c-b246-1235022cd4c2'): {\"@id\": \"8c674f14-d9ff-4b1c-b246-1235022cd4c2\", \"@type\": \"Terminal\"}, UUID('8f517dfe-d985-4d24-8339-96fa2a789e88'): {\"@id\": \"8f517dfe-d985-4d24-8339-96fa2a789e88\", \"@type\": \"Terminal\"}, UUID('dd4717b2-5fcd-4e67-9bc8-dd307b80afea'): {\"@id\": \"dd4717b2-5fcd-4e67-9bc8-dd307b80afea\", \"@type\": \"Terminal\"}, UUID('f1d6c919-22fa-4e94-81b1-36823f5a9ff5'): {\"@id\": \"f1d6c919-22fa-4e94-81b1-36823f5a9ff5\", \"@type\": \"Terminal\"}, UUID('092a5199-db5e-419e-adcf-53b290efab2c'): {\"@id\": \"092a5199-db5e-419e-adcf-53b290efab2c\", \"@type\": \"Terminal\"}, UUID('eef69c71-5a87-4378-8df4-4578635c81b4'): {\"@id\": \"eef69c71-5a87-4378-8df4-4578635c81b4\", \"@type\": \"Terminal\"}, UUID('ff3de145-0066-4c1f-867c-2a2bf3012edf'): {\"@id\": \"ff3de145-0066-4c1f-867c-2a2bf3012edf\", \"@type\": \"Terminal\"}, UUID('8be8d3ea-eee9-406c-b24c-b169c8ec799a'): {\"@id\": \"8be8d3ea-eee9-406c-b24c-b169c8ec799a\", \"@type\": \"Terminal\"}, UUID('02217298-ad5b-463c-a912-957740214701'): {\"@id\": \"02217298-ad5b-463c-a912-957740214701\", \"@type\": \"Terminal\"}, UUID('ccc4e540-46cc-422c-98da-32898fd31637'): {\"@id\": \"ccc4e540-46cc-422c-98da-32898fd31637\", \"@type\": \"Terminal\"}, UUID('83481773-e9fc-4720-89b4-796c5081d518'): {\"@id\": \"83481773-e9fc-4720-89b4-796c5081d518\", \"@type\": \"Terminal\"}, UUID('b554744a-f5b5-485c-b67e-2487a8740295'): {\"@id\": \"b554744a-f5b5-485c-b67e-2487a8740295\", \"@type\": \"Terminal\"}, UUID('5edb2918-d669-457c-9f44-e08eba5ac850'): {\"@id\": \"5edb2918-d669-457c-9f44-e08eba5ac850\", \"@type\": \"Terminal\"}, UUID('8692a804-428a-4637-bd47-69c76f873dab'): {\"@id\": \"8692a804-428a-4637-bd47-69c76f873dab\", \"@type\": \"Terminal\"}, UUID('3313c5a7-ed81-47d3-8114-ad654a5de21b'): {\"@id\": \"3313c5a7-ed81-47d3-8114-ad654a5de21b\", \"@type\": \"Terminal\"}, UUID('bc623628-bd23-4a1a-a406-15ca63556149'): {\"@id\": \"bc623628-bd23-4a1a-a406-15ca63556149\", \"@type\": \"Terminal\"}, UUID('a4c58654-2972-4a3e-ae65-3868941da037'): {\"@id\": \"a4c58654-2972-4a3e-ae65-3868941da037\", \"@type\": \"Terminal\"}, UUID('f3a001ba-c6be-450e-b572-b6d5819808ea'): {\"@id\": \"f3a001ba-c6be-450e-b572-b6d5819808ea\", \"@type\": \"Terminal\"}, UUID('f421b562-1af9-42c1-8906-d80caba91fc4'): {\"@id\": \"f421b562-1af9-42c1-8906-d80caba91fc4\", \"@type\": \"Terminal\"}}, <class 'cimgraph.data_profile.cimhub_2023.cimhub_2023.ConnectivityNode'>: {UUID('30be5988-de57-4e0c-ab08-50d5a13d2c1b'): {\"@id\": \"30be5988-de57-4e0c-ab08-50d5a13d2c1b\", \"@type\": \"ConnectivityNode\"}, UUID('dc889fa5-7b28-4273-a1d7-205be3e0bfed'): {\"@id\": \"dc889fa5-7b28-4273-a1d7-205be3e0bfed\", \"@type\": \"ConnectivityNode\"}, UUID('76d6d03c-967c-4e12-836d-a98df3552bc7'): {\"@id\": \"76d6d03c-967c-4e12-836d-a98df3552bc7\", \"@type\": \"ConnectivityNode\"}, UUID('0f1e28c3-6c44-4f88-b79c-2fdbca4487b2'): {\"@id\": \"0f1e28c3-6c44-4f88-b79c-2fdbca4487b2\", \"@type\": \"ConnectivityNode\"}, UUID('421e99be-a834-4809-b924-84d88f634a45'): {\"@id\": \"421e99be-a834-4809-b924-84d88f634a45\", \"@type\": \"ConnectivityNode\"}, UUID('8e99f99d-fe8f-420b-ac49-0b52df5362ab'): {\"@id\": \"8e99f99d-fe8f-420b-ac49-0b52df5362ab\", \"@type\": \"ConnectivityNode\"}}})]"
      ]
     },
     "execution_count": 11,
     "metadata": {},
     "output_type": "execute_result"
    }
   ],
   "source": [
    "fam = network.distributed_areas[0]\n",
    "fam.distributed_areas"
   ]
  },
  {
   "cell_type": "code",
   "execution_count": null,
   "metadata": {},
   "outputs": [],
   "source": []
  },
  {
   "cell_type": "code",
   "execution_count": 6,
   "metadata": {},
   "outputs": [],
   "source": [
    "from cimgraph.models.distributed_area import AddressableEquipment, UnaddressableEquipment\n",
    "AddrEquip = AddressableEquipment(cim)\n",
    "UnaddrEquip = UnaddressableEquipment(cim)a"
   ]
  },
  {
   "cell_type": "code",
   "execution_count": 8,
   "metadata": {},
   "outputs": [],
   "source": [
    "addressable_equipment = []\n",
    "unaddressable_equipment = []\n",
    "AddrEquip.identify_addressable(addressable_equipment=addressable_equipment, graph=network.distributed_areas[0].graph)\n",
    "UnaddrEquip.identify_unaddressable(unaddressable_equipment=unaddressable_equipment, graph=network.distributed_areas[0].graph)"
   ]
  },
  {
   "cell_type": "code",
   "execution_count": 9,
   "metadata": {},
   "outputs": [
    {
     "data": {
      "text/plain": [
       "[{\"@id\": \"52de9189-20dc-4c73-bdee-e960fe1f9493\", \"@type\": \"Breaker\"},\n",
       " {\"@id\": \"2858b6c2-0886-4269-884c-06fa8b887319\", \"@type\": \"LoadBreakSwitch\"},\n",
       " {\"@id\": \"517413cb-6977-46fa-8911-c82332e42884\", \"@type\": \"LoadBreakSwitch\"},\n",
       " {\"@id\": \"ce5d0651-676b-4af3-8d67-41bf1b33e30c\", \"@type\": \"Recloser\"}]"
      ]
     },
     "execution_count": 9,
     "metadata": {},
     "output_type": "execute_result"
    }
   ],
   "source": [
    "addressable_equipment"
   ]
  },
  {
   "cell_type": "code",
   "execution_count": null,
   "metadata": {},
   "outputs": [],
   "source": [
    "for mrid in [\"52DE9189-20DC-4C73-BDEE-E960FE1F9493\",\n",
    "   \"43EF8365-F932-409B-A51E-FBED3F6DFFAA\",\n",
    "   \"2858B6C2-0886-4269-884C-06FA8B887319\",\n",
    "   \"517413CB-6977-46FA-8911-C82332E42884\",\n",
    "   \"CE5D0651-676B-4AF3-8D67-41BF1B33E30C\",\n",
    "   \"517413CB-6977-46FA-8911-C82332E42884\",\n",
    "   \"2858B6C2-0886-4269-884C-06FA8B887319\"]:\n",
    "    obj = database.get_object(mrid=mrid)\n",
    "    print(obj)"
   ]
  },
  {
   "cell_type": "code",
   "execution_count": null,
   "metadata": {},
   "outputs": [],
   "source": [
    "for cim_class in network.feeder_area_context.graph:\n",
    "    print(cim_class.__name__)"
   ]
  },
  {
   "cell_type": "code",
   "execution_count": 11,
   "metadata": {},
   "outputs": [],
   "source": [
    "feeder_area = cim.FeederArea(mRID = \"b6373777-16cb-45d7-9bf0-6f51d91cf949\")\n"
   ]
  },
  {
   "cell_type": "code",
   "execution_count": null,
   "metadata": {},
   "outputs": [],
   "source": [
    "print(sparql.get_triple_sparql(feeder, 'Feeder.FeederArea', params))"
   ]
  },
  {
   "cell_type": "code",
   "execution_count": null,
   "metadata": {},
   "outputs": [],
   "source": [
    "database.get_from_triple(feeder, \"Feeder.FeederArea\")"
   ]
  },
  {
   "cell_type": "code",
   "execution_count": null,
   "metadata": {},
   "outputs": [],
   "source": []
  },
  {
   "cell_type": "code",
   "execution_count": null,
   "metadata": {},
   "outputs": [],
   "source": [
    "qwery"
   ]
  },
  {
   "cell_type": "code",
   "execution_count": null,
   "metadata": {},
   "outputs": [],
   "source": []
  },
  {
   "cell_type": "code",
   "execution_count": null,
   "metadata": {},
   "outputs": [],
   "source": []
  },
  {
   "cell_type": "code",
   "execution_count": 7,
   "metadata": {},
   "outputs": [],
   "source": [
    "cim_profile = 'rc4_2021'\n",
    "import  cimgraph.data_profile.rc4_2021 as cim1\n",
    "from cimgraph.databases import ConnectionParameters\n",
    "from cimgraph.databases import BlazegraphConnection\n",
    "from cimgraph.models import FeederModel\n",
    "params = ConnectionParameters(url = \"http://localhost:8889/bigdata/namespace/kb/sparql\", cim_profile=cim_profile, iec61970_301=7)\n",
    "database = BlazegraphConnection(params)"
   ]
  },
  {
   "cell_type": "code",
   "execution_count": 18,
   "metadata": {},
   "outputs": [],
   "source": [
    "feeder_mrid = \"_49AD8E07-3BF9-A4E2-CB8F-C3722F837B62\"\n",
    "feeder = database.get_object(mrid=feeder_mrid)\n",
    "network = FeederModel(connection=database, container=feeder, distributed=False)"
   ]
  },
  {
   "cell_type": "code",
   "execution_count": null,
   "metadata": {},
   "outputs": [],
   "source": [
    "utils.get_all_data(network)"
   ]
  },
  {
   "cell_type": "code",
   "execution_count": null,
   "metadata": {},
   "outputs": [],
   "source": [
    "for inverter in network.graph[cim.EnergyConsumer].values():\n",
    "    print(inverter.name)\n",
    "    for meas in inverter.Measurements:\n",
    "        print('seq:', meas.Terminal.sequenceNumber, meas.measurementType, meas.phases, meas.name)"
   ]
  },
  {
   "cell_type": "code",
   "execution_count": null,
   "metadata": {},
   "outputs": [],
   "source": [
    "for meas in network.graph[cim.EnergyConsumer][UUID('47e52220-4596-4af0-9724-0167b72a4db8')].Measurements:\n",
    "    print('seq:', meas.Terminal.sequenceNumber, meas.measurementType, meas.phases, meas.name)\n"
   ]
  },
  {
   "cell_type": "code",
   "execution_count": null,
   "metadata": {},
   "outputs": [],
   "source": [
    "for meas in network.graph[cim.ACLineSegment][UUID('0bbd0ea3-f665-465b-86fd-fc8b8466ad53')].Measurements:\n",
    "    print('seq:', meas.Terminal.sequenceNumber, meas.measurementType, meas.phases, meas.name)\n",
    "    # meas.pprint()"
   ]
  },
  {
   "cell_type": "code",
   "execution_count": null,
   "metadata": {},
   "outputs": [],
   "source": [
    "network.pprint(cim.Discrete)"
   ]
  },
  {
   "cell_type": "code",
   "execution_count": null,
   "metadata": {},
   "outputs": [],
   "source": [
    "database.get_object(\"_67B57539-590B-4158-9CBB-9DBA2FE6C1F0\")"
   ]
  },
  {
   "cell_type": "code",
   "execution_count": null,
   "metadata": {},
   "outputs": [],
   "source": []
  },
  {
   "cell_type": "code",
   "execution_count": 11,
   "metadata": {},
   "outputs": [],
   "source": [
    "network.get_all_edges(cim.Terminal)"
   ]
  },
  {
   "cell_type": "code",
   "execution_count": 15,
   "metadata": {},
   "outputs": [],
   "source": [
    "for switch in network.graph.get(cim.Sectionaliser, {}).values():\n",
    "    print(switch.name, switch.Terminals[0].sequenceNumber)\n",
    "    print(switch.name, switch.Terminals[1].sequenceNumber)"
   ]
  },
  {
   "cell_type": "code",
   "execution_count": 16,
   "metadata": {},
   "outputs": [],
   "source": [
    "utils.get_all_data(network)"
   ]
  },
  {
   "cell_type": "code",
   "execution_count": null,
   "metadata": {},
   "outputs": [],
   "source": [
    "# feeder_mrids = [\"_49AD8E07-3BF9-A4E2-CB8F-C3722F837B62\", # 13 bus\n",
    "#                 \"_C1C3E687-6FFD-C753-582B-632A27E28507\",  # 123 bus\n",
    "#                 \"_5B816B93-7A5F-B64C-8460-47C17D6E4B0F\"] # 13 bus asets\n",
    "#                 # \"_4F76A5F9-271D-9EB8-5E31-AA362D86F2C3\",  # 8500 node\n",
    "#                 # \"_67AB291F-DCCD-31B7-B499-338206B9828F\", # J1\n",
    "#                 # \"_9CE150A8-8CC5-A0F9-B67E-BBD8C79D3095\"]  # R2 12.47 3\n",
    "# # feeder_mrid = \"_EE71F6C9-56F0-4167-A14E-7F4C71F10EAA\" #9500 node\n",
    "# # feeder_mrid = \"_9E985101-27AD-4FE4-B36A-EBECC98CDFAB\" #MAPLE 10 bus\n",
    "# for feeder_mrid in feeder_mrids:\n",
    "#     print(feeder_mrid)\n",
    "#     feeder = cim.Feeder(mRID = feeder_mrid)\n",
    "#     network = FeederModel(connection=connection, container=feeder, distributed=False)\n",
    "#     utils.get_all_data(network)"
   ]
  },
  {
   "cell_type": "code",
   "execution_count": null,
   "metadata": {},
   "outputs": [],
   "source": [
    "substation=cim.Substation(mRID='_B1D29E92-5F08-4DB8-8298-3F9DF829C037')\n",
    "SubstationArea = DistributedArea(connection=database, container=substation,distributed=True)\n",
    "SubstationArea.get_all_edges(cim.Substation)\n",
    "# SubstationArea.get_all_edges(cim.ConnectivityNode)\n",
    "# SubstationArea.get_all_edges(cim.PowerTransformer)\n",
    "# SubstationArea.get_all_edges(cim.EnergyConsumer)\n",
    "# SubstationArea.get_all_attributes(cim.SubGeographicalRegion)\n",
    "# SubstationArea.get_all_edges(cim.VoltageLevel)\n",
    "# SubstationArea.get_all_edges(cim.PowerTransformerEnd)\n",
    "# SubstationArea.get_all_edges(cim.Terminal)\n",
    "# SubstationArea.get_all_edges(cim.TransformerCoreAdmittance)\n",
    "# SubstationArea.get_all_attributes(cim.BaseVoltage)\n",
    "# SubstationArea.get_all_edges(cim.TransformerMeshImpedance)\n",
    "# SubstationArea.get_all_attributes(cim.LoadResponseCharacteristic)\n",
    "utils.write_xml(SubstationArea, '/home/ande188/sub.xml')\n",
    "import time\n",
    "time.sleep(5)\n"
   ]
  },
  {
   "cell_type": "code",
   "execution_count": null,
   "metadata": {},
   "outputs": [],
   "source": [
    "substation"
   ]
  },
  {
   "cell_type": "code",
   "execution_count": null,
   "metadata": {},
   "outputs": [],
   "source": [
    "utils.get_all_data(SubstationArea)\n",
    "utils.write_xml(SubstationArea, '/home/ande188/sub.xml')"
   ]
  },
  {
   "cell_type": "code",
   "execution_count": null,
   "metadata": {},
   "outputs": [],
   "source": []
  },
  {
   "cell_type": "code",
   "execution_count": null,
   "metadata": {},
   "outputs": [],
   "source": [
    "a"
   ]
  },
  {
   "cell_type": "code",
   "execution_count": null,
   "metadata": {},
   "outputs": [],
   "source": [
    "feeder_mrid = \"_49AD8E07-3BF9-A4E2-CB8F-C3722F837B62\"\n",
    "feeder = cim.Feeder(mRID = feeder_mrid)\n",
    "network = FeederModel(connection=database, container=feeder, distributed=False)\n"
   ]
  },
  {
   "cell_type": "code",
   "execution_count": null,
   "metadata": {},
   "outputs": [],
   "source": [
    "network.pprint(cim.ConnectivityNode)"
   ]
  },
  {
   "cell_type": "code",
   "execution_count": null,
   "metadata": {},
   "outputs": [],
   "source": [
    "cim.ConnectivityNode in None"
   ]
  },
  {
   "cell_type": "code",
   "execution_count": null,
   "metadata": {},
   "outputs": [],
   "source": [
    "network.get_all_edges(cim.ACLineSegment)\n",
    "network.get_all_attributes(cim.BaseVoltage)\n",
    "network.pprint(cim.BaseVoltage)"
   ]
  },
  {
   "cell_type": "code",
   "execution_count": null,
   "metadata": {},
   "outputs": [],
   "source": [
    "utils.get_all_data(network)"
   ]
  },
  {
   "cell_type": "code",
   "execution_count": null,
   "metadata": {},
   "outputs": [],
   "source": [
    "network.pprint(cim.Substation)"
   ]
  },
  {
   "cell_type": "code",
   "execution_count": null,
   "metadata": {},
   "outputs": [],
   "source": [
    "print(network.get_edges_query(cim.Feeder))\n"
   ]
  },
  {
   "cell_type": "code",
   "execution_count": null,
   "metadata": {},
   "outputs": [],
   "source": [
    "with open(\"topo_message.json\") as topo:\n",
    "    topo_msg = json.load(topo)"
   ]
  },
  {
   "cell_type": "code",
   "execution_count": null,
   "metadata": {},
   "outputs": [],
   "source": [
    "central_network = FeederModel(connection=database, container=feeder, distributed=False)\n",
    "\n",
    "dist_network_2 =  FeederModel(connection=database, container=feeder, distributed=True)\n",
    "\n",
    "dist_network_3 =  FeederModel(connection=database, container=feeder, distributed=True, topology_message=topo_msg)"
   ]
  },
  {
   "cell_type": "code",
   "execution_count": null,
   "metadata": {},
   "outputs": [],
   "source": [
    "# counter = 0\n",
    "# for switch_area in dist_network_2.distributed_areas:\n",
    "#     # switch_area.pprint(cim.ConnectivityNode)\n",
    "#     # switch_area.get_all_edges(cim.Conn)\n",
    "\n",
    "#     utils.get_all_bus_data(switch_area)\n",
    "#     utils.get_all_line_data(switch_area)\n",
    "#     utils.get_all_load_data(switch_area)\n",
    "#     utils.get_all_inverter_data(switch_area)\n",
    "#     utils.get_all_switch_data(switch_area)\n",
    "#     utils.get_all_transformer_data(switch_area)\n",
    "#     utils.get_all_location_data(switch_area)\n",
    "#     utils.get_all_measurement_data(switch_area)\n",
    "#     # switch_area.get_all_edges(cim.BaseVoltage)\n",
    "#     utils.write_xml(switch_area, filename=f'./test_output/switch_area.{counter}.xml')\n",
    "#     counter += 1\n",
    "\n",
    "\n",
    "#     for sec_area in switch_area.distributed_areas:\n",
    "#         # utils.get_all_data(sec_area)\n",
    "#         pass"
   ]
  },
  {
   "cell_type": "code",
   "execution_count": null,
   "metadata": {},
   "outputs": [],
   "source": [
    "# for switch_area in dist_network_3.distributed_areas:\n",
    "#     utils.get_all_data(switch_area)\n",
    "#     for sec_area in switch_area.distributed_areas:\n",
    "#         utils.get_all_data(sec_area)"
   ]
  },
  {
   "cell_type": "code",
   "execution_count": null,
   "metadata": {},
   "outputs": [],
   "source": []
  },
  {
   "cell_type": "code",
   "execution_count": null,
   "metadata": {},
   "outputs": [],
   "source": [
    "from cimgraph.models import DistributedArea\n",
    "\n",
    "container = cim.EquipmentContainer(mRID=feeder_mrid)\n",
    "feeder_area = DistributedArea(container, database, distributed=True)\n",
    "feeder_area.build_from_topo_message(topo_msg['feeders'])\n",
    "\n",
    "feeder_area.get_all_edges(cim.ConnectivityNode)\n",
    "for node in feeder_area.graph[cim.ConnectivityNode].values():\n",
    "    print(node.name)\n",
    "\n",
    "\n"
   ]
  },
  {
   "cell_type": "code",
   "execution_count": null,
   "metadata": {},
   "outputs": [],
   "source": [
    "counter = 0\n",
    "for switch_topo in topo_msg['feeders']['switch_areas']:\n",
    "    print('switch area', counter)\n",
    "    container = cim.EquipmentContainer(mRID=feeder_mrid+'.'+str(counter))\n",
    "    SwitchArea = DistributedArea(container, database, distributed=True)\n",
    "    SwitchArea.build_from_topo_message(switch_topo)\n",
    "    counter = counter + 1\n",
    "\n",
    "    SwitchArea.get_all_edges(cim.ConnectivityNode)\n",
    "    for node in SwitchArea.graph[cim.ConnectivityNode].values():\n",
    "        print(node.name)"
   ]
  },
  {
   "cell_type": "code",
   "execution_count": null,
   "metadata": {},
   "outputs": [],
   "source": [
    "sw_counter = -1\n",
    "for switch_topo in topo_msg['feeders']['switch_areas']:\n",
    "    sw_counter +=1\n",
    "    sa_counter = -1\n",
    "    for sec_topo in switch_topo['secondary_areas']:\n",
    "        sa_counter +=1\n",
    "        area_id = str(sw_counter) + '.' + str(sa_counter)\n",
    "        print('sec area', counter)\n",
    "        container = cim.EquipmentContainer(mRID=area_id)\n",
    "        SecondaryArea = DistributedArea(container, database, distributed=True)\n",
    "        SecondaryArea.build_from_topo_message(sec_topo)\n",
    "\n",
    "        SecondaryArea.get_all_edges(cim.ConnectivityNode)\n",
    "        for node in SecondaryArea.graph[cim.ConnectivityNode].values():\n",
    "            print(node.name)\n",
    "    "
   ]
  },
  {
   "cell_type": "code",
   "execution_count": 14,
   "metadata": {},
   "outputs": [],
   "source": [
    "from cimgraph.databases import ConnectionParameters\n",
    "from cimgraph.databases import BlazegraphConnection\n",
    "import cimgraph.data_profile.cim17v40 as cim\n",
    "params = ConnectionParameters(url = \"http://localhost:8889/bigdata/namespace/kb/sparql\", cim_profile='cimhub_2023', iec61970_301=8)\n",
    "database = BlazegraphConnection(params)"
   ]
  },
  {
   "cell_type": "code",
   "execution_count": 15,
   "metadata": {},
   "outputs": [],
   "source": [
    "from cimgraph.models import FeederModel\n",
    "feeder_mrid = \"49AD8E07-3BF9-A4E2-CB8F-C3722F837B62\"\n",
    "feeder = cim.Feeder(mRID = feeder_mrid)\n",
    "network = FeederModel(connection=database, container=feeder, distributed=False)"
   ]
  },
  {
   "cell_type": "code",
   "execution_count": 16,
   "metadata": {},
   "outputs": [],
   "source": [
    "query = network.get_edges_query(cim.Terminal)"
   ]
  },
  {
   "cell_type": "code",
   "execution_count": null,
   "metadata": {},
   "outputs": [],
   "source": [
    "dist_network_2 =  FeederModel(connection=database, container=feeder, distributed=True)\n"
   ]
  },
  {
   "cell_type": "code",
   "execution_count": null,
   "metadata": {},
   "outputs": [],
   "source": []
  },
  {
   "cell_type": "code",
   "execution_count": null,
   "metadata": {},
   "outputs": [],
   "source": [
    "dist_network_2.distributed_areas"
   ]
  },
  {
   "cell_type": "code",
   "execution_count": null,
   "metadata": {},
   "outputs": [],
   "source": [
    "\"message\": {\n",
    "    \"timestamp\": \"1248159984\",\n",
    "    \"measurements\": {\n",
    "        \"_00125ca3-12ca-4b8b-a148-c60e03aa7f9f\": {\n",
    "            \"measurement_mrid\": \"_00125ca3-12ca-4b8b-a148-c60e03aa7f9f\",\n",
    "            \"magnitude\": 78103.82848323896,\n",
    "            \"angle\": -99.22044324389712\n",
    "        },\n",
    "        \"_0032c3cd-5dec-4944-b1bc-b97b3ec646fc\": {\n",
    "            \"measurement_mrid\": \"_0032c3cd-5dec-4944-b1bc-b97b3ec646fc\",\n",
    "            \"magnitude\": 2284.5940488360206,\n",
    "            \"angle\": -2.8059748340329578\n",
    "        }\n",
    "    }\n",
    "}"
   ]
  },
  {
   "cell_type": "code",
   "execution_count": null,
   "metadata": {},
   "outputs": [],
   "source": []
  },
  {
   "cell_type": "code",
   "execution_count": null,
   "metadata": {},
   "outputs": [],
   "source": []
  },
  {
   "cell_type": "code",
   "execution_count": null,
   "metadata": {},
   "outputs": [],
   "source": []
  },
  {
   "cell_type": "code",
   "execution_count": null,
   "metadata": {},
   "outputs": [],
   "source": [
    "line = network.graph[cim.ACLineSegment]['uuid']\n",
    "\n",
    "from_bus = line.Terminals[0].ConnectivityNode\n",
    "to_bus = line.Terminals[1].ConnectivityNode\n",
    "\n"
   ]
  },
  {
   "cell_type": "code",
   "execution_count": null,
   "metadata": {},
   "outputs": [],
   "source": []
  },
  {
   "cell_type": "code",
   "execution_count": null,
   "metadata": {},
   "outputs": [],
   "source": [
    "# \"What is the total amount of solar in the feeder ABC?\"\n",
    "\n",
    "feeder_mrid = \"ABC\"\n",
    "feeder = cim.Feeder(mRID = feeder_mrid)\n",
    "network = FeederModel(connection=database, container=feeder, distributed=False)\n",
    "\n",
    "utils.get_all_data(network)\n",
    "\n",
    "total_pv = 0\n",
    "\n",
    "for inverter in network.graph[cim.PowerElectronicsConnection].values():\n",
    "    \n",
    "    total_pv += inverter.PowerElectronicsUnit.maxP"
   ]
  },
  {
   "cell_type": "code",
   "execution_count": null,
   "metadata": {},
   "outputs": [],
   "source": [
    "graph = {}"
   ]
  },
  {
   "cell_type": "code",
   "execution_count": null,
   "metadata": {},
   "outputs": [],
   "source": [
    "\n",
    "obj = database.create_object(graph, cim.GeographicalRegion, \"73C512BD-7249-4F50-50DA-D93849B89C43\")\n",
    "setattr(obj, \"mRID\", \"73C512BD-7249-4F50-50DA-D93849B89C43\")\n",
    "setattr(obj, \"name\", \"IEEE\")"
   ]
  },
  {
   "cell_type": "code",
   "execution_count": null,
   "metadata": {},
   "outputs": [],
   "source": []
  }
 ],
 "metadata": {
  "kernelspec": {
   "display_name": ".venv",
   "language": "python",
   "name": "python3"
  },
  "language_info": {
   "codemirror_mode": {
    "name": "ipython",
    "version": 3
   },
   "file_extension": ".py",
   "mimetype": "text/x-python",
   "name": "python",
   "nbconvert_exporter": "python",
   "pygments_lexer": "ipython3",
   "version": "3.10.12"
  }
 },
 "nbformat": 4,
 "nbformat_minor": 2
}
