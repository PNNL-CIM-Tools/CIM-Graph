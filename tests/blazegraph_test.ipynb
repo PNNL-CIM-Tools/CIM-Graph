{
 "cells": [
  {
   "cell_type": "code",
   "execution_count": null,
   "metadata": {},
   "outputs": [],
   "source": [
    "import json\n",
    "import importlib\n",
    "cim_profile = 'rc4_2021'\n",
    "cim = importlib.import_module('cimgraph.data_profile.' + cim_profile)"
   ]
  },
  {
   "cell_type": "code",
   "execution_count": null,
   "metadata": {},
   "outputs": [],
   "source": [
    "from cimgraph.databases import ConnectionParameters\n",
    "from cimgraph.databases import BlazegraphConnection\n",
    "from cimgraph.models import FeederModel\n",
    "\n",
    "import cimgraph.utils as utils"
   ]
  },
  {
   "cell_type": "code",
   "execution_count": null,
   "metadata": {},
   "outputs": [],
   "source": [
    "params = ConnectionParameters(url = \"http://localhost:8889/bigdata/namespace/kb/sparql\", cim_profile=cim_profile, iec61970_301=7)\n",
    "bg = BlazegraphConnection(params)"
   ]
  },
  {
   "cell_type": "code",
   "execution_count": null,
   "metadata": {},
   "outputs": [],
   "source": [
    "feeder_mrids = [\"_49AD8E07-3BF9-A4E2-CB8F-C3722F837B62\", # 13 bus\n",
    "                \"_C1C3E687-6FFD-C753-582B-632A27E28507\",  # 123 bus\n",
    "                \"_5B816B93-7A5F-B64C-8460-47C17D6E4B0F\"] # 13 bus asets\n",
    "                # \"_4F76A5F9-271D-9EB8-5E31-AA362D86F2C3\",  # 8500 node\n",
    "                # \"_67AB291F-DCCD-31B7-B499-338206B9828F\", # J1\n",
    "                # \"_9CE150A8-8CC5-A0F9-B67E-BBD8C79D3095\"]  # R2 12.47 3\n",
    "# feeder_mrid = \"_EE71F6C9-56F0-4167-A14E-7F4C71F10EAA\" #9500 node\n",
    "# feeder_mrid = \"_9E985101-27AD-4FE4-B36A-EBECC98CDFAB\" #MAPLE 10 bus\n",
    "for feeder_mrid in feeder_mrids:\n",
    "    print(feeder_mrid)\n",
    "    feeder = cim.Feeder(mRID = feeder_mrid)\n",
    "    network = FeederModel(connection=bg, container=feeder, distributed=False)\n",
    "    utils.get_all_data(network)"
   ]
  },
  {
   "cell_type": "code",
   "execution_count": null,
   "metadata": {},
   "outputs": [],
   "source": [
    "feeder_mrid = \"_49AD8E07-3BF9-A4E2-CB8F-C3722F837B62\"\n",
    "feeder = cim.Feeder(mRID = feeder_mrid)\n",
    "network = FeederModel(connection=bg, container=feeder, distributed=False)\n"
   ]
  },
  {
   "cell_type": "code",
   "execution_count": null,
   "metadata": {},
   "outputs": [],
   "source": [
    "with open(\"topo_message.json\") as topo:\n",
    "    topo_msg = json.load(topo)"
   ]
  },
  {
   "cell_type": "code",
   "execution_count": null,
   "metadata": {},
   "outputs": [],
   "source": [
    "central_network = FeederModel(connection=bg, container=feeder, distributed=False)\n",
    "\n",
    "dist_network_2 =  FeederModel(connection=bg, container=feeder, distributed=True)\n",
    "\n",
    "dist_network_3 =  FeederModel(connection=bg, container=feeder, distributed=True, topology_message=topo_msg)"
   ]
  },
  {
   "cell_type": "code",
   "execution_count": null,
   "metadata": {},
   "outputs": [],
   "source": [
    "for switch_area in dist_network_2.distributed_areas:\n",
    "    utils.get_all_data(switch_area)\n",
    "    for sec_area in switch_area.distributed_areas:\n",
    "        utils.get_all_data(sec_area)"
   ]
  },
  {
   "cell_type": "code",
   "execution_count": null,
   "metadata": {},
   "outputs": [],
   "source": [
    "for switch_area in dist_network_3.distributed_areas:\n",
    "    utils.get_all_data(switch_area)\n",
    "    for sec_area in switch_area.distributed_areas:\n",
    "        utils.get_all_data(sec_area)"
   ]
  }
 ],
 "metadata": {
  "kernelspec": {
   "display_name": ".venv",
   "language": "python",
   "name": "python3"
  },
  "language_info": {
   "codemirror_mode": {
    "name": "ipython",
    "version": 3
   },
   "file_extension": ".py",
   "mimetype": "text/x-python",
   "name": "python",
   "nbconvert_exporter": "python",
   "pygments_lexer": "ipython3",
   "version": "3.10.12"
  }
 },
 "nbformat": 4,
 "nbformat_minor": 2
}
