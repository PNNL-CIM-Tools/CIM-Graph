{
 "cells": [
  {
   "cell_type": "code",
   "execution_count": null,
   "metadata": {},
   "outputs": [],
   "source": [
    "import importlib\n",
    "cim_profile = 'rc4_2021'\n",
    "cim = importlib.import_module('cimgraph.data_profile.' + cim_profile)"
   ]
  },
  {
   "cell_type": "code",
   "execution_count": null,
   "metadata": {},
   "outputs": [],
   "source": [
    "from cimgraph.databases import Parameter, ConnectionParameters\n",
    "from cimgraph.databases.blazegraph.blazegraph import BlazegraphConnection\n",
    "from cimgraph.models import FeederModel\n",
    "import json\n",
    "import time"
   ]
  },
  {
   "cell_type": "code",
   "execution_count": null,
   "metadata": {},
   "outputs": [],
   "source": [
    "# Blazegraph connection for running outside the container\n",
    "params = ConnectionParameters(url = \"http://localhost:8889/bigdata/namespace/kb/sparql\")\n",
    "bg = BlazegraphConnection(params, 'rc4_2021')\n"
   ]
  },
  {
   "cell_type": "code",
   "execution_count": null,
   "metadata": {},
   "outputs": [],
   "source": [
    "# Neo4J connection\n",
    "# params = ConnectionParameters([])"
   ]
  },
  {
   "cell_type": "code",
   "execution_count": null,
   "metadata": {},
   "outputs": [],
   "source": [
    "#feeder_mrid = \"_C1C3E687-6FFD-C753-582B-632A27E28507\"  # 123 bus\n",
    "feeder_mrid = \"_49AD8E07-3BF9-A4E2-CB8F-C3722F837B62\"  # 13 bus\n",
    "# feeder_mrid = \"_5B816B93-7A5F-B64C-8460-47C17D6E4B0F\" # 13 bus asets\n",
    "# feeder_mrid = \"_4F76A5F9-271D-9EB8-5E31-AA362D86F2C3\"  # 8500 node\n",
    "#feeder_mrid = \"_67AB291F-DCCD-31B7-B499-338206B9828F\" # J1\n",
    "#feeder_mrid = \"_9CE150A8-8CC5-A0F9-B67E-BBD8C79D3095\"  # R2 12.47 3\n",
    "#feeder_mrid = \"_EE71F6C9-56F0-4167-A14E-7F4C71F10EAA\" #9500 node"
   ]
  },
  {
   "cell_type": "markdown",
   "metadata": {},
   "source": [
    "## Create Distributed CIM Model:"
   ]
  },
  {
   "cell_type": "code",
   "execution_count": null,
   "metadata": {},
   "outputs": [],
   "source": [
    "feeder = cim.Feeder(mRID=feeder_mrid)"
   ]
  },
  {
   "cell_type": "code",
   "execution_count": null,
   "metadata": {},
   "outputs": [],
   "source": []
  },
  {
   "cell_type": "code",
   "execution_count": null,
   "metadata": {},
   "outputs": [],
   "source": [
    "start = time.perf_counter()\n",
    "network = FeederModel(connection=bg, container=feeder, distributed=False, cim_profile = 'rc4_2021')\n",
    "build_time = time.perf_counter() - start\n",
    "print(build_time)"
   ]
  },
  {
   "cell_type": "code",
   "execution_count": null,
   "metadata": {},
   "outputs": [],
   "source": [
    "print(network.get_edges_query(cim.ACLineSegment))"
   ]
  },
  {
   "cell_type": "code",
   "execution_count": null,
   "metadata": {},
   "outputs": [],
   "source": []
  },
  {
   "cell_type": "code",
   "execution_count": null,
   "metadata": {},
   "outputs": [],
   "source": [
    "from graphdb import rdf4j\n",
    "import cimgraph.queries.ontotext as ontotext\n",
    "\n",
    "rdf4j.SparqlApi()"
   ]
  },
  {
   "cell_type": "code",
   "execution_count": null,
   "metadata": {},
   "outputs": [],
   "source": [
    "from graphdb.rdf4j.api.repositories_api import RepositoriesApi\n",
    "from graphdb.rdf4j.api.sparql_api import SparqlApi\n",
    "from graphdb.rdf4j.configuration import Configuration\n",
    "from graphdb.rdf4j.api_client import ApiClient\n",
    "from graphdb.mime_types import RDFTypes\n",
    "\n",
    "\n",
    "conf = Configuration()\n",
    "conf.host = \"http://130.20.24.145:7200/\"\n",
    "api_client = ApiClient(configuration=conf)\n",
    "api_client.set_default_header(\"Content-Type\", RDFTypes.TURTLE)\n",
    "\n",
    "repository = \"tеst\"\n",
    "repository_api = RepositoriesApi(api_client)\n",
    "sparql_api = SparqlApi(api_client)\n"
   ]
  },
  {
   "cell_type": "code",
   "execution_count": null,
   "metadata": {},
   "outputs": [],
   "source": [
    "sparql_api.api_client"
   ]
  },
  {
   "cell_type": "code",
   "execution_count": null,
   "metadata": {},
   "outputs": [],
   "source": [
    "from __future__ import print_function\n",
    "import time\n",
    "import graphdb.rdf4j\n",
    "from graphdb.rdf4j.rest import ApiException\n",
    "from pprint import pprint\n",
    "\n",
    "# create an instance of the API class\n",
    "api_instance = SparqlApi(api_client)\n",
    "repository_id = 'cim_test' # str | The repository ID\n",
    "query = network.get_edges_query(cim.ACLineSegment) # str | The query to evaluate\n",
    "query_ln = 'sparql' # str | Specifies the query language that is used for the query. Acceptable values are strings denoting the query languages supported by the server, i.e. 'serql' for SeRQL queries and 'sparql' for SPARQL queries. If not specified, the server assumes the query is a SPARQL query (optional)\n",
    "infer = True # bool | Specifies whether inferred statements should be included in the query evaluation. Inferred statements are included by default. Specifying any value other than 'true' (ignoring case) restricts the query evluation to explicit statements only. (optional)\n",
    "varname = 'varname_example' # str | Specifies variable bindings. Variables appearing in the query can be bound to a specific value outside the actual query using this option. The value should be an N-Triples encoded RDF value. (optional)\n",
    "timeout = 56 # int | Specifies a maximum query execution time, in whole seconds. The value should be an integer. A setting of 0 or a negative number indicates unlimited query time (the default). (optional)\n",
    "distinct = True # bool | Specifies if only distinct query solutions should be returned. The value should be true or false. If the supplied SPARQL query itself already has a DISTINCT modifier, this parameter will have no effect. (optional)\n",
    "limit = 56 # int | Specifies the maximum number of query solutions to return. The value should be a positive integer. If the supplied SPARQL query itself already has a LIMIT modifier, this parameter will only have an effect if the supplied value is lower than the LIMIT value in the query. (optional)\n",
    "offset = 56 # int | Specifies the number of query solutions to skip. The value should be a positive integer. This parameter is cumulative with any OFFSET modifier in the supplied SPARQL query itself. (optional)\n",
    "\n",
    "with api_instance.execute_get_select_query(repository, query, _preload_content=False, _return_http_data_only=True) as o:\n",
    "    o.auto_close = False\n",
    "    for y in json_stream.load(o)['results'][\"bindings\"].persistent():\n",
    "        print(y)"
   ]
  },
  {
   "cell_type": "code",
   "execution_count": null,
   "metadata": {},
   "outputs": [],
   "source": [
    "from __future__ import print_function\n",
    "import time\n",
    "import graphdb.rdf4j\n",
    "from graphdb.rdf4j.rest import ApiException\n",
    "from pprint import pprint\n",
    "\n",
    "# create an instance of the API class\n",
    "api_instance = graphdb.rdf4j.RepositoriesApi(api_client)\n",
    "\n",
    "try:\n",
    "    # An overview of the repositories that are available on a server.\n",
    "    api_response = api_instance.get_all_repositories()\n",
    "    pprint(api_response)\n",
    "except ApiException as e:\n",
    "    print(\"Exception when calling RepositoriesApi->get_all_repositories: %s\\n\" % e)"
   ]
  },
  {
   "cell_type": "code",
   "execution_count": null,
   "metadata": {},
   "outputs": [],
   "source": []
  },
  {
   "cell_type": "code",
   "execution_count": null,
   "metadata": {},
   "outputs": [],
   "source": [
    "from graphdb.rdf4j.api.sparql_api import SparqlApi\n",
    "from graphdb.rdf4j.configuration import Configuration\n",
    "from graphdb.rdf4j.api_client import ApiClient\n",
    "import json_stream\n",
    "\n",
    "GRAPHDB_HOST = \"http://130.20.145:7200\"\n",
    "GRAPHDB_REPO = \"cim_test\"\n",
    "\n",
    "   \n",
    "conf = Configuration()\n",
    "conf.host = GRAPHDB_HOST\n",
    "api = SparqlApi(ApiClient(configuration=conf))\n",
    "repository = GRAPHDB_REPO\n",
    "query=network.get_edges_query(cim.ACLineSegment)\n",
    "api.execute_get_select_query(repository, query)\n",
    "\n",
    "                "
   ]
  },
  {
   "cell_type": "code",
   "execution_count": 6,
   "metadata": {},
   "outputs": [],
   "source": [
    "cim_version=\"cim17\"\n",
    "cim_namespace=\"http://iec.ch/TC57/CIM100#\"\n",
    "string = \"CALL n10s.nsprefixes.add(\\\"\"+cim_version+\"\\\",\\\"\"+cim_namespace+\"\\\");\""
   ]
  },
  {
   "cell_type": "code",
   "execution_count": 7,
   "metadata": {},
   "outputs": [
    {
     "data": {
      "text/plain": [
       "'CALL n10s.nsprefixes.add(\"cim17\",\"http://iec.ch/TC57/CIM100#\");'"
      ]
     },
     "execution_count": 7,
     "metadata": {},
     "output_type": "execute_result"
    }
   ],
   "source": [
    "string"
   ]
  }
 ],
 "metadata": {
  "kernelspec": {
   "display_name": "Python 3",
   "language": "python",
   "name": "python3"
  },
  "language_info": {
   "codemirror_mode": {
    "name": "ipython",
    "version": 3
   },
   "file_extension": ".py",
   "mimetype": "text/x-python",
   "name": "python",
   "nbconvert_exporter": "python",
   "pygments_lexer": "ipython3",
   "version": "3.10.12"
  },
  "orig_nbformat": 4
 },
 "nbformat": 4,
 "nbformat_minor": 2
}
