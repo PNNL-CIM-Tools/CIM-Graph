{
 "cells": [
  {
   "cell_type": "code",
   "execution_count": 1,
   "id": "9d2cb72d",
   "metadata": {},
   "outputs": [],
   "source": [
    "import importlib\n",
    "cim_profile = 'rc4_2021'\n",
    "cim = importlib.import_module('cimgraph.data_profile.' + cim_profile)\n",
    "sparql = importlib.import_module('cimgraph.loaders.sparql.' + cim_profile)"
   ]
  },
  {
   "cell_type": "code",
   "execution_count": 2,
   "id": "1ff24244",
   "metadata": {},
   "outputs": [
    {
     "ename": "IndentationError",
     "evalue": "expected an indented block after 'for' statement on line 44 (blazegraph.py, line 52)",
     "output_type": "error",
     "traceback": [
      "Traceback \u001b[0;36m(most recent call last)\u001b[0m:\n",
      "  File \u001b[1;32m\"/usr/lib/python3/dist-packages/IPython/core/interactiveshell.py\"\u001b[0m, line \u001b[1;32m3457\u001b[0m, in \u001b[1;35mrun_code\u001b[0m\n    exec(code_obj, self.user_global_ns, self.user_ns)\n",
      "  File \u001b[1;32m\"/tmp/ipykernel_1275822/2576105987.py\"\u001b[0m, line \u001b[1;32m2\u001b[0m, in \u001b[1;35m<module>\u001b[0m\n    from cimgraph.loaders.blazegraph.blazegraph import BlazegraphConnection\n",
      "\u001b[0;36m  File \u001b[0;32m\"/home/ande188/.local/lib/python3.10/site-packages/cimgraph/loaders/blazegraph/__init__.py\"\u001b[0;36m, line \u001b[0;32m5\u001b[0;36m, in \u001b[0;35m<module>\u001b[0;36m\u001b[0m\n\u001b[0;31m    from cimgraph.loaders.blazegraph.blazegraph import BlazegraphConnection\u001b[0m\n",
      "\u001b[0;36m  File \u001b[0;32m\"/home/ande188/.local/lib/python3.10/site-packages/cimgraph/loaders/blazegraph/blazegraph.py\"\u001b[0;36m, line \u001b[0;32m52\u001b[0m\n\u001b[0;31m    def get_all_edges(self, feeder_mrid: str | cim.Feeder, typed_catalog: dict[type, dict[str, object]], cim_class: type):\u001b[0m\n\u001b[0m    ^\u001b[0m\n\u001b[0;31mIndentationError\u001b[0m\u001b[0;31m:\u001b[0m expected an indented block after 'for' statement on line 44\n"
     ]
    }
   ],
   "source": [
    "from cimgraph.loaders import Parameter, ConnectionParameters\n",
    "from cimgraph.loaders.blazegraph.blazegraph import BlazegraphConnection\n",
    "from cimgraph.loaders.gridappsd import GridappsdConnection, get_topology_response\n",
    "from cimgraph.models import NewModel, FeederModel\n",
    "import json"
   ]
  },
  {
   "cell_type": "code",
   "execution_count": null,
   "id": "d0318698",
   "metadata": {},
   "outputs": [],
   "source": [
    "# Blazegraph connection for running outside the container\n",
    "params = ConnectionParameters([Parameter(key=\"url\", value=\"http://localhost:8889/bigdata/namespace/kb/sparql\")])\n",
    "bg = BlazegraphConnection(params, 'rc4_2021')"
   ]
  },
  {
   "cell_type": "code",
   "execution_count": null,
   "id": "bf422b90",
   "metadata": {},
   "outputs": [],
   "source": [
    "fdr = cim.Feeder(name = 'test')"
   ]
  },
  {
   "cell_type": "code",
   "execution_count": null,
   "id": "13c441b7",
   "metadata": {},
   "outputs": [],
   "source": [
    "fdr.__class__.__name__"
   ]
  },
  {
   "cell_type": "code",
   "execution_count": null,
   "id": "887f5c0e",
   "metadata": {},
   "outputs": [],
   "source": [
    "network = NewModel(bg)"
   ]
  },
  {
   "cell_type": "code",
   "execution_count": null,
   "id": "f2d8d009",
   "metadata": {},
   "outputs": [],
   "source": [
    "setattr(network, \"test\", [])"
   ]
  },
  {
   "cell_type": "code",
   "execution_count": null,
   "id": "7b5c65c3",
   "metadata": {},
   "outputs": [],
   "source": [
    "network.test"
   ]
  },
  {
   "cell_type": "code",
   "execution_count": null,
   "id": "49d5b14d",
   "metadata": {},
   "outputs": [],
   "source": [
    "f\"\"\"{True}\"\"\""
   ]
  }
 ],
 "metadata": {
  "kernelspec": {
   "display_name": "Python 3 (ipykernel)",
   "language": "python",
   "name": "python3"
  },
  "language_info": {
   "codemirror_mode": {
    "name": "ipython",
    "version": 3
   },
   "file_extension": ".py",
   "mimetype": "text/x-python",
   "name": "python",
   "nbconvert_exporter": "python",
   "pygments_lexer": "ipython3",
   "version": "3.10.6"
  }
 },
 "nbformat": 4,
 "nbformat_minor": 5
}
