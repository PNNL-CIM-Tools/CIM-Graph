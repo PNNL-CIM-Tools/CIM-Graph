{
 "cells": [
  {
   "cell_type": "code",
   "execution_count": 1,
   "metadata": {},
   "outputs": [],
   "source": [
    "from cimgraph.databases import ConnectionParameters\n",
    "from cimgraph.databases import Neo4jConnection\n",
    "from cimgraph.models import FeederModel\n",
    "from cimgraph.models import NodeBreakerModel\n",
    "from cimgraph.models import BusBranchModel\n",
    "from cimgraph.tests.test_get_all_edges import test_get_all_edges\n",
    "import importlib"
   ]
  },
  {
   "cell_type": "markdown",
   "metadata": {},
   "source": [
    "## Test with 2021 GridAPPS-D / OpenDSS Profile"
   ]
  },
  {
   "cell_type": "code",
   "execution_count": 2,
   "metadata": {},
   "outputs": [],
   "source": [
    "\n",
    "cim_profile = 'rc4_2021'\n",
    "cim = importlib.import_module('cimgraph.data_profile.' + cim_profile)"
   ]
  },
  {
   "cell_type": "code",
   "execution_count": 3,
   "metadata": {},
   "outputs": [],
   "source": [
    "# Neo4J Connection\n",
    "params = ConnectionParameters(url = \"neo4j://localhost:7687/neo4j\", database=\"neo4j\", cim_profile='rc4_2021')\n",
    "neo4j = Neo4jConnection(params)"
   ]
  },
  {
   "cell_type": "code",
   "execution_count": 4,
   "metadata": {},
   "outputs": [],
   "source": [
    "feeder_mrids = [\"_49AD8E07-3BF9-A4E2-CB8F-C3722F837B62\"]  # 13 bus\n",
    "                # \"_C1C3E687-6FFD-C753-582B-632A27E28507\",  # 123 bus\n",
    "                # \"5B816B93-7A5F-B64C-8460-47C17D6E4B0F\"] # 13 bus asets\n",
    "                # \"_4F76A5F9-271D-9EB8-5E31-AA362D86F2C3\",  # 8500 node\n",
    "                # \"_67AB291F-DCCD-31B7-B499-338206B9828F\", # J1\n",
    "                # \"_9CE150A8-8CC5-A0F9-B67E-BBD8C79D3095\"]  # R2 12.47 3\n",
    "# feeder_mrid = \"_EE71F6C9-56F0-4167-A14E-7F4C71F10EAA\" #9500 node\n",
    "# feeder_mrid = \"_9E985101-27AD-4FE4-B36A-EBECC98CDFAB\" #MAPLE 10 bus\n",
    "for feeder_mrid in feeder_mrids:\n",
    "    feeder = cim.Feeder(mRID = feeder_mrid)\n",
    "    network = FeederModel(connection=neo4j, container=feeder, distributed=False)\n",
    "    test_get_all_edges(network, cim)"
   ]
  },
  {
   "cell_type": "code",
   "execution_count": null,
   "metadata": {},
   "outputs": [],
   "source": [
    "print(network.get_edges_query(cim.PerLengthPhaseImpedance))"
   ]
  },
  {
   "cell_type": "code",
   "execution_count": null,
   "metadata": {},
   "outputs": [],
   "source": [
    "network.pprint(cim.PhaseImpedanceData)"
   ]
  },
  {
   "cell_type": "code",
   "execution_count": null,
   "metadata": {},
   "outputs": [],
   "source": [
    "network.pprint(cim.PhaseImpedanceData)"
   ]
  },
  {
   "cell_type": "code",
   "execution_count": 5,
   "metadata": {},
   "outputs": [],
   "source": [
    "cim_profile = 'cimhub_2023'\n",
    "cim = importlib.import_module('cimgraph.data_profile.' + cim_profile)"
   ]
  },
  {
   "cell_type": "code",
   "execution_count": 6,
   "metadata": {},
   "outputs": [],
   "source": [
    "# Neo4J Connection\n",
    "params = ConnectionParameters(url = \"neo4j://localhost:7687/neo4j\", database=\"neo4j\", cim_profile='cimhub_2023', iec61970_301=8.0)\n",
    "neo4j = Neo4jConnection(params)"
   ]
  },
  {
   "cell_type": "code",
   "execution_count": 7,
   "metadata": {},
   "outputs": [],
   "source": [
    "feeder_mrids = [\"49AD8E07-3BF9-A4E2-CB8F-C3722F837B62\"]  # 13 bus\n",
    "                # \"C1C3E687-6FFD-C753-582B-632A27E28507\",  # 123 bus\n",
    "                # \"5B816B93-7A5F-B64C-8460-47C17D6E4B0F\"] # 13 bus asets\n",
    "                # \"_4F76A5F9-271D-9EB8-5E31-AA362D86F2C3\",  # 8500 node\n",
    "                # \"_67AB291F-DCCD-31B7-B499-338206B9828F\", # J1\n",
    "                # \"_9CE150A8-8CC5-A0F9-B67E-BBD8C79D3095\"]  # R2 12.47 3\n",
    "# feeder_mrid = \"_EE71F6C9-56F0-4167-A14E-7F4C71F10EAA\" #9500 node\n",
    "# feeder_mrid = \"_9E985101-27AD-4FE4-B36A-EBECC98CDFAB\" #MAPLE 10 bus\n",
    "for feeder_mrid in feeder_mrids:\n",
    "    feeder = cim.Feeder(mRID = feeder_mrid)\n",
    "    network = FeederModel(connection=neo4j, container=feeder, distributed=False)\n",
    "    test_get_all_edges(network, cim)"
   ]
  },
  {
   "cell_type": "code",
   "execution_count": null,
   "metadata": {},
   "outputs": [],
   "source": []
  },
  {
   "cell_type": "code",
   "execution_count": null,
   "metadata": {},
   "outputs": [],
   "source": [
    "edge_node = \"https://raw.githubusercontent.com/GRIDAPPSD/Powergrid-Models/cim_schema_2021/platform/cimxml/IEEE13_Assets.xml#_12A0D2D4-58A4-45D0-B646-6A2A4670DDB4\"\n",
    "\n",
    "if 'urn:uuid' in edge_node:\n",
    "    edge_mRID = edge_node.split('urn:uuid:')[1]\n",
    "elif '#' in edge_node:\n",
    "    edge_mRID = edge_node.split('#')[1]\n",
    "else:\n",
    "    edge_mRID = edge_node\n",
    "\n",
    "edge_mRID"
   ]
  }
 ],
 "metadata": {
  "kernelspec": {
   "display_name": ".venv",
   "language": "python",
   "name": "python3"
  },
  "language_info": {
   "codemirror_mode": {
    "name": "ipython",
    "version": 3
   },
   "file_extension": ".py",
   "mimetype": "text/x-python",
   "name": "python",
   "nbconvert_exporter": "python",
   "pygments_lexer": "ipython3",
   "version": "3.10.12"
  }
 },
 "nbformat": 4,
 "nbformat_minor": 2
}
