{
 "cells": [
  {
   "cell_type": "code",
   "execution_count": 1,
   "metadata": {},
   "outputs": [],
   "source": [
    "from cimgraph.databases import ConnectionParameters\n",
    "from cimgraph.databases import Neo4jConnection\n",
    "from cimgraph.models import FeederModel\n",
    "from cimgraph.models import NodeBreakerModel\n",
    "from cimgraph.models import BusBranchModel\n",
    "from cimgraph.tests.test_get_all_edges import test_get_all_edges"
   ]
  },
  {
   "cell_type": "markdown",
   "metadata": {},
   "source": [
    "## Test with 2021 GridAPPS-D / OpenDSS Profile"
   ]
  },
  {
   "cell_type": "code",
   "execution_count": 2,
   "metadata": {},
   "outputs": [],
   "source": [
    "import importlib\n",
    "cim_profile = 'rc4_2021'\n",
    "cim = importlib.import_module('cimgraph.data_profile.' + cim_profile)"
   ]
  },
  {
   "cell_type": "code",
   "execution_count": 3,
   "metadata": {},
   "outputs": [],
   "source": [
    "# Neo4J Connection\n",
    "params = ConnectionParameters(url = \"neo4j://localhost:7687/neo4j\", database=\"neo4j\", cim_profile='rc4_2021')\n",
    "neo4j = Neo4jConnection(params)"
   ]
  },
  {
   "cell_type": "code",
   "execution_count": 4,
   "metadata": {},
   "outputs": [
    {
     "name": "stderr",
     "output_type": "stream",
     "text": [
      "attribute column not recognized\n",
      "attribute x not recognized\n",
      "attribute b not recognized\n",
      "attribute r not recognized\n",
      "attribute row not recognized\n"
     ]
    },
    {
     "ename": "KeyError",
     "evalue": "'_12A0D2D4-58A4-45D0-B646-6A2A4670DDB4'",
     "output_type": "error",
     "traceback": [
      "\u001b[0;31m---------------------------------------------------------------------------\u001b[0m",
      "\u001b[0;31mKeyError\u001b[0m                                  Traceback (most recent call last)",
      "\u001b[1;32m/home/ande188/CIM-Graph/cimgraph/tests/neo4j_test.ipynb Cell 5\u001b[0m line \u001b[0;36m1\n\u001b[1;32m     <a href='vscode-notebook-cell://wsl%2Bubuntu-22.04/home/ande188/CIM-Graph/cimgraph/tests/neo4j_test.ipynb#W3sdnNjb2RlLXJlbW90ZQ%3D%3D?line=9'>10</a>\u001b[0m feeder \u001b[39m=\u001b[39m cim\u001b[39m.\u001b[39mFeeder(mRID \u001b[39m=\u001b[39m feeder_mrid)\n\u001b[1;32m     <a href='vscode-notebook-cell://wsl%2Bubuntu-22.04/home/ande188/CIM-Graph/cimgraph/tests/neo4j_test.ipynb#W3sdnNjb2RlLXJlbW90ZQ%3D%3D?line=10'>11</a>\u001b[0m network \u001b[39m=\u001b[39m FeederModel(connection\u001b[39m=\u001b[39mneo4j, container\u001b[39m=\u001b[39mfeeder, distributed\u001b[39m=\u001b[39m\u001b[39mFalse\u001b[39;00m)\n\u001b[0;32m---> <a href='vscode-notebook-cell://wsl%2Bubuntu-22.04/home/ande188/CIM-Graph/cimgraph/tests/neo4j_test.ipynb#W3sdnNjb2RlLXJlbW90ZQ%3D%3D?line=11'>12</a>\u001b[0m test_get_all_edges(network, cim)\n",
      "File \u001b[0;32m~/CIM-Graph/cimgraph/tests/test_get_all_edges.py:5\u001b[0m, in \u001b[0;36mtest_get_all_edges\u001b[0;34m(network, cim)\u001b[0m\n\u001b[1;32m      3\u001b[0m network\u001b[39m.\u001b[39mget_all_edges(cim\u001b[39m.\u001b[39mACLineSegmentPhase)\n\u001b[1;32m      4\u001b[0m network\u001b[39m.\u001b[39mget_all_edges(cim\u001b[39m.\u001b[39mPerLengthPhaseImpedance)\n\u001b[0;32m----> 5\u001b[0m network\u001b[39m.\u001b[39;49mget_all_edges(cim\u001b[39m.\u001b[39;49mPhaseImpedanceData)\n\u001b[1;32m      6\u001b[0m network\u001b[39m.\u001b[39mget_all_edges(cim\u001b[39m.\u001b[39mWireSpacingInfo)\n\u001b[1;32m      7\u001b[0m network\u001b[39m.\u001b[39mget_all_edges(cim\u001b[39m.\u001b[39mWirePosition)\n",
      "File \u001b[0;32m~/CIM-Graph/cimgraph/models/graph_model.py:77\u001b[0m, in \u001b[0;36mGraphModel.get_all_edges\u001b[0;34m(self, cim_class, graph)\u001b[0m\n\u001b[1;32m     75\u001b[0m     graph \u001b[39m=\u001b[39m \u001b[39mself\u001b[39m\u001b[39m.\u001b[39mgraph\n\u001b[1;32m     76\u001b[0m \u001b[39mif\u001b[39;00m cim_class \u001b[39min\u001b[39;00m graph:\n\u001b[0;32m---> 77\u001b[0m     \u001b[39mself\u001b[39;49m\u001b[39m.\u001b[39;49mconnection\u001b[39m.\u001b[39;49mget_all_edges(\u001b[39mself\u001b[39;49m\u001b[39m.\u001b[39;49mcontainer\u001b[39m.\u001b[39;49mmRID, graph, cim_class)\n\u001b[1;32m     78\u001b[0m \u001b[39melse\u001b[39;00m:\n\u001b[1;32m     79\u001b[0m     _log\u001b[39m.\u001b[39minfo(\u001b[39m'\u001b[39m\u001b[39mno instances of \u001b[39m\u001b[39m'\u001b[39m \u001b[39m+\u001b[39m \u001b[39mstr\u001b[39m(cim_class\u001b[39m.\u001b[39m\u001b[39m__name__\u001b[39m) \u001b[39m+\u001b[39m \u001b[39m'\u001b[39m\u001b[39m found in graph.\u001b[39m\u001b[39m'\u001b[39m)\n",
      "File \u001b[0;32m~/CIM-Graph/cimgraph/databases/neo4j/neo4j.py:127\u001b[0m, in \u001b[0;36mNeo4jConnection.get_all_edges\u001b[0;34m(self, container, graph, cim_class)\u001b[0m\n\u001b[1;32m    125\u001b[0m mrid_list \u001b[39m=\u001b[39m \u001b[39mlist\u001b[39m(graph[cim_class]\u001b[39m.\u001b[39mkeys())\n\u001b[1;32m    126\u001b[0m num_nodes \u001b[39m=\u001b[39m \u001b[39mlen\u001b[39m(mrid_list)\n\u001b[0;32m--> 127\u001b[0m asyncio\u001b[39m.\u001b[39;49mrun(\u001b[39mself\u001b[39;49m\u001b[39m.\u001b[39;49mget_all_edges_async(mrid_list, container, graph, cim_class))\n",
      "File \u001b[0;32m~/CIM-Graph/.venv/lib/python3.10/site-packages/nest_asyncio.py:31\u001b[0m, in \u001b[0;36m_patch_asyncio.<locals>.run\u001b[0;34m(main, debug)\u001b[0m\n\u001b[1;32m     29\u001b[0m task \u001b[39m=\u001b[39m asyncio\u001b[39m.\u001b[39mensure_future(main)\n\u001b[1;32m     30\u001b[0m \u001b[39mtry\u001b[39;00m:\n\u001b[0;32m---> 31\u001b[0m     \u001b[39mreturn\u001b[39;00m loop\u001b[39m.\u001b[39;49mrun_until_complete(task)\n\u001b[1;32m     32\u001b[0m \u001b[39mfinally\u001b[39;00m:\n\u001b[1;32m     33\u001b[0m     \u001b[39mif\u001b[39;00m \u001b[39mnot\u001b[39;00m task\u001b[39m.\u001b[39mdone():\n",
      "File \u001b[0;32m~/CIM-Graph/.venv/lib/python3.10/site-packages/nest_asyncio.py:99\u001b[0m, in \u001b[0;36m_patch_loop.<locals>.run_until_complete\u001b[0;34m(self, future)\u001b[0m\n\u001b[1;32m     96\u001b[0m \u001b[39mif\u001b[39;00m \u001b[39mnot\u001b[39;00m f\u001b[39m.\u001b[39mdone():\n\u001b[1;32m     97\u001b[0m     \u001b[39mraise\u001b[39;00m \u001b[39mRuntimeError\u001b[39;00m(\n\u001b[1;32m     98\u001b[0m         \u001b[39m'\u001b[39m\u001b[39mEvent loop stopped before Future completed.\u001b[39m\u001b[39m'\u001b[39m)\n\u001b[0;32m---> 99\u001b[0m \u001b[39mreturn\u001b[39;00m f\u001b[39m.\u001b[39;49mresult()\n",
      "File \u001b[0;32m/usr/lib/python3.10/asyncio/futures.py:201\u001b[0m, in \u001b[0;36mFuture.result\u001b[0;34m(self)\u001b[0m\n\u001b[1;32m    199\u001b[0m \u001b[39mself\u001b[39m\u001b[39m.\u001b[39m__log_traceback \u001b[39m=\u001b[39m \u001b[39mFalse\u001b[39;00m\n\u001b[1;32m    200\u001b[0m \u001b[39mif\u001b[39;00m \u001b[39mself\u001b[39m\u001b[39m.\u001b[39m_exception \u001b[39mis\u001b[39;00m \u001b[39mnot\u001b[39;00m \u001b[39mNone\u001b[39;00m:\n\u001b[0;32m--> 201\u001b[0m     \u001b[39mraise\u001b[39;00m \u001b[39mself\u001b[39m\u001b[39m.\u001b[39m_exception\u001b[39m.\u001b[39mwith_traceback(\u001b[39mself\u001b[39m\u001b[39m.\u001b[39m_exception_tb)\n\u001b[1;32m    202\u001b[0m \u001b[39mreturn\u001b[39;00m \u001b[39mself\u001b[39m\u001b[39m.\u001b[39m_result\n",
      "File \u001b[0;32m/usr/lib/python3.10/asyncio/tasks.py:232\u001b[0m, in \u001b[0;36mTask.__step\u001b[0;34m(***failed resolving arguments***)\u001b[0m\n\u001b[1;32m    228\u001b[0m \u001b[39mtry\u001b[39;00m:\n\u001b[1;32m    229\u001b[0m     \u001b[39mif\u001b[39;00m exc \u001b[39mis\u001b[39;00m \u001b[39mNone\u001b[39;00m:\n\u001b[1;32m    230\u001b[0m         \u001b[39m# We use the `send` method directly, because coroutines\u001b[39;00m\n\u001b[1;32m    231\u001b[0m         \u001b[39m# don't have `__iter__` and `__next__` methods.\u001b[39;00m\n\u001b[0;32m--> 232\u001b[0m         result \u001b[39m=\u001b[39m coro\u001b[39m.\u001b[39;49msend(\u001b[39mNone\u001b[39;49;00m)\n\u001b[1;32m    233\u001b[0m     \u001b[39melse\u001b[39;00m:\n\u001b[1;32m    234\u001b[0m         result \u001b[39m=\u001b[39m coro\u001b[39m.\u001b[39mthrow(exc)\n",
      "File \u001b[0;32m~/CIM-Graph/cimgraph/databases/neo4j/neo4j.py:135\u001b[0m, in \u001b[0;36mNeo4jConnection.get_all_edges_async\u001b[0;34m(self, mrid_list, container, graph, cim_class)\u001b[0m\n\u001b[1;32m    129\u001b[0m \u001b[39masync\u001b[39;00m \u001b[39mdef\u001b[39;00m \u001b[39mget_all_edges_async\u001b[39m(\u001b[39mself\u001b[39m, mrid_list, container: \u001b[39mstr\u001b[39m \u001b[39m|\u001b[39m cim\u001b[39m.\u001b[39mConnectivityNodeContainer,\n\u001b[1;32m    130\u001b[0m                               graph: \u001b[39mdict\u001b[39m[\u001b[39mtype\u001b[39m, \u001b[39mdict\u001b[39m[\u001b[39mstr\u001b[39m, \u001b[39mobject\u001b[39m]], cim_class: \u001b[39mtype\u001b[39m):\n\u001b[1;32m    131\u001b[0m     \u001b[39mfor\u001b[39;00m f \u001b[39min\u001b[39;00m asyncio\u001b[39m.\u001b[39mas_completed([\n\u001b[1;32m    132\u001b[0m             \u001b[39mself\u001b[39m\u001b[39m.\u001b[39medge_query_parser(mrid_list, index, container, graph, cim_class)\n\u001b[1;32m    133\u001b[0m             \u001b[39mfor\u001b[39;00m index \u001b[39min\u001b[39;00m \u001b[39mrange\u001b[39m(math\u001b[39m.\u001b[39mceil(\u001b[39mlen\u001b[39m(mrid_list) \u001b[39m/\u001b[39m \u001b[39m100\u001b[39m))\n\u001b[1;32m    134\u001b[0m     ]):\n\u001b[0;32m--> 135\u001b[0m         \u001b[39mawait\u001b[39;00m f\n",
      "File \u001b[0;32m/usr/lib/python3.10/asyncio/tasks.py:571\u001b[0m, in \u001b[0;36mas_completed.<locals>._wait_for_one\u001b[0;34m()\u001b[0m\n\u001b[1;32m    568\u001b[0m \u001b[39mif\u001b[39;00m f \u001b[39mis\u001b[39;00m \u001b[39mNone\u001b[39;00m:\n\u001b[1;32m    569\u001b[0m     \u001b[39m# Dummy value from _on_timeout().\u001b[39;00m\n\u001b[1;32m    570\u001b[0m     \u001b[39mraise\u001b[39;00m exceptions\u001b[39m.\u001b[39mTimeoutError\n\u001b[0;32m--> 571\u001b[0m \u001b[39mreturn\u001b[39;00m f\u001b[39m.\u001b[39;49mresult()\n",
      "File \u001b[0;32m/usr/lib/python3.10/asyncio/futures.py:201\u001b[0m, in \u001b[0;36mFuture.result\u001b[0;34m(self)\u001b[0m\n\u001b[1;32m    199\u001b[0m \u001b[39mself\u001b[39m\u001b[39m.\u001b[39m__log_traceback \u001b[39m=\u001b[39m \u001b[39mFalse\u001b[39;00m\n\u001b[1;32m    200\u001b[0m \u001b[39mif\u001b[39;00m \u001b[39mself\u001b[39m\u001b[39m.\u001b[39m_exception \u001b[39mis\u001b[39;00m \u001b[39mnot\u001b[39;00m \u001b[39mNone\u001b[39;00m:\n\u001b[0;32m--> 201\u001b[0m     \u001b[39mraise\u001b[39;00m \u001b[39mself\u001b[39m\u001b[39m.\u001b[39m_exception\u001b[39m.\u001b[39mwith_traceback(\u001b[39mself\u001b[39m\u001b[39m.\u001b[39m_exception_tb)\n\u001b[1;32m    202\u001b[0m \u001b[39mreturn\u001b[39;00m \u001b[39mself\u001b[39m\u001b[39m.\u001b[39m_result\n",
      "File \u001b[0;32m/usr/lib/python3.10/asyncio/tasks.py:232\u001b[0m, in \u001b[0;36mTask.__step\u001b[0;34m(***failed resolving arguments***)\u001b[0m\n\u001b[1;32m    228\u001b[0m \u001b[39mtry\u001b[39;00m:\n\u001b[1;32m    229\u001b[0m     \u001b[39mif\u001b[39;00m exc \u001b[39mis\u001b[39;00m \u001b[39mNone\u001b[39;00m:\n\u001b[1;32m    230\u001b[0m         \u001b[39m# We use the `send` method directly, because coroutines\u001b[39;00m\n\u001b[1;32m    231\u001b[0m         \u001b[39m# don't have `__iter__` and `__next__` methods.\u001b[39;00m\n\u001b[0;32m--> 232\u001b[0m         result \u001b[39m=\u001b[39m coro\u001b[39m.\u001b[39;49msend(\u001b[39mNone\u001b[39;49;00m)\n\u001b[1;32m    233\u001b[0m     \u001b[39melse\u001b[39;00m:\n\u001b[1;32m    234\u001b[0m         result \u001b[39m=\u001b[39m coro\u001b[39m.\u001b[39mthrow(exc)\n",
      "File \u001b[0;32m~/CIM-Graph/cimgraph/databases/neo4j/neo4j.py:209\u001b[0m, in \u001b[0;36mNeo4jConnection.edge_query_parser\u001b[0;34m(self, mrid_list, index, container, graph, cim_class)\u001b[0m\n\u001b[1;32m    205\u001b[0m     \u001b[39mself\u001b[39m\u001b[39m.\u001b[39mcreate_edge(graph, cim_class, mRID, edge[\u001b[39m0\u001b[39m], edge_class, edge_mRID)\n\u001b[1;32m    207\u001b[0m \u001b[39melif\u001b[39;00m edge[\n\u001b[1;32m    208\u001b[0m         \u001b[39m1\u001b[39m] \u001b[39min\u001b[39;00m cim_class\u001b[39m.\u001b[39m__dataclass_fields__:    \u001b[39m#check if second name is the attribute\u001b[39;00m\n\u001b[0;32m--> 209\u001b[0m     \u001b[39mself\u001b[39;49m\u001b[39m.\u001b[39;49mcreate_edge(graph, cim_class, mRID, edge[\u001b[39m1\u001b[39;49m], edge_class, edge_mRID)\n\u001b[1;32m    211\u001b[0m \u001b[39melif\u001b[39;00m edge[\n\u001b[1;32m    212\u001b[0m         \u001b[39m0\u001b[39m] \u001b[39m+\u001b[39m \u001b[39m'\u001b[39m\u001b[39ms\u001b[39m\u001b[39m'\u001b[39m \u001b[39min\u001b[39;00m cim_class\u001b[39m.\u001b[39m__dataclass_fields__:    \u001b[39m#check if attribute spelling is plural\u001b[39;00m\n\u001b[1;32m    213\u001b[0m     \u001b[39mself\u001b[39m\u001b[39m.\u001b[39mcreate_edge(graph, cim_class, mRID, edge[\u001b[39m0\u001b[39m] \u001b[39m+\u001b[39m \u001b[39m'\u001b[39m\u001b[39ms\u001b[39m\u001b[39m'\u001b[39m, edge_class, edge_mRID)\n",
      "File \u001b[0;32m~/CIM-Graph/cimgraph/databases/neo4j/neo4j.py:257\u001b[0m, in \u001b[0;36mNeo4jConnection.create_edge\u001b[0;34m(self, graph, cim_class, mRID, attribute, edge_class, edge_mRID)\u001b[0m\n\u001b[1;32m    255\u001b[0m     \u001b[39msetattr\u001b[39m(graph[cim_class][mRID], attribute, obj_list)\n\u001b[1;32m    256\u001b[0m \u001b[39melse\u001b[39;00m:\n\u001b[0;32m--> 257\u001b[0m     \u001b[39msetattr\u001b[39m(graph[cim_class][mRID], attribute, edge_object)\n",
      "\u001b[0;31mKeyError\u001b[0m: '_12A0D2D4-58A4-45D0-B646-6A2A4670DDB4'"
     ]
    }
   ],
   "source": [
    "feeder_mrids = [\"_49AD8E07-3BF9-A4E2-CB8F-C3722F837B62\",  # 13 bus\n",
    "                \"_C1C3E687-6FFD-C753-582B-632A27E28507\",  # 123 bus\n",
    "                \"5B816B93-7A5F-B64C-8460-47C17D6E4B0F\"] # 13 bus asets\n",
    "                # \"_4F76A5F9-271D-9EB8-5E31-AA362D86F2C3\",  # 8500 node\n",
    "                # \"_67AB291F-DCCD-31B7-B499-338206B9828F\", # J1\n",
    "                # \"_9CE150A8-8CC5-A0F9-B67E-BBD8C79D3095\"]  # R2 12.47 3\n",
    "# feeder_mrid = \"_EE71F6C9-56F0-4167-A14E-7F4C71F10EAA\" #9500 node\n",
    "# feeder_mrid = \"_9E985101-27AD-4FE4-B36A-EBECC98CDFAB\" #MAPLE 10 bus\n",
    "for feeder_mrid in feeder_mrids:\n",
    "    feeder = cim.Feeder(mRID = feeder_mrid)\n",
    "    network = FeederModel(connection=neo4j, container=feeder, distributed=False)\n",
    "    test_get_all_edges(network, cim)"
   ]
  },
  {
   "cell_type": "code",
   "execution_count": null,
   "metadata": {},
   "outputs": [],
   "source": [
    "print(network.get_edges_query(cim.PerLengthPhaseImpedance))"
   ]
  },
  {
   "cell_type": "code",
   "execution_count": 6,
   "metadata": {},
   "outputs": [
    {
     "name": "stdout",
     "output_type": "stream",
     "text": [
      "{\n",
      "    \"14F49BE6-1C8F-4892-9868-910DD8605ECD\": {\n",
      "        \"mRID\": \"14F49BE6-1C8F-4892-9868-910DD8605ECD\",\n",
      "        \"name\": \"645646_PUZ\",\n",
      "        \"ACLineSegments\": \"['173879C4-4FDB-4521-A60D-5B102B3781B2']\",\n",
      "        \"conductorCount\": \"2\",\n",
      "        \"PhaseImpedanceData\": \"['4ADA186E-92D6-4F2C-B8D4-9723FBCD8CDA', '3A134AFC-569E-4B5B-B4EF-660D615B027F', '12A0D2D4-58A4-45D0-B646-6A2A4670DDB4']\"\n",
      "    },\n",
      "    \"_14F49BE6-1C8F-4892-9868-910DD8605ECD\": {\n",
      "        \"mRID\": \"_14F49BE6-1C8F-4892-9868-910DD8605ECD\"\n",
      "    }\n",
      "}\n"
     ]
    }
   ],
   "source": [
    "network.pprint(cim.PerLengthPhaseImpedance)"
   ]
  },
  {
   "cell_type": "code",
   "execution_count": null,
   "metadata": {},
   "outputs": [],
   "source": [
    "cim_profile = 'cimhub_2023'\n",
    "cim = importlib.import_module('cimgraph.data_profile.' + cim_profile)"
   ]
  },
  {
   "cell_type": "code",
   "execution_count": null,
   "metadata": {},
   "outputs": [],
   "source": [
    "# Neo4J Connection\n",
    "params = ConnectionParameters(url = \"neo4j://localhost:7687/neo4j\", database=\"neo4j\", cim_profile='cimhub_2023')\n",
    "neo4j = Neo4jConnection(params)"
   ]
  },
  {
   "cell_type": "code",
   "execution_count": null,
   "metadata": {},
   "outputs": [],
   "source": [
    "feeder_mrids = [\"49AD8E07-3BF9-A4E2-CB8F-C3722F837B62\",  # 13 bus\n",
    "                \"C1C3E687-6FFD-C753-582B-632A27E28507\",  # 123 bus\n",
    "                \"5B816B93-7A5F-B64C-8460-47C17D6E4B0F\"] # 13 bus asets\n",
    "                # \"_4F76A5F9-271D-9EB8-5E31-AA362D86F2C3\",  # 8500 node\n",
    "                # \"_67AB291F-DCCD-31B7-B499-338206B9828F\", # J1\n",
    "                # \"_9CE150A8-8CC5-A0F9-B67E-BBD8C79D3095\"]  # R2 12.47 3\n",
    "# feeder_mrid = \"_EE71F6C9-56F0-4167-A14E-7F4C71F10EAA\" #9500 node\n",
    "# feeder_mrid = \"_9E985101-27AD-4FE4-B36A-EBECC98CDFAB\" #MAPLE 10 bus\n",
    "for feeder_mrid in feeder_mrids:\n",
    "    feeder = cim.Feeder(mRID = feeder_mrid)\n",
    "    network = FeederModel(connection=neo4j, container=feeder, distributed=False)\n",
    "    test_get_all_edges(network, cim)"
   ]
  },
  {
   "cell_type": "code",
   "execution_count": null,
   "metadata": {},
   "outputs": [],
   "source": []
  },
  {
   "cell_type": "code",
   "execution_count": 5,
   "metadata": {},
   "outputs": [
    {
     "data": {
      "text/plain": [
       "'_12A0D2D4-58A4-45D0-B646-6A2A4670DDB4'"
      ]
     },
     "execution_count": 5,
     "metadata": {},
     "output_type": "execute_result"
    }
   ],
   "source": [
    "edge_node = \"https://raw.githubusercontent.com/GRIDAPPSD/Powergrid-Models/cim_schema_2021/platform/cimxml/IEEE13_Assets.xml#_12A0D2D4-58A4-45D0-B646-6A2A4670DDB4\"\n",
    "\n",
    "if 'urn:uuid' in edge_node:\n",
    "    edge_mRID = edge_node.split('urn:uuid:')[1]\n",
    "elif '#' in edge_node:\n",
    "    edge_mRID = edge_node.split('#')[1]\n",
    "else:\n",
    "    edge_mRID = edge_node\n",
    "\n",
    "edge_mRID"
   ]
  }
 ],
 "metadata": {
  "kernelspec": {
   "display_name": ".venv",
   "language": "python",
   "name": "python3"
  },
  "language_info": {
   "codemirror_mode": {
    "name": "ipython",
    "version": 3
   },
   "file_extension": ".py",
   "mimetype": "text/x-python",
   "name": "python",
   "nbconvert_exporter": "python",
   "pygments_lexer": "ipython3",
   "version": "3.10.12"
  }
 },
 "nbformat": 4,
 "nbformat_minor": 2
}
