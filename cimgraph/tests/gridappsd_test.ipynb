{
 "cells": [
  {
   "cell_type": "code",
   "execution_count": 1,
   "metadata": {},
   "outputs": [],
   "source": [
    "import importlib\n",
    "cim_profile = 'rc4_2021'\n",
    "cim = importlib.import_module('cimgraph.data_profile.' + cim_profile)"
   ]
  },
  {
   "cell_type": "code",
   "execution_count": 2,
   "metadata": {},
   "outputs": [],
   "source": [
    "from cimgraph.databases import ConnectionParameters\n",
    "from cimgraph.databases import GridappsdConnection\n",
    "from cimgraph.models import FeederModel"
   ]
  },
  {
   "cell_type": "code",
   "execution_count": 3,
   "metadata": {},
   "outputs": [],
   "source": [
    "from cimgraph.tests.test_get_all_edges import test_get_all_edges"
   ]
  },
  {
   "cell_type": "code",
   "execution_count": 5,
   "metadata": {},
   "outputs": [],
   "source": [
    "params = ConnectionParameters(host = \"localhost\", port = \"61613\", cim_profile='rc4_2021', iec61970_301=7)\n",
    "gapps = GridappsdConnection(params)"
   ]
  },
  {
   "cell_type": "code",
   "execution_count": 6,
   "metadata": {},
   "outputs": [
    {
     "name": "stderr",
     "output_type": "stream",
     "text": [
      "Could not connect to host localhost, port 61613\n",
      "Traceback (most recent call last):\n",
      "  File \"/home/ande188/CIM-Graph/.venv/lib/python3.10/site-packages/stomp/transport.py\", line 727, in attempt_connection\n",
      "    self.socket = socket.create_connection(host_and_port, self.__timeout)\n",
      "  File \"/usr/lib/python3.10/socket.py\", line 845, in create_connection\n",
      "    raise err\n",
      "  File \"/usr/lib/python3.10/socket.py\", line 833, in create_connection\n",
      "    sock.connect(sa)\n",
      "ConnectionRefusedError: [Errno 111] Connection refused\n"
     ]
    },
    {
     "name": "stderr",
     "output_type": "stream",
     "text": [
      "Could not connect to host localhost, port 61613\n",
      "Traceback (most recent call last):\n",
      "  File \"/home/ande188/CIM-Graph/.venv/lib/python3.10/site-packages/stomp/transport.py\", line 727, in attempt_connection\n",
      "    self.socket = socket.create_connection(host_and_port, self.__timeout)\n",
      "  File \"/usr/lib/python3.10/socket.py\", line 845, in create_connection\n",
      "    raise err\n",
      "  File \"/usr/lib/python3.10/socket.py\", line 833, in create_connection\n",
      "    sock.connect(sa)\n",
      "ConnectionRefusedError: [Errno 111] Connection refused\n",
      "Could not connect to host localhost, port 61613\n",
      "Traceback (most recent call last):\n",
      "  File \"/home/ande188/CIM-Graph/.venv/lib/python3.10/site-packages/stomp/transport.py\", line 727, in attempt_connection\n",
      "    self.socket = socket.create_connection(host_and_port, self.__timeout)\n",
      "  File \"/usr/lib/python3.10/socket.py\", line 845, in create_connection\n",
      "    raise err\n",
      "  File \"/usr/lib/python3.10/socket.py\", line 833, in create_connection\n",
      "    sock.connect(sa)\n",
      "ConnectionRefusedError: [Errno 111] Connection refused\n"
     ]
    },
    {
     "ename": "ConnectFailedException",
     "evalue": "",
     "output_type": "error",
     "traceback": [
      "\u001b[0;31m---------------------------------------------------------------------------\u001b[0m",
      "\u001b[0;31mConnectFailedException\u001b[0m                    Traceback (most recent call last)",
      "\u001b[1;32m/home/ande188/CIM-Graph/cimgraph/tests/gridappsd_test.ipynb Cell 5\u001b[0m line \u001b[0;36m1\n\u001b[1;32m      <a href='vscode-notebook-cell://wsl%2Bubuntu-22.04/home/ande188/CIM-Graph/cimgraph/tests/gridappsd_test.ipynb#W4sdnNjb2RlLXJlbW90ZQ%3D%3D?line=8'>9</a>\u001b[0m \u001b[39mfor\u001b[39;00m feeder_mrid \u001b[39min\u001b[39;00m feeder_mrids:\n\u001b[1;32m     <a href='vscode-notebook-cell://wsl%2Bubuntu-22.04/home/ande188/CIM-Graph/cimgraph/tests/gridappsd_test.ipynb#W4sdnNjb2RlLXJlbW90ZQ%3D%3D?line=9'>10</a>\u001b[0m     feeder \u001b[39m=\u001b[39m cim\u001b[39m.\u001b[39mFeeder(mRID \u001b[39m=\u001b[39m feeder_mrid)\n\u001b[0;32m---> <a href='vscode-notebook-cell://wsl%2Bubuntu-22.04/home/ande188/CIM-Graph/cimgraph/tests/gridappsd_test.ipynb#W4sdnNjb2RlLXJlbW90ZQ%3D%3D?line=10'>11</a>\u001b[0m     network \u001b[39m=\u001b[39m FeederModel(connection\u001b[39m=\u001b[39;49mgapps, container\u001b[39m=\u001b[39;49mfeeder, distributed\u001b[39m=\u001b[39;49m\u001b[39mFalse\u001b[39;49;00m)\n\u001b[1;32m     <a href='vscode-notebook-cell://wsl%2Bubuntu-22.04/home/ande188/CIM-Graph/cimgraph/tests/gridappsd_test.ipynb#W4sdnNjb2RlLXJlbW90ZQ%3D%3D?line=11'>12</a>\u001b[0m     test_get_all_edges(network, cim)\n",
      "File \u001b[0;32m<string>:9\u001b[0m, in \u001b[0;36m__init__\u001b[0;34m(self, container, connection, distributed, graph, topology_message, distributed_hierarchy)\u001b[0m\n",
      "File \u001b[0;32m~/CIM-Graph/cimgraph/models/feeder_model.py:50\u001b[0m, in \u001b[0;36mFeederModel.__post_init__\u001b[0;34m(self)\u001b[0m\n\u001b[1;32m     47\u001b[0m         \u001b[39mself\u001b[39m\u001b[39m.\u001b[39minitialize_distributed_model(\u001b[39mself\u001b[39m\u001b[39m.\u001b[39mcontainer)\n\u001b[1;32m     48\u001b[0m     \u001b[39melse\u001b[39;00m:\n\u001b[1;32m     49\u001b[0m         \u001b[39m# Otherwise build centralized network model\u001b[39;00m\n\u001b[0;32m---> 50\u001b[0m         \u001b[39mself\u001b[39;49m\u001b[39m.\u001b[39;49minitialize_centralized_model(\u001b[39mself\u001b[39;49m\u001b[39m.\u001b[39;49mcontainer)\n\u001b[1;32m     51\u001b[0m \u001b[39melse\u001b[39;00m:    \u001b[39m# Log error thant no connection was specified\u001b[39;00m\n\u001b[1;32m     52\u001b[0m     _log\u001b[39m.\u001b[39merror(\u001b[39m'\u001b[39m\u001b[39mA ConnectionInterface must be specified\u001b[39m\u001b[39m'\u001b[39m)\n",
      "File \u001b[0;32m~/CIM-Graph/cimgraph/models/feeder_model.py:56\u001b[0m, in \u001b[0;36mFeederModel.initialize_centralized_model\u001b[0;34m(self, container)\u001b[0m\n\u001b[1;32m     54\u001b[0m \u001b[39mdef\u001b[39;00m \u001b[39minitialize_centralized_model\u001b[39m(\u001b[39mself\u001b[39m, container) \u001b[39m-\u001b[39m\u001b[39m>\u001b[39m \u001b[39mNone\u001b[39;00m:\n\u001b[1;32m     55\u001b[0m     \u001b[39m# Build graph model using database-specific routine\u001b[39;00m\n\u001b[0;32m---> 56\u001b[0m     \u001b[39mself\u001b[39m\u001b[39m.\u001b[39mgraph \u001b[39m=\u001b[39m \u001b[39mself\u001b[39;49m\u001b[39m.\u001b[39;49mconnection\u001b[39m.\u001b[39;49mcreate_new_graph(container)\n",
      "File \u001b[0;32m~/CIM-Graph/cimgraph/databases/gridappsd/gridappsd.py:67\u001b[0m, in \u001b[0;36mGridappsdConnection.create_new_graph\u001b[0;34m(self, container)\u001b[0m\n\u001b[1;32m     65\u001b[0m \u001b[39m# Get all nodes, terminal, and equipment by\u001b[39;00m\n\u001b[1;32m     66\u001b[0m sparql_message \u001b[39m=\u001b[39m sparql\u001b[39m.\u001b[39mget_all_nodes_sparql(container, \u001b[39mself\u001b[39m\u001b[39m.\u001b[39mnamespace)\n\u001b[0;32m---> 67\u001b[0m query_output \u001b[39m=\u001b[39m \u001b[39mself\u001b[39;49m\u001b[39m.\u001b[39;49mexecute(sparql_message)\n\u001b[1;32m     69\u001b[0m \u001b[39mfor\u001b[39;00m result \u001b[39min\u001b[39;00m query_output[\u001b[39m'\u001b[39m\u001b[39mresults\u001b[39m\u001b[39m'\u001b[39m][\u001b[39m'\u001b[39m\u001b[39mbindings\u001b[39m\u001b[39m'\u001b[39m]:\n\u001b[1;32m     70\u001b[0m     \u001b[39m# Parse query results\u001b[39;00m\n\u001b[1;32m     71\u001b[0m     node_mrid \u001b[39m=\u001b[39m result[\u001b[39m'\u001b[39m\u001b[39mConnectivityNode\u001b[39m\u001b[39m'\u001b[39m][\u001b[39m'\u001b[39m\u001b[39mvalue\u001b[39m\u001b[39m'\u001b[39m]\n",
      "File \u001b[0;32m~/CIM-Graph/cimgraph/databases/gridappsd/gridappsd.py:59\u001b[0m, in \u001b[0;36mGridappsdConnection.execute\u001b[0;34m(self, query_message)\u001b[0m\n\u001b[1;32m     58\u001b[0m \u001b[39mdef\u001b[39;00m \u001b[39mexecute\u001b[39m(\u001b[39mself\u001b[39m, query_message: \u001b[39mstr\u001b[39m) \u001b[39m-\u001b[39m\u001b[39m>\u001b[39m QueryResponse:\n\u001b[0;32m---> 59\u001b[0m     \u001b[39mself\u001b[39;49m\u001b[39m.\u001b[39;49mconnect()\n\u001b[1;32m     60\u001b[0m     response \u001b[39m=\u001b[39m \u001b[39mself\u001b[39m\u001b[39m.\u001b[39mgapps\u001b[39m.\u001b[39mquery_data(query_message, database_type\u001b[39m=\u001b[39m\u001b[39mself\u001b[39m\u001b[39m.\u001b[39mdatabase, timeout\u001b[39m=\u001b[39m\u001b[39m30\u001b[39m)\n\u001b[1;32m     61\u001b[0m     \u001b[39mreturn\u001b[39;00m response[\u001b[39m'\u001b[39m\u001b[39mdata\u001b[39m\u001b[39m'\u001b[39m]\n",
      "File \u001b[0;32m~/CIM-Graph/cimgraph/databases/gridappsd/gridappsd.py:53\u001b[0m, in \u001b[0;36mGridappsdConnection.connect\u001b[0;34m(self)\u001b[0m\n\u001b[1;32m     51\u001b[0m \u001b[39mdef\u001b[39;00m \u001b[39mconnect\u001b[39m(\u001b[39mself\u001b[39m):\n\u001b[1;32m     52\u001b[0m     \u001b[39mif\u001b[39;00m \u001b[39mnot\u001b[39;00m \u001b[39mself\u001b[39m\u001b[39m.\u001b[39mgapps:\n\u001b[0;32m---> 53\u001b[0m         \u001b[39mself\u001b[39m\u001b[39m.\u001b[39mgapps \u001b[39m=\u001b[39m GridAPPSD()\n",
      "File \u001b[0;32m~/CIM-Graph/.venv/lib/python3.10/site-packages/gridappsd/gridappsd.py:82\u001b[0m, in \u001b[0;36mGridAPPSD.__init__\u001b[0;34m(self, simulation_id, address, **kwargs)\u001b[0m\n\u001b[1;32m     78\u001b[0m \u001b[39melif\u001b[39;00m \u001b[39m'\u001b[39m\u001b[39mstomp_address\u001b[39m\u001b[39m'\u001b[39m \u001b[39min\u001b[39;00m kwargs \u001b[39mand\u001b[39;00m \u001b[39mnot\u001b[39;00m \u001b[39m'\u001b[39m\u001b[39mstomp_port\u001b[39m\u001b[39m'\u001b[39m \u001b[39min\u001b[39;00m kwargs \u001b[39mor\u001b[39;00m \\\n\u001b[1;32m     79\u001b[0m      \u001b[39m'\u001b[39m\u001b[39mstomp_port\u001b[39m\u001b[39m'\u001b[39m \u001b[39min\u001b[39;00m kwargs \u001b[39mand\u001b[39;00m \u001b[39mnot\u001b[39;00m \u001b[39m'\u001b[39m\u001b[39mstomp_address\u001b[39m\u001b[39m'\u001b[39m \u001b[39min\u001b[39;00m kwargs:\n\u001b[1;32m     80\u001b[0m     \u001b[39mraise\u001b[39;00m \u001b[39mValueError\u001b[39;00m(\u001b[39m\"\u001b[39m\u001b[39mIf stomp_address is specified the so should stomp_port\u001b[39m\u001b[39m\"\u001b[39m)\n\u001b[0;32m---> 82\u001b[0m \u001b[39msuper\u001b[39;49m(GridAPPSD, \u001b[39mself\u001b[39;49m)\u001b[39m.\u001b[39;49m\u001b[39m__init__\u001b[39;49m(\n\u001b[1;32m     83\u001b[0m     stomp_address\u001b[39m=\u001b[39;49maddress[\u001b[39m0\u001b[39;49m],\n\u001b[1;32m     84\u001b[0m     stomp_port\u001b[39m=\u001b[39;49maddress[\u001b[39m1\u001b[39;49m],\n\u001b[1;32m     85\u001b[0m     \u001b[39m*\u001b[39;49m\u001b[39m*\u001b[39;49mkwargs)\n\u001b[1;32m     86\u001b[0m \u001b[39mself\u001b[39m\u001b[39m.\u001b[39m_houses \u001b[39m=\u001b[39m Houses(\u001b[39mself\u001b[39m)\n\u001b[1;32m     87\u001b[0m \u001b[39mself\u001b[39m\u001b[39m.\u001b[39m_simulation_log_topic \u001b[39m=\u001b[39m \u001b[39mNone\u001b[39;00m\n",
      "File \u001b[0;32m~/CIM-Graph/.venv/lib/python3.10/site-packages/gridappsd/goss.py:124\u001b[0m, in \u001b[0;36mGOSS.__init__\u001b[0;34m(self, username, password, stomp_address, stomp_port, attempt_connection, override_threading, stomp_log_level, goss_log_level)\u001b[0m\n\u001b[1;32m    121\u001b[0m \u001b[39mself\u001b[39m\u001b[39m.\u001b[39m__token \u001b[39m=\u001b[39m \u001b[39mNone\u001b[39;00m\n\u001b[1;32m    123\u001b[0m \u001b[39mif\u001b[39;00m attempt_connection:\n\u001b[0;32m--> 124\u001b[0m     \u001b[39mself\u001b[39;49m\u001b[39m.\u001b[39;49m_make_connection()\n",
      "File \u001b[0;32m~/CIM-Graph/.venv/lib/python3.10/site-packages/gridappsd/goss.py:297\u001b[0m, in \u001b[0;36mGOSS._make_connection\u001b[0;34m(self)\u001b[0m\n\u001b[1;32m    295\u001b[0m \u001b[39mif\u001b[39;00m \u001b[39mself\u001b[39m\u001b[39m.\u001b[39m_override_thread_fc \u001b[39mis\u001b[39;00m \u001b[39mnot\u001b[39;00m \u001b[39mNone\u001b[39;00m:\n\u001b[1;32m    296\u001b[0m     tmpConn\u001b[39m.\u001b[39mtransport\u001b[39m.\u001b[39moverride_threading(\u001b[39mself\u001b[39m\u001b[39m.\u001b[39m_override_thread_fc)\n\u001b[0;32m--> 297\u001b[0m tmpConn\u001b[39m.\u001b[39;49mconnect(\u001b[39mself\u001b[39;49m\u001b[39m.\u001b[39;49m__user__, \u001b[39mself\u001b[39;49m\u001b[39m.\u001b[39;49m__pass__, wait\u001b[39m=\u001b[39;49m\u001b[39mTrue\u001b[39;49;00m)\n\u001b[1;32m    299\u001b[0m \u001b[39mclass\u001b[39;00m \u001b[39mTokenResponseListener\u001b[39;00m():\n\u001b[1;32m    300\u001b[0m     \u001b[39mdef\u001b[39;00m \u001b[39m__init__\u001b[39m(\u001b[39mself\u001b[39m):\n",
      "File \u001b[0;32m~/CIM-Graph/.venv/lib/python3.10/site-packages/stomp/connect.py:215\u001b[0m, in \u001b[0;36mStompConnection12.connect\u001b[0;34m(self, *args, **kwargs)\u001b[0m\n\u001b[1;32m    214\u001b[0m \u001b[39mdef\u001b[39;00m \u001b[39mconnect\u001b[39m(\u001b[39mself\u001b[39m, \u001b[39m*\u001b[39margs, \u001b[39m*\u001b[39m\u001b[39m*\u001b[39mkwargs):\n\u001b[0;32m--> 215\u001b[0m     \u001b[39mself\u001b[39;49m\u001b[39m.\u001b[39;49mtransport\u001b[39m.\u001b[39;49mstart()\n\u001b[1;32m    216\u001b[0m     Protocol12\u001b[39m.\u001b[39mconnect(\u001b[39mself\u001b[39m, \u001b[39m*\u001b[39margs, \u001b[39m*\u001b[39m\u001b[39m*\u001b[39mkwargs)\n",
      "File \u001b[0;32m~/CIM-Graph/.venv/lib/python3.10/site-packages/stomp/transport.py:104\u001b[0m, in \u001b[0;36mBaseTransport.start\u001b[0;34m(self)\u001b[0m\n\u001b[1;32m     97\u001b[0m \u001b[39m\u001b[39m\u001b[39m\"\"\"\u001b[39;00m\n\u001b[1;32m     98\u001b[0m \u001b[39mStart the connection. This should be called after all\u001b[39;00m\n\u001b[1;32m     99\u001b[0m \u001b[39mlisteners have been registered. If this method is not called,\u001b[39;00m\n\u001b[1;32m    100\u001b[0m \u001b[39mno frames will be received by the connection and no SSL/TLS\u001b[39;00m\n\u001b[1;32m    101\u001b[0m \u001b[39mhandshake will occur.\u001b[39;00m\n\u001b[1;32m    102\u001b[0m \u001b[39m\"\"\"\u001b[39;00m\n\u001b[1;32m    103\u001b[0m \u001b[39mself\u001b[39m\u001b[39m.\u001b[39mrunning \u001b[39m=\u001b[39m \u001b[39mTrue\u001b[39;00m\n\u001b[0;32m--> 104\u001b[0m \u001b[39mself\u001b[39;49m\u001b[39m.\u001b[39;49mattempt_connection()\n\u001b[1;32m    105\u001b[0m receiver_thread \u001b[39m=\u001b[39m \u001b[39mself\u001b[39m\u001b[39m.\u001b[39mcreate_thread_fc(\u001b[39mself\u001b[39m\u001b[39m.\u001b[39m__receiver_loop)\n\u001b[1;32m    106\u001b[0m logging\u001b[39m.\u001b[39minfo(\u001b[39m\"\u001b[39m\u001b[39mCreated thread \u001b[39m\u001b[39m%s\u001b[39;00m\u001b[39m using func \u001b[39m\u001b[39m%s\u001b[39;00m\u001b[39m\"\u001b[39m, receiver_thread, \u001b[39mself\u001b[39m\u001b[39m.\u001b[39mcreate_thread_fc)\n",
      "File \u001b[0;32m~/CIM-Graph/.venv/lib/python3.10/site-packages/stomp/transport.py:800\u001b[0m, in \u001b[0;36mTransport.attempt_connection\u001b[0;34m(self)\u001b[0m\n\u001b[1;32m    797\u001b[0m             sleep_exp \u001b[39m+\u001b[39m\u001b[39m=\u001b[39m \u001b[39m1\u001b[39m\n\u001b[1;32m    799\u001b[0m \u001b[39mif\u001b[39;00m \u001b[39mnot\u001b[39;00m \u001b[39mself\u001b[39m\u001b[39m.\u001b[39msocket:\n\u001b[0;32m--> 800\u001b[0m     \u001b[39mraise\u001b[39;00m exception\u001b[39m.\u001b[39mConnectFailedException()\n",
      "\u001b[0;31mConnectFailedException\u001b[0m: "
     ]
    }
   ],
   "source": [
    "feeder_mrids = [\"_49AD8E07-3BF9-A4E2-CB8F-C3722F837B62\",  # 13 bus\n",
    "                \"_C1C3E687-6FFD-C753-582B-632A27E28507\",  # 123 bus\n",
    "                \"5B816B93-7A5F-B64C-8460-47C17D6E4B0F\"] # 13 bus asets\n",
    "                # \"_4F76A5F9-271D-9EB8-5E31-AA362D86F2C3\",  # 8500 node\n",
    "                # \"_67AB291F-DCCD-31B7-B499-338206B9828F\", # J1\n",
    "                # \"_9CE150A8-8CC5-A0F9-B67E-BBD8C79D3095\"]  # R2 12.47 3\n",
    "# feeder_mrid = \"_EE71F6C9-56F0-4167-A14E-7F4C71F10EAA\" #9500 node\n",
    "# feeder_mrid = \"_9E985101-27AD-4FE4-B36A-EBECC98CDFAB\" #MAPLE 10 bus\n",
    "for feeder_mrid in feeder_mrids:\n",
    "    feeder = cim.Feeder(mRID = feeder_mrid)\n",
    "    network = FeederModel(connection=gapps, container=feeder, distributed=False)\n",
    "    test_get_all_edges(network, cim)"
   ]
  },
  {
   "cell_type": "code",
   "execution_count": null,
   "metadata": {},
   "outputs": [],
   "source": []
  }
 ],
 "metadata": {
  "kernelspec": {
   "display_name": ".venv",
   "language": "python",
   "name": "python3"
  },
  "language_info": {
   "codemirror_mode": {
    "name": "ipython",
    "version": 3
   },
   "file_extension": ".py",
   "mimetype": "text/x-python",
   "name": "python",
   "nbconvert_exporter": "python",
   "pygments_lexer": "ipython3",
   "version": "3.10.12"
  }
 },
 "nbformat": 4,
 "nbformat_minor": 2
}
