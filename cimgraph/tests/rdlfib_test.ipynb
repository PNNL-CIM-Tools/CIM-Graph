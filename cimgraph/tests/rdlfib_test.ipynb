{
 "cells": [
  {
   "cell_type": "code",
   "execution_count": 1,
   "metadata": {},
   "outputs": [],
   "source": [
    "import importlib\n",
    "cim_profile = 'cimhub_2023'\n",
    "cim = importlib.import_module('cimgraph.data_profile.' + cim_profile)"
   ]
  },
  {
   "cell_type": "code",
   "execution_count": 2,
   "metadata": {},
   "outputs": [],
   "source": [
    "from cimgraph.databases import ConnectionParameters\n",
    "from cimgraph.databases import RDFlibConnection\n",
    "from cimgraph.models import FeederModel\n",
    "from cimgraph.models import NodeBreakerModel\n",
    "from cimgraph.models import BusBranchModel\n",
    "from cimgraph.tests.test_get_all_edges import test_get_all_edges"
   ]
  },
  {
   "cell_type": "code",
   "execution_count": 3,
   "metadata": {},
   "outputs": [],
   "source": [
    "cim_profile = 'cimhub_2023'\n",
    "cim = importlib.import_module('cimgraph.data_profile.' + cim_profile)\n",
    "\n",
    "# RDFLib File Reader Connection\n",
    "params = ConnectionParameters(filename=\"./test_models/ieee13.xml\", cim_profile='cimhub_2023', iec61970_301=8)\n",
    "rdf = RDFlibConnection(params)\n",
    "\n",
    "feeder_mrid = \"49AD8E07-3BF9-A4E2-CB8F-C3722F837B62\"\n",
    "feeder = cim.Feeder(mRID = feeder_mrid)\n",
    "network = FeederModel(connection=rdf, container=feeder, distributed=False)\n",
    "test_get_all_edges(network, cim)\n",
    "\n",
    "network = FeederModel(connection=rdf, container=feeder, distributed=True)\n",
    "for switch_area in network.distributed_areas:\n",
    "    test_get_all_edges(switch_area, cim)\n",
    "    for sec_area in switch_area.distributed_areas:\n",
    "        test_get_all_edges(sec_area, cim)\n"
   ]
  },
  {
   "cell_type": "code",
   "execution_count": 4,
   "metadata": {},
   "outputs": [],
   "source": [
    "cim_profile = 'cimhub_2023'\n",
    "cim = importlib.import_module('cimgraph.data_profile.' + cim_profile)\n",
    "\n",
    "# RDFLib File Reader Connection\n",
    "params = ConnectionParameters(filename=\"./test_models/IEEE118_CIM.xml\", cim_profile='cimhub_2023', iec61970_301=8)\n",
    "rdf = RDFlibConnection(params)\n",
    "\n",
    "feeder_mrid = \"1783D2A8-1204-4781-A0B4-7A73A2FA6038\" #IEEE 118 Bus\"\n",
    "feeder = cim.ConnectivityNodeContainer(mRID = feeder_mrid)\n",
    "network = FeederModel(connection=rdf, container=feeder, distributed=False)\n",
    "test_get_all_edges(network, cim)"
   ]
  },
  {
   "cell_type": "code",
   "execution_count": 5,
   "metadata": {},
   "outputs": [
    {
     "name": "stdout",
     "output_type": "stream",
     "text": [
      "subregion small\n",
      "substation maple10bus_sub2\n",
      "voltage level SUB2_115.0_B1\n",
      "voltage level SUB2_4.16_B1\n",
      "voltage level SUB2_34.5_B1\n",
      "voltage level SUB2_230.0_B1\n",
      "feeder feeder_11\n",
      "feeder feeder_9\n",
      "feeder feeder_8\n",
      "feeder feeder_10\n",
      "substation maple10bus_sub1\n",
      "voltage level SUB1_230.0_B1\n",
      "voltage level SUB1_115.0_B1\n",
      "voltage level SUB1_12.47_B1\n",
      "voltage level SUB1_34.5_B1\n",
      "feeder feeder_4\n",
      "feeder feeder_1\n",
      "feeder feeder_5\n",
      "feeder feeder_6\n",
      "feeder feeder_3\n",
      "feeder feeder_7\n",
      "feeder feeder_2\n"
     ]
    }
   ],
   "source": [
    "cim_profile = 'rc4_2021'\n",
    "cim = importlib.import_module('cimgraph.data_profile.' + cim_profile)\n",
    "\n",
    "# RDFLib File Reader Connection\n",
    "params = ConnectionParameters(filename=\"./test_models/maple10nodebreaker.xml\", cim_profile=cim_profile, iec61970_301=7)\n",
    "rdf = RDFlibConnection(params)\n",
    "\n",
    "feeder_mrid = \"_EE4C60AE-550D-4599-92F4-022DF3118B3C\"\n",
    "geo = cim.GeographicalRegion(mRID = feeder_mrid)\n",
    "network = NodeBreakerModel(connection=rdf, container=geo, distributed=True) \n",
    "\n",
    "for sr_area in network.distributed_areas[cim.SubGeographicalRegion].values():\n",
    "    print(\"subregion\", sr_area.container.name)\n",
    "    test_get_all_edges(sr_area, cim)\n",
    "    for sub_area in sr_area.distributed_areas[cim.Substation].values():\n",
    "        print(\"substation\", sub_area.container.name)\n",
    "        test_get_all_edges(sub_area, cim)\n",
    "        for vl_area in sub_area.distributed_areas[cim.VoltageLevel].values():\n",
    "            print(\"voltage level\", vl_area.container.name)\n",
    "            test_get_all_edges(vl_area, cim)\n",
    "        for feeder in sub_area.distributed_areas[cim.Feeder].values():\n",
    "            print(\"feeder\", feeder.container.name)\n",
    "            test_get_all_edges(feeder, cim)"
   ]
  },
  {
   "cell_type": "code",
   "execution_count": 6,
   "metadata": {},
   "outputs": [
    {
     "name": "stdout",
     "output_type": "stream",
     "text": [
      "{\n",
      "    \"_9E985101-27AD-4FE4-B36A-EBECC98CDFA4\": {\n",
      "        \"mRID\": \"_9E985101-27AD-4FE4-B36A-EBECC98CDFA4\",\n",
      "        \"name\": \"feeder_4\",\n",
      "        \"Location\": \"_0EED2A4D-0D77-4D41-88BF-A99175C1C3AE\",\n",
      "        \"ConnectivityNodes\": \"['_F819B704-AC99-4950-B551-DCA6C7DEE711']\",\n",
      "        \"Equipments\": \"['_C86462B7-5A08-43B5-BCAD-93A981F26781', '_CA84A9C3-56C0-42DE-B31F-22EB8E56570D', '_C63A16AB-72F2-4A84-905F-DA9462CF9943']\",\n",
      "        \"NormalEnergizingSubstation\": \"_FBE667A8-D26D-4B6B-AF9D-74AE20E96040\"\n",
      "    },\n",
      "    \"_9E985101-27AD-4FE4-B36A-EBECC98CDFA1\": {\n",
      "        \"mRID\": \"_9E985101-27AD-4FE4-B36A-EBECC98CDFA1\",\n",
      "        \"name\": \"feeder_1\",\n",
      "        \"Location\": \"_0EED2A4D-0D77-4D41-88BF-A99175C1C3AE\",\n",
      "        \"ConnectivityNodes\": \"['_B7A60D0E-5129-47B3-8B0E-00DD217FA194']\",\n",
      "        \"Equipments\": \"['_60CB1033-6383-4959-9241-97B1E1786D8B', '_90B9E60D-92E8-48AD-A5BB-430685A6D52E', '_157B3EBC-9473-408B-8DAA-B66B473DB3DB']\",\n",
      "        \"NormalEnergizingSubstation\": \"_FBE667A8-D26D-4B6B-AF9D-74AE20E96040\"\n",
      "    },\n",
      "    \"_9E985101-27AD-4FE4-B36A-EBECC98CDFA5\": {\n",
      "        \"mRID\": \"_9E985101-27AD-4FE4-B36A-EBECC98CDFA5\",\n",
      "        \"name\": \"feeder_5\",\n",
      "        \"Location\": \"_0EED2A4D-0D77-4D41-88BF-A99175C1C3AE\",\n",
      "        \"ConnectivityNodes\": \"['_922BDBF2-A4AD-454B-922B-9BBC680FCEA7']\",\n",
      "        \"Equipments\": \"['_4E444BD4-AC52-49BC-8520-FE3372B8CD5F', '_8AA8A8EA-51D5-461E-9261-AD48661E6FE4', '_379B4089-777D-4023-B32D-0F8A837BF0BC']\",\n",
      "        \"NormalEnergizingSubstation\": \"_FBE667A8-D26D-4B6B-AF9D-74AE20E96040\"\n",
      "    },\n",
      "    \"_9E985101-27AD-4FE4-B36A-EBECC98CDFA6\": {\n",
      "        \"mRID\": \"_9E985101-27AD-4FE4-B36A-EBECC98CDFA6\",\n",
      "        \"name\": \"feeder_6\",\n",
      "        \"Location\": \"_0EED2A4D-0D77-4D41-88BF-A99175C1C3AE\",\n",
      "        \"ConnectivityNodes\": \"['_38118D32-5E9B-4A0E-A360-F861FFA1CBF9']\",\n",
      "        \"Equipments\": \"['_3BD2AF68-6BE0-4B32-8F42-7C96B62A21F4', '_04E93124-24D3-4F16-8A7B-83DF7CA395AF', '_AD2D6921-A1B0-4346-B941-365501A472CE']\",\n",
      "        \"NormalEnergizingSubstation\": \"_FBE667A8-D26D-4B6B-AF9D-74AE20E96040\"\n",
      "    },\n",
      "    \"_9E985101-27AD-4FE4-B36A-EBECC98CDFA3\": {\n",
      "        \"mRID\": \"_9E985101-27AD-4FE4-B36A-EBECC98CDFA3\",\n",
      "        \"name\": \"feeder_3\",\n",
      "        \"Location\": \"_0EED2A4D-0D77-4D41-88BF-A99175C1C3AE\",\n",
      "        \"ConnectivityNodes\": \"['_D491FA14-7DD1-438F-B132-7F4917AFCF19']\",\n",
      "        \"Equipments\": \"['_A51522AE-AECE-41A0-897A-20420721B99A', '_69299102-B967-4D38-B382-A8E3C12745F1', '_6EB19C31-B0A1-434A-BC13-A176A83FAD29']\",\n",
      "        \"NormalEnergizingSubstation\": \"_FBE667A8-D26D-4B6B-AF9D-74AE20E96040\"\n",
      "    },\n",
      "    \"_9E985101-27AD-4FE4-B36A-EBECC98CDFA7\": {\n",
      "        \"mRID\": \"_9E985101-27AD-4FE4-B36A-EBECC98CDFA7\",\n",
      "        \"name\": \"feeder_7\",\n",
      "        \"Location\": \"_0EED2A4D-0D77-4D41-88BF-A99175C1C3AE\",\n",
      "        \"ConnectivityNodes\": \"['_5AE2E30B-6A55-4FA7-BF02-35241CEC0C5B']\",\n",
      "        \"Equipments\": \"['_843C8A05-7267-41AB-9C33-4C1128FA13A5', '_97238F75-6FC2-4128-82AB-D39C0875449F', '_ECA48996-298B-44B3-8436-5907D6540926']\",\n",
      "        \"NormalEnergizingSubstation\": \"_FBE667A8-D26D-4B6B-AF9D-74AE20E96040\"\n",
      "    },\n",
      "    \"_9E985101-27AD-4FE4-B36A-EBECC98CDFA2\": {\n",
      "        \"mRID\": \"_9E985101-27AD-4FE4-B36A-EBECC98CDFA2\",\n",
      "        \"name\": \"feeder_2\",\n",
      "        \"Location\": \"_0EED2A4D-0D77-4D41-88BF-A99175C1C3AE\",\n",
      "        \"ConnectivityNodes\": \"['_26E1BBB1-6339-41CC-BFE9-658FECE8AD06']\",\n",
      "        \"Equipments\": \"['_ABC44803-D17C-4399-902D-1845EFFC6843', '_63952C14-0121-4EC1-B001-29B7FA4FEB59']\",\n",
      "        \"NormalEnergizingSubstation\": \"_FBE667A8-D26D-4B6B-AF9D-74AE20E96040\"\n",
      "    },\n",
      "    \"_9E985101-27AD-4FE4-B36A-EBECC98CDFB4\": {\n",
      "        \"mRID\": \"_9E985101-27AD-4FE4-B36A-EBECC98CDFB4\"\n",
      "    },\n",
      "    \"_9E985101-27AD-4FE4-B36A-EBECC98CDFB2\": {\n",
      "        \"mRID\": \"_9E985101-27AD-4FE4-B36A-EBECC98CDFB2\"\n",
      "    },\n",
      "    \"_9E985101-27AD-4FE4-B36A-EBECC98CDFB1\": {\n",
      "        \"mRID\": \"_9E985101-27AD-4FE4-B36A-EBECC98CDFB1\"\n",
      "    },\n",
      "    \"_9E985101-27AD-4FE4-B36A-EBECC98CDFB3\": {\n",
      "        \"mRID\": \"_9E985101-27AD-4FE4-B36A-EBECC98CDFB3\"\n",
      "    }\n",
      "}\n"
     ]
    }
   ],
   "source": [
    "sub_area.pprint(cim.Feeder)"
   ]
  }
 ],
 "metadata": {
  "kernelspec": {
   "display_name": "Python 3",
   "language": "python",
   "name": "python3"
  },
  "language_info": {
   "codemirror_mode": {
    "name": "ipython",
    "version": 3
   },
   "file_extension": ".py",
   "mimetype": "text/x-python",
   "name": "python",
   "nbconvert_exporter": "python",
   "pygments_lexer": "ipython3",
   "version": "3.10.12"
  },
  "orig_nbformat": 4
 },
 "nbformat": 4,
 "nbformat_minor": 2
}
