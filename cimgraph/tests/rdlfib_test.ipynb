{
 "cells": [
  {
   "cell_type": "code",
   "execution_count": 1,
   "metadata": {},
   "outputs": [],
   "source": [
    "import importlib\n",
    "cim_profile = 'cimhub_2023'\n",
    "cim = importlib.import_module('cimgraph.data_profile.' + cim_profile)"
   ]
  },
  {
   "cell_type": "code",
   "execution_count": 2,
   "metadata": {},
   "outputs": [],
   "source": [
    "from cimgraph.databases import ConnectionParameters\n",
    "from cimgraph.databases import RDFlibConnection\n",
    "from cimgraph.models import FeederModel\n",
    "from cimgraph.models import NodeBreakerModel\n",
    "from cimgraph.models import BusBranchModel\n",
    "from cimgraph.tests.test_get_all_edges import test_get_all_edges\n",
    "from cimgraph.utils import get_all_data, write_xml"
   ]
  },
  {
   "cell_type": "code",
   "execution_count": 3,
   "metadata": {},
   "outputs": [
    {
     "data": {
      "text/plain": [
       "<Graph identifier=N55e19441406743388caaf7bd8b793161 (<class 'rdflib.graph.Graph'>)>"
      ]
     },
     "execution_count": 3,
     "metadata": {},
     "output_type": "execute_result"
    }
   ],
   "source": [
    "cim_profile = 'cimhub_2023'\n",
    "cim = importlib.import_module('cimgraph.data_profile.' + cim_profile)\n",
    "\n",
    "# RDFLib File Reader Connection\n",
    "params = ConnectionParameters(filename=\"./test_models/ieee13.xml\", cim_profile='cimhub_2023', iec61970_301=8)\n",
    "rdf = RDFlibConnection(params)\n",
    "\n",
    "feeder_mrid = \"49AD8E07-3BF9-A4E2-CB8F-C3722F837B62\"\n",
    "feeder = cim.Feeder(mRID = feeder_mrid)\n",
    "network = FeederModel(connection=rdf, container=feeder, distributed=False)\n",
    "get_all_data(network)\n",
    "write_xml(network, \"./test_output/ieee13test.xml\")\n",
    "rdf.libgraph.serialize(destination='./test_output/test13rdf.xml', format='xml')"
   ]
  },
  {
   "cell_type": "code",
   "execution_count": 4,
   "metadata": {},
   "outputs": [
    {
     "ename": "NameError",
     "evalue": "name 'cim_class' is not defined",
     "output_type": "error",
     "traceback": [
      "\u001b[0;31m---------------------------------------------------------------------------\u001b[0m",
      "\u001b[0;31mNameError\u001b[0m                                 Traceback (most recent call last)",
      "\u001b[1;32m/home/ande188/CIM-Graph/cimgraph/tests/rdlfib_test.ipynb Cell 4\u001b[0m line \u001b[0;36m7\n\u001b[1;32m      <a href='vscode-notebook-cell://wsl%2Bubuntu-22.04/home/ande188/CIM-Graph/cimgraph/tests/rdlfib_test.ipynb#X46sdnNjb2RlLXJlbW90ZQ%3D%3D?line=4'>5</a>\u001b[0m \u001b[39mfrom\u001b[39;00m \u001b[39mzipfile\u001b[39;00m \u001b[39mimport\u001b[39;00m ZipFile\n\u001b[1;32m      <a href='vscode-notebook-cell://wsl%2Bubuntu-22.04/home/ande188/CIM-Graph/cimgraph/tests/rdlfib_test.ipynb#X46sdnNjb2RlLXJlbW90ZQ%3D%3D?line=5'>6</a>\u001b[0m \u001b[39mwith\u001b[39;00m ZipFile(\u001b[39mf\u001b[39m\u001b[39m'\u001b[39m\u001b[39m{\u001b[39;00mnetwork\u001b[39m.\u001b[39mcontainer\u001b[39m.\u001b[39mmRID\u001b[39m}\u001b[39;00m\u001b[39m.zip\u001b[39m\u001b[39m'\u001b[39m, \u001b[39m'\u001b[39m\u001b[39ma\u001b[39m\u001b[39m'\u001b[39m) \u001b[39mas\u001b[39;00m zip_file:\n\u001b[0;32m----> <a href='vscode-notebook-cell://wsl%2Bubuntu-22.04/home/ande188/CIM-Graph/cimgraph/tests/rdlfib_test.ipynb#X46sdnNjb2RlLXJlbW90ZQ%3D%3D?line=6'>7</a>\u001b[0m     zip_file\u001b[39m.\u001b[39mwrite(\u001b[39mf\u001b[39m\u001b[39m'\u001b[39m\u001b[39m{\u001b[39;00mcim_class\u001b[39m.\u001b[39m\u001b[39m__name__\u001b[39m\u001b[39m}\u001b[39;00m\u001b[39m.csv\u001b[39m\u001b[39m'\u001b[39m)\n",
      "\u001b[0;31mNameError\u001b[0m: name 'cim_class' is not defined"
     ]
    }
   ],
   "source": [
    "from cimgraph.utils.write_csv import write_csv\n",
    "\n",
    "write_csv(network, './test_output')"
   ]
  },
  {
   "cell_type": "code",
   "execution_count": null,
   "metadata": {},
   "outputs": [],
   "source": [
    "## Round-trip test"
   ]
  },
  {
   "cell_type": "code",
   "execution_count": null,
   "metadata": {},
   "outputs": [],
   "source": [
    "cim_profile = 'cimhub_2023'\n",
    "cim = importlib.import_module('cimgraph.data_profile.' + cim_profile)\n",
    "\n",
    "# RDFLib File Reader Connection\n",
    "params = ConnectionParameters(filename=\"./test_output/ieee13test.xml\", cim_profile='cimhub_2023', iec61970_301=8)\n",
    "rdf = RDFlibConnection(params)\n",
    "\n",
    "feeder_mrid = \"49AD8E07-3BF9-A4E2-CB8F-C3722F837B62\"\n",
    "feeder = cim.Feeder(mRID = feeder_mrid)\n",
    "network = FeederModel(connection=rdf, container=feeder, distributed=False)\n",
    "test_get_all_edges(network, cim)\n",
    "get_all_data(network)\n",
    "write_xml(network, \"./test_output/ieee13test2.xml\")\n",
    "rdf.libgraph.serialize(destination='./test_output/test13rdf_2.xml', format='xml')"
   ]
  },
  {
   "cell_type": "code",
   "execution_count": null,
   "metadata": {},
   "outputs": [],
   "source": [
    "## Distributed model test\n",
    "\n",
    "network = FeederModel(connection=rdf, container=feeder, distributed=True)\n",
    "for switch_area in network.distributed_areas:\n",
    "    test_get_all_edges(switch_area, cim)\n",
    "    for sec_area in switch_area.distributed_areas:\n",
    "        test_get_all_edges(sec_area, cim)\n"
   ]
  },
  {
   "cell_type": "code",
   "execution_count": null,
   "metadata": {},
   "outputs": [],
   "source": [
    "cim_profile = 'cimhub_2023'\n",
    "cim = importlib.import_module('cimgraph.data_profile.' + cim_profile)\n",
    "\n",
    "# RDFLib File Reader Connection\n",
    "params = ConnectionParameters(filename=\"./test_models/IEEE118_CIM.xml\", cim_profile='cimhub_2023', iec61970_301=8)\n",
    "rdf = RDFlibConnection(params)\n",
    "\n",
    "feeder_mrid = \"1783D2A8-1204-4781-A0B4-7A73A2FA6038\" #IEEE 118 Bus\"\n",
    "feeder = cim.ConnectivityNodeContainer(mRID = feeder_mrid)\n",
    "network = FeederModel(connection=rdf, container=feeder, distributed=False)\n",
    "test_get_all_edges(network, cim)"
   ]
  },
  {
   "cell_type": "code",
   "execution_count": null,
   "metadata": {},
   "outputs": [],
   "source": [
    "cim_profile = 'rc4_2021'\n",
    "cim = importlib.import_module('cimgraph.data_profile.' + cim_profile)\n",
    "\n",
    "# RDFLib File Reader Connection\n",
    "params = ConnectionParameters(filename=\"./test_models/maple10nodebreaker.xml\", cim_profile=cim_profile, iec61970_301=7)\n",
    "rdf = RDFlibConnection(params)\n",
    "\n",
    "feeder_mrid = \"_EE4C60AE-550D-4599-92F4-022DF3118B3C\"\n",
    "geo = cim.GeographicalRegion(mRID = feeder_mrid)\n",
    "network = NodeBreakerModel(connection=rdf, container=geo, distributed=True) \n",
    "\n",
    "for sr_area in network.distributed_areas[cim.SubGeographicalRegion].values():\n",
    "    print(\"subregion\", sr_area.container.name)\n",
    "    test_get_all_edges(sr_area, cim)\n",
    "    for sub_area in sr_area.distributed_areas[cim.Substation].values():\n",
    "        print(\"substation\", sub_area.container.name)\n",
    "        test_get_all_edges(sub_area, cim)\n",
    "        for vl_area in sub_area.distributed_areas[cim.VoltageLevel].values():\n",
    "            print(\"voltage level\", vl_area.container.name)\n",
    "            test_get_all_edges(vl_area, cim)\n",
    "        for feeder in sub_area.distributed_areas[cim.Feeder].values():\n",
    "            print(\"feeder\", feeder.container.name)\n",
    "            test_get_all_edges(feeder, cim)"
   ]
  },
  {
   "cell_type": "code",
   "execution_count": null,
   "metadata": {},
   "outputs": [],
   "source": [
    "cim_class = cim.ACLineSegment\n",
    "attributes = list(cim_class.__dataclass_fields__.keys())\n",
    "print(attributes)"
   ]
  }
 ],
 "metadata": {
  "kernelspec": {
   "display_name": "Python 3",
   "language": "python",
   "name": "python3"
  },
  "language_info": {
   "codemirror_mode": {
    "name": "ipython",
    "version": 3
   },
   "file_extension": ".py",
   "mimetype": "text/x-python",
   "name": "python",
   "nbconvert_exporter": "python",
   "pygments_lexer": "ipython3",
   "version": "3.10.12"
  },
  "orig_nbformat": 4
 },
 "nbformat": 4,
 "nbformat_minor": 2
}
