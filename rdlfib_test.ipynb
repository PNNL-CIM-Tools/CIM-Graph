{
 "cells": [
  {
   "cell_type": "code",
   "execution_count": 1,
   "metadata": {},
   "outputs": [],
   "source": [
    "import importlib\n",
    "cim_profile = 'rc4_2021'\n",
    "cim = importlib.import_module('cimgraph.data_profile.' + cim_profile)"
   ]
  },
  {
   "cell_type": "code",
   "execution_count": 2,
   "metadata": {},
   "outputs": [],
   "source": [
    "from cimgraph.databases import ConnectionParameters\n",
    "from cimgraph.databases.blazegraph import BlazegraphConnection\n",
    "from cimgraph.databases.graphdb.graphdb import GraphDBConnection\n",
    "from cimgraph.databases.neo4j.neo4j import Neo4jConnection\n",
    "from cimgraph.databases.rdflib.rdflib import RDFlibConnection\n",
    "from cimgraph.models import FeederModel\n",
    "from cimgraph.models import NodeBreakerModel\n",
    "from cimgraph.models.graph_model import GraphModel\n",
    "# from cimgraph.queries.sparql import get_all_nodes_sparql\n",
    "import cimgraph.queries.sparql as sparql\n",
    "import json\n",
    "import time"
   ]
  },
  {
   "cell_type": "code",
   "execution_count": 3,
   "metadata": {},
   "outputs": [],
   "source": [
    "# RDFLib File Reader Connection\n",
    "params = ConnectionParameters(filename=\"./maple10bus.xml\", cim_profile='rc4_2021', iec61970_301=7)\n",
    "rdf = RDFlibConnection(params)"
   ]
  },
  {
   "cell_type": "code",
   "execution_count": 4,
   "metadata": {},
   "outputs": [],
   "source": [
    "feeder_mrid = \"_9E985101-27AD-4FE4-B36A-EBECC98CDFAB\" #MAPLE 10 bus\n",
    "feeder = cim.Feeder(mRID = feeder_mrid)\n",
    "network = FeederModel(connection=rdf, container=feeder, distributed=False)\n",
    "network=network"
   ]
  },
  {
   "cell_type": "code",
   "execution_count": 5,
   "metadata": {},
   "outputs": [
    {
     "ename": "KeyError",
     "evalue": "'_0D55BF72-F120-4F78-BB1C-BEA724891508'",
     "output_type": "error",
     "traceback": [
      "\u001b[0;31m---------------------------------------------------------------------------\u001b[0m",
      "\u001b[0;31mKeyError\u001b[0m                                  Traceback (most recent call last)",
      "\u001b[1;32m/home/ande188/CIM-Graph/rdlfib_test.ipynb Cell 5\u001b[0m line \u001b[0;36m3\n\u001b[1;32m     <a href='vscode-notebook-cell://wsl%2Bubuntu-22.04/home/ande188/CIM-Graph/rdlfib_test.ipynb#W6sdnNjb2RlLXJlbW90ZQ%3D%3D?line=29'>30</a>\u001b[0m network\u001b[39m.\u001b[39mget_all_edges(cim\u001b[39m.\u001b[39mEnergyConsumerPhase)\n\u001b[1;32m     <a href='vscode-notebook-cell://wsl%2Bubuntu-22.04/home/ande188/CIM-Graph/rdlfib_test.ipynb#W6sdnNjb2RlLXJlbW90ZQ%3D%3D?line=30'>31</a>\u001b[0m network\u001b[39m.\u001b[39mget_all_edges(cim\u001b[39m.\u001b[39mEnergySource)\n\u001b[0;32m---> <a href='vscode-notebook-cell://wsl%2Bubuntu-22.04/home/ande188/CIM-Graph/rdlfib_test.ipynb#W6sdnNjb2RlLXJlbW90ZQ%3D%3D?line=32'>33</a>\u001b[0m network\u001b[39m.\u001b[39;49mget_all_edges(cim\u001b[39m.\u001b[39;49mConnectivityNode)\n\u001b[1;32m     <a href='vscode-notebook-cell://wsl%2Bubuntu-22.04/home/ande188/CIM-Graph/rdlfib_test.ipynb#W6sdnNjb2RlLXJlbW90ZQ%3D%3D?line=33'>34</a>\u001b[0m network\u001b[39m.\u001b[39mget_all_edges(cim\u001b[39m.\u001b[39mTerminal)\n\u001b[1;32m     <a href='vscode-notebook-cell://wsl%2Bubuntu-22.04/home/ande188/CIM-Graph/rdlfib_test.ipynb#W6sdnNjb2RlLXJlbW90ZQ%3D%3D?line=34'>35</a>\u001b[0m network\u001b[39m.\u001b[39mget_all_edges(cim\u001b[39m.\u001b[39mLocation)\n",
      "File \u001b[0;32m~/CIM-Graph/cimgraph/models/graph_model.py:78\u001b[0m, in \u001b[0;36mGraphModel.get_all_edges\u001b[0;34m(self, cim_class, graph)\u001b[0m\n\u001b[1;32m     76\u001b[0m     graph \u001b[39m=\u001b[39m \u001b[39mself\u001b[39m\u001b[39m.\u001b[39mgraph\n\u001b[1;32m     77\u001b[0m \u001b[39mif\u001b[39;00m cim_class \u001b[39min\u001b[39;00m graph:\n\u001b[0;32m---> 78\u001b[0m     \u001b[39mself\u001b[39;49m\u001b[39m.\u001b[39;49mconnection\u001b[39m.\u001b[39;49mget_all_edges(\u001b[39mself\u001b[39;49m\u001b[39m.\u001b[39;49mcontainer\u001b[39m.\u001b[39;49mmRID, graph, cim_class)\n\u001b[1;32m     79\u001b[0m \u001b[39melse\u001b[39;00m:\n\u001b[1;32m     80\u001b[0m     _log\u001b[39m.\u001b[39minfo(\u001b[39m'\u001b[39m\u001b[39mno instances of \u001b[39m\u001b[39m'\u001b[39m\u001b[39m+\u001b[39m\u001b[39mstr\u001b[39m(cim_class\u001b[39m.\u001b[39m\u001b[39m__name__\u001b[39m)\u001b[39m+\u001b[39m\u001b[39m'\u001b[39m\u001b[39m found in graph.\u001b[39m\u001b[39m'\u001b[39m)\n",
      "File \u001b[0;32m~/CIM-Graph/cimgraph/databases/rdflib/rdflib.py:94\u001b[0m, in \u001b[0;36mRDFlibConnection.get_all_edges\u001b[0;34m(self, container, graph, cim_class)\u001b[0m\n\u001b[1;32m     92\u001b[0m \u001b[39m#execute sparql query\u001b[39;00m\n\u001b[1;32m     93\u001b[0m query_output \u001b[39m=\u001b[39m \u001b[39mself\u001b[39m\u001b[39m.\u001b[39mexecute(sparql_message)\n\u001b[0;32m---> 94\u001b[0m \u001b[39mself\u001b[39;49m\u001b[39m.\u001b[39;49medge_query_parser(query_output, container, graph, cim_class)\n",
      "File \u001b[0;32m~/CIM-Graph/cimgraph/databases/rdflib/rdflib.py:140\u001b[0m, in \u001b[0;36mRDFlibConnection.edge_query_parser\u001b[0;34m(self, query_output, container, graph, cim_class)\u001b[0m\n\u001b[1;32m    137\u001b[0m     \u001b[39mself\u001b[39m\u001b[39m.\u001b[39mcreate_edge(graph, cim_class, mRID, attribute[\u001b[39m0\u001b[39m], edge_class, edge_mRID)\n\u001b[1;32m    139\u001b[0m \u001b[39melif\u001b[39;00m attribute[\u001b[39m1\u001b[39m] \u001b[39min\u001b[39;00m cim_class\u001b[39m.\u001b[39m__dataclass_fields__: \u001b[39m#check if second name is the attribute\u001b[39;00m\n\u001b[0;32m--> 140\u001b[0m     \u001b[39mself\u001b[39;49m\u001b[39m.\u001b[39;49mcreate_edge(graph, cim_class, mRID, attribute[\u001b[39m1\u001b[39;49m], edge_class, edge_mRID)\n\u001b[1;32m    142\u001b[0m \u001b[39melif\u001b[39;00m attribute[\u001b[39m0\u001b[39m]\u001b[39m+\u001b[39m\u001b[39m'\u001b[39m\u001b[39ms\u001b[39m\u001b[39m'\u001b[39m \u001b[39min\u001b[39;00m cim_class\u001b[39m.\u001b[39m__dataclass_fields__: \u001b[39m#check if attribute spelling is plural\u001b[39;00m\n\u001b[1;32m    143\u001b[0m     \u001b[39mself\u001b[39m\u001b[39m.\u001b[39mcreate_edge(graph, cim_class, mRID, attribute[\u001b[39m0\u001b[39m]\u001b[39m+\u001b[39m\u001b[39m'\u001b[39m\u001b[39ms\u001b[39m\u001b[39m'\u001b[39m, edge_class, edge_mRID)\n",
      "File \u001b[0;32m~/CIM-Graph/cimgraph/databases/rdflib/rdflib.py:176\u001b[0m, in \u001b[0;36mRDFlibConnection.create_edge\u001b[0;34m(self, graph, cim_class, mRID, attribute, edge_class, edge_mRID)\u001b[0m\n\u001b[1;32m    174\u001b[0m         \u001b[39msetattr\u001b[39m(graph[cim_class][mRID], attribute, obj_list)\n\u001b[1;32m    175\u001b[0m \u001b[39melse\u001b[39;00m:\n\u001b[0;32m--> 176\u001b[0m     \u001b[39msetattr\u001b[39m(graph[cim_class][mRID], attribute, edge_object)\n",
      "\u001b[0;31mKeyError\u001b[0m: '_0D55BF72-F120-4F78-BB1C-BEA724891508'"
     ]
    }
   ],
   "source": [
    "network.get_all_edges(cim.ACLineSegment)\n",
    "network.get_all_edges(cim.ACLineSegmentPhase)\n",
    "network.get_all_edges(cim.PerLengthPhaseImpedance)\n",
    "network.get_all_edges(cim.PhaseImpedanceData)\n",
    "network.get_all_edges(cim.WireSpacingInfo)\n",
    "network.get_all_edges(cim.WirePosition)\n",
    "network.get_all_edges(cim.OverheadWireInfo)\n",
    "network.get_all_edges(cim.ConcentricNeutralCableInfo)\n",
    "network.get_all_edges(cim.TapeShieldCableInfo)\n",
    "\n",
    "network.get_all_edges(cim.PowerTransformer)\n",
    "network.get_all_edges(cim.TransformerTank)\n",
    "network.get_all_edges(cim.TransformerTankEnd)\n",
    "network.get_all_edges(cim.TransformerTankInfo)\n",
    "network.get_all_edges(cim.TransformerEndInfo)\n",
    "network.get_all_edges(cim.PowerTransformerEnd)\n",
    "network.get_all_edges(cim.PowerTransformerInfo)\n",
    "network.get_all_edges(cim.TransformerCoreAdmittance)\n",
    "network.get_all_edges(cim.TransformerMeshImpedance)\n",
    "network.get_all_edges(cim.TransformerStarImpedance)\n",
    "network.get_all_edges(cim.ShortCircuitTest)\n",
    "network.get_all_edges(cim.NoLoadTest)\n",
    "network.get_all_edges(cim.RatioTapChanger)\n",
    "network.get_all_edges(cim.TapChanger)\n",
    "network.get_all_edges(cim.TapChangerControl)\n",
    "network.get_all_edges(cim.TapChangerInfo)\n",
    "\n",
    "\n",
    "network.get_all_edges(cim.EnergyConsumer)\n",
    "network.get_all_edges(cim.EnergyConsumerPhase)\n",
    "network.get_all_edges(cim.EnergySource)\n",
    "\n",
    "network.get_all_edges(cim.ConnectivityNode)\n",
    "network.get_all_edges(cim.Terminal)\n",
    "network.get_all_edges(cim.Location)\n",
    "network.get_all_edges(cim.PositionPoint)\n",
    "network.get_all_edges(cim.OperationalLimitSet)\n",
    "network.get_all_edges(cim.OperationalLimitType)\n",
    "network.get_all_edges(cim.VoltageLimit)\n",
    "network.get_all_edges(cim.CurrentLimit)\n",
    "network.get_all_edges(cim.Feeder)\n",
    "network.get_all_edges(cim.BaseVoltage)\n",
    "network.get_all_edges(cim.CoordinateSystem)"
   ]
  },
  {
   "cell_type": "code",
   "execution_count": null,
   "metadata": {},
   "outputs": [],
   "source": [
    "network.pprint(cim.ConnectivityNode)"
   ]
  },
  {
   "cell_type": "code",
   "execution_count": null,
   "metadata": {},
   "outputs": [],
   "source": [
    "from cimgraph.models.graph_model import new_mrid"
   ]
  },
  {
   "cell_type": "code",
   "execution_count": null,
   "metadata": {},
   "outputs": [],
   "source": [
    "new_mrid().upper()"
   ]
  },
  {
   "cell_type": "code",
   "execution_count": null,
   "metadata": {},
   "outputs": [],
   "source": []
  }
 ],
 "metadata": {
  "kernelspec": {
   "display_name": "Python 3",
   "language": "python",
   "name": "python3"
  },
  "language_info": {
   "codemirror_mode": {
    "name": "ipython",
    "version": 3
   },
   "file_extension": ".py",
   "mimetype": "text/x-python",
   "name": "python",
   "nbconvert_exporter": "python",
   "pygments_lexer": "ipython3",
   "version": "3.10.12"
  },
  "orig_nbformat": 4
 },
 "nbformat": 4,
 "nbformat_minor": 2
}
