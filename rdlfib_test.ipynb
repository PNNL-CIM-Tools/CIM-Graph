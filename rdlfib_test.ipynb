{
 "cells": [
  {
   "cell_type": "code",
   "execution_count": 16,
   "metadata": {},
   "outputs": [
    {
     "data": {
      "text/plain": [
       "<Graph identifier=Ne8786bb761e140a887f80290f48165f1 (<class 'rdflib.graph.Graph'>)>"
      ]
     },
     "execution_count": 16,
     "metadata": {},
     "output_type": "execute_result"
    }
   ],
   "source": [
    "# This only works for new urn:uuid models from feature/SETO branch and latest OpenDSS!\n",
    "\n",
    "from rdflib import Graph, Namespace\n",
    "from rdflib.namespace import RDF\n",
    "\n",
    "cim_ns = Namespace(\"http://iec.ch/TC57/CIM100#\")\n",
    "\n",
    "file = \"IEEE13\"\n",
    "g = Graph()\n",
    "g.parse(\"/home/ande188/Powergrid-Models/platform/cimxml/%s.xml\"%file)\n",
    "g.bind(\"cim\", cim_ns)\n",
    "g.bind(\"rdf\", RDF)\n",
    "\n",
    "g.serialize(destination=\"%s.ttl\"%file)"
   ]
  },
  {
   "cell_type": "code",
   "execution_count": 14,
   "metadata": {},
   "outputs": [
    {
     "name": "stdout",
     "output_type": "stream",
     "text": [
      "3392\n"
     ]
    }
   ],
   "source": []
  },
  {
   "cell_type": "code",
   "execution_count": 7,
   "metadata": {},
   "outputs": [],
   "source": [
    "from rdflib import Graph, Namespace\n",
    "\n",
    "\n",
    "\n",
    "\n",
    "g.bind(\"cim\", cim_ns)\n",
    "g.bind(\"rdf\", rdf_ns)"
   ]
  },
  {
   "cell_type": "code",
   "execution_count": null,
   "metadata": {},
   "outputs": [],
   "source": []
  }
 ],
 "metadata": {
  "kernelspec": {
   "display_name": "Python 3",
   "language": "python",
   "name": "python3"
  },
  "language_info": {
   "codemirror_mode": {
    "name": "ipython",
    "version": 3
   },
   "file_extension": ".py",
   "mimetype": "text/x-python",
   "name": "python",
   "nbconvert_exporter": "python",
   "pygments_lexer": "ipython3",
   "version": "3.10.12"
  },
  "orig_nbformat": 4
 },
 "nbformat": 4,
 "nbformat_minor": 2
}
