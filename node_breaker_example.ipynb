{
 "cells": [
  {
   "cell_type": "code",
   "execution_count": null,
   "metadata": {},
   "outputs": [],
   "source": [
    "import subprocess\n",
    "filename = \"/home/ande188/CIMExport.xml\"\n",
    "url = \"http://localhost:8889/bigdata/namespace/kb/sparql\"\n",
    "# subprocess.call([\"curl\", \"-s\", \"-D-\", \"-H\", \"Content-Type: application/xml\", \"--upload-file\", filename, \"-X\", \"Post\", url])\n"
   ]
  },
  {
   "cell_type": "code",
   "execution_count": null,
   "metadata": {},
   "outputs": [],
   "source": [
    "import importlib\n",
    "cim_profile = \"rc4_2021\"\n",
    "cim = importlib.import_module(\"cimgraph.data_profile.\" + cim_profile)"
   ]
  },
  {
   "cell_type": "code",
   "execution_count": null,
   "metadata": {},
   "outputs": [],
   "source": [
    "from cimgraph.databases import Parameter, ConnectionParameters\n",
    "from cimgraph.databases.blazegraph.blazegraph import BlazegraphConnection\n",
    "# from cimgraph.databases.gridappsd import GridappsdConnection, get_topology_response\n",
    "from cimgraph.models import NodeBreakerModel\n",
    "import json\n",
    "import time"
   ]
  },
  {
   "cell_type": "code",
   "execution_count": null,
   "metadata": {},
   "outputs": [],
   "source": [
    "params = ConnectionParameters(url = \"http://localhost:8889/bigdata/namespace/kb/sparql\",  cim_profile=cim_profile, \n",
    "                              iec61970_301=6,namespace=\"http://iec.ch/TC57/2011/CIM-schema-cim15#\")\n",
    "bg = BlazegraphConnection(params)"
   ]
  },
  {
   "cell_type": "code",
   "execution_count": null,
   "metadata": {},
   "outputs": [],
   "source": [
    "geo_region_id = \"_b68c7bbf-9b8e-46ee-84ce-c92793a57c9d\"\n",
    "geo_region = cim.GeographicalRegion(mRID = geo_region_id)"
   ]
  },
  {
   "cell_type": "code",
   "execution_count": null,
   "metadata": {},
   "outputs": [],
   "source": [
    "network = NodeBreakerModel(connection=bg, container=geo_region, distributed=False)\n",
    "network.add_to_graph(geo_region)"
   ]
  },
  {
   "cell_type": "code",
   "execution_count": null,
   "metadata": {},
   "outputs": [],
   "source": [
    "cim_class = cim.SubGeographicalRegion"
   ]
  },
  {
   "cell_type": "code",
   "execution_count": null,
   "metadata": {},
   "outputs": [],
   "source": [
    "network.get_all_edges(cim_class)\n",
    "network.pprint(cim_class)"
   ]
  },
  {
   "cell_type": "code",
   "execution_count": null,
   "metadata": {},
   "outputs": [],
   "source": [
    "feeder = {}\n",
    "feeder[\"container\"] = \"Feeder\"\n",
    "feeder[\"contains\"] = []\n",
    "\n",
    "bay = {}\n",
    "bay[\"container\"] = \"Bay\"\n",
    "bay[\"contains\"] = []\n",
    "\n",
    "vl_area = {}\n",
    "vl_area[\"container\"] = \"VoltageLevel\"\n",
    "vl_area[\"contains\"] = [{\"feeders\": feeder}, {\"bays\": bay}]\n",
    "\n",
    "sub_area = {}\n",
    "sub_area[\"container\"] = \"Substation\"\n",
    "sub_area[\"contains\"] = [{\"voltage_levels\": vl_area}]\n",
    "\n",
    "subregion = {}\n",
    "subregion[\"container\"] = \"SubGeographicalRegion\"\n",
    "subregion[\"contains\"] = [{\"substations\": sub_area}]\n",
    "\n",
    "region = {}\n",
    "region[\"container\"] = \"GeographicalRegion\"\n",
    "region[\"contains\"] = [{\"subregions\": subregion}]\n",
    "\n",
    "distributed_hierarchy = [{\"regions\": region}]\n",
    "\n",
    "print(json.dumps(distributed_hierarchy, indent=2))"
   ]
  },
  {
   "cell_type": "code",
   "execution_count": null,
   "metadata": {},
   "outputs": [],
   "source": [
    "feeder = {}\n",
    "feeder[\"container\"] = \"Feeder\"\n",
    "feeder[\"contains\"] = []\n",
    "\n",
    "bay = {}\n",
    "bay[\"container\"] = \"Bay\"\n",
    "bay[\"contains\"] = []\n",
    "\n",
    "vl_area = {}\n",
    "vl_area[\"container\"] = \"VoltageLevel\"\n",
    "vl_area[\"contains\"] = [feeder, bay]\n",
    "\n",
    "sub_area = {}\n",
    "sub_area[\"container\"] = \"Substation\"\n",
    "sub_area[\"contains\"] = [vl_area]\n",
    "\n",
    "subregion = {}\n",
    "subregion[\"container\"] = \"SubGeographicalRegion\"\n",
    "subregion[\"contains\"] = [sub_area]\n",
    "\n",
    "region = {}\n",
    "region[\"container\"] = \"GeographicalRegion\"\n",
    "region[\"contains\"] = [subregion]\n",
    "\n",
    "distributed_hierarchy = [region]\n",
    "\n",
    "print(json.dumps(distributed_hierarchy, indent=4))"
   ]
  },
  {
   "cell_type": "code",
   "execution_count": null,
   "metadata": {},
   "outputs": [],
   "source": [
    "network = NodeBreakerModel(connection=bg, container=geo_region, distributed=True, distributed_hierarchy=distributed_hierarchy)"
   ]
  },
  {
   "cell_type": "code",
   "execution_count": null,
   "metadata": {},
   "outputs": [],
   "source": [
    "\n",
    "for sr_area in network.distributed_areas[cim.SubGeographicalRegion].values():\n",
    "    print(\"subregion\", sr_area.container.name)\n",
    "    for sub_area in sr_area.distributed_areas[cim.Substation].values():\n",
    "        print(\"substation\", sub_area.container.name)\n",
    "        for vl_area in sub_area.distributed_areas[cim.VoltageLevel].values():\n",
    "            print(\"voltage level\", vl_area.container.name)\n",
    "            # vl_area.pprint(cim.ConnectivityNode)\n"
   ]
  },
  {
   "cell_type": "code",
   "execution_count": null,
   "metadata": {},
   "outputs": [],
   "source": [
    "len(network.distributed_areas[cim.SubGeographicalRegion])"
   ]
  },
  {
   "cell_type": "code",
   "execution_count": null,
   "metadata": {},
   "outputs": [],
   "source": [
    "feeder = {}\n",
    "feeder[\"container\"] = \"Feeder\"\n",
    "feeder[\"parent\"] = \"Feeder.NormalEnergizingSubstation\"\n",
    "feeder[\"children\"] = []\n",
    "\n",
    "bay = {}\n",
    "bay[\"container\"] = \"Bay\"\n",
    "bay[\"parent\"] = \"Bay.Substation\"\n",
    "bay[\"children\"] = []\n",
    "\n",
    "vl_area = {}\n",
    "vl_area[\"container\"] = \"VoltageLevel\"\n",
    "vl_area[\"parent\"] = \"VoltageLevel.Substation\"\n",
    "vl_area[\"children\"] = [feeder, bay]\n",
    "\n",
    "sub_area = {}\n",
    "sub_area[\"container\"] = \"Substation\"\n",
    "sub_area[\"parent\"] = \"Substation.Region\"\n",
    "sub_area[\"children\"] = [vl_area]\n",
    "\n",
    "subregion = {}\n",
    "subregion[\"container\"] = \"SubGeographicalRegion\"\n",
    "subregion[\"parent\"] = \"SubGeographicalRegion.Region\"\n",
    "subregion[\"contains\"] = [sub_area]\n",
    "\n",
    "region = {}\n",
    "region[\"container\"] = \"GeographicalRegion\"\n",
    "region[\"parent\"] = \"\"\n",
    "region[\"contains\"] = [subregion]\n",
    "\n",
    "distributed_hierarchy = [region]\n",
    "\n",
    "print(json.dumps(distributed_hierarchy, indent=4))"
   ]
  },
  {
   "cell_type": "code",
   "execution_count": null,
   "metadata": {},
   "outputs": [],
   "source": []
  }
 ],
 "metadata": {
  "kernelspec": {
   "display_name": ".venv",
   "language": "python",
   "name": "python3"
  },
  "language_info": {
   "codemirror_mode": {
    "name": "ipython",
    "version": 3
   },
   "file_extension": ".py",
   "mimetype": "text/x-python",
   "name": "python",
   "nbconvert_exporter": "python",
   "pygments_lexer": "ipython3",
   "version": "3.10.12"
  }
 },
 "nbformat": 4,
 "nbformat_minor": 2
}
